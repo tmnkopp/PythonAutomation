{
 "cells": [
  {
   "cell_type": "code",
   "execution_count": 150,
   "metadata": {},
   "outputs": [
    {
     "name": "stderr",
     "output_type": "stream",
     "text": [
      "\n",
      "\n",
      "====== WebDriver manager ======\n",
      "Current google-chrome version is 92.0.4515\n",
      "Get LATEST driver version for 92.0.4515\n",
      "Driver [C:\\Users\\Tim\\.wdm\\drivers\\chromedriver\\win32\\92.0.4515.107\\chromedriver.exe] found in cache\n"
     ]
    }
   ],
   "source": [
    " \n"
   ]
  },
  {
   "cell_type": "code",
   "execution_count": 133,
   "metadata": {},
   "outputs": [],
   "source": [
    "import json, subprocess, re, pyodbc, os, time, random\n",
    "from sqlalchemy import func, create_engine\n",
    "from bs4 import BeautifulSoup \n",
    "import numpy as np # linear algebra \n",
    "from config import mongoConn, connstr\n",
    "import nltk\n",
    "from nltk.corpus import stopwords\n",
    "sw=stopwords.words('english')\n",
    "import pandas as pd\n",
    "from splinter import Browser\n",
    "from webdriver_manager.chrome import ChromeDriverManager \n",
    "from selenium import webdriver\n",
    "from selenium.webdriver.common.by import By\n",
    "from selenium.webdriver.support.ui import WebDriverWait\n",
    "from selenium.webdriver.support import expected_conditions as EC\n",
    "import datetime as dt\n",
    "from datetime import date, timedelta"
   ]
  },
  {
   "cell_type": "code",
   "execution_count": 151,
   "metadata": {},
   "outputs": [
    {
     "name": "stderr",
     "output_type": "stream",
     "text": [
      "\n",
      "\n",
      "====== WebDriver manager ======\n",
      "Current google-chrome version is 92.0.4515\n",
      "Get LATEST driver version for 92.0.4515\n",
      "Driver [C:\\Users\\Tim\\.wdm\\drivers\\chromedriver\\win32\\92.0.4515.107\\chromedriver.exe] found in cache\n"
     ]
    }
   ],
   "source": [
    "# executable_path = {'executable_path': ChromeDriverManager().install()}\n",
    "driver = webdriver.Chrome(ChromeDriverManager().install())\n",
    "driver.get(\"https://www.google.com\")"
   ]
  },
  {
   "cell_type": "code",
   "execution_count": 116,
   "metadata": {
    "scrolled": false
   },
   "outputs": [
    {
     "name": "stderr",
     "output_type": "stream",
     "text": [
      "\n",
      "\n",
      "====== WebDriver manager ======\n",
      "Current google-chrome version is 92.0.4515\n",
      "Get LATEST driver version for 92.0.4515\n",
      "Driver [C:\\Users\\Tim\\.wdm\\drivers\\chromedriver\\win32\\92.0.4515.107\\chromedriver.exe] found in cache\n"
     ]
    }
   ],
   "source": [
    "with open('C:\\\\bom\\\\appsettings.json', encoding='utf-8-sig') as f:\n",
    "    config = json.load(f)\n",
    "pw = ''\n",
    "for s in config['contexts']:\n",
    "    if 'jira' in s['name']:\n",
    "        pw=re.search('password,(.*);c:submit;', s['conn']).group(1)   "
   ]
  },
  {
   "cell_type": "code",
   "execution_count": 173,
   "metadata": {
    "scrolled": true
   },
   "outputs": [],
   "source": [
    "\n",
    "def weeknum(dayname):\n",
    "    if dayname == 'Monday':   return 0\n",
    "    if dayname == 'Tuesday':  return 1\n",
    "    if dayname == 'Wednesday':return 2\n",
    "    if dayname == 'Thursday': return 3\n",
    "    if dayname == 'Friday':   return 4\n",
    "    if dayname == 'Saturday': return 5\n",
    "    if dayname == 'Sunday':   return 6\n",
    "def alldays(year, whichDayYouWant):\n",
    "    d = date(year, 1, 1)\n",
    "    d += timedelta(days = (weeknum(whichDayYouWant) - d.weekday()) % 7)\n",
    "    while d.year == year:\n",
    "        yield d\n",
    "        d += timedelta(days = 7)\n",
    "\n",
    "#for d in alldays(2021,'Monday'):\n",
    "    #print(d)"
   ]
  },
  {
   "cell_type": "code",
   "execution_count": 184,
   "metadata": {},
   "outputs": [],
   "source": [
    "# df = pd.read_csv(r'C:\\Users\\Tim\\Documents\\LOGS\\jira.csv')  \n",
    "def create_tasklog(df):\n",
    "    dff=pd.DataFrame()\n",
    "    df=df.copy()\n",
    "    df['task'] = df['Issue key'] + ' ' + df['Summary'] \n",
    "    df['date'] = pd.to_datetime(df['Created'] )\n",
    "    df['updated'] = pd.to_datetime(df['Updated'] )\n",
    "    df=df[['task','date', 'updated']] \n",
    "    today = dt.datetime.today().strftime(\"%m-%d-%Y\")  \n",
    "    curyear = pd.to_datetime(today).year \n",
    "    yr = 2021\n",
    "    dfs = []\n",
    "    lst = []  \n",
    "    for monday in alldays(yr,'Monday'):\n",
    "        dy = pd.to_datetime(monday).day\n",
    "        mo = pd.to_datetime(monday).month  \n",
    "        for d in pd.date_range(start=monday, periods=5, freq='D'): \n",
    "            for t in range(900, 1800, 100):   \n",
    "                if mo==12: \n",
    "                    dfd = df.loc[ (df.updated > pd.to_datetime(f'{yr}-{mo}-01')) & (df.updated < pd.to_datetime(f'{yr}-{mo}-30'))  ] \n",
    "                else:\n",
    "                    dfd = df.loc[ (df.updated > pd.to_datetime(f'{yr}-{mo}-01')) & (df.updated < pd.to_datetime(f'{yr}-{mo+1}-01'))  ] \n",
    "                if len(dfd) > 1: \n",
    "                    idx = random.randrange(len(dfd)-1) \n",
    "                    lst.append({'date': re.search('(.*)\\s.*'\n",
    "                                , str(d)).group(1), 'time': str(t) \n",
    "                                , 'task': dfd.iloc[idx].task }) \n",
    "        if len(lst) > 1:  \n",
    "            dfs.append({'date': str(monday), 'df': pd.DataFrame( lst )}) \n",
    "            pd.DataFrame(lst).to_csv(f'C:\\\\Users\\\\Tim\\\\Documents\\\\LOGS\\\\tasklog\\\\_{str(monday)}.csv', index=False)\n",
    "            dff=pd.concat([dff,pd.DataFrame(lst)])\n",
    "        lst = []\n",
    "    return dff"
   ]
  },
  {
   "cell_type": "code",
   "execution_count": 171,
   "metadata": {
    "scrolled": false
   },
   "outputs": [
    {
     "name": "stderr",
     "output_type": "stream",
     "text": [
      "\n",
      "\n",
      "====== WebDriver manager ======\n",
      "Current google-chrome version is 92.0.4515\n",
      "Get LATEST driver version for 92.0.4515\n",
      "Driver [C:\\Users\\Tim\\.wdm\\drivers\\chromedriver\\win32\\92.0.4515.107\\chromedriver.exe] found in cache\n"
     ]
    }
   ],
   "source": [
    "import os \n",
    "directory = r'C:\\Users\\Tim\\Downloads'\n",
    "for entry in os.scandir(directory):\n",
    "    if (\"JIRA\" in entry.path and entry.path.endswith(\"csv\")) and entry.is_file(): \n",
    "        os.remove(entry.path)  \n",
    "driver = webdriver.Chrome(ChromeDriverManager().install()) \n",
    "driver.implicitly_wait(5)\n",
    "driver.get(f\"https://dayman.cyber-balance.com/jira/login.jsp\")\n",
    "driver.find_element_by_css_selector('#login-form-username').send_keys('tim.kopp')\n",
    "driver.find_element_by_css_selector('#login-form-password').send_keys(pw)\n",
    "driver.find_element_by_css_selector('#login-form-submit').click()\n",
    "driver.get(f\"https://dayman.cyber-balance.com/jira/issues/?jql=assignee%20%3D%20currentUser()%20AND%20project%3DCyberScope\")\n",
    "driver.implicitly_wait(5)\n",
    "driver.find_element_by_css_selector('.header-operations').click()\n",
    "driver.find_element_by_css_selector('#currentCsvFields').click()\n",
    "driver.find_element_by_css_selector('#csv-export-dialog-export-button').click() \n",
    "# html=driver.page_source\n",
    "# driver.quit()\n",
    "# df = pd.read_html( html )[0]   \n",
    "# df"
   ]
  },
  {
   "cell_type": "code",
   "execution_count": 172,
   "metadata": {},
   "outputs": [
    {
     "name": "stdout",
     "output_type": "stream",
     "text": [
      "C:\\Users\\Tim\\Downloads\\CyberBalance JIRA 2021-08-23T15_40_21+0000.csv\n",
      "<class 'pandas.core.frame.DataFrame'>\n",
      "RangeIndex: 554 entries, 0 to 553\n",
      "Data columns (total 19 columns):\n",
      " #   Column               Non-Null Count  Dtype \n",
      "---  ------               --------------  ----- \n",
      " 0   Issue Type           554 non-null    object\n",
      " 1   Issue key            554 non-null    object\n",
      " 2   Issue id             554 non-null    int64 \n",
      " 3   Summary              554 non-null    object\n",
      " 4   Assignee             554 non-null    object\n",
      " 5   Reporter             554 non-null    object\n",
      " 6   Priority             554 non-null    object\n",
      " 7   Status               554 non-null    object\n",
      " 8   Resolution           512 non-null    object\n",
      " 9   Created              554 non-null    object\n",
      " 10  Updated              554 non-null    object\n",
      " 11  Due Date             1 non-null      object\n",
      " 12  Component/s          32 non-null     object\n",
      " 13  Project key          554 non-null    object\n",
      " 14  Project name         554 non-null    object\n",
      " 15  Project type         554 non-null    object\n",
      " 16  Project lead         554 non-null    object\n",
      " 17  Project description  554 non-null    object\n",
      " 18  Project url          554 non-null    object\n",
      "dtypes: int64(1), object(18)\n",
      "memory usage: 82.4+ KB\n"
     ]
    }
   ],
   "source": [
    "df=pd.DataFrame();\n",
    "for entry in os.scandir(directory):\n",
    "    if (\"JIRA\" in entry.path and entry.path.endswith(\"csv\")) and entry.is_file(): \n",
    "        print(entry.path)\n",
    "        df=pd.read_csv(entry.path)   \n",
    "dff = create_tasklog(df)\n",
    "dff"
   ]
  },
  {
   "cell_type": "code",
   "execution_count": 187,
   "metadata": {},
   "outputs": [
    {
     "data": {
      "text/html": [
       "<div>\n",
       "<style scoped>\n",
       "    .dataframe tbody tr th:only-of-type {\n",
       "        vertical-align: middle;\n",
       "    }\n",
       "\n",
       "    .dataframe tbody tr th {\n",
       "        vertical-align: top;\n",
       "    }\n",
       "\n",
       "    .dataframe thead th {\n",
       "        text-align: right;\n",
       "    }\n",
       "</style>\n",
       "<table border=\"1\" class=\"dataframe\">\n",
       "  <thead>\n",
       "    <tr style=\"text-align: right;\">\n",
       "      <th></th>\n",
       "      <th>date</th>\n",
       "      <th>time</th>\n",
       "      <th>task</th>\n",
       "    </tr>\n",
       "  </thead>\n",
       "  <tbody>\n",
       "    <tr>\n",
       "      <th>0</th>\n",
       "      <td>2021-01-04</td>\n",
       "      <td>900</td>\n",
       "      <td>CS-7845 Adjust Data Type and Validation for Me...</td>\n",
       "    </tr>\n",
       "    <tr>\n",
       "      <th>1</th>\n",
       "      <td>2021-01-04</td>\n",
       "      <td>1000</td>\n",
       "      <td>CS-7863 FY21 Risk Management Assessment Q1: Va...</td>\n",
       "    </tr>\n",
       "    <tr>\n",
       "      <th>2</th>\n",
       "      <td>2021-01-04</td>\n",
       "      <td>1100</td>\n",
       "      <td>CS-7899 BOD 18-02 POA&amp;M: Update Assessment \"Ty...</td>\n",
       "    </tr>\n",
       "    <tr>\n",
       "      <th>3</th>\n",
       "      <td>2021-01-04</td>\n",
       "      <td>1200</td>\n",
       "      <td>CS-7882 Adjust BOD 18-02 POA&amp;M Submission Stat...</td>\n",
       "    </tr>\n",
       "    <tr>\n",
       "      <th>4</th>\n",
       "      <td>2021-01-04</td>\n",
       "      <td>1300</td>\n",
       "      <td>CS-7880 BOD 18-02 POA&amp;M Pilot Feedback: Sectio...</td>\n",
       "    </tr>\n",
       "    <tr>\n",
       "      <th>...</th>\n",
       "      <td>...</td>\n",
       "      <td>...</td>\n",
       "      <td>...</td>\n",
       "    </tr>\n",
       "    <tr>\n",
       "      <th>40</th>\n",
       "      <td>2021-09-03</td>\n",
       "      <td>1300</td>\n",
       "      <td>CS-8433 FY21 Annual SAOP Data Call: Section 7 ...</td>\n",
       "    </tr>\n",
       "    <tr>\n",
       "      <th>41</th>\n",
       "      <td>2021-09-03</td>\n",
       "      <td>1400</td>\n",
       "      <td>CS-8428 FY21 Annual SAOP Data Call: Section 2 ...</td>\n",
       "    </tr>\n",
       "    <tr>\n",
       "      <th>42</th>\n",
       "      <td>2021-09-03</td>\n",
       "      <td>1500</td>\n",
       "      <td>CS-8422 FY21 Annual SAOP Data Call: Section 10...</td>\n",
       "    </tr>\n",
       "    <tr>\n",
       "      <th>43</th>\n",
       "      <td>2021-09-03</td>\n",
       "      <td>1600</td>\n",
       "      <td>CS-8419 FY21 Annual SAOP Data Call: Section 7 ...</td>\n",
       "    </tr>\n",
       "    <tr>\n",
       "      <th>44</th>\n",
       "      <td>2021-09-03</td>\n",
       "      <td>1700</td>\n",
       "      <td>CS-8416 FY21 Annual SAOP Data Call: Section 4 ...</td>\n",
       "    </tr>\n",
       "  </tbody>\n",
       "</table>\n",
       "<p>1575 rows × 3 columns</p>\n",
       "</div>"
      ],
      "text/plain": [
       "          date  time                                               task\n",
       "0   2021-01-04   900  CS-7845 Adjust Data Type and Validation for Me...\n",
       "1   2021-01-04  1000  CS-7863 FY21 Risk Management Assessment Q1: Va...\n",
       "2   2021-01-04  1100  CS-7899 BOD 18-02 POA&M: Update Assessment \"Ty...\n",
       "3   2021-01-04  1200  CS-7882 Adjust BOD 18-02 POA&M Submission Stat...\n",
       "4   2021-01-04  1300  CS-7880 BOD 18-02 POA&M Pilot Feedback: Sectio...\n",
       "..         ...   ...                                                ...\n",
       "40  2021-09-03  1300  CS-8433 FY21 Annual SAOP Data Call: Section 7 ...\n",
       "41  2021-09-03  1400  CS-8428 FY21 Annual SAOP Data Call: Section 2 ...\n",
       "42  2021-09-03  1500  CS-8422 FY21 Annual SAOP Data Call: Section 10...\n",
       "43  2021-09-03  1600  CS-8419 FY21 Annual SAOP Data Call: Section 7 ...\n",
       "44  2021-09-03  1700  CS-8416 FY21 Annual SAOP Data Call: Section 4 ...\n",
       "\n",
       "[1575 rows x 3 columns]"
      ]
     },
     "execution_count": 187,
     "metadata": {},
     "output_type": "execute_result"
    }
   ],
   "source": [
    "dff "
   ]
  },
  {
   "cell_type": "code",
   "execution_count": null,
   "metadata": {},
   "outputs": [],
   "source": [
    "driver = webdriver.Chrome(ChromeDriverManager().install()) \n",
    "driver.implicitly_wait(5)\n",
    "driver.get(f\"https://dayman.cyber-balance.com/jira/login.jsp\") \n",
    "driver.find_element_by_css_selector('#login-form-submit').click()\n",
    "driver.get(f\"https://dayman.cyber-balance.com/jira/issues/?jql=assignee%20%3D%20currentUser()%20AND%20project%3DCyberScope\")\n",
    "driver.implicitly_wait(5)\n",
    "driver.find_element_by_css_selector('.header-operations').click()\n",
    "driver.find_element_by_css_selector('#currentCsvFields').click()\n",
    "driver.find_element_by_css_selector('#csv-export-dialog-export-button').click() "
   ]
  }
 ],
 "metadata": {
  "kernelspec": {
   "display_name": "Python 3",
   "language": "python",
   "name": "python3"
  },
  "language_info": {
   "codemirror_mode": {
    "name": "ipython",
    "version": 3
   },
   "file_extension": ".py",
   "mimetype": "text/x-python",
   "name": "python",
   "nbconvert_exporter": "python",
   "pygments_lexer": "ipython3",
   "version": "3.8.8"
  }
 },
 "nbformat": 4,
 "nbformat_minor": 4
}
