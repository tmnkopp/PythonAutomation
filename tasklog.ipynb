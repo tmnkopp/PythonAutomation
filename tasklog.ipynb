{
 "cells": [
  {
   "cell_type": "code",
   "execution_count": null,
   "metadata": {},
   "outputs": [],
   "source": [
    "import json, subprocess, re, pyodbc, os, time, random\n",
    "from sqlalchemy import func, create_engine\n",
    "from bs4 import BeautifulSoup \n",
    "import numpy as np # linear algebra \n",
    "from config import mongoConn, connstr\n",
    "import nltk\n",
    "from nltk.corpus import stopwords\n",
    "sw=stopwords.words('english')\n",
    "import pandas as pd\n",
    "from splinter import Browser\n",
    "from webdriver_manager.chrome import ChromeDriverManager \n",
    "import datetime as dt\n",
    "from datetime import date, timedelta"
   ]
  },
  {
   "cell_type": "code",
   "execution_count": null,
   "metadata": {
    "scrolled": false
   },
   "outputs": [],
   "source": [
    "executable_path = {'executable_path': ChromeDriverManager().install()}"
   ]
  },
  {
   "cell_type": "code",
   "execution_count": null,
   "metadata": {},
   "outputs": [],
   "source": [
    "with open('C:\\\\bom\\\\appsettings.json', encoding='utf-8-sig') as f:\n",
    "    config = json.load(f)\n",
    "pw = ''\n",
    "for s in config['contexts']:\n",
    "    if 'jira' in s['name']:\n",
    "        pw=re.search('password,(.*);c:submit;', s['conn']).group(1)   "
   ]
  },
  {
   "cell_type": "code",
   "execution_count": null,
   "metadata": {},
   "outputs": [],
   "source": [
    "browser = Browser('chrome', **executable_path, headless=False)\n",
    "browser.visit(f\"https://dayman.cyber-balance.com/jira/login.jsp\")\n",
    "browser.find_by_css('#login-form-username').fill('tim.kopp')\n",
    "browser.find_by_css('#login-form-password').fill(pw)\n",
    "browser.find_by_css('#login-form-submit').click()\n",
    "html=browser.html"
   ]
  },
  {
   "cell_type": "code",
   "execution_count": null,
   "metadata": {
    "scrolled": true
   },
   "outputs": [],
   "source": [
    "\n",
    "def weeknum(dayname):\n",
    "    if dayname == 'Monday':   return 0\n",
    "    if dayname == 'Tuesday':  return 1\n",
    "    if dayname == 'Wednesday':return 2\n",
    "    if dayname == 'Thursday': return 3\n",
    "    if dayname == 'Friday':   return 4\n",
    "    if dayname == 'Saturday': return 5\n",
    "    if dayname == 'Sunday':   return 6\n",
    "def alldays(year, whichDayYouWant):\n",
    "    d = date(year, 1, 1)\n",
    "    d += timedelta(days = (weeknum(whichDayYouWant) - d.weekday()) % 7)\n",
    "    while d.year == year:\n",
    "        yield d\n",
    "        d += timedelta(days = 7)\n",
    "\n",
    "#for d in alldays(2021,'Monday'):\n",
    "    #print(d)"
   ]
  },
  {
   "cell_type": "code",
   "execution_count": null,
   "metadata": {},
   "outputs": [],
   "source": [
    "yr = 2021"
   ]
  },
  {
   "cell_type": "code",
   "execution_count": null,
   "metadata": {},
   "outputs": [],
   "source": [
    "df = pd.read_csv(r'C:\\Users\\Tim\\Documents\\LOGS\\jira.csv')  \n",
    "df['task'] = df['Issue key'] + ' ' + df['Summary'] \n",
    "df['date'] = pd.to_datetime(df['Created'] )\n",
    "df['updated'] = pd.to_datetime(df['Updated'] )\n",
    "df=df[['task','date', 'updated']] \n",
    "today = dt.datetime.today().strftime(\"%m-%d-%Y\")  \n",
    "curyear = pd.to_datetime(today).year \n",
    "dfs = []\n",
    "lst = []  \n",
    "for monday in alldays(yr,'Monday'):\n",
    "    dy = pd.to_datetime(monday).day\n",
    "    mo = pd.to_datetime(monday).month  \n",
    "    for d in pd.date_range(start=monday, periods=5, freq='D'): \n",
    "        for t in range(900, 1800, 100):   \n",
    "            if mo==12: \n",
    "                dfd = df.loc[ (df.updated > pd.to_datetime(f'{yr}-{mo}-01')) & (df.updated < pd.to_datetime(f'{yr}-{mo}-30'))  ] \n",
    "            else:\n",
    "                dfd = df.loc[ (df.updated > pd.to_datetime(f'{yr}-{mo}-01')) & (df.updated < pd.to_datetime(f'{yr}-{mo+1}-01'))  ] \n",
    "            if len(dfd) > 1: \n",
    "                idx = random.randrange(len(dfd)-1) \n",
    "                lst.append({'date': re.search('(.*)\\s.*'\n",
    "                            , str(d)).group(1), 'time': str(t) \n",
    "                            , 'task': dfd.iloc[idx].task }) \n",
    "    if len(lst) > 1:  \n",
    "        dfs.append({'date': str(monday), 'df': pd.DataFrame( lst )}) \n",
    "        pd.DataFrame(lst).to_csv(f'C:\\\\Users\\\\Tim\\\\Documents\\\\LOGS\\\\tasklog\\\\_{str(monday)}.csv', index=False)\n",
    "    lst = []"
   ]
  },
  {
   "cell_type": "code",
   "execution_count": null,
   "metadata": {},
   "outputs": [],
   "source": [
    "df_dates = pd.DataFrame(dfs).sort_values('date', ascending=False) "
   ]
  },
  {
   "cell_type": "code",
   "execution_count": null,
   "metadata": {},
   "outputs": [],
   "source": [
    "with pd.ExcelWriter(f'C:\\\\Users\\\\Tim\\\\Documents\\\\LOGS\\\\{yr}LOG.xlsx') as writer:    \n",
    "    for i, r in df_dates.iterrows():\n",
    "        r.df.to_excel(writer, sheet_name=f'{r.date}')  "
   ]
  },
  {
   "cell_type": "code",
   "execution_count": null,
   "metadata": {
    "scrolled": false
   },
   "outputs": [],
   "source": [
    "browser = Browser('chrome', **executable_path, headless=False)\n",
    "browser.visit(f\"https://dayman.cyber-balance.com/jira/login.jsp\")\n",
    "browser.find_by_css('#login-form-username').fill('tim.kopp')\n",
    "browser.find_by_css('#login-form-password').fill(pw)\n",
    "browser.find_by_css('#login-form-submit').click()\n",
    "browser.visit(f\"https://dayman.cyber-balance.com/jira/issues/?jql=assignee%20%3D%20currentUser()%20AND%20project%3DCyberScope\")\n",
    "time.sleep(4)\n",
    "html=browser.html\n",
    "df = pd.read_html( html )[0]  "
   ]
  },
  {
   "cell_type": "code",
   "execution_count": null,
   "metadata": {},
   "outputs": [],
   "source": [
    "soup = BeautifulSoup(html, 'html.parser')\n",
    "els = soup.select('.issue-table-container')    "
   ]
  }
 ],
 "metadata": {
  "kernelspec": {
   "display_name": "Python 3",
   "language": "python",
   "name": "python3"
  },
  "language_info": {
   "codemirror_mode": {
    "name": "ipython",
    "version": 3
   },
   "file_extension": ".py",
   "mimetype": "text/x-python",
   "name": "python",
   "nbconvert_exporter": "python",
   "pygments_lexer": "ipython3",
   "version": "3.8.8"
  }
 },
 "nbformat": 4,
 "nbformat_minor": 4
}
