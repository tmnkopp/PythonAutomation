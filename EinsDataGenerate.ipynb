{
 "cells": [
  {
   "cell_type": "code",
   "execution_count": 1,
   "metadata": {},
   "outputs": [],
   "source": [
    "import re, subprocess, pyodbc \n",
    "import numpy as np # linear algebra \n",
    "from sqlalchemy import func, create_engine\n",
    "from config import mongoConn, connstr  \n",
    "import pandas as pd\n",
    "from faker import Faker\n",
    "fake = Faker()"
   ]
  },
  {
   "cell_type": "code",
   "execution_count": 2,
   "metadata": {
    "scrolled": true
   },
   "outputs": [
    {
     "data": {
      "text/plain": [
       "'44.218.18.101'"
      ]
     },
     "execution_count": 2,
     "metadata": {},
     "output_type": "execute_result"
    }
   ],
   "source": [
    "def getip(): \n",
    "    return f\"{np.random.randint(1, 255)}.{np.random.randint(1, 255)}.{np.random.randint(1, 255)}.{np.random.randint(1, 255)}\"\n",
    "getip()"
   ]
  },
  {
   "cell_type": "code",
   "execution_count": 4,
   "metadata": {},
   "outputs": [
    {
     "name": "stdout",
     "output_type": "stream",
     "text": [
      "d['StartingIP'] = '246.242.76.180'\n",
      "d['EndingIP'] = '89.142.17.65'\n",
      "d['NamePurpose'] = '85.70.109.79'\n",
      "d['VisibleToEinstein'] = '24.181.220.171'\n",
      "d['ExternalOrganization'] = '113.149.43.85'\n"
     ]
    }
   ],
   "source": [
    "engine = create_engine(connstr)\n",
    "conn = engine.connect()\n",
    "query = \"\"\" \\\n",
    "SELECT TOP 1 * FROM EinsteinUnannounced\n",
    "\"\"\"  \n",
    "df = pd.read_sql(query,con=conn)  \n",
    "df.drop('PK_EinsteinUnannounced', axis=1, inplace=True)\n",
    "df.drop('PK_OrgSubmission', axis=1, inplace=True)\n",
    "df.drop('UserId', axis=1, inplace=True)\n",
    "df.drop('isActive', axis=1, inplace=True)\n",
    "df.drop('DateUploaded', axis=1, inplace=True)\n",
    "for c in df.columns:\n",
    "    print(f\"d['{c}'] = '{getip()}'\"  )\n",
    "\n",
    "conn.close() "
   ]
  },
  {
   "cell_type": "code",
   "execution_count": 6,
   "metadata": {},
   "outputs": [],
   "source": [
    "lst = []\n",
    "ln = 20\n",
    "for i in range(ln):\n",
    "    d={}\n",
    "    d['StartingIP'] = getip()\n",
    "    d['EndingIP'] = getip()   \n",
    "    #d['TIC_MTIPS'] = 'TIC'\n",
    "    d['NamePurpose'] =  fake.text()[:10] \n",
    "    #d['ISP'] = 'IBM' \n",
    "    #d['OtherISP'] = fake.text()[:10]\n",
    "    d['VisibleToEinstein'] = 'Yes' \n",
    "    d['ExternalOrganization'] = fake.text()[:25] \n",
    "    lst.append(d)\n",
    "df=pd.DataFrame(lst)\n",
    "df.to_excel(fr'c:\\temp\\EinsteinUnannounced_{ln}.xlsx', index=False)    \n"
   ]
  },
  {
   "cell_type": "code",
   "execution_count": null,
   "metadata": {},
   "outputs": [],
   "source": []
  }
 ],
 "metadata": {
  "kernelspec": {
   "display_name": "Python 3",
   "language": "python",
   "name": "python3"
  },
  "language_info": {
   "codemirror_mode": {
    "name": "ipython",
    "version": 3
   },
   "file_extension": ".py",
   "mimetype": "text/x-python",
   "name": "python",
   "nbconvert_exporter": "python",
   "pygments_lexer": "ipython3",
   "version": "3.8.8"
  }
 },
 "nbformat": 4,
 "nbformat_minor": 4
}
