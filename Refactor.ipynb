{
 "cells": [
  {
   "cell_type": "code",
   "execution_count": null,
   "metadata": {
    "scrolled": true
   },
   "outputs": [],
   "source": [
    "import pandas as pd \n",
    "import numpy as np # linear algebra \n",
    "import re, subprocess, pyodbc, os, sys, mmap \n",
    "from sqlalchemy import func, create_engine\n",
    "from config import mongoConn, connstr "
   ]
  },
  {
   "cell_type": "code",
   "execution_count": null,
   "metadata": {},
   "outputs": [],
   "source": [
    "s=''\n",
    "with open(r'D:\\dev\\CyberScope\\CyberScopeBranch\\CSwebdev\\code\\CyberScope\\HVA\\2021\\2021_A_HVA_2.aspx', 'r', encoding='utf-16' ) as file: \n",
    "  contents=str(file.read()) \n",
    "  contents=re.sub('[\\n|\\r]','~~',contents)  \n",
    "  rows=contents.split('<tr')\n",
    "  for row in rows:  \n",
    "    m = re.search(r'(.*\\d{1,2}\\_\\d{1,2}.*</tr>)', row)\n",
    "    if m:\n",
    "      row=m.group(1).replace('<td class=\"LabelNoWrap\"', '<td>&nbsp;</td><td class=\"LabelNoWrap\"')\n",
    "      row=row.replace('colspan=\"3\"', 'colspan=\"2\"')\n",
    "      #print(m.group(1))\n",
    "      contents=contents.replace(m.group(1),row) \n",
    "file.close()   \n",
    "contents=re.sub('~~','\\n',contents) \n"
   ]
  },
  {
   "cell_type": "code",
   "execution_count": null,
   "metadata": {
    "scrolled": true
   },
   "outputs": [],
   "source": [
    "print(contents)\n"
   ]
  },
  {
   "cell_type": "code",
   "execution_count": null,
   "metadata": {},
   "outputs": [],
   "source": []
  }
 ],
 "metadata": {
  "kernelspec": {
   "display_name": "Python 3",
   "language": "python",
   "name": "python3"
  },
  "language_info": {
   "codemirror_mode": {
    "name": "ipython",
    "version": 3
   },
   "file_extension": ".py",
   "mimetype": "text/x-python",
   "name": "python",
   "nbconvert_exporter": "python",
   "pygments_lexer": "ipython3",
   "version": "3.8.8"
  }
 },
 "nbformat": 4,
 "nbformat_minor": 4
}
