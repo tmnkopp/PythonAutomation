{
 "cells": [
  {
   "cell_type": "code",
   "execution_count": null,
   "metadata": {},
   "outputs": [],
   "source": [
    "import pandas as pd\n",
    "import numpy as np \n",
    "import re   \n",
    "import warnings\n",
    "warnings.filterwarnings('ignore')  \n",
    "import matplotlib.pyplot as plt\n",
    "import seaborn as sns\n",
    "from sklearn.preprocessing import minmax_scale \n",
    "sns.set(rc={'figure.figsize':(17,7)}) \n",
    "sns.set_theme(style=\"whitegrid\")"
   ]
  },
  {
   "cell_type": "code",
   "execution_count": null,
   "metadata": {},
   "outputs": [],
   "source": [
    "df=pd.read_csv(r'C:\\Users\\Tim\\Downloads\\dataSample1.csv')   \n",
    "df['M'] = df['Gender'].apply(lambda s: 1 if s==1 else 0 )\n",
    "df['F'] = df['Gender'].apply(lambda s: 1 if s==0 else 0 )\n",
    "df['Gender'] = df['Gender'].apply(lambda s: 'M' if s==1 else 'F' )\n",
    "df['AP'] = round( df['Purchase History ($)'] / df['Purchase History (#)'] , 2 ) \n",
    "dfb = df.loc[df['Buy']==1]\n",
    "dfnb = df.loc[df['Buy']==0] \n",
    "print('all')\n",
    "df[250:266]\n",
    "df  "
   ]
  },
  {
   "cell_type": "code",
   "execution_count": null,
   "metadata": {},
   "outputs": [],
   "source": [
    "df.agg(   { \n",
    "        \"Purchase History ($)\": [\"min\", \"max\", \"median\", \"skew\"], \n",
    "        \"Purchase History (#)\": [\"min\", \"max\", \"median\", \"skew\"],\n",
    "        \"Recency (Months)\": [\"min\", \"max\", \"median\", \"skew\"],\n",
    "        \"AP\": [\"min\", \"max\", \"median\", \"skew\"], \n",
    "    })"
   ]
  },
  {
   "cell_type": "code",
   "execution_count": null,
   "metadata": {},
   "outputs": [],
   "source": [
    "sns.histplot(data=df , x=\"AP\", bins=32 ) "
   ]
  },
  {
   "cell_type": "code",
   "execution_count": null,
   "metadata": {},
   "outputs": [],
   "source": [
    "print('all')\n",
    "sns.barplot(x=df['Gender'].value_counts().index, y=df['Gender'].value_counts())"
   ]
  },
  {
   "cell_type": "code",
   "execution_count": null,
   "metadata": {},
   "outputs": [],
   "source": [
    "print('non participant')\n",
    "sns.barplot(x=dfnb['Gender'].value_counts().index, y=dfnb['Gender'].value_counts())\n"
   ]
  },
  {
   "cell_type": "code",
   "execution_count": null,
   "metadata": {},
   "outputs": [],
   "source": [
    "print('participant')\n",
    "sns.barplot(x=dfb['Gender'].value_counts().index, y=dfb['Gender'].value_counts())"
   ]
  },
  {
   "cell_type": "code",
   "execution_count": null,
   "metadata": {},
   "outputs": [],
   "source": [
    "df_group_participants = dfb.groupby(['Recency (Months)', 'Gender' ], as_index=False).count() \n",
    "df_group = df.groupby(['Recency (Months)', 'Gender' ], as_index=False).count() "
   ]
  },
  {
   "cell_type": "code",
   "execution_count": null,
   "metadata": {},
   "outputs": [],
   "source": [
    "df_group_participants"
   ]
  },
  {
   "cell_type": "code",
   "execution_count": null,
   "metadata": {},
   "outputs": [],
   "source": [
    "sns.barplot(data=df_group , x=\"Recency (Months)\",  y='Buy', hue='Gender') "
   ]
  },
  {
   "cell_type": "code",
   "execution_count": null,
   "metadata": {},
   "outputs": [],
   "source": [
    "sns.barplot(data=df_group_participants , x=\"Recency (Months)\",  y='Buy', hue='Gender') "
   ]
  },
  {
   "cell_type": "code",
   "execution_count": null,
   "metadata": {},
   "outputs": [],
   "source": []
  }
 ],
 "metadata": {
  "kernelspec": {
   "display_name": "base",
   "language": "python",
   "name": "python3"
  },
  "language_info": {
   "codemirror_mode": {
    "name": "ipython",
    "version": 3
   },
   "file_extension": ".py",
   "mimetype": "text/x-python",
   "name": "python",
   "nbconvert_exporter": "python",
   "pygments_lexer": "ipython3",
   "version": "3.8.8"
  }
 },
 "nbformat": 4,
 "nbformat_minor": 2
}
