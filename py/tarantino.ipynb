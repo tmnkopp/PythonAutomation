{
 "cells": [
  {
   "attachments": {},
   "cell_type": "markdown",
   "metadata": {},
   "source": [
    "# The \"Tarantino Dataset\" by FiveThirtyEight \n",
    "### A Complete Catalog Of Every Time Someone Cursed Or Was Killed In A Quentin Tarantino Movie\n",
    "https://www.kaggle.com/datasets/fivethirtyeight/cuss-words-and-deaths-in-quentin-tarantino-films"
   ]
  },
  {
   "cell_type": "code",
   "execution_count": null,
   "metadata": {},
   "outputs": [],
   "source": [
    "import pandas as pd\n",
    "import numpy as np \n",
    "import re   \n",
    "import warnings\n",
    "warnings.filterwarnings('ignore')  \n",
    "import matplotlib.pyplot as plt\n",
    "import seaborn as sns\n",
    "from sklearn.preprocessing import minmax_scale \n",
    "sns.set(rc={'figure.figsize':(17,7)}) \n",
    "plt.style.use('fivethirtyeight') # "
   ]
  },
  {
   "cell_type": "code",
   "execution_count": null,
   "metadata": {},
   "outputs": [],
   "source": [
    "df=pd.read_csv('tarantino_csv.csv') \n",
    "df=df.fillna('') \n",
    "print(df.info())\n",
    "df "
   ]
  },
  {
   "cell_type": "code",
   "execution_count": null,
   "metadata": {},
   "outputs": [],
   "source": [
    "top_words=df.loc[df['type']=='word']['word'].value_counts()[:9] \n",
    "top_words"
   ]
  },
  {
   "cell_type": "code",
   "execution_count": null,
   "metadata": {},
   "outputs": [],
   "source": [
    "dfWords=df.loc[df['word'].isin(top_words.index)] \n",
    "dfWords.head()"
   ]
  },
  {
   "cell_type": "code",
   "execution_count": null,
   "metadata": {},
   "outputs": [],
   "source": [
    "wgroup=df.loc[df['type']=='word'].groupby('movie', as_index=False).count()\n",
    "wgroup['swears count']=wgroup['type']\n",
    "wgroup=wgroup[['movie','swears count']] \n",
    "wgroup.sort_values('swears count', ascending=False, inplace=True)\n",
    "\n",
    "sns.barplot(data=wgroup, x='movie', y='swears count')"
   ]
  },
  {
   "cell_type": "code",
   "execution_count": null,
   "metadata": {},
   "outputs": [],
   "source": [
    "sns.swarmplot(data=dfWords, x=\"minutes_in\", y=\"movie\", hue='word', size=3).set_title(\"SWEAR DISTRIBUTION\")"
   ]
  },
  {
   "cell_type": "code",
   "execution_count": null,
   "metadata": {},
   "outputs": [],
   "source": [
    "sns.histplot(data=df.loc[df['type']=='word'], x=\"minutes_in\", hue='movie', bins=35 ).set_title(\"SWEAR COUNTS HISTOGRAM\")"
   ]
  },
  {
   "cell_type": "code",
   "execution_count": null,
   "metadata": {},
   "outputs": [],
   "source": [
    "for w in dfWords['word'].unique(): \n",
    "    d = df.loc[df['word']==w] \n",
    "    plt.figure(w)\n",
    "    sns.boxplot(data=d , x='minutes_in', y='movie').set_title( f'\"{w.upper()}\" PER FILM')"
   ]
  },
  {
   "attachments": {},
   "cell_type": "markdown",
   "metadata": {},
   "source": [
    "# DEATH"
   ]
  },
  {
   "cell_type": "code",
   "execution_count": null,
   "metadata": {},
   "outputs": [],
   "source": [
    "group=df.loc[df['type']=='death'].groupby('movie', as_index=False).count()\n",
    "group.sort_values('type', inplace=True, ascending=False) \n",
    "group['death count']=group['type'] \n",
    "sns.barplot(data=group, y='death count', x='movie' )"
   ]
  },
  {
   "cell_type": "code",
   "execution_count": null,
   "metadata": {},
   "outputs": [],
   "source": [
    "death=df.loc[df['type']=='death']\n",
    "sns.swarmplot(data=death, x=\"minutes_in\", y=\"movie\").set_title('DEATH BY MINUTES IN')"
   ]
  },
  {
   "cell_type": "code",
   "execution_count": null,
   "metadata": {},
   "outputs": [],
   "source": [
    "sns.histplot(data=df.loc[df['type']=='death'], x=\"minutes_in\", hue='movie', bins=25 ).set_title(\"DEATH COUNTS ALL FILMS\")"
   ]
  },
  {
   "cell_type": "code",
   "execution_count": null,
   "metadata": {},
   "outputs": [],
   "source": [
    "sns.catplot(data=df, x=\"minutes_in\", y='type', kind='violin')"
   ]
  },
  {
   "cell_type": "code",
   "execution_count": null,
   "metadata": {},
   "outputs": [],
   "source": [
    "sns.swarmplot(data=df, x=\"minutes_in\", y='type').set_title('DEATH/SWEAR CORRELATION SCATTER')"
   ]
  },
  {
   "cell_type": "code",
   "execution_count": null,
   "metadata": {},
   "outputs": [],
   "source": [
    " \n",
    "sns.swarmplot(data=df, x=\"minutes_in\", y=\"movie\", hue='type').set_title('DEATH/SWEAR CORRELATION SCATTER')\n",
    " "
   ]
  },
  {
   "cell_type": "code",
   "execution_count": null,
   "metadata": {},
   "outputs": [],
   "source": [
    "dfn=df.copy()\n",
    "dfn['nminutes_in']=0\n",
    "for m in dfn.movie.unique():\n",
    "     d=dfn.loc[dfn.movie==m]\n",
    "     dfn.loc[dfn.movie==m,'nminutes_in'] = minmax_scale(d['minutes_in'], feature_range=(0,1)) "
   ]
  },
  {
   "cell_type": "code",
   "execution_count": null,
   "metadata": {},
   "outputs": [],
   "source": [
    "sns.swarmplot(data=dfn, x=\"nminutes_in\", y='movie', hue='type').set_title('NORMALIZED MINUTES IN')"
   ]
  },
  {
   "cell_type": "code",
   "execution_count": null,
   "metadata": {},
   "outputs": [],
   "source": [
    "sns.swarmplot(data=dfn, x=\"nminutes_in\", y='type' ).set_title('NORMALIZED MINUTES IN')\n",
    "sns.catplot(data=dfn, x=\"nminutes_in\", y='type', kind='violin' ) "
   ]
  }
 ],
 "metadata": {
  "kernelspec": {
   "display_name": "base",
   "language": "python",
   "name": "python3"
  },
  "language_info": {
   "codemirror_mode": {
    "name": "ipython",
    "version": 3
   },
   "file_extension": ".py",
   "mimetype": "text/x-python",
   "name": "python",
   "nbconvert_exporter": "python",
   "pygments_lexer": "ipython3",
   "version": "3.8.8"
  },
  "orig_nbformat": 4
 },
 "nbformat": 4,
 "nbformat_minor": 2
}
