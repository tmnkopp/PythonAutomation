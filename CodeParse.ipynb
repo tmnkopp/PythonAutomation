{
 "cells": [
  {
   "cell_type": "code",
   "execution_count": 1,
   "metadata": {},
   "outputs": [],
   "source": [
    "import json, subprocess, re, pyodbc, os\n",
    "from sqlalchemy import func, create_engine\n",
    "import numpy as np # linear algebra \n",
    "from config import mongoConn, connstr\n",
    "import nltk\n",
    "from nltk.corpus import stopwords\n",
    "sw=stopwords.words('english')\n",
    "from nltk.stem.porter import PorterStemmer\n",
    "ps=PorterStemmer()\n",
    "import pandas as pd\n",
    "from CodeGenerators import codegen"
   ]
  },
  {
   "cell_type": "code",
   "execution_count": null,
   "metadata": {},
   "outputs": [],
   "source": [
    "gen = codegen.encoder()\n",
    "gen.const_encoder('Has the as Languages technologies platforms is your web don&&&&&t we have web driver ')"
   ]
  },
  {
   "cell_type": "markdown",
   "metadata": {
    "scrolled": true
   },
   "source": [
    "engine = create_engine(connstr)\n",
    "conn = engine.connect()\n",
    "query = \"\"\" \\\n",
    "\tSELECT ID, QGROUP, QPK, MAX_Q_PK, QOFFSET, MAX_QG_PK, QGOFFSET, MAX_FK_Form,QTEXT, IdText\n",
    "\tFROM vw_MetricsCompositeKeys WHERE PK_Form = '2020-A-SAOP'   \n",
    "\"\"\" \n",
    "df = pd.read_sql(query,con=conn)     \n",
    "conn.close()"
   ]
  },
  {
   "cell_type": "code",
   "execution_count": null,
   "metadata": {},
   "outputs": [],
   "source": [
    "s = r'D:\\dev\\CyberScope\\CyberScopeBranch\\CSwebdev\\database\\Views'"
   ]
  },
  {
   "cell_type": "code",
   "execution_count": 13,
   "metadata": {
    "scrolled": false
   },
   "outputs": [
    {
     "data": {
      "text/html": [
       "<div>\n",
       "<style scoped>\n",
       "    .dataframe tbody tr th:only-of-type {\n",
       "        vertical-align: middle;\n",
       "    }\n",
       "\n",
       "    .dataframe tbody tr th {\n",
       "        vertical-align: top;\n",
       "    }\n",
       "\n",
       "    .dataframe thead th {\n",
       "        text-align: right;\n",
       "    }\n",
       "</style>\n",
       "<table border=\"1\" class=\"dataframe\">\n",
       "  <thead>\n",
       "    <tr style=\"text-align: right;\">\n",
       "      <th></th>\n",
       "    </tr>\n",
       "  </thead>\n",
       "  <tbody>\n",
       "  </tbody>\n",
       "</table>\n",
       "</div>"
      ],
      "text/plain": [
       "Empty DataFrame\n",
       "Columns: []\n",
       "Index: []"
      ]
     },
     "execution_count": 13,
     "metadata": {},
     "output_type": "execute_result"
    }
   ],
   "source": [
    "lst = []  \n",
    "ctx = ''\n",
    "# directory = r'D:\\dev\\CyberScope\\CyberScopeBranch\\CSwebdev\\code\\CyberScope\\CustomControls'\n",
    "directory = r'D:\\\\dev\\\\CyberScope\\\\CyberScopeBranch\\\\CSwebdev\\\\code\\\\CyberScope\\\\FismaForms\\\\'\n",
    "#dr = re.match('.*\\\\\\(.*)$', directory).group(1) \n",
    "ffilter = '.vb' \n",
    "paths = [f.path for f in os.scandir(directory) if ffilter in f.path ]  \n",
    " \n",
    "for p in paths: \n",
    "    with open(p, encoding=\"utf8\", errors='ignore', mode='r') as f: \n",
    "        c = f.read() \n",
    "        # while re.search('\\n\\n', c):\n",
    "        #    c = re.sub(\"\\n\\n\", '\\n', c)\n",
    "        ms = re.findall(f'{ctx}PickListMultiSelect{ctx}' , c ) \n",
    "        for m in ms:  \n",
    "            print(f'\\n{p}')\n",
    "            print(f'{m}')\n",
    "            lst.append({'p':p,'m':m })\n",
    "dff = pd.DataFrame(lst)  \n",
    "dff\n",
    "#vdff.to_csv(f'data/cs/assmt_find_{dr}_{ffilter}.csv', index=False)   "
   ]
  },
  {
   "cell_type": "code",
   "execution_count": 11,
   "metadata": {},
   "outputs": [
    {
     "ename": "AttributeError",
     "evalue": "'DataFrame' object has no attribute 'p'",
     "output_type": "error",
     "traceback": [
      "\u001b[1;31m---------------------------------------------------------------------------\u001b[0m",
      "\u001b[1;31mAttributeError\u001b[0m                            Traceback (most recent call last)",
      "\u001b[1;32m<ipython-input-11-595bdfda470f>\u001b[0m in \u001b[0;36m<module>\u001b[1;34m\u001b[0m\n\u001b[1;32m----> 1\u001b[1;33m \u001b[1;32mfor\u001b[0m \u001b[0mp\u001b[0m \u001b[1;32min\u001b[0m \u001b[0mdff\u001b[0m\u001b[1;33m.\u001b[0m\u001b[0mp\u001b[0m\u001b[1;33m.\u001b[0m\u001b[0munique\u001b[0m\u001b[1;33m(\u001b[0m\u001b[1;33m)\u001b[0m\u001b[1;33m:\u001b[0m\u001b[1;33m\u001b[0m\u001b[1;33m\u001b[0m\u001b[0m\n\u001b[0m\u001b[0;32m      2\u001b[0m     \u001b[0mprint\u001b[0m \u001b[1;33m(\u001b[0m\u001b[0mp\u001b[0m\u001b[1;33m)\u001b[0m\u001b[1;33m\u001b[0m\u001b[1;33m\u001b[0m\u001b[0m\n",
      "\u001b[1;32m~\\anaconda3\\lib\\site-packages\\pandas\\core\\generic.py\u001b[0m in \u001b[0;36m__getattr__\u001b[1;34m(self, name)\u001b[0m\n\u001b[0;32m   5463\u001b[0m             \u001b[1;32mif\u001b[0m \u001b[0mself\u001b[0m\u001b[1;33m.\u001b[0m\u001b[0m_info_axis\u001b[0m\u001b[1;33m.\u001b[0m\u001b[0m_can_hold_identifiers_and_holds_name\u001b[0m\u001b[1;33m(\u001b[0m\u001b[0mname\u001b[0m\u001b[1;33m)\u001b[0m\u001b[1;33m:\u001b[0m\u001b[1;33m\u001b[0m\u001b[1;33m\u001b[0m\u001b[0m\n\u001b[0;32m   5464\u001b[0m                 \u001b[1;32mreturn\u001b[0m \u001b[0mself\u001b[0m\u001b[1;33m[\u001b[0m\u001b[0mname\u001b[0m\u001b[1;33m]\u001b[0m\u001b[1;33m\u001b[0m\u001b[1;33m\u001b[0m\u001b[0m\n\u001b[1;32m-> 5465\u001b[1;33m             \u001b[1;32mreturn\u001b[0m \u001b[0mobject\u001b[0m\u001b[1;33m.\u001b[0m\u001b[0m__getattribute__\u001b[0m\u001b[1;33m(\u001b[0m\u001b[0mself\u001b[0m\u001b[1;33m,\u001b[0m \u001b[0mname\u001b[0m\u001b[1;33m)\u001b[0m\u001b[1;33m\u001b[0m\u001b[1;33m\u001b[0m\u001b[0m\n\u001b[0m\u001b[0;32m   5466\u001b[0m \u001b[1;33m\u001b[0m\u001b[0m\n\u001b[0;32m   5467\u001b[0m     \u001b[1;32mdef\u001b[0m \u001b[0m__setattr__\u001b[0m\u001b[1;33m(\u001b[0m\u001b[0mself\u001b[0m\u001b[1;33m,\u001b[0m \u001b[0mname\u001b[0m\u001b[1;33m:\u001b[0m \u001b[0mstr\u001b[0m\u001b[1;33m,\u001b[0m \u001b[0mvalue\u001b[0m\u001b[1;33m)\u001b[0m \u001b[1;33m->\u001b[0m \u001b[1;32mNone\u001b[0m\u001b[1;33m:\u001b[0m\u001b[1;33m\u001b[0m\u001b[1;33m\u001b[0m\u001b[0m\n",
      "\u001b[1;31mAttributeError\u001b[0m: 'DataFrame' object has no attribute 'p'"
     ]
    }
   ],
   "source": [
    "for p in dff.p.unique():\n",
    "    print (p)\n"
   ]
  },
  {
   "cell_type": "code",
   "execution_count": null,
   "metadata": {},
   "outputs": [],
   "source": [
    "dff.p.nunique()"
   ]
  },
  {
   "cell_type": "code",
   "execution_count": null,
   "metadata": {},
   "outputs": [],
   "source": [
    "with open('C:\\_som\\_cache.txt', 'r') as f:\n",
    "    parsed = json.load(f)\n",
    "dff = pd.DataFrame(parsed)     \n",
    "dff"
   ]
  },
  {
   "cell_type": "code",
   "execution_count": null,
   "metadata": {},
   "outputs": [],
   "source": [
    "d_re = {}\n",
    "d_re['PickListType'] = 'PK_PickListType=\"(\\d{1,4})\"' \n",
    "directory = r'C:\\_som\\_src\\_compile\\saop\\src'\n",
    "lst = [] \n",
    "for entry in os.scandir(directory):\n",
    "    if \"aspx\" in entry.path:\n",
    "        with open(entry.path, encoding='utf8') as f:\n",
    "            c = ''.join(f.readlines())  \n",
    "            d = {}\n",
    "            d['path']=entry.path\n",
    "            d['fn']=re.search('(\\d{4}_\\w{1}_\\w{1,8}_\\d{1,2})', entry.path).group(1)\n",
    "            d['ext']= re.search('\\.(.*)', entry.path).group(1)  \n",
    "            for k, v in d_re.items(): \n",
    "                d[k]=re.findall(v,c)\n",
    "            d['content']=c\n",
    "            lst.append(d) \n",
    "dff = pd.DataFrame(lst)        \n",
    "dff\n"
   ]
  },
  {
   "cell_type": "code",
   "execution_count": null,
   "metadata": {},
   "outputs": [],
   "source": [
    "t = \"\"\"\n",
    "Has the as Languages technologies platforms is your web don't we have web driver \n",
    "\"\"\"\n",
    "def enum_encode(t):\n",
    "    t = re.sub('[^A-Za-z0-9]', ' ', t ) \n",
    "    t = ' '.join([w[:15] for w in t.split(' ') if w not in sw])\n",
    "    #t = ' '.join([ps.stem(w) for w in t.split(' ')])\n",
    "    t = t.upper().strip()\n",
    "    t = re.sub('\\s', '_', t) \n",
    "    #t = re.sub('[AEIOU\\s]', '', t)  \n",
    "    return t\n",
    "enum_encode(t)"
   ]
  }
 ],
 "metadata": {
  "kernelspec": {
   "display_name": "Python 3",
   "language": "python",
   "name": "python3"
  },
  "language_info": {
   "codemirror_mode": {
    "name": "ipython",
    "version": 3
   },
   "file_extension": ".py",
   "mimetype": "text/x-python",
   "name": "python",
   "nbconvert_exporter": "python",
   "pygments_lexer": "ipython3",
   "version": "3.8.8"
  }
 },
 "nbformat": 4,
 "nbformat_minor": 4
}
