{
 "cells": [
  {
   "cell_type": "code",
   "execution_count": null,
   "metadata": {},
   "outputs": [],
   "source": [
    "import json, subprocess, re, pyodbc , os\n",
    "from sqlalchemy import func, create_engine\n",
    "import numpy as np # linear algebra  \n",
    "from config import mongoConn, connstr  \n",
    "import nltk\n",
    "from nltk.corpus import stopwords\n",
    "sw=stopwords.words('english')\n",
    "from nltk.stem.porter import PorterStemmer \n",
    "ps=PorterStemmer() \n",
    "import pandas as pd \n",
    "from CodeGenerators import codegen"
   ]
  },
  {
   "cell_type": "code",
   "execution_count": null,
   "metadata": {},
   "outputs": [],
   "source": [
    "gen = codegen.encoder()\n",
    "gen.const_encoder('Has the as Languages technologies platforms is your web don&&&&&t we have web driver ')"
   ]
  },
  {
   "cell_type": "markdown",
   "metadata": {
    "scrolled": true
   },
   "source": [
    "engine = create_engine(connstr)\n",
    "conn = engine.connect()\n",
    "query = \"\"\" \\\n",
    "\tSELECT ID, QGROUP, QPK, MAX_Q_PK, QOFFSET, MAX_QG_PK, QGOFFSET, MAX_FK_Form,QTEXT, IdText\n",
    "\tFROM vw_MetricsCompositeKeys WHERE PK_Form = '2020-A-SAOP'   \n",
    "\"\"\" \n",
    "df = pd.read_sql(query,con=conn)     \n",
    "conn.close()"
   ]
  },
  {
   "cell_type": "code",
   "execution_count": null,
   "metadata": {},
   "outputs": [],
   "source": [
    "s = r'D:\\dev\\CyberScope\\CyberScopeBranch\\CSwebdev\\database\\Views'\n"
   ]
  },
  {
   "cell_type": "code",
   "execution_count": null,
   "metadata": {
    "scrolled": false
   },
   "outputs": [],
   "source": [
    "lst = []  \n",
    "ctx = '.*\\n.*'\n",
    "# directory = r'D:\\dev\\CyberScope\\CyberScopeBranch\\CSwebdev\\code\\CyberScope\\CustomControls'\n",
    "directory = r'D:\\dev\\CyberScope\\CyberScopeBranch\\CSwebdev\\database\\Sprocs'\n",
    "dr = re.match('.*\\\\\\(.*)$', s).group(1) \n",
    "ffilter = 'sql' \n",
    "paths = [f.path for f in os.scandir(directory) if ffilter in f.path ]  \n",
    "for p in paths: \n",
    "    with open(p, encoding=\"utf8\", errors='ignore', mode='r') as f: \n",
    "        c = f.read() \n",
    "        while re.search('\\n\\n', c):\n",
    "            c = re.sub(\"\\n\\n\", '\\n', c)\n",
    "        ms = re.findall(f'{ctx}AssmtFinding{ctx}' , c )\n",
    "        for m in ms:  \n",
    "            print(f'\\n{p}')\n",
    "            print(f'{m}')\n",
    "            lst.append({'p':p,'m':m })\n",
    "dff = pd.DataFrame(lst)  \n",
    "dff.to_csv(f'data/cs/assmt_find_{dr}_{ffilter}.csv', index=False)   "
   ]
  },
  {
   "cell_type": "code",
   "execution_count": null,
   "metadata": {},
   "outputs": [],
   "source": [
    " "
   ]
  },
  {
   "cell_type": "code",
   "execution_count": null,
   "metadata": {},
   "outputs": [],
   "source": [
    "for p in dff.p.unique():\n",
    "    print (p)\n"
   ]
  },
  {
   "cell_type": "code",
   "execution_count": null,
   "metadata": {},
   "outputs": [],
   "source": [
    "lst = [] \n",
    "ctx = '.*\\n.*\\n.*\\n.*\\n.*'\n",
    "directory = r'D:\\dev\\CyberScope\\CyberScopeBranch\\CSwebdev\\database\\Sprocs'\n",
    "for entry in os.scandir(directory):\n",
    "    with open(entry.path, encoding=\"utf8\", errors='ignore') as f: \n",
    "        c = re.sub(\".*--.*\", '', f.read())         \n",
    "        while re.search('\\n\\n', c):\n",
    "            c = re.sub(\"\\n\\n\", '\\n', c)\n",
    "        ms = re.findall(f'{ctx}fsma_OrgSubHVAMap{ctx}' , c )\n",
    "        for m in ms: \n",
    "            lst.append( {'p':entry.path, 'r': m } )    \n",
    "dff = pd.DataFrame(lst)  \n",
    "\n",
    "with open('C:\\_som\\_cache.txt', 'w') as f:\n",
    "    f.write(json.dumps(lst, indent=4, sort_keys=True))\n",
    "    \n"
   ]
  },
  {
   "cell_type": "code",
   "execution_count": null,
   "metadata": {},
   "outputs": [],
   "source": [
    "dff.p.nunique()"
   ]
  },
  {
   "cell_type": "code",
   "execution_count": null,
   "metadata": {},
   "outputs": [],
   "source": [
    "with open('C:\\_som\\_cache.txt', 'r') as f:\n",
    "    parsed = json.load(f)\n",
    "dff = pd.DataFrame(parsed)     \n",
    "dff"
   ]
  },
  {
   "cell_type": "code",
   "execution_count": null,
   "metadata": {},
   "outputs": [],
   "source": [
    "d_re = {}\n",
    "d_re['PickListType'] = 'PK_PickListType=\"(\\d{1,4})\"' \n",
    "directory = r'C:\\_som\\_src\\_compile\\saop\\src'\n",
    "lst = [] \n",
    "for entry in os.scandir(directory):\n",
    "    if \"aspx\" in entry.path:\n",
    "        with open(entry.path, encoding='utf8') as f:\n",
    "            c = ''.join(f.readlines())  \n",
    "            d = {}\n",
    "            d['path']=entry.path\n",
    "            d['fn']=re.search('(\\d{4}_\\w{1}_\\w{1,8}_\\d{1,2})', entry.path).group(1)\n",
    "            d['ext']= re.search('\\.(.*)', entry.path).group(1)  \n",
    "            for k, v in d_re.items(): \n",
    "                d[k]=re.findall(v,c)\n",
    "            d['content']=c\n",
    "            lst.append(d) \n",
    "dff = pd.DataFrame(lst)        \n",
    "dff\n"
   ]
  },
  {
   "cell_type": "code",
   "execution_count": null,
   "metadata": {},
   "outputs": [],
   "source": [
    "t = \"\"\"\n",
    "Has the as Languages technologies platforms is your web don't we have web driver \n",
    "\"\"\"\n",
    "def enum_encode(t):\n",
    "    t = re.sub('[^A-Za-z0-9]', ' ', t ) \n",
    "    t = ' '.join([w[:15] for w in t.split(' ') if w not in sw])\n",
    "    #t = ' '.join([ps.stem(w) for w in t.split(' ')])\n",
    "    t = t.upper().strip()\n",
    "    t = re.sub('\\s', '_', t) \n",
    "    #t = re.sub('[AEIOU\\s]', '', t)  \n",
    "    return t\n",
    "enum_encode(t)"
   ]
  }
 ],
 "metadata": {
  "kernelspec": {
   "display_name": "Python 3",
   "language": "python",
   "name": "python3"
  },
  "language_info": {
   "codemirror_mode": {
    "name": "ipython",
    "version": 3
   },
   "file_extension": ".py",
   "mimetype": "text/x-python",
   "name": "python",
   "nbconvert_exporter": "python",
   "pygments_lexer": "ipython3",
   "version": "3.8.8"
  }
 },
 "nbformat": 4,
 "nbformat_minor": 4
}
