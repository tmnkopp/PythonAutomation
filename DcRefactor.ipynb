{
 "cells": [
  {
   "cell_type": "code",
   "execution_count": null,
   "metadata": {},
   "outputs": [],
   "source": [
    "import pandas as pd\n",
    "import re, subprocess, pyodbc , os\n",
    "import numpy as np # linear algebra \n",
    "from sqlalchemy import func, create_engine\n",
    "from config import mongoConn, connstr  \n",
    "import nltk\n",
    "from nltk.corpus import stopwords\n",
    "from nltk.stem.porter import PorterStemmer\n",
    "sw=stopwords.words('english')\n",
    "ps=PorterStemmer()\n",
    "import json "
   ]
  },
  {
   "cell_type": "code",
   "execution_count": null,
   "metadata": {
    "scrolled": true
   },
   "outputs": [],
   "source": [
    "engine = create_engine(connstr)\n",
    "conn = engine.connect()\n",
    "query = \"\"\" \\\n",
    "\tSELECT ID, QGROUP, QPK, MAX_Q_PK, QOFFSET, MAX_QG_PK, QGOFFSET, MAX_FK_Form,QTEXT, IdText\n",
    "\tFROM vw_MetricsCompositeKeys WHERE PK_Form = '2020-A-SAOP'   \n",
    "\"\"\" \n",
    "df = pd.read_sql(query,con=conn)     \n",
    "conn.close()"
   ]
  },
  {
   "cell_type": "code",
   "execution_count": null,
   "metadata": {},
   "outputs": [],
   "source": [
    "engine = create_engine(connstr)\n",
    "conn = engine.connect()\n",
    "query = \"\"\" \\\n",
    "    SELECT  *FROM vwPickLists\n",
    "    WHERE PK_PickListType IN (100,101,102,103,104,105,106,113,114,164,165,166)   \n",
    "\"\"\" \n",
    "df_pt = pd.read_sql(query,con=conn) \n",
    "conn.close()\n",
    "df_pt.head(1)"
   ]
  },
  {
   "cell_type": "code",
   "execution_count": null,
   "metadata": {},
   "outputs": [],
   "source": [
    "d = {str(k) : str(k+650) for k in df.QGROUP.unique()  } \n",
    "QGOFFSET = 0\n",
    "QPK = 24500 \n",
    "for i,r in df.iterrows():      \n",
    "    if QGOFFSET != r.QGOFFSET:\n",
    "        QGOFFSET = r.QGOFFSET\n",
    "        QPK += 24\n",
    "    d[str(r.QPK)]= str(QPK)\n",
    "    QPK+=1  "
   ]
  },
  {
   "cell_type": "code",
   "execution_count": null,
   "metadata": {},
   "outputs": [],
   "source": [
    "with open(\"C:\\_som\\_src\\_compile\\saop\\keyval.json\", \"w\") as f: \n",
    "    json.dump(d, f, indent=4)"
   ]
  },
  {
   "cell_type": "code",
   "execution_count": null,
   "metadata": {},
   "outputs": [],
   "source": [
    "d_re = {}\n",
    "d_re['PickListType'] = 'PK_PickListType=\"(\\d{1,4})\"' \n",
    "directory = r'C:\\_som\\_src\\_compile\\saop\\src'\n",
    "lst = [] \n",
    "for entry in os.scandir(directory):\n",
    "    if \"aspx\" in entry.path:\n",
    "        with open(entry.path, encoding='utf8') as f:\n",
    "            c = ''.join(f.readlines())  \n",
    "            d = {}\n",
    "            d['path']=entry.path\n",
    "            d['fn']=re.search('(\\d{4}_\\w{1}_\\w{1,8}_\\d{1,2})', entry.path).group(1)\n",
    "            d['ext']= re.search('\\.(.*)', entry.path).group(1)  \n",
    "            for k, v in d_re.items(): \n",
    "                d[k]=re.findall(v,c)\n",
    "            d['content']=c\n",
    "            lst.append(d) \n",
    "dff = pd.DataFrame(lst)        \n",
    "dff\n"
   ]
  },
  {
   "cell_type": "code",
   "execution_count": null,
   "metadata": {},
   "outputs": [],
   "source": [
    "engine = create_engine(connstr)\n",
    "conn = engine.connect()\n",
    "query = \"\"\"\\\n",
    "SELECT PK_PickList, PK_PickListType, DisplayValue, CodeValue, SortPos, Description, UsageField FROM vwPickLists\n",
    "WHERE PK_PickListType IN (100,101,102,103,104,105,106,113,114,164,165,166)\n",
    "\"\"\"  \n",
    "dfpicks = pd.read_sql(query,con=conn) \n",
    "UsageField=dfpicks.iloc[0]['UsageField']\n",
    "s=f\"\\n\"  \n",
    "for i,r in dfpicks.iterrows():\n",
    "    UsageField = r.UsageField\n",
    "    s = s + f\"\\tDECLARE @PICK_{UsageField}_{r.CodeValue} INT = {str(r.PK_PickList)}\\n\" \n",
    "print(s)\n",
    "conn.close()"
   ]
  },
  {
   "cell_type": "code",
   "execution_count": null,
   "metadata": {},
   "outputs": [],
   "source": [
    "engine = create_engine(connstr)\n",
    "conn = engine.connect()\n",
    "query = \"\"\"\\\n",
    "SELECT PK_PickList, PK_PickListType, DisplayValue, CodeValue, SortPos, Description, UsageField FROM vwPickLists\n",
    "WHERE PK_PickListType IN (100,101,102,103,104,105,106,113,114,164,165,166)\n",
    "\"\"\" \n",
    " \n",
    "dfpicks = pd.read_sql(query,con=conn) \n",
    "UsageField=dfpicks.iloc[0]['UsageField']\n",
    "s=f\"\\n\"\n",
    "s = s + f\"Enum PICK_{UsageField} \\t'{dfpicks.iloc[0]['Description']}-{dfpicks.iloc[0]['PK_PickListType']}\\n\"\n",
    "for i,r in dfpicks.iterrows():\n",
    "    if UsageField != dfpicks.iloc[i]['UsageField']:\n",
    "        UsageField=dfpicks.iloc[i]['UsageField']\n",
    "        s = s + f\"End Enum\\n\"\n",
    "        s = s + f\"Enum PICK_{UsageField} \\t'{dfpicks.iloc[i]['Description']}-{dfpicks.iloc[i]['PK_PickListType']}\\n\"\n",
    "    s = s + f\"\\t{r.CodeValue} = {str(r.PK_PickList)} \\t'{str(r.DisplayValue)[:25]}\\n\" \n",
    "s=s+\"End Enum\\n\"\n",
    "print(s)\n",
    "conn.close()"
   ]
  },
  {
   "cell_type": "code",
   "execution_count": null,
   "metadata": {
    "scrolled": true
   },
   "outputs": [],
   "source": [
    "t = \"\"\"\n",
    "Has the as Languages technologies platforms is your web don't we have web driver \n",
    "\"\"\"\n",
    "def encode(t):\n",
    "    t = re.sub('[^A-Za-z0-9]', ' ', t ) \n",
    "    t = ' '.join([w for w in t.split(' ') if w not in sw])\n",
    "    #t = ' '.join([ps.stem(w) for w in t.split(' ')])\n",
    "    t = t.upper()\n",
    "    t = re.sub('[AEIOU\\s]', '', t)  \n",
    "    return t\n",
    "encode(t)"
   ]
  },
  {
   "cell_type": "code",
   "execution_count": null,
   "metadata": {},
   "outputs": [],
   "source": [
    "dfid = df\n",
    "dfid.replace(\"\", np.NaN, inplace=True) \n",
    "dfid.dropna(subset = [\"IdText\"], inplace=True)\n",
    "dfid['QHASH'] = dfid.QTEXT.apply(encode)  "
   ]
  }
 ],
 "metadata": {
  "kernelspec": {
   "display_name": "Python 3",
   "language": "python",
   "name": "python3"
  },
  "language_info": {
   "codemirror_mode": {
    "name": "ipython",
    "version": 3
   },
   "file_extension": ".py",
   "mimetype": "text/x-python",
   "name": "python",
   "nbconvert_exporter": "python",
   "pygments_lexer": "ipython3",
   "version": "3.8.8"
  }
 },
 "nbformat": 4,
 "nbformat_minor": 4
}
