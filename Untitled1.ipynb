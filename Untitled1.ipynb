{
 "cells": [
  {
   "cell_type": "code",
   "execution_count": 1,
   "id": "65cea8af",
   "metadata": {},
   "outputs": [
    {
     "name": "stdout",
     "output_type": "stream",
     "text": [
      "Requirement already satisfied: pdfminer.six in c:\\users\\tim\\anaconda3\\lib\\site-packages (20220506)\n",
      "Requirement already satisfied: cryptography~=36.0.0 in c:\\users\\tim\\anaconda3\\lib\\site-packages (from pdfminer.six) (36.0.2)\n",
      "Requirement already satisfied: charset-normalizer~=2.0.0 in c:\\users\\tim\\anaconda3\\lib\\site-packages (from pdfminer.six) (2.0.12)\n",
      "Requirement already satisfied: cffi>=1.12 in c:\\users\\tim\\anaconda3\\lib\\site-packages (from cryptography~=36.0.0->pdfminer.six) (1.14.5)\n",
      "Requirement already satisfied: pycparser in c:\\users\\tim\\anaconda3\\lib\\site-packages (from cffi>=1.12->cryptography~=36.0.0->pdfminer.six) (2.20)\n",
      "Note: you may need to restart the kernel to use updated packages.\n"
     ]
    }
   ],
   "source": [
    "pip install pdfminer.six"
   ]
  },
  {
   "cell_type": "code",
   "execution_count": null,
   "id": "b9b6e924",
   "metadata": {},
   "outputs": [],
   "source": []
  }
 ],
 "metadata": {
  "kernelspec": {
   "display_name": "Python 3",
   "language": "python",
   "name": "python3"
  },
  "language_info": {
   "codemirror_mode": {
    "name": "ipython",
    "version": 3
   },
   "file_extension": ".py",
   "mimetype": "text/x-python",
   "name": "python",
   "nbconvert_exporter": "python",
   "pygments_lexer": "ipython3",
   "version": "3.8.8"
  }
 },
 "nbformat": 4,
 "nbformat_minor": 5
}
