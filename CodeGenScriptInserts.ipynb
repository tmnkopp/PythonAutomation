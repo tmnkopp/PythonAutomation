{
 "cells": [
  {
   "cell_type": "code",
   "execution_count": null,
   "metadata": {},
   "outputs": [],
   "source": [
    "import pandas as pd\n",
    "import re, subprocess, pyodbc \n",
    "import numpy as np # linear algebra \n",
    "from sqlalchemy import func, create_engine\n",
    "from config import mongoConn, connstr  "
   ]
  },
  {
   "cell_type": "code",
   "execution_count": null,
   "metadata": {},
   "outputs": [],
   "source": [
    "df = pd.DataFrame(\n",
    "[\n",
    "    {\"k\":10},\n",
    "    {\"k\":5},\n",
    "    {\"k\":1}\n",
    "]\n",
    ")\n",
    "df.k  > 4"
   ]
  },
  {
   "cell_type": "code",
   "execution_count": null,
   "metadata": {},
   "outputs": [],
   "source": [
    "lst = [True, False, True]\n",
    "df = pd.DataFrame(\n",
    "[\n",
    "    {\"k\":10},\n",
    "    {\"k\":5},\n",
    "    {\"k\":1}\n",
    "]\n",
    ")\n",
    "df.loc[ df.k  > 4 ]"
   ]
  },
  {
   "cell_type": "code",
   "execution_count": null,
   "metadata": {},
   "outputs": [],
   "source": [
    "def processdf(df):\n",
    "    df = df.fillna('~') \n",
    "    df.QTEXT = df.QTEXT.apply( lambda x: x.replace('~',',') )\n",
    "    df.QTEXT = df.QTEXT.apply( lambda x: x.replace('\" ','').replace('\"','') )\n",
    "    return df"
   ]
  },
  {
   "cell_type": "code",
   "execution_count": null,
   "metadata": {
    "scrolled": true
   },
   "outputs": [],
   "source": [
    "df = pd.read_csv(fr'C:\\Users\\Tim\\Documents\\20-01\\metrics.csv') \n",
    "df = processdf(df)  \n",
    "df_mas = df"
   ]
  },
  {
   "cell_type": "code",
   "execution_count": null,
   "metadata": {},
   "outputs": [],
   "source": [
    "sql = ''\n",
    "aspx = ''  \n",
    "dlist = []\n",
    "for i, r in df[:].iterrows():\n",
    "    QPK = QPK + 1 \n",
    "    r.ID = str(r.ID)\n",
    "    m = str(r.ID).replace('.0','.1') \n",
    "    dlist.append(r.to_dict())\n",
    "    dlist.append({'ID':f'{m}','QTEXT':'Notes'})\n",
    "df_mas = pd.DataFrame(dlist);     \n",
    "df_mas[\"SQL\"] = \"\"\n",
    "df_mas[\"ASPX\"] = \"\"\n",
    "df_mas[\"QPK\"] = \"\"\n",
    "df_mas[0:3]"
   ]
  },
  {
   "cell_type": "code",
   "execution_count": null,
   "metadata": {
    "scrolled": true
   },
   "outputs": [],
   "source": [
    "sql = ''\n",
    "QPK = 23500\n",
    "so = 0\n",
    "for i, r in df_mas[:].iterrows():\n",
    "    QPK=QPK+1 \n",
    "    so=so+1\n",
    "    df_mas.loc[i, 'QPK']= str(QPK)\n",
    "    df_mas.loc[i, 'SQL'] = f\"({QPK}, @FormName, @PK_QGroup, {so}, N'{r.ID}', NULL, NULL, NULL, 18, 1, NULL, 0, NULL, NULL, NULL, N'{r.QTEXT.strip()}',  NULL),\"\n",
    "    if '15.1' in r.ID or '46.1' in r.ID:\n",
    "        so=0\n",
    "        QPK=QPK+50\n",
    "df_mas[0:3]"
   ]
  },
  {
   "cell_type": "code",
   "execution_count": null,
   "metadata": {},
   "outputs": [],
   "source": [
    "aspx = '' \n",
    "s =''\n",
    "sordr = 0\n",
    "for i, r in df_mas[:].iterrows(): \n",
    "    if '.0' in r.ID:\n",
    "        s = open(f'C:\\\\_som\\\\_src\\\\PICK.aspx', 'r').read()\n",
    "    else:\n",
    "        s = open(f'C:\\\\_som\\\\_src\\\\TXT.aspx', 'r').read() \n",
    "    metric = str(r.ID).replace('.','_')\n",
    "    s = s.replace('{0}',str(r.QPK)).replace('{1}',str(metric)).replace('{4}',str(metric)+ ' : ' +str(r.QPK)+ '\\n\\t' +str(r.QTEXT)).replace('{5}','')\n",
    "    s = s.replace('{2}',str(160))\n",
    "    df_mas.loc[i, 'ASPX'] = s \n",
    "df_mas.to_csv(r\"C:\\Users\\Tim\\Documents\\20-01\\df_mas.csv\", index='false') \n",
    "df_mas[0:3]"
   ]
  },
  {
   "cell_type": "code",
   "execution_count": null,
   "metadata": {
    "scrolled": true
   },
   "outputs": [],
   "source": [
    "sql=''\n",
    "aspx=''\n",
    "for i, r in df_mas[:].iterrows(): \n",
    "    sql=sql+'\\n'+r.SQL\n",
    "    aspx=aspx+'\\n\\n'+r.ASPX\n",
    "    \n",
    "with open(r'C:\\Users\\Tim\\Documents\\20-01\\script.sql', 'w') as file:\n",
    "  file.write(sql)\n",
    "file.close()\n",
    "with open(r'C:\\Users\\Tim\\Documents\\20-01\\aspx.aspx', 'w') as file:\n",
    "  file.write(aspx)\n",
    "file.close()\n",
    "\n",
    "df_mas[0:5]"
   ]
  },
  {
   "cell_type": "code",
   "execution_count": null,
   "metadata": {},
   "outputs": [],
   "source": [
    "showrow = \"\"\"\\\n",
    "    Protected _ShowRow_{0} As String\n",
    "    Public Property ShowRow_{0}() As String\n",
    "        Get\n",
    "            Return _ShowRow_{0}\n",
    "        End Get\n",
    "        Set(ByVal value As String)\n",
    "            _ShowRow_{0} = value\n",
    "        End Set\n",
    "    End Property\n",
    "    \n",
    "\"\"\""
   ]
  },
  {
   "cell_type": "code",
   "execution_count": null,
   "metadata": {},
   "outputs": [],
   "source": [
    "sr=''\n",
    "for i,r in df_mas.iterrows():\n",
    "    sr = sr + showrow.replace('{0}', r.ID.replace(\".\",\"_\"))\n",
    "print(sr)"
   ]
  },
  {
   "cell_type": "code",
   "execution_count": null,
   "metadata": {},
   "outputs": [],
   "source": [
    "import nltk\n",
    "stop_words = set(stopwords.words('english'))  "
   ]
  }
 ],
 "metadata": {
  "kernelspec": {
   "display_name": "Python 3",
   "language": "python",
   "name": "python3"
  },
  "language_info": {
   "codemirror_mode": {
    "name": "ipython",
    "version": 3
   },
   "file_extension": ".py",
   "mimetype": "text/x-python",
   "name": "python",
   "nbconvert_exporter": "python",
   "pygments_lexer": "ipython3",
   "version": "3.8.8"
  }
 },
 "nbformat": 4,
 "nbformat_minor": 4
}
