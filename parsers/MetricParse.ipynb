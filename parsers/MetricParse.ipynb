{
 "cells": [
  {
   "cell_type": "code",
   "execution_count": null,
   "id": "dd847045",
   "metadata": {},
   "outputs": [],
   "source": [
    "import re, subprocess, pyodbc \n",
    "import numpy as np # linear algebra \n",
    "from sqlalchemy import func, create_engine\n",
    "from config import connstr  \n",
    "import pandas as pd"
   ]
  },
  {
   "cell_type": "code",
   "execution_count": null,
   "id": "a3ad72e3",
   "metadata": {},
   "outputs": [],
   "source": [
    "engine = create_engine(connstr)\n",
    "conn = engine.connect()\n",
    "query = \"\"\" \\\n",
    "    SELECT FP.ASPX , FP.PK_FormPage,  FP.Text, MCK.* FROM vw_MetricsCompositeKeys MCK \n",
    "    INNER JOIN fsma_FormPages FP ON FP.PK_FormPage=MCK.FK_FormPage\n",
    "    WHERE PK_FORM = '2021-A-EINSTEIN' AND PK_FormPage <> 2072\n",
    "\"\"\" \n",
    "df = pd.read_sql(query,con=conn)  \n",
    "df\n",
    "alt = ''\n",
    "for i,r in df.iterrows():\n",
    "    text = re.sub('Section \\d:' , f'Section {i+1}:' , r['Text'])\n",
    "    alt = alt + f\"\"\"\n",
    "    UPDATE fsma_FormPages \n",
    "    SET Text = '{text}', sortpos = {i+1}, ASPX = 'EINSTEIN/2021/2021_A_EINSTEIN_{i}.aspx'\n",
    "    WHERE PK_FormPage = {r['PK_FormPage']}\n",
    "    \"\"\"\n",
    "print( f'{alt}' )"
   ]
  },
  {
   "cell_type": "code",
   "execution_count": null,
   "id": "5a74ef16",
   "metadata": {},
   "outputs": [],
   "source": [
    "secs = [\n",
    "      {'s':1, 'name':'EinsteinPublicIP'}\n",
    "    , {'s':2, 'name':'EinsteinUnannounced'}\n",
    "    , {'s':3, 'name':'EinsteinBGP'}\n",
    "    , {'s':4, 'name':'EinsteinUnmonitoredTraffic'}\n",
    "    , {'s':5, 'name':'EinsteinTAPS'} \n",
    "    , {'s':7, 'name':'EinsteinNetChannelsDS'}\n",
    "    , {'s':8, 'name':'EinsteinNAT'}\n",
    "    ]"
   ]
  },
  {
   "cell_type": "code",
   "execution_count": null,
   "id": "55a552a1",
   "metadata": {},
   "outputs": [],
   "source": [
    "\n",
    "lst = [] \n",
    "for d in secs:\n",
    "    df = pd.read_csv(f\"C:\\\\Users\\\\Tim\\\\Documents\\\\EINSTEIN\\\\ss\\\\{d['s']}.csv\")\n",
    "    df['SECTION'] = d['s']\n",
    "    df['TABLE_NAME'] = d['name']\n",
    "    df['COLUMN_NAME'] = df['Column Headings'].apply(lambda s: re.sub('[^A-Za-z0-9_]','',s))\n",
    "    df = df.rename(columns={'Column Headings': 'Headings'\n",
    "                            , 'Enumerated List': 'Enumerate'\n",
    "                            , 'Data Entry Validations': 'Validations'\n",
    "                            , 'Additional Help Text': 'Help'})\n",
    "    lst.append(df)\n",
    "df = pd.concat(lst)\n",
    "df "
   ]
  },
  {
   "cell_type": "code",
   "execution_count": null,
   "id": "53244a96",
   "metadata": {},
   "outputs": [],
   "source": [
    "alt = ''\n",
    "for i,r in df.iterrows():\n",
    "    alt = alt + f\"\"\"\n",
    "    IF NOT EXISTS(SELECT * FROM INFORMATION_SCHEMA.COLUMNS WHERE TABLE_NAME='{r['TABLE_NAME']}' and COLUMN_NAME='{r['COLUMN_NAME']}')\n",
    "    BEGIN\n",
    "        ALTER TABLE {r['TABLE_NAME']} ADD {r['COLUMN_NAME']} NVARCHAR(255) NULL\n",
    "    END\n",
    "    GO\n",
    "    \"\"\"\n",
    "print( f'{alt}' )"
   ]
  },
  {
   "cell_type": "code",
   "execution_count": null,
   "id": "97ab7220",
   "metadata": {},
   "outputs": [],
   "source": []
  }
 ],
 "metadata": {
  "kernelspec": {
   "display_name": "Python 3",
   "language": "python",
   "name": "python3"
  },
  "language_info": {
   "codemirror_mode": {
    "name": "ipython",
    "version": 3
   },
   "file_extension": ".py",
   "mimetype": "text/x-python",
   "name": "python",
   "nbconvert_exporter": "python",
   "pygments_lexer": "ipython3",
   "version": "3.8.8"
  }
 },
 "nbformat": 4,
 "nbformat_minor": 5
}
