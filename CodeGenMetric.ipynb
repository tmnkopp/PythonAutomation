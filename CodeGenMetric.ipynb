{
 "cells": [
  {
   "cell_type": "code",
   "execution_count": 1,
   "metadata": {},
   "outputs": [],
   "source": [
    "import re, subprocess, pyodbc \n",
    "import numpy as np # linear algebra \n",
    "from sqlalchemy import func, create_engine\n",
    "from config import mongoConn, connstr  \n",
    "import pandas as pd"
   ]
  },
  {
   "cell_type": "code",
   "execution_count": 2,
   "metadata": {},
   "outputs": [
    {
     "data": {
      "text/html": [
       "<div>\n",
       "<style scoped>\n",
       "    .dataframe tbody tr th:only-of-type {\n",
       "        vertical-align: middle;\n",
       "    }\n",
       "\n",
       "    .dataframe tbody tr th {\n",
       "        vertical-align: top;\n",
       "    }\n",
       "\n",
       "    .dataframe thead th {\n",
       "        text-align: right;\n",
       "    }\n",
       "</style>\n",
       "<table border=\"1\" class=\"dataframe\">\n",
       "  <thead>\n",
       "    <tr style=\"text-align: right;\">\n",
       "      <th></th>\n",
       "      <th>ID</th>\n",
       "      <th>PK_Form</th>\n",
       "      <th>MAX_PK_ReportingCycle</th>\n",
       "      <th>MIN_Q_PK</th>\n",
       "      <th>MAX_Q_PK</th>\n",
       "      <th>MAX_Q_PK_STAG</th>\n",
       "      <th>QOFFSET</th>\n",
       "      <th>MIN_QG_PK</th>\n",
       "      <th>MAX_QG_PK</th>\n",
       "      <th>MAX_QG_PK_STAG</th>\n",
       "      <th>...</th>\n",
       "      <th>GroupDesc</th>\n",
       "      <th>QPK</th>\n",
       "      <th>IdText</th>\n",
       "      <th>QuestionTypeCode</th>\n",
       "      <th>SortPos</th>\n",
       "      <th>QuestionTypeId</th>\n",
       "      <th>description</th>\n",
       "      <th>FK_PickList</th>\n",
       "      <th>QTEXT</th>\n",
       "      <th>PK</th>\n",
       "    </tr>\n",
       "  </thead>\n",
       "  <tbody>\n",
       "    <tr>\n",
       "      <th>0</th>\n",
       "      <td>1-0-</td>\n",
       "      <td>2021-A-SAOP</td>\n",
       "      <td>106</td>\n",
       "      <td>24600</td>\n",
       "      <td>25098</td>\n",
       "      <td>25108</td>\n",
       "      <td>0</td>\n",
       "      <td>2900</td>\n",
       "      <td>2916</td>\n",
       "      <td>2926</td>\n",
       "      <td>...</td>\n",
       "      <td>Section 1: General Privacy Program Requirements</td>\n",
       "      <td>24600</td>\n",
       "      <td></td>\n",
       "      <td>INSTRUCTION</td>\n",
       "      <td>0</td>\n",
       "      <td>62</td>\n",
       "      <td>Instruction (Text Only)</td>\n",
       "      <td>None</td>\n",
       "      <td>Note:&lt;BR /&gt;If \"No\" is selected for metric 1a, ...</td>\n",
       "      <td>24600</td>\n",
       "    </tr>\n",
       "    <tr>\n",
       "      <th>1</th>\n",
       "      <td>1-1-1a</td>\n",
       "      <td>2021-A-SAOP</td>\n",
       "      <td>106</td>\n",
       "      <td>24600</td>\n",
       "      <td>25098</td>\n",
       "      <td>25108</td>\n",
       "      <td>1</td>\n",
       "      <td>2900</td>\n",
       "      <td>2916</td>\n",
       "      <td>2926</td>\n",
       "      <td>...</td>\n",
       "      <td>Section 1: General Privacy Program Requirements</td>\n",
       "      <td>24601</td>\n",
       "      <td>1a</td>\n",
       "      <td>YN</td>\n",
       "      <td>1</td>\n",
       "      <td>1</td>\n",
       "      <td>Yes / No</td>\n",
       "      <td>None</td>\n",
       "      <td>Has the head of the agency designated a Senior...</td>\n",
       "      <td>24601</td>\n",
       "    </tr>\n",
       "  </tbody>\n",
       "</table>\n",
       "<p>2 rows × 30 columns</p>\n",
       "</div>"
      ],
      "text/plain": [
       "       ID      PK_Form  MAX_PK_ReportingCycle  MIN_Q_PK  MAX_Q_PK  \\\n",
       "0    1-0-  2021-A-SAOP                    106     24600     25098   \n",
       "1  1-1-1a  2021-A-SAOP                    106     24600     25098   \n",
       "\n",
       "   MAX_Q_PK_STAG  QOFFSET  MIN_QG_PK  MAX_QG_PK  MAX_QG_PK_STAG  ...  \\\n",
       "0          25108        0       2900       2916            2926  ...   \n",
       "1          25108        1       2900       2916            2926  ...   \n",
       "\n",
       "                                         GroupDesc    QPK  IdText  \\\n",
       "0  Section 1: General Privacy Program Requirements  24600           \n",
       "1  Section 1: General Privacy Program Requirements  24601      1a   \n",
       "\n",
       "   QuestionTypeCode  SortPos  QuestionTypeId              description  \\\n",
       "0       INSTRUCTION        0              62  Instruction (Text Only)   \n",
       "1                YN        1               1                 Yes / No   \n",
       "\n",
       "   FK_PickList                                              QTEXT     PK  \n",
       "0         None  Note:<BR />If \"No\" is selected for metric 1a, ...  24600  \n",
       "1         None  Has the head of the agency designated a Senior...  24601  \n",
       "\n",
       "[2 rows x 30 columns]"
      ]
     },
     "execution_count": 2,
     "metadata": {},
     "output_type": "execute_result"
    }
   ],
   "source": [
    "engine = create_engine(connstr)\n",
    "conn = engine.connect()\n",
    "query = \"\"\" \\\n",
    "SELECT * FROM vw_MetricsCompositeKeys WHERE PK_FORM = '2021-A-SAOP'\n",
    "\"\"\" \n",
    "df = pd.read_sql(query,con=conn)  \n",
    "df.head(2)"
   ]
  },
  {
   "cell_type": "code",
   "execution_count": null,
   "metadata": {},
   "outputs": [],
   "source": []
  },
  {
   "cell_type": "code",
   "execution_count": null,
   "metadata": {},
   "outputs": [],
   "source": [
    "def subtype(t):\n",
    "    t = re.sub('.*Free Text.*', 'TXT', t )  \n",
    "    t = re.sub('.*DATE.*', 'TXT', t ) \n",
    "    t = re.sub('.*Select All.*', 'MULTICHECKBOX', t )  \n",
    "    t = re.sub('.*PICK.*|.*Select.*', 'PICK', t )  \n",
    "    t = re.sub('.*UNK.*', 'YNA', t )  \n",
    "    t = re.sub('.*Y N.*', 'YN', t )   \n",
    "    return t"
   ]
  },
  {
   "cell_type": "code",
   "execution_count": null,
   "metadata": {},
   "outputs": [],
   "source": [
    "def processdf(df):\n",
    "    df=df.fillna('~')\n",
    "    df=df.loc[ df.ID != '~' ]\n",
    "    df.ID = df.ID.astype(str)\n",
    "    df.reset_index(drop=True, inplace=True) \n",
    "    df[\"SORDER\"] = df.index \n",
    "    df[\"TYPE\"] = df.TYPE.apply(lambda x: subtype(x) )\n",
    "    #df[\"SUBTYPE\"] = df.TYPE.apply(lambda x: subtype(x) )\n",
    "    df[\"QTEXT\"] = df.QTEXT.apply(lambda x: x.replace('\\'','`') ) \n",
    "    df[\"ID\"] = df.ID.apply(lambda x: x.replace('\\'','') ) \n",
    "    return df"
   ]
  },
  {
   "cell_type": "code",
   "execution_count": null,
   "metadata": {
    "scrolled": true
   },
   "outputs": [],
   "source": [
    "df_mas = pd.DataFrame();\n",
    "for i in range(2,4):\n",
    "    df = pd.read_csv(fr'c:\\Users\\Tim\\Documents\\1802\\s{i}.csv')  \n",
    "    df['Section'] = i\n",
    "    df['OFFSET'] = 50 * (i-1)\n",
    "    df=processdf(df)\n",
    "    df_mas = pd.concat([df_mas, df], axis=0, ignore_index=True) \n",
    "    \n",
    "df_mas[\"QPK\"] = df_mas.index + 22800 + df_mas.OFFSET\n",
    "df_mas.drop(columns=['OFFSET'], inplace=True)\n",
    "df_mas = pd.merge(df_mas , qtypes, left_on='TYPE', right_on='QCODE', how='left',   )\n",
    "df_mas[\"DBINSERT\"] = \"\" \n",
    "df_mas[\"ASPX\"] = \"\" \n",
    "df_mas.sort_values( by='QPK', inplace=True)\n",
    "df_mas.reset_index(drop=True, inplace=True)\n",
    "df_mas[1:2]"
   ]
  },
  {
   "cell_type": "code",
   "execution_count": null,
   "metadata": {
    "scrolled": true
   },
   "outputs": [],
   "source": [
    "ins = ''\n",
    "aspx = ''\n",
    "pickseed = 324\n",
    "for i,r in df_mas[:].iterrows():\n",
    "    df_mas.loc[i, 'DBINSERT'] = f\"({r.QPK}, @FormName, @PK_QGroup, {r.SORDER}, N'{r.ID}', NULL, NULL, NULL, {r.QTID}, 1, NULL, 0, NULL, NULL, NULL, N'{r.QTEXT}',  NULL),\"\n",
    "    ins = ins + df_mas.loc[i, 'DBINSERT'] + '\\n'  \n",
    "    metric = r.ID.replace('.','_')\n",
    "    if r.TYPE == 'PICK':\n",
    "        pickseed = pickseed + 1    \n",
    "    try:\n",
    "        s = open(f'C:\\\\_som\\\\_src\\\\{r.QCODE}.aspx', 'r').read()\n",
    "        s = s.replace('{0}',str(r.QPK)).replace('{1}',str(metric)).replace('{4}',str(metric)+ ' : ' +str(r.QPK)+ '\\n\\t' +str(r.QTEXT)).replace('{5}','')\n",
    "        s = s.replace('{2}',str(160))\n",
    "        df_mas.loc[i, 'ASPX'] = s\n",
    "        aspx = aspx + df_mas.loc[i, 'ASPX'] + '\\n\\n' \n",
    "    except : \n",
    "        pass\n",
    " \n",
    "df_mas.to_csv(r\"c:\\Users\\Tim\\Documents\\1802\\BOD_2021_Metrics.csv\", index='false')\n",
    "aspx = re.sub('_ShowRow','ShowRow', aspx) \n",
    "with open(r'c:\\Users\\Tim\\Documents\\1802\\DB_Update7.34_BOD_2021_READONLY.sql', 'w') as file:\n",
    "  file.write(ins)\n",
    "file.close()\n",
    "with open(r'c:\\Users\\Tim\\Documents\\1802\\BOD_2021_ASPX_READONLY.aspx', 'w') as file:\n",
    "  file.write(aspx)\n",
    "file.close()\n",
    "\n",
    "df_mas[:]"
   ]
  },
  {
   "cell_type": "code",
   "execution_count": null,
   "metadata": {},
   "outputs": [],
   "source": [
    "sr=''\n",
    "for i,r in df_mas.iterrows():\n",
    "    sr = sr + showrow.replace('{0}', r.ID.replace(\".\",\"_\"))\n",
    "print(sr)"
   ]
  },
  {
   "cell_type": "code",
   "execution_count": null,
   "metadata": {
    "scrolled": false
   },
   "outputs": [],
   "source": [
    "df_picks = pd.DataFrame(); \n",
    "df = pd.read_csv(fr'c:\\Users\\Tim\\Documents\\1802\\s1.csv')   \n",
    "df = df.fillna('~')\n",
    "df=df.loc[ df.TYPE != '~' ] \n",
    "df=df.loc[ df.METRIC.str.contains('PL-')  ] \n",
    "pickseed = 3980\n",
    "sorder=0\n",
    "METRIC=df.iloc[0]['METRIC']\n",
    "for i,r in df.iterrows():\n",
    "\n",
    "    if METRIC != r.METRIC:\n",
    "        sorder=0\n",
    "        METRIC=r.METRIC \n",
    "    pickseed = pickseed + 1 \n",
    "    sorder = sorder + 1 \n",
    "    TYPE = re.sub('\\s\\s', '', r.TYPE)  \n",
    "    TYPE= re.sub('\\(Free Text\\)', '', TYPE) \n",
    "    # TYPE= re.sub(', ', '', TYPE) \n",
    "    TYPE= re.sub('· ', '', TYPE) \n",
    "    CodeValue=r.TYPE.upper() \n",
    "    CodeValue = re.sub('[^A-Z0-9]', '', CodeValue)   \n",
    "    if len(CodeValue) > 4 :\n",
    "        CodeValue = re.sub('[AEIOUY]', '', CodeValue)\n",
    "        CodeValue=CodeValue[:4]+CodeValue[-4:]\n",
    "        if re.search('.*Other.*', TYPE):\n",
    "            CodeValue=\"OTH\"  \n",
    "    \n",
    "    TYPE = TYPE.replace(\", \",\" \")\n",
    "    df.loc[i, 'PK_Picklist'] = f\"({pickseed},@PKT, N'{CodeValue}','{TYPE}',{sorder}, GETDATE(), 1),\"\n",
    "    print(df.loc[i, 'PK_Picklist']) \n",
    "    \n",
    "df.head(59)"
   ]
  },
  {
   "cell_type": "code",
   "execution_count": null,
   "metadata": {},
   "outputs": [],
   "source": [
    " df = pd.read_csv(fr'c:\\Users\\Tim\\Documents\\1802\\BOD_2021_Metrics.csv')  "
   ]
  },
  {
   "cell_type": "code",
   "execution_count": null,
   "metadata": {
    "scrolled": true
   },
   "outputs": [],
   "source": [
    "query = \"\"\"\\\n",
    "SELECT PK_PickList, PK_PickListType, DisplayValue, CodeValue, SortPos, Description, UsageField FROM vwPickLists\n",
    "WHERE PK_PickListType IN (100,101,102,103,104,105,106,113,114,164,165,166)\n",
    "\"\"\" \n",
    " \n",
    "dfpicks = pd.read_sql(query,con=conn) \n",
    "UsageField=dfpicks.iloc[0]['UsageField']\n",
    "s=f\"\\n\"\n",
    "s = s + f\"Enum PICK_{UsageField} \\t'{dfpicks.iloc[0]['Description']}-{dfpicks.iloc[0]['PK_PickListType']}\\n\"\n",
    "for i,r in dfpicks.iterrows():\n",
    "    if UsageField != dfpicks.iloc[i]['UsageField']:\n",
    "        UsageField=dfpicks.iloc[i]['UsageField']\n",
    "        s = s + f\"End Enum\\n\"\n",
    "        s = s + f\"Enum PICK_{UsageField} \\t'{dfpicks.iloc[i]['Description']}-{dfpicks.iloc[i]['PK_PickListType']}\\n\"\n",
    "    s = s + f\"\\t{r.CodeValue} = {str(r.PK_PickList)} \\t'{str(r.DisplayValue)[:25]}\\n\" \n",
    "s=s+\"End Enum\\n\"\n",
    "print(s)"
   ]
  },
  {
   "cell_type": "code",
   "execution_count": null,
   "metadata": {},
   "outputs": [],
   "source": [
    " "
   ]
  },
  {
   "cell_type": "code",
   "execution_count": null,
   "metadata": {},
   "outputs": [],
   "source": [
    "showrow = \"\"\"\\\n",
    "    Protected _ShowRow_{0} As String\n",
    "    Public Property ShowRow_{0}() As String\n",
    "        Get\n",
    "            Return _ShowRow_{0}\n",
    "        End Get\n",
    "        Set(ByVal value As String)\n",
    "            _ShowRow_{0} = value\n",
    "        End Set\n",
    "    End Property\n",
    "    \n",
    "\"\"\""
   ]
  },
  {
   "cell_type": "code",
   "execution_count": null,
   "metadata": {},
   "outputs": [],
   "source": [
    "import nltk\n",
    "stop_words = set(stopwords.words('english'))  "
   ]
  },
  {
   "cell_type": "code",
   "execution_count": null,
   "metadata": {},
   "outputs": [],
   "source": [
    "#df = pd.read_csv(fr'c:\\Users\\Tim\\Documents\\1802\\HVA_20_21_ID_Mapper.csv')  \n",
    "#df.to_sql('HVA_IDTEXT_Map', engine,  if_exists='replace', index=False )\n",
    " "
   ]
  },
  {
   "cell_type": "code",
   "execution_count": null,
   "metadata": {},
   "outputs": [],
   "source": []
  }
 ],
 "metadata": {
  "kernelspec": {
   "display_name": "Python 3",
   "language": "python",
   "name": "python3"
  },
  "language_info": {
   "codemirror_mode": {
    "name": "ipython",
    "version": 3
   },
   "file_extension": ".py",
   "mimetype": "text/x-python",
   "name": "python",
   "nbconvert_exporter": "python",
   "pygments_lexer": "ipython3",
   "version": "3.8.8"
  }
 },
 "nbformat": 4,
 "nbformat_minor": 4
}
