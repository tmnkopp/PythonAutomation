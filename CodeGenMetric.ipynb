{
 "cells": [
  {
   "cell_type": "code",
   "execution_count": null,
   "metadata": {},
   "outputs": [],
   "source": [
    "import re, subprocess, pyodbc \n",
    "import numpy as np # linear algebra \n",
    "from sqlalchemy import func, create_engine\n",
    "from config import mongoConn, connstr  \n",
    "import pandas as pd"
   ]
  },
  {
   "cell_type": "code",
   "execution_count": null,
   "metadata": {
    "scrolled": true
   },
   "outputs": [],
   "source": [
    "engine = create_engine(connstr)\n",
    "conn = engine.connect()\n",
    "query = \"\"\" \\\n",
    "SELECT CONVERT(NVARCHAR(5) , PK_QuestionTypeId) as QTID, code QCODE  FROM fsma_QuestionTypes\n",
    "\"\"\" \n",
    "qtypes = pd.read_sql(query,con=conn)  \n",
    "qtypes.head(2)"
   ]
  },
  {
   "cell_type": "code",
   "execution_count": null,
   "metadata": {},
   "outputs": [],
   "source": [
    "def subtype(t):\n",
    "    t = re.sub('.*Free Text.*', 'TXT', t )  \n",
    "    t = re.sub('.*DATE.*', 'TXT', t ) \n",
    "    t = re.sub('.*Select All.*', 'MULTICHECKBOX', t )  \n",
    "    t = re.sub('.*PICK.*|.*Select.*', 'PICK', t )  \n",
    "    t = re.sub('.*UNK.*', 'YNA', t )  \n",
    "    t = re.sub('.*Y N.*', 'YN', t )   \n",
    "    return t"
   ]
  },
  {
   "cell_type": "code",
   "execution_count": null,
   "metadata": {},
   "outputs": [],
   "source": [
    "def processdf(df):\n",
    "    df=df.fillna('~')\n",
    "    df=df.loc[ df.ID != '~' ]\n",
    "    df.ID = df.ID.astype(str)\n",
    "    df.reset_index(drop=True, inplace=True) \n",
    "    df[\"SORDER\"] = df.index \n",
    "    df[\"TYPE\"] = df.TYPE.apply(lambda x: subtype(x) )\n",
    "    #df[\"SUBTYPE\"] = df.TYPE.apply(lambda x: subtype(x) )\n",
    "    df[\"QTEXT\"] = df.QTEXT.apply(lambda x: x.replace('\\'','`') ) \n",
    "    df[\"ID\"] = df.ID.apply(lambda x: x.replace('\\'','') ) \n",
    "    return df"
   ]
  },
  {
   "cell_type": "code",
   "execution_count": null,
   "metadata": {
    "scrolled": true
   },
   "outputs": [],
   "source": [
    "df_mas = pd.DataFrame();\n",
    "for i in range(2,4):\n",
    "    df = pd.read_csv(fr'c:\\Users\\Tim\\Documents\\1802\\s{i}.csv')  \n",
    "    df['Section'] = i\n",
    "    df['OFFSET'] = 50 * (i-1)\n",
    "    df=processdf(df)\n",
    "    df_mas = pd.concat([df_mas, df], axis=0, ignore_index=True) \n",
    "    \n",
    "df_mas[\"QPK\"] = df_mas.index + 22800 + df_mas.OFFSET\n",
    "df_mas.drop(columns=['OFFSET'], inplace=True)\n",
    "df_mas = pd.merge(df_mas , qtypes, left_on='TYPE', right_on='QCODE', how='left',   )\n",
    "df_mas[\"DBINSERT\"] = \"\" \n",
    "df_mas[\"ASPX\"] = \"\" \n",
    "df_mas.sort_values( by='QPK', inplace=True)\n",
    "df_mas.reset_index(drop=True, inplace=True)\n",
    "df_mas[1:2]"
   ]
  },
  {
   "cell_type": "code",
   "execution_count": null,
   "metadata": {
    "scrolled": true
   },
   "outputs": [],
   "source": [
    "ins = ''\n",
    "aspx = ''\n",
    "pickseed = 324\n",
    "for i,r in df_mas[:].iterrows():\n",
    "    df_mas.loc[i, 'DBINSERT'] = f\"({r.QPK}, @FormName, @PK_QGroup, {r.SORDER}, N'{r.ID}', NULL, NULL, NULL, {r.QTID}, 1, NULL, 0, NULL, NULL, NULL, N'{r.QTEXT}',  NULL),\"\n",
    "    ins = ins + df_mas.loc[i, 'DBINSERT'] + '\\n'  \n",
    "    metric = r.ID.replace('.','_')\n",
    "    if r.TYPE == 'PICK':\n",
    "        pickseed = pickseed + 1    \n",
    "    try:\n",
    "        s = open(f'C:\\\\_som\\\\_src\\\\{r.QCODE}.aspx', 'r').read()\n",
    "        s = s.replace('{0}',str(r.QPK)).replace('{1}',str(metric)).replace('{4}',str(metric)+ ' : ' +str(r.QPK)+ '\\n\\t' +str(r.QTEXT)).replace('{5}','')\n",
    "        s = s.replace('{2}',str(160))\n",
    "        df_mas.loc[i, 'ASPX'] = s\n",
    "        aspx = aspx + df_mas.loc[i, 'ASPX'] + '\\n\\n' \n",
    "    except : \n",
    "        pass\n",
    " \n",
    "df_mas.to_csv(r\"c:\\Users\\Tim\\Documents\\1802\\BOD_2021_Metrics.csv\", index='false')\n",
    "aspx = re.sub('_ShowRow','ShowRow', aspx) \n",
    "with open(r'c:\\Users\\Tim\\Documents\\1802\\DB_Update7.34_BOD_2021_READONLY.sql', 'w') as file:\n",
    "  file.write(ins)\n",
    "file.close()\n",
    "with open(r'c:\\Users\\Tim\\Documents\\1802\\BOD_2021_ASPX_READONLY.aspx', 'w') as file:\n",
    "  file.write(aspx)\n",
    "file.close()\n",
    "\n",
    "df_mas[:]"
   ]
  },
  {
   "cell_type": "code",
   "execution_count": null,
   "metadata": {},
   "outputs": [],
   "source": [
    "sr=''\n",
    "for i,r in df_mas.iterrows():\n",
    "    sr = sr + showrow.replace('{0}', r.ID.replace(\".\",\"_\"))\n",
    "print(sr)"
   ]
  },
  {
   "cell_type": "code",
   "execution_count": null,
   "metadata": {
    "scrolled": false
   },
   "outputs": [],
   "source": [
    "df_picks = pd.DataFrame(); \n",
    "df = pd.read_csv(fr'c:\\Users\\Tim\\Documents\\1802\\s1.csv')   \n",
    "df = df.fillna('~')\n",
    "df=df.loc[ df.TYPE != '~' ] \n",
    "df=df.loc[ df.METRIC.str.contains('PL-')  ] \n",
    "pickseed = 3980\n",
    "sorder=0\n",
    "METRIC=df.iloc[0]['METRIC']\n",
    "for i,r in df.iterrows():\n",
    "\n",
    "    if METRIC != r.METRIC:\n",
    "        sorder=0\n",
    "        METRIC=r.METRIC \n",
    "    pickseed = pickseed + 1 \n",
    "    sorder = sorder + 1 \n",
    "    TYPE = re.sub('\\s\\s', '', r.TYPE)  \n",
    "    TYPE= re.sub('\\(Free Text\\)', '', TYPE) \n",
    "    # TYPE= re.sub(', ', '', TYPE) \n",
    "    TYPE= re.sub('· ', '', TYPE) \n",
    "    CodeValue=r.TYPE.upper() \n",
    "    CodeValue = re.sub('[^A-Z0-9]', '', CodeValue)   \n",
    "    if len(CodeValue) > 4 :\n",
    "        CodeValue = re.sub('[AEIOUY]', '', CodeValue)\n",
    "        CodeValue=CodeValue[:4]+CodeValue[-4:]\n",
    "        if re.search('.*Other.*', TYPE):\n",
    "            CodeValue=\"OTH\"  \n",
    "    \n",
    "    TYPE = TYPE.replace(\", \",\" \")\n",
    "    df.loc[i, 'PK_Picklist'] = f\"({pickseed},@PKT, N'{CodeValue}','{TYPE}',{sorder}, GETDATE(), 1),\"\n",
    "    print(df.loc[i, 'PK_Picklist']) \n",
    "    \n",
    "df.head(59)"
   ]
  },
  {
   "cell_type": "code",
   "execution_count": null,
   "metadata": {},
   "outputs": [],
   "source": [
    " df = pd.read_csv(fr'c:\\Users\\Tim\\Documents\\1802\\BOD_2021_Metrics.csv')  "
   ]
  },
  {
   "cell_type": "code",
   "execution_count": null,
   "metadata": {
    "scrolled": true
   },
   "outputs": [],
   "source": [
    "query = \"\"\"\\\n",
    "SELECT PK_PickList, PK_PickListType, DisplayValue, CodeValue, SortPos, Description, UsageField FROM vwPickLists\n",
    "WHERE PK_PickListType IN (100,101,102,103,104,105,106,113,114,164,165,166)\n",
    "\"\"\" \n",
    " \n",
    "dfpicks = pd.read_sql(query,con=conn) \n",
    "UsageField=dfpicks.iloc[0]['UsageField']\n",
    "s=f\"\\n\"\n",
    "s = s + f\"Enum PICK_{UsageField} \\t'{dfpicks.iloc[0]['Description']}-{dfpicks.iloc[0]['PK_PickListType']}\\n\"\n",
    "for i,r in dfpicks.iterrows():\n",
    "    if UsageField != dfpicks.iloc[i]['UsageField']:\n",
    "        UsageField=dfpicks.iloc[i]['UsageField']\n",
    "        s = s + f\"End Enum\\n\"\n",
    "        s = s + f\"Enum PICK_{UsageField} \\t'{dfpicks.iloc[i]['Description']}-{dfpicks.iloc[i]['PK_PickListType']}\\n\"\n",
    "    s = s + f\"\\t{r.CodeValue} = {str(r.PK_PickList)} \\t'{str(r.DisplayValue)[:25]}\\n\" \n",
    "s=s+\"End Enum\\n\"\n",
    "print(s)"
   ]
  },
  {
   "cell_type": "code",
   "execution_count": null,
   "metadata": {},
   "outputs": [],
   "source": [
    " "
   ]
  },
  {
   "cell_type": "code",
   "execution_count": null,
   "metadata": {},
   "outputs": [],
   "source": [
    "showrow = \"\"\"\\\n",
    "    Protected _ShowRow_{0} As String\n",
    "    Public Property ShowRow_{0}() As String\n",
    "        Get\n",
    "            Return _ShowRow_{0}\n",
    "        End Get\n",
    "        Set(ByVal value As String)\n",
    "            _ShowRow_{0} = value\n",
    "        End Set\n",
    "    End Property\n",
    "    \n",
    "\"\"\""
   ]
  },
  {
   "cell_type": "code",
   "execution_count": null,
   "metadata": {},
   "outputs": [],
   "source": [
    "import nltk\n",
    "stop_words = set(stopwords.words('english'))  "
   ]
  },
  {
   "cell_type": "code",
   "execution_count": null,
   "metadata": {},
   "outputs": [],
   "source": [
    "#df = pd.read_csv(fr'c:\\Users\\Tim\\Documents\\1802\\HVA_20_21_ID_Mapper.csv')  \n",
    "#df.to_sql('HVA_IDTEXT_Map', engine,  if_exists='replace', index=False )\n",
    " "
   ]
  },
  {
   "cell_type": "code",
   "execution_count": null,
   "metadata": {},
   "outputs": [],
   "source": []
  }
 ],
 "metadata": {
  "kernelspec": {
   "display_name": "Python 3",
   "language": "python",
   "name": "python3"
  },
  "language_info": {
   "codemirror_mode": {
    "name": "ipython",
    "version": 3
   },
   "file_extension": ".py",
   "mimetype": "text/x-python",
   "name": "python",
   "nbconvert_exporter": "python",
   "pygments_lexer": "ipython3",
   "version": "3.8.8"
  }
 },
 "nbformat": 4,
 "nbformat_minor": 4
}
