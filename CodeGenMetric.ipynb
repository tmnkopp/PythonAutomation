{
 "cells": [
  {
   "cell_type": "code",
   "execution_count": 22,
   "metadata": {},
   "outputs": [
    {
     "name": "stdout",
     "output_type": "stream",
     "text": [
      "Collecting Faker\n",
      "  Downloading Faker-9.8.0-py3-none-any.whl (1.2 MB)\n",
      "Collecting text-unidecode==1.3\n",
      "  Downloading text_unidecode-1.3-py2.py3-none-any.whl (78 kB)\n",
      "Requirement already satisfied: python-dateutil>=2.4 in c:\\users\\tim\\anaconda3\\lib\\site-packages (from Faker) (2.8.1)\n",
      "Requirement already satisfied: six>=1.5 in c:\\users\\tim\\anaconda3\\lib\\site-packages (from python-dateutil>=2.4->Faker) (1.15.0)\n",
      "Installing collected packages: text-unidecode, Faker\n",
      "Successfully installed Faker-9.8.0 text-unidecode-1.3\n"
     ]
    }
   ],
   "source": [
    "!pip install Faker"
   ]
  },
  {
   "cell_type": "code",
   "execution_count": 1,
   "metadata": {},
   "outputs": [],
   "source": [
    "import re, subprocess, pyodbc \n",
    "import numpy as np # linear algebra \n",
    "from sqlalchemy import func, create_engine\n",
    "from config import mongoConn, connstr  \n",
    "import pandas as pd\n",
    "from faker import Faker\n",
    "fake = Faker()"
   ]
  },
  {
   "cell_type": "code",
   "execution_count": 11,
   "metadata": {},
   "outputs": [
    {
     "data": {
      "text/plain": [
       "'70.233.135.81'"
      ]
     },
     "execution_count": 11,
     "metadata": {},
     "output_type": "execute_result"
    }
   ],
   "source": [
    "def getip(): \n",
    "    return f\"{np.random.randint(1, 255)}.{np.random.randint(1, 255)}.{np.random.randint(1, 255)}.{np.random.randint(1, 255)}\"\n",
    "getip()\n",
    "\n"
   ]
  },
  {
   "cell_type": "code",
   "execution_count": 24,
   "metadata": {},
   "outputs": [
    {
     "data": {
      "text/plain": [
       "'Nor necessary newspaper research who. Whose skin h'"
      ]
     },
     "execution_count": 24,
     "metadata": {},
     "output_type": "execute_result"
    }
   ],
   "source": []
  },
  {
   "cell_type": "code",
   "execution_count": 16,
   "metadata": {},
   "outputs": [
    {
     "name": "stdout",
     "output_type": "stream",
     "text": [
      "d['Name'] = getip()\n",
      "d['ISP'] = getip()\n",
      "d['OtherISP'] = getip()\n",
      "d['ExternalOrg'] = getip()\n",
      "d['Visible'] = getip()\n",
      "d['StartingIP'] = getip()\n",
      "d['EndingIP'] = getip()\n",
      "d['TIC_MTIPS'] = getip()\n"
     ]
    }
   ],
   "source": [
    "engine = create_engine(connstr)\n",
    "conn = engine.connect()\n",
    "query = \"\"\" \\\n",
    "SELECT TOP 1 * FROM EinsteinPublicIP \n",
    "\"\"\"  \n",
    "df = pd.read_sql(query,con=conn)  \n",
    "df.drop('PK_EinsteinPublicIP', axis=1, inplace=True)\n",
    "df.drop('PK_OrgSubmission', axis=1, inplace=True)\n",
    "df.drop('UserId', axis=1, inplace=True)\n",
    "df.drop('isActive', axis=1, inplace=True)\n",
    "df.drop('DateDeactivated', axis=1, inplace=True)\n",
    "for c in df.columns:\n",
    "    print(f\"d['{c}'] = getip()\"  )\n",
    "\n",
    " "
   ]
  },
  {
   "cell_type": "code",
   "execution_count": 29,
   "metadata": {},
   "outputs": [],
   "source": [
    "lst = []\n",
    "for i in range(20000):\n",
    "    d={}\n",
    "    d['StartingIP'] = getip()\n",
    "    d['EndingIP'] = getip()    \n",
    "    d['Name_Purpose'] = getip()\n",
    "    d['ISP'] = 'IBM' \n",
    "    d['OtherISP'] = 'Other'\n",
    "    d['External_Organization'] = fake.address()[:25]\n",
    "    d['TIC_MTIPS'] = 'TIC'\n",
    "    d['Visible'] = 'Yes' \n",
    "    lst.append(d)\n",
    "df=pd.DataFrame(lst)\n",
    "df.to_excel(r'c:\\temp\\EinsteinPublicIP.xlsx')    \n"
   ]
  },
  {
   "cell_type": "code",
   "execution_count": 30,
   "metadata": {},
   "outputs": [
    {
     "data": {
      "text/html": [
       "<div>\n",
       "<style scoped>\n",
       "    .dataframe tbody tr th:only-of-type {\n",
       "        vertical-align: middle;\n",
       "    }\n",
       "\n",
       "    .dataframe tbody tr th {\n",
       "        vertical-align: top;\n",
       "    }\n",
       "\n",
       "    .dataframe thead th {\n",
       "        text-align: right;\n",
       "    }\n",
       "</style>\n",
       "<table border=\"1\" class=\"dataframe\">\n",
       "  <thead>\n",
       "    <tr style=\"text-align: right;\">\n",
       "      <th></th>\n",
       "      <th>StartingIP</th>\n",
       "      <th>EndingIP</th>\n",
       "      <th>Name_Purpose</th>\n",
       "      <th>ISP</th>\n",
       "      <th>TIC_MTIPS</th>\n",
       "      <th>OtherISP</th>\n",
       "      <th>Visible</th>\n",
       "      <th>External_Organization</th>\n",
       "    </tr>\n",
       "  </thead>\n",
       "  <tbody>\n",
       "    <tr>\n",
       "      <th>0</th>\n",
       "      <td>237.250.149.123</td>\n",
       "      <td>193.19.126.109</td>\n",
       "      <td>166.30.165.89</td>\n",
       "      <td>IBM</td>\n",
       "      <td>TIC</td>\n",
       "      <td>Other</td>\n",
       "      <td>Yes</td>\n",
       "      <td>21987 Nicholas Harbor\\nMor</td>\n",
       "    </tr>\n",
       "    <tr>\n",
       "      <th>1</th>\n",
       "      <td>18.186.136.33</td>\n",
       "      <td>59.171.241.205</td>\n",
       "      <td>75.17.90.56</td>\n",
       "      <td>IBM</td>\n",
       "      <td>TIC</td>\n",
       "      <td>Other</td>\n",
       "      <td>Yes</td>\n",
       "      <td>2075 Helen Ridges\\nLake Pa</td>\n",
       "    </tr>\n",
       "    <tr>\n",
       "      <th>2</th>\n",
       "      <td>42.122.13.60</td>\n",
       "      <td>46.103.88.9</td>\n",
       "      <td>214.34.145.170</td>\n",
       "      <td>IBM</td>\n",
       "      <td>TIC</td>\n",
       "      <td>Other</td>\n",
       "      <td>Yes</td>\n",
       "      <td>9910 Johnson Drives Suite</td>\n",
       "    </tr>\n",
       "    <tr>\n",
       "      <th>3</th>\n",
       "      <td>229.61.225.55</td>\n",
       "      <td>92.139.135.163</td>\n",
       "      <td>100.84.197.102</td>\n",
       "      <td>IBM</td>\n",
       "      <td>TIC</td>\n",
       "      <td>Other</td>\n",
       "      <td>Yes</td>\n",
       "      <td>0929 John Forges Suite 76</td>\n",
       "    </tr>\n",
       "    <tr>\n",
       "      <th>4</th>\n",
       "      <td>150.60.243.145</td>\n",
       "      <td>67.122.48.244</td>\n",
       "      <td>218.239.202.168</td>\n",
       "      <td>IBM</td>\n",
       "      <td>TIC</td>\n",
       "      <td>Other</td>\n",
       "      <td>Yes</td>\n",
       "      <td>6528 Shannon Hill\\nAliches</td>\n",
       "    </tr>\n",
       "    <tr>\n",
       "      <th>...</th>\n",
       "      <td>...</td>\n",
       "      <td>...</td>\n",
       "      <td>...</td>\n",
       "      <td>...</td>\n",
       "      <td>...</td>\n",
       "      <td>...</td>\n",
       "      <td>...</td>\n",
       "      <td>...</td>\n",
       "    </tr>\n",
       "    <tr>\n",
       "      <th>19995</th>\n",
       "      <td>84.35.11.66</td>\n",
       "      <td>189.73.24.113</td>\n",
       "      <td>181.201.149.58</td>\n",
       "      <td>IBM</td>\n",
       "      <td>TIC</td>\n",
       "      <td>Other</td>\n",
       "      <td>Yes</td>\n",
       "      <td>8925 Young Curve\\nSouth Da</td>\n",
       "    </tr>\n",
       "    <tr>\n",
       "      <th>19996</th>\n",
       "      <td>243.117.93.152</td>\n",
       "      <td>79.131.130.126</td>\n",
       "      <td>60.121.20.132</td>\n",
       "      <td>IBM</td>\n",
       "      <td>TIC</td>\n",
       "      <td>Other</td>\n",
       "      <td>Yes</td>\n",
       "      <td>0134 Fowler Falls Apt. 22</td>\n",
       "    </tr>\n",
       "    <tr>\n",
       "      <th>19997</th>\n",
       "      <td>225.176.65.167</td>\n",
       "      <td>11.225.145.168</td>\n",
       "      <td>113.221.151.39</td>\n",
       "      <td>IBM</td>\n",
       "      <td>TIC</td>\n",
       "      <td>Other</td>\n",
       "      <td>Yes</td>\n",
       "      <td>284 Ruiz Passage\\nBillyhav</td>\n",
       "    </tr>\n",
       "    <tr>\n",
       "      <th>19998</th>\n",
       "      <td>91.80.168.11</td>\n",
       "      <td>183.129.69.160</td>\n",
       "      <td>246.60.142.63</td>\n",
       "      <td>IBM</td>\n",
       "      <td>TIC</td>\n",
       "      <td>Other</td>\n",
       "      <td>Yes</td>\n",
       "      <td>PSC 7645, Box 7268\\nAPO AP</td>\n",
       "    </tr>\n",
       "    <tr>\n",
       "      <th>19999</th>\n",
       "      <td>1.158.148.40</td>\n",
       "      <td>230.167.229.134</td>\n",
       "      <td>250.103.246.141</td>\n",
       "      <td>IBM</td>\n",
       "      <td>TIC</td>\n",
       "      <td>Other</td>\n",
       "      <td>Yes</td>\n",
       "      <td>Unit 9014 Box 5943\\nDPO AP</td>\n",
       "    </tr>\n",
       "  </tbody>\n",
       "</table>\n",
       "<p>20000 rows × 8 columns</p>\n",
       "</div>"
      ],
      "text/plain": [
       "            StartingIP         EndingIP     Name_Purpose  ISP TIC_MTIPS  \\\n",
       "0      237.250.149.123   193.19.126.109    166.30.165.89  IBM       TIC   \n",
       "1        18.186.136.33   59.171.241.205      75.17.90.56  IBM       TIC   \n",
       "2         42.122.13.60      46.103.88.9   214.34.145.170  IBM       TIC   \n",
       "3        229.61.225.55   92.139.135.163   100.84.197.102  IBM       TIC   \n",
       "4       150.60.243.145    67.122.48.244  218.239.202.168  IBM       TIC   \n",
       "...                ...              ...              ...  ...       ...   \n",
       "19995      84.35.11.66    189.73.24.113   181.201.149.58  IBM       TIC   \n",
       "19996   243.117.93.152   79.131.130.126    60.121.20.132  IBM       TIC   \n",
       "19997   225.176.65.167   11.225.145.168   113.221.151.39  IBM       TIC   \n",
       "19998     91.80.168.11   183.129.69.160    246.60.142.63  IBM       TIC   \n",
       "19999     1.158.148.40  230.167.229.134  250.103.246.141  IBM       TIC   \n",
       "\n",
       "      OtherISP Visible       External_Organization  \n",
       "0        Other     Yes  21987 Nicholas Harbor\\nMor  \n",
       "1        Other     Yes  2075 Helen Ridges\\nLake Pa  \n",
       "2        Other     Yes   9910 Johnson Drives Suite  \n",
       "3        Other     Yes   0929 John Forges Suite 76  \n",
       "4        Other     Yes  6528 Shannon Hill\\nAliches  \n",
       "...        ...     ...                         ...  \n",
       "19995    Other     Yes  8925 Young Curve\\nSouth Da  \n",
       "19996    Other     Yes   0134 Fowler Falls Apt. 22  \n",
       "19997    Other     Yes  284 Ruiz Passage\\nBillyhav  \n",
       "19998    Other     Yes  PSC 7645, Box 7268\\nAPO AP  \n",
       "19999    Other     Yes  Unit 9014 Box 5943\\nDPO AP  \n",
       "\n",
       "[20000 rows x 8 columns]"
      ]
     },
     "execution_count": 30,
     "metadata": {},
     "output_type": "execute_result"
    }
   ],
   "source": [
    " "
   ]
  },
  {
   "cell_type": "code",
   "execution_count": 31,
   "metadata": {},
   "outputs": [],
   "source": []
  },
  {
   "cell_type": "code",
   "execution_count": 2,
   "metadata": {},
   "outputs": [
    {
     "data": {
      "text/html": [
       "<div>\n",
       "<style scoped>\n",
       "    .dataframe tbody tr th:only-of-type {\n",
       "        vertical-align: middle;\n",
       "    }\n",
       "\n",
       "    .dataframe tbody tr th {\n",
       "        vertical-align: top;\n",
       "    }\n",
       "\n",
       "    .dataframe thead th {\n",
       "        text-align: right;\n",
       "    }\n",
       "</style>\n",
       "<table border=\"1\" class=\"dataframe\">\n",
       "  <thead>\n",
       "    <tr style=\"text-align: right;\">\n",
       "      <th></th>\n",
       "      <th>ID</th>\n",
       "      <th>PK_Form</th>\n",
       "      <th>MAX_PK_ReportingCycle</th>\n",
       "      <th>MIN_Q_PK</th>\n",
       "      <th>MAX_Q_PK</th>\n",
       "      <th>MAX_Q_PK_STAG</th>\n",
       "      <th>QOFFSET</th>\n",
       "      <th>MIN_QG_PK</th>\n",
       "      <th>MAX_QG_PK</th>\n",
       "      <th>MAX_QG_PK_STAG</th>\n",
       "      <th>...</th>\n",
       "      <th>GroupDesc</th>\n",
       "      <th>QPK</th>\n",
       "      <th>IdText</th>\n",
       "      <th>QuestionTypeCode</th>\n",
       "      <th>SortPos</th>\n",
       "      <th>QuestionTypeId</th>\n",
       "      <th>description</th>\n",
       "      <th>FK_PickList</th>\n",
       "      <th>QTEXT</th>\n",
       "      <th>PK</th>\n",
       "    </tr>\n",
       "  </thead>\n",
       "  <tbody>\n",
       "    <tr>\n",
       "      <th>0</th>\n",
       "      <td>1-0-</td>\n",
       "      <td>2021-A-SAOP</td>\n",
       "      <td>106</td>\n",
       "      <td>24600</td>\n",
       "      <td>25098</td>\n",
       "      <td>25108</td>\n",
       "      <td>0</td>\n",
       "      <td>2900</td>\n",
       "      <td>2916</td>\n",
       "      <td>2926</td>\n",
       "      <td>...</td>\n",
       "      <td>Section 1: General Privacy Program Requirements</td>\n",
       "      <td>24600</td>\n",
       "      <td></td>\n",
       "      <td>INSTRUCTION</td>\n",
       "      <td>0</td>\n",
       "      <td>62</td>\n",
       "      <td>Instruction (Text Only)</td>\n",
       "      <td>None</td>\n",
       "      <td>Note:&lt;BR /&gt;If \"No\" is selected for metric 1a, ...</td>\n",
       "      <td>24600</td>\n",
       "    </tr>\n",
       "    <tr>\n",
       "      <th>1</th>\n",
       "      <td>1-1-1a</td>\n",
       "      <td>2021-A-SAOP</td>\n",
       "      <td>106</td>\n",
       "      <td>24600</td>\n",
       "      <td>25098</td>\n",
       "      <td>25108</td>\n",
       "      <td>1</td>\n",
       "      <td>2900</td>\n",
       "      <td>2916</td>\n",
       "      <td>2926</td>\n",
       "      <td>...</td>\n",
       "      <td>Section 1: General Privacy Program Requirements</td>\n",
       "      <td>24601</td>\n",
       "      <td>1a</td>\n",
       "      <td>YN</td>\n",
       "      <td>1</td>\n",
       "      <td>1</td>\n",
       "      <td>Yes / No</td>\n",
       "      <td>None</td>\n",
       "      <td>Has the head of the agency designated a Senior...</td>\n",
       "      <td>24601</td>\n",
       "    </tr>\n",
       "  </tbody>\n",
       "</table>\n",
       "<p>2 rows × 30 columns</p>\n",
       "</div>"
      ],
      "text/plain": [
       "       ID      PK_Form  MAX_PK_ReportingCycle  MIN_Q_PK  MAX_Q_PK  \\\n",
       "0    1-0-  2021-A-SAOP                    106     24600     25098   \n",
       "1  1-1-1a  2021-A-SAOP                    106     24600     25098   \n",
       "\n",
       "   MAX_Q_PK_STAG  QOFFSET  MIN_QG_PK  MAX_QG_PK  MAX_QG_PK_STAG  ...  \\\n",
       "0          25108        0       2900       2916            2926  ...   \n",
       "1          25108        1       2900       2916            2926  ...   \n",
       "\n",
       "                                         GroupDesc    QPK  IdText  \\\n",
       "0  Section 1: General Privacy Program Requirements  24600           \n",
       "1  Section 1: General Privacy Program Requirements  24601      1a   \n",
       "\n",
       "   QuestionTypeCode  SortPos  QuestionTypeId              description  \\\n",
       "0       INSTRUCTION        0              62  Instruction (Text Only)   \n",
       "1                YN        1               1                 Yes / No   \n",
       "\n",
       "   FK_PickList                                              QTEXT     PK  \n",
       "0         None  Note:<BR />If \"No\" is selected for metric 1a, ...  24600  \n",
       "1         None  Has the head of the agency designated a Senior...  24601  \n",
       "\n",
       "[2 rows x 30 columns]"
      ]
     },
     "execution_count": 2,
     "metadata": {},
     "output_type": "execute_result"
    }
   ],
   "source": [
    "engine = create_engine(connstr)\n",
    "conn = engine.connect()\n",
    "query = \"\"\" \\\n",
    "SELECT * FROM vw_MetricsCompositeKeys WHERE PK_FORM = '2021-A-SAOP'\n",
    "\"\"\" \n",
    "df = pd.read_sql(query,con=conn)  \n",
    "df.head(2)"
   ]
  },
  {
   "cell_type": "code",
   "execution_count": null,
   "metadata": {},
   "outputs": [],
   "source": []
  },
  {
   "cell_type": "code",
   "execution_count": null,
   "metadata": {},
   "outputs": [],
   "source": [
    "def subtype(t):\n",
    "    t = re.sub('.*Free Text.*', 'TXT', t )  \n",
    "    t = re.sub('.*DATE.*', 'TXT', t ) \n",
    "    t = re.sub('.*Select All.*', 'MULTICHECKBOX', t )  \n",
    "    t = re.sub('.*PICK.*|.*Select.*', 'PICK', t )  \n",
    "    t = re.sub('.*UNK.*', 'YNA', t )  \n",
    "    t = re.sub('.*Y N.*', 'YN', t )   \n",
    "    return t"
   ]
  },
  {
   "cell_type": "code",
   "execution_count": null,
   "metadata": {},
   "outputs": [],
   "source": [
    "def processdf(df):\n",
    "    df=df.fillna('~')\n",
    "    df=df.loc[ df.ID != '~' ]\n",
    "    df.ID = df.ID.astype(str)\n",
    "    df.reset_index(drop=True, inplace=True) \n",
    "    df[\"SORDER\"] = df.index \n",
    "    df[\"TYPE\"] = df.TYPE.apply(lambda x: subtype(x) ) \n",
    "    df[\"QTEXT\"] = df.QTEXT.apply(lambda x: x.replace('\\'','`') ) \n",
    "    df[\"ID\"] = df.ID.apply(lambda x: x.replace('\\'','') ) \n",
    "    return df"
   ]
  },
  {
   "cell_type": "code",
   "execution_count": null,
   "metadata": {
    "scrolled": true
   },
   "outputs": [],
   "source": [
    "df_mas = pd.DataFrame();\n",
    "for i in range(2,4):\n",
    "    df = pd.read_csv(fr'c:\\Users\\Tim\\Documents\\1802\\s{i}.csv')  \n",
    "    df['Section'] = i\n",
    "    df['OFFSET'] = 50 * (i-1)\n",
    "    df=processdf(df)\n",
    "    df_mas = pd.concat([df_mas, df], axis=0, ignore_index=True) \n",
    "    \n",
    "df_mas[\"QPK\"] = df_mas.index + 22800 + df_mas.OFFSET\n",
    "df_mas.drop(columns=['OFFSET'], inplace=True)\n",
    "df_mas = pd.merge(df_mas , qtypes, left_on='TYPE', right_on='QCODE', how='left',   )\n",
    "df_mas[\"DBINSERT\"] = \"\" \n",
    "df_mas[\"ASPX\"] = \"\" \n",
    "df_mas.sort_values( by='QPK', inplace=True)\n",
    "df_mas.reset_index(drop=True, inplace=True)\n",
    "df_mas[1:2]"
   ]
  },
  {
   "cell_type": "code",
   "execution_count": null,
   "metadata": {
    "scrolled": true
   },
   "outputs": [],
   "source": [
    "ins = ''\n",
    "aspx = ''\n",
    "pickseed = 324\n",
    "for i,r in df_mas[:].iterrows():\n",
    "    df_mas.loc[i, 'DBINSERT'] = f\"({r.QPK}, @FormName, @PK_QGroup, {r.SORDER}, N'{r.ID}', NULL, NULL, NULL, {r.QTID}, 1, NULL, 0, NULL, NULL, NULL, N'{r.QTEXT}',  NULL),\"\n",
    "    ins = ins + df_mas.loc[i, 'DBINSERT'] + '\\n'  \n",
    "    metric = r.ID.replace('.','_')\n",
    "    if r.TYPE == 'PICK':\n",
    "        pickseed = pickseed + 1    \n",
    "    try:\n",
    "        s = open(f'C:\\\\_som\\\\_src\\\\{r.QCODE}.aspx', 'r').read()\n",
    "        s = s.replace('{0}',str(r.QPK)).replace('{1}',str(metric)).replace('{4}',str(metric)+ ' : ' +str(r.QPK)+ '\\n\\t' +str(r.QTEXT)).replace('{5}','')\n",
    "        s = s.replace('{2}',str(160))\n",
    "        df_mas.loc[i, 'ASPX'] = s\n",
    "        aspx = aspx + df_mas.loc[i, 'ASPX'] + '\\n\\n' \n",
    "    except : \n",
    "        pass\n",
    " \n",
    "df_mas.to_csv(r\"c:\\Users\\Tim\\Documents\\1802\\BOD_2021_Metrics.csv\", index='false')\n",
    "aspx = re.sub('_ShowRow','ShowRow', aspx) \n",
    "with open(r'c:\\Users\\Tim\\Documents\\1802\\DB_Update7.34_BOD_2021_READONLY.sql', 'w') as file:\n",
    "  file.write(ins)\n",
    "file.close()\n",
    "with open(r'c:\\Users\\Tim\\Documents\\1802\\BOD_2021_ASPX_READONLY.aspx', 'w') as file:\n",
    "  file.write(aspx)\n",
    "file.close()\n",
    "\n",
    "df_mas[:]"
   ]
  },
  {
   "cell_type": "code",
   "execution_count": null,
   "metadata": {},
   "outputs": [],
   "source": [
    "sr=''\n",
    "for i,r in df_mas.iterrows():\n",
    "    sr = sr + showrow.replace('{0}', r.ID.replace(\".\",\"_\"))\n",
    "print(sr)"
   ]
  },
  {
   "cell_type": "code",
   "execution_count": 2,
   "metadata": {
    "scrolled": false
   },
   "outputs": [
    {
     "ename": "FileNotFoundError",
     "evalue": "[Errno 2] No such file or directory: 'c:\\\\Users\\\\Tim\\\\Documents\\\\1802\\\\s1.csv'",
     "output_type": "error",
     "traceback": [
      "\u001b[1;31m---------------------------------------------------------------------------\u001b[0m",
      "\u001b[1;31mFileNotFoundError\u001b[0m                         Traceback (most recent call last)",
      "\u001b[1;32m<ipython-input-2-4d280a53f977>\u001b[0m in \u001b[0;36m<module>\u001b[1;34m\u001b[0m\n\u001b[0;32m      1\u001b[0m \u001b[0mdf_picks\u001b[0m \u001b[1;33m=\u001b[0m \u001b[0mpd\u001b[0m\u001b[1;33m.\u001b[0m\u001b[0mDataFrame\u001b[0m\u001b[1;33m(\u001b[0m\u001b[1;33m)\u001b[0m\u001b[1;33m;\u001b[0m\u001b[1;33m\u001b[0m\u001b[1;33m\u001b[0m\u001b[0m\n\u001b[1;32m----> 2\u001b[1;33m \u001b[0mdf\u001b[0m \u001b[1;33m=\u001b[0m \u001b[0mpd\u001b[0m\u001b[1;33m.\u001b[0m\u001b[0mread_csv\u001b[0m\u001b[1;33m(\u001b[0m\u001b[1;34mfr'c:\\Users\\Tim\\Documents\\1802\\s1.csv'\u001b[0m\u001b[1;33m)\u001b[0m\u001b[1;33m\u001b[0m\u001b[1;33m\u001b[0m\u001b[0m\n\u001b[0m\u001b[0;32m      3\u001b[0m \u001b[0mdf\u001b[0m \u001b[1;33m=\u001b[0m \u001b[0mdf\u001b[0m\u001b[1;33m.\u001b[0m\u001b[0mfillna\u001b[0m\u001b[1;33m(\u001b[0m\u001b[1;34m'~'\u001b[0m\u001b[1;33m)\u001b[0m\u001b[1;33m\u001b[0m\u001b[1;33m\u001b[0m\u001b[0m\n\u001b[0;32m      4\u001b[0m \u001b[0mdf\u001b[0m\u001b[1;33m=\u001b[0m\u001b[0mdf\u001b[0m\u001b[1;33m.\u001b[0m\u001b[0mloc\u001b[0m\u001b[1;33m[\u001b[0m \u001b[0mdf\u001b[0m\u001b[1;33m.\u001b[0m\u001b[0mTYPE\u001b[0m \u001b[1;33m!=\u001b[0m \u001b[1;34m'~'\u001b[0m \u001b[1;33m]\u001b[0m\u001b[1;33m\u001b[0m\u001b[1;33m\u001b[0m\u001b[0m\n\u001b[0;32m      5\u001b[0m \u001b[0mdf\u001b[0m\u001b[1;33m=\u001b[0m\u001b[0mdf\u001b[0m\u001b[1;33m.\u001b[0m\u001b[0mloc\u001b[0m\u001b[1;33m[\u001b[0m \u001b[0mdf\u001b[0m\u001b[1;33m.\u001b[0m\u001b[0mMETRIC\u001b[0m\u001b[1;33m.\u001b[0m\u001b[0mstr\u001b[0m\u001b[1;33m.\u001b[0m\u001b[0mcontains\u001b[0m\u001b[1;33m(\u001b[0m\u001b[1;34m'PL-'\u001b[0m\u001b[1;33m)\u001b[0m  \u001b[1;33m]\u001b[0m\u001b[1;33m\u001b[0m\u001b[1;33m\u001b[0m\u001b[0m\n",
      "\u001b[1;32m~\\anaconda3\\lib\\site-packages\\pandas\\io\\parsers.py\u001b[0m in \u001b[0;36mread_csv\u001b[1;34m(filepath_or_buffer, sep, delimiter, header, names, index_col, usecols, squeeze, prefix, mangle_dupe_cols, dtype, engine, converters, true_values, false_values, skipinitialspace, skiprows, skipfooter, nrows, na_values, keep_default_na, na_filter, verbose, skip_blank_lines, parse_dates, infer_datetime_format, keep_date_col, date_parser, dayfirst, cache_dates, iterator, chunksize, compression, thousands, decimal, lineterminator, quotechar, quoting, doublequote, escapechar, comment, encoding, dialect, error_bad_lines, warn_bad_lines, delim_whitespace, low_memory, memory_map, float_precision, storage_options)\u001b[0m\n\u001b[0;32m    608\u001b[0m     \u001b[0mkwds\u001b[0m\u001b[1;33m.\u001b[0m\u001b[0mupdate\u001b[0m\u001b[1;33m(\u001b[0m\u001b[0mkwds_defaults\u001b[0m\u001b[1;33m)\u001b[0m\u001b[1;33m\u001b[0m\u001b[1;33m\u001b[0m\u001b[0m\n\u001b[0;32m    609\u001b[0m \u001b[1;33m\u001b[0m\u001b[0m\n\u001b[1;32m--> 610\u001b[1;33m     \u001b[1;32mreturn\u001b[0m \u001b[0m_read\u001b[0m\u001b[1;33m(\u001b[0m\u001b[0mfilepath_or_buffer\u001b[0m\u001b[1;33m,\u001b[0m \u001b[0mkwds\u001b[0m\u001b[1;33m)\u001b[0m\u001b[1;33m\u001b[0m\u001b[1;33m\u001b[0m\u001b[0m\n\u001b[0m\u001b[0;32m    611\u001b[0m \u001b[1;33m\u001b[0m\u001b[0m\n\u001b[0;32m    612\u001b[0m \u001b[1;33m\u001b[0m\u001b[0m\n",
      "\u001b[1;32m~\\anaconda3\\lib\\site-packages\\pandas\\io\\parsers.py\u001b[0m in \u001b[0;36m_read\u001b[1;34m(filepath_or_buffer, kwds)\u001b[0m\n\u001b[0;32m    460\u001b[0m \u001b[1;33m\u001b[0m\u001b[0m\n\u001b[0;32m    461\u001b[0m     \u001b[1;31m# Create the parser.\u001b[0m\u001b[1;33m\u001b[0m\u001b[1;33m\u001b[0m\u001b[1;33m\u001b[0m\u001b[0m\n\u001b[1;32m--> 462\u001b[1;33m     \u001b[0mparser\u001b[0m \u001b[1;33m=\u001b[0m \u001b[0mTextFileReader\u001b[0m\u001b[1;33m(\u001b[0m\u001b[0mfilepath_or_buffer\u001b[0m\u001b[1;33m,\u001b[0m \u001b[1;33m**\u001b[0m\u001b[0mkwds\u001b[0m\u001b[1;33m)\u001b[0m\u001b[1;33m\u001b[0m\u001b[1;33m\u001b[0m\u001b[0m\n\u001b[0m\u001b[0;32m    463\u001b[0m \u001b[1;33m\u001b[0m\u001b[0m\n\u001b[0;32m    464\u001b[0m     \u001b[1;32mif\u001b[0m \u001b[0mchunksize\u001b[0m \u001b[1;32mor\u001b[0m \u001b[0miterator\u001b[0m\u001b[1;33m:\u001b[0m\u001b[1;33m\u001b[0m\u001b[1;33m\u001b[0m\u001b[0m\n",
      "\u001b[1;32m~\\anaconda3\\lib\\site-packages\\pandas\\io\\parsers.py\u001b[0m in \u001b[0;36m__init__\u001b[1;34m(self, f, engine, **kwds)\u001b[0m\n\u001b[0;32m    817\u001b[0m             \u001b[0mself\u001b[0m\u001b[1;33m.\u001b[0m\u001b[0moptions\u001b[0m\u001b[1;33m[\u001b[0m\u001b[1;34m\"has_index_names\"\u001b[0m\u001b[1;33m]\u001b[0m \u001b[1;33m=\u001b[0m \u001b[0mkwds\u001b[0m\u001b[1;33m[\u001b[0m\u001b[1;34m\"has_index_names\"\u001b[0m\u001b[1;33m]\u001b[0m\u001b[1;33m\u001b[0m\u001b[1;33m\u001b[0m\u001b[0m\n\u001b[0;32m    818\u001b[0m \u001b[1;33m\u001b[0m\u001b[0m\n\u001b[1;32m--> 819\u001b[1;33m         \u001b[0mself\u001b[0m\u001b[1;33m.\u001b[0m\u001b[0m_engine\u001b[0m \u001b[1;33m=\u001b[0m \u001b[0mself\u001b[0m\u001b[1;33m.\u001b[0m\u001b[0m_make_engine\u001b[0m\u001b[1;33m(\u001b[0m\u001b[0mself\u001b[0m\u001b[1;33m.\u001b[0m\u001b[0mengine\u001b[0m\u001b[1;33m)\u001b[0m\u001b[1;33m\u001b[0m\u001b[1;33m\u001b[0m\u001b[0m\n\u001b[0m\u001b[0;32m    820\u001b[0m \u001b[1;33m\u001b[0m\u001b[0m\n\u001b[0;32m    821\u001b[0m     \u001b[1;32mdef\u001b[0m \u001b[0mclose\u001b[0m\u001b[1;33m(\u001b[0m\u001b[0mself\u001b[0m\u001b[1;33m)\u001b[0m\u001b[1;33m:\u001b[0m\u001b[1;33m\u001b[0m\u001b[1;33m\u001b[0m\u001b[0m\n",
      "\u001b[1;32m~\\anaconda3\\lib\\site-packages\\pandas\\io\\parsers.py\u001b[0m in \u001b[0;36m_make_engine\u001b[1;34m(self, engine)\u001b[0m\n\u001b[0;32m   1048\u001b[0m             )\n\u001b[0;32m   1049\u001b[0m         \u001b[1;31m# error: Too many arguments for \"ParserBase\"\u001b[0m\u001b[1;33m\u001b[0m\u001b[1;33m\u001b[0m\u001b[1;33m\u001b[0m\u001b[0m\n\u001b[1;32m-> 1050\u001b[1;33m         \u001b[1;32mreturn\u001b[0m \u001b[0mmapping\u001b[0m\u001b[1;33m[\u001b[0m\u001b[0mengine\u001b[0m\u001b[1;33m]\u001b[0m\u001b[1;33m(\u001b[0m\u001b[0mself\u001b[0m\u001b[1;33m.\u001b[0m\u001b[0mf\u001b[0m\u001b[1;33m,\u001b[0m \u001b[1;33m**\u001b[0m\u001b[0mself\u001b[0m\u001b[1;33m.\u001b[0m\u001b[0moptions\u001b[0m\u001b[1;33m)\u001b[0m  \u001b[1;31m# type: ignore[call-arg]\u001b[0m\u001b[1;33m\u001b[0m\u001b[1;33m\u001b[0m\u001b[0m\n\u001b[0m\u001b[0;32m   1051\u001b[0m \u001b[1;33m\u001b[0m\u001b[0m\n\u001b[0;32m   1052\u001b[0m     \u001b[1;32mdef\u001b[0m \u001b[0m_failover_to_python\u001b[0m\u001b[1;33m(\u001b[0m\u001b[0mself\u001b[0m\u001b[1;33m)\u001b[0m\u001b[1;33m:\u001b[0m\u001b[1;33m\u001b[0m\u001b[1;33m\u001b[0m\u001b[0m\n",
      "\u001b[1;32m~\\anaconda3\\lib\\site-packages\\pandas\\io\\parsers.py\u001b[0m in \u001b[0;36m__init__\u001b[1;34m(self, src, **kwds)\u001b[0m\n\u001b[0;32m   1865\u001b[0m \u001b[1;33m\u001b[0m\u001b[0m\n\u001b[0;32m   1866\u001b[0m         \u001b[1;31m# open handles\u001b[0m\u001b[1;33m\u001b[0m\u001b[1;33m\u001b[0m\u001b[1;33m\u001b[0m\u001b[0m\n\u001b[1;32m-> 1867\u001b[1;33m         \u001b[0mself\u001b[0m\u001b[1;33m.\u001b[0m\u001b[0m_open_handles\u001b[0m\u001b[1;33m(\u001b[0m\u001b[0msrc\u001b[0m\u001b[1;33m,\u001b[0m \u001b[0mkwds\u001b[0m\u001b[1;33m)\u001b[0m\u001b[1;33m\u001b[0m\u001b[1;33m\u001b[0m\u001b[0m\n\u001b[0m\u001b[0;32m   1868\u001b[0m         \u001b[1;32massert\u001b[0m \u001b[0mself\u001b[0m\u001b[1;33m.\u001b[0m\u001b[0mhandles\u001b[0m \u001b[1;32mis\u001b[0m \u001b[1;32mnot\u001b[0m \u001b[1;32mNone\u001b[0m\u001b[1;33m\u001b[0m\u001b[1;33m\u001b[0m\u001b[0m\n\u001b[0;32m   1869\u001b[0m         \u001b[1;32mfor\u001b[0m \u001b[0mkey\u001b[0m \u001b[1;32min\u001b[0m \u001b[1;33m(\u001b[0m\u001b[1;34m\"storage_options\"\u001b[0m\u001b[1;33m,\u001b[0m \u001b[1;34m\"encoding\"\u001b[0m\u001b[1;33m,\u001b[0m \u001b[1;34m\"memory_map\"\u001b[0m\u001b[1;33m,\u001b[0m \u001b[1;34m\"compression\"\u001b[0m\u001b[1;33m)\u001b[0m\u001b[1;33m:\u001b[0m\u001b[1;33m\u001b[0m\u001b[1;33m\u001b[0m\u001b[0m\n",
      "\u001b[1;32m~\\anaconda3\\lib\\site-packages\\pandas\\io\\parsers.py\u001b[0m in \u001b[0;36m_open_handles\u001b[1;34m(self, src, kwds)\u001b[0m\n\u001b[0;32m   1360\u001b[0m         \u001b[0mLet\u001b[0m \u001b[0mthe\u001b[0m \u001b[0mreaders\u001b[0m \u001b[0mopen\u001b[0m \u001b[0mIOHanldes\u001b[0m \u001b[0mafter\u001b[0m \u001b[0mthey\u001b[0m \u001b[0mare\u001b[0m \u001b[0mdone\u001b[0m \u001b[1;32mwith\u001b[0m \u001b[0mtheir\u001b[0m \u001b[0mpotential\u001b[0m \u001b[0mraises\u001b[0m\u001b[1;33m.\u001b[0m\u001b[1;33m\u001b[0m\u001b[1;33m\u001b[0m\u001b[0m\n\u001b[0;32m   1361\u001b[0m         \"\"\"\n\u001b[1;32m-> 1362\u001b[1;33m         self.handles = get_handle(\n\u001b[0m\u001b[0;32m   1363\u001b[0m             \u001b[0msrc\u001b[0m\u001b[1;33m,\u001b[0m\u001b[1;33m\u001b[0m\u001b[1;33m\u001b[0m\u001b[0m\n\u001b[0;32m   1364\u001b[0m             \u001b[1;34m\"r\"\u001b[0m\u001b[1;33m,\u001b[0m\u001b[1;33m\u001b[0m\u001b[1;33m\u001b[0m\u001b[0m\n",
      "\u001b[1;32m~\\anaconda3\\lib\\site-packages\\pandas\\io\\common.py\u001b[0m in \u001b[0;36mget_handle\u001b[1;34m(path_or_buf, mode, encoding, compression, memory_map, is_text, errors, storage_options)\u001b[0m\n\u001b[0;32m    640\u001b[0m                 \u001b[0merrors\u001b[0m \u001b[1;33m=\u001b[0m \u001b[1;34m\"replace\"\u001b[0m\u001b[1;33m\u001b[0m\u001b[1;33m\u001b[0m\u001b[0m\n\u001b[0;32m    641\u001b[0m             \u001b[1;31m# Encoding\u001b[0m\u001b[1;33m\u001b[0m\u001b[1;33m\u001b[0m\u001b[1;33m\u001b[0m\u001b[0m\n\u001b[1;32m--> 642\u001b[1;33m             handle = open(\n\u001b[0m\u001b[0;32m    643\u001b[0m                 \u001b[0mhandle\u001b[0m\u001b[1;33m,\u001b[0m\u001b[1;33m\u001b[0m\u001b[1;33m\u001b[0m\u001b[0m\n\u001b[0;32m    644\u001b[0m                 \u001b[0mioargs\u001b[0m\u001b[1;33m.\u001b[0m\u001b[0mmode\u001b[0m\u001b[1;33m,\u001b[0m\u001b[1;33m\u001b[0m\u001b[1;33m\u001b[0m\u001b[0m\n",
      "\u001b[1;31mFileNotFoundError\u001b[0m: [Errno 2] No such file or directory: 'c:\\\\Users\\\\Tim\\\\Documents\\\\1802\\\\s1.csv'"
     ]
    }
   ],
   "source": [
    "df_picks = pd.DataFrame(); \n",
    "df = pd.read_csv(fr'c:\\Users\\Tim\\Documents\\1802\\s1.csv')   \n",
    "df = df.fillna('~')\n",
    "df=df.loc[ df.TYPE != '~' ] \n",
    "df=df.loc[ df.METRIC.str.contains('PL-')  ] \n",
    "pickseed = 3980\n",
    "sorder=0\n",
    "METRIC=df.iloc[0]['METRIC']\n",
    "for i,r in df.iterrows():\n",
    "\n",
    "    if METRIC != r.METRIC:\n",
    "        sorder=0\n",
    "        METRIC=r.METRIC \n",
    "    pickseed = pickseed + 1 \n",
    "    sorder = sorder + 1 \n",
    "    TYPE = re.sub('\\s\\s', '', r.TYPE)  \n",
    "    TYPE= re.sub('\\(Free Text\\)', '', TYPE) \n",
    "    # TYPE= re.sub(', ', '', TYPE) \n",
    "    TYPE= re.sub('· ', '', TYPE) \n",
    "    CodeValue=r.TYPE.upper() \n",
    "    CodeValue = re.sub('[^A-Z0-9]', '', CodeValue)   \n",
    "    if len(CodeValue) > 4 :\n",
    "        CodeValue = re.sub('[AEIOUY]', '', CodeValue)\n",
    "        CodeValue=CodeValue[:4]+CodeValue[-4:]\n",
    "        if re.search('.*Other.*', TYPE):\n",
    "            CodeValue=\"OTH\"  \n",
    "    \n",
    "    TYPE = TYPE.replace(\", \",\" \")\n",
    "    df.loc[i, 'PK_Picklist'] = f\"({pickseed},@PKT, N'{CodeValue}','{TYPE}',{sorder}, GETDATE(), 1),\"\n",
    "    print(df.loc[i, 'PK_Picklist']) \n",
    "    \n",
    "df.head(59)"
   ]
  },
  {
   "cell_type": "code",
   "execution_count": null,
   "metadata": {},
   "outputs": [],
   "source": [
    " df = pd.read_csv(fr'c:\\Users\\Tim\\Documents\\1802\\BOD_2021_Metrics.csv')  "
   ]
  },
  {
   "cell_type": "code",
   "execution_count": null,
   "metadata": {
    "scrolled": true
   },
   "outputs": [],
   "source": [
    "query = \"\"\"\\\n",
    "SELECT PK_PickList, PK_PickListType, DisplayValue, CodeValue, SortPos, Description, UsageField FROM vwPickLists\n",
    "WHERE PK_PickListType IN (100,101,102,103,104,105,106,113,114,164,165,166)\n",
    "\"\"\" \n",
    " \n",
    "dfpicks = pd.read_sql(query,con=conn) \n",
    "UsageField=dfpicks.iloc[0]['UsageField']\n",
    "s=f\"\\n\"\n",
    "s = s + f\"Enum PICK_{UsageField} \\t'{dfpicks.iloc[0]['Description']}-{dfpicks.iloc[0]['PK_PickListType']}\\n\"\n",
    "for i,r in dfpicks.iterrows():\n",
    "    if UsageField != dfpicks.iloc[i]['UsageField']:\n",
    "        UsageField=dfpicks.iloc[i]['UsageField']\n",
    "        s = s + f\"End Enum\\n\"\n",
    "        s = s + f\"Enum PICK_{UsageField} \\t'{dfpicks.iloc[i]['Description']}-{dfpicks.iloc[i]['PK_PickListType']}\\n\"\n",
    "    s = s + f\"\\t{r.CodeValue} = {str(r.PK_PickList)} \\t'{str(r.DisplayValue)[:25]}\\n\" \n",
    "s=s+\"End Enum\\n\"\n",
    "print(s)"
   ]
  },
  {
   "cell_type": "code",
   "execution_count": null,
   "metadata": {},
   "outputs": [],
   "source": [
    " "
   ]
  },
  {
   "cell_type": "code",
   "execution_count": null,
   "metadata": {},
   "outputs": [],
   "source": [
    "showrow = \"\"\"\\\n",
    "    Protected _ShowRow_{0} As String\n",
    "    Public Property ShowRow_{0}() As String\n",
    "        Get\n",
    "            Return _ShowRow_{0}\n",
    "        End Get\n",
    "        Set(ByVal value As String)\n",
    "            _ShowRow_{0} = value\n",
    "        End Set\n",
    "    End Property\n",
    "    \n",
    "\"\"\""
   ]
  },
  {
   "cell_type": "code",
   "execution_count": null,
   "metadata": {},
   "outputs": [],
   "source": [
    "import nltk\n",
    "stop_words = set(stopwords.words('english'))  "
   ]
  },
  {
   "cell_type": "code",
   "execution_count": null,
   "metadata": {},
   "outputs": [],
   "source": [
    "#df = pd.read_csv(fr'c:\\Users\\Tim\\Documents\\1802\\HVA_20_21_ID_Mapper.csv')  \n",
    "#df.to_sql('HVA_IDTEXT_Map', engine,  if_exists='replace', index=False )\n",
    " "
   ]
  },
  {
   "cell_type": "code",
   "execution_count": null,
   "metadata": {},
   "outputs": [],
   "source": []
  }
 ],
 "metadata": {
  "kernelspec": {
   "display_name": "Python 3",
   "language": "python",
   "name": "python3"
  },
  "language_info": {
   "codemirror_mode": {
    "name": "ipython",
    "version": 3
   },
   "file_extension": ".py",
   "mimetype": "text/x-python",
   "name": "python",
   "nbconvert_exporter": "python",
   "pygments_lexer": "ipython3",
   "version": "3.8.8"
  }
 },
 "nbformat": 4,
 "nbformat_minor": 4
}
