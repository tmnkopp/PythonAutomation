{
 "cells": [
  {
   "cell_type": "code",
   "execution_count": 4,
   "metadata": {},
   "outputs": [],
   "source": [
    "import re, subprocess, pyodbc \n",
    "import numpy as np # linear algebra \n",
    "from sqlalchemy import func, create_engine\n",
    "from config import mongoConn, connstr  \n",
    "import pandas as pd\n",
    "from faker import Faker\n",
    "fake = Faker()"
   ]
  },
  {
   "cell_type": "code",
   "execution_count": 5,
   "metadata": {
    "scrolled": false
   },
   "outputs": [],
   "source": [
    "engine = create_engine(connstr)\n",
    "conn = engine.connect()\n",
    "query = \"\"\" \\\n",
    "SELECT QPK, QGROUP, IdText, QuestionTypeCode, QuestionTypeID, QTEXT    \n",
    "FROM  vw_MetricsCompositeKeys\n",
    "WHERE PK_Form LIKE '%2022-Q1-CIO%'\n",
    "\"\"\"  \n",
    "df = pd.read_sql(query,con=conn) \n",
    "conn.close()\n"
   ]
  },
  {
   "cell_type": "code",
   "execution_count": null,
   "metadata": {},
   "outputs": [],
   "source": [
    "for i,r in df.iterrows():\n",
    "    s = ''\n",
    "    s = s + f\" -- {str(r['QPK'])}  {str(r['QGROUP'])}\"\n",
    "    print( s ) \n",
    "for i,r in df.iterrows():\n",
    "    qtext = r['QTEXT'].replace(\"'\",\"''\").replace(\"\\n\",\"\").replace(\"\\r\",\"\").replace(\"\\t\",\"\")\n",
    "    help_text = r['help_text'].replace(\"'\",\"''\").replace(\"\\n\",\"\").replace(\"\\r\",\"\").replace(\"\\t\",\"\")\n",
    "    s = f\"UPDATE fsma_Questions \\nSET QuestionText = '{qtext}'\" \n",
    "    s = s + f\"\\n, help_text = '{help_text}'\"\n",
    "    s = s + f'\\n, FK_QuestionType = ' + str(r['QuestionTypeID']) + ' ' \n",
    "    s = s + f\"WHERE PK_Question = \" + str(r['QPK']) + f\";\\n\"\n",
    "    s = s + f\" -- OLD QGROUP {str(r['QGROUP'])} TYPE {str(r['QuestionTypeCode'])}\\n\"\n",
    "    print( s ) "
   ]
  },
  {
   "cell_type": "code",
   "execution_count": null,
   "metadata": {},
   "outputs": [],
   "source": [
    "engine = create_engine(connstr)\n",
    "conn = engine.connect()\n",
    "query = \"\"\" \\\n",
    "SELECT QPK, QGROUP, IdText, QuestionTypeCode , QuestionTypeCode, QTEXT, help_text   \n",
    "FROM  vw_MetricsCompositeKeys\n",
    "WHERE PK_Form LIKE '%2022-Q1-CIO%'\n",
    "\"\"\"  \n",
    "df = pd.read_sql(query,con=conn) \n",
    "conn.close()"
   ]
  },
  {
   "cell_type": "code",
   "execution_count": 6,
   "metadata": {},
   "outputs": [],
   "source": [
    "offset = 9\n",
    "qg = 3200\n",
    "fp = 3000"
   ]
  },
  {
   "cell_type": "code",
   "execution_count": 8,
   "metadata": {},
   "outputs": [
    {
     "data": {
      "text/html": [
       "<div>\n",
       "<style scoped>\n",
       "    .dataframe tbody tr th:only-of-type {\n",
       "        vertical-align: middle;\n",
       "    }\n",
       "\n",
       "    .dataframe tbody tr th {\n",
       "        vertical-align: top;\n",
       "    }\n",
       "\n",
       "    .dataframe thead th {\n",
       "        text-align: right;\n",
       "    }\n",
       "</style>\n",
       "<table border=\"1\" class=\"dataframe\">\n",
       "  <thead>\n",
       "    <tr style=\"text-align: right;\">\n",
       "      <th></th>\n",
       "      <th>id</th>\n",
       "      <th>text</th>\n",
       "    </tr>\n",
       "  </thead>\n",
       "  <tbody>\n",
       "    <tr>\n",
       "      <th>0</th>\n",
       "      <td>7a</td>\n",
       "      <td>Ground Truth Testing- Testing Activities</td>\n",
       "    </tr>\n",
       "    <tr>\n",
       "      <th>1</th>\n",
       "      <td>7b</td>\n",
       "      <td>Ground Truth Testing- Penetration Testing</td>\n",
       "    </tr>\n",
       "    <tr>\n",
       "      <th>2</th>\n",
       "      <td>7c</td>\n",
       "      <td>Ground Truth Testing- Vulnerability Disclosure...</td>\n",
       "    </tr>\n",
       "    <tr>\n",
       "      <th>3</th>\n",
       "      <td>7d</td>\n",
       "      <td>Ground Truth Testing- Team Exercises</td>\n",
       "    </tr>\n",
       "    <tr>\n",
       "      <th>4</th>\n",
       "      <td>8</td>\n",
       "      <td>Smart Patching</td>\n",
       "    </tr>\n",
       "    <tr>\n",
       "      <th>5</th>\n",
       "      <td>9</td>\n",
       "      <td>Vulnerability Disclosure</td>\n",
       "    </tr>\n",
       "    <tr>\n",
       "      <th>6</th>\n",
       "      <td>10</td>\n",
       "      <td>Resilience</td>\n",
       "    </tr>\n",
       "  </tbody>\n",
       "</table>\n",
       "</div>"
      ],
      "text/plain": [
       "   id                                               text\n",
       "0  7a           Ground Truth Testing- Testing Activities\n",
       "1  7b          Ground Truth Testing- Penetration Testing\n",
       "2  7c  Ground Truth Testing- Vulnerability Disclosure...\n",
       "3  7d               Ground Truth Testing- Team Exercises\n",
       "4   8                                     Smart Patching\n",
       "5   9                           Vulnerability Disclosure\n",
       "6  10                                         Resilience"
      ]
     },
     "execution_count": 8,
     "metadata": {},
     "output_type": "execute_result"
    }
   ],
   "source": [
    "sections = [ \n",
    "{'id':'7a', 'text': 'Ground Truth Testing- Testing Activities'},\n",
    "{'id':'7b', 'text': 'Ground Truth Testing- Penetration Testing'},\n",
    "{'id':'7c', 'text': 'Ground Truth Testing- Vulnerability Disclosure Tools'},\n",
    "{'id':'7d', 'text': 'Ground Truth Testing- Team Exercises'},\n",
    "{'id':'8', 'text': 'Smart Patching'},\n",
    "{'id':'9', 'text': 'Vulnerability Disclosure'},\n",
    "{'id':'10', 'text': 'Resilience'}  \n",
    "]\n",
    "df_s = pd.DataFrame(sections)\n",
    "df_s"
   ]
  },
  {
   "cell_type": "code",
   "execution_count": 13,
   "metadata": {
    "scrolled": true
   },
   "outputs": [
    {
     "name": "stdout",
     "output_type": "stream",
     "text": [
      "(@PK_FormPage+9,@PK_Form, 'S1B: Identify - Assets', 'FismaForms/2022/2022_Q1_CIO_7a.aspx', 9), \n",
      "(@PK_FormPage+10,@PK_Form, 'S1B: Identify - Assets', 'FismaForms/2022/2022_Q1_CIO_7b.aspx', 10), \n",
      "(@PK_FormPage+11,@PK_Form, 'S1B: Identify - Assets', 'FismaForms/2022/2022_Q1_CIO_7c.aspx', 11), \n",
      "(@PK_FormPage+12,@PK_Form, 'S1B: Identify - Assets', 'FismaForms/2022/2022_Q1_CIO_7d.aspx', 12), \n",
      "(@PK_FormPage+13,@PK_Form, 'S1B: Identify - Assets', 'FismaForms/2022/2022_Q1_CIO_8.aspx', 13), \n",
      "(@PK_FormPage+14,@PK_Form, 'S1B: Identify - Assets', 'FismaForms/2022/2022_Q1_CIO_9.aspx', 14), \n",
      "(@PK_FormPage+15,@PK_Form, 'S1B: Identify - Assets', 'FismaForms/2022/2022_Q1_CIO_10.aspx', 15), \n"
     ]
    }
   ],
   "source": [
    "c = 9\n",
    "for i,r in df_s.iterrows():\n",
    "    n = c+i\n",
    "    p = f\"(@PK_FormPage+{n},@PK_Form, 'S1B: Identify - Assets', 'FismaForms/2022/2022_Q1_CIO_{r['id']}.aspx', {n}), \";\n",
    "    print( p ) "
   ]
  },
  {
   "cell_type": "code",
   "execution_count": null,
   "metadata": {},
   "outputs": [],
   "source": []
  },
  {
   "cell_type": "code",
   "execution_count": null,
   "metadata": {},
   "outputs": [],
   "source": []
  },
  {
   "cell_type": "code",
   "execution_count": null,
   "metadata": {},
   "outputs": [],
   "source": []
  },
  {
   "cell_type": "code",
   "execution_count": null,
   "metadata": {},
   "outputs": [],
   "source": []
  },
  {
   "cell_type": "code",
   "execution_count": null,
   "metadata": {},
   "outputs": [],
   "source": []
  }
 ],
 "metadata": {
  "kernelspec": {
   "display_name": "Python 3",
   "language": "python",
   "name": "python3"
  },
  "language_info": {
   "codemirror_mode": {
    "name": "ipython",
    "version": 3
   },
   "file_extension": ".py",
   "mimetype": "text/x-python",
   "name": "python",
   "nbconvert_exporter": "python",
   "pygments_lexer": "ipython3",
   "version": "3.8.8"
  }
 },
 "nbformat": 4,
 "nbformat_minor": 4
}
