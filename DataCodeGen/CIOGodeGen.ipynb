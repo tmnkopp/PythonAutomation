{
 "cells": [
  {
   "cell_type": "code",
   "execution_count": 70,
   "metadata": {},
   "outputs": [],
   "source": [
    "import re, subprocess, pyodbc , json\n",
    "import numpy as np # linear algebra \n",
    "from sqlalchemy import func, create_engine\n",
    "from config import mongoConn, connstr  \n",
    "import pandas as pd\n",
    "from faker import Faker\n",
    "fake = Faker()"
   ]
  },
  {
   "cell_type": "code",
   "execution_count": 5,
   "metadata": {
    "scrolled": false
   },
   "outputs": [],
   "source": [
    "engine = create_engine(connstr)\n",
    "conn = engine.connect()\n",
    "query = \"\"\" \\\n",
    "SELECT QPK, QGROUP, IdText, QuestionTypeCode, QuestionTypeID, QTEXT    \n",
    "FROM  vw_MetricsCompositeKeys\n",
    "WHERE PK_Form LIKE '%2022-Q1-CIO%'\n",
    "\"\"\"  \n",
    "df = pd.read_sql(query,con=conn) \n",
    "conn.close()\n"
   ]
  },
  {
   "cell_type": "code",
   "execution_count": null,
   "metadata": {},
   "outputs": [],
   "source": [
    "engine = create_engine(connstr)\n",
    "conn = engine.connect()\n",
    "query = \"\"\" \\\n",
    "SELECT QPK, QGROUP, IdText, QuestionTypeCode , QuestionTypeCode, QTEXT, help_text   \n",
    "FROM  vw_MetricsCompositeKeys\n",
    "WHERE PK_Form LIKE '%2022-Q1-CIO%'\n",
    "\"\"\"  \n",
    "df = pd.read_sql(query,con=conn) \n",
    "conn.close()"
   ]
  },
  {
   "cell_type": "code",
   "execution_count": 6,
   "metadata": {},
   "outputs": [],
   "source": [
    "offset = 10\n",
    "qg = 3200\n",
    "fp = 3000"
   ]
  },
  {
   "cell_type": "code",
   "execution_count": 8,
   "metadata": {},
   "outputs": [
    {
     "data": {
      "text/html": [
       "<div>\n",
       "<style scoped>\n",
       "    .dataframe tbody tr th:only-of-type {\n",
       "        vertical-align: middle;\n",
       "    }\n",
       "\n",
       "    .dataframe tbody tr th {\n",
       "        vertical-align: top;\n",
       "    }\n",
       "\n",
       "    .dataframe thead th {\n",
       "        text-align: right;\n",
       "    }\n",
       "</style>\n",
       "<table border=\"1\" class=\"dataframe\">\n",
       "  <thead>\n",
       "    <tr style=\"text-align: right;\">\n",
       "      <th></th>\n",
       "      <th>id</th>\n",
       "      <th>text</th>\n",
       "    </tr>\n",
       "  </thead>\n",
       "  <tbody>\n",
       "    <tr>\n",
       "      <th>0</th>\n",
       "      <td>7a</td>\n",
       "      <td>Ground Truth Testing- Testing Activities</td>\n",
       "    </tr>\n",
       "    <tr>\n",
       "      <th>1</th>\n",
       "      <td>7b</td>\n",
       "      <td>Ground Truth Testing- Penetration Testing</td>\n",
       "    </tr>\n",
       "    <tr>\n",
       "      <th>2</th>\n",
       "      <td>7c</td>\n",
       "      <td>Ground Truth Testing- Vulnerability Disclosure...</td>\n",
       "    </tr>\n",
       "    <tr>\n",
       "      <th>3</th>\n",
       "      <td>7d</td>\n",
       "      <td>Ground Truth Testing- Team Exercises</td>\n",
       "    </tr>\n",
       "    <tr>\n",
       "      <th>4</th>\n",
       "      <td>8</td>\n",
       "      <td>Smart Patching</td>\n",
       "    </tr>\n",
       "    <tr>\n",
       "      <th>5</th>\n",
       "      <td>9</td>\n",
       "      <td>Vulnerability Disclosure</td>\n",
       "    </tr>\n",
       "    <tr>\n",
       "      <th>6</th>\n",
       "      <td>10</td>\n",
       "      <td>Resilience</td>\n",
       "    </tr>\n",
       "  </tbody>\n",
       "</table>\n",
       "</div>"
      ],
      "text/plain": [
       "   id                                               text\n",
       "0  7a           Ground Truth Testing- Testing Activities\n",
       "1  7b          Ground Truth Testing- Penetration Testing\n",
       "2  7c  Ground Truth Testing- Vulnerability Disclosure...\n",
       "3  7d               Ground Truth Testing- Team Exercises\n",
       "4   8                                     Smart Patching\n",
       "5   9                           Vulnerability Disclosure\n",
       "6  10                                         Resilience"
      ]
     },
     "execution_count": 8,
     "metadata": {},
     "output_type": "execute_result"
    }
   ],
   "source": [
    "sections = [ \n",
    "{'id':'7a', 'text': 'Ground Truth Testing- Testing Activities'},\n",
    "{'id':'7b', 'text': 'Ground Truth Testing- Penetration Testing'},\n",
    "{'id':'7c', 'text': 'Ground Truth Testing- Vulnerability Disclosure Tools'},\n",
    "{'id':'7d', 'text': 'Ground Truth Testing- Team Exercises'},\n",
    "{'id':'8', 'text': 'Smart Patching'},\n",
    "{'id':'9', 'text': 'Vulnerability Disclosure'},\n",
    "{'id':'10', 'text': 'Resilience'}  \n",
    "]\n",
    "df_s = pd.DataFrame(sections)\n",
    "df_s"
   ]
  },
  {
   "cell_type": "code",
   "execution_count": 71,
   "metadata": {
    "scrolled": true
   },
   "outputs": [
    {
     "name": "stdout",
     "output_type": "stream",
     "text": [
      "(@PK_FormPage+9,@PK_Form, '7a: Ground Truth Testing- Testing Activities', 'FismaForms/2022/2022_Q1_CIO_7a.aspx', 9), \n",
      "(@PK_FormPage+10,@PK_Form, '7b: Ground Truth Testing- Penetration Testing', 'FismaForms/2022/2022_Q1_CIO_7b.aspx', 10), \n",
      "(@PK_FormPage+11,@PK_Form, '7c: Ground Truth Testing- Vulnerability Disclosure Tools', 'FismaForms/2022/2022_Q1_CIO_7c.aspx', 11), \n",
      "(@PK_FormPage+12,@PK_Form, '7d: Ground Truth Testing- Team Exercises', 'FismaForms/2022/2022_Q1_CIO_7d.aspx', 12), \n",
      "(@PK_FormPage+13,@PK_Form, '8: Smart Patching', 'FismaForms/2022/2022_Q1_CIO_8.aspx', 13), \n",
      "(@PK_FormPage+14,@PK_Form, '9: Vulnerability Disclosure', 'FismaForms/2022/2022_Q1_CIO_9.aspx', 14), \n",
      "(@PK_FormPage+15,@PK_Form, '10: Resilience', 'FismaForms/2022/2022_Q1_CIO_10.aspx', 15), \n"
     ]
    }
   ],
   "source": [
    "for i,r in df_s.iterrows():\n",
    "    n = offset+i\n",
    "    p = f\"(@PK_FormPage+{n},@PK_Form, '{r.id}: {r.text}', 'FismaForms/2022/2022_Q1_CIO_{r['id']}.aspx', {n}), \";\n",
    "    print( p ) "
   ]
  },
  {
   "cell_type": "code",
   "execution_count": 72,
   "metadata": {},
   "outputs": [
    {
     "name": "stdout",
     "output_type": "stream",
     "text": [
      "(@PK_QGroup+9,'7a','Section 9: Identify - Ground Truth Testing- Testing Activities',@PK_Form, @PK_FormPage+9, 9),\n",
      "(@PK_QGroup+10,'7b','Section 10: Identify - Ground Truth Testing- Penetration Testing',@PK_Form, @PK_FormPage+10, 10),\n",
      "(@PK_QGroup+11,'7c','Section 11: Identify - Ground Truth Testing- Vulnerability Disclosure Tools',@PK_Form, @PK_FormPage+11, 11),\n",
      "(@PK_QGroup+12,'7d','Section 12: Identify - Ground Truth Testing- Team Exercises',@PK_Form, @PK_FormPage+12, 12),\n",
      "(@PK_QGroup+13,'8','Section 13: Identify - Smart Patching',@PK_Form, @PK_FormPage+13, 13),\n",
      "(@PK_QGroup+14,'9','Section 14: Identify - Vulnerability Disclosure',@PK_Form, @PK_FormPage+14, 14),\n",
      "(@PK_QGroup+15,'10','Section 15: Identify - Resilience',@PK_Form, @PK_FormPage+15, 15),\n"
     ]
    }
   ],
   "source": [
    "for i,r in df_s.iterrows():\n",
    "    n = offset+i\n",
    "    p = f\"(@PK_QGroup+{n},'{r.id}','Section {n}: Identify - {r.text}',@PK_Form, @PK_FormPage+{n}, {n}),\";\n",
    "    print( p ) "
   ]
  },
  {
   "cell_type": "code",
   "execution_count": 73,
   "metadata": {},
   "outputs": [],
   "source": [
    "def cleaner(s):\n",
    "    try:\n",
    "        s=s.replace('\\'','\"')\n",
    "        s=s.replace('�','')\n",
    "        s=s.replace('nan','')\n",
    "        s=re.sub('[\\u0080-\\uFFFF]+', '', s)\n",
    "    except:\n",
    "        pass\n",
    "    return s"
   ]
  },
  {
   "cell_type": "code",
   "execution_count": 74,
   "metadata": {},
   "outputs": [
    {
     "name": "stdout",
     "output_type": "stream",
     "text": [
      "(27200, @FormName, @PK_QGroup+10,1,N'7.2', , N'For the following questions, provide responses for the last reporting period', NULL),\n",
      "(27201, @FormName, @PK_QGroup+10,2,N'7.2.1', 20, N'How many government FTEs directly performed penetration testing on agency information systems for your organization?', NULL),\n",
      "(27202, @FormName, @PK_QGroup+10,3,N'7.2.2', 20, N'How many contractor FTEs directly performed penetration testing on agency information systems?', NULL),\n",
      "(27203, @FormName, @PK_QGroup+10,4,N'7.2.3', 20, N'How many penetration tests (from 7.1) were conducted via an external contract?', NULL),\n",
      "(27204, @FormName, @PK_QGroup+10,5,N'7.2.4', 350, N'What was the cost (in millions of dollars) of penetration tests (from 7.1) conducted?', NULL),\n",
      "(27205, @FormName, @PK_QGroup+10,6,N'7.2.5', 90, N'What tools were used to perform penetration tests?', NULL),\n",
      "(27206, @FormName, @PK_QGroup+10,7,N'7.2.6', 90, N'What tools were used to perform static and dynamic code analysis?', NULL),\n",
      "(27232, @FormName, @PK_QGroup+11,1,N'7.2.7', , N'What tools were used to support public and private vulnerability disclosure programs and bug bounties?', NULL),\n",
      "(27258, @FormName, @PK_QGroup+12,1,N'7.3', 18, N'Please fill out the following for red team exercises:', NULL),\n",
      "(27259, @FormName, @PK_QGroup+12,2,N'7.3.1', 2, N'Does the agency have a centralized red team, decentralized red teams, or no red team(s)?', NULL),\n",
      "(27260, @FormName, @PK_QGroup+12,3,N'7.3.2', 2, N'How many exercises discovered new vulnerabilities (inclusive of business process vulnerabilities) that were not already discovered and tracked in existing vulnerability tracking or by audits performed by a third party?', NULL),\n",
      "(27261, @FormName, @PK_QGroup+12,4,N'7.3.3', 2, N'In the past year, how many of the agency?s cloud services (from 1.3) have performed a red team exercise on themselves?', NULL),\n",
      "(27262, @FormName, @PK_QGroup+12,5,N'7.3.3.1', 2, N'How many of these cloud services (from 7.3.3) are required by contract to tell the agency if they have performed a red team exercise in the past year?', NULL),\n",
      "(27263, @FormName, @PK_QGroup+12,6,N'7.3.3.2', 2, N'Of those cloud services (7.3.3.1), how many are required by contract to share full detailed[6] results with the agency? ', NULL),\n",
      "(27264, @FormName, @PK_QGroup+12,7,N'7.4', 18, N'Threat Intelligence', NULL),\n",
      "(27265, @FormName, @PK_QGroup+12,8,N'7.4.1', 2, N'Please provide a description of how your red team(s) utilize threat intelligence in their exercise procedures. If the agency does not have any red teams, please provide an explanation how your organization utilizes threat intelligence in system assessment procedures.', NULL),\n",
      "(27266, @FormName, @PK_QGroup+12,9,N'7.4.2', 5, N'Does your agency have a Goverce, Risk, and Compliance (GRC) tool?', NULL),\n",
      "(27267, @FormName, @PK_QGroup+12,10,N'7.4.2.1', 1, N'If yes, does your agency?s Goverce Risk and Compliance (GRC) tool incorporate technical indicators from threat intelligence into its processes in an automated manner?', NULL),\n",
      "(27268, @FormName, @PK_QGroup+12,11,N'7.4.2.2', 1, N'If yes, does your agency?s GRC tool have the ability to consume Open Security Controls Assessment Language (OSCAL)?', NULL),\n",
      "(27269, @FormName, @PK_QGroup+12,12,N'7.4.2.3', 9, N'If no, please provide an explanation of how your organization is storing, collecting, and processing technical indicators across your enterprise.', NULL),\n",
      "(27270, @FormName, @PK_QGroup+12,13,N'7.3', 1, N'Do yourCIO and CISOhave TS/SCI clearances?', NULL),\n",
      "(27271, @FormName, @PK_QGroup+12,14,N'7.3.1', 5, N'Do your CIO and CISO with TS/SCI clearances have access to a secure terminal?(on-site, external agency, no access)', NULL),\n",
      "(27272, @FormName, @PK_QGroup+12,16,N'7.5.1', 17, N'Does the agency have a centralized blue team, decentralized blue teams, or no blue team(s)?', NULL),\n",
      "(27273, @FormName, @PK_QGroup+12,17,N'7.5.2', 1, N'In the last reporting period,[8] what was the mean reaction and escalation response time in the event the red team exercise activities were discovered? (value and time unit, not mature enough to measure, no blue team) ', NULL),\n",
      "(27274, @FormName, @PK_QGroup+12,18,N'7.6', 18, N'Threat Modeling', NULL),\n",
      "(27275, @FormName, @PK_QGroup+12,19,N'7.6.1', 1, N'How many threat model exercises[9] were conducted in the last reporting period?', NULL),\n",
      "(27301, @FormName, @PK_QGroup+13,1,N'8.1', 1, N'What tools were used to support public and private vulnerability disclosure programs and bug bounties?', NULL),\n",
      "(27302, @FormName, @PK_QGroup+13,2,N'8.1.1', 1, N'If no, does your agency set standards for a patch management process?', NULL),\n",
      "(27303, @FormName, @PK_QGroup+13,3,N'8.1.2', 1, N'Does the agency patching management process utilize the severity of a vulnerability (e.g. CVSS) to prioritize patches?', NULL),\n",
      "(27304, @FormName, @PK_QGroup+13,4,N'8.1.3', 1, N'Does your agency use methods other than CVSS to analyze the severity of vulnerabilities?', NULL),\n",
      "(27305, @FormName, @PK_QGroup+13,5,N'8.1.3.1', 9, N'If yes, state which methods', NULL),\n",
      "(27306, @FormName, @PK_QGroup+13,6,N'8.1.4', 9, N'Describe the extent to which the agency applies threat intelligence in its patching process.', NULL),\n",
      "(27307, @FormName, @PK_QGroup+13,7,N'8.2', 1, N'Does your patching prioritization process leverage significant automation?[2]', NULL),\n",
      "(27308, @FormName, @PK_QGroup+13,8,N'8.2.1', 3, N'If yes, what percentage of software assets are covered by automation?', NULL),\n",
      "(27309, @FormName, @PK_QGroup+13,9,N'8.3', 9, N'What elements of the Systems Development Life Cycle (SDLC) contribute to significantly reducing the timeliness of your patching processes (e.g., patches are bundled with other change requests and subsequently require lengthy review processes)?', NULL),\n",
      "(27335, @FormName, @PK_QGroup+14,1,N'9.1', 170, N'What is the status of the agencys Vulnerability Disclosure Program (VDP), per OMB Memorandum M-20-32, Improving Vulnerability Identification, Management, and Remediation.', NULL),\n",
      "(27336, @FormName, @PK_QGroup+14,2,N'9.1.1', 10, N'Provide clarification in text', NULL),\n",
      "(27337, @FormName, @PK_QGroup+14,3,N'9.2', 10, N'Provide a copy of the latest VDP process flow or standard operating procedure (SOP)', NULL),\n",
      "(27338, @FormName, @PK_QGroup+14,4,N'9.3', 20, N'Number of triaged vulnerability reports received through VDP (since last reporting period)[1]', NULL),\n",
      "(27339, @FormName, @PK_QGroup+14,5,N'9.4', 20, N'Number of systems (from 1.1) on which vulnerabilities reported through VDP were found', NULL),\n",
      "(27340, @FormName, @PK_QGroup+14,6,N'9.5', 20, N'Number of Federal information systems (from 1.1) that are outside current scope of VDP and internet-accessible[2]', NULL),\n",
      "(27366, @FormName, @PK_QGroup+15,1,N'10.1', 170, N'Please fill in the following table regarding contingency plan activities.', NULL),\n",
      "(27367, @FormName, @PK_QGroup+15,2,N'10.1.1', 20, N'Incident response plan', NULL),\n",
      "(27368, @FormName, @PK_QGroup+15,3,N'10.1.2', 20, N'Disaster recovery plan', NULL),\n",
      "(27369, @FormName, @PK_QGroup+15,4,N'10.1.3', 20, N'Business continuity plan', NULL),\n",
      "(27370, @FormName, @PK_QGroup+15,5,N'10.1.4', 20, N'Business Impact analysis', NULL),\n",
      "(27371, @FormName, @PK_QGroup+15,6,N'10.2', 20, N'Number of HVA systems (from 1.1.5) for which an Information System Contingency Plan (ISCP) has been developed to guide the process for assessment and recovery of the system following a disruption (NIST SP 800-53r5 CP-2(1), NIST SP 800-34)', NULL),\n",
      "(27372, @FormName, @PK_QGroup+15,7,N'10.2.1', 20, N'Number of HVA systems (from 1.1.5) that have an alternate processing site identified and provisioned, operate multiple redundant sites for resiliency, or can be provisioned within the organization-defined time period for resumption (NIST SP 800-53r5 CP-7(4))', NULL),\n",
      "(27373, @FormName, @PK_QGroup+15,8,N'10.2.2', 20, N'Number of HVA systems (from 9.4) for which alternate processing site or redundant sites have been tested in the past year', NULL),\n",
      "(27374, @FormName, @PK_QGroup+15,9,N'10.3', 230, N'Mean time to incident first response[1] (value and time unit, or not mature enough to measure)', NULL),\n",
      "(27375, @FormName, @PK_QGroup+15,10,N'10.4', 230, N'Mean time to incident triage[2] (value and time unit, or not mature enough to measure)', NULL),\n",
      "(27376, @FormName, @PK_QGroup+15,11,N'10.5', 230, N'Mean time to incident resolution[3] (value and time unit, or not mature enough to measure)', NULL),\n",
      "(27377, @FormName, @PK_QGroup+15,12,N'10.6', 20, N' Has the agency evaluated the incident response playbook against its current incident response procedures? (yes/no)', NULL),\n",
      "(27378, @FormName, @PK_QGroup+15,13,N'10.6.1', , N'If yes, when was this review completed?', NULL),\n",
      "(27379, @FormName, @PK_QGroup+15,14,N'10.6.2', , N'If yes, did the agency identify changes necessary to elevate incident response procedures to meet or exceed what is outlined in the incident response playbook?', NULL),\n",
      "(27380, @FormName, @PK_QGroup+15,15,N'10.6.3', 90, N'If yes, what is the date when incident response procedures were updated as a result of this review?', NULL),\n",
      "(27381, @FormName, @PK_QGroup+15,16,N'10.6.4', 20, N'Does the agencys communications strategy include activating channels (chat rooms, phone bridges, and out-of-band email) for coordination of support by agency personnel?', NULL),\n",
      "(27382, @FormName, @PK_QGroup+15,17,N'10.6.4.1', 20, N'Does the agencys communications strategy include activating channels (chat rooms, phone bridges, and out-of-band email) for coordinating with agency leadership?', NULL),\n",
      "(27383, @FormName, @PK_QGroup+15,18,N'10.6.5', 20, N'Has the agency determined a process for sharing incident details with CISA, including establishing secure file share for sending data, identifying cleared personnel to receive classified CTI, and using a secure chat platform for information exchange?', NULL),\n"
     ]
    }
   ],
   "source": [
    "l = [] \n",
    "s=10\n",
    "qpk = 27200\n",
    "for i, r in df_s[1:].iterrows():  \n",
    "    dff = pd.read_csv(fr'C:\\Users\\Tim\\Documents\\CIO\\{r.id}.csv')\n",
    "    dff.fillna('') \n",
    "    dff = dff.astype(str)\n",
    "    for ii, rr in dff.iterrows():  \n",
    "        qtext = cleaner(rr['qtext'])\n",
    "        qtype = cleaner(str(rr['qtype']))\n",
    "        if pd.isna(qtype):\n",
    "            qtype = '0'\n",
    "        qtype = re.sub(r\"[^\\d]\", \"\", qtype)\n",
    "        qid = re.sub(r\"[^\\d{1,2}\\.]\", \"\", rr['id'])\n",
    "        if len(qtext) > 10: \n",
    "            print( f\"({qpk}, @FormName, @PK_QGroup+{s},{ii+1},N\\'{qid}\\', {qtype}, N\\'{qtext}\\', NULL),\" )\n",
    "            qpk=qpk+1\n",
    "    s=s+1\n",
    "    qpk=qpk+25\n",
    " \n",
    " "
   ]
  },
  {
   "cell_type": "code",
   "execution_count": null,
   "metadata": {},
   "outputs": [],
   "source": []
  },
  {
   "cell_type": "code",
   "execution_count": null,
   "metadata": {},
   "outputs": [],
   "source": []
  }
 ],
 "metadata": {
  "kernelspec": {
   "display_name": "Python 3",
   "language": "python",
   "name": "python3"
  },
  "language_info": {
   "codemirror_mode": {
    "name": "ipython",
    "version": 3
   },
   "file_extension": ".py",
   "mimetype": "text/x-python",
   "name": "python",
   "nbconvert_exporter": "python",
   "pygments_lexer": "ipython3",
   "version": "3.8.8"
  }
 },
 "nbformat": 4,
 "nbformat_minor": 4
}
