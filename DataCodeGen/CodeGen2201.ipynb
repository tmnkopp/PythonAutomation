{
 "cells": [
  {
   "cell_type": "code",
   "execution_count": null,
   "metadata": {},
   "outputs": [],
   "source": [
    "import re, subprocess, pyodbc \n",
    "import numpy as np # linear algebra \n",
    "from sqlalchemy import func, create_engine\n",
    "from config import mongoConn, connstr  \n",
    "import pandas as pd "
   ]
  },
  {
   "cell_type": "code",
   "execution_count": null,
   "metadata": {},
   "outputs": [],
   "source": [
    "engine = create_engine(connstr)\n",
    "PK_FORM = '2021-Q4-BOD2201'\n",
    "Acronym='GSA'\n",
    "def get_df(query):\n",
    "    conn = engine.connect() \n",
    "    df = pd.read_sql(query,con=conn) \n",
    "    conn.close()\n",
    "    return df"
   ]
  },
  {
   "cell_type": "code",
   "execution_count": 23,
   "metadata": {},
   "outputs": [],
   "source": [
    "df_vwQuestions = get_df(f\" SELECT TOP 5000 * FROM vwQuestions WHERE PK_FORM LIKE '%{PK_FORM}%' \")\n",
    "df_vwOrgSubToComponent = get_df(f\" SELECT TOP 5000 * FROM  vwOrgSubToComponent WHERE PK_FORM LIKE '%{PK_FORM}%' AND Acronym = '{Acronym}' ORDER BY PK_OrgSubmission DESC\" )\n",
    "df_vwMetricsAnswers = get_df(f\"SELECT TOP 5000 * FROM  vwMetricsAnswers WHERE PK_FORM LIKE '%{PK_FORM}%' AND Acronym = '{Acronym}' ORDER BY PK_Question DESC\" ) \n",
    "df_Agencies = get_df(f\" SELECT DISTINCT Acronym, PK_Component, Component FROM vwOrgSubToComponent WHERE PK_ReportingCycle = (SELECT MAX(PK_ReportingCycle) FROM fsma_ReportingCycles) \" ) "
   ]
  },
  {
   "cell_type": "code",
   "execution_count": 43,
   "metadata": {},
   "outputs": [],
   "source": [
    "agencies = ['GSA', 'DOJ', 'DHS', 'SBA', 'EPA', 'NASA']\n",
    "df = get_df(\" SELECT * FROM CVEs \") \n",
    "df[\"Agency\"] = agencies[0]\n",
    "df[\"CVE ID\"] = df['PK_CISA_CVE'] \n",
    "df[\"Count\"] = df[\"CVE ID\"].apply(lambda s:  re.sub(r\"CVE\\-\\d{4}\\-(\\d{2})(\\d{1,4})\", r\"\\2\", s))\n",
    "df = df[['Agency', 'CVE ID','Count']] \n",
    "dff = pd.DataFrame()\n",
    "for a in agencies:\n",
    "    df = df_CVEs\n",
    "    df[\"Agency\"] = a\n",
    "    dff = pd.concat([dff, df])\n",
    "dff\n",
    "dff.to_csv(r'C:\\Users\\Tim\\Downloads\\BOD_2201_CDMimport_VALID.csv', index=False)"
   ]
  },
  {
   "cell_type": "code",
   "execution_count": null,
   "metadata": {},
   "outputs": [],
   "source": [
    "df = pd.read_excel(r'C:\\Users\\Tim\\Downloads\\BOD2201_2021_2_VALID.xlsx')\n",
    "df.fillna('')\n",
    "df.loc[0:3, ['Unremediated Count Justification']] = ''\n",
    "df.loc[0:3, ['Challenges and Constraints']] = ' invalid attempt'\n",
    "df.loc[0:3, ['Total Unremediated Assets']] = '110011' \n",
    "df.to_excel(r'C:\\Users\\Tim\\Downloads\\BOD2201_2021_2_INVALID.xlsx', index=False) "
   ]
  },
  {
   "cell_type": "code",
   "execution_count": null,
   "metadata": {},
   "outputs": [],
   "source": [
    "query = f\"\"\" \\\n",
    "    SELECT TOP 5000 * FROM BOD_CDM_IMPORT \n",
    "\"\"\"  \n",
    "df_BOD_CDM_IMPORT = get_df(query)\n",
    "df_BOD_CDM_IMPORT"
   ]
  },
  {
   "cell_type": "code",
   "execution_count": null,
   "metadata": {},
   "outputs": [],
   "source": [
    "query = \"\"\" \\\n",
    "SELECT TOP 5000 \n",
    "* \n",
    "FROM CVEUnremediated\n",
    "WHERE PK_OrgSubmission = 29150 \n",
    "\"\"\"   \n",
    "df_CVEUN = get_df(query)\n",
    " "
   ]
  },
  {
   "cell_type": "code",
   "execution_count": null,
   "metadata": {
    "scrolled": true
   },
   "outputs": [],
   "source": [
    "cols = ', '.join(df_CVEUN.columns[1:])\n",
    "cols"
   ]
  },
  {
   "cell_type": "code",
   "execution_count": null,
   "metadata": {},
   "outputs": [],
   "source": [
    "cols = 'PK_OrgSubmission, PK_CISA_CVE, UnremediatedCount, Constraints, UserId, DateUploaded, DateModified, isActive, CveCountJustification'\n",
    "cols"
   ]
  },
  {
   "cell_type": "code",
   "execution_count": null,
   "metadata": {},
   "outputs": [],
   "source": [
    "vals = ''\n",
    "h = 'INSERT INTO CVEUnremediated (PK_OrgSubmission, PK_CISA_CVE, UnremediatedCount, Constraints, UserId, DateUploaded, DateModified, isActive, CveCountJustification)'\n",
    "h = h + '\\nVALUES\\n'\n",
    "for i, r in df_CVEUN.iterrows(): \n",
    "    s = ''\n",
    "    for c in df_CVEUN.columns[1:]: \n",
    "        s = s + f\"{  r[c]  },\" \n",
    "    vals = vals + f'({ s[:-1] }),\\n'     \n",
    "print( h ) \n",
    "\n",
    "vals = vals[:-1]\n",
    "vals = vals.replace(\"None\", \"NULL\") \n",
    "vals = re.sub(r\"(CVE\\-\\d+\\-\\d+)\", \"'\\\\1'\", vals)\n",
    "\n",
    "print( vals ) "
   ]
  },
  {
   "cell_type": "code",
   "execution_count": null,
   "metadata": {},
   "outputs": [],
   "source": [
    "df = pd.read_csv(r'C:\\Users\\Tim\\Downloads\\BOD_CDM_Import.csv')\n",
    "df"
   ]
  },
  {
   "cell_type": "code",
   "execution_count": null,
   "metadata": {},
   "outputs": [],
   "source": [
    "dff = df.drop_duplicates(subset=['CVE ID', 'Count'], keep='last')\n",
    "dff.to_csv(r'C:\\Users\\Tim\\Downloads\\BOD_CDM_Import.csv')\n",
    "df = pd.read_csv(r'C:\\Users\\Tim\\Downloads\\BOD_CDM_Import.csv')\n",
    "df"
   ]
  },
  {
   "cell_type": "code",
   "execution_count": null,
   "metadata": {},
   "outputs": [],
   "source": [
    "df = pd.read_excel(r'C:\\Users\\Tim\\Downloads\\BOD2201_2021_2_VALID.xlsx').fillna('')\n",
    "df['Unremediated Count Justification'] = 'Justification' \n",
    "df.columns = [c.replace(' ' , ' ') for c in df.columns] \n",
    "df.loc[df.CVE=='CVE-2011-3544', 'Unremediated Count Justification'] = ''\n",
    "df.loc[df.CVE=='CVE-2011-3544', 'Total Unremediated Assets'] = '9999999'\n",
    "df.columns\n",
    "df.to_excel(r'C:\\Users\\Tim\\Downloads\\BOD2201_2021_2_INVALID.xlsx', index=False) \n",
    "df"
   ]
  },
  {
   "cell_type": "markdown",
   "metadata": {},
   "source": [
    "df.to_sql('CVEUnremediated_UPLOAD', engine, index=True, if_exists='replace')"
   ]
  },
  {
   "cell_type": "markdown",
   "metadata": {},
   "source": [
    "conn = engine.connect() \n",
    "conn.execute('DROP TABLE CVEUnremediated_UPLOAD;')\n",
    "conn.close()"
   ]
  }
 ],
 "metadata": {
  "kernelspec": {
   "display_name": "Python 3",
   "language": "python",
   "name": "python3"
  },
  "language_info": {
   "codemirror_mode": {
    "name": "ipython",
    "version": 3
   },
   "file_extension": ".py",
   "mimetype": "text/x-python",
   "name": "python",
   "nbconvert_exporter": "python",
   "pygments_lexer": "ipython3",
   "version": "3.8.8"
  }
 },
 "nbformat": 4,
 "nbformat_minor": 4
}
