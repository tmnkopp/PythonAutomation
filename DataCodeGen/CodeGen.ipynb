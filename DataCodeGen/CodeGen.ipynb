{
 "cells": [
  {
   "cell_type": "code",
   "execution_count": null,
   "metadata": {},
   "outputs": [],
   "source": [
    "import re, subprocess, pyodbc \n",
    "import numpy as np # linear algebra \n",
    "from sqlalchemy import func, create_engine\n",
    "from config import mongoConn, connstr  \n",
    "import pandas as pd "
   ]
  },
  {
   "cell_type": "code",
   "execution_count": null,
   "metadata": {},
   "outputs": [],
   "source": [
    "engine = create_engine(connstr)\n",
    "PK_FORM = '2021-Q4-BOD2201'\n",
    "Acronym='GSA'\n",
    "def get_df(query):\n",
    "    conn = engine.connect() \n",
    "    df = pd.read_sql(query,con=conn) \n",
    "    conn.close()\n",
    "    return df"
   ]
  },
  {
   "cell_type": "code",
   "execution_count": null,
   "metadata": {},
   "outputs": [],
   "source": [
    "query = f\"\"\" \\\n",
    "    SELECT TOP 5000 * FROM vwQuestions WHERE PK_FORM LIKE '%{PK_FORM}%'\n",
    "\"\"\"  \n",
    "df_vwQuestions = get_df(query)\n",
    "\n",
    "query = f\"\"\" \\\n",
    "    SELECT TOP 5000 * FROM  vwOrgSubToComponent WHERE PK_FORM LIKE '%{PK_FORM}%' AND Acronym = '{Acronym}'\n",
    "    \"\"\"  \n",
    "df_vwOrgSubToComponent = get_df(query)\n",
    "\n",
    "query = f\"\"\" \\\n",
    "    SELECT TOP 5000 * FROM  vwMetricsAnswers WHERE PK_FORM LIKE '%{PK_FORM}%' AND Acronym = '{Acronym}'\n",
    "    \"\"\"  \n",
    "df_vwMetricsAnswers = get_df(query) "
   ]
  },
  {
   "cell_type": "code",
   "execution_count": null,
   "metadata": {},
   "outputs": [],
   "source": [
    "for i, r in df_vwQuestions.iterrows():\n",
    "    s = ''\n",
    "    s = s + f\" -- {str(r['PK'])}  {str(r['QGROUP'])}\"\n",
    "    print( s ) \n",
    " "
   ]
  },
  {
   "cell_type": "code",
   "execution_count": null,
   "metadata": {},
   "outputs": [],
   "source": [
    "###################################################################################"
   ]
  },
  {
   "cell_type": "code",
   "execution_count": null,
   "metadata": {},
   "outputs": [],
   "source": [
    "query = \"\"\" \\\n",
    "SELECT TOP 5000 \n",
    "* \n",
    "FROM CVEUnremediated\n",
    "WHERE PK_OrgSubmission = 29150 \n",
    "\"\"\"   \n",
    "df_CVEUN = get_df(query)\n",
    " "
   ]
  },
  {
   "cell_type": "markdown",
   "metadata": {},
   "source": [
    "df = pd.read_excel(r'C:\\Users\\Tim\\Downloads\\BOD2201_2021_2_VALID.xlsx').fillna('')\n",
    "df['Unremediated Count Justification'] = 'Justification' \n",
    "df.columns = [c.replace(' ' , ' ') for c in df.columns] \n",
    "df.loc[df.CVE=='CVE-2011-3544', 'Unremediated Count Justification'] = ''\n",
    "df.loc[df.CVE=='CVE-2011-3544', 'Total Unremediated Assets'] = '9999999'\n",
    "df.columns\n",
    "df.to_excel(r'C:\\Users\\Tim\\Downloads\\BOD2201_2021_2_INVALID.xlsx', index=False) \n",
    "df"
   ]
  },
  {
   "cell_type": "code",
   "execution_count": null,
   "metadata": {},
   "outputs": [],
   "source": []
  },
  {
   "cell_type": "markdown",
   "metadata": {},
   "source": [
    "df.to_sql('CVEUnremediated_UPLOAD', engine, index=True, if_exists='replace')"
   ]
  },
  {
   "cell_type": "markdown",
   "metadata": {},
   "source": [
    "conn = engine.connect() \n",
    "conn.execute('DROP TABLE CVEUnremediated_UPLOAD;')\n",
    "conn.close()"
   ]
  }
 ],
 "metadata": {
  "kernelspec": {
   "display_name": "Python 3",
   "language": "python",
   "name": "python3"
  },
  "language_info": {
   "codemirror_mode": {
    "name": "ipython",
    "version": 3
   },
   "file_extension": ".py",
   "mimetype": "text/x-python",
   "name": "python",
   "nbconvert_exporter": "python",
   "pygments_lexer": "ipython3",
   "version": "3.8.8"
  }
 },
 "nbformat": 4,
 "nbformat_minor": 4
}
