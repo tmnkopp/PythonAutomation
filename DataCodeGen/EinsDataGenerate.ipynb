{
 "cells": [
  {
   "cell_type": "code",
   "execution_count": 1,
   "metadata": {},
   "outputs": [],
   "source": [
    "import re, subprocess, pyodbc \n",
    "import numpy as np # linear algebra \n",
    "from sqlalchemy import func, create_engine\n",
    "from config import mongoConn, connstr  \n",
    "import pandas as pd\n",
    "from faker import Faker\n",
    "fake = Faker()"
   ]
  },
  {
   "cell_type": "code",
   "execution_count": null,
   "metadata": {},
   "outputs": [],
   "source": []
  },
  {
   "cell_type": "code",
   "execution_count": 2,
   "metadata": {
    "scrolled": true
   },
   "outputs": [
    {
     "data": {
      "text/plain": [
       "'93.227.190.116'"
      ]
     },
     "execution_count": 2,
     "metadata": {},
     "output_type": "execute_result"
    }
   ],
   "source": [
    "def getip(): \n",
    "    return f\"{np.random.randint(1, 255)}.{np.random.randint(1, 255)}.{np.random.randint(1, 255)}.{np.random.randint(1, 255)}\"\n",
    "getip()"
   ]
  },
  {
   "cell_type": "code",
   "execution_count": 4,
   "metadata": {},
   "outputs": [
    {
     "data": {
      "text/html": [
       "<div>\n",
       "<style scoped>\n",
       "    .dataframe tbody tr th:only-of-type {\n",
       "        vertical-align: middle;\n",
       "    }\n",
       "\n",
       "    .dataframe tbody tr th {\n",
       "        vertical-align: top;\n",
       "    }\n",
       "\n",
       "    .dataframe thead th {\n",
       "        text-align: right;\n",
       "    }\n",
       "</style>\n",
       "<table border=\"1\" class=\"dataframe\">\n",
       "  <thead>\n",
       "    <tr style=\"text-align: right;\">\n",
       "      <th></th>\n",
       "      <th>VLANID</th>\n",
       "      <th>TICMTIPS</th>\n",
       "      <th>TICSite</th>\n",
       "      <th>NamePurpose</th>\n",
       "      <th>ContentType</th>\n",
       "      <th>OtherChannelType</th>\n",
       "      <th>Firewall</th>\n",
       "      <th>IntrusionPreventionSystem</th>\n",
       "      <th>WebContentFiltering</th>\n",
       "      <th>DDoS</th>\n",
       "      <th>DLP</th>\n",
       "      <th>AdditionalDataFiltering</th>\n",
       "      <th>Encrypted</th>\n",
       "    </tr>\n",
       "  </thead>\n",
       "  <tbody>\n",
       "  </tbody>\n",
       "</table>\n",
       "</div>"
      ],
      "text/plain": [
       "Empty DataFrame\n",
       "Columns: [VLANID, TICMTIPS, TICSite, NamePurpose, ContentType, OtherChannelType, Firewall, IntrusionPreventionSystem, WebContentFiltering, DDoS, DLP, AdditionalDataFiltering, Encrypted]\n",
       "Index: []"
      ]
     },
     "execution_count": 4,
     "metadata": {},
     "output_type": "execute_result"
    }
   ],
   "source": [
    "df = pd.read_csv(r'c:\\temp\\VLAN_DATA.csv')\n",
    "df"
   ]
  },
  {
   "cell_type": "code",
   "execution_count": 5,
   "metadata": {},
   "outputs": [
    {
     "name": "stdout",
     "output_type": "stream",
     "text": [
      "d['StartingIP'] = '226.135.2.240'\n",
      "d['EndingIP'] = '191.59.158.127'\n",
      "d['TIC_MTIPS'] = '22.204.195.191'\n",
      "d['NamePurpose'] = '109.131.199.156'\n",
      "d['ISP'] = '65.95.210.131'\n",
      "d['OtherISP'] = '109.252.68.44'\n",
      "d['VisibleToEinstein'] = '99.41.15.3'\n",
      "d['ExternalOrganization'] = '168.192.240.212'\n"
     ]
    }
   ],
   "source": [
    "engine = create_engine(connstr)\n",
    "conn = engine.connect()\n",
    "query = \"\"\" \\\n",
    "SELECT TOP 1 * FROM EinsteinPublicIP \n",
    "\"\"\"  \n",
    "df = pd.read_sql(query,con=conn)  \n",
    "df.drop('PK_EinsteinPublicIP', axis=1, inplace=True)\n",
    "df.drop('PK_OrgSubmission', axis=1, inplace=True)\n",
    "df.drop('UserId', axis=1, inplace=True)\n",
    "df.drop('isActive', axis=1, inplace=True)\n",
    "df.drop('DateUploaded', axis=1, inplace=True)\n",
    "for c in df.columns:\n",
    "    print(f\"d['{c}'] = '{getip()}'\"  )\n",
    "\n",
    " "
   ]
  },
  {
   "cell_type": "code",
   "execution_count": 8,
   "metadata": {},
   "outputs": [],
   "source": [
    "lst = []\n",
    "ln = 20000\n",
    "for i in range(ln):\n",
    "    d={}\n",
    "    d['StartingIP'] = getip()\n",
    "    d['EndingIP'] = getip()   \n",
    "    d['TIC_MTIPS'] = 'TIC'\n",
    "    d['NamePurpose'] = getip()\n",
    "    d['ISP'] = 'IBM' \n",
    "    d['OtherISP'] = fake.text()[:10]\n",
    "    d['VisibleToEinstein'] = 'Yes' \n",
    "    d['ExternalOrganization'] = fake.text()[:25] \n",
    "    lst.append(d)\n",
    "df=pd.DataFrame(lst)\n",
    "df.to_excel(fr'c:\\temp\\EinsteinPublicIP_{ln}.xlsx', index=False)    \n"
   ]
  },
  {
   "cell_type": "code",
   "execution_count": 31,
   "metadata": {},
   "outputs": [],
   "source": []
  },
  {
   "cell_type": "code",
   "execution_count": null,
   "metadata": {},
   "outputs": [],
   "source": []
  }
 ],
 "metadata": {
  "kernelspec": {
   "display_name": "Python 3",
   "language": "python",
   "name": "python3"
  },
  "language_info": {
   "codemirror_mode": {
    "name": "ipython",
    "version": 3
   },
   "file_extension": ".py",
   "mimetype": "text/x-python",
   "name": "python",
   "nbconvert_exporter": "python",
   "pygments_lexer": "ipython3",
   "version": "3.8.8"
  }
 },
 "nbformat": 4,
 "nbformat_minor": 4
}
