{
 "cells": [
  {
   "cell_type": "code",
   "execution_count": 2,
   "metadata": {},
   "outputs": [],
   "source": [
    "import re, subprocess, pyodbc \n",
    "import numpy as np # linear algebra \n",
    "from sqlalchemy import func, create_engine\n",
    "from config import mongoConn, connstr  \n",
    "import pandas as pd  "
   ]
  },
  {
   "cell_type": "code",
   "execution_count": 3,
   "metadata": {},
   "outputs": [
    {
     "name": "stdout",
     "output_type": "stream",
     "text": [
      "(4250,@PKT, N'GVDMNGNY',N'.GOV Domain Registration Systems',0, GETDATE(), 1),\n",
      "(4251,@PKT, N'CCDYM',N'Access to Data systems',1, GETDATE(), 1),\n",
      "(4252,@PKT, N'GNCYPPL',N'Agency support tool ',2, GETDATE(), 1),\n",
      "(4253,@PKT, N'BNNLLGNC',N'Business Intelligence Services',3, GETDATE(), 1),\n",
      "(4254,@PKT, N'CLLBNLHP',N'Collaboration Tools (SharePoint)',4, GETDATE(), 1),\n",
      "(4255,@PKT, N'CLLCNLYZ',N'Collect, analyze, maintain and share data',5, GETDATE(), 1),\n",
      "(4256,@PKT, N'CNLDBV',N'Consulate Database (VISA)',6, GETDATE(), 1),\n",
      "(4257,@PKT, N'CYBCYMNN',N'Cybersecurity Monitoring',7, GETDATE(), 1),\n",
      "(4258,@PKT, N'CYBCYLLN',N'Cybersecurity tools/solutions',8, GETDATE(), 1),\n",
      "(4259,@PKT, N'DPY',N'Data Repository',9, GETDATE(), 1),\n",
      "(4260,@PKT, N'DCNMKNGL',N'Decision making tool',10, GETDATE(), 1),\n",
      "(4261,@PKT, N'DPLMCNDN',N'Diplomatic and Incident Response Communications',11, GETDATE(), 1),\n",
      "(4262,@PKT, N'MLVCNDNN',N'Email services and/or internet access',12, GETDATE(), 1),\n",
      "(4263,@PKT, N'MGNCYMNG',N'Emergency management System',13, GETDATE(), 1),\n",
      "(4264,@PKT, N'MGNCYPNP',N'Emergency response plans and personnel',14, GETDATE(), 1),\n",
      "(4265,@PKT, N'NPCPLNNN',N'Enterprise resource planning',15, GETDATE(), 1),\n",
      "(4266,@PKT, N'XPLVHPFL',N'Explosive Threat Profiles',16, GETDATE(), 1),\n",
      "(4267,@PKT, N'FNNCLGNC',N'Financial [Agency Level]',17, GETDATE(), 1),\n",
      "(4268,@PKT, N'FNNCLNNL',N'Financial [National Level]',18, GETDATE(), 1),\n",
      "(4269,@PKT, N'FNNCLYM',N'Financial System ',19, GETDATE(), 1),\n",
      "(4270,@PKT, N'FNGPNDB',N'Fingerprint Database',20, GETDATE(), 1),\n",
      "(4271,@PKT, N'GNLPPYMG',N'General Support System (GSS) [WAN / Mainframe / Gateway]',21, GETDATE(), 1),\n",
      "(4272,@PKT, N'GNLYMNDN',N'General System and Infrastructure Support',22, GETDATE(), 1),\n",
      "(4273,@PKT, N'HMNCH',N'Human Resource (HR)',23, GETDATE(), 1),\n",
      "(4274,@PKT, N'DNYNDCCM',N'Identity and Access Management (IDAM) / Identity, Credential, and Access Management (ICAM) / Authentication / Active Directory',24, GETDATE(), 1),\n",
      "(4275,@PKT, N'MMGNM',N'Immigration (most)',25, GETDATE(), 1),\n",
      "(4276,@PKT, N'MPXPCMPL',N'Imports-Exports Compliance [Port of Entry]',26, GETDATE(), 1),\n",
      "(4277,@PKT, N'NNBDWBBD',N'Internet-Based / Web-Based (Front-Facing Applications)',27, GETDATE(), 1),\n",
      "(4278,@PKT, N'PPVC',N'IT support services',28, GETDATE(), 1),\n",
      "(4279,@PKT, N'LWNFCMNV',N'Law enforcement services',29, GETDATE(), 1),\n",
      "(4280,@PKT, N'LCLNWKLN',N'Local Area Network (LAN)',30, GETDATE(), 1),\n",
      "(4281,@PKT, N'LFLFPNL',N'Loss of Life Potential ',31, GETDATE(), 1),\n",
      "(4282,@PKT, N'MNGMDCLL',N'Manage medical related data',32, GETDATE(), 1),\n",
      "(4283,@PKT, N'FFCFHNPC',N'Office of the Inspector General (OIG)',33, GETDATE(), 1),\n",
      "(4285,@PKT, N'PYLL',N'Payroll ',34, GETDATE(), 1),\n",
      "(4286,@PKT, N'PHYCLCCC',N'Physical Access Control Systems (PACS)',35, GETDATE(), 1),\n",
      "(4287,@PKT, N'PCMNYM',N'Procurement systems',36, GETDATE(), 1),\n",
      "(4288,@PKT, N'DCMMNCN',N'Radio communications',37, GETDATE(), 1),\n",
      "(4289,@PKT, N'LMDLNDPD',N'Real-time data alerts and updates',38, GETDATE(), 1),\n",
      "(4290,@PKT, N'LMMGY',N'Real-time imagery',39, GETDATE(), 1),\n",
      "(4291,@PKT, N'CYCLNCBC',N'Security Clearance / Background Investigations ',40, GETDATE(), 1),\n",
      "(4292,@PKT, N'CYPNCNC',N'Security Operations Center (SOC)',41, GETDATE(), 1),\n",
      "(4293,@PKT, N'PVYCNLND',N'Supervisory Control and Data Acquisition (SCADA) – electrical systems',42, GETDATE(), 1),\n",
      "(4294,@PKT, N'PPVLNBLY',N'Support to Vulnerability  Assessments',43, GETDATE(), 1),\n",
      "(4295,@PKT, N'CCLCMMNC',N'Tactical communications',44, GETDATE(), 1),\n",
      "(4296,@PKT, N'DNNCNNCN',N'Trusted Internet Connection (TIC)',45, GETDATE(), 1),\n",
      "(4297,@PKT, N'WHWNNGND',N'Weather warning and analysis services',46, GETDATE(), 1),\n",
      "(4298,@PKT, N'WBBDMNNG',N'Web based monitoring system',47, GETDATE(), 1),\n",
      "(4299,@PKT, N'OTH',N'Other',48, GETDATE(), 1),\n",
      "\n"
     ]
    }
   ],
   "source": [
    "\n",
    "\n",
    "df = pd.read_excel(r'C:\\Users\\Tim\\Documents\\1802\\HVA\\HVA1.xlsx', sheet_name='PurposePickList').fillna('NULL') \n",
    "cols = list(df) # Creates list of all column headers\n",
    "df[cols] = df[cols].astype(str)\n",
    "df['DisplayCode'] =  df['DisplayValue'].apply(lambda s: re.sub('[^A-Z0-9]','',s.upper()))\n",
    "df['DisplayCode'] =  df['DisplayCode'].apply(lambda s: re.sub('[AEIOURST]','',s)[:8])\n",
    "s =''\n",
    "for i,r, in df.iterrows():\n",
    "    PK_PickList=r['PK_PickList']\n",
    "    DisplayCode=r['DisplayCode']\n",
    "    DisplayValue=r['DisplayValue'] \n",
    "    if DisplayValue=='Other':\n",
    "        DisplayCode='OTH'\n",
    "    s = s + f\"({PK_PickList},@PKT, N'{DisplayCode}',N'{DisplayValue}',{i}, GETDATE(), 1),\\n\"\n",
    "\n",
    "print(s)\n"
   ]
  },
  {
   "cell_type": "code",
   "execution_count": null,
   "metadata": {},
   "outputs": [],
   "source": []
  }
 ],
 "metadata": {
  "kernelspec": {
   "display_name": "Python 3",
   "language": "python",
   "name": "python3"
  },
  "language_info": {
   "codemirror_mode": {
    "name": "ipython",
    "version": 3
   },
   "file_extension": ".py",
   "mimetype": "text/x-python",
   "name": "python",
   "nbconvert_exporter": "python",
   "pygments_lexer": "ipython3",
   "version": "3.8.8"
  }
 },
 "nbformat": 4,
 "nbformat_minor": 4
}
