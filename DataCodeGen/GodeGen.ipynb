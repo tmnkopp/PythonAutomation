{
 "cells": [
  {
   "cell_type": "code",
   "execution_count": 1,
   "metadata": {},
   "outputs": [],
   "source": [
    "import re, subprocess, pyodbc \n",
    "import numpy as np # linear algebra \n",
    "from sqlalchemy import func, create_engine\n",
    "from config import mongoConn, connstr  \n",
    "import pandas as pd\n",
    "from faker import Faker\n",
    "fake = Faker()"
   ]
  },
  {
   "cell_type": "code",
   "execution_count": 7,
   "metadata": {},
   "outputs": [
    {
     "data": {
      "text/html": [
       "<div>\n",
       "<style scoped>\n",
       "    .dataframe tbody tr th:only-of-type {\n",
       "        vertical-align: middle;\n",
       "    }\n",
       "\n",
       "    .dataframe tbody tr th {\n",
       "        vertical-align: top;\n",
       "    }\n",
       "\n",
       "    .dataframe thead th {\n",
       "        text-align: right;\n",
       "    }\n",
       "</style>\n",
       "<table border=\"1\" class=\"dataframe\">\n",
       "  <thead>\n",
       "    <tr style=\"text-align: right;\">\n",
       "      <th></th>\n",
       "      <th>AnswerTable</th>\n",
       "    </tr>\n",
       "    <tr>\n",
       "      <th>code</th>\n",
       "      <th></th>\n",
       "    </tr>\n",
       "  </thead>\n",
       "  <tbody>\n",
       "    <tr>\n",
       "      <th>NCEinsteinPublicIP</th>\n",
       "      <td>EinsteinPublicIP</td>\n",
       "    </tr>\n",
       "    <tr>\n",
       "      <th>NCEinsteinUnannounced</th>\n",
       "      <td>EinsteinUnannounced</td>\n",
       "    </tr>\n",
       "    <tr>\n",
       "      <th>NCEinsteinBGP</th>\n",
       "      <td>EinsteinBGP</td>\n",
       "    </tr>\n",
       "    <tr>\n",
       "      <th>NCEinsteinUnmonitoredTraffic</th>\n",
       "      <td>EinsteinUnmonitoredTraffic</td>\n",
       "    </tr>\n",
       "    <tr>\n",
       "      <th>NCEinsteinTaps</th>\n",
       "      <td>EinsteinTaps</td>\n",
       "    </tr>\n",
       "    <tr>\n",
       "      <th>NCEinsteinNATInfo</th>\n",
       "      <td>EinsteinNATInfo</td>\n",
       "    </tr>\n",
       "    <tr>\n",
       "      <th>NCEinsteinNetworkChannels</th>\n",
       "      <td>EinsteinNetworkChannels</td>\n",
       "    </tr>\n",
       "    <tr>\n",
       "      <th>NCEinsteinVLAN</th>\n",
       "      <td>EinsteinVLAN</td>\n",
       "    </tr>\n",
       "  </tbody>\n",
       "</table>\n",
       "</div>"
      ],
      "text/plain": [
       "                                             AnswerTable\n",
       "code                                                    \n",
       "NCEinsteinPublicIP                      EinsteinPublicIP\n",
       "NCEinsteinUnannounced                EinsteinUnannounced\n",
       "NCEinsteinBGP                                EinsteinBGP\n",
       "NCEinsteinUnmonitoredTraffic  EinsteinUnmonitoredTraffic\n",
       "NCEinsteinTaps                              EinsteinTaps\n",
       "NCEinsteinNATInfo                        EinsteinNATInfo\n",
       "NCEinsteinNetworkChannels        EinsteinNetworkChannels\n",
       "NCEinsteinVLAN                              EinsteinVLAN"
      ]
     },
     "execution_count": 7,
     "metadata": {},
     "output_type": "execute_result"
    }
   ],
   "source": [
    "\n",
    "engine = create_engine(connstr)\n",
    "conn = engine.connect()\n",
    "query = \"\"\" \\\n",
    "SELECT code, AnswerTable FROM \n",
    "fsma_QuestionTypes\n",
    "WHERE code LIKE 'NCEinstein%' AND code NOT LIKE '%ARTIFACT%'\n",
    "\"\"\"  \n",
    "df = pd.read_sql(query,con=conn)\n",
    "df.set_index('code', inplace=True )\n",
    "conn.close()\n",
    "df"
   ]
  },
  {
   "cell_type": "code",
   "execution_count": 46,
   "metadata": {
    "scrolled": true
   },
   "outputs": [
    {
     "name": "stdout",
     "output_type": "stream",
     "text": [
      " -- 20850  2110\n",
      " -- 20861  2111\n",
      " -- 20881  2113\n",
      " -- 20891  2114\n",
      " -- 20900  2115\n",
      " -- 20940  2120\n",
      " -- 20960  2122\n",
      " -- 20950  2121\n",
      "UPDATE fsma_Questions \n",
      "SET QuestionText = '<p>EINSTEIN requires a complete specification of what IP addresses are associated with each agency''s network. This allows CISA to  identify the target of suspected cyber activity. </p><p>Please complete the table below and supply all IP addresses, defined as globally routable unicast IP addresses, that are assigned to your network.  Include both announced and unannounced IP addresses. It is not necessary to include the EINSTEIN management IP addresses that CISA uses to administer the EINSTEIN servers.</p>'\n",
      ", help_text = '<h4>Data Entry Tips:</h4><p><strong>ASN or IP Address Block: </strong>Public Autonomous System Number (ASN): (e.g., \"220\") or Address or Classless Inter-Domain Routing (CIDR): Examples: 123.123.123.0/24, 67.78.56.12/28, 02::1234:abcd:ffff:c0a8:101/64. NOTE: In lieu of CIDR, address ranges (starting and ending addresses) are also acceptable.</p><p><strong>Name/Purpose: </strong>A short description of the address block that CISA analysts can reference when communicating with your SOC. (e.g., \"Guest Network\", \"XYZ Division\", or \"ABC Branch Office\")</p><strong>Internet Service Provider (ISP):</strong><ul style=\"list-style-type: square;\"><li>The ISP that hosts this IP address space.</li><li>If the address block is assigned to your organization within IANA but not announced through an ISP then select \"\"N/A\"\"</li><li>If your provider is not in the list then select \"\"Other\"\" and enter it in the next column.</li></ul><p><strong>Other ISP: </strong>Internet Service Provider (ISP): The ISP that hosts this IP address space.</p><p><strong>Visible to EINSTEIN?: </strong>Is this address block presented to EINSTEIN for monitoring? Select \"Unknown\" if you are not sure.</p><p><strong>External Organization: </strong>If this address block belongs to an outside organization that you are hosting within your network, please indicate the organization''s name here.</p>'\n",
      ", FK_QuestionType = 73 WHERE PK_Question = 20850;\n",
      " -- OLD QGROUP 2110 TYPE NCEinsteinPublicIP\n",
      "\n",
      "UPDATE fsma_Questions \n",
      "SET QuestionText = '<p>CISA Cyber Analysts need to know what subset of the Public IP space is not publicly available so they can better identify malicious activity.</p> <p>Please indicate what subset of the Public IP Space table is not announced (i.e., not publicly routable).</p><p>If no portions of the Public Internet Protocol (IP) are unannounced, please check \"No Unannounced IPs.\" </p>'\n",
      ", help_text = '<h4>Data Entry Tips:</h4>    <p>        <strong>ASN or IP Address Block: </strong>        Public Autonomous System Number (ASN): (e.g., \"220\") or Address or Classless Inter-Domain Routing (CIDR): Examples: 123.123.123.0/24, 67.78.56.12/28, 02::1234:abcd:ffff:c0a8:101/64. NOTE: In lieu of CIDR, address ranges (starting and ending addresses) are also acceptable.    </p>    <p>        <strong>Name/Purpose: </strong>        A short description of the address block that CISA analysts can reference when communicating with your SOC. (e.g., \"Guest Network\", \"XYZ Division\", or \"ABC Branch Office\")    </p>    <p>        <strong>Visible to EINSTEIN?: </strong>        Is this address block presented to EINSTEIN for monitoring? Select \"Unknown\" if you are not sure.    </p>    <p>        <strong>External Organization: </strong>        If this address block belongs to an outside organization that you are hosting within your network, please indicate the organization''s name here.    </p>'\n",
      ", FK_QuestionType = 74 WHERE PK_Question = 20861;\n",
      " -- OLD QGROUP 2111 TYPE NCEinsteinUnannounced\n",
      "\n",
      "UPDATE fsma_Questions \n",
      "SET QuestionText = '<p>CISA needs to track the public Border Gateway Protocol (BGP) implemented at the Agency. In order to adequately determine if BGP routes are being hijacked, or being re-announced by threat actors, it is necessary to have up-to-date information of the Agency''s BGP implemented characteristics.</p><p>Please describe the site''s external BGP information in the table below.</p><p>If no public BGP routes are defined, please check \"No public BGP routes defined.\"</p>'\n",
      ", help_text = '<h4>Data Entry Tips:</h4><p>        <strong>AS Number: </strong>        Private IP Address or CIDR.    </p>    <p>        <strong>BGP Route(s): </strong><br><br>        Agency BGP routes advertised. Specification is either a CIDR or a base IP address and mask. Examples include:        <ul style=\"list-style-type: square;\">            <li>123.123.123.0/24</li>            <li>67.78.56.12/ 255.255.255.0</li>        </ul>    </p>    <p>        <strong>BGP Peer IP: </strong>        BGP Peer IP information, OR the BGP Peer Name in the next entry.    </p>    <p>        <strong>Non-Advertised: </strong>        In the event that there are any routes within your AS that are not advertised, please indicate here. This may already have been answered when the agency listed it''s \"Unannounced\" IP blocks in Question 4.    </p>'\n",
      ", FK_QuestionType = 75 WHERE PK_Question = 20881;\n",
      " -- OLD QGROUP 2113 TYPE NCEinsteinBGP\n",
      "\n",
      "UPDATE fsma_Questions \n",
      "SET QuestionText = '<p>CISA is continuing to develop new mechanisms for monitoring civilian, Federal .Gov internet connections to include those that reside in the cloud environment. To prioritize these efforts, CISA requests (Insert Agency Name) to identify internet connections currently outside of the EINSTEIN monitoring umbrella.</p><p>If all internet connections are monitored by EINSTEIN, please check \"No unmonitored traffic.\"</p>'\n",
      ", help_text = '<h4>Data Entry Tips:</h4><p>        <strong>Connection Type: </strong>        Select the type of connection from the list or chose \"Other\" and supply a description in the next column.    </p>    <p>        <strong>Other Connection Type: </strong>        Please enter a description of the connection to the internet that is not monitored by EINSTEIN.    </p>    <p>        <strong>Name/Purpose: </strong>        A short description of the unmonitored connection.    </p>    <p>        <strong>Internet Service Provider (ISP): </strong>        The ISP that hosts this IP address space. If your provider is not shown then select \"Other\" and enter it in the next column.    </p>    <p>        <strong>Other ISP: </strong>        Internet Service Provider.    </p>    <p>        <strong>ASN, IP Address or CIDR: </strong><br><br>        Provide IP address information for this connection.<br><br>        If no IP address is available then indicate \"\"Not Applicable\"\"    </p>    <p>        <strong>Description: </strong>        A brief high level description of the circuit. Please attach any more detail about these connections as necessary.    </p>'\n",
      ", FK_QuestionType = 77 WHERE PK_Question = 20891;\n",
      " -- OLD QGROUP 2114 TYPE NCEinsteinUnmonitoredTraffic\n",
      "\n",
      "UPDATE fsma_Questions \n",
      "SET QuestionText = 'CISA cyber analysts and EINSTEIN administrators need to understand where the EINSTEIN aggregation TAPs are located within your network.'\n",
      ", help_text = '<h4>Data Entry Tips:</h4><p>        <strong>Network aggregation TAP Identifier: </strong>        A brief name or description of the aggregation point within your organization''s network.    </p>    <p>        <strong>Logical Location: </strong>        Select the zone from the figure. If the location is not in any of the zones in the diagram please select \"Other\" and enter the description in the next column.    </p>    <p>        <strong>Other Logical Location: </strong>        Logical location of the EINSTEIN aggregation TAP    </p>    <p>        <strong>Function: </strong><br><br>        What is the function of this monitored network connection.<br><br>        If the function is not in the list then choose \"Other\" and enter it in the next column.    </p>    <p>        <strong>Other Function: </strong>        Please describe the function of this monitored network connection.    </p>'\n",
      ", FK_QuestionType = 78 WHERE PK_Question = 20900;\n",
      " -- OLD QGROUP 2115 TYPE NCEinsteinTaps\n",
      "\n",
      "UPDATE fsma_Questions \n",
      "SET QuestionText = 'Please supply a physical (or logical) network diagram to help CISA understand the network EINSTEIN is monitoring.  Please illustrate the logical data paths between EINSTEIN and the internet together with any network devices that filter or transform the traffic.'\n",
      ", help_text = 'Please supply a physical (or logical) network diagram to help CISA understand the network EINSTEIN is monitoring'\n",
      ", FK_QuestionType = 79 WHERE PK_Question = 20940;\n",
      " -- OLD QGROUP 2120 TYPE NCARTIFACT\n",
      "\n",
      "UPDATE fsma_Questions \n",
      "SET QuestionText = '<p>This table specifies the NAT rules associated with the private addresses listed in the Private IP Space and Network Channels to EINSTEIN sections.</p><p>If any of the \"Network Address Translations?\" responses in the Private IP Space or Network Channels sections contain \"Yes\" then this table must contain at least one row.</p>'\n",
      ", help_text = '<h4>Data Entry Tips:</h4><p>        <strong>Inside Local: </strong>        An inside (i.e., private) address assigned to a local host (as presented to EINSTEIN).    </p>    <p>        <strong>Inside Global: </strong>        Your network''s public IP addresses that correspond to the private \"Inside Local\" address block.    </p>'\n",
      ", FK_QuestionType = 80 WHERE PK_Question = 20960;\n",
      " -- OLD QGROUP 2122 TYPE NCEinsteinNATInfo\n",
      "\n",
      "UPDATE fsma_Questions \n",
      "SET QuestionText = '<p>CISA cyber analysts and EINSTEIN administrators need to understand the network channels that are supplied to EINSTEIN so they can correctly interpret EINSTEIN''s cyber data. </p><p>Please use the table below to describe the physical and logical data channels that are presented to EINSTEIN together with any address translations or content filtering that are applied to the channel. </p><p>Please include at least one definition for each VLAN that is presented to EINSTEIN.</p><p>Examples include: </br><li>A VLAN that carries guest network traffic. </li><li> A VLAN that carries the decrypted contents of an IPSEC tunnel to a remote office. </li><li>The IP address range(s) or VLANs of another agency that is sharing your network. </li><li>The private IP addresses that correspond to public IPs (i.e., they''ve been NATed). </li> </p>'\n",
      ", help_text = '<h4>Data Entry Tips:</h4><p>        <strong>Site Identifier: </strong>        Select the TIC site this monitoring feed is associated with or select \"All\" if the channel is provided to EINSTEIN at each TIC site.    </p>    <p>        <strong>Channel Name: </strong>        An identifier or description for the channel.    </p>    <p>        <strong>VLAN ID: </strong>        The VLAN ID (as presented to EINSTEIN) for this data channel. Leave the VLAN blank if not applicable or if the address specified in the next column appears in multiple VLANs.    </p>    <p>        <strong>ASN or IP Address or CIDR: </strong>        If the data channel is defined by an address, please supply the address in either IPv4, IPv6, ASN, IPv4 CIDR, IPv6 CIDR, or address range (xxx.xxx.xxx.xxx-xxx.xxx.xxx.xxx).    </p>    <p>        <strong>Channel Direction: </strong>        The direction of the information flows within the channel with relation to the public internet.    </p>    <p>        <strong>Channel Content: </strong>        The content of the information channel presented to EINSTEIN.    </p>    <p>        <strong>Other Channel Content: </strong>        Supply a description for the content in the information channel.    </p>    <p>        <strong>Filtered by a firewall?: </strong>        For incoming Internet traffic, has this traffic passed through a firewall?    </p>    <p>        <strong>Filtered by an Intrusion Protection System (IPS)?: </strong>        For incoming Internet traffic, has this traffic passed through an intrusion protection system?    </p>    <p>        <strong>Filtered by a WAF Gateway?: </strong>        For incoming Internet traffic, has this traffic passed through a web application firewall?    </p>    <p>        <strong>Additional Data Filtering: </strong>        Describe any additional data filtering (e.g., TLS Proxy, or SMTP Proxy, Reverse Proxy, etc.).    </p>    <p>        <strong>Encrypted?: </strong>        Is the traffic within the channel encrypted? Select \"Mixed\" if the channel contains both encrypted and plaintext traffic.    </p>    <p>        <strong>Network Address Translations?: </strong>        Are any of the RFC1918 addresses translated public addresses? If yes then please provide the network address rules in the next section.    </p>'\n",
      ", FK_QuestionType = 81 WHERE PK_Question = 20950;\n",
      " -- OLD QGROUP 2121 TYPE NCEinsteinNetworkChannels\n",
      "\n"
     ]
    }
   ],
   "source": [
    "engine = create_engine(connstr)\n",
    "conn = engine.connect()\n",
    "query = \"\"\" \\\n",
    "SELECT QPK, QGROUP, IdText, QuestionTypeCode, QuestionTypeID, QTEXT, help_text   \n",
    "FROM  vw_MetricsCompositeKeys\n",
    "WHERE PK_Form LIKE '%EINS%'\n",
    "\"\"\"  \n",
    "df = pd.read_sql(query,con=conn) \n",
    "conn.close()\n",
    "for i,r in df.iterrows():\n",
    "    s = ''\n",
    "    s = s + f\" -- {str(r['QPK'])}  {str(r['QGROUP'])}\"\n",
    "    print( s ) \n",
    "for i,r in df.iterrows():\n",
    "    qtext = r['QTEXT'].replace(\"'\",\"''\").replace(\"\\n\",\"\").replace(\"\\r\",\"\").replace(\"\\t\",\"\")\n",
    "    help_text = r['help_text'].replace(\"'\",\"''\").replace(\"\\n\",\"\").replace(\"\\r\",\"\").replace(\"\\t\",\"\")\n",
    "    s = f\"UPDATE fsma_Questions \\nSET QuestionText = '{qtext}'\" \n",
    "    s = s + f\"\\n, help_text = '{help_text}'\"\n",
    "    s = s + f'\\n, FK_QuestionType = ' + str(r['QuestionTypeID']) + ' ' \n",
    "    s = s + f\"WHERE PK_Question = \" + str(r['QPK']) + f\";\\n\"\n",
    "    s = s + f\" -- OLD QGROUP {str(r['QGROUP'])} TYPE {str(r['QuestionTypeCode'])}\\n\"\n",
    "    print( s ) "
   ]
  },
  {
   "cell_type": "code",
   "execution_count": null,
   "metadata": {},
   "outputs": [],
   "source": [
    "engine = create_engine(connstr)\n",
    "conn = engine.connect()\n",
    "query = \"\"\" \\\n",
    "SELECT QPK, QGROUP, IdText, QuestionTypeCode , QuestionTypeCode, QTEXT, help_text   \n",
    "FROM  vw_MetricsCompositeKeys\n",
    "WHERE PK_Form LIKE '%EINS%'\n",
    "\"\"\"  \n",
    "df = pd.read_sql(query,con=conn) \n",
    "conn.close()"
   ]
  },
  {
   "cell_type": "code",
   "execution_count": null,
   "metadata": {},
   "outputs": [],
   "source": [
    "sections = [ \n",
    "{'1': 'Public IP Address Specification'}\n",
    "{'2': 'Unannounced IP Address Specification'}\n",
    "{'3': 'EINSTEIN Test Access Point (TAP) Locations'}\n",
    "{'4': 'Virtual LANs (VLANs) Specification'}\n",
    "{'5': 'Unmonitored Internet Traffic'}\n",
    "{'6': 'Network Address Translation (NAT) Specification'}\n",
    "{'7': 'Border Gateway Protocol (BGP) Specification'}\n",
    "{'8': 'Network Diagrams'}        \n",
    "]\n"
   ]
  },
  {
   "cell_type": "code",
   "execution_count": null,
   "metadata": {},
   "outputs": [],
   "source": []
  },
  {
   "cell_type": "code",
   "execution_count": null,
   "metadata": {},
   "outputs": [],
   "source": []
  },
  {
   "cell_type": "code",
   "execution_count": null,
   "metadata": {},
   "outputs": [],
   "source": []
  },
  {
   "cell_type": "code",
   "execution_count": 11,
   "metadata": {
    "scrolled": true
   },
   "outputs": [
    {
     "data": {
      "text/plain": [
       "'70.233.135.81'"
      ]
     },
     "execution_count": 11,
     "metadata": {},
     "output_type": "execute_result"
    }
   ],
   "source": [
    "def getip(): \n",
    "    return f\"{np.random.randint(1, 255)}.{np.random.randint(1, 255)}.{np.random.randint(1, 255)}.{np.random.randint(1, 255)}\"\n",
    "getip()"
   ]
  },
  {
   "cell_type": "code",
   "execution_count": 16,
   "metadata": {},
   "outputs": [
    {
     "name": "stdout",
     "output_type": "stream",
     "text": [
      "d['Name'] = getip()\n",
      "d['ISP'] = getip()\n",
      "d['OtherISP'] = getip()\n",
      "d['ExternalOrg'] = getip()\n",
      "d['Visible'] = getip()\n",
      "d['StartingIP'] = getip()\n",
      "d['EndingIP'] = getip()\n",
      "d['TIC_MTIPS'] = getip()\n"
     ]
    }
   ],
   "source": [
    "engine = create_engine(connstr)\n",
    "conn = engine.connect()\n",
    "query = \"\"\" \\\n",
    "SELECT TOP 1 * FROM EinsteinPublicIP \n",
    "\"\"\"  \n",
    "df = pd.read_sql(query,con=conn)  \n",
    "df.drop('PK_EinsteinPublicIP', axis=1, inplace=True)\n",
    "df.drop('PK_OrgSubmission', axis=1, inplace=True)\n",
    "df.drop('UserId', axis=1, inplace=True)\n",
    "df.drop('isActive', axis=1, inplace=True)\n",
    "df.drop('DateDeactivated', axis=1, inplace=True)\n",
    "for c in df.columns:\n",
    "    print(f\"d['{c}'] = '{getip()}'\"  )\n",
    "\n",
    " "
   ]
  },
  {
   "cell_type": "code",
   "execution_count": 36,
   "metadata": {},
   "outputs": [],
   "source": [
    "lst = []\n",
    "ln = 20000\n",
    "for i in range(ln):\n",
    "    d={}\n",
    "    d['StartingIP'] = getip()\n",
    "    d['EndingIP'] = getip()    \n",
    "    d['Name_Purpose'] = getip()\n",
    "    d['ISP'] = 'IBM' \n",
    "    d['OtherISP'] = 'Other'\n",
    "    d['External_Organization'] = fake.address()[:25]\n",
    "    d['TIC_MTIPS'] = 'TIC'\n",
    "    d['Visible'] = 'Yes' \n",
    "    lst.append(d)\n",
    "df=pd.DataFrame(lst)\n",
    "df.to_excel(fr'c:\\temp\\EinsteinPublicIP_{ln}.xlsx', index=False)    \n"
   ]
  },
  {
   "cell_type": "code",
   "execution_count": 31,
   "metadata": {},
   "outputs": [],
   "source": []
  },
  {
   "cell_type": "code",
   "execution_count": null,
   "metadata": {},
   "outputs": [],
   "source": []
  }
 ],
 "metadata": {
  "kernelspec": {
   "display_name": "Python 3",
   "language": "python",
   "name": "python3"
  },
  "language_info": {
   "codemirror_mode": {
    "name": "ipython",
    "version": 3
   },
   "file_extension": ".py",
   "mimetype": "text/x-python",
   "name": "python",
   "nbconvert_exporter": "python",
   "pygments_lexer": "ipython3",
   "version": "3.8.8"
  }
 },
 "nbformat": 4,
 "nbformat_minor": 4
}
