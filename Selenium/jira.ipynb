{
 "cells": [
  {
   "cell_type": "code",
   "execution_count": 85,
   "metadata": {},
   "outputs": [],
   "source": [
    "import json, re,  os, time, random, time\n",
    "from bs4 import BeautifulSoup   \n",
    "import pandas as pd \n",
    "from webdriver_manager.chrome import ChromeDriverManager\n",
    "from selenium.webdriver.chrome.options import Options\n",
    "from selenium import webdriver\n",
    "from selenium.webdriver.common.by import By\n",
    "from selenium.webdriver.support.ui import WebDriverWait\n",
    "from selenium.webdriver.support import expected_conditions as EC  \n",
    "from config import *\n",
    "from datetime import datetime, date, timedelta\n",
    "import pymongo\n",
    "import logging \n",
    "from ast import literal_eval\n",
    "config=''\n",
    "with open(r'C:\\Users\\timko\\source\\repos\\PythonBoiler\\CodeGenerators\\config.json') as f:\n",
    "    config = json.loads(f.read())  "
   ]
  },
  {
   "cell_type": "markdown",
   "metadata": {},
   "source": [
    "<a id=\"id\"></a>"
   ]
  },
  {
   "cell_type": "code",
   "execution_count": 86,
   "metadata": {},
   "outputs": [],
   "source": [
    "# with open('config.log','w') as f:pass"
   ]
  },
  {
   "cell_type": "code",
   "execution_count": 87,
   "metadata": {},
   "outputs": [],
   "source": [
    "class context():\n",
    "    def __init__(self):  \n",
    "        self.logger=self._get_logger()\n",
    "        self.config=self._get_config()\n",
    "    def _get_config(self):\n",
    "        config=''\n",
    "        with open(r'C:\\Users\\timko\\source\\repos\\PythonBoiler\\CodeGenerators\\config.json') as f:\n",
    "            config = json.loads(f.read())  \n",
    "        return config\n",
    "    def _get_logger(self):\n",
    "        logging.basicConfig(filename='config.log', level=logging.INFO, format='%(asctime)s %(message)s', datefmt='%m/%d/%Y %I:%M:%S %p') \n",
    "        #logging.getLogger().setLevel(logging.INFO)\n",
    "        logger=logging.getLogger('config') \n",
    "        return logger\n",
    "ctx = context()"
   ]
  },
  {
   "cell_type": "code",
   "execution_count": 88,
   "metadata": {},
   "outputs": [
    {
     "data": {
      "text/plain": [
       "'href_1'"
      ]
     },
     "execution_count": 88,
     "metadata": {},
     "output_type": "execute_result"
    }
   ],
   "source": [
    "conn = 'mongodb://localhost:27017'\n",
    "client = pymongo.MongoClient(conn) \n",
    "db = client.jira\n",
    "collection = db.issues \n",
    "db.issues.create_index('href', unique = True)"
   ]
  },
  {
   "cell_type": "code",
   "execution_count": 89,
   "metadata": {},
   "outputs": [],
   "source": [
    "class jiradriver():\n",
    "    def __init__(self, ctx):   \n",
    "        self.driver=None \n",
    "        self.ctx=ctx \n",
    "        self.issues=None\n",
    "    def init(self):\n",
    "        if self.driver==None:\n",
    "            config=self.ctx.config\n",
    "            options = Options() \n",
    "            options.add_argument(\"--window-size=1220,980\")  \n",
    "            # driver = webdriver.Chrome(executable_path=ChromeDriverManager(log_level=0, version='114.0.5735.90').install() ,options=options)   \n",
    "            driver = webdriver.Chrome(executable_path=r\"C:\\bom\\drivers\\117\\chromedriver.exe\" ,options=options)    \n",
    "            driver.get(f\"https://dayman.cyber-balance.com/jira/login.jsp\")  \n",
    "            driver.find_element(By.XPATH, '//input[contains(@id, \"user\")]').send_keys(config['user'])\n",
    "            driver.find_element(By.XPATH, '//input[contains(@id, \"pass\")]').send_keys(config['pass']) \n",
    "            driver.find_element(By.XPATH, '//input[contains(@id, \"submit\")]').click() \n",
    "            time.sleep(.5)\n",
    "            self.driver=driver \n",
    "        else:  \n",
    "            for h in self.driver.window_handles:\n",
    "                self.driver.switch_to.window(h)\n",
    "                if h != self.driver.window_handles[0]: \n",
    "                    self.driver.close()  \n",
    "            self.driver.switch_to.window(self.driver.window_handles[0])\n",
    "            self.driver.get(f'https://dayman.cyber-balance.com/jira/secure/Dashboard.jspa')\n",
    "        return self\n",
    "    def log(self, issues=None, time_spent='20m'):\n",
    "        if issues==None:\n",
    "            issues=self.issues\n",
    "        driver=self.driver\n",
    "        for issue in issues: \n",
    "            self._fetch_issue(issue)\n",
    "            try:\n",
    "                ele = WebDriverWait(driver, timeout=1.5).until(lambda d: d.find_elements_by_xpath(\"//span[contains(text(),'Start Progress')]\")) \n",
    "                if len(ele) > 0:\n",
    "                    ele[0].click()   \n",
    "                    driver.get(issue)\n",
    "                    time.sleep(1.5)   \n",
    "            except Exception as e:\n",
    "                pass   \n",
    "            try:    \n",
    "                ele = WebDriverWait(driver, timeout=5).until(lambda d: d.find_element_by_xpath(\"//a[@id='opsbar-operations_more']\"))\n",
    "                ele.click() \n",
    "                ele = WebDriverWait(driver, timeout=5).until(lambda d: d.find_element_by_xpath(\"//span[contains(text(),'Log work')]\"))\n",
    "                ele.click()\n",
    "                ele = WebDriverWait(driver, timeout=5).until(lambda d: d.find_element_by_xpath(\"//*[@id='log-work-time-logged']\"))\n",
    "                ele.send_keys(time_spent) \n",
    "                ele = driver.find_elements_by_xpath(\"//*[@id='log-work-submit']\")\n",
    "                ele[0].click()\n",
    "            except Exception as e:\n",
    "                self.ctx.logger.error(f'[log()     ] {e}') \n",
    "\n",
    "        return self\n",
    "\n",
    "    def _fetch_issue(self, issue):\n",
    "        driver=self.driver  \n",
    "        driver.execute_script(\"window.open('');\") \n",
    "        driver.switch_to.window(driver.window_handles[len(driver.window_handles)-1]) \n",
    "        self.ctx.logger.info(f'[issue     ] {issue}')\n",
    "        driver.get(issue) \n",
    "        time.sleep(1)   \n",
    "\n",
    "    def _log_issue(self):\n",
    "        driver=self.driver    \n",
    "        collection.update_one({'href': self.driver.current_url}, {\"$set\": {\n",
    "             'date' : datetime.today().strftime('%Y-%m-%d %H:%M:%S')\n",
    "            ,'title' : driver.find_element_by_xpath(\"//*[@id='summary-val']\").text\n",
    "            }}, upsert=True)\n",
    "\n",
    "    def subo(self,issues=None):\n",
    "        if issues==None:\n",
    "            issues=self.issues\n",
    "        driver=self.driver\n",
    "        for issue in issues[:]:  \n",
    "            self._fetch_issue(issue)\n",
    "            try:\n",
    "                ele = WebDriverWait(driver, timeout=5).until(lambda d: d.find_elements_by_xpath(\"//span[contains(text(),'Resolve Issue')]\")) \n",
    "                if len(ele) > 0:\n",
    "                    ele[0].click()   \n",
    "                    ele = WebDriverWait(driver, timeout=5).until(lambda d: d.find_element_by_xpath(\"//input[@id='issue-workflow-transition-submit']\")) \n",
    "                    ele.click()   \n",
    "                    time.sleep(2) \n",
    "            except Exception as e:\n",
    "                self.ctx.logger.error(f'[subo()    ] {e}') \n",
    "            try:\n",
    "                ele = WebDriverWait(driver, timeout=5).until(lambda d: d.find_elements_by_xpath(\"//span[contains(text(),'Ready To Test')]\")) \n",
    "                if len(ele) > 0:\n",
    "                    ele[0].click()    \n",
    "                    ele = WebDriverWait(driver, timeout=5).until(lambda d: d.find_element_by_xpath(\"//input[@id='issue-workflow-transition-submit']\")) \n",
    "                    ele.click()   \n",
    "            except Exception as e:\n",
    "                self.ctx.logger.error(f'[subo()    ] {e}')   \n",
    "        return self\n",
    "\n",
    "    def get_issues(self, by='7.5'):\n",
    "        driver=self.driver\n",
    "        driver.get(f'https://dayman.cyber-balance.com/jira/secure/Dashboard.jspa')\n",
    "        if re.match('^[0-9][0-9\\.]+$', by ):\n",
    "            xpath= \"//td[@class='fixVersions']//a[contains(text(),'\" + by + \"')]/../..//a[@class='issue-link']\" \n",
    "        else:\n",
    "            xpath=\"//a[contains(text(),'\" + by + \"')]\"\n",
    "\n",
    "        self.ctx.logger.info(f'[xpath      ] {xpath}') \n",
    "        eles = driver.find_elements_by_xpath(xpath)\n",
    "        issues=[e.get_attribute(\"href\") for e in eles]\n",
    "        issues=list(set(issues))\n",
    "        for issue in issues:\n",
    "            driver.get(issue)\n",
    "            time.sleep(.25) \n",
    "            self._log_issue()\n",
    "        self.issues=issues\n",
    "        return self\n",
    " "
   ]
  },
  {
   "cell_type": "code",
   "execution_count": 90,
   "metadata": {},
   "outputs": [],
   "source": [
    "jira = jiradriver(ctx).init() "
   ]
  },
  {
   "cell_type": "code",
   "execution_count": 93,
   "metadata": {},
   "outputs": [
    {
     "data": {
      "text/plain": [
       "<__main__.jiradriver at 0x1b11f247250>"
      ]
     },
     "execution_count": 93,
     "metadata": {},
     "output_type": "execute_result"
    }
   ],
   "source": [
    "jira.get_issues('7.5').log(time_spent='20m').init() "
   ]
  },
  {
   "cell_type": "code",
   "execution_count": null,
   "metadata": {},
   "outputs": [],
   "source": [
    "jira.get_issues('BOD 18')\n",
    "jira.subo()\n",
    "# jira.driver.quit()"
   ]
  },
  {
   "cell_type": "code",
   "execution_count": null,
   "metadata": {},
   "outputs": [],
   "source": [
    "df = pd.DataFrame(list(collection.find()))\n",
    "df['tnum'] = df['href'].apply(lambda s: s.split('/').pop())\n",
    "df"
   ]
  }
 ],
 "metadata": {
  "kernelspec": {
   "display_name": "Python 3",
   "language": "python",
   "name": "python3"
  },
  "language_info": {
   "codemirror_mode": {
    "name": "ipython",
    "version": 3
   },
   "file_extension": ".py",
   "mimetype": "text/x-python",
   "name": "python",
   "nbconvert_exporter": "python",
   "pygments_lexer": "ipython3",
   "version": "3.8.5"
  },
  "vscode": {
   "interpreter": {
    "hash": "1b5c637c5c17e7841ce3b55fac6772e1460db6e5f5b3923b76ec2696de093845"
   }
  }
 },
 "nbformat": 4,
 "nbformat_minor": 4
}
