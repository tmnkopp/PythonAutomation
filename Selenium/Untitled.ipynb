{
 "cells": [
  {
   "cell_type": "code",
   "execution_count": 34,
   "metadata": {},
   "outputs": [],
   "source": [
    "import pymongo , bson, re\n",
    "import nltk\n",
    "from nltk.corpus import stopwords\n",
    "sw=stopwords.words('english')\n",
    "import pandas as pd  "
   ]
  },
  {
   "cell_type": "code",
   "execution_count": 2,
   "metadata": {},
   "outputs": [],
   "source": [
    "conn = 'mongodb://localhost:27017'\n",
    "client = pymongo.MongoClient(conn) \n",
    "db = client.dhwy\n",
    "collection = db.posts "
   ]
  },
  {
   "cell_type": "code",
   "execution_count": 179,
   "metadata": {},
   "outputs": [],
   "source": [
    "df = pd.DataFrame(list(collection.find()))"
   ]
  },
  {
   "cell_type": "code",
   "execution_count": 181,
   "metadata": {
    "scrolled": true
   },
   "outputs": [
    {
     "name": "stdout",
     "output_type": "stream",
     "text": [
      "Stonewall : Nov 22, 2021 https://dallashwy.com/index.php?threads/georgia-senate-approves-a-map-thats-likely-to-expand-republicans-advantage-in-congress.39056/post-430356 Gerrymandering is legal in Georgia. To the winners go the spoils. This is one of the many reasons I got pissed off at the facet of the Trumpers who did not vote the last election because they were childish and butt hurt over the loss of their idol. Congress is just as if not more important than the executive office. The house has the purse strings for all the folks worried about spending and inflation.\n",
      "\n",
      "\n",
      "The Sound Guy : Nov 22, 2021 https://dallashwy.com/index.php?threads/georgia-senate-approves-a-map-thats-likely-to-expand-republicans-advantage-in-congress.39056/post-430357 Stonewall said:Gerrymandering is legal in Georgia. To the winners go the spoils. This is one of the many reasons I got pissed off at the facet of the Trumpers who did not vote the last election because they were childish and butt hurt over the loss of their idol. Congress is just as if not more important than the executive office. The house has the purse strings for all the folks worried about spending and inflation.Click to expand...To an extent.   They get too far out of line and the feds will step in again:For the first time in more than 50 years, Georgia starts redistricting without federal oversight. A Supreme Court ruling in 2013 removed mandatory federal approval of new maps for Georgia and all or parts of 15 other states with a history of discrimination in voting.Click to expand...\n",
      "\n",
      "\n",
      "J-man : Feb 5, 2021 https://dallashwy.com/index.php?threads/house-ousts-rep-marjorie-taylor-greene-from-committees-in-unprecedented-vote.36927/post-415321 Again, to the winner goes the spoils.  The Dems can do whatever they please now and there's NOTHING to stop them, especially since there's not enough true Constitutional Conservative GOP members willing to fight back for the people.  Game over folks, at least for now.\n",
      "\n",
      "\n",
      "ABTHREE : Feb 5, 2021 https://dallashwy.com/index.php?threads/house-ousts-rep-marjorie-taylor-greene-from-committees-in-unprecedented-vote.36927/post-415332 J-man said:Again, to the winner goes the spoils.  The Dems can do whatever they please now and there's NOTHING to stop them, especially since there's not enough true Constitutional Conservative GOP members willing to fight back for the people.  Game over folks, at least for now.Click to expand...So True\n",
      "\n",
      "\n",
      "lotstodo : Apr 10, 2021 https://dallashwy.com/index.php?threads/mlb-cant-lay-a-glove-on-georgia.37412/post-418990 I do think that this spoils Abrams chances to run as governor. Kemp will serve another term.\n",
      "\n",
      "\n",
      "The Sound Guy : Apr 10, 2021 https://dallashwy.com/index.php?threads/mlb-cant-lay-a-glove-on-georgia.37412/post-418998 lotstodo said:I do think that this spoils Abrams chances to run as governor. Kemp will serve another term.Click to expand...We can only hope.\n",
      "\n",
      "\n",
      "J-man : Mar 11, 2021 https://dallashwy.com/index.php?threads/pelosi-tried-to-get-general-to-commit-mutiny.37190/post-417164 She got away with it and will continue to get away with it, at least until some force stands up and says enough if enough.   At the moment I don't see any relief in sight so again I say, \"To the winner goes the spoils.\"  What a sad state for our country.\n",
      "\n",
      "\n",
      "J-man : Jan 25, 2021 https://dallashwy.com/index.php?threads/dems-want-to-change-election-laws.36825/post-414578 It's a new day with a new sheriff in town.  To the winner goes the spoils.  As much as that irritates me to type it's the truth.Merica Baby!!!\n",
      "\n",
      "\n",
      "Stonewall : Nov 25, 2020 https://dallashwy.com/index.php?threads/dont-let-it-be-hillary.36270/post-410816 To the winner goes the spoils. People this Senatorial contest in Ga. is as serious as it comes if you don't want socialist programs. The only buffer against straight out socialism will be the SCOTUS under the moderate Robert's.\n",
      "\n",
      "\n"
     ]
    },
    {
     "name": "stderr",
     "output_type": "stream",
     "text": [
      "C:\\Users\\timko\\anaconda3\\lib\\site-packages\\pandas\\core\\generic.py:5168: SettingWithCopyWarning: \n",
      "A value is trying to be set on a copy of a slice from a DataFrame.\n",
      "Try using .loc[row_indexer,col_indexer] = value instead\n",
      "\n",
      "See the caveats in the documentation: https://pandas.pydata.org/pandas-docs/stable/user_guide/indexing.html#returning-a-view-versus-a-copy\n",
      "  self[name] = value\n"
     ]
    },
    {
     "data": {
      "text/html": [
       "<div>\n",
       "<style scoped>\n",
       "    .dataframe tbody tr th:only-of-type {\n",
       "        vertical-align: middle;\n",
       "    }\n",
       "\n",
       "    .dataframe tbody tr th {\n",
       "        vertical-align: top;\n",
       "    }\n",
       "\n",
       "    .dataframe thead th {\n",
       "        text-align: right;\n",
       "    }\n",
       "</style>\n",
       "<table border=\"1\" class=\"dataframe\">\n",
       "  <thead>\n",
       "    <tr style=\"text-align: right;\">\n",
       "      <th></th>\n",
       "      <th>url</th>\n",
       "      <th>title</th>\n",
       "      <th>date</th>\n",
       "      <th>mess</th>\n",
       "    </tr>\n",
       "  </thead>\n",
       "  <tbody>\n",
       "    <tr>\n",
       "      <th>2089</th>\n",
       "      <td>https://dallashwy.com/index.php?threads/georgi...</td>\n",
       "      <td>Georgia Senate approves a map that's likely to...</td>\n",
       "      <td>Nov 22, 2021</td>\n",
       "      <td>Gerrymandering is legal in Georgia. To the win...</td>\n",
       "    </tr>\n",
       "    <tr>\n",
       "      <th>2090</th>\n",
       "      <td>https://dallashwy.com/index.php?threads/georgi...</td>\n",
       "      <td>Georgia Senate approves a map that's likely to...</td>\n",
       "      <td>Nov 22, 2021</td>\n",
       "      <td>Stonewall said:Gerrymandering is legal in Geor...</td>\n",
       "    </tr>\n",
       "    <tr>\n",
       "      <th>4295</th>\n",
       "      <td>https://dallashwy.com/index.php?threads/house-...</td>\n",
       "      <td>House ousts Rep. Marjorie Taylor Greene from c...</td>\n",
       "      <td>Feb 5, 2021</td>\n",
       "      <td>Again, to the winner goes the spoils.  The Dem...</td>\n",
       "    </tr>\n",
       "    <tr>\n",
       "      <th>4297</th>\n",
       "      <td>https://dallashwy.com/index.php?threads/house-...</td>\n",
       "      <td>House ousts Rep. Marjorie Taylor Greene from c...</td>\n",
       "      <td>Feb 5, 2021</td>\n",
       "      <td>J-man said:Again, to the winner goes the spoil...</td>\n",
       "    </tr>\n",
       "    <tr>\n",
       "      <th>4366</th>\n",
       "      <td>https://dallashwy.com/index.php?threads/mlb-ca...</td>\n",
       "      <td>MLB Can't Lay a Glove on Georgia | Dallas Hwy.com</td>\n",
       "      <td>Apr 10, 2021</td>\n",
       "      <td>I do think that this spoils Abrams chances to ...</td>\n",
       "    </tr>\n",
       "    <tr>\n",
       "      <th>4367</th>\n",
       "      <td>https://dallashwy.com/index.php?threads/mlb-ca...</td>\n",
       "      <td>MLB Can't Lay a Glove on Georgia | Dallas Hwy.com</td>\n",
       "      <td>Apr 10, 2021</td>\n",
       "      <td>lotstodo said:I do think that this spoils Abra...</td>\n",
       "    </tr>\n",
       "    <tr>\n",
       "      <th>4792</th>\n",
       "      <td>https://dallashwy.com/index.php?threads/pelosi...</td>\n",
       "      <td>Pelosi tried to get general to commit mutiny |...</td>\n",
       "      <td>Mar 11, 2021</td>\n",
       "      <td>She got away with it and will continue to get ...</td>\n",
       "    </tr>\n",
       "    <tr>\n",
       "      <th>5427</th>\n",
       "      <td>https://dallashwy.com/index.php?threads/dems-w...</td>\n",
       "      <td>Dems want to change election laws | Dallas Hwy...</td>\n",
       "      <td>Jan 25, 2021</td>\n",
       "      <td>It's a new day with a new sheriff in town.  To...</td>\n",
       "    </tr>\n",
       "    <tr>\n",
       "      <th>6748</th>\n",
       "      <td>https://dallashwy.com/index.php?threads/dont-l...</td>\n",
       "      <td>Don't let it be Hillary | Dallas Hwy.com</td>\n",
       "      <td>Nov 25, 2020</td>\n",
       "      <td>To the winner goes the spoils. People this Sen...</td>\n",
       "    </tr>\n",
       "  </tbody>\n",
       "</table>\n",
       "</div>"
      ],
      "text/plain": [
       "                                                    url  \\\n",
       "2089  https://dallashwy.com/index.php?threads/georgi...   \n",
       "2090  https://dallashwy.com/index.php?threads/georgi...   \n",
       "4295  https://dallashwy.com/index.php?threads/house-...   \n",
       "4297  https://dallashwy.com/index.php?threads/house-...   \n",
       "4366  https://dallashwy.com/index.php?threads/mlb-ca...   \n",
       "4367  https://dallashwy.com/index.php?threads/mlb-ca...   \n",
       "4792  https://dallashwy.com/index.php?threads/pelosi...   \n",
       "5427  https://dallashwy.com/index.php?threads/dems-w...   \n",
       "6748  https://dallashwy.com/index.php?threads/dont-l...   \n",
       "\n",
       "                                                  title          date  \\\n",
       "2089  Georgia Senate approves a map that's likely to...  Nov 22, 2021   \n",
       "2090  Georgia Senate approves a map that's likely to...  Nov 22, 2021   \n",
       "4295  House ousts Rep. Marjorie Taylor Greene from c...   Feb 5, 2021   \n",
       "4297  House ousts Rep. Marjorie Taylor Greene from c...   Feb 5, 2021   \n",
       "4366  MLB Can't Lay a Glove on Georgia | Dallas Hwy.com  Apr 10, 2021   \n",
       "4367  MLB Can't Lay a Glove on Georgia | Dallas Hwy.com  Apr 10, 2021   \n",
       "4792  Pelosi tried to get general to commit mutiny |...  Mar 11, 2021   \n",
       "5427  Dems want to change election laws | Dallas Hwy...  Jan 25, 2021   \n",
       "6748           Don't let it be Hillary | Dallas Hwy.com  Nov 25, 2020   \n",
       "\n",
       "                                                   mess  \n",
       "2089  Gerrymandering is legal in Georgia. To the win...  \n",
       "2090  Stonewall said:Gerrymandering is legal in Geor...  \n",
       "4295  Again, to the winner goes the spoils.  The Dem...  \n",
       "4297  J-man said:Again, to the winner goes the spoil...  \n",
       "4366  I do think that this spoils Abrams chances to ...  \n",
       "4367  lotstodo said:I do think that this spoils Abra...  \n",
       "4792  She got away with it and will continue to get ...  \n",
       "5427  It's a new day with a new sheriff in town.  To...  \n",
       "6748  To the winner goes the spoils. People this Sen...  "
      ]
     },
     "execution_count": 181,
     "metadata": {},
     "output_type": "execute_result"
    }
   ],
   "source": [
    "\n",
    "dff = df.loc[ df.mess.str.contains('spoils') ]\n",
    "dff.mess = dff.mess.apply(lambda s:  clean_mess(s) )\n",
    "for i, r in dff.iterrows():\n",
    "    print( r.author + ' : ' + r.date + ' '  + r.url + ' ' +  r.mess + '\\n\\n' )\n",
    "dff[['url', 'title', 'date', 'mess']]    "
   ]
  },
  {
   "cell_type": "code",
   "execution_count": 26,
   "metadata": {},
   "outputs": [
    {
     "name": "stdout",
     "output_type": "stream",
     "text": [
      "['www.washingtonpost', 'www.washingtonpost']\n"
     ]
    }
   ],
   "source": [
    "def extract_link(s):\n",
    "    ex = re.findall(r\"https?://(.{1,55})\\.com\", s)\n",
    "    print(ex)\n",
    "extract_link(df.iloc[32]['mess'])    "
   ]
  },
  {
   "cell_type": "code",
   "execution_count": 85,
   "metadata": {},
   "outputs": [
    {
     "data": {
      "text/plain": [
       "'There are still two pathways where Trump could win. Assuming he wins Georgia, NC, and Penn; he MUST win either Michigan or Nevada. Of course, this is before recounts and lawyers.'"
      ]
     },
     "execution_count": 85,
     "metadata": {},
     "output_type": "execute_result"
    }
   ],
   "source": [
    "def clean_mess(s):\n",
    "    s=re.sub('[\\t\\n\\r]','',s) \n",
    "    return s \n",
    "clean_mess(df.iloc[952]['mess'])    "
   ]
  },
  {
   "cell_type": "code",
   "execution_count": 53,
   "metadata": {},
   "outputs": [
    {
     "data": {
      "text/plain": [
       "'https://dallashwy.com/index.php?threads/the-mandate.38505/post-427206'"
      ]
     },
     "execution_count": 53,
     "metadata": {},
     "output_type": "execute_result"
    }
   ],
   "source": [
    "df.iloc[354]['url']"
   ]
  },
  {
   "cell_type": "code",
   "execution_count": null,
   "metadata": {},
   "outputs": [],
   "source": []
  }
 ],
 "metadata": {
  "kernelspec": {
   "display_name": "Python 3",
   "language": "python",
   "name": "python3"
  },
  "language_info": {
   "codemirror_mode": {
    "name": "ipython",
    "version": 3
   },
   "file_extension": ".py",
   "mimetype": "text/x-python",
   "name": "python",
   "nbconvert_exporter": "python",
   "pygments_lexer": "ipython3",
   "version": "3.8.5"
  }
 },
 "nbformat": 4,
 "nbformat_minor": 4
}
