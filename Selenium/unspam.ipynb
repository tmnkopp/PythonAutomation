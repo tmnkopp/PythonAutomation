{
 "cells": [
  {
   "cell_type": "code",
   "execution_count": 29,
   "metadata": {},
   "outputs": [],
   "source": [
    "import json, re,  os, time, random, time\n",
    "from bs4 import BeautifulSoup   \n",
    "import pandas as pd \n",
    "from webdriver_manager.chrome import ChromeDriverManager\n",
    "from selenium.webdriver.chrome.options import Options\n",
    "from selenium import webdriver\n",
    "from selenium.webdriver.common.by import By\n",
    "from selenium.webdriver.support.ui import WebDriverWait\n",
    "from selenium.webdriver.support import expected_conditions as EC  \n",
    "from config import *\n",
    "from datetime import datetime, timedelta"
   ]
  },
  {
   "cell_type": "markdown",
   "metadata": {},
   "source": [
    "<a id=\"id\"></a>"
   ]
  },
  {
   "cell_type": "code",
   "execution_count": 30,
   "metadata": {},
   "outputs": [],
   "source": [
    "config=''\n",
    "with open(r'C:\\Users\\timko\\source\\repos\\PythonBoiler\\CodeGenerators\\config.json') as f:\n",
    "    config = json.loads(f.read())  \n"
   ]
  },
  {
   "cell_type": "code",
   "execution_count": 31,
   "metadata": {},
   "outputs": [],
   "source": [
    "options = Options()\n",
    "options.add_argument(\"--start-minimized\")  \n",
    "options.add_argument(\"--window-size=1220,980\")  \n",
    "# driver = webdriver.Chrome(executable_path=ChromeDriverManager(log_level=0, version='114.0.5735.90').install() ,options=options)   \n",
    "driver = webdriver.Chrome(executable_path=r\"C:\\bom\\drivers\\115\\chromedriver.exe\" ,options=options)   \n",
    "\n",
    "driver.get(f\"https://dayman.cyber-balance.com/jira/login.jsp\")  \n",
    "driver.find_element(By.XPATH, '//input[contains(@id, \"user\")]').send_keys(config['user'])\n",
    "driver.find_element(By.XPATH, '//input[contains(@id, \"pass\")]').send_keys(config['pass']) \n",
    "driver.find_element(By.XPATH, '//input[contains(@id, \"submit\")]').click() \n",
    "\n"
   ]
  },
  {
   "cell_type": "code",
   "execution_count": 35,
   "metadata": {},
   "outputs": [],
   "source": [
    "driver.get(f'https://dayman.cyber-balance.com/jira/secure/Dashboard.jspa')\n",
    "eles = driver.find_elements_by_xpath(\"//td[@class='fixVersions']//a[contains(text(),'7.5')]/../..//a[@class='issue-link']\")\n",
    "all_issues=[e.get_attribute(\"href\") for e in eles]\n",
    "all_issues=list(set(all_issues))\n",
    "eles = driver.find_elements_by_xpath(\"//a[contains(text(),'BOD 23')]\")\n",
    "issues=[e.get_attribute(\"href\") for e in eles]\n",
    "issues=list(set(issues))"
   ]
  },
  {
   "cell_type": "code",
   "execution_count": 34,
   "metadata": {},
   "outputs": [
    {
     "data": {
      "text/plain": [
       "['https://dayman.cyber-balance.com/jira/browse/CSHELP-3691',\n",
       " 'https://dayman.cyber-balance.com/jira/browse/CS-9760']"
      ]
     },
     "execution_count": 34,
     "metadata": {},
     "output_type": "execute_result"
    }
   ],
   "source": [
    "\n",
    "issues"
   ]
  },
  {
   "cell_type": "code",
   "execution_count": null,
   "metadata": {},
   "outputs": [],
   "source": [
    "for issue in all_issues[:]: \n",
    "    driver.get(issue)  "
   ]
  },
  {
   "cell_type": "code",
   "execution_count": null,
   "metadata": {},
   "outputs": [],
   "source": [
    "def log():\n",
    "    for issue in issues[:]: \n",
    "        print(issue) \n",
    "        driver.get(issue)  \n",
    "        try:\n",
    "            ele = WebDriverWait(driver, timeout=2).until(lambda d: d.find_elements_by_xpath(\"//span[contains(text(),'Start Progress')]\")) \n",
    "            if len(ele) > 0:\n",
    "                ele[0].click() \n",
    "                driver.get(issue) \n",
    "                time.sleep(1)\n",
    "        except Exception as e:\n",
    "            print(e) \n",
    "        ele = WebDriverWait(driver, timeout=2).until(lambda d: d.find_element_by_xpath(\"//a[@id='opsbar-operations_more']\"))\n",
    "        ele.click()\n",
    "        ele = WebDriverWait(driver, timeout=2).until(lambda d: d.find_element_by_xpath(\"//span[contains(text(),'Log work')]\"))\n",
    "        ele.click()\n",
    "        ele = WebDriverWait(driver, timeout=2).until(lambda d: d.find_element_by_xpath(\"//*[@id='log-work-time-logged']\"))\n",
    "        ele.send_keys('20m') \n",
    "        ele = driver.find_elements_by_xpath(\"//*[@id='log-work-submit']\")\n",
    "        ele[0].click()\n",
    "        time.sleep(5)\n",
    "\n",
    "\n"
   ]
  },
  {
   "cell_type": "code",
   "execution_count": null,
   "metadata": {},
   "outputs": [],
   "source": [
    "def subo():\n",
    "    for issue in issues[:]:  \n",
    "        driver.get(issue)   \n",
    "        time.sleep(5)  \n",
    "        print(issue)   \n",
    "        try:\n",
    "            ele = WebDriverWait(driver, timeout=5).until(lambda d: d.find_elements_by_xpath(\"//span[contains(text(),'Resolve Issue')]\")) \n",
    "            if len(ele) > 0:\n",
    "                ele[0].click()   \n",
    "                ele = WebDriverWait(driver, timeout=2).until(lambda d: d.find_element_by_xpath(\"//input[@id='issue-workflow-transition-submit']\")) \n",
    "                ele.click()   \n",
    "        except Exception as e:\n",
    "            print(e) \n",
    "\n",
    "        try:\n",
    "            ele = WebDriverWait(driver, timeout=5).until(lambda d: d.find_elements_by_xpath(\"//span[contains(text(),'Ready To Test')]\")) \n",
    "            if len(ele) > 0:\n",
    "                ele[0].click()    \n",
    "                ele = WebDriverWait(driver, timeout=2).until(lambda d: d.find_element_by_xpath(\"//input[@id='issue-workflow-transition-submit']\")) \n",
    "                ele.click()   \n",
    "        except Exception as e:\n",
    "            print(e) "
   ]
  },
  {
   "cell_type": "code",
   "execution_count": null,
   "metadata": {},
   "outputs": [],
   "source": []
  },
  {
   "cell_type": "code",
   "execution_count": null,
   "metadata": {},
   "outputs": [],
   "source": []
  },
  {
   "cell_type": "code",
   "execution_count": null,
   "metadata": {},
   "outputs": [],
   "source": []
  }
 ],
 "metadata": {
  "kernelspec": {
   "display_name": "Python 3",
   "language": "python",
   "name": "python3"
  },
  "language_info": {
   "codemirror_mode": {
    "name": "ipython",
    "version": 3
   },
   "file_extension": ".py",
   "mimetype": "text/x-python",
   "name": "python",
   "nbconvert_exporter": "python",
   "pygments_lexer": "ipython3",
   "version": "3.8.5"
  },
  "vscode": {
   "interpreter": {
    "hash": "1b5c637c5c17e7841ce3b55fac6772e1460db6e5f5b3923b76ec2696de093845"
   }
  }
 },
 "nbformat": 4,
 "nbformat_minor": 4
}
