{
 "cells": [
  {
   "cell_type": "code",
   "execution_count": 1,
   "metadata": {},
   "outputs": [],
   "source": [
    "import json, re,  os, time, random \n",
    "from bs4 import BeautifulSoup   \n",
    "import pandas as pd \n",
    "from webdriver_manager.chrome import ChromeDriverManager\n",
    "from selenium.webdriver.chrome.options import Options\n",
    "from selenium import webdriver\n",
    "from selenium.webdriver.common.by import By\n",
    "from selenium.webdriver.support.ui import WebDriverWait\n",
    "from selenium.webdriver.support import expected_conditions as EC  \n",
    "from config import *\n",
    "from datetime import datetime, timedelta"
   ]
  },
  {
   "cell_type": "code",
   "execution_count": 2,
   "metadata": {
    "scrolled": true
   },
   "outputs": [
    {
     "name": "stderr",
     "output_type": "stream",
     "text": [
      "\n",
      "\n",
      "====== WebDriver manager ======\n",
      "Current google-chrome version is 108.0.5359\n",
      "Get LATEST driver version for 108.0.5359\n",
      "Get LATEST driver version for 108.0.5359\n",
      "Trying to download new driver from https://chromedriver.storage.googleapis.com/108.0.5359.71/chromedriver_win32.zip\n",
      "Driver has been saved in cache [C:\\Users\\Tim\\.wdm\\drivers\\chromedriver\\win32\\108.0.5359.71]\n"
     ]
    }
   ],
   "source": [
    "driver = webdriver.Chrome(executable_path=ChromeDriverManager().install() ) \n",
    "driver.get(\"https://mail.google.com/mail/u/0/#inbox\") "
   ]
  },
  {
   "cell_type": "code",
   "execution_count": 3,
   "metadata": {},
   "outputs": [
    {
     "ename": "NameError",
     "evalue": "name 'bl_user' is not defined",
     "output_type": "error",
     "traceback": [
      "\u001b[1;31m---------------------------------------------------------------------------\u001b[0m",
      "\u001b[1;31mNameError\u001b[0m                                 Traceback (most recent call last)",
      "\u001b[1;32m<ipython-input-3-ffdfef3aa30c>\u001b[0m in \u001b[0;36m<module>\u001b[1;34m\u001b[0m\n\u001b[0;32m      1\u001b[0m \u001b[0mdriver\u001b[0m\u001b[1;33m.\u001b[0m\u001b[0mget\u001b[0m\u001b[1;33m(\u001b[0m\u001b[1;34m\"https://auth.buildinglink.com/Account/Login\"\u001b[0m\u001b[1;33m)\u001b[0m\u001b[1;33m\u001b[0m\u001b[1;33m\u001b[0m\u001b[0m\n\u001b[1;32m----> 2\u001b[1;33m \u001b[0mdriver\u001b[0m\u001b[1;33m.\u001b[0m\u001b[0mfind_element\u001b[0m\u001b[1;33m(\u001b[0m\u001b[0mBy\u001b[0m\u001b[1;33m.\u001b[0m\u001b[0mXPATH\u001b[0m\u001b[1;33m,\u001b[0m \u001b[1;34m'//*[contains(@id, \"UserName\")]'\u001b[0m\u001b[1;33m)\u001b[0m\u001b[1;33m.\u001b[0m\u001b[0msend_keys\u001b[0m\u001b[1;33m(\u001b[0m\u001b[0mbl_user\u001b[0m\u001b[1;33m)\u001b[0m\u001b[1;33m\u001b[0m\u001b[1;33m\u001b[0m\u001b[0m\n\u001b[0m\u001b[0;32m      3\u001b[0m \u001b[0mdriver\u001b[0m\u001b[1;33m.\u001b[0m\u001b[0mfind_element\u001b[0m\u001b[1;33m(\u001b[0m\u001b[0mBy\u001b[0m\u001b[1;33m.\u001b[0m\u001b[0mXPATH\u001b[0m\u001b[1;33m,\u001b[0m \u001b[1;34m'//*[contains(@id, \"Password\")]'\u001b[0m\u001b[1;33m)\u001b[0m\u001b[1;33m.\u001b[0m\u001b[0msend_keys\u001b[0m\u001b[1;33m(\u001b[0m\u001b[0mbl_pass\u001b[0m\u001b[1;33m)\u001b[0m\u001b[1;33m\u001b[0m\u001b[1;33m\u001b[0m\u001b[0m\n\u001b[0;32m      4\u001b[0m \u001b[0mdriver\u001b[0m\u001b[1;33m.\u001b[0m\u001b[0mfind_element\u001b[0m\u001b[1;33m(\u001b[0m\u001b[0mBy\u001b[0m\u001b[1;33m.\u001b[0m\u001b[0mXPATH\u001b[0m\u001b[1;33m,\u001b[0m \u001b[1;34m'//*[contains(@id, \"LoginButton\")]'\u001b[0m\u001b[1;33m)\u001b[0m\u001b[1;33m.\u001b[0m\u001b[0mclick\u001b[0m\u001b[1;33m(\u001b[0m\u001b[1;33m)\u001b[0m\u001b[1;33m\u001b[0m\u001b[1;33m\u001b[0m\u001b[0m\n\u001b[0;32m      5\u001b[0m \u001b[0mdriver\u001b[0m\u001b[1;33m.\u001b[0m\u001b[0mget\u001b[0m\u001b[1;33m(\u001b[0m\u001b[1;34m\"https://buildinglink.com/v2/tenant/home/defaultnew.aspx\"\u001b[0m\u001b[1;33m)\u001b[0m\u001b[1;33m\u001b[0m\u001b[1;33m\u001b[0m\u001b[0m\n",
      "\u001b[1;31mNameError\u001b[0m: name 'bl_user' is not defined"
     ]
    }
   ],
   "source": [
    "\n",
    "driver.find_element(By.XPATH, '//*[contains(@id, \"UserName\")]').send_keys(bl_user)\n",
    "driver.find_element(By.XPATH, '//*[contains(@id, \"Password\")]').send_keys(bl_pass) \n",
    "driver.find_element(By.XPATH, '//*[contains(@id, \"LoginButton\")]').click() \n",
    "driver.get(\"https://buildinglink.com/v2/tenant/home/defaultnew.aspx\")  "
   ]
  },
  {
   "cell_type": "code",
   "execution_count": 27,
   "metadata": {},
   "outputs": [],
   "source": [
    "def get_date(addDays=0):\n",
    "    today = datetime.today() \n",
    "    modified_date = today + timedelta(days=addDays)\n",
    "    modified_date = modified_date.strftime('%m/%d/%Y') \n",
    "    url = f\"https://buildinglink.com/v2/tenant/Amenities/NewReservation.aspx?amenityId=41471&from=0&selectedDate={modified_date}\"\n",
    "    print(url)\n",
    "    driver.get(url)     \n",
    "    return modified_date"
   ]
  },
  {
   "cell_type": "code",
   "execution_count": 28,
   "metadata": {},
   "outputs": [],
   "source": [
    "def click_cal(driver, time):\n",
    "    if time < 1:\n",
    "        time=1\n",
    "    ele = driver.find_elements(By.XPATH, '//*[@id=\"ctl00_ContentPlaceHolder1_StartTimePicker_dateInput\"]')[0] \n",
    "    ele.click() \n",
    "    ele.send_keys(f'{time}:00 PM')  \n",
    "    cal = driver.find_elements(By.XPATH, '//*[contains(@class, \"RadCalendarTimeView\")]')[0]\n",
    "    cal.find_element_by_link_text(f'{time}:00 PM').click()     "
   ]
  },
  {
   "cell_type": "code",
   "execution_count": 29,
   "metadata": {},
   "outputs": [
    {
     "name": "stdout",
     "output_type": "stream",
     "text": [
      "https://buildinglink.com/v2/tenant/Amenities/NewReservation.aspx?amenityId=41471&from=0&selectedDate=08/02/2022\n",
      "https://buildinglink.com/v2/tenant/Amenities/NewReservation.aspx?amenityId=41471&from=0&selectedDate=08/03/2022\n",
      "https://buildinglink.com/v2/tenant/Amenities/NewReservation.aspx?amenityId=41471&from=0&selectedDate=08/04/2022\n"
     ]
    }
   ],
   "source": [
    "i=0 \n",
    "while True:  \n",
    "    d = get_date(i)\n",
    "    err = driver.find_elements(By.XPATH, '//*[contains(@id, \"ValidationContainer\")]')    \n",
    "    if 'error' not in err[0].text or i>=5: \n",
    "        break\n",
    "    i=i+1 \n",
    "i=0\n",
    "while True: \n",
    "    click_cal(driver, i)\n",
    "    err = driver.find_elements(By.XPATH, '//*[contains(@id, \"ValidationContainer\")]')   \n",
    "    if 'same time period' not in err[0].text or i>=5:  \n",
    "        break\n",
    "    i=i+1    \n",
    "# subo = driver.find_elements(By.XPATH, '//a[contains(@id, \"ctl00_ContentPlaceHolder1_FooterSaveButton\")]')[0] \n",
    "# subo = driver.find_elements(By.XPATH, '//a[contains(@id, \"ctl00_ContentPlaceHolder1_FooterCancelButton\")]')[0]\n",
    "# subo.click()     "
   ]
  },
  {
   "cell_type": "code",
   "execution_count": null,
   "metadata": {},
   "outputs": [],
   "source": []
  },
  {
   "cell_type": "code",
   "execution_count": null,
   "metadata": {},
   "outputs": [],
   "source": []
  },
  {
   "cell_type": "code",
   "execution_count": null,
   "metadata": {},
   "outputs": [],
   "source": []
  }
 ],
 "metadata": {
  "kernelspec": {
   "display_name": "Python 3",
   "language": "python",
   "name": "python3"
  },
  "language_info": {
   "codemirror_mode": {
    "name": "ipython",
    "version": 3
   },
   "file_extension": ".py",
   "mimetype": "text/x-python",
   "name": "python",
   "nbconvert_exporter": "python",
   "pygments_lexer": "ipython3",
   "version": "3.8.8"
  },
  "vscode": {
   "interpreter": {
    "hash": "1b5c637c5c17e7841ce3b55fac6772e1460db6e5f5b3923b76ec2696de093845"
   }
  }
 },
 "nbformat": 4,
 "nbformat_minor": 4
}
