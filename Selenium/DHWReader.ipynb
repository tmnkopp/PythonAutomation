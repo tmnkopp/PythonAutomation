{
 "cells": [
  {
   "cell_type": "code",
   "execution_count": 7,
   "metadata": {},
   "outputs": [
    {
     "data": {
      "text/plain": [
       "'https://www.dcurbanmom.com/jforum/forums/show/49.page'"
      ]
     },
     "execution_count": 7,
     "metadata": {},
     "output_type": "execute_result"
    }
   ],
   "source": [
    "import json, re,  os, time, random \n",
    "from bs4 import BeautifulSoup  \n",
    "import pymongo , bson\n",
    "import nltk\n",
    "from nltk.corpus import stopwords\n",
    "sw=stopwords.words('english')\n",
    "import pandas as pd \n",
    "from webdriver_manager.chrome import ChromeDriverManager\n",
    "from selenium.webdriver.chrome.options import Options\n",
    "from selenium import webdriver\n",
    "from selenium.webdriver.common.by import By\n",
    "from selenium.webdriver.support.ui import WebDriverWait\n",
    "from selenium.webdriver.support import expected_conditions as EC \n",
    "from datetime import datetime\n",
    "from config import source\n",
    "\n",
    "config = {}\n",
    "with open('../CodeGenerators/config.json', 'r') as f: \n",
    "    config=json.loads(f.read())    \n",
    "url=f'{source}49.page'\n",
    "url"
   ]
  },
  {
   "cell_type": "code",
   "execution_count": 8,
   "metadata": {},
   "outputs": [
    {
     "name": "stderr",
     "output_type": "stream",
     "text": [
      "<ipython-input-8-e38fb2bda14a>:8: DeprecationWarning: use options instead of chrome_options\n",
      "  driver = webdriver.Chrome(executable_path=config['driver_path'] ,chrome_options=options)\n"
     ]
    }
   ],
   "source": [
    "conn = 'mongodb://localhost:27017'\n",
    "client = pymongo.MongoClient(conn) \n",
    "db = client.re\n",
    "collection = db.posts \n",
    "\n",
    "options = Options()\n",
    "#options.add_argument(\"--start-minimized\")  \n",
    "driver = webdriver.Chrome(executable_path=config['driver_path'] ,chrome_options=options)  \n",
    "driver.get(url) \n"
   ]
  },
  {
   "cell_type": "code",
   "execution_count": null,
   "metadata": {},
   "outputs": [],
   "source": [
    "driver.get(url)  \n",
    "\n",
    "page_topics = driver.find_elements_by_css_selector('.subject-line a') \n",
    "hrefs=[]\n",
    "for page_topic in page_topics[:]:  \n",
    "    hrefs.append(page_topic.get_attribute('href'))\n",
    "driver.get(hrefs[3])  \n",
    "\n",
    "\n",
    "# postrow = driver.find_elements_by_css_selector('.postrow') \n",
    "\n",
    "\n"
   ]
  },
  {
   "cell_type": "code",
   "execution_count": null,
   "metadata": {},
   "outputs": [
    {
     "name": "stdout",
     "output_type": "stream",
     "text": [
      "13\n",
      "/jforum/posts/list/1243387.page#28920623\n",
      "\n",
      "\n",
      "12/04/2024 13:33\n",
      "\n",
      "<table class=\"postbody\"><tbody><tr><td>\n",
      "<input ;\"=\"\" class=\"quote-expand\" onclick=\"if ( this.parentNode.getElementsByTagName('blockquote')[1].style.display != 'block') { var y = this.parentNode.getElementsByTagName('blockquote'); var i; for (i = 0; i &lt; y.length; i++) {y[i].style.display = 'block';}  value = 'Click to hide quotes';} else { var y = this.parentNode.getElementsByTagName('blockquote'); var i; for (i = 1; i &lt; y.length; i++) {y[i].style.display = 'none';}  value = 'Click to show earlier quotes';}\" type=\"button\" value=\"Click to hide quotes\"/>\n",
      "<blockquote style=\"display: block;\">\n",
      "<div class=\"posttext\">\n",
      "<cite>Anonymous wrote:</cite><blockquote style=\"display: block;\">\n",
      "<div class=\"posttext\">\n",
      "<cite>Anonymous wrote:</cite>This reminds me of the movie \"Paris can wait\" with Diane Lane. Similar plot. Mrs. Coppola, the producer, based it on a real event on her life that \"jolted [her] out of her ennui.\"\n",
      "<br/>\n",
      "<br/> Back to you, OP. I know how you feel. Don't regret not sleeping with the player. You would have felt bad for years. You only wish you had slept with him now, because of your husband's one-night stand. At that time you had no way of knowing he was going to do that.</div>\n",
      "</blockquote>\n",
      "<br/> I am unfamiliar with that movie but I definitely want to check it out now! I just may have to rent it on Prime. Thanks for sharing!</div>\n",
      "</blockquote>\n",
      "<br/>\n",
      "<br/> Another great movie is Shirley Valentine, give that one a watch too.\n",
      "\t\t\t\t</td></tr></tbody></table>\n"
     ]
    }
   ],
   "source": [
    "def get_posts(): \n",
    "    postnum = 12 \n",
    "    soup = BeautifulSoup(driver.page_source, 'html.parser')  \n",
    "    postinfo = soup.select('div[class*=\"postinfo\"] .genmed a[href*=\"jforum\"]')\n",
    "\n",
    "    print( len(postinfo) )\n",
    "\n",
    "    print( re.search('a href=\"(.*)\">', str(postinfo[ postnum ])).groups()[0] )\n",
    "\n",
    "    dates = soup.select('div[class*=\"postinfo\"] .genmed ')\n",
    "    print(dates[ postnum ].text)\n",
    "\n",
    "    postbody = soup.select(' .postbody ')\n",
    "    print(postbody[ postnum ] ) \n",
    "\n",
    "\n"
   ]
  },
  {
   "cell_type": "code",
   "execution_count": null,
   "metadata": {},
   "outputs": [
    {
     "name": "stdout",
     "output_type": "stream",
     "text": [
      "\n",
      "\n",
      "11/15/2024 00:07\n",
      "\n",
      "\n",
      "\t\t\t\t\t\tThis board is full of agents and real estate cheerleaders so don’t expect anyone to seriously grapple with the question being posed. \n",
      "\t\t\t\t\n"
     ]
    }
   ],
   "source": [
    "\n"
   ]
  },
  {
   "cell_type": "code",
   "execution_count": null,
   "metadata": {},
   "outputs": [],
   "source": [
    "\n",
    "topics = driver.find_elements(By.CSS_SELECTOR, 'div[class*=\"postinfo\"] .genmed ')\n",
    "\n",
    "topics[0].text \n",
    "topics[0].find_element(By.CSS_SELECTOR, 'a[href*=\"jforum\"] ').get_attribute('href') \n",
    "\n",
    "postbody = driver.find_elements(By.CSS_SELECTOR, 'table.postbody ')\n",
    "postbody[6].get_attribute('innerHTML')"
   ]
  },
  {
   "cell_type": "code",
   "execution_count": null,
   "metadata": {},
   "outputs": [],
   "source": [
    "driver.get(url)     \n",
    "pages = 0\n",
    "while True:  \n",
    "    soup = BeautifulSoup(driver.page_source, 'html.parser')  \n",
    "    try:\n",
    "        get_topics( driver.current_url  )\n",
    "    except e:\n",
    "        print(e)\n",
    "            \n",
    "    nxt = soup.select('link[rel=\"next\"]')  \n",
    "    if len(nxt) > 0 and pages <= 1: \n",
    "        driver.get(f\"{base}{nxt[0]['href']}\")  \n",
    "        pages = pages + 1\n",
    "    else: \n",
    "        break"
   ]
  },
  {
   "cell_type": "code",
   "execution_count": null,
   "metadata": {},
   "outputs": [],
   "source": [
    "def get_topics(url):\n",
    "    driver.get(f\"{url}\")\n",
    "    topics = driver.find_elements_by_css_selector('.structItem--thread .structItem-title a') \n",
    "    hrefs = []\n",
    "    for topic in topics[:]:  \n",
    "        hrefs.append(topic.get_attribute('href'))\n",
    "    for href in hrefs:  \n",
    "        driver.get(f\"{href}\") \n",
    "        while True:   \n",
    "            soup = BeautifulSoup(driver.page_source, 'html.parser')\n",
    "            print_thread(driver)\n",
    "            nxt = soup.select('link[rel=\"next\"]')  \n",
    "            if len(nxt) > 0:   \n",
    "                driver.get(f\"{base}{nxt[0]['href']}\") \n",
    "                try:\n",
    "                    print_thread(driver)\n",
    "                except e:\n",
    "                    print(e)\n",
    "            else: \n",
    "                break "
   ]
  },
  {
   "cell_type": "code",
   "execution_count": null,
   "metadata": {},
   "outputs": [],
   "source": [
    "def print_thread(driver): \n",
    "    soup = BeautifulSoup(driver.page_source, 'html.parser')\n",
    "    arts = soup.select('article.message')\n",
    "    i = 0\n",
    "    d={}\n",
    "    for a in arts:  \n",
    "        d['key']=a['id']\n",
    "        d['author']=a['data-author']\n",
    "        d['title']=soup.select('title')[0].get_text() \n",
    "        d['url']=base+a.select('header a')[0]['href']\n",
    "        ele = a.select('time.u-dt') \n",
    "        if len(ele) > 0: \n",
    "            d['date']=ele[0].get_text() \n",
    "        ele = a.select('.message-body .bbWrapper') \n",
    "        if len(ele) > 0:  \n",
    "            d['mess']=ele[0].get_text()\n",
    "        ele = a.select('a.link--external') \n",
    "        if len(ele) > 0:  \n",
    "            d['mess']=d['mess']+ele[0]['href']\n",
    "        ele = a.select('.bbImageWrapper') \n",
    "        if len(ele) > 0:  \n",
    "            d['mess']=d['mess']+ele[0]['data-src']\n",
    "        # print(d)\n",
    "        # collection.delete_one( d )\n",
    "        # collection.insert_one( d ) \n",
    "        collection.update( { 'key':  d['key']  }, d,  True ) "
   ]
  },
  {
   "cell_type": "code",
   "execution_count": null,
   "metadata": {},
   "outputs": [],
   "source": [
    "df = pd.DataFrame(list(collection.find()))\n",
    "df.loc[379].mess"
   ]
  },
  {
   "cell_type": "code",
   "execution_count": null,
   "metadata": {},
   "outputs": [],
   "source": [
    "df.fillna('')\n",
    "dff = df.loc[df.mess.str.contains('', na=False)] \n",
    "for i,r, in dff.iterrows():\n",
    "    print( r['author'] + ' ' +  r['date']+ ' ' +  r['title'])\n",
    "    print(r['mess'] )\n",
    "    print(r['url'] )"
   ]
  },
  {
   "cell_type": "code",
   "execution_count": null,
   "metadata": {},
   "outputs": [],
   "source": [
    "pages = driver.find_elements_by_css_selector('.pageNavWrapper')\n",
    "for p in pages:\n",
    "    print(p)"
   ]
  },
  {
   "cell_type": "code",
   "execution_count": null,
   "metadata": {},
   "outputs": [],
   "source": [
    "for e in eles:\n",
    "    ele=e.find_element_by_css_selector('.structItem-title a')\n",
    "    print(ele.get_attribute('id'))"
   ]
  },
  {
   "cell_type": "code",
   "execution_count": null,
   "metadata": {},
   "outputs": [],
   "source": [
    "elms = driver.find_elements(By.XPATH, '//ul[contains(@id, \"search-results\")]//h3/a') \n",
    "hrefs = [e.get_attribute('href') for e in elms]  "
   ]
  },
  {
   "cell_type": "code",
   "execution_count": null,
   "metadata": {},
   "outputs": [],
   "source": [
    "\n",
    "for url in hrefs[:12]:\n",
    "    driver.execute_script( 'window.open();')   \n",
    "    driver.switch_to_window(driver.window_handles[ len(driver.window_handles)-1])\n",
    "    driver.get(url)\n",
    "driver.window_handles[0]"
   ]
  }
 ],
 "metadata": {
  "kernelspec": {
   "display_name": "base",
   "language": "python",
   "name": "python3"
  },
  "language_info": {
   "codemirror_mode": {
    "name": "ipython",
    "version": 3
   },
   "file_extension": ".py",
   "mimetype": "text/x-python",
   "name": "python",
   "nbconvert_exporter": "python",
   "pygments_lexer": "ipython3",
   "version": "3.8.5"
  }
 },
 "nbformat": 4,
 "nbformat_minor": 4
}
