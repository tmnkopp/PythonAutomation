{
 "cells": [
  {
   "cell_type": "code",
   "execution_count": 16,
   "metadata": {},
   "outputs": [],
   "source": [
    "import json, re,  os, time, random \n",
    "from bs4 import BeautifulSoup  \n",
    "import nltk\n",
    "from nltk.corpus import stopwords\n",
    "sw=stopwords.words('english')\n",
    "import pandas as pd \n",
    "from webdriver_manager.chrome import ChromeDriverManager\n",
    "from selenium.webdriver.chrome.options import Options\n",
    "from selenium import webdriver\n",
    "from selenium.webdriver.common.by import By\n",
    "from selenium.webdriver.support.ui import WebDriverWait\n",
    "from selenium.webdriver.support import expected_conditions as EC \n",
    "from datetime import datetime"
   ]
  },
  {
   "cell_type": "code",
   "execution_count": 40,
   "metadata": {},
   "outputs": [
    {
     "name": "stdout",
     "output_type": "stream",
     "text": [
      "Address:,535 10th Street Southeast Washington DC 20003,\n",
      "MLS:,DCDC2002270,\n",
      "Property History:,,\n",
      "------------------------,,\n",
      "Jul 1 2021,  Listed (Active) BRIGHT #DCDC2002270,\n",
      "Oct 26 2020, Closed Public Record #681561466,\n",
      "------------------------,,\n",
      "Life of Roof:, 27.5 years, (IRS pub.527 Depreciation https://www.irs.gov/publications/p527)\n",
      "Roof Value:, $8000, \n",
      "Annual Depreciation, $290.91, (8000 / 27.5) \n",
      "------------------------,,\n",
      "Amortized,, \n",
      "------------------------,,\n",
      "Year 0.0 ,$0.0, 0.0% \n",
      "Year 1.0 ,$290.91, 0.04% \n",
      "Year 2.0 ,$581.82, 0.07% \n",
      "Year 3.0 ,$872.73, 0.11% \n",
      "Year 4.0 ,$1163.64, 0.15% \n",
      "Year 5.0 ,$1454.55, 0.18% \n",
      "Year 6.0 ,$1745.46, 0.22% \n",
      "Year 7.0 ,$2036.37, 0.25% \n",
      "Year 8.0 ,$2327.28, 0.29% \n",
      "Year 9.0 ,$2618.19, 0.33% \n",
      "Year 10.0 ,$2909.1, 0.36% \n",
      "Year 11.0 ,$3200.01, 0.4% \n",
      "Year 12.0 ,$3490.92, 0.44% \n",
      "Year 13.0 ,$3781.83, 0.47% \n",
      "Year 14.0 ,$4072.74, 0.51% \n",
      "Year 15.0 ,$4363.65, 0.55% \n",
      "Year 16.0 ,$4654.56, 0.58% \n",
      "Year 17.0 ,$4945.47, 0.62% \n",
      "Year 18.0 ,$5236.38, 0.65% \n",
      "Year 19.0 ,$5527.29, 0.69% \n",
      "Year 20.0 ,$5818.2, 0.73% \n",
      "Year 21.0 ,$6109.11, 0.76% \n",
      "Year 22.0 ,$6400.02, 0.8% \n",
      "Year 23.0 ,$6690.93, 0.84% \n",
      "Year 24.0 ,$6981.84, 0.87% \n",
      "Year 25.0 ,$7272.75, 0.91% \n",
      "Year 26.0 ,$7563.66, 0.95% \n",
      "Year 27.0 ,$7854.57, 0.98% \n",
      "Year 27.5, $8000.0, 100% \n",
      "\n"
     ]
    }
   ],
   "source": [
    "lor = 27.5\n",
    "value = 8000\n",
    "ann_dep = round((value / 27.5),2) \n",
    "half_dep = ann_dep * .5\n",
    "s = '' \n",
    "s = s + f'Address:,535 10th Street Southeast Washington DC 20003,\\n'  \n",
    "s = s + f'MLS:,DCDC2002270,\\n' \n",
    "s = s + f'Property History:,,\\n'  \n",
    "s = s + f'------------------------,,\\n'  \n",
    "s = s + f'Jul 1 2021,  Listed (Active) BRIGHT #DCDC2002270,\\n'\t\n",
    "s = s + f'Oct 26 2020, Closed Public Record #681561466,\\n'\n",
    "s = s + f'------------------------,,\\n'  \n",
    "s = s + f'Life of Roof:, {lor} years, (IRS pub.527 Depreciation)\\n' \n",
    "\n",
    "s = s + f'Roof Value:, ${value}, \\n'\n",
    "s = s + f'Annual Depreciation, ${ann_dep}, ({value} / 27.5) \\n'  \n",
    "s = s + f'------------------------,,\\n'  \n",
    "s = s + f'Amortized,, \\n'  \n",
    "s = s + f'------------------------,,\\n'  \n",
    "for i in range(0, 28): \n",
    "    val = round(i * ann_dep, 2) \n",
    "    s = s + f'Year { i }.0 ,${ val }, {round(val/value, 2)}% \\n'  \n",
    "s = s + f'Year 27.5, ${value}.0, 100% \\n'  \n",
    "\n",
    "print( s )\n",
    "with open(\"C:\\\\Users\\\\timko\\\\Documents\\\\House\\\\535\\\\roof\\\\RoofCostAmortized.txt\", \"w\") as f:\n",
    "    f.write(f\"{ s }\\n\")\n",
    "with open(\"C:\\\\Users\\\\timko\\\\Documents\\\\House\\\\535\\\\roof\\\\RoofCostAmortized.csv\", \"w\") as f: \n",
    "    f.write(f\"{ s }\\n\")"
   ]
  },
  {
   "cell_type": "code",
   "execution_count": 31,
   "metadata": {},
   "outputs": [
    {
     "name": "stdout",
     "output_type": "stream",
     "text": [
      "\n",
      "\n",
      "[07/10/2021 11:19:59] Who is online\n",
      "2 users online ::Total posts 184062 • Total topics 3132 • Total members 55 • \n",
      "\n",
      "[07/10/2021 11:28:11] Who is online\n",
      "4 users online ::Total posts 184062 • Total topics 3132 • Total members 55 • \n",
      "\\n[07/10/2021 11:28:26] Who is online\n",
      "4 users online ::Total posts 184062 • Total topics 3132 • Total members 55 • \n",
      "\\n[07/10/2021 11:29:26] Who is online\n",
      "3 users online ::Total posts 184062 • Total topics 3132 • Total members 55 • \n",
      "\\n[07/10/2021 11:30:40] Who is online\n",
      "3 users online ::Total posts 184062 • Total topics 3132 • Total members 55 • \n",
      "\\n[07/10/2021 11:34:54] Who is online\n",
      "3 users online ::Total posts 184062 • Total topics 3132 • Total members 55 • \n",
      "\\n[07/10/2021 11:39:54] Who is online\n",
      "In total there is 1 user online ::Total posts 184062 • Total topics 3132 • Total members 55 • \n",
      "\\n[07/10/2021 11:44:54] Who is online\n",
      "2 users online ::Total posts 184062 • Total topics 3132 • Total members 55 • \n",
      "\\n[07/10/2021 11:59:54] Who is online\n",
      "3 users online ::Total posts 184063 • Total topics 3132 • Total members 55 • \n",
      "\\n[07/10/2021 12:29:54] Who is online\n",
      "In total there is 1 user online ::Total posts 184063 • Total topics 3132 • Total members 55 • \n",
      "\\n[07/10/2021 12:59:54] Who is online\n",
      "In total there is 1 user online ::Total posts 184064 • Total topics 3132 • Total members 55 • \n",
      "\\n[07/10/2021 13:29:54] Who is online\n",
      "4 users online ::Total posts 184064 • Total topics 3132 • Total members 55 • \n",
      "\\n[07/10/2021 13:59:54] Who is online\n",
      "In total there is 1 user online ::Total posts 184064 • Total topics 3132 • Total members 55 • \n",
      "\\n[07/10/2021 14:29:54] Who is online\n",
      "0 users online ::Total posts 184064 • Total topics 3132 • Total members 55 • \n",
      "\\n[07/10/2021 14:59:54] Who is online\n",
      "2 users online ::Total posts 184065 • Total topics 3132 • Total members 55 • \n",
      "\\n[07/10/2021 15:29:54] Who is online\n",
      "2 users online ::Total posts 184066 • Total topics 3132 • Total members 55 • \n",
      "\n",
      "\n",
      "[07/10/2021 15:31:54] Who is online\n",
      "2 users online ::Total posts 184066 • Total topics 3132 • Total members 55 • \n",
      "\n",
      "[07/10/2021 15:33:49] Who is online\n",
      "3 users online ::Total posts 184066 • Total topics 3132 • Total members 55 • \n",
      "\n",
      "[07/10/2021 15:59:54] Who is online\n",
      "2 users online ::Total posts 184066 • Total topics 3132 • Total members 55 • \n",
      "\n",
      "[07/10/2021 16:29:54] Who is online\n",
      "2 users online ::Total posts 184066 • Total topics 3132 • Total members 55 • \n",
      "\n",
      "[07/10/2021 16:59:54] Who is online\n",
      "0 users online ::Total posts 184066 • Total topics 3132 • Total members 55 • \n",
      "\n",
      "[07/10/2021 17:29:54] Who is online\n",
      "0 users online ::Total posts 184066 • Total topics 3132 • Total members 55 • \n",
      "\n",
      "[08/10/2021 07:58:04] Who is online\n",
      "In total there is 1 user online ::Total posts 184067 • Total topics 3132 • Total members 55 • \n",
      "\n",
      "[08/10/2021 07:59:54] Who is online\n",
      "In total there is 1 user online ::Total posts 184067 • Total topics 3132 • Total members 55 • \n",
      "\n",
      "[08/10/2021 08:13:04] Who is online\n",
      "2 users online ::Total posts 184067 • Total topics 3132 • Total members 55 • \n",
      "\n",
      "[08/10/2021 08:30:04] Who is online\n",
      "0 users online ::Total posts 184067 • Total topics 3132 • Total members 55 • \n",
      "\n",
      "[08/10/2021 09:29:56] Who is online\n",
      "In total there is 1 user online ::Total posts 184067 • Total topics 3132 • Total members 55 • \n",
      "\n",
      "[08/10/2021 10:29:54] Who is online\n",
      "2 users online ::Total posts 184068 • Total topics 3132 • Total members 55 • \n",
      "\n",
      "[08/10/2021 11:06:43] Who is online\n",
      "In total there is 1 user online ::Total posts 184068 • Total topics 3132 • Total members 55 • \n",
      "\n",
      "\n",
      "[08/10/2021 11:10:25] Who is online\n",
      "2 users online ::Total posts 184068 • Total topics 3132 • Total members 55 • \n",
      "\n",
      "[08/10/2021 11:29:53] Who is online\n",
      "3 users online ::Total posts 184068 • Total topics 3132 • Total members 55 • \n",
      "\n",
      "[08/10/2021 12:29:54] Who is online\n",
      "2 users online ::Total posts 184068 • Total topics 3132 • Total members 55 • \n",
      "\n",
      "[08/10/2021 13:29:55] Who is online\n",
      "2 users online ::Total posts 184068 • Total topics 3132 • Total members 55 • \n",
      "\n",
      "[08/10/2021 14:29:54] Who is online\n",
      "2 users online ::Total posts 184069 • Total topics 3132 • Total members 55 • \n",
      "\n",
      "\n"
     ]
    }
   ],
   "source": [
    " \n",
    "with open(\"C:\\\\Users\\\\timko\\\\source\\\\repos\\\\PythonBoiler\\\\Selenium\\\\out.txt\", \"r\") as f:\n",
    "    stats =  f.read() \n",
    "    stats = stats.replace('Most users ever online was 14 on Wed Nov 21, 2018 10:23 am Statistics\\n', '')\n",
    "    stats = stats.replace('Our newest member LilAnnyCat.', '') \n",
    "    stats = stats.replace('(based on users active over the past 15 minutes)', '')  \n",
    "    stats = stats.replace('In total there are ', '') \n",
    "    stats = re.sub('\\d{1,3} registered and \\d{1,3} hidden', '', stats) \n",
    "    stats = re.sub('::  \\n', '::', stats)  \n",
    "    print(stats)"
   ]
  },
  {
   "cell_type": "code",
   "execution_count": 4,
   "metadata": {},
   "outputs": [],
   "source": [
    "options = Options()\n",
    "options.add_argument(\"--start-minimized\")"
   ]
  },
  {
   "cell_type": "code",
   "execution_count": 16,
   "metadata": {},
   "outputs": [
    {
     "name": "stderr",
     "output_type": "stream",
     "text": [
      "\n",
      "\n",
      "====== WebDriver manager ======\n",
      "Current google-chrome version is 94.0.4606\n",
      "Get LATEST driver version for 94.0.4606\n",
      "Driver [C:\\Users\\timko\\.wdm\\drivers\\chromedriver\\win32\\94.0.4606.61\\chromedriver.exe] found in cache\n",
      "<ipython-input-16-db8d438452e0>:1: DeprecationWarning: use options instead of chrome_options\n",
      "  driver = webdriver.Chrome(executable_path=ChromeDriverManager().install() ,chrome_options=options)\n"
     ]
    },
    {
     "name": "stdout",
     "output_type": "stream",
     "text": [
      "\n",
      "\n",
      "[07/10/2021 11:19:59] Who is online\n",
      "In total there are 2 users online :: 2 registered and 0 hidden (based on users active over the past 15 minutes)\n",
      "Most users ever online was 14 on Wed Nov 21, 2018 10:23 am Statistics\n",
      "Total posts 184062 • Total topics 3132 • Total members 55 • Our newest member LilAnnyCat.\n",
      "\n",
      "\n"
     ]
    }
   ],
   "source": [
    "\n",
    "driver = webdriver.Chrome(executable_path=ChromeDriverManager().install() ,chrome_options=options) \n",
    "driver.get(\"\") \n",
    "stat = driver.find_element(By.XPATH, '//*[contains(@class, \"statistics\")]')\n",
    "who = driver.find_element(By.XPATH, '//*[contains(@class, \"online-list\")]')\n",
    "try:\n",
    "    now = datetime.now()\n",
    "    dt_string = now.strftime(\"%d/%m/%Y %H:%M:%S\")\n",
    "    stats = f'[{dt_string}] {who.text} {stat.text}\\n' \n",
    "except Exception as e:\n",
    "    print(e)\n",
    "finally: \n",
    "    driver.quit()\n",
    "\n",
    "with open(\"out.txt\", \"a\") as f:\n",
    "    f.write(f\"{ stats }\\n\")\n",
    "with open(\"out.txt\", \"r\") as f:\n",
    "    print ( f.read() ) "
   ]
  },
  {
   "cell_type": "code",
   "execution_count": 3,
   "metadata": {},
   "outputs": [],
   "source": [
    "base = \"https://washingtondc.craigslist.org/search/doc/sub?hasPic=1&bundleDuplicates=1&availabilityMode=0&rent_period=2&rent_period=3&sale_date=all+dates\"\n",
    " "
   ]
  },
  {
   "cell_type": "code",
   "execution_count": 4,
   "metadata": {},
   "outputs": [
    {
     "name": "stderr",
     "output_type": "stream",
     "text": [
      "\n",
      "\n",
      "====== WebDriver manager ======\n",
      "Current google-chrome version is 93.0.4577\n",
      "Get LATEST driver version for 93.0.4577\n",
      "There is no [win32] chromedriver for browser 93.0.4577 in cache\n",
      "Get LATEST driver version for 93.0.4577\n",
      "Trying to download new driver from https://chromedriver.storage.googleapis.com/93.0.4577.63/chromedriver_win32.zip\n",
      "Driver has been saved in cache [C:\\Users\\timko\\.wdm\\drivers\\chromedriver\\win32\\93.0.4577.63]\n",
      "<ipython-input-4-ae2a423823cd>:1: DeprecationWarning: use options instead of chrome_options\n",
      "  driver = webdriver.Chrome(executable_path=ChromeDriverManager().install() ,chrome_options=options)\n"
     ]
    }
   ],
   "source": [
    "driver = webdriver.Chrome(executable_path=ChromeDriverManager().install() ,chrome_options=options) \n",
    "driver.get(base) \n",
    "# driver.find_element(By.XPATH, '//div[contains(@id, \"piv-box\")]//a').click()  \n",
    "# driver.implicitly_wait(2)\n",
    "# driver.switch_to.alert.accept() "
   ]
  },
  {
   "cell_type": "code",
   "execution_count": 3,
   "metadata": {
    "scrolled": true
   },
   "outputs": [
    {
     "name": "stderr",
     "output_type": "stream",
     "text": [
      "\n",
      "\n",
      "====== WebDriver manager ======\n",
      "Current google-chrome version is 93.0.4577\n",
      "Get LATEST driver version for 93.0.4577\n",
      "There is no [win32] chromedriver for browser 93.0.4577 in cache\n",
      "Get LATEST driver version for 93.0.4577\n",
      "Trying to download new driver from https://chromedriver.storage.googleapis.com/93.0.4577.15/chromedriver_win32.zip\n",
      "Driver has been saved in cache [C:\\Users\\timko\\.wdm\\drivers\\chromedriver\\win32\\93.0.4577.15]\n",
      "<ipython-input-3-9b4a52df6f05>:1: DeprecationWarning: use options instead of chrome_options\n",
      "  driver = webdriver.Chrome(executable_path=ChromeDriverManager().install() ,chrome_options=options)\n",
      "<ipython-input-3-9b4a52df6f05>:4: DeprecationWarning: use driver.switch_to.window instead\n",
      "  driver.switch_to_window(driver.window_handles[ len(driver.window_handles)-1])\n"
     ]
    }
   ],
   "source": [
    "driver = webdriver.Chrome(executable_path=ChromeDriverManager().install() ,chrome_options=options) \n",
    "driver.get(base)\n",
    "driver.execute_script( 'window.open();')   \n",
    "driver.switch_to_window(driver.window_handles[ len(driver.window_handles)-1])\n",
    "driver.get(base)\n",
    "driver.find_element(By.XPATH, '//div[contains(@class, \"open-map-view-button\")]').click() "
   ]
  },
  {
   "cell_type": "code",
   "execution_count": 18,
   "metadata": {},
   "outputs": [],
   "source": [
    "elms = driver.find_elements(By.XPATH, '//ul[contains(@id, \"search-results\")]//h3/a') \n",
    "hrefs = [e.get_attribute('href') for e in elms]  "
   ]
  },
  {
   "cell_type": "code",
   "execution_count": 19,
   "metadata": {},
   "outputs": [
    {
     "name": "stderr",
     "output_type": "stream",
     "text": [
      "<ipython-input-19-77b14bfcba59>:3: DeprecationWarning: use driver.switch_to.window instead\n",
      "  driver.switch_to_window(driver.window_handles[ len(driver.window_handles)-1])\n"
     ]
    }
   ],
   "source": [
    "\n",
    "for url in hrefs[:12]:\n",
    "    driver.execute_script( 'window.open();')   \n",
    "    driver.switch_to_window(driver.window_handles[ len(driver.window_handles)-1])\n",
    "    driver.get(url)\n",
    "driver.window_handles[0]"
   ]
  },
  {
   "cell_type": "code",
   "execution_count": null,
   "metadata": {},
   "outputs": [],
   "source": [
    "for e in elms:\n",
    "    driver.execute_script( 'window.open();')   \n",
    "    driver.switch_to_window(driver.window_handles[ len(driver.window_handles)-1])"
   ]
  },
  {
   "cell_type": "code",
   "execution_count": null,
   "metadata": {},
   "outputs": [],
   "source": []
  }
 ],
 "metadata": {
  "interpreter": {
   "hash": "5ecbac8c226a054463cc020fa45cbf820e7d49ac7199c163081ea57c79aed41e"
  },
  "kernelspec": {
   "display_name": "Python 3.8.5 64-bit ('base': conda)",
   "name": "python3"
  },
  "language_info": {
   "codemirror_mode": {
    "name": "ipython",
    "version": 3
   },
   "file_extension": ".py",
   "mimetype": "text/x-python",
   "name": "python",
   "nbconvert_exporter": "python",
   "pygments_lexer": "ipython3",
   "version": "3.8.5"
  }
 },
 "nbformat": 4,
 "nbformat_minor": 4
}
