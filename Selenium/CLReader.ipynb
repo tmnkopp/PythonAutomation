{
 "cells": [
  {
   "cell_type": "code",
   "execution_count": 1,
   "metadata": {},
   "outputs": [],
   "source": [
    "import json, re,  os, time, random, time\n",
    "from bs4 import BeautifulSoup   \n",
    "import pandas as pd \n",
    "from webdriver_manager.chrome import ChromeDriverManager\n",
    "from selenium.webdriver.chrome.options import Options\n",
    "from selenium import webdriver\n",
    "from selenium.webdriver.common.by import By\n",
    "from selenium.webdriver.support.ui import WebDriverWait\n",
    "from selenium.webdriver.support import expected_conditions as EC  \n",
    "from config import *\n",
    "from datetime import datetime, date, timedelta\n",
    "import pymongo\n",
    "import logging \n",
    "from ast import literal_eval\n",
    "config=''\n",
    "with open(r'C:\\Users\\timko\\source\\repos\\PythonBoiler\\CodeGenerators\\config.json') as f:\n",
    "    config = json.loads(f.read())  \n"
   ]
  },
  {
   "cell_type": "code",
   "execution_count": null,
   "metadata": {},
   "outputs": [],
   "source": [
    "conn = 'mongodb://localhost:27017'\n",
    "client = pymongo.MongoClient(conn) \n",
    "db = client.dcum\n",
    "collection = db.posts"
   ]
  },
  {
   "cell_type": "code",
   "execution_count": null,
   "metadata": {},
   "outputs": [],
   "source": [
    "df = pd.DataFrame(list(collection.find()))\n",
    "df['date'] = df['date'].apply(lambda s: datetime.strptime(s, '%m/%d/%Y')) \n",
    "df.sort_values(by='date', ascending=False)"
   ]
  }
 ],
 "metadata": {
  "interpreter": {
   "hash": "5ecbac8c226a054463cc020fa45cbf820e7d49ac7199c163081ea57c79aed41e"
  },
  "kernelspec": {
   "display_name": "Python 3",
   "language": "python",
   "name": "python3"
  },
  "language_info": {
   "codemirror_mode": {
    "name": "ipython",
    "version": 3
   },
   "file_extension": ".py",
   "mimetype": "text/x-python",
   "name": "python",
   "nbconvert_exporter": "python",
   "pygments_lexer": "ipython3",
   "version": "3.8.5"
  }
 },
 "nbformat": 4,
 "nbformat_minor": 4
}
