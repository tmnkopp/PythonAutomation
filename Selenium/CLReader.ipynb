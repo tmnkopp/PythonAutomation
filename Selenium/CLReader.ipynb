{
 "cells": [
  {
   "cell_type": "code",
   "execution_count": 14,
   "source": [
    "import json, re,  os, time, random \r\n",
    "from bs4 import BeautifulSoup  \r\n",
    "import nltk\r\n",
    "from nltk.corpus import stopwords\r\n",
    "sw=stopwords.words('english')\r\n",
    "import pandas as pd \r\n",
    "from webdriver_manager.chrome import ChromeDriverManager\r\n",
    "from selenium.webdriver.chrome.options import Options\r\n",
    "from selenium import webdriver\r\n",
    "from selenium.webdriver.common.by import By\r\n",
    "from selenium.webdriver.support.ui import WebDriverWait\r\n",
    "from selenium.webdriver.support import expected_conditions as EC \r\n",
    "from datetime import datetime"
   ],
   "outputs": [],
   "metadata": {}
  },
  {
   "cell_type": "code",
   "execution_count": 31,
   "source": [
    " \r\n",
    "with open(\"C:\\\\Users\\\\timko\\\\source\\\\repos\\\\PythonBoiler\\\\Selenium\\\\out.txt\", \"r\") as f:\r\n",
    "    stats =  f.read() \r\n",
    "    stats = stats.replace('Most users ever online was 14 on Wed Nov 21, 2018 10:23 am Statistics\\n', '')\r\n",
    "    stats = stats.replace('Our newest member LilAnnyCat.', '') \r\n",
    "    stats = stats.replace('(based on users active over the past 15 minutes)', '')  \r\n",
    "    stats = stats.replace('In total there are ', '') \r\n",
    "    stats = re.sub('\\d{1,3} registered and \\d{1,3} hidden', '', stats) \r\n",
    "    stats = re.sub('::  \\n', '::', stats)  \r\n",
    "    print(stats)"
   ],
   "outputs": [
    {
     "output_type": "stream",
     "name": "stdout",
     "text": [
      "\n",
      "\n",
      "[07/10/2021 11:19:59] Who is online\n",
      "2 users online ::Total posts 184062 • Total topics 3132 • Total members 55 • \n",
      "\n",
      "[07/10/2021 11:28:11] Who is online\n",
      "4 users online ::Total posts 184062 • Total topics 3132 • Total members 55 • \n",
      "\\n[07/10/2021 11:28:26] Who is online\n",
      "4 users online ::Total posts 184062 • Total topics 3132 • Total members 55 • \n",
      "\\n[07/10/2021 11:29:26] Who is online\n",
      "3 users online ::Total posts 184062 • Total topics 3132 • Total members 55 • \n",
      "\\n[07/10/2021 11:30:40] Who is online\n",
      "3 users online ::Total posts 184062 • Total topics 3132 • Total members 55 • \n",
      "\\n[07/10/2021 11:34:54] Who is online\n",
      "3 users online ::Total posts 184062 • Total topics 3132 • Total members 55 • \n",
      "\\n[07/10/2021 11:39:54] Who is online\n",
      "In total there is 1 user online ::Total posts 184062 • Total topics 3132 • Total members 55 • \n",
      "\\n[07/10/2021 11:44:54] Who is online\n",
      "2 users online ::Total posts 184062 • Total topics 3132 • Total members 55 • \n",
      "\\n[07/10/2021 11:59:54] Who is online\n",
      "3 users online ::Total posts 184063 • Total topics 3132 • Total members 55 • \n",
      "\\n[07/10/2021 12:29:54] Who is online\n",
      "In total there is 1 user online ::Total posts 184063 • Total topics 3132 • Total members 55 • \n",
      "\\n[07/10/2021 12:59:54] Who is online\n",
      "In total there is 1 user online ::Total posts 184064 • Total topics 3132 • Total members 55 • \n",
      "\\n[07/10/2021 13:29:54] Who is online\n",
      "4 users online ::Total posts 184064 • Total topics 3132 • Total members 55 • \n",
      "\\n[07/10/2021 13:59:54] Who is online\n",
      "In total there is 1 user online ::Total posts 184064 • Total topics 3132 • Total members 55 • \n",
      "\\n[07/10/2021 14:29:54] Who is online\n",
      "0 users online ::Total posts 184064 • Total topics 3132 • Total members 55 • \n",
      "\\n[07/10/2021 14:59:54] Who is online\n",
      "2 users online ::Total posts 184065 • Total topics 3132 • Total members 55 • \n",
      "\\n[07/10/2021 15:29:54] Who is online\n",
      "2 users online ::Total posts 184066 • Total topics 3132 • Total members 55 • \n",
      "\n",
      "\n",
      "[07/10/2021 15:31:54] Who is online\n",
      "2 users online ::Total posts 184066 • Total topics 3132 • Total members 55 • \n",
      "\n",
      "[07/10/2021 15:33:49] Who is online\n",
      "3 users online ::Total posts 184066 • Total topics 3132 • Total members 55 • \n",
      "\n",
      "[07/10/2021 15:59:54] Who is online\n",
      "2 users online ::Total posts 184066 • Total topics 3132 • Total members 55 • \n",
      "\n",
      "[07/10/2021 16:29:54] Who is online\n",
      "2 users online ::Total posts 184066 • Total topics 3132 • Total members 55 • \n",
      "\n",
      "[07/10/2021 16:59:54] Who is online\n",
      "0 users online ::Total posts 184066 • Total topics 3132 • Total members 55 • \n",
      "\n",
      "[07/10/2021 17:29:54] Who is online\n",
      "0 users online ::Total posts 184066 • Total topics 3132 • Total members 55 • \n",
      "\n",
      "[08/10/2021 07:58:04] Who is online\n",
      "In total there is 1 user online ::Total posts 184067 • Total topics 3132 • Total members 55 • \n",
      "\n",
      "[08/10/2021 07:59:54] Who is online\n",
      "In total there is 1 user online ::Total posts 184067 • Total topics 3132 • Total members 55 • \n",
      "\n",
      "[08/10/2021 08:13:04] Who is online\n",
      "2 users online ::Total posts 184067 • Total topics 3132 • Total members 55 • \n",
      "\n",
      "[08/10/2021 08:30:04] Who is online\n",
      "0 users online ::Total posts 184067 • Total topics 3132 • Total members 55 • \n",
      "\n",
      "[08/10/2021 09:29:56] Who is online\n",
      "In total there is 1 user online ::Total posts 184067 • Total topics 3132 • Total members 55 • \n",
      "\n",
      "[08/10/2021 10:29:54] Who is online\n",
      "2 users online ::Total posts 184068 • Total topics 3132 • Total members 55 • \n",
      "\n",
      "[08/10/2021 11:06:43] Who is online\n",
      "In total there is 1 user online ::Total posts 184068 • Total topics 3132 • Total members 55 • \n",
      "\n",
      "\n",
      "[08/10/2021 11:10:25] Who is online\n",
      "2 users online ::Total posts 184068 • Total topics 3132 • Total members 55 • \n",
      "\n",
      "[08/10/2021 11:29:53] Who is online\n",
      "3 users online ::Total posts 184068 • Total topics 3132 • Total members 55 • \n",
      "\n",
      "[08/10/2021 12:29:54] Who is online\n",
      "2 users online ::Total posts 184068 • Total topics 3132 • Total members 55 • \n",
      "\n",
      "[08/10/2021 13:29:55] Who is online\n",
      "2 users online ::Total posts 184068 • Total topics 3132 • Total members 55 • \n",
      "\n",
      "[08/10/2021 14:29:54] Who is online\n",
      "2 users online ::Total posts 184069 • Total topics 3132 • Total members 55 • \n",
      "\n",
      "\n"
     ]
    }
   ],
   "metadata": {}
  },
  {
   "cell_type": "code",
   "execution_count": 4,
   "source": [
    "options = Options()\r\n",
    "options.add_argument(\"--start-minimized\")"
   ],
   "outputs": [],
   "metadata": {}
  },
  {
   "cell_type": "code",
   "execution_count": 16,
   "source": [
    "\r\n",
    "driver = webdriver.Chrome(executable_path=ChromeDriverManager().install() ,chrome_options=options) \r\n",
    "driver.get(\"https://www.kristhamdy.com/forum/\") \r\n",
    "stat = driver.find_element(By.XPATH, '//*[contains(@class, \"statistics\")]')\r\n",
    "who = driver.find_element(By.XPATH, '//*[contains(@class, \"online-list\")]')\r\n",
    "try:\r\n",
    "    now = datetime.now()\r\n",
    "    dt_string = now.strftime(\"%d/%m/%Y %H:%M:%S\")\r\n",
    "    stats = f'[{dt_string}] {who.text} {stat.text}\\n' \r\n",
    "except Exception as e:\r\n",
    "    print(e)\r\n",
    "finally: \r\n",
    "    driver.quit()\r\n",
    "\r\n",
    "with open(\"out.txt\", \"a\") as f:\r\n",
    "    f.write(f\"{ stats }\\n\")\r\n",
    "with open(\"out.txt\", \"r\") as f:\r\n",
    "    print ( f.read() ) "
   ],
   "outputs": [
    {
     "output_type": "stream",
     "name": "stderr",
     "text": [
      "\n",
      "\n",
      "====== WebDriver manager ======\n",
      "Current google-chrome version is 94.0.4606\n",
      "Get LATEST driver version for 94.0.4606\n",
      "Driver [C:\\Users\\timko\\.wdm\\drivers\\chromedriver\\win32\\94.0.4606.61\\chromedriver.exe] found in cache\n",
      "<ipython-input-16-db8d438452e0>:1: DeprecationWarning: use options instead of chrome_options\n",
      "  driver = webdriver.Chrome(executable_path=ChromeDriverManager().install() ,chrome_options=options)\n"
     ]
    },
    {
     "output_type": "stream",
     "name": "stdout",
     "text": [
      "\n",
      "\n",
      "[07/10/2021 11:19:59] Who is online\n",
      "In total there are 2 users online :: 2 registered and 0 hidden (based on users active over the past 15 minutes)\n",
      "Most users ever online was 14 on Wed Nov 21, 2018 10:23 am Statistics\n",
      "Total posts 184062 • Total topics 3132 • Total members 55 • Our newest member LilAnnyCat.\n",
      "\n",
      "\n"
     ]
    }
   ],
   "metadata": {}
  },
  {
   "cell_type": "code",
   "execution_count": 3,
   "source": [
    "base = \"https://washingtondc.craigslist.org/search/doc/sub?hasPic=1&bundleDuplicates=1&availabilityMode=0&rent_period=2&rent_period=3&sale_date=all+dates\"\r\n",
    " "
   ],
   "outputs": [],
   "metadata": {}
  },
  {
   "cell_type": "code",
   "execution_count": 4,
   "source": [
    "driver = webdriver.Chrome(executable_path=ChromeDriverManager().install() ,chrome_options=options) \r\n",
    "driver.get(base) \r\n",
    "# driver.find_element(By.XPATH, '//div[contains(@id, \"piv-box\")]//a').click()  \r\n",
    "# driver.implicitly_wait(2)\r\n",
    "# driver.switch_to.alert.accept() "
   ],
   "outputs": [
    {
     "output_type": "stream",
     "name": "stderr",
     "text": [
      "\n",
      "\n",
      "====== WebDriver manager ======\n",
      "Current google-chrome version is 93.0.4577\n",
      "Get LATEST driver version for 93.0.4577\n",
      "There is no [win32] chromedriver for browser 93.0.4577 in cache\n",
      "Get LATEST driver version for 93.0.4577\n",
      "Trying to download new driver from https://chromedriver.storage.googleapis.com/93.0.4577.63/chromedriver_win32.zip\n",
      "Driver has been saved in cache [C:\\Users\\timko\\.wdm\\drivers\\chromedriver\\win32\\93.0.4577.63]\n",
      "<ipython-input-4-ae2a423823cd>:1: DeprecationWarning: use options instead of chrome_options\n",
      "  driver = webdriver.Chrome(executable_path=ChromeDriverManager().install() ,chrome_options=options)\n"
     ]
    }
   ],
   "metadata": {}
  },
  {
   "cell_type": "code",
   "execution_count": 3,
   "source": [
    "driver = webdriver.Chrome(executable_path=ChromeDriverManager().install() ,chrome_options=options) \r\n",
    "driver.get(base)\r\n",
    "driver.execute_script( 'window.open();')   \r\n",
    "driver.switch_to_window(driver.window_handles[ len(driver.window_handles)-1])\r\n",
    "driver.get(base)\r\n",
    "driver.find_element(By.XPATH, '//div[contains(@class, \"open-map-view-button\")]').click() "
   ],
   "outputs": [
    {
     "output_type": "stream",
     "name": "stderr",
     "text": [
      "\n",
      "\n",
      "====== WebDriver manager ======\n",
      "Current google-chrome version is 93.0.4577\n",
      "Get LATEST driver version for 93.0.4577\n",
      "There is no [win32] chromedriver for browser 93.0.4577 in cache\n",
      "Get LATEST driver version for 93.0.4577\n",
      "Trying to download new driver from https://chromedriver.storage.googleapis.com/93.0.4577.15/chromedriver_win32.zip\n",
      "Driver has been saved in cache [C:\\Users\\timko\\.wdm\\drivers\\chromedriver\\win32\\93.0.4577.15]\n",
      "<ipython-input-3-9b4a52df6f05>:1: DeprecationWarning: use options instead of chrome_options\n",
      "  driver = webdriver.Chrome(executable_path=ChromeDriverManager().install() ,chrome_options=options)\n",
      "<ipython-input-3-9b4a52df6f05>:4: DeprecationWarning: use driver.switch_to.window instead\n",
      "  driver.switch_to_window(driver.window_handles[ len(driver.window_handles)-1])\n"
     ]
    }
   ],
   "metadata": {
    "scrolled": true
   }
  },
  {
   "cell_type": "code",
   "execution_count": 18,
   "source": [
    "elms = driver.find_elements(By.XPATH, '//ul[contains(@id, \"search-results\")]//h3/a') \r\n",
    "hrefs = [e.get_attribute('href') for e in elms]  "
   ],
   "outputs": [],
   "metadata": {}
  },
  {
   "cell_type": "code",
   "execution_count": 19,
   "source": [
    "\r\n",
    "for url in hrefs[:12]:\r\n",
    "    driver.execute_script( 'window.open();')   \r\n",
    "    driver.switch_to_window(driver.window_handles[ len(driver.window_handles)-1])\r\n",
    "    driver.get(url)\r\n",
    "driver.window_handles[0]"
   ],
   "outputs": [
    {
     "output_type": "stream",
     "name": "stderr",
     "text": [
      "<ipython-input-19-77b14bfcba59>:3: DeprecationWarning: use driver.switch_to.window instead\n",
      "  driver.switch_to_window(driver.window_handles[ len(driver.window_handles)-1])\n"
     ]
    }
   ],
   "metadata": {}
  },
  {
   "cell_type": "code",
   "execution_count": null,
   "source": [
    "for e in elms:\r\n",
    "    driver.execute_script( 'window.open();')   \r\n",
    "    driver.switch_to_window(driver.window_handles[ len(driver.window_handles)-1])"
   ],
   "outputs": [],
   "metadata": {}
  },
  {
   "cell_type": "code",
   "execution_count": null,
   "source": [],
   "outputs": [],
   "metadata": {}
  }
 ],
 "metadata": {
  "kernelspec": {
   "name": "python3",
   "display_name": "Python 3.8.5 64-bit ('base': conda)"
  },
  "language_info": {
   "codemirror_mode": {
    "name": "ipython",
    "version": 3
   },
   "file_extension": ".py",
   "mimetype": "text/x-python",
   "name": "python",
   "nbconvert_exporter": "python",
   "pygments_lexer": "ipython3",
   "version": "3.8.5"
  },
  "interpreter": {
   "hash": "5ecbac8c226a054463cc020fa45cbf820e7d49ac7199c163081ea57c79aed41e"
  }
 },
 "nbformat": 4,
 "nbformat_minor": 4
}