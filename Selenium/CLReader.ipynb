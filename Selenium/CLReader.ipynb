{
 "cells": [
  {
   "cell_type": "code",
   "execution_count": 14,
   "metadata": {},
   "outputs": [],
   "source": [
    "import json, re,  os, time, random \n",
    "from bs4 import BeautifulSoup  \n",
    "import nltk\n",
    "from nltk.corpus import stopwords\n",
    "sw=stopwords.words('english')\n",
    "import pandas as pd \n",
    "from webdriver_manager.chrome import ChromeDriverManager\n",
    "from selenium.webdriver.chrome.options import Options\n",
    "from selenium import webdriver\n",
    "from selenium.webdriver.common.by import By\n",
    "from selenium.webdriver.support.ui import WebDriverWait\n",
    "from selenium.webdriver.support import expected_conditions as EC \n",
    "from datetime import datetime"
   ]
  },
  {
   "cell_type": "code",
   "execution_count": 1,
   "metadata": {},
   "outputs": [
    {
     "data": {
      "text/plain": [
       "727.2727272727274"
      ]
     },
     "execution_count": 1,
     "metadata": {},
     "output_type": "execute_result"
    }
   ],
   "source": [
    "link = 'https://www.irs.gov/publications/p527'\n",
    "\n",
    "\n",
    "\n",
    "\n",
    "dep = ((8000/27.5) * 5) / 2\n",
    "dep"
   ]
  },
  {
   "cell_type": "code",
   "execution_count": 31,
   "metadata": {},
   "outputs": [
    {
     "name": "stdout",
     "output_type": "stream",
     "text": [
      "\n",
      "\n",
      "[07/10/2021 11:19:59] Who is online\n",
      "2 users online ::Total posts 184062 • Total topics 3132 • Total members 55 • \n",
      "\n",
      "[07/10/2021 11:28:11] Who is online\n",
      "4 users online ::Total posts 184062 • Total topics 3132 • Total members 55 • \n",
      "\\n[07/10/2021 11:28:26] Who is online\n",
      "4 users online ::Total posts 184062 • Total topics 3132 • Total members 55 • \n",
      "\\n[07/10/2021 11:29:26] Who is online\n",
      "3 users online ::Total posts 184062 • Total topics 3132 • Total members 55 • \n",
      "\\n[07/10/2021 11:30:40] Who is online\n",
      "3 users online ::Total posts 184062 • Total topics 3132 • Total members 55 • \n",
      "\\n[07/10/2021 11:34:54] Who is online\n",
      "3 users online ::Total posts 184062 • Total topics 3132 • Total members 55 • \n",
      "\\n[07/10/2021 11:39:54] Who is online\n",
      "In total there is 1 user online ::Total posts 184062 • Total topics 3132 • Total members 55 • \n",
      "\\n[07/10/2021 11:44:54] Who is online\n",
      "2 users online ::Total posts 184062 • Total topics 3132 • Total members 55 • \n",
      "\\n[07/10/2021 11:59:54] Who is online\n",
      "3 users online ::Total posts 184063 • Total topics 3132 • Total members 55 • \n",
      "\\n[07/10/2021 12:29:54] Who is online\n",
      "In total there is 1 user online ::Total posts 184063 • Total topics 3132 • Total members 55 • \n",
      "\\n[07/10/2021 12:59:54] Who is online\n",
      "In total there is 1 user online ::Total posts 184064 • Total topics 3132 • Total members 55 • \n",
      "\\n[07/10/2021 13:29:54] Who is online\n",
      "4 users online ::Total posts 184064 • Total topics 3132 • Total members 55 • \n",
      "\\n[07/10/2021 13:59:54] Who is online\n",
      "In total there is 1 user online ::Total posts 184064 • Total topics 3132 • Total members 55 • \n",
      "\\n[07/10/2021 14:29:54] Who is online\n",
      "0 users online ::Total posts 184064 • Total topics 3132 • Total members 55 • \n",
      "\\n[07/10/2021 14:59:54] Who is online\n",
      "2 users online ::Total posts 184065 • Total topics 3132 • Total members 55 • \n",
      "\\n[07/10/2021 15:29:54] Who is online\n",
      "2 users online ::Total posts 184066 • Total topics 3132 • Total members 55 • \n",
      "\n",
      "\n",
      "[07/10/2021 15:31:54] Who is online\n",
      "2 users online ::Total posts 184066 • Total topics 3132 • Total members 55 • \n",
      "\n",
      "[07/10/2021 15:33:49] Who is online\n",
      "3 users online ::Total posts 184066 • Total topics 3132 • Total members 55 • \n",
      "\n",
      "[07/10/2021 15:59:54] Who is online\n",
      "2 users online ::Total posts 184066 • Total topics 3132 • Total members 55 • \n",
      "\n",
      "[07/10/2021 16:29:54] Who is online\n",
      "2 users online ::Total posts 184066 • Total topics 3132 • Total members 55 • \n",
      "\n",
      "[07/10/2021 16:59:54] Who is online\n",
      "0 users online ::Total posts 184066 • Total topics 3132 • Total members 55 • \n",
      "\n",
      "[07/10/2021 17:29:54] Who is online\n",
      "0 users online ::Total posts 184066 • Total topics 3132 • Total members 55 • \n",
      "\n",
      "[08/10/2021 07:58:04] Who is online\n",
      "In total there is 1 user online ::Total posts 184067 • Total topics 3132 • Total members 55 • \n",
      "\n",
      "[08/10/2021 07:59:54] Who is online\n",
      "In total there is 1 user online ::Total posts 184067 • Total topics 3132 • Total members 55 • \n",
      "\n",
      "[08/10/2021 08:13:04] Who is online\n",
      "2 users online ::Total posts 184067 • Total topics 3132 • Total members 55 • \n",
      "\n",
      "[08/10/2021 08:30:04] Who is online\n",
      "0 users online ::Total posts 184067 • Total topics 3132 • Total members 55 • \n",
      "\n",
      "[08/10/2021 09:29:56] Who is online\n",
      "In total there is 1 user online ::Total posts 184067 • Total topics 3132 • Total members 55 • \n",
      "\n",
      "[08/10/2021 10:29:54] Who is online\n",
      "2 users online ::Total posts 184068 • Total topics 3132 • Total members 55 • \n",
      "\n",
      "[08/10/2021 11:06:43] Who is online\n",
      "In total there is 1 user online ::Total posts 184068 • Total topics 3132 • Total members 55 • \n",
      "\n",
      "\n",
      "[08/10/2021 11:10:25] Who is online\n",
      "2 users online ::Total posts 184068 • Total topics 3132 • Total members 55 • \n",
      "\n",
      "[08/10/2021 11:29:53] Who is online\n",
      "3 users online ::Total posts 184068 • Total topics 3132 • Total members 55 • \n",
      "\n",
      "[08/10/2021 12:29:54] Who is online\n",
      "2 users online ::Total posts 184068 • Total topics 3132 • Total members 55 • \n",
      "\n",
      "[08/10/2021 13:29:55] Who is online\n",
      "2 users online ::Total posts 184068 • Total topics 3132 • Total members 55 • \n",
      "\n",
      "[08/10/2021 14:29:54] Who is online\n",
      "2 users online ::Total posts 184069 • Total topics 3132 • Total members 55 • \n",
      "\n",
      "\n"
     ]
    }
   ],
   "source": [
    " \n",
    "with open(\"C:\\\\Users\\\\timko\\\\source\\\\repos\\\\PythonBoiler\\\\Selenium\\\\out.txt\", \"r\") as f:\n",
    "    stats =  f.read() \n",
    "    stats = stats.replace('Most users ever online was 14 on Wed Nov 21, 2018 10:23 am Statistics\\n', '')\n",
    "    stats = stats.replace('Our newest member LilAnnyCat.', '') \n",
    "    stats = stats.replace('(based on users active over the past 15 minutes)', '')  \n",
    "    stats = stats.replace('In total there are ', '') \n",
    "    stats = re.sub('\\d{1,3} registered and \\d{1,3} hidden', '', stats) \n",
    "    stats = re.sub('::  \\n', '::', stats)  \n",
    "    print(stats)"
   ]
  },
  {
   "cell_type": "code",
   "execution_count": 4,
   "metadata": {},
   "outputs": [],
   "source": [
    "options = Options()\n",
    "options.add_argument(\"--start-minimized\")"
   ]
  },
  {
   "cell_type": "code",
   "execution_count": 16,
   "metadata": {},
   "outputs": [
    {
     "name": "stderr",
     "output_type": "stream",
     "text": [
      "\n",
      "\n",
      "====== WebDriver manager ======\n",
      "Current google-chrome version is 94.0.4606\n",
      "Get LATEST driver version for 94.0.4606\n",
      "Driver [C:\\Users\\timko\\.wdm\\drivers\\chromedriver\\win32\\94.0.4606.61\\chromedriver.exe] found in cache\n",
      "<ipython-input-16-db8d438452e0>:1: DeprecationWarning: use options instead of chrome_options\n",
      "  driver = webdriver.Chrome(executable_path=ChromeDriverManager().install() ,chrome_options=options)\n"
     ]
    },
    {
     "name": "stdout",
     "output_type": "stream",
     "text": [
      "\n",
      "\n",
      "[07/10/2021 11:19:59] Who is online\n",
      "In total there are 2 users online :: 2 registered and 0 hidden (based on users active over the past 15 minutes)\n",
      "Most users ever online was 14 on Wed Nov 21, 2018 10:23 am Statistics\n",
      "Total posts 184062 • Total topics 3132 • Total members 55 • Our newest member LilAnnyCat.\n",
      "\n",
      "\n"
     ]
    }
   ],
   "source": [
    "\n",
    "driver = webdriver.Chrome(executable_path=ChromeDriverManager().install() ,chrome_options=options) \n",
    "driver.get(\"\") \n",
    "stat = driver.find_element(By.XPATH, '//*[contains(@class, \"statistics\")]')\n",
    "who = driver.find_element(By.XPATH, '//*[contains(@class, \"online-list\")]')\n",
    "try:\n",
    "    now = datetime.now()\n",
    "    dt_string = now.strftime(\"%d/%m/%Y %H:%M:%S\")\n",
    "    stats = f'[{dt_string}] {who.text} {stat.text}\\n' \n",
    "except Exception as e:\n",
    "    print(e)\n",
    "finally: \n",
    "    driver.quit()\n",
    "\n",
    "with open(\"out.txt\", \"a\") as f:\n",
    "    f.write(f\"{ stats }\\n\")\n",
    "with open(\"out.txt\", \"r\") as f:\n",
    "    print ( f.read() ) "
   ]
  },
  {
   "cell_type": "code",
   "execution_count": 3,
   "metadata": {},
   "outputs": [],
   "source": [
    "base = \"https://washingtondc.craigslist.org/search/doc/sub?hasPic=1&bundleDuplicates=1&availabilityMode=0&rent_period=2&rent_period=3&sale_date=all+dates\"\n",
    " "
   ]
  },
  {
   "cell_type": "code",
   "execution_count": 4,
   "metadata": {},
   "outputs": [
    {
     "name": "stderr",
     "output_type": "stream",
     "text": [
      "\n",
      "\n",
      "====== WebDriver manager ======\n",
      "Current google-chrome version is 93.0.4577\n",
      "Get LATEST driver version for 93.0.4577\n",
      "There is no [win32] chromedriver for browser 93.0.4577 in cache\n",
      "Get LATEST driver version for 93.0.4577\n",
      "Trying to download new driver from https://chromedriver.storage.googleapis.com/93.0.4577.63/chromedriver_win32.zip\n",
      "Driver has been saved in cache [C:\\Users\\timko\\.wdm\\drivers\\chromedriver\\win32\\93.0.4577.63]\n",
      "<ipython-input-4-ae2a423823cd>:1: DeprecationWarning: use options instead of chrome_options\n",
      "  driver = webdriver.Chrome(executable_path=ChromeDriverManager().install() ,chrome_options=options)\n"
     ]
    }
   ],
   "source": [
    "driver = webdriver.Chrome(executable_path=ChromeDriverManager().install() ,chrome_options=options) \n",
    "driver.get(base) \n",
    "# driver.find_element(By.XPATH, '//div[contains(@id, \"piv-box\")]//a').click()  \n",
    "# driver.implicitly_wait(2)\n",
    "# driver.switch_to.alert.accept() "
   ]
  },
  {
   "cell_type": "code",
   "execution_count": 3,
   "metadata": {
    "scrolled": true
   },
   "outputs": [
    {
     "name": "stderr",
     "output_type": "stream",
     "text": [
      "\n",
      "\n",
      "====== WebDriver manager ======\n",
      "Current google-chrome version is 93.0.4577\n",
      "Get LATEST driver version for 93.0.4577\n",
      "There is no [win32] chromedriver for browser 93.0.4577 in cache\n",
      "Get LATEST driver version for 93.0.4577\n",
      "Trying to download new driver from https://chromedriver.storage.googleapis.com/93.0.4577.15/chromedriver_win32.zip\n",
      "Driver has been saved in cache [C:\\Users\\timko\\.wdm\\drivers\\chromedriver\\win32\\93.0.4577.15]\n",
      "<ipython-input-3-9b4a52df6f05>:1: DeprecationWarning: use options instead of chrome_options\n",
      "  driver = webdriver.Chrome(executable_path=ChromeDriverManager().install() ,chrome_options=options)\n",
      "<ipython-input-3-9b4a52df6f05>:4: DeprecationWarning: use driver.switch_to.window instead\n",
      "  driver.switch_to_window(driver.window_handles[ len(driver.window_handles)-1])\n"
     ]
    }
   ],
   "source": [
    "driver = webdriver.Chrome(executable_path=ChromeDriverManager().install() ,chrome_options=options) \n",
    "driver.get(base)\n",
    "driver.execute_script( 'window.open();')   \n",
    "driver.switch_to_window(driver.window_handles[ len(driver.window_handles)-1])\n",
    "driver.get(base)\n",
    "driver.find_element(By.XPATH, '//div[contains(@class, \"open-map-view-button\")]').click() "
   ]
  },
  {
   "cell_type": "code",
   "execution_count": 18,
   "metadata": {},
   "outputs": [],
   "source": [
    "elms = driver.find_elements(By.XPATH, '//ul[contains(@id, \"search-results\")]//h3/a') \n",
    "hrefs = [e.get_attribute('href') for e in elms]  "
   ]
  },
  {
   "cell_type": "code",
   "execution_count": 19,
   "metadata": {},
   "outputs": [
    {
     "name": "stderr",
     "output_type": "stream",
     "text": [
      "<ipython-input-19-77b14bfcba59>:3: DeprecationWarning: use driver.switch_to.window instead\n",
      "  driver.switch_to_window(driver.window_handles[ len(driver.window_handles)-1])\n"
     ]
    }
   ],
   "source": [
    "\n",
    "for url in hrefs[:12]:\n",
    "    driver.execute_script( 'window.open();')   \n",
    "    driver.switch_to_window(driver.window_handles[ len(driver.window_handles)-1])\n",
    "    driver.get(url)\n",
    "driver.window_handles[0]"
   ]
  },
  {
   "cell_type": "code",
   "execution_count": null,
   "metadata": {},
   "outputs": [],
   "source": [
    "for e in elms:\n",
    "    driver.execute_script( 'window.open();')   \n",
    "    driver.switch_to_window(driver.window_handles[ len(driver.window_handles)-1])"
   ]
  },
  {
   "cell_type": "code",
   "execution_count": null,
   "metadata": {},
   "outputs": [],
   "source": []
  }
 ],
 "metadata": {
  "interpreter": {
   "hash": "5ecbac8c226a054463cc020fa45cbf820e7d49ac7199c163081ea57c79aed41e"
  },
  "kernelspec": {
   "display_name": "Python 3.8.5 64-bit ('base': conda)",
   "name": "python3"
  },
  "language_info": {
   "codemirror_mode": {
    "name": "ipython",
    "version": 3
   },
   "file_extension": ".py",
   "mimetype": "text/x-python",
   "name": "python",
   "nbconvert_exporter": "python",
   "pygments_lexer": "ipython3",
   "version": "3.8.5"
  }
 },
 "nbformat": 4,
 "nbformat_minor": 4
}
