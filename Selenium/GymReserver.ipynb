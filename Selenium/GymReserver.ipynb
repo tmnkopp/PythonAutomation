{
 "cells": [
  {
   "cell_type": "code",
   "execution_count": 8,
   "metadata": {},
   "outputs": [],
   "source": [
    "import json, re,  os, time, random \n",
    "from bs4 import BeautifulSoup   \n",
    "import pandas as pd \n",
    "from webdriver_manager.chrome import ChromeDriverManager\n",
    "from selenium.webdriver.chrome.options import Options\n",
    "from selenium import webdriver\n",
    "from selenium.webdriver.common.by import By\n",
    "from selenium.webdriver.support.ui import WebDriverWait\n",
    "from selenium.webdriver.support import expected_conditions as EC  \n",
    "from config import *\n",
    "from datetime import datetime, timedelta"
   ]
  },
  {
   "cell_type": "code",
   "execution_count": 10,
   "metadata": {},
   "outputs": [
    {
     "name": "stderr",
     "output_type": "stream",
     "text": [
      "\n",
      "\n",
      "====== WebDriver manager ======\n",
      "Current google-chrome version is 103.0.5060\n",
      "Get LATEST driver version for 103.0.5060\n",
      "Driver [C:\\Users\\Tim\\.wdm\\drivers\\chromedriver\\win32\\103.0.5060.134\\chromedriver.exe] found in cache\n",
      "<ipython-input-10-42aeb8f72d5d>:3: DeprecationWarning: use options instead of chrome_options\n",
      "  driver = webdriver.Chrome(executable_path=ChromeDriverManager().install() ,chrome_options=options)\n"
     ]
    }
   ],
   "source": [
    "options = Options()\n",
    "options.add_argument(\"--start-minimized\")\n",
    "driver = webdriver.Chrome(executable_path=ChromeDriverManager().install() ,chrome_options=options) "
   ]
  },
  {
   "cell_type": "code",
   "execution_count": 11,
   "metadata": {},
   "outputs": [],
   "source": [
    "driver.get(\"https://buildinglink.com/v2/tenant/home/defaultnew.aspx\") \n",
    "driver.find_element(By.XPATH, '//*[contains(@id, \"UserName\")]').send_keys(bl_user)\n",
    "driver.find_element(By.XPATH, '//*[contains(@id, \"Password\")]').send_keys(bl_pass) \n",
    "driver.find_element(By.XPATH, '//*[contains(@id, \"LoginButton\")]').click() "
   ]
  },
  {
   "cell_type": "code",
   "execution_count": 12,
   "metadata": {},
   "outputs": [],
   "source": [
    "def get_date(addDays=0):\n",
    "    today = datetime.today() \n",
    "    modified_date = today + timedelta(days=addDays)\n",
    "    modified_date = modified_date.strftime('%m/%d/%Y') \n",
    "    url = f\"https://buildinglink.com/v2/tenant/Amenities/NewReservation.aspx?amenityId=41471&from=0&selectedDate={modified_date}\"\n",
    "    print(url)\n",
    "    driver.get(url)     \n",
    "    return modified_date"
   ]
  },
  {
   "cell_type": "code",
   "execution_count": 13,
   "metadata": {},
   "outputs": [],
   "source": [
    "def click_cal(driver, time):\n",
    "    if time < 1:\n",
    "        time=12\n",
    "    StartTimePicker = driver.find_elements(By.XPATH, '//*[@id=\"ctl00_ContentPlaceHolder1_StartTimePicker_dateInput\"]')[0] \n",
    "    StartTimePicker.click() \n",
    "    StartTimePicker.send_keys(f'{time}:00 PM')  \n",
    "    cal = driver.find_elements(By.XPATH, '//*[contains(@class, \"RadCalendarTimeView\")]')[0]\n",
    "    cal.find_element_by_link_text(f'{time}:00 PM').click()     "
   ]
  },
  {
   "cell_type": "code",
   "execution_count": 14,
   "metadata": {},
   "outputs": [
    {
     "name": "stdout",
     "output_type": "stream",
     "text": [
      "https://buildinglink.com/v2/tenant/Amenities/NewReservation.aspx?amenityId=41471&from=0&selectedDate=07/29/2022\n",
      "https://buildinglink.com/v2/tenant/Amenities/NewReservation.aspx?amenityId=41471&from=0&selectedDate=07/30/2022\n"
     ]
    }
   ],
   "source": [
    "i=0 \n",
    "while True:  \n",
    "    d = get_date(i) \n",
    "    err = driver.find_elements(By.XPATH, '//*[contains(@id, \"ValidationContainer\")]')    \n",
    "    if 'error' not in err[0].text or i>=5: \n",
    "        break  \n",
    "    i=i+1 "
   ]
  },
  {
   "cell_type": "code",
   "execution_count": 15,
   "metadata": {},
   "outputs": [],
   "source": [
    "i=0\n",
    "while True: \n",
    "    click_cal(driver, i) \n",
    "    err = driver.find_elements(By.XPATH, '//*[contains(@id, \"ValidationContainer\")]')   \n",
    "    if 'same time period' not in err[0].text or i>=5:  \n",
    "        break  \n",
    "    i=i+1  "
   ]
  },
  {
   "cell_type": "code",
   "execution_count": null,
   "metadata": {},
   "outputs": [],
   "source": [
    "subo = driver.find_elements(By.XPATH, '//a[contains(@id, \"ctl00_ContentPlaceHolder1_FooterSaveButton\")]')[0] \n",
    "subo.click() "
   ]
  },
  {
   "cell_type": "code",
   "execution_count": null,
   "metadata": {},
   "outputs": [],
   "source": []
  },
  {
   "cell_type": "code",
   "execution_count": null,
   "metadata": {},
   "outputs": [],
   "source": []
  }
 ],
 "metadata": {
  "kernelspec": {
   "display_name": "Python 3",
   "language": "python",
   "name": "python3"
  },
  "language_info": {
   "codemirror_mode": {
    "name": "ipython",
    "version": 3
   },
   "file_extension": ".py",
   "mimetype": "text/x-python",
   "name": "python",
   "nbconvert_exporter": "python",
   "pygments_lexer": "ipython3",
   "version": "3.8.8"
  },
  "vscode": {
   "interpreter": {
    "hash": "1b5c637c5c17e7841ce3b55fac6772e1460db6e5f5b3923b76ec2696de093845"
   }
  }
 },
 "nbformat": 4,
 "nbformat_minor": 4
}
