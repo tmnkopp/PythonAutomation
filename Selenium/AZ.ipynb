{
 "cells": [
  {
   "cell_type": "code",
   "execution_count": 22,
   "metadata": {},
   "outputs": [],
   "source": [
    "import json, re,  os, time, random, time\n",
    "from bs4 import BeautifulSoup   \n",
    "import pandas as pd \n",
    "from webdriver_manager.chrome import ChromeDriverManager\n",
    "from selenium.webdriver.chrome.options import Options\n",
    "from selenium import webdriver\n",
    "from selenium.webdriver.common.by import By\n",
    "from selenium.webdriver.support.ui import WebDriverWait\n",
    "from selenium.webdriver.support import expected_conditions as EC   \n",
    "from datetime import datetime, date, timedelta \n",
    "import logging  \n",
    " "
   ]
  },
  {
   "cell_type": "code",
   "execution_count": 23,
   "metadata": {},
   "outputs": [],
   "source": [
    "config_path = r'C:\\Users\\timko\\source\\repos\\PythonBoiler\\CodeGenerators\\config.json'\n"
   ]
  },
  {
   "cell_type": "code",
   "execution_count": 24,
   "metadata": {},
   "outputs": [
    {
     "data": {
      "text/plain": [
       "'tim.kopp'"
      ]
     },
     "execution_count": 24,
     "metadata": {},
     "output_type": "execute_result"
    }
   ],
   "source": [
    "\n",
    "config=''\n",
    "with open(config_path) as f:\n",
    "    config = json.loads(f.read())   \n",
    "# config['azuser']\n",
    "options = Options() \n",
    "options.add_argument(\"--window-size=1220,980\")  \n",
    "options.add_argument('--log-level=3') \n",
    "driver = webdriver.Chrome(executable_path=config['driver_path'] , options=options) "
   ]
  },
  {
   "cell_type": "code",
   "execution_count": 21,
   "metadata": {
    "scrolled": true
   },
   "outputs": [],
   "source": [
    "\n",
    " "
   ]
  },
  {
   "cell_type": "code",
   "execution_count": 27,
   "metadata": {},
   "outputs": [],
   "source": [
    "def get_date(addDays=0):\n",
    "    today = datetime.today() \n",
    "    modified_date = today + timedelta(days=addDays)\n",
    "    modified_date = modified_date.strftime('%m/%d/%Y') \n",
    "    url = f\"https://buildinglink.com/v2/tenant/Amenities/NewReservation.aspx?amenityId=41471&from=0&selectedDate={modified_date}\"\n",
    "    print(url)\n",
    "    driver.get(url)     \n",
    "    return modified_date"
   ]
  },
  {
   "cell_type": "code",
   "execution_count": 28,
   "metadata": {},
   "outputs": [],
   "source": [
    "def click_cal(driver, time):\n",
    "    if time < 1:\n",
    "        time=1\n",
    "    ele = driver.find_elements(By.XPATH, '//*[@id=\"ctl00_ContentPlaceHolder1_StartTimePicker_dateInput\"]')[0] \n",
    "    ele.click() \n",
    "    ele.send_keys(f'{time}:00 PM')  \n",
    "    cal = driver.find_elements(By.XPATH, '//*[contains(@class, \"RadCalendarTimeView\")]')[0]\n",
    "    cal.find_element_by_link_text(f'{time}:00 PM').click()     "
   ]
  },
  {
   "cell_type": "code",
   "execution_count": null,
   "metadata": {},
   "outputs": [],
   "source": [
    "i=0 \n",
    "while True:  \n",
    "    d = get_date(i)\n",
    "    err = driver.find_elements(By.XPATH, '//*[contains(@id, \"ValidationContainer\")]')    \n",
    "    if 'error' not in err[0].text or i>=5: \n",
    "        break\n",
    "    i=i+1 \n",
    "i=0\n",
    "while True: \n",
    "    click_cal(driver, i)\n",
    "    err = driver.find_elements(By.XPATH, '//*[contains(@id, \"ValidationContainer\")]')   \n",
    "    if 'same time period' not in err[0].text or i>=5:  \n",
    "        break\n",
    "    i=i+1    \n",
    "# subo = driver.find_elements(By.XPATH, '//a[contains(@id, \"ctl00_ContentPlaceHolder1_FooterSaveButton\")]')[0] \n",
    "# subo = driver.find_elements(By.XPATH, '//a[contains(@id, \"ctl00_ContentPlaceHolder1_FooterCancelButton\")]')[0]\n",
    "# subo.click()     "
   ]
  },
  {
   "cell_type": "code",
   "execution_count": null,
   "metadata": {},
   "outputs": [],
   "source": []
  },
  {
   "cell_type": "code",
   "execution_count": null,
   "metadata": {},
   "outputs": [],
   "source": []
  },
  {
   "cell_type": "code",
   "execution_count": null,
   "metadata": {},
   "outputs": [],
   "source": []
  }
 ],
 "metadata": {
  "kernelspec": {
   "display_name": "Python 3",
   "language": "python",
   "name": "python3"
  },
  "language_info": {
   "codemirror_mode": {
    "name": "ipython",
    "version": 3
   },
   "file_extension": ".py",
   "mimetype": "text/x-python",
   "name": "python",
   "nbconvert_exporter": "python",
   "pygments_lexer": "ipython3",
   "version": "3.8.5"
  },
  "vscode": {
   "interpreter": {
    "hash": "1b5c637c5c17e7841ce3b55fac6772e1460db6e5f5b3923b76ec2696de093845"
   }
  }
 },
 "nbformat": 4,
 "nbformat_minor": 4
}
