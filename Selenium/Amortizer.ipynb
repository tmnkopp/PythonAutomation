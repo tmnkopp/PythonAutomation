{
 "cells": [
  {
   "cell_type": "code",
   "execution_count": 10,
   "metadata": {},
   "outputs": [],
   "source": [
    "import json, re,  os, time, random , requests\n",
    "from bs4 import BeautifulSoup  \n",
    "import nltk\n",
    "from nltk.corpus import stopwords\n",
    "sw=stopwords.words('english')\n",
    "import pandas as pd \n",
    "from webdriver_manager.chrome import ChromeDriverManager\n",
    "from selenium.webdriver.chrome.options import Options\n",
    "from selenium import webdriver\n",
    "from selenium.webdriver.common.by import By\n",
    "from selenium.webdriver.support.ui import WebDriverWait\n",
    "from selenium.webdriver.support import expected_conditions as EC \n",
    "from datetime import datetime\n",
    "import matplotlib.pyplot as plt\n",
    "import seaborn as sns"
   ]
  },
  {
   "cell_type": "code",
   "execution_count": 48,
   "metadata": {},
   "outputs": [],
   "source": []
  },
  {
   "cell_type": "code",
   "execution_count": 67,
   "metadata": {},
   "outputs": [
    {
     "name": "stdout",
     "output_type": "stream",
     "text": [
      "09/29/2021,PendingBright MLS #DCDC2002270,\n",
      "09/21/2021,PriceChangeBright MLS #DCDC2002270,\n",
      "08/24/2021,PriceChangeBright MLS #DCDC2002270,\n",
      "07/27/2021,PriceChangeBright MLS #DCDC2002270,\n",
      "07/01/2021,Listed For SaleBright MLS #DCDC2002270,\n",
      "10/27/2020,SoldPublic Records,\n",
      "\n"
     ]
    }
   ],
   "source": [
    "def get_his(): \n",
    " \n",
    "    bs = BeautifulSoup(requests.get(f\"https://www.trulia.com/p/dc/washington/535-10th-st-se-washington-dc-20003--2090274892\").text, \"html.parser\")  \n",
    "    ele = bs.select('.lomxvq') \n",
    "    dfhis = pd.read_html(f'{ele[17]}')[0]\n",
    "    dfhis['event'] = dfhis['Event Details']\n",
    "    dfhis = dfhis[['event']]\n",
    "    s=''\n",
    "    for e in dfhis.event:\n",
    "        s=s + re.sub(r'(/\\d{4})',r'\\1,', e) + ',\\n'\n",
    "    return s\n",
    "print( get_his() )"
   ]
  },
  {
   "cell_type": "code",
   "execution_count": 99,
   "metadata": {},
   "outputs": [
    {
     "name": "stdout",
     "output_type": "stream",
     "text": [
      "Address:,535 10th Street Southeast Washington DC 20003,\n",
      "MLS:,DCDC2002270,\n",
      "Property History:,,\n",
      "------------------------,,\n",
      "Jul 1 2021,  Listed (Active) BRIGHT #DCDC2002270,\n",
      "Oct 27 2020, Closed Public Record #681561466,\n",
      "------------------------,,\n",
      "Life of Roof:, 27.5 years, (IRS pub.527 Depreciation)\n",
      "Roof Value:, $8000, \n",
      "Annual Depreciation, $290.91, (8000 / 27.5) \n",
      "------------------------,,\n",
      "Amortized,, \n",
      "------------------------,,\n",
      "Year 1.0 ,$290.91, 4.0% \n",
      "Year 1.5 ,$436.37, 5.0% \n",
      "Year 2.0 ,$581.82, 7.0% \n",
      "Year 2.5 ,$727.28, 9.0% \n",
      "Year 3.0 ,$872.73, 11.0% \n",
      "Year 3.5 ,$1018.19, 13.0% \n",
      "Year 4.0 ,$1163.64, 15.0% \n",
      "Year 4.5 ,$1309.1, 16.0% \n",
      "Year 5.0 ,$1454.55, 18.0% \n",
      "Year 5.5 ,$1600.01, 20.0% \n",
      "Year 6.0 ,$1745.46, 22.0% \n",
      "Year 6.5 ,$1890.92, 24.0% \n",
      "Year 7.0 ,$2036.37, 25.0% \n",
      "Year 7.5 ,$2181.83, 27.0% \n",
      "Year 8.0 ,$2327.28, 29.0% \n",
      "Year 8.5 ,$2472.74, 31.0% \n",
      "Year 9.0 ,$2618.19, 33.0% \n",
      "Year 9.5 ,$2763.65, 35.0% \n",
      "Year 10.0 ,$2909.1, 36.0% \n",
      "Year 10.5 ,$3054.56, 38.0% \n",
      "Year 11.0 ,$3200.01, 40.0% \n",
      "Year 11.5 ,$3345.47, 42.0% \n",
      "Year 12.0 ,$3490.92, 44.0% \n",
      "Year 12.5 ,$3636.38, 45.0% \n",
      "Year 13.0 ,$3781.83, 47.0% \n",
      "Year 13.5 ,$3927.29, 49.0% \n",
      "Year 14.0 ,$4072.74, 51.0% \n",
      "Year 14.5 ,$4218.2, 53.0% \n",
      "Year 15.0 ,$4363.65, 55.0% \n",
      "Year 15.5 ,$4509.11, 56.0% \n",
      "Year 16.0 ,$4654.56, 58.0% \n",
      "Year 16.5 ,$4800.02, 60.0% \n",
      "Year 17.0 ,$4945.47, 62.0% \n",
      "Year 17.5 ,$5090.93, 64.0% \n",
      "Year 18.0 ,$5236.38, 65.0% \n",
      "Year 18.5 ,$5381.84, 67.0% \n",
      "Year 19.0 ,$5527.29, 69.0% \n",
      "Year 19.5 ,$5672.75, 71.0% \n",
      "Year 20.0 ,$5818.2, 73.0% \n",
      "Year 20.5 ,$5963.66, 75.0% \n",
      "Year 21.0 ,$6109.11, 76.0% \n",
      "Year 21.5 ,$6254.57, 78.0% \n",
      "Year 22.0 ,$6400.02, 80.0% \n",
      "Year 22.5 ,$6545.48, 82.0% \n",
      "Year 23.0 ,$6690.93, 84.0% \n",
      "Year 23.5 ,$6836.39, 85.0% \n",
      "Year 24.0 ,$6981.84, 87.0% \n",
      "Year 24.5 ,$7127.3, 89.0% \n",
      "Year 25.0 ,$7272.75, 91.0% \n",
      "Year 25.5 ,$7418.21, 93.0% \n",
      "Year 26.0 ,$7563.66, 95.0% \n",
      "Year 26.5 ,$7709.12, 96.0% \n",
      "Year 27.0, $7854.57, 98.0% \n",
      "Year 27.5, $8000.0, 100.0% \n",
      "\n"
     ]
    }
   ],
   "source": [
    "lor = 27.5\n",
    "value = 8000\n",
    "ann_dep = round((value / 27.5),2) \n",
    "half_dep = ann_dep * .5\n",
    "s = '' \n",
    "s = s + f'Address:,535 10th Street Southeast Washington DC 20003,\\n'  \n",
    "s = s + f'MLS:,DCDC2002270,\\n' \n",
    "s = s + f'Property History:,,\\n'  \n",
    "s = s + f'------------------------,,\\n'  \n",
    "s = s + f'Jul 1 2021,  Listed (Active) BRIGHT #DCDC2002270,\\n'\t\n",
    "s = s + f'Oct 27 2020, Closed Public Record #681561466,\\n'\n",
    "s = s + f'------------------------,,\\n'  \n",
    "s = s + f'Life of Roof:, {lor} years, (IRS pub.527 Depreciation)\\n'  \n",
    "s = s + f'Roof Value:, ${value}, \\n'\n",
    "s = s + f'Annual Depreciation, ${ann_dep}, ({value} / 27.5) \\n'  \n",
    "s = s + f'------------------------,,\\n'  \n",
    "s = s + f'Amortized,, \\n'  \n",
    "s = s + f'------------------------,,\\n'  \n",
    "\n",
    "bi_ann_dep = round(ann_dep * .5 , 2)  \n",
    "for i in range(1, 27): \n",
    "    val = round(i * ann_dep, 2) \n",
    "    val_5 = round(bi_ann_dep+ val, 2) \n",
    "    per = round(val/value, 2) * 100\n",
    "    per_5 = round(val_5/value, 2) * 100\n",
    "    s = s + f'Year { i }.0 ,${ val }, {round(per, 2)}% \\n'  \n",
    "    s = s + f'Year { i }.5 ,${ val_5 }, {round(per_5, 2)}% \\n'  \n",
    " \n",
    "s = s + f'Year 27.0, $7854.57, 98.0% \\n'  \n",
    "s = s + f'Year 27.5, $8000.0, 100.0% \\n'  \n",
    "\n",
    "print( s )\n",
    "with open(\"C:\\\\Users\\\\timko\\\\Documents\\\\House\\\\535\\\\roof\\\\RoofCostAmortized.txt\", \"w\") as f:\n",
    "    f.write(f\"{ s }\\n\")\n",
    "with open(\"C:\\\\Users\\\\timko\\\\Documents\\\\House\\\\535\\\\roof\\\\RoofCostAmortized.csv\", \"w\") as f: \n",
    "    f.write(f\"{ s }\\n\")"
   ]
  },
  {
   "cell_type": "code",
   "execution_count": 73,
   "metadata": {},
   "outputs": [],
   "source": [
    " "
   ]
  },
  {
   "cell_type": "code",
   "execution_count": 75,
   "metadata": {},
   "outputs": [
    {
     "data": {
      "text/plain": [
       "<AxesSubplot:xlabel='year', ylabel='val'>"
      ]
     },
     "execution_count": 75,
     "metadata": {},
     "output_type": "execute_result"
    },
    {
     "data": {
      "image/png": "[encoded data removed]",
      "text/plain": [
       "<Figure size 432x288 with 1 Axes>"
      ]
     },
     "metadata": {
      "needs_background": "light"
     },
     "output_type": "display_data"
    }
   ],
   "source": [
    " \n",
    "\n"
   ]
  },
  {
   "cell_type": "code",
   "execution_count": null,
   "metadata": {},
   "outputs": [],
   "source": [
    "plt.savefig('save_as_a_png.png')"
   ]
  },
  {
   "cell_type": "code",
   "execution_count": 4,
   "metadata": {},
   "outputs": [],
   "source": [
    "options = Options()\n",
    "options.add_argument(\"--start-minimized\")"
   ]
  },
  {
   "cell_type": "code",
   "execution_count": 16,
   "metadata": {},
   "outputs": [
    {
     "name": "stderr",
     "output_type": "stream",
     "text": [
      "\n",
      "\n",
      "====== WebDriver manager ======\n",
      "Current google-chrome version is 94.0.4606\n",
      "Get LATEST driver version for 94.0.4606\n",
      "Driver [C:\\Users\\timko\\.wdm\\drivers\\chromedriver\\win32\\94.0.4606.61\\chromedriver.exe] found in cache\n",
      "<ipython-input-16-db8d438452e0>:1: DeprecationWarning: use options instead of chrome_options\n",
      "  driver = webdriver.Chrome(executable_path=ChromeDriverManager().install() ,chrome_options=options)\n"
     ]
    },
    {
     "name": "stdout",
     "output_type": "stream",
     "text": [
      "\n",
      "\n",
      "[07/10/2021 11:19:59] Who is online\n",
      "In total there are 2 users online :: 2 registered and 0 hidden (based on users active over the past 15 minutes)\n",
      "Most users ever online was 14 on Wed Nov 21, 2018 10:23 am Statistics\n",
      "Total posts 184062 • Total topics 3132 • Total members 55 • Our newest member LilAnnyCat.\n",
      "\n",
      "\n"
     ]
    }
   ],
   "source": [
    "\n",
    "driver = webdriver.Chrome(executable_path=ChromeDriverManager().install() ,chrome_options=options) \n",
    "driver.get(\"\") \n",
    "stat = driver.find_element(By.XPATH, '//*[contains(@class, \"statistics\")]')\n",
    "who = driver.find_element(By.XPATH, '//*[contains(@class, \"online-list\")]')\n",
    "try:\n",
    "    now = datetime.now()\n",
    "    dt_string = now.strftime(\"%d/%m/%Y %H:%M:%S\")\n",
    "    stats = f'[{dt_string}] {who.text} {stat.text}\\n' \n",
    "except Exception as e:\n",
    "    print(e)\n",
    "finally: \n",
    "    driver.quit()\n",
    "\n",
    "with open(\"out.txt\", \"a\") as f:\n",
    "    f.write(f\"{ stats }\\n\")\n",
    "with open(\"out.txt\", \"r\") as f:\n",
    "    print ( f.read() ) "
   ]
  },
  {
   "cell_type": "code",
   "execution_count": 3,
   "metadata": {},
   "outputs": [],
   "source": [
    "base = \"https://washingtondc.craigslist.org/search/doc/sub?hasPic=1&bundleDuplicates=1&availabilityMode=0&rent_period=2&rent_period=3&sale_date=all+dates\"\n",
    " "
   ]
  },
  {
   "cell_type": "code",
   "execution_count": 4,
   "metadata": {},
   "outputs": [
    {
     "name": "stderr",
     "output_type": "stream",
     "text": [
      "\n",
      "\n",
      "====== WebDriver manager ======\n",
      "Current google-chrome version is 93.0.4577\n",
      "Get LATEST driver version for 93.0.4577\n",
      "There is no [win32] chromedriver for browser 93.0.4577 in cache\n",
      "Get LATEST driver version for 93.0.4577\n",
      "Trying to download new driver from https://chromedriver.storage.googleapis.com/93.0.4577.63/chromedriver_win32.zip\n",
      "Driver has been saved in cache [C:\\Users\\timko\\.wdm\\drivers\\chromedriver\\win32\\93.0.4577.63]\n",
      "<ipython-input-4-ae2a423823cd>:1: DeprecationWarning: use options instead of chrome_options\n",
      "  driver = webdriver.Chrome(executable_path=ChromeDriverManager().install() ,chrome_options=options)\n"
     ]
    }
   ],
   "source": [
    "driver = webdriver.Chrome(executable_path=ChromeDriverManager().install() ,chrome_options=options) \n",
    "driver.get(base) \n",
    "# driver.find_element(By.XPATH, '//div[contains(@id, \"piv-box\")]//a').click()  \n",
    "# driver.implicitly_wait(2)\n",
    "# driver.switch_to.alert.accept() "
   ]
  },
  {
   "cell_type": "code",
   "execution_count": 3,
   "metadata": {
    "scrolled": true
   },
   "outputs": [
    {
     "name": "stderr",
     "output_type": "stream",
     "text": [
      "\n",
      "\n",
      "====== WebDriver manager ======\n",
      "Current google-chrome version is 93.0.4577\n",
      "Get LATEST driver version for 93.0.4577\n",
      "There is no [win32] chromedriver for browser 93.0.4577 in cache\n",
      "Get LATEST driver version for 93.0.4577\n",
      "Trying to download new driver from https://chromedriver.storage.googleapis.com/93.0.4577.15/chromedriver_win32.zip\n",
      "Driver has been saved in cache [C:\\Users\\timko\\.wdm\\drivers\\chromedriver\\win32\\93.0.4577.15]\n",
      "<ipython-input-3-9b4a52df6f05>:1: DeprecationWarning: use options instead of chrome_options\n",
      "  driver = webdriver.Chrome(executable_path=ChromeDriverManager().install() ,chrome_options=options)\n",
      "<ipython-input-3-9b4a52df6f05>:4: DeprecationWarning: use driver.switch_to.window instead\n",
      "  driver.switch_to_window(driver.window_handles[ len(driver.window_handles)-1])\n"
     ]
    }
   ],
   "source": [
    "driver = webdriver.Chrome(executable_path=ChromeDriverManager().install() ,chrome_options=options) \n",
    "driver.get(base)\n",
    "driver.execute_script( 'window.open();')   \n",
    "driver.switch_to_window(driver.window_handles[ len(driver.window_handles)-1])\n",
    "driver.get(base)\n",
    "driver.find_element(By.XPATH, '//div[contains(@class, \"open-map-view-button\")]').click() "
   ]
  },
  {
   "cell_type": "code",
   "execution_count": null,
   "metadata": {},
   "outputs": [],
   "source": []
  }
 ],
 "metadata": {
  "interpreter": {
   "hash": "5ecbac8c226a054463cc020fa45cbf820e7d49ac7199c163081ea57c79aed41e"
  },
  "kernelspec": {
   "display_name": "Python 3",
   "language": "python",
   "name": "python3"
  },
  "language_info": {
   "codemirror_mode": {
    "name": "ipython",
    "version": 3
   },
   "file_extension": ".py",
   "mimetype": "text/x-python",
   "name": "python",
   "nbconvert_exporter": "python",
   "pygments_lexer": "ipython3",
   "version": "3.8.5"
  }
 },
 "nbformat": 4,
 "nbformat_minor": 4
}
