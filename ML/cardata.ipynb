{
 "cells": [
  {
   "cell_type": "code",
   "execution_count": 9,
   "id": "4a8c72ae",
   "metadata": {},
   "outputs": [
    {
     "name": "stdout",
     "output_type": "stream",
     "text": [
      "Name: scikit-learn\n",
      "Version: 0.24.1\n",
      "Summary: A set of python modules for machine learning and data mining\n",
      "Home-page: http://scikit-learn.org\n",
      "Author: None\n",
      "Author-email: None\n",
      "License: new BSD\n",
      "Location: c:\\users\\tim\\anaconda3\\lib\\site-packages\n",
      "Requires: joblib, threadpoolctl, scipy, numpy\n",
      "Required-by: \n",
      "Note: you may need to restart the kernel to use updated packages.\n"
     ]
    }
   ],
   "source": [
    "pip show scikit-learn "
   ]
  },
  {
   "cell_type": "code",
   "execution_count": 1,
   "id": "fdcd45b1",
   "metadata": {},
   "outputs": [],
   "source": [
    "import pandas as pd \n",
    "import numpy as np \n",
    "from matplotlib import pyplot as plt \n",
    "import seaborn as sns \n",
    "%matplotlib inline \n",
    "from sklearn.model_selection import train_test_split \n",
    "from sklearn.datasets import make_regression\n",
    "from sklearn.preprocessing import LabelEncoder \n",
    "from sklearn.preprocessing import StandardScaler\n",
    "\n",
    "from sklearn.decomposition import PCA\n",
    "\n",
    "from sklearn.linear_model import LinearRegression, Ridge, Lasso\n",
    "from sklearn.neighbors import KNeighborsRegressor\n",
    "from sklearn.neural_network import MLPRegressor\n",
    "from sklearn.svm import LinearSVR, SVR\n",
    "from sklearn.tree import DecisionTreeRegressor\n",
    "from sklearn.ensemble import RandomForestRegressor, GradientBoostingRegressor"
   ]
  },
  {
   "cell_type": "code",
   "execution_count": 2,
   "id": "060d8553",
   "metadata": {},
   "outputs": [
    {
     "data": {
      "text/html": [
       "<div>\n",
       "<style scoped>\n",
       "    .dataframe tbody tr th:only-of-type {\n",
       "        vertical-align: middle;\n",
       "    }\n",
       "\n",
       "    .dataframe tbody tr th {\n",
       "        vertical-align: top;\n",
       "    }\n",
       "\n",
       "    .dataframe thead th {\n",
       "        text-align: right;\n",
       "    }\n",
       "</style>\n",
       "<table border=\"1\" class=\"dataframe\">\n",
       "  <thead>\n",
       "    <tr style=\"text-align: right;\">\n",
       "      <th></th>\n",
       "      <th>make</th>\n",
       "      <th>model</th>\n",
       "      <th>year</th>\n",
       "      <th>engine_fuel_type</th>\n",
       "      <th>engine_hp</th>\n",
       "      <th>engine_cylinders</th>\n",
       "      <th>transmission_type</th>\n",
       "      <th>driven_wheels</th>\n",
       "      <th>number_of_doors</th>\n",
       "      <th>market_category</th>\n",
       "      <th>vehicle_size</th>\n",
       "      <th>vehicle_style</th>\n",
       "      <th>highway_mpg</th>\n",
       "      <th>city_mpg</th>\n",
       "      <th>popularity</th>\n",
       "      <th>msrp</th>\n",
       "    </tr>\n",
       "  </thead>\n",
       "  <tbody>\n",
       "    <tr>\n",
       "      <th>0</th>\n",
       "      <td>bmw</td>\n",
       "      <td>1_series_m</td>\n",
       "      <td>2011</td>\n",
       "      <td>premium_unleaded_(required)</td>\n",
       "      <td>335.0</td>\n",
       "      <td>6.0</td>\n",
       "      <td>manual</td>\n",
       "      <td>rear_wheel_drive</td>\n",
       "      <td>2.0</td>\n",
       "      <td>factory_tuner,luxury,high-performance</td>\n",
       "      <td>compact</td>\n",
       "      <td>coupe</td>\n",
       "      <td>26</td>\n",
       "      <td>19</td>\n",
       "      <td>3916</td>\n",
       "      <td>46135</td>\n",
       "    </tr>\n",
       "    <tr>\n",
       "      <th>1</th>\n",
       "      <td>bmw</td>\n",
       "      <td>1_series</td>\n",
       "      <td>2011</td>\n",
       "      <td>premium_unleaded_(required)</td>\n",
       "      <td>300.0</td>\n",
       "      <td>6.0</td>\n",
       "      <td>manual</td>\n",
       "      <td>rear_wheel_drive</td>\n",
       "      <td>2.0</td>\n",
       "      <td>luxury,performance</td>\n",
       "      <td>compact</td>\n",
       "      <td>convertible</td>\n",
       "      <td>28</td>\n",
       "      <td>19</td>\n",
       "      <td>3916</td>\n",
       "      <td>40650</td>\n",
       "    </tr>\n",
       "    <tr>\n",
       "      <th>2</th>\n",
       "      <td>bmw</td>\n",
       "      <td>1_series</td>\n",
       "      <td>2011</td>\n",
       "      <td>premium_unleaded_(required)</td>\n",
       "      <td>300.0</td>\n",
       "      <td>6.0</td>\n",
       "      <td>manual</td>\n",
       "      <td>rear_wheel_drive</td>\n",
       "      <td>2.0</td>\n",
       "      <td>luxury,high-performance</td>\n",
       "      <td>compact</td>\n",
       "      <td>coupe</td>\n",
       "      <td>28</td>\n",
       "      <td>20</td>\n",
       "      <td>3916</td>\n",
       "      <td>36350</td>\n",
       "    </tr>\n",
       "    <tr>\n",
       "      <th>3</th>\n",
       "      <td>bmw</td>\n",
       "      <td>1_series</td>\n",
       "      <td>2011</td>\n",
       "      <td>premium_unleaded_(required)</td>\n",
       "      <td>230.0</td>\n",
       "      <td>6.0</td>\n",
       "      <td>manual</td>\n",
       "      <td>rear_wheel_drive</td>\n",
       "      <td>2.0</td>\n",
       "      <td>luxury,performance</td>\n",
       "      <td>compact</td>\n",
       "      <td>coupe</td>\n",
       "      <td>28</td>\n",
       "      <td>18</td>\n",
       "      <td>3916</td>\n",
       "      <td>29450</td>\n",
       "    </tr>\n",
       "    <tr>\n",
       "      <th>4</th>\n",
       "      <td>bmw</td>\n",
       "      <td>1_series</td>\n",
       "      <td>2011</td>\n",
       "      <td>premium_unleaded_(required)</td>\n",
       "      <td>230.0</td>\n",
       "      <td>6.0</td>\n",
       "      <td>manual</td>\n",
       "      <td>rear_wheel_drive</td>\n",
       "      <td>2.0</td>\n",
       "      <td>luxury</td>\n",
       "      <td>compact</td>\n",
       "      <td>convertible</td>\n",
       "      <td>28</td>\n",
       "      <td>18</td>\n",
       "      <td>3916</td>\n",
       "      <td>34500</td>\n",
       "    </tr>\n",
       "  </tbody>\n",
       "</table>\n",
       "</div>"
      ],
      "text/plain": [
       "  make       model  year             engine_fuel_type  engine_hp  \\\n",
       "0  bmw  1_series_m  2011  premium_unleaded_(required)      335.0   \n",
       "1  bmw    1_series  2011  premium_unleaded_(required)      300.0   \n",
       "2  bmw    1_series  2011  premium_unleaded_(required)      300.0   \n",
       "3  bmw    1_series  2011  premium_unleaded_(required)      230.0   \n",
       "4  bmw    1_series  2011  premium_unleaded_(required)      230.0   \n",
       "\n",
       "   engine_cylinders transmission_type     driven_wheels  number_of_doors  \\\n",
       "0               6.0            manual  rear_wheel_drive              2.0   \n",
       "1               6.0            manual  rear_wheel_drive              2.0   \n",
       "2               6.0            manual  rear_wheel_drive              2.0   \n",
       "3               6.0            manual  rear_wheel_drive              2.0   \n",
       "4               6.0            manual  rear_wheel_drive              2.0   \n",
       "\n",
       "                         market_category vehicle_size vehicle_style  \\\n",
       "0  factory_tuner,luxury,high-performance      compact         coupe   \n",
       "1                     luxury,performance      compact   convertible   \n",
       "2                luxury,high-performance      compact         coupe   \n",
       "3                     luxury,performance      compact         coupe   \n",
       "4                                 luxury      compact   convertible   \n",
       "\n",
       "   highway_mpg  city_mpg  popularity   msrp  \n",
       "0           26        19        3916  46135  \n",
       "1           28        19        3916  40650  \n",
       "2           28        20        3916  36350  \n",
       "3           28        18        3916  29450  \n",
       "4           28        18        3916  34500  "
      ]
     },
     "execution_count": 2,
     "metadata": {},
     "output_type": "execute_result"
    }
   ],
   "source": [
    "df = pd.read_csv('cardata.csv') \n",
    "df.columns = df.columns.str.lower().str.replace(' ', '_')  \n",
    "string_columns = list(df.dtypes[df.dtypes == 'object'].index)  \n",
    "for col in string_columns:\n",
    "    df[col] = df[col].str.lower().str.replace(' ', '_')  \n",
    "df.head()\n"
   ]
  },
  {
   "cell_type": "code",
   "execution_count": 3,
   "id": "899875ed",
   "metadata": {
    "scrolled": true
   },
   "outputs": [
    {
     "data": {
      "text/html": [
       "<div>\n",
       "<style scoped>\n",
       "    .dataframe tbody tr th:only-of-type {\n",
       "        vertical-align: middle;\n",
       "    }\n",
       "\n",
       "    .dataframe tbody tr th {\n",
       "        vertical-align: top;\n",
       "    }\n",
       "\n",
       "    .dataframe thead th {\n",
       "        text-align: right;\n",
       "    }\n",
       "</style>\n",
       "<table border=\"1\" class=\"dataframe\">\n",
       "  <thead>\n",
       "    <tr style=\"text-align: right;\">\n",
       "      <th></th>\n",
       "      <th>engine_hp</th>\n",
       "      <th>engine_cylinders</th>\n",
       "      <th>number_of_doors</th>\n",
       "      <th>highway_mpg</th>\n",
       "      <th>city_mpg</th>\n",
       "      <th>popularity</th>\n",
       "      <th>msrp</th>\n",
       "      <th>make_acura</th>\n",
       "      <th>make_alfa_romeo</th>\n",
       "      <th>make_aston_martin</th>\n",
       "      <th>...</th>\n",
       "      <th>vehicle_style_convertible_suv</th>\n",
       "      <th>vehicle_style_coupe</th>\n",
       "      <th>vehicle_style_crew_cab_pickup</th>\n",
       "      <th>vehicle_style_extended_cab_pickup</th>\n",
       "      <th>vehicle_style_passenger_minivan</th>\n",
       "      <th>vehicle_style_passenger_van</th>\n",
       "      <th>vehicle_style_regular_cab_pickup</th>\n",
       "      <th>vehicle_style_sedan</th>\n",
       "      <th>vehicle_style_wagon</th>\n",
       "      <th>age</th>\n",
       "    </tr>\n",
       "  </thead>\n",
       "  <tbody>\n",
       "    <tr>\n",
       "      <th>0</th>\n",
       "      <td>335</td>\n",
       "      <td>6</td>\n",
       "      <td>2</td>\n",
       "      <td>26</td>\n",
       "      <td>19</td>\n",
       "      <td>3916</td>\n",
       "      <td>46135</td>\n",
       "      <td>0</td>\n",
       "      <td>0</td>\n",
       "      <td>0</td>\n",
       "      <td>...</td>\n",
       "      <td>0</td>\n",
       "      <td>1</td>\n",
       "      <td>0</td>\n",
       "      <td>0</td>\n",
       "      <td>0</td>\n",
       "      <td>0</td>\n",
       "      <td>0</td>\n",
       "      <td>0</td>\n",
       "      <td>0</td>\n",
       "      <td>6</td>\n",
       "    </tr>\n",
       "    <tr>\n",
       "      <th>1</th>\n",
       "      <td>300</td>\n",
       "      <td>6</td>\n",
       "      <td>2</td>\n",
       "      <td>28</td>\n",
       "      <td>19</td>\n",
       "      <td>3916</td>\n",
       "      <td>40650</td>\n",
       "      <td>0</td>\n",
       "      <td>0</td>\n",
       "      <td>0</td>\n",
       "      <td>...</td>\n",
       "      <td>0</td>\n",
       "      <td>0</td>\n",
       "      <td>0</td>\n",
       "      <td>0</td>\n",
       "      <td>0</td>\n",
       "      <td>0</td>\n",
       "      <td>0</td>\n",
       "      <td>0</td>\n",
       "      <td>0</td>\n",
       "      <td>6</td>\n",
       "    </tr>\n",
       "    <tr>\n",
       "      <th>2</th>\n",
       "      <td>300</td>\n",
       "      <td>6</td>\n",
       "      <td>2</td>\n",
       "      <td>28</td>\n",
       "      <td>20</td>\n",
       "      <td>3916</td>\n",
       "      <td>36350</td>\n",
       "      <td>0</td>\n",
       "      <td>0</td>\n",
       "      <td>0</td>\n",
       "      <td>...</td>\n",
       "      <td>0</td>\n",
       "      <td>1</td>\n",
       "      <td>0</td>\n",
       "      <td>0</td>\n",
       "      <td>0</td>\n",
       "      <td>0</td>\n",
       "      <td>0</td>\n",
       "      <td>0</td>\n",
       "      <td>0</td>\n",
       "      <td>6</td>\n",
       "    </tr>\n",
       "    <tr>\n",
       "      <th>3</th>\n",
       "      <td>230</td>\n",
       "      <td>6</td>\n",
       "      <td>2</td>\n",
       "      <td>28</td>\n",
       "      <td>18</td>\n",
       "      <td>3916</td>\n",
       "      <td>29450</td>\n",
       "      <td>0</td>\n",
       "      <td>0</td>\n",
       "      <td>0</td>\n",
       "      <td>...</td>\n",
       "      <td>0</td>\n",
       "      <td>1</td>\n",
       "      <td>0</td>\n",
       "      <td>0</td>\n",
       "      <td>0</td>\n",
       "      <td>0</td>\n",
       "      <td>0</td>\n",
       "      <td>0</td>\n",
       "      <td>0</td>\n",
       "      <td>6</td>\n",
       "    </tr>\n",
       "    <tr>\n",
       "      <th>4</th>\n",
       "      <td>230</td>\n",
       "      <td>6</td>\n",
       "      <td>2</td>\n",
       "      <td>28</td>\n",
       "      <td>18</td>\n",
       "      <td>3916</td>\n",
       "      <td>34500</td>\n",
       "      <td>0</td>\n",
       "      <td>0</td>\n",
       "      <td>0</td>\n",
       "      <td>...</td>\n",
       "      <td>0</td>\n",
       "      <td>0</td>\n",
       "      <td>0</td>\n",
       "      <td>0</td>\n",
       "      <td>0</td>\n",
       "      <td>0</td>\n",
       "      <td>0</td>\n",
       "      <td>0</td>\n",
       "      <td>0</td>\n",
       "      <td>6</td>\n",
       "    </tr>\n",
       "  </tbody>\n",
       "</table>\n",
       "<p>5 rows × 1081 columns</p>\n",
       "</div>"
      ],
      "text/plain": [
       "   engine_hp  engine_cylinders  number_of_doors  highway_mpg  city_mpg  \\\n",
       "0        335                 6                2           26        19   \n",
       "1        300                 6                2           28        19   \n",
       "2        300                 6                2           28        20   \n",
       "3        230                 6                2           28        18   \n",
       "4        230                 6                2           28        18   \n",
       "\n",
       "   popularity   msrp  make_acura  make_alfa_romeo  make_aston_martin  ...  \\\n",
       "0        3916  46135           0                0                  0  ...   \n",
       "1        3916  40650           0                0                  0  ...   \n",
       "2        3916  36350           0                0                  0  ...   \n",
       "3        3916  29450           0                0                  0  ...   \n",
       "4        3916  34500           0                0                  0  ...   \n",
       "\n",
       "   vehicle_style_convertible_suv  vehicle_style_coupe  \\\n",
       "0                              0                    1   \n",
       "1                              0                    0   \n",
       "2                              0                    1   \n",
       "3                              0                    1   \n",
       "4                              0                    0   \n",
       "\n",
       "   vehicle_style_crew_cab_pickup  vehicle_style_extended_cab_pickup  \\\n",
       "0                              0                                  0   \n",
       "1                              0                                  0   \n",
       "2                              0                                  0   \n",
       "3                              0                                  0   \n",
       "4                              0                                  0   \n",
       "\n",
       "   vehicle_style_passenger_minivan  vehicle_style_passenger_van  \\\n",
       "0                                0                            0   \n",
       "1                                0                            0   \n",
       "2                                0                            0   \n",
       "3                                0                            0   \n",
       "4                                0                            0   \n",
       "\n",
       "   vehicle_style_regular_cab_pickup  vehicle_style_sedan  vehicle_style_wagon  \\\n",
       "0                                 0                    0                    0   \n",
       "1                                 0                    0                    0   \n",
       "2                                 0                    0                    0   \n",
       "3                                 0                    0                    0   \n",
       "4                                 0                    0                    0   \n",
       "\n",
       "   age  \n",
       "0    6  \n",
       "1    6  \n",
       "2    6  \n",
       "3    6  \n",
       "4    6  \n",
       "\n",
       "[5 rows x 1081 columns]"
      ]
     },
     "execution_count": 3,
     "metadata": {},
     "output_type": "execute_result"
    }
   ],
   "source": [
    "cat_data = ['make', 'model', 'engine_fuel_type', 'transmission_type', 'driven_wheels','market_category', 'vehicle_size', 'vehicle_style']\n",
    "for col in cat_data: df[col] = df[col].fillna('')\n",
    "df = df.fillna(0)   \n",
    "for col in cat_data:\n",
    "    df = df.copy()\n",
    "    dummies = pd.get_dummies(df[col], prefix=col)\n",
    "    df = pd.concat([df, dummies], axis=1)\n",
    "    df = df.drop(col, axis=1) \n",
    "df['age'] = 2017 - df['year']\n",
    "del df['year']\n",
    "for col in df.columns:\n",
    "    df[col] = df[col].astype(int)\n",
    "df.head() \n"
   ]
  },
  {
   "cell_type": "code",
   "execution_count": 4,
   "id": "99b11b91",
   "metadata": {},
   "outputs": [
    {
     "data": {
      "text/plain": [
       "<seaborn.axisgrid.JointGrid at 0x1f32edd3970>"
      ]
     },
     "execution_count": 4,
     "metadata": {},
     "output_type": "execute_result"
    },
    {
     "data": {
      "image/png": "[encoded data removed]",
      "text/plain": [
       "<Figure size 432x432 with 3 Axes>"
      ]
     },
     "metadata": {
      "needs_background": "light"
     },
     "output_type": "display_data"
    }
   ],
   "source": [
    "\n",
    "sns.jointplot(data=df, x=\"engine_hp\", y=\"msrp\")"
   ]
  },
  {
   "cell_type": "code",
   "execution_count": 8,
   "id": "e57b50be",
   "metadata": {},
   "outputs": [
    {
     "data": {
      "text/plain": [
       "array([24572.86007354, 79451.62040141, 29458.29009549, ...,\n",
       "       68885.11491753, 26222.74407322, 17667.18223752])"
      ]
     },
     "execution_count": 8,
     "metadata": {},
     "output_type": "execute_result"
    }
   ],
   "source": [
    "df_train, df_test = train_test_split(df, test_size=0.33, random_state=40)\n",
    " "
   ]
  },
  {
   "cell_type": "code",
   "execution_count": 4,
   "id": "4e23831e",
   "metadata": {},
   "outputs": [
    {
     "data": {
      "text/plain": [
       "array([28515, 79645, 27995, ..., 58800, 24065, 16395])"
      ]
     },
     "execution_count": 4,
     "metadata": {},
     "output_type": "execute_result"
    }
   ],
   "source": [
    "\n",
    " \n",
    "y_train = df_train.msrp.values\n",
    "y_test = df_test.msrp.values\n",
    "del df_train['msrp'] \n",
    "del df_test['msrp'] \n",
    "\n",
    "scaler = StandardScaler()\n",
    "scaler.fit(df_train)\n",
    "\n",
    "df_train = pd.DataFrame(scaler.transform(df_train), index=df_train.index, columns=df_train.columns)\n",
    "df_test = pd.DataFrame(scaler.transform(df_test), index=df_test.index, columns=df_test.columns)\n",
    "\n",
    "X_test = df_test.values \n",
    "X_train = df_train.values  \n",
    "y_test"
   ]
  },
  {
   "cell_type": "code",
   "execution_count": null,
   "id": "bfb570bd",
   "metadata": {},
   "outputs": [],
   "source": [
    "models = {\n",
    "    \"                     Linear Regression\": LinearRegression(),\n",
    "    \" Linear Regression (L2 Regularization) Ridge\": Ridge(),\n",
    "    \" Linear Regression (L1 Regularization) Lasso\": Lasso(),\n",
    "    \"                   K-Nearest Neighbors\": KNeighborsRegressor(),\n",
    "    \"                        Neural Network\": MLPRegressor(), \n",
    "    \"                         Decision Tree\": DecisionTreeRegressor(),\n",
    "    \"                         Random Forest\": RandomForestRegressor(),\n",
    "    \"                     Gradient Boosting\": GradientBoostingRegressor()\n",
    "}\n",
    "for name, model in models.items():\n",
    "    model.fit(X_train, y_train)\n",
    "    print(name + \" trained.\") \n",
    "for name, model in models.items():\n",
    "    print(name + \" R^2 Score: {:.5f}\".format(model.score(X_test, y_test)))    "
   ]
  },
  {
   "cell_type": "code",
   "execution_count": 14,
   "id": "a8bc37cf",
   "metadata": {},
   "outputs": [
    {
     "name": "stdout",
     "output_type": "stream",
     "text": [
      "0.9687202248197432\n"
     ]
    },
    {
     "data": {
      "text/html": [
       "<div>\n",
       "<style scoped>\n",
       "    .dataframe tbody tr th:only-of-type {\n",
       "        vertical-align: middle;\n",
       "    }\n",
       "\n",
       "    .dataframe tbody tr th {\n",
       "        vertical-align: top;\n",
       "    }\n",
       "\n",
       "    .dataframe thead th {\n",
       "        text-align: right;\n",
       "    }\n",
       "</style>\n",
       "<table border=\"1\" class=\"dataframe\">\n",
       "  <thead>\n",
       "    <tr style=\"text-align: right;\">\n",
       "      <th></th>\n",
       "      <th>pred</th>\n",
       "      <th>act</th>\n",
       "      <th>err</th>\n",
       "    </tr>\n",
       "  </thead>\n",
       "  <tbody>\n",
       "    <tr>\n",
       "      <th>0</th>\n",
       "      <td>23294.658361</td>\n",
       "      <td>28515</td>\n",
       "      <td>-5220.341639</td>\n",
       "    </tr>\n",
       "    <tr>\n",
       "      <th>1</th>\n",
       "      <td>82165.854744</td>\n",
       "      <td>79645</td>\n",
       "      <td>2520.854744</td>\n",
       "    </tr>\n",
       "    <tr>\n",
       "      <th>2</th>\n",
       "      <td>29368.287321</td>\n",
       "      <td>27995</td>\n",
       "      <td>1373.287321</td>\n",
       "    </tr>\n",
       "    <tr>\n",
       "      <th>3</th>\n",
       "      <td>1939.019558</td>\n",
       "      <td>2000</td>\n",
       "      <td>-60.980442</td>\n",
       "    </tr>\n",
       "    <tr>\n",
       "      <th>4</th>\n",
       "      <td>17962.015547</td>\n",
       "      <td>22495</td>\n",
       "      <td>-4532.984453</td>\n",
       "    </tr>\n",
       "    <tr>\n",
       "      <th>...</th>\n",
       "      <td>...</td>\n",
       "      <td>...</td>\n",
       "      <td>...</td>\n",
       "    </tr>\n",
       "    <tr>\n",
       "      <th>3927</th>\n",
       "      <td>33181.561450</td>\n",
       "      <td>30130</td>\n",
       "      <td>3051.561450</td>\n",
       "    </tr>\n",
       "    <tr>\n",
       "      <th>3928</th>\n",
       "      <td>21272.055832</td>\n",
       "      <td>21890</td>\n",
       "      <td>-617.944168</td>\n",
       "    </tr>\n",
       "    <tr>\n",
       "      <th>3929</th>\n",
       "      <td>63530.853970</td>\n",
       "      <td>58800</td>\n",
       "      <td>4730.853970</td>\n",
       "    </tr>\n",
       "    <tr>\n",
       "      <th>3930</th>\n",
       "      <td>26459.376791</td>\n",
       "      <td>24065</td>\n",
       "      <td>2394.376791</td>\n",
       "    </tr>\n",
       "    <tr>\n",
       "      <th>3931</th>\n",
       "      <td>18690.117410</td>\n",
       "      <td>16395</td>\n",
       "      <td>2295.117410</td>\n",
       "    </tr>\n",
       "  </tbody>\n",
       "</table>\n",
       "<p>3932 rows × 3 columns</p>\n",
       "</div>"
      ],
      "text/plain": [
       "              pred    act          err\n",
       "0     23294.658361  28515 -5220.341639\n",
       "1     82165.854744  79645  2520.854744\n",
       "2     29368.287321  27995  1373.287321\n",
       "3      1939.019558   2000   -60.980442\n",
       "4     17962.015547  22495 -4532.984453\n",
       "...            ...    ...          ...\n",
       "3927  33181.561450  30130  3051.561450\n",
       "3928  21272.055832  21890  -617.944168\n",
       "3929  63530.853970  58800  4730.853970\n",
       "3930  26459.376791  24065  2394.376791\n",
       "3931  18690.117410  16395  2295.117410\n",
       "\n",
       "[3932 rows x 3 columns]"
      ]
     },
     "execution_count": 14,
     "metadata": {},
     "output_type": "execute_result"
    }
   ],
   "source": [
    "model = Ridge()\n",
    "model.fit(X_train, y_train)\n",
    "print(model.score(X_test, y_test))\n",
    "pred = model.predict(X_test)\n",
    "df_pred = pd.DataFrame({ 'pred': pred, 'act': y_test, 'err': pred-y_test  })\n",
    "df_pred"
   ]
  },
  {
   "cell_type": "code",
   "execution_count": 21,
   "id": "afca43e8",
   "metadata": {},
   "outputs": [
    {
     "data": {
      "text/plain": [
       "<seaborn.axisgrid.FacetGrid at 0x17e40460bb0>"
      ]
     },
     "execution_count": 21,
     "metadata": {},
     "output_type": "execute_result"
    },
    {
     "data": {
      "image/png": "[encoded data removed]",
      "text/plain": [
       "<Figure size 360x360 with 1 Axes>"
      ]
     },
     "metadata": {
      "needs_background": "light"
     },
     "output_type": "display_data"
    }
   ],
   "source": [
    "\n",
    "sns.displot(df_pred, x=\"err\", bins=20)"
   ]
  },
  {
   "cell_type": "code",
   "execution_count": null,
   "id": "3575f836",
   "metadata": {
    "scrolled": true
   },
   "outputs": [],
   "source": [
    "def label_encoding:\n",
    "    cat_data = ['make', 'model', 'engine_fuel_type', 'transmission_type', 'driven_wheels','market_category', 'vehicle_size', 'vehicle_style']\n",
    "    for col in cat_data:\n",
    "        df[col] = df[col].fillna('')\n",
    "    df = df.fillna(0)   \n",
    "    labelencoder = LabelEncoder()# Assigning numerical values and storing in another column\n",
    "    for c in cat_data:\n",
    "        df[c+'_cat'] = labelencoder.fit_transform(df[c])\n",
    "        del df[c]\n",
    "    df['age'] = 2017 - df['year']\n",
    "    del df['year']\n",
    "    for col in df.columns:\n",
    "        df[col] = df[col].astype(int)\n",
    "    df"
   ]
  },
  {
   "cell_type": "code",
   "execution_count": null,
   "id": "40df5259",
   "metadata": {
    "scrolled": true
   },
   "outputs": [],
   "source": [
    "#sns.distplot(df.msrp, kde=False)"
   ]
  },
  {
   "cell_type": "code",
   "execution_count": null,
   "id": "9cc573e3",
   "metadata": {},
   "outputs": [],
   "source": [
    "#sns.distplot(df.msrp[df.msrp < 100000], kde=False)"
   ]
  },
  {
   "cell_type": "code",
   "execution_count": null,
   "id": "cc7b1bd6",
   "metadata": {},
   "outputs": [],
   "source": [
    "#log_price = np.log1p(df.msrp)\n",
    "#sns.distplot(log_price, kde=False)"
   ]
  },
  {
   "cell_type": "code",
   "execution_count": null,
   "id": "92bdfd0f",
   "metadata": {},
   "outputs": [],
   "source": [
    "#df.isnull().sum()"
   ]
  },
  {
   "cell_type": "code",
   "execution_count": null,
   "id": "ca852d60",
   "metadata": {},
   "outputs": [],
   "source": [
    "df_train, df_test = train_test_split(df, test_size=0.2, random_state=32)\n",
    "y_train = df_train.msrp.values\n",
    "y_test = df_test.msrp.values\n",
    "del df_train['msrp'] \n",
    "del df_test['msrp']  \n",
    "X_test = df_test.values \n",
    "X_train = df_train.values  \n",
    "len(y_test)"
   ]
  },
  {
   "cell_type": "code",
   "execution_count": null,
   "id": "551c8bca",
   "metadata": {},
   "outputs": [],
   "source": [
    "models = {\n",
    "    \"                     Linear Regression\": LinearRegression(),\n",
    "    \" Linear Regression (L2 Regularization)\": Ridge(),\n",
    "    \" Linear Regression (L1 Regularization)\": Lasso(),\n",
    "    \"                   K-Nearest Neighbors\": KNeighborsRegressor(),\n",
    "    \"                        Neural Network\": MLPRegressor(),\n",
    "    \"Support Vector Machine (Linear Kernel)\": LinearSVR(),\n",
    "    \"   Support Vector Machine (RBF Kernel)\": SVR(),\n",
    "    \"                         Decision Tree\": DecisionTreeRegressor(),\n",
    "    \"                         Random Forest\": RandomForestRegressor(),\n",
    "    \"                     Gradient Boosting\": GradientBoostingRegressor()\n",
    "}\n",
    "for name, model in models.items():\n",
    "    model.fit(X_train, y_train)\n",
    "    print(name + \" trained.\")\n",
    "    \n",
    "for name, model in models.items():\n",
    "    print(name + \" R^2 Score: {:.5f}\".format(model.score(X_test, y_test)))    "
   ]
  },
  {
   "cell_type": "code",
   "execution_count": null,
   "id": "114ea08d",
   "metadata": {},
   "outputs": [],
   "source": []
  },
  {
   "cell_type": "code",
   "execution_count": null,
   "id": "f60a1705",
   "metadata": {},
   "outputs": [],
   "source": [
    "#X_train, y_train = make_regression(n_samples=2000, n_features=10, random_state=0, noise=4, bias=100.0)\n",
    "model = LinearRegression() \n",
    "model.fit(X_train, y_train) \n",
    "model.intercept_"
   ]
  },
  {
   "cell_type": "code",
   "execution_count": null,
   "id": "76fd09ae",
   "metadata": {},
   "outputs": [],
   "source": [
    "from sklearn.metrics import mean_squared_error, r2_score\n",
    "pred = model.predict(X_train) \n",
    "r2 = r2_score(y_train, pred) \n",
    "print(f\"R-squared (R2 ): {r2}\") "
   ]
  },
  {
   "cell_type": "code",
   "execution_count": null,
   "id": "fbecdbef",
   "metadata": {},
   "outputs": [],
   "source": [
    "df_train_full, df_test = train_test_split(df, test_size=0.2, random_state=1)"
   ]
  },
  {
   "cell_type": "code",
   "execution_count": null,
   "id": "4ffbd54f",
   "metadata": {},
   "outputs": [],
   "source": [
    "df_train, df_val = train_test_split(df_train_full, test_size=0.33, random_state=11)\n",
    "y_train = df_train.msrp.values\n",
    "y_val = df_val.msrp.values\n",
    "del df_train['msrp']\n",
    "del df_val['msrp'] \n",
    "del df_test['msrp'] "
   ]
  },
  {
   "cell_type": "code",
   "execution_count": null,
   "id": "e13bd809",
   "metadata": {},
   "outputs": [],
   "source": [
    "df_test"
   ]
  },
  {
   "cell_type": "code",
   "execution_count": null,
   "id": "36fdff96",
   "metadata": {},
   "outputs": [],
   "source": []
  },
  {
   "cell_type": "code",
   "execution_count": null,
   "id": "e412a3ad",
   "metadata": {},
   "outputs": [],
   "source": [
    "base = ['engine_hp', 'engine_cylinders', 'highway_mpg', 'city_mpg', 'popularity']\n",
    "df_num = df_train[base]"
   ]
  },
  {
   "cell_type": "code",
   "execution_count": null,
   "id": "3cf02f50",
   "metadata": {},
   "outputs": [],
   "source": [
    "df_num = df_num.fillna(0)\n",
    "df_num"
   ]
  },
  {
   "cell_type": "code",
   "execution_count": null,
   "id": "4b1e0990",
   "metadata": {
    "scrolled": true
   },
   "outputs": [],
   "source": [
    "X_train = df_num.values "
   ]
  },
  {
   "cell_type": "code",
   "execution_count": null,
   "id": "4a5d314d",
   "metadata": {},
   "outputs": [],
   "source": [
    "model = LinearRegression()\n",
    "reg = model.fit(X_train, y_train) \n",
    "reg.intercept_"
   ]
  },
  {
   "cell_type": "code",
   "execution_count": null,
   "id": "b21c3bf4",
   "metadata": {},
   "outputs": [],
   "source": [
    "y_pred = reg.predict()"
   ]
  },
  {
   "cell_type": "code",
   "execution_count": null,
   "id": "7323f39e",
   "metadata": {},
   "outputs": [],
   "source": [
    "sns.distplot(y_pred, label='pred')\n",
    "sns.distplot(y_train, label='y')\n",
    "plt.legend()"
   ]
  },
  {
   "cell_type": "code",
   "execution_count": null,
   "id": "934cb9a9",
   "metadata": {},
   "outputs": [],
   "source": []
  },
  {
   "cell_type": "code",
   "execution_count": null,
   "id": "166bf611",
   "metadata": {},
   "outputs": [],
   "source": []
  },
  {
   "cell_type": "code",
   "execution_count": null,
   "id": "50a208d2",
   "metadata": {},
   "outputs": [],
   "source": []
  }
 ],
 "metadata": {
  "kernelspec": {
   "display_name": "Python 3",
   "language": "python",
   "name": "python3"
  },
  "language_info": {
   "codemirror_mode": {
    "name": "ipython",
    "version": 3
   },
   "file_extension": ".py",
   "mimetype": "text/x-python",
   "name": "python",
   "nbconvert_exporter": "python",
   "pygments_lexer": "ipython3",
   "version": "3.8.8"
  }
 },
 "nbformat": 4,
 "nbformat_minor": 5
}
