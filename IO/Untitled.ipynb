{
 "cells": [
  {
   "cell_type": "code",
   "execution_count": 4,
   "metadata": {},
   "outputs": [],
   "source": [
    "# pip install pdfminer.six"
   ]
  },
  {
   "cell_type": "code",
   "execution_count": 3,
   "metadata": {},
   "outputs": [],
   "source": [
    "# pip install PyPDF2"
   ]
  },
  {
   "cell_type": "code",
   "execution_count": null,
   "metadata": {},
   "outputs": [],
   "source": [
    "def section_parse(s): \n",
    "    txt = re.sub(r\"(\\d{1,3}\\.\\d{1,3})\", r'\\n\\1', s)\n",
    "    txt = re.sub(r\"([A-Z]\\.)\", r'\\n\\n\\1\\n', txt)\n",
    "    return txt \n",
    "print ( section_parse('12.34') )"
   ]
  },
  {
   "cell_type": "code",
   "execution_count": 69,
   "metadata": {},
   "outputs": [
    {
     "ename": "NameError",
     "evalue": "name 'section_parse' is not defined",
     "output_type": "error",
     "traceback": [
      "\u001b[1;31m---------------------------------------------------------------------------\u001b[0m",
      "\u001b[1;31mNameError\u001b[0m                                 Traceback (most recent call last)",
      "\u001b[1;32m<ipython-input-69-a8b8ceabbfad>\u001b[0m in \u001b[0;36m<module>\u001b[1;34m\u001b[0m\n\u001b[0;32m     12\u001b[0m     \u001b[0mtxt\u001b[0m \u001b[1;33m=\u001b[0m \u001b[0mpageObj\u001b[0m\u001b[1;33m.\u001b[0m\u001b[0mextractText\u001b[0m\u001b[1;33m(\u001b[0m\u001b[1;33m)\u001b[0m\u001b[1;33m\u001b[0m\u001b[1;33m\u001b[0m\u001b[0m\n\u001b[0;32m     13\u001b[0m     \u001b[0mtxt\u001b[0m \u001b[1;33m=\u001b[0m \u001b[0mre\u001b[0m\u001b[1;33m.\u001b[0m\u001b[0msub\u001b[0m\u001b[1;33m(\u001b[0m\u001b[1;34m'\\n'\u001b[0m\u001b[1;33m,\u001b[0m \u001b[1;34m''\u001b[0m\u001b[1;33m,\u001b[0m \u001b[0mtxt\u001b[0m\u001b[1;33m)\u001b[0m\u001b[1;33m\u001b[0m\u001b[1;33m\u001b[0m\u001b[0m\n\u001b[1;32m---> 14\u001b[1;33m     \u001b[0mtxt\u001b[0m \u001b[1;33m=\u001b[0m \u001b[0msection_parse\u001b[0m\u001b[1;33m(\u001b[0m\u001b[0mtxt\u001b[0m\u001b[1;33m)\u001b[0m\u001b[1;33m\u001b[0m\u001b[1;33m\u001b[0m\u001b[0m\n\u001b[0m\u001b[0;32m     15\u001b[0m     \u001b[0mlst\u001b[0m\u001b[1;33m.\u001b[0m\u001b[0mappend\u001b[0m\u001b[1;33m(\u001b[0m\u001b[0mtxt\u001b[0m\u001b[1;33m)\u001b[0m\u001b[1;33m\u001b[0m\u001b[1;33m\u001b[0m\u001b[0m\n\u001b[0;32m     16\u001b[0m     \u001b[1;31m# print( txt )\u001b[0m\u001b[1;33m\u001b[0m\u001b[1;33m\u001b[0m\u001b[1;33m\u001b[0m\u001b[0m\n",
      "\u001b[1;31mNameError\u001b[0m: name 'section_parse' is not defined"
     ]
    }
   ],
   "source": [
    "import PyPDF2, re\n",
    "pdfFileObj = open(r'C:\\Users\\timko\\Documents\\House\\631D\\The_Lafayette_Bylaws.pdf', 'rb')\n",
    "pdfFileObj = open(r'C:\\Users\\timko\\Documents\\House\\631D\\Leases\\Sample Lease.pdf', 'rb')\n",
    " \n",
    "# creating a pdf reader object\n",
    "pdfReader = PyPDF2.PdfFileReader(pdfFileObj)\n",
    " \n",
    "# printing number of pages in pdf file\n",
    "lst = []\n",
    "for i in range(pdfReader.numPages):\n",
    "    pageObj = pdfReader.getPage(i)\n",
    "    txt = pageObj.extractText()\n",
    "    txt = re.sub('\\n', '', txt) \n",
    "    txt = section_parse(txt)\n",
    "    lst.append(txt)\n",
    "    # print( txt )\n",
    "\n",
    "pdfFileObj.close()"
   ]
  },
  {
   "cell_type": "code",
   "execution_count": 72,
   "metadata": {},
   "outputs": [],
   "source": [
    "lstt = []\n",
    "for i in range(len(lst)):\n",
    "    txt = section_parse(lst[i])  \n",
    "    lstt = txt\n",
    "    #print(txt)"
   ]
  },
  {
   "cell_type": "code",
   "execution_count": 68,
   "metadata": {},
   "outputs": [
    {
     "name": "stdout",
     "output_type": "stream",
     "text": [
      " LogLevel.Info: tacocat 1 \n",
      " LogLevel.Info: tacocat 1 \n",
      " LogLevel.Exception: tacocat 3 \n"
     ]
    }
   ],
   "source": [
    "from enum import Enum\n",
    "class LogLevel(Enum):\n",
    "     Info = 1\n",
    "     Warn = 2\n",
    "     Exception = 3\n",
    "\n",
    "class Logger:\n",
    "    def __init__(self):\n",
    "        self.__logs = []\n",
    "    def LogInfo(self, message):\n",
    "        self.__logs.append ({'LogLevel': LogLevel.Info.value, 'Message':message})  \n",
    "    def LogException(self, message):\n",
    "        self.__logs.append ({'LogLevel': LogLevel.Exception.value, 'Message':message})  \n",
    "    def GetLogs(self):\n",
    "        return self.__logs\n",
    "    def PrettyPrint(self, Level):\n",
    "        logs = [l for l in self.__logs if l['LogLevel'] >= Level.value ]\n",
    "        for d in logs:\n",
    "            print(f\" {LogLevel(d['LogLevel'])}: {d['Message']} \" )\n",
    " \n",
    " \n",
    "logger = Logger()\n",
    "logger.LogInfo('tacocat 1')\n",
    "logger.LogInfo('tacocat 1')\n",
    "logger.LogException('tacocat 3')\n",
    "logger.PrettyPrint(LogLevel.Info) "
   ]
  },
  {
   "cell_type": "code",
   "execution_count": 67,
   "metadata": {},
   "outputs": [
    {
     "name": "stdout",
     "output_type": "stream",
     "text": [
      "trying name 'd' is not defined\n",
      "finally\n"
     ]
    }
   ],
   "source": [
    "x = 100\n",
    "try:\n",
    "    x==d\n",
    "    print('trying')    \n",
    "except Exception as e:\n",
    "    print(f'trying {e}')          \n",
    "finally:\n",
    "    print('finally')     \n",
    "        "
   ]
  },
  {
   "cell_type": "code",
   "execution_count": null,
   "metadata": {},
   "outputs": [],
   "source": []
  }
 ],
 "metadata": {
  "kernelspec": {
   "display_name": "Python 3",
   "language": "python",
   "name": "python3"
  },
  "language_info": {
   "codemirror_mode": {
    "name": "ipython",
    "version": 3
   },
   "file_extension": ".py",
   "mimetype": "text/x-python",
   "name": "python",
   "nbconvert_exporter": "python",
   "pygments_lexer": "ipython3",
   "version": "3.8.5"
  }
 },
 "nbformat": 4,
 "nbformat_minor": 4
}
