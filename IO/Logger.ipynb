{
 "cells": [
  {
   "cell_type": "code",
   "execution_count": 100,
   "metadata": {},
   "outputs": [],
   "source": [
    "import json, time, re\n",
    "import pandas as pd\n",
    "from enum import Enum"
   ]
  },
  {
   "cell_type": "code",
   "execution_count": 91,
   "metadata": {},
   "outputs": [
    {
     "data": {
      "text/plain": [
       "'LogLevel.Info'"
      ]
     },
     "execution_count": 91,
     "metadata": {},
     "output_type": "execute_result"
    }
   ],
   "source": [
    "str(LogLevel(LogLevel.Info.value))"
   ]
  },
  {
   "cell_type": "code",
   "execution_count": 180,
   "metadata": {},
   "outputs": [],
   "source": [
    "class LogLevel(Enum):\n",
    "     Info = 10\n",
    "     Debug = 20\n",
    "     Warn = 30\n",
    "     Exception = 50\n",
    "\n",
    "class Logger:\n",
    "    __log = []\n",
    "    Verbose = False\n",
    "    def __init__(self, Level): \n",
    "        self.logLevel = Level \n",
    "        self.__log = []\n",
    "        self.time_init = time.time()\n",
    "        self.Verbose = False\n",
    "    def __get_log_item(self, loglevel, src, msg):\n",
    "        d = {}\n",
    "        d['level'] = str(LogLevel(loglevel))\n",
    "        d['severity'] = loglevel.value\n",
    "        d['time'] = self.__log_time()\n",
    "        d['source'] = src\n",
    "        d['message'] = msg\n",
    "        return d\n",
    "    def __log_time(self):\n",
    "        return str(round(time.time()-self.time_init, 2))\n",
    "    def LogInfo(self, source, message): \n",
    "        self.__log.append(self.__get_log_item(LogLevel.Info, source, message))  \n",
    "    def Debug(self, source, message):\n",
    "        d = self.__get_log_item(LogLevel.Debug, source, message)\n",
    "        self.__log.append(d) \n",
    "        if self.Verbose: \n",
    "            print(f\" ({d['time']}) {d['source']}: {d['message']} \")\n",
    "    def LogWarn(self, source, message):\n",
    "        self.__log.append(self.__get_log_item(LogLevel.Warn, source, message)) \n",
    "    def LogException(self, source, message):\n",
    "        self.__log.append(self.__get_log_item(LogLevel.Exception, source, message)) \n",
    "    def get_log(self):\n",
    "        logs = [ l for l in self.__log if l['severity'] >= self.logLevel.value ]\n",
    "        return logs  \n",
    "    def show(self): \n",
    "        for d in self.get_log():\n",
    "            print(f\" {LogLevel(d['severity'])}: {d['source']} {d['message']} ({d['time']}) \" )\n",
    "    def to_json(self, path):  \n",
    "        with open(f'{path}', \"w\") as f:\n",
    "            json.dump(self.get_log(), f, indent=4 )\n",
    " "
   ]
  },
  {
   "cell_type": "code",
   "execution_count": 182,
   "metadata": {},
   "outputs": [
    {
     "name": "stdout",
     "output_type": "stream",
     "text": [
      " (0.42) main: block complete \n"
     ]
    },
    {
     "data": {
      "text/html": [
       "<div>\n",
       "<style scoped>\n",
       "    .dataframe tbody tr th:only-of-type {\n",
       "        vertical-align: middle;\n",
       "    }\n",
       "\n",
       "    .dataframe tbody tr th {\n",
       "        vertical-align: top;\n",
       "    }\n",
       "\n",
       "    .dataframe thead th {\n",
       "        text-align: right;\n",
       "    }\n",
       "</style>\n",
       "<table border=\"1\" class=\"dataframe\">\n",
       "  <thead>\n",
       "    <tr style=\"text-align: right;\">\n",
       "      <th></th>\n",
       "      <th>level</th>\n",
       "      <th>severity</th>\n",
       "      <th>time</th>\n",
       "      <th>source</th>\n",
       "      <th>message</th>\n",
       "    </tr>\n",
       "  </thead>\n",
       "  <tbody>\n",
       "    <tr>\n",
       "      <th>0</th>\n",
       "      <td>LogLevel.Info</td>\n",
       "      <td>10</td>\n",
       "      <td>0.0</td>\n",
       "      <td>main</td>\n",
       "      <td>trying</td>\n",
       "    </tr>\n",
       "    <tr>\n",
       "      <th>1</th>\n",
       "      <td>LogLevel.Info</td>\n",
       "      <td>10</td>\n",
       "      <td>0.0</td>\n",
       "      <td>main</td>\n",
       "      <td>open connection</td>\n",
       "    </tr>\n",
       "    <tr>\n",
       "      <th>2</th>\n",
       "      <td>LogLevel.Warn</td>\n",
       "      <td>30</td>\n",
       "      <td>0.0</td>\n",
       "      <td>main</td>\n",
       "      <td>warning</td>\n",
       "    </tr>\n",
       "    <tr>\n",
       "      <th>3</th>\n",
       "      <td>LogLevel.Exception</td>\n",
       "      <td>50</td>\n",
       "      <td>0.22</td>\n",
       "      <td>main</td>\n",
       "      <td>Exception name 'err' is not defined</td>\n",
       "    </tr>\n",
       "    <tr>\n",
       "      <th>4</th>\n",
       "      <td>LogLevel.Info</td>\n",
       "      <td>10</td>\n",
       "      <td>0.22</td>\n",
       "      <td>main</td>\n",
       "      <td>close connection</td>\n",
       "    </tr>\n",
       "    <tr>\n",
       "      <th>5</th>\n",
       "      <td>LogLevel.Debug</td>\n",
       "      <td>20</td>\n",
       "      <td>0.42</td>\n",
       "      <td>main</td>\n",
       "      <td>block complete</td>\n",
       "    </tr>\n",
       "  </tbody>\n",
       "</table>\n",
       "</div>"
      ],
      "text/plain": [
       "                level  severity  time source  \\\n",
       "0       LogLevel.Info        10   0.0   main   \n",
       "1       LogLevel.Info        10   0.0   main   \n",
       "2       LogLevel.Warn        30   0.0   main   \n",
       "3  LogLevel.Exception        50  0.22   main   \n",
       "4       LogLevel.Info        10  0.22   main   \n",
       "5      LogLevel.Debug        20  0.42   main   \n",
       "\n",
       "                               message  \n",
       "0                               trying  \n",
       "1                      open connection  \n",
       "2                              warning  \n",
       "3  Exception name 'err' is not defined  \n",
       "4                     close connection  \n",
       "5                       block complete  "
      ]
     },
     "execution_count": 182,
     "metadata": {},
     "output_type": "execute_result"
    }
   ],
   "source": [
    "logger = Logger(LogLevel.Info)  \n",
    "logger.Verbose = True\n",
    "logger.LogInfo('main','trying')\n",
    "\n",
    "try: \n",
    "    logger.LogInfo('main','open connection')\n",
    "    logger.LogWarn('main','warning') \n",
    "    time.sleep(.20)\n",
    "    err  \n",
    "except Exception as e:\n",
    "    logger.LogException('main',f'Exception {e}')          \n",
    "finally: \n",
    "    logger.LogInfo('main','close connection')     \n",
    "    \n",
    "time.sleep(.20) \n",
    "logger.Debug('main', f'block complete'  )\n",
    " \n",
    "logger.to_json(r'C:\\\\temp\\\\log.json')\n",
    "df = pd.DataFrame(logger.get_log() )\n",
    "df\n"
   ]
  },
  {
   "cell_type": "code",
   "execution_count": null,
   "metadata": {},
   "outputs": [],
   "source": []
  },
  {
   "cell_type": "code",
   "execution_count": null,
   "metadata": {},
   "outputs": [],
   "source": []
  }
 ],
 "metadata": {
  "kernelspec": {
   "display_name": "Python 3",
   "language": "python",
   "name": "python3"
  },
  "language_info": {
   "codemirror_mode": {
    "name": "ipython",
    "version": 3
   },
   "file_extension": ".py",
   "mimetype": "text/x-python",
   "name": "python",
   "nbconvert_exporter": "python",
   "pygments_lexer": "ipython3",
   "version": "3.8.5"
  }
 },
 "nbformat": 4,
 "nbformat_minor": 4
}
