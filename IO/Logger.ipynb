{
 "cells": [
  {
   "cell_type": "code",
   "execution_count": null,
   "metadata": {},
   "outputs": [],
   "source": [
    "import json, time, re\n",
    "from enum import Enum"
   ]
  },
  {
   "cell_type": "code",
   "execution_count": null,
   "metadata": {},
   "outputs": [],
   "source": [
    "\n",
    "class LogLevel(Enum):\n",
    "     Info = 1\n",
    "     Warn = 2\n",
    "     Exception = 3\n",
    "\n",
    "class Logger:\n",
    "    def __init__(self, Level):\n",
    "        self.__logs = []\n",
    "        self.__LogLevel = Level\n",
    "    def LogInfo(self, message):\n",
    "        self.__logs.append ({'LogLevel': LogLevel.Info.value, 'Message':message})  \n",
    "    def LogWarn(self, message):\n",
    "        self.__logs.append ({'LogLevel': LogLevel.Warn.value, 'Message':message}) \n",
    "    def LogException(self, message):\n",
    "        self.__logs.append ({'LogLevel': LogLevel.Exception.value, 'Message':message})  \n",
    "    def get_log(self):\n",
    "        logs = [l for l in self.__logs if l['LogLevel'] >= self.__LogLevel.value ]\n",
    "        return logs  \n",
    "    def PrettyPrint(self): \n",
    "        for d in self.get_log():\n",
    "            print(f\" {LogLevel(d['LogLevel'])}: {d['Message']} \" )\n",
    "    def to_json(self, path):  \n",
    "         with open(f'{path}', 'w') as f:\n",
    "            json.dump(self.get_log(), f)"
   ]
  },
  {
   "cell_type": "code",
   "execution_count": 25,
   "metadata": {},
   "outputs": [
    {
     "name": "stdout",
     "output_type": "stream",
     "text": [
      " LogLevel.Info: trying \n",
      " LogLevel.Info: open connection \n",
      " LogLevel.Warn: warning \n",
      " LogLevel.Exception: Exception name 'err' is not defined \n",
      " LogLevel.Info: connection closed \n",
      "0.2571704387664795\n"
     ]
    }
   ],
   "source": [
    "\n",
    "s = time.time()\n",
    "time.sleep(.25)\n",
    "\n",
    "logger = Logger(LogLevel.Info) \n",
    "logger.LogInfo('trying')\n",
    "try: \n",
    "    logger.LogInfo('open connection')\n",
    "    logger.LogWarn('warning')\n",
    "    err    \n",
    "except Exception as e:\n",
    "    logger.LogException(f'Exception {e}')          \n",
    "finally: \n",
    "    logger.LogInfo('connection closed')     \n",
    "        \n",
    "logger.PrettyPrint()     \n",
    "logger.to_json('C:\\\\temp\\\\log.json')\n",
    "\n",
    "e = time.time()\n",
    "print(e-s)\n"
   ]
  },
  {
   "cell_type": "code",
   "execution_count": null,
   "metadata": {},
   "outputs": [],
   "source": []
  }
 ],
 "metadata": {
  "kernelspec": {
   "display_name": "Python 3",
   "language": "python",
   "name": "python3"
  },
  "language_info": {
   "codemirror_mode": {
    "name": "ipython",
    "version": 3
   },
   "file_extension": ".py",
   "mimetype": "text/x-python",
   "name": "python",
   "nbconvert_exporter": "python",
   "pygments_lexer": "ipython3",
   "version": "3.8.5"
  }
 },
 "nbformat": 4,
 "nbformat_minor": 4
}
