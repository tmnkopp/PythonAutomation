{
 "cells": [
  {
   "cell_type": "code",
   "execution_count": 23,
   "metadata": {},
   "outputs": [],
   "source": [
    "import re, subprocess, pyodbc \n",
    "import numpy as np # linear algebra \n",
    "from sqlalchemy import func, create_engine\n",
    "from config import mongoConn, connstr  \n",
    "import pandas as pd\n",
    "from faker import Faker\n",
    "fake = Faker()"
   ]
  },
  {
   "cell_type": "code",
   "execution_count": null,
   "metadata": {},
   "outputs": [],
   "source": []
  },
  {
   "cell_type": "code",
   "execution_count": 11,
   "metadata": {
    "scrolled": true
   },
   "outputs": [
    {
     "data": {
      "text/plain": [
       "'70.233.135.81'"
      ]
     },
     "execution_count": 11,
     "metadata": {},
     "output_type": "execute_result"
    }
   ],
   "source": [
    "def getip(): \n",
    "    return f\"{np.random.randint(1, 255)}.{np.random.randint(1, 255)}.{np.random.randint(1, 255)}.{np.random.randint(1, 255)}\"\n",
    "getip()"
   ]
  },
  {
   "cell_type": "code",
   "execution_count": 16,
   "metadata": {},
   "outputs": [
    {
     "name": "stdout",
     "output_type": "stream",
     "text": [
      "d['Name'] = getip()\n",
      "d['ISP'] = getip()\n",
      "d['OtherISP'] = getip()\n",
      "d['ExternalOrg'] = getip()\n",
      "d['Visible'] = getip()\n",
      "d['StartingIP'] = getip()\n",
      "d['EndingIP'] = getip()\n",
      "d['TIC_MTIPS'] = getip()\n"
     ]
    }
   ],
   "source": [
    "engine = create_engine(connstr)\n",
    "conn = engine.connect()\n",
    "query = \"\"\" \\\n",
    "SELECT TOP 1 * FROM EinsteinPublicIP \n",
    "\"\"\"  \n",
    "df = pd.read_sql(query,con=conn)  \n",
    "df.drop('PK_EinsteinPublicIP', axis=1, inplace=True)\n",
    "df.drop('PK_OrgSubmission', axis=1, inplace=True)\n",
    "df.drop('UserId', axis=1, inplace=True)\n",
    "df.drop('isActive', axis=1, inplace=True)\n",
    "df.drop('DateDeactivated', axis=1, inplace=True)\n",
    "for c in df.columns:\n",
    "    print(f\"d['{c}'] = '{getip()}'\"  )\n",
    "\n",
    " "
   ]
  },
  {
   "cell_type": "code",
   "execution_count": 36,
   "metadata": {},
   "outputs": [],
   "source": [
    "lst = []\n",
    "ln = 20000\n",
    "for i in range(ln):\n",
    "    d={}\n",
    "    d['StartingIP'] = getip()\n",
    "    d['EndingIP'] = getip()    \n",
    "    d['Name_Purpose'] = getip()\n",
    "    d['ISP'] = 'IBM' \n",
    "    d['OtherISP'] = 'Other'\n",
    "    d['External_Organization'] = fake.address()[:25]\n",
    "    d['TIC_MTIPS'] = 'TIC'\n",
    "    d['Visible'] = 'Yes' \n",
    "    lst.append(d)\n",
    "df=pd.DataFrame(lst)\n",
    "df.to_excel(fr'c:\\temp\\EinsteinPublicIP_{ln}.xlsx', index=False)    \n"
   ]
  },
  {
   "cell_type": "code",
   "execution_count": 31,
   "metadata": {},
   "outputs": [],
   "source": []
  },
  {
   "cell_type": "code",
   "execution_count": null,
   "metadata": {},
   "outputs": [],
   "source": []
  }
 ],
 "metadata": {
  "kernelspec": {
   "display_name": "Python 3",
   "language": "python",
   "name": "python3"
  },
  "language_info": {
   "codemirror_mode": {
    "name": "ipython",
    "version": 3
   },
   "file_extension": ".py",
   "mimetype": "text/x-python",
   "name": "python",
   "nbconvert_exporter": "python",
   "pygments_lexer": "ipython3",
   "version": "3.8.8"
  }
 },
 "nbformat": 4,
 "nbformat_minor": 4
}
