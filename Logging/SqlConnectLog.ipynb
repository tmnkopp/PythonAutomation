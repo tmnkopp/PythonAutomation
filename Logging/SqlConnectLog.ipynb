{
 "cells": [
  {
   "cell_type": "code",
   "execution_count": 4,
   "source": [
    "import pandas as pd \r\n",
    "from sqlalchemy import func, create_engine\r\n",
    "from config import connstr\r\n",
    "from pylog import Logger, LogLevel\r\n"
   ],
   "outputs": [],
   "metadata": {}
  },
  {
   "cell_type": "code",
   "execution_count": 40,
   "source": [
    "logger = Logger(level=LogLevel.Info, debug=True)\r\n",
    "logger.LogInfo('main', 'begin')\r\n",
    "\r\n",
    "engine = create_engine(connstr)\r\n",
    "conn = engine.connect() \r\n",
    "sql = \"\"\" \\\r\n",
    "\r\n",
    "SELECT TOP 10 * FROM AuditLog\r\n",
    "UNION ALL\r\n",
    "SELECT TOP 10  * FROM AuditLog\r\n",
    "\"\"\" \r\n",
    " \r\n",
    "try: \r\n",
    "    logger.LogInfo('main', f'{sql}') \r\n",
    "    df = pd.read_sql(sql,con=conn)  \r\n",
    "    logger.LogInfo('main', f'{ len(df) } records read')\r\n",
    "except Exception as e:\r\n",
    "    logger.LogException('main', f'{e}')\r\n",
    "finally: \r\n",
    "    conn.close()\r\n",
    "\r\n",
    "logger.LogInfo('main', 'end')"
   ],
   "outputs": [],
   "metadata": {}
  },
  {
   "cell_type": "code",
   "execution_count": 41,
   "source": [
    "logger.ShowLog()\r\n",
    "# logger.to_txt(r'~\\\\sql.txt')"
   ],
   "outputs": [
    {
     "output_type": "stream",
     "name": "stdout",
     "text": [
      "[main LogLevel.Info 0.001s:0.001s] begin\n",
      "[main LogLevel.Info 0.0148s:0.0158s]  \n",
      "SELECT TOP 10 * FROM AuditLog\n",
      "UNION ALL\n",
      "SELECT TOP 10  * FROM AuditLog\n",
      "\n",
      "[main LogLevel.Info 0.015s:0.0308s] 20 records read\n",
      "[main LogLevel.Info 0.001s:0.0318s] end\n",
      "\n"
     ]
    }
   ],
   "metadata": {}
  },
  {
   "cell_type": "code",
   "execution_count": 43,
   "source": [
    "dff = df.loc[ df.PK_AuditLog == 739090 ] \r\n"
   ],
   "outputs": [],
   "metadata": {}
  }
 ],
 "metadata": {
  "kernelspec": {
   "name": "python3",
   "display_name": "Python 3.8.8 64-bit ('base': conda)"
  },
  "language_info": {
   "codemirror_mode": {
    "name": "ipython",
    "version": 3
   },
   "file_extension": ".py",
   "mimetype": "text/x-python",
   "name": "python",
   "nbconvert_exporter": "python",
   "pygments_lexer": "ipython3",
   "version": "3.8.8"
  },
  "interpreter": {
   "hash": "995efa93ae3765c2302cfbf3fe27e0eb0766ff14c0e61346faf18c86c7d5327d"
  }
 },
 "nbformat": 4,
 "nbformat_minor": 4
}