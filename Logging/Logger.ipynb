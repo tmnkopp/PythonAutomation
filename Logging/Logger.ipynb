{
 "cells": [
  {
   "cell_type": "code",
   "execution_count": 1,
   "source": [
    "import time\r\n",
    "import pandas as pd\r\n",
    "from pylog import Logger, LogLevel"
   ],
   "outputs": [],
   "metadata": {}
  },
  {
   "cell_type": "code",
   "execution_count": 2,
   "source": [
    "logger = Logger(level=LogLevel.Info, debug=True)    \r\n",
    "logger.LogInfo('main','open connection')\r\n",
    "time.sleep(.2)\r\n",
    "try:  \r\n",
    "    logger.LogWarn('main','warning') \r\n",
    "    time.sleep(.012)\r\n",
    "    err  \r\n",
    "except Exception as e:\r\n",
    "    time.sleep(.02) \r\n",
    "    logger.LogException('main',f'Exception {e}')    \r\n",
    "finally: \r\n",
    "    time.sleep(.1) \r\n",
    "    logger.LogInfo('main','close connection')      \r\n",
    "time.sleep(.02) \r\n",
    "logger.LogDebug('main', f'block complete'  )\r\n",
    " \r\n",
    "logger.to_json(r'~\\\\log.json')\r\n",
    "logger.to_txt(r'~\\\\log.txt')\r\n",
    "logger.ShowLog() \r\n",
    "df = pd.DataFrame(logger.GetLogged()) \r\n",
    " "
   ],
   "outputs": [
    {
     "output_type": "stream",
     "name": "stdout",
     "text": [
      "DEBUG: (0.0324s) main: block complete \n",
      " LogLevel.Info: main open connection (0.001s) \n",
      " LogLevel.Warn: main warning (0.2095s) \n",
      " LogLevel.Exception: main Exception name 'err' is not defined (0.0463s) \n",
      " LogLevel.Info: main close connection (0.1102s) \n",
      " LogLevel.Debug: main block complete (0.0324s) \n"
     ]
    }
   ],
   "metadata": {}
  },
  {
   "cell_type": "code",
   "execution_count": null,
   "source": [],
   "outputs": [],
   "metadata": {}
  },
  {
   "cell_type": "code",
   "execution_count": null,
   "source": [],
   "outputs": [],
   "metadata": {}
  }
 ],
 "metadata": {
  "kernelspec": {
   "name": "python3",
   "display_name": "Python 3.8.5 64-bit ('base': conda)"
  },
  "language_info": {
   "codemirror_mode": {
    "name": "ipython",
    "version": 3
   },
   "file_extension": ".py",
   "mimetype": "text/x-python",
   "name": "python",
   "nbconvert_exporter": "python",
   "pygments_lexer": "ipython3",
   "version": "3.8.5"
  },
  "interpreter": {
   "hash": "5ecbac8c226a054463cc020fa45cbf820e7d49ac7199c163081ea57c79aed41e"
  }
 },
 "nbformat": 4,
 "nbformat_minor": 4
}