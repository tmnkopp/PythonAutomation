{
 "cells": [
  {
   "cell_type": "code",
   "execution_count": 1,
   "source": [
    "import time\r\n",
    "import pandas as pd\r\n",
    "from pylog import Logger, LogLevel"
   ],
   "outputs": [],
   "metadata": {}
  },
  {
   "cell_type": "code",
   "execution_count": 2,
   "source": [
    "logger = Logger(LogLevel.Info)   \r\n",
    "logger.LogInfo('main','trying')\r\n",
    "time.sleep(.2)\r\n",
    "try: \r\n",
    "    logger.LogInfo('main','open connection') \r\n",
    "    logger.LogWarn('main','warning') \r\n",
    "    time.sleep(.12)\r\n",
    "    err  \r\n",
    "except Exception as e:\r\n",
    "    time.sleep(.2) \r\n",
    "    logger.LogException('main',f'Exception {e}')          \r\n",
    "finally: \r\n",
    "    time.sleep(.42) \r\n",
    "    logger.LogInfo('main','close connection')     \r\n",
    "    \r\n",
    "time.sleep(.20) \r\n",
    "logger.Debug('main', f'block complete'  )\r\n",
    " \r\n",
    "logger.to_json(r'C:\\\\temp\\\\log.json')\r\n",
    "logger.ShowLog()\r\n",
    "\r\n",
    "df = pd.DataFrame(logger.GetLog())\r\n",
    "df\r\n",
    " "
   ],
   "outputs": [
    {
     "output_type": "stream",
     "name": "stdout",
     "text": [
      "DEBUG: (0.2031) main: block complete \n",
      " LogLevel.Info: main trying (0.0) \n",
      " LogLevel.Info: main open connection (0.2008) \n",
      " LogLevel.Warn: main warning (0.0) \n",
      " LogLevel.Exception: main Exception name 'err' is not defined (0.3276) \n",
      " LogLevel.Info: main close connection (0.4201) \n",
      " LogLevel.Debug: main block complete (0.2031) \n"
     ]
    },
    {
     "output_type": "execute_result",
     "data": {
      "text/html": [
       "<div>\n",
       "<style scoped>\n",
       "    .dataframe tbody tr th:only-of-type {\n",
       "        vertical-align: middle;\n",
       "    }\n",
       "\n",
       "    .dataframe tbody tr th {\n",
       "        vertical-align: top;\n",
       "    }\n",
       "\n",
       "    .dataframe thead th {\n",
       "        text-align: right;\n",
       "    }\n",
       "</style>\n",
       "<table border=\"1\" class=\"dataframe\">\n",
       "  <thead>\n",
       "    <tr style=\"text-align: right;\">\n",
       "      <th></th>\n",
       "      <th>level</th>\n",
       "      <th>severity</th>\n",
       "      <th>elapsed</th>\n",
       "      <th>runtime</th>\n",
       "      <th>source</th>\n",
       "      <th>message</th>\n",
       "    </tr>\n",
       "  </thead>\n",
       "  <tbody>\n",
       "    <tr>\n",
       "      <th>0</th>\n",
       "      <td>LogLevel.Info</td>\n",
       "      <td>10</td>\n",
       "      <td>0.0</td>\n",
       "      <td>0.0</td>\n",
       "      <td>main</td>\n",
       "      <td>trying</td>\n",
       "    </tr>\n",
       "    <tr>\n",
       "      <th>1</th>\n",
       "      <td>LogLevel.Info</td>\n",
       "      <td>10</td>\n",
       "      <td>0.2008</td>\n",
       "      <td>0.2008</td>\n",
       "      <td>main</td>\n",
       "      <td>open connection</td>\n",
       "    </tr>\n",
       "    <tr>\n",
       "      <th>2</th>\n",
       "      <td>LogLevel.Warn</td>\n",
       "      <td>30</td>\n",
       "      <td>0.2008</td>\n",
       "      <td>0.0</td>\n",
       "      <td>main</td>\n",
       "      <td>warning</td>\n",
       "    </tr>\n",
       "    <tr>\n",
       "      <th>3</th>\n",
       "      <td>LogLevel.Exception</td>\n",
       "      <td>50</td>\n",
       "      <td>0.5284</td>\n",
       "      <td>0.3276</td>\n",
       "      <td>main</td>\n",
       "      <td>Exception name 'err' is not defined</td>\n",
       "    </tr>\n",
       "    <tr>\n",
       "      <th>4</th>\n",
       "      <td>LogLevel.Info</td>\n",
       "      <td>10</td>\n",
       "      <td>0.9486</td>\n",
       "      <td>0.4201</td>\n",
       "      <td>main</td>\n",
       "      <td>close connection</td>\n",
       "    </tr>\n",
       "    <tr>\n",
       "      <th>5</th>\n",
       "      <td>LogLevel.Debug</td>\n",
       "      <td>90</td>\n",
       "      <td>1.1517</td>\n",
       "      <td>0.2031</td>\n",
       "      <td>main</td>\n",
       "      <td>block complete</td>\n",
       "    </tr>\n",
       "  </tbody>\n",
       "</table>\n",
       "</div>"
      ],
      "text/plain": [
       "                level  severity elapsed runtime source  \\\n",
       "0       LogLevel.Info        10     0.0     0.0   main   \n",
       "1       LogLevel.Info        10  0.2008  0.2008   main   \n",
       "2       LogLevel.Warn        30  0.2008     0.0   main   \n",
       "3  LogLevel.Exception        50  0.5284  0.3276   main   \n",
       "4       LogLevel.Info        10  0.9486  0.4201   main   \n",
       "5      LogLevel.Debug        90  1.1517  0.2031   main   \n",
       "\n",
       "                               message  \n",
       "0                               trying  \n",
       "1                      open connection  \n",
       "2                              warning  \n",
       "3  Exception name 'err' is not defined  \n",
       "4                     close connection  \n",
       "5                       block complete  "
      ]
     },
     "metadata": {},
     "execution_count": 2
    }
   ],
   "metadata": {}
  },
  {
   "cell_type": "code",
   "execution_count": null,
   "source": [],
   "outputs": [],
   "metadata": {}
  },
  {
   "cell_type": "code",
   "execution_count": null,
   "source": [],
   "outputs": [],
   "metadata": {}
  }
 ],
 "metadata": {
  "kernelspec": {
   "name": "python3",
   "display_name": "Python 3.8.5 64-bit ('base': conda)"
  },
  "language_info": {
   "codemirror_mode": {
    "name": "ipython",
    "version": 3
   },
   "file_extension": ".py",
   "mimetype": "text/x-python",
   "name": "python",
   "nbconvert_exporter": "python",
   "pygments_lexer": "ipython3",
   "version": "3.8.5"
  },
  "interpreter": {
   "hash": "5ecbac8c226a054463cc020fa45cbf820e7d49ac7199c163081ea57c79aed41e"
  }
 },
 "nbformat": 4,
 "nbformat_minor": 4
}