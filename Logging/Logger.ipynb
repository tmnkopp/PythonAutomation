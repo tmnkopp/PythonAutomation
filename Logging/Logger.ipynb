{
 "cells": [
  {
   "cell_type": "code",
   "execution_count": 9,
   "source": [
    "import time\r\n",
    "import pandas as pd\r\n",
    "from pylog import Logger, LogLevel"
   ],
   "outputs": [],
   "metadata": {}
  },
  {
   "cell_type": "code",
   "execution_count": 10,
   "source": [
    "logger = Logger(level=LogLevel.Info, debug=True)    \r\n",
    "logger.LogInfo('main','open connection')\r\n",
    "time.sleep(.2)\r\n",
    "try:  \r\n",
    "    logger.LogWarn('main','warning') \r\n",
    "    time.sleep(.012)\r\n",
    "    err  \r\n",
    "except Exception as e:\r\n",
    "    time.sleep(.02) \r\n",
    "    logger.LogException('main',f'Exception {e}')    \r\n",
    "finally: \r\n",
    "    time.sleep(.1) \r\n",
    "    logger.LogInfo('main','close connection')        \r\n",
    "    \r\n",
    "logger.LogDebug('init_conn', f'block init_conn complete'  )\r\n",
    "\r\n",
    "logger.to_json(r'~\\\\log.json')\r\n",
    "logger.to_txt(r'~\\\\log.txt')\r\n",
    "logger.ShowLog() \r\n",
    "df = pd.DataFrame(logger.GetLogged()) \r\n",
    "df "
   ],
   "outputs": [
    {
     "output_type": "stream",
     "name": "stdout",
     "text": [
      "DEBUG: (0.0s) init_conn: block init_conn complete \n",
      "True\n",
      "[main LogLevel.Info 0.001s:0.001s] open connection\n",
      "[main LogLevel.Warn 0.2062s:0.2072s] warning\n",
      "[main LogLevel.Exception 0.0452s:0.2524s] Exception name 'err' is not defined\n",
      "[main LogLevel.Info 0.1117s:0.3641s] close connection\n",
      "[init_conn LogLevel.Debug 0.0s:0.3641s] block init_conn complete\n",
      "\n"
     ]
    },
    {
     "output_type": "execute_result",
     "data": {
      "text/html": [
       "<div>\n",
       "<style scoped>\n",
       "    .dataframe tbody tr th:only-of-type {\n",
       "        vertical-align: middle;\n",
       "    }\n",
       "\n",
       "    .dataframe tbody tr th {\n",
       "        vertical-align: top;\n",
       "    }\n",
       "\n",
       "    .dataframe thead th {\n",
       "        text-align: right;\n",
       "    }\n",
       "</style>\n",
       "<table border=\"1\" class=\"dataframe\">\n",
       "  <thead>\n",
       "    <tr style=\"text-align: right;\">\n",
       "      <th></th>\n",
       "      <th>level</th>\n",
       "      <th>severity</th>\n",
       "      <th>elapsed</th>\n",
       "      <th>runtime</th>\n",
       "      <th>source</th>\n",
       "      <th>message</th>\n",
       "    </tr>\n",
       "  </thead>\n",
       "  <tbody>\n",
       "    <tr>\n",
       "      <th>0</th>\n",
       "      <td>LogLevel.Info</td>\n",
       "      <td>10</td>\n",
       "      <td>0.0010</td>\n",
       "      <td>0.0010</td>\n",
       "      <td>main</td>\n",
       "      <td>open connection</td>\n",
       "    </tr>\n",
       "    <tr>\n",
       "      <th>1</th>\n",
       "      <td>LogLevel.Warn</td>\n",
       "      <td>30</td>\n",
       "      <td>0.2072</td>\n",
       "      <td>0.2062</td>\n",
       "      <td>main</td>\n",
       "      <td>warning</td>\n",
       "    </tr>\n",
       "    <tr>\n",
       "      <th>2</th>\n",
       "      <td>LogLevel.Exception</td>\n",
       "      <td>50</td>\n",
       "      <td>0.2524</td>\n",
       "      <td>0.0452</td>\n",
       "      <td>main</td>\n",
       "      <td>Exception name 'err' is not defined</td>\n",
       "    </tr>\n",
       "    <tr>\n",
       "      <th>3</th>\n",
       "      <td>LogLevel.Info</td>\n",
       "      <td>10</td>\n",
       "      <td>0.3641</td>\n",
       "      <td>0.1117</td>\n",
       "      <td>main</td>\n",
       "      <td>close connection</td>\n",
       "    </tr>\n",
       "    <tr>\n",
       "      <th>4</th>\n",
       "      <td>LogLevel.Debug</td>\n",
       "      <td>20</td>\n",
       "      <td>0.3641</td>\n",
       "      <td>0.0000</td>\n",
       "      <td>init_conn</td>\n",
       "      <td>block init_conn complete</td>\n",
       "    </tr>\n",
       "  </tbody>\n",
       "</table>\n",
       "</div>"
      ],
      "text/plain": [
       "                level  severity  elapsed  runtime     source  \\\n",
       "0       LogLevel.Info        10   0.0010   0.0010       main   \n",
       "1       LogLevel.Warn        30   0.2072   0.2062       main   \n",
       "2  LogLevel.Exception        50   0.2524   0.0452       main   \n",
       "3       LogLevel.Info        10   0.3641   0.1117       main   \n",
       "4      LogLevel.Debug        20   0.3641   0.0000  init_conn   \n",
       "\n",
       "                               message  \n",
       "0                      open connection  \n",
       "1                              warning  \n",
       "2  Exception name 'err' is not defined  \n",
       "3                     close connection  \n",
       "4             block init_conn complete  "
      ]
     },
     "metadata": {},
     "execution_count": 10
    }
   ],
   "metadata": {}
  },
  {
   "cell_type": "code",
   "execution_count": 11,
   "source": [
    "log = logger.GetLogged() "
   ],
   "outputs": [],
   "metadata": {}
  },
  {
   "cell_type": "code",
   "execution_count": 12,
   "source": [
    "\r\n",
    "d = [{k:v for k,v in d.items() if k=='message'} for d in log if d['runtime'] > 0] \r\n",
    "d "
   ],
   "outputs": [
    {
     "output_type": "execute_result",
     "data": {
      "text/plain": [
       "[{'message': 'open connection'},\n",
       " {'message': 'warning'},\n",
       " {'message': \"Exception name 'err' is not defined\"},\n",
       " {'message': 'close connection'}]"
      ]
     },
     "metadata": {},
     "execution_count": 12
    }
   ],
   "metadata": {}
  },
  {
   "cell_type": "code",
   "execution_count": null,
   "source": [],
   "outputs": [],
   "metadata": {}
  }
 ],
 "metadata": {
  "kernelspec": {
   "name": "python3",
   "display_name": "Python 3.8.5 64-bit ('base': conda)"
  },
  "language_info": {
   "codemirror_mode": {
    "name": "ipython",
    "version": 3
   },
   "file_extension": ".py",
   "mimetype": "text/x-python",
   "name": "python",
   "nbconvert_exporter": "python",
   "pygments_lexer": "ipython3",
   "version": "3.8.5"
  },
  "interpreter": {
   "hash": "5ecbac8c226a054463cc020fa45cbf820e7d49ac7199c163081ea57c79aed41e"
  }
 },
 "nbformat": 4,
 "nbformat_minor": 4
}