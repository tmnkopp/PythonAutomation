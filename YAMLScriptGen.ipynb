{
 "cells": [
  {
   "cell_type": "code",
   "execution_count": 1,
   "metadata": {},
   "outputs": [],
   "source": [
    "from CodeGenerators import codegen\n",
    "import json, subprocess, re, pyodbc, os\n",
    "from sqlalchemy import func, create_engine\n",
    "import numpy as np # linear algebra \n",
    "from config import mongoConn, connstr\n",
    "import nltk\n",
    "from nltk.corpus import stopwords\n",
    "sw=stopwords.words('english')\n",
    "from nltk.stem.porter import PorterStemmer\n",
    "ps=PorterStemmer()\n",
    "import pandas as pd "
   ]
  },
  {
   "cell_type": "code",
   "execution_count": 79,
   "metadata": {},
   "outputs": [],
   "source": [
    "engine = create_engine(connstr)\n",
    "conn = engine.connect() \n",
    "query = \"\"\" \\\n",
    "\tSELECT DISTINCT PK_FORM, Report_Year, FK_ReportingCycle, Description AS TAB, FORM_Description AS FDESC   \n",
    "    FROM fsma_FormMaster \n",
    "    INNER JOIN fsma_ReportingCycles ON fsma_FormMaster.FK_ReportingCycle = fsma_ReportingCycles.PK_ReportingCycle \n",
    "    WHERE Report_Year >= 2019 \n",
    "    ORDER BY FK_ReportingCycle DESC \n",
    "\"\"\" \n",
    "df = pd.read_sql(query,con=conn)     \n",
    "conn.close()"
   ]
  },
  {
   "cell_type": "code",
   "execution_count": 80,
   "metadata": {},
   "outputs": [],
   "source": [
    "with open(r\"D:\\dev\\CyberScope\\CyberScopeBranch\\CSwebdev\\test\\bom\\config.yaml\") as f: \n",
    "    tpl = f.read()   \n",
    "for i, r in df.iterrows():  \n",
    "    c = tpl\n",
    "    PK_FORM = re.sub('-','_',r.PK_FORM)\n",
    "    c = c.replace('#PK_FORM', PK_FORM)\n",
    "    c = c.replace('#TAB', re.sub('/','.*',r.TAB))\n",
    "    c = c.replace('FDESC', re.sub('-','_',r.FDESC)) \n",
    "    with open(f\"D:\\\\dev\\\\CyberScope\\\\CyberScopeBranch\\\\CSwebdev\\\\test\\\\bom\\\\init\\\\{PK_FORM}.yaml\", \"w+\") as f: \n",
    "        f.write(c)"
   ]
  },
  {
   "cell_type": "code",
   "execution_count": 77,
   "metadata": {},
   "outputs": [],
   "source": [
    "# df.head(100)"
   ]
  },
  {
   "cell_type": "code",
   "execution_count": null,
   "metadata": {},
   "outputs": [],
   "source": []
  }
 ],
 "metadata": {
  "kernelspec": {
   "display_name": "Python 3",
   "language": "python",
   "name": "python3"
  },
  "language_info": {
   "codemirror_mode": {
    "name": "ipython",
    "version": 3
   },
   "file_extension": ".py",
   "mimetype": "text/x-python",
   "name": "python",
   "nbconvert_exporter": "python",
   "pygments_lexer": "ipython3",
   "version": "3.8.8"
  }
 },
 "nbformat": 4,
 "nbformat_minor": 4
}
