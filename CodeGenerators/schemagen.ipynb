{
 "cells": [
  {
   "cell_type": "code",
   "execution_count": 15,
   "metadata": {},
   "outputs": [],
   "source": [
    "import pandas as pd\n",
    "import numpy as np \n",
    "import re, json, os , logging , random, subprocess\n",
    "from lib.config import connstr\n",
    "from lib.context import context\n",
    "from lib.utils import * \n",
    "from lib.picklist_recommender import picklist_recommender\n",
    "from lib.issue_provider import issue_provider\n",
    "from lib.questionnaire_parser import questionnaire_parser\n",
    "from lib.questionnaire_picklist_parser import questionnaire_picklist_parser\n",
    "from lib.script_generator import script_generator   \n",
    "import nltk\n",
    "from nltk.corpus import stopwords  \n",
    "from nltk.stem import PorterStemmer\n",
    "ps = PorterStemmer()\n",
    "sw=stopwords.words('english') \n",
    "ctx=context() \n",
    "ctx.logger.setLevel(logging.DEBUG)\n",
    "config = {}\n",
    "with open('config.json', 'r') as f: \n",
    "    config=json.loads(f.read())    \n",
    "ctx.config=config \n",
    "import warnings\n",
    "warnings.filterwarnings('ignore')\n",
    "\n",
    "#df, code = generate_code_from_db(ctx, qgroup=4028)"
   ]
  },
  {
   "cell_type": "code",
   "execution_count": 22,
   "metadata": {},
   "outputs": [
    {
     "data": {
      "text/plain": [
       "'{\\n                      \"agency-dashboard-fmshrc\":  {\\n                                                                      \"status\":  \"successful\",\\n                                                                      \"indices\":  \"cdm_hwam_current\",\\n                                                                      \"took\":  1,\\n                                                                      \"timed_out\":  false,\\n                                                                      \"_shards\":  {\\n                                                                                      \"total\":  1,\\n                                                                                      \"successful\":  1,\\n                                                                                      \"skipped\":  0,\\n                                                                                      \"failed\":  0\\n                                                                                  }\\n                                                                  },\\n                                      \"agency-dashboard-oshrc\":  {\\n                                                                     \"status\":  \"successful\",\\n                                                                     \"indices\":  \"cdm_hwam_current\",\\n                                                                     \"took\":  1,\\n                                                                     \"timed_out\":  false,\\n                                                                     \"_shards\":  {\\n                                                                                     \"total\":  1,\\n                                                                                     \"successful\":  1,\\n                                                                                     \"skipped\":  0,\\n                                                                                     \"failed\":  0\\n                                                                                 }\\n                                                                 },\\n           \\n    \"hits\":  {\\n                 \"total\":  {\\n                               \"value\":  667,\\n                               \"relation\":  \"eq\"\\n                           },\\n                 \"max_score\":  null,\\n                 \"hits\":  [\\n\\n                          ]\\n             },\\n    \"aggregations\":  {\\n                         \"0\":  {\\n                                   \"doc_count_error_upper_bound\":  0,\\n                                   \"sum_other_doc_count\":  0,\\n                                   \"buckets\":  [\\n                                                   {\\n                                                       \"key\":  \"DOL\",\\n                                                       \"doc_count\":  10,\\n                                                       \"MODERATE\":  {\\n                                                                        \"doc_count\":  0,\\n                                                                        \"1.1.6.1-MODERATE\":  {\\n                                                                                                 \"value\":  0\\n                                                                                             }\\n                                                                    },\\n                                                       \"HIGH\":  {\\n                                                                    \"doc_count\":  0,\\n                                                                    \"1.1.6.1-HIGH\":  {\\n                                                                                         \"value\":  0\\n                                                                                     }\\n                                                                },\\n                                                       \"LOW\":  {\\n                                                                   \"doc_count\":  0,\\n                                                                   \"1.1.6.1-LOW\":  {\\n                                                                                       \"value\":  0\\n                                                                                   }\\n                                                               },\\n                                                       \"UNKNOWN\":  {\\n                                                                       \"doc_count\":  10,\\n                                                                       \"1.1.6.1-UNKNOWN\":  {\\n                                                                                               \"value\":  1\\n                                                                                           }\\n                                                                   }\\n                                                   },\\n                                                   {\\n                                                       \"key\":  \"NRC\",\\n                                                       \"doc_count\":  145,\\n                                                       \"MODERATE\":  {\\n                                                                        \"doc_count\":  143,\\n                                                                        \"1.1.6.1-MODERATE\":  {\\n                                                                                                 \"value\":  1\\n                                                                                             }\\n                                                                    },\\n                                                       \"HIGH\":  {\\n                                                                    \"doc_count\":  0,\\n                                                                    \"1.1.6.1-HIGH\":  {\\n                                                                                         \"value\":  0\\n                                                                                     }\\n                                                                },\\n                                                       \"LOW\":  {\\n                                                                   \"doc_count\":  2,\\n                                                                   \"1.1.6.1-LOW\":  {\\n                                                                                       \"value\":  1\\n                                                                                   }\\n                                                               },\\n                                                       \"UNKNOWN\":  {\\n                                                                       \"doc_count\":  0,\\n                                                                       \"1.1.6.1-UNKNOWN\":  {\\n                                                                                               \"value\":  0\\n                                                                                           }\\n                                                                   }\\n                                                   },\\n                                                   {\\n                                                       \"key\":  \"TVA\",\\n                                                       \"doc_count\":  467,\\n                                                       \"MODERATE\":  {\\n                                                                        \"doc_count\":  0,\\n                                                                        \"1.1.6.1-MODERATE\":  {\\n                                                                                                 \"value\":  0\\n                                                                                             }\\n                                                                    },\\n                                                       \"HIGH\":  {\\n                                                                    \"doc_count\":  370,\\n                                                                    \"1.1.6.1-HIGH\":  {\\n                                                                                         \"value\":  1\\n                                                                                     }\\n                                                                },\\n                                                       \"LOW\":  {\\n                                                                   \"doc_count\":  0,\\n                                                                   \"1.1.6.1-LOW\":  {\\n                                                                                       \"value\":  0\\n                                                                                   }\\n                                                               },\\n                                                       \"UNKNOWN\":  {\\n                                                                       \"doc_count\":  97,\\n                                                                       \"1.1.6.1-UNKNOWN\":  {\\n                                                                                               \"value\":  1\\n                                                                                           }\\n                                                                   }\\n                                                   },\\n                                                   {\\n                                                       \"key\":  \"USAID\",\\n                                                       \"doc_count\":  45,\\n                                                       \"MODERATE\":  {\\n                                                                        \"doc_count\":  0,\\n                                                                        \"1.1.6.1-MODERATE\":  {\\n                                                                                                 \"value\":  0\\n                                                                                             }\\n                                                                    },\\n                                                       \"HIGH\":  {\\n                                                                    \"doc_count\":  0,\\n                                                                    \"1.1.6.1-HIGH\":  {\\n                                                                                         \"value\":  0\\n                                                                                     }\\n                                                                },\\n                                                       \"LOW\":  {\\n                                                                   \"doc_count\":  0,\\n                                                                   \"1.1.6.1-LOW\":  {\\n                                                                                       \"value\":  0\\n                                                                                   }\\n                                                               },\\n                                                       \"UNKNOWN\":  {\\n                                                                       \"doc_count\":  45,\\n                                                                       \"1.1.6.1-UNKNOWN\":  {\\n                                                                                               \"value\":  1\\n                                                                                           }\\n                                                                   }\\n                                                   }\\n                                               ]\\n                               }\\n                     }\\n}\\n'"
      ]
     },
     "execution_count": 22,
     "metadata": {},
     "output_type": "execute_result"
    }
   ],
   "source": [
    "path=f'C:\\dev\\CyberScopeNextGen\\CyberBalance.Scheduler\\Server\\Core\\PowerShell\\PowerShellScripts\\GetCDMJsonData_FISMA_1.1.6.2_withtest.ps1'\n",
    "o = subprocess.run(['powershell','-ExecutionPolicy', 'Unrestricted', '-command', path,\"-IsDev\", '$True'], capture_output=True, text=True)\n",
    "o.stdout"
   ]
  },
  {
   "cell_type": "code",
   "execution_count": 26,
   "metadata": {},
   "outputs": [
    {
     "name": "stdout",
     "output_type": "stream",
     "text": [
      "\tAssert.Equal(\"DOL\", item.Agency);\n",
      "\tAssert.Equal(\"0\", item.MODERATE);\n",
      "\tAssert.Equal(\"0\", item.LOW);\n",
      "\tAssert.Equal(\"0\", item.HIGH);\n",
      "\tAssert.Equal(\"1\", item.UNKNOWN);\n",
      "}, item => {\n",
      "\tAssert.Equal(\"NRC\", item.Agency);\n",
      "\tAssert.Equal(\"1\", item.MODERATE);\n",
      "\tAssert.Equal(\"1\", item.LOW);\n",
      "\tAssert.Equal(\"0\", item.HIGH);\n",
      "\tAssert.Equal(\"0\", item.UNKNOWN);\n",
      "}, item => {\n",
      "\tAssert.Equal(\"TVA\", item.Agency);\n",
      "\tAssert.Equal(\"0\", item.MODERATE);\n",
      "\tAssert.Equal(\"0\", item.LOW);\n",
      "\tAssert.Equal(\"1\", item.HIGH);\n",
      "\tAssert.Equal(\"1\", item.UNKNOWN);\n",
      "}, item => {\n",
      "\tAssert.Equal(\"USAID\", item.Agency);\n",
      "\tAssert.Equal(\"0\", item.MODERATE);\n",
      "\tAssert.Equal(\"0\", item.LOW);\n",
      "\tAssert.Equal(\"0\", item.HIGH);\n",
      "\tAssert.Equal(\"1\", item.UNKNOWN);\n",
      "}, item => {\n"
     ]
    }
   ],
   "source": [
    "parse = json.loads(o.stdout)\n",
    "buckets=parse['aggregations']['0']['buckets']\n",
    "for b in buckets:\n",
    "     agency=b['key']\n",
    "     m=b['MODERATE']['1.1.6.2-MODERATE']['value']\n",
    "     h=b['HIGH']['1.1.6.2-HIGH']['value']\n",
    "     l=b['LOW']['1.1.6.2-LOW']['value']\n",
    "     u=b['UNKNOWN']['1.1.6.2-UNKNOWN']['value']\n",
    "     print(f'\\tAssert.Equal(\"{agency}\", item.Agency);')\n",
    "     print(f'\\tAssert.Equal(\"{m}\", item.MODERATE);')\n",
    "     print(f'\\tAssert.Equal(\"{l}\", item.LOW);')\n",
    "     print(f'\\tAssert.Equal(\"{h}\", item.HIGH);')\n",
    "     print(f'\\tAssert.Equal(\"{u}\", item.UNKNOWN);')\n",
    "     print('}, item => {')\n"
   ]
  },
  {
   "cell_type": "code",
   "execution_count": null,
   "metadata": {},
   "outputs": [],
   "source": []
  },
  {
   "cell_type": "code",
   "execution_count": null,
   "metadata": {},
   "outputs": [],
   "source": [
    "df=sql_todf(\"\"\"\n",
    "SELECT EMAIL_CODE, EMAIL_DESCRIPTION, RecipientDescription FROM EMAIL_MASTER WHERE EMAIL_CODE LIKE '%23%'\n",
    "\"\"\", ctx.connstr())\n",
    "df['RecipientDescription']=df['RecipientDescription'].apply(lambda s: re.sub('<.*>','',s))\n",
    "df\n",
    "df.to_csv(r'c:\\temp\\emails.csv', index=False)\n",
    "\n"
   ]
  },
  {
   "cell_type": "code",
   "execution_count": null,
   "metadata": {},
   "outputs": [],
   "source": [
    "lst = [\n",
    " 'Subcomponent / Bureau / OpDiv'\n",
    ",'System Name'\n",
    ",'System Description'\n",
    ",'FISMA Categorization YN'\n",
    ",'System ID (Optional)'\n",
    ",'High Value Asset ID (Optional)'\n",
    ",'MFA Implemented? YN'\n",
    ",'Does this system have sensitive data? YN'\n",
    ",'Encryption of Sensitive Data at Rest (DAR) Implemented? YN'\n",
    ",'Compensating Controls currently in place and operating effectively'\n",
    ",'Reason for Non-Compliance'\n",
    ",'Has a POA&M or set of POA&Ms been created to achieve compliance with these specific requirements? YN'\n",
    ",'Expected Date to resolve MFA POA&M'\n",
    ",'Expected Date to resolve DAR POA&M'\n",
    ",'Expected Date to Resolve DIT POA&M' \n",
    "] "
   ]
  },
  {
   "cell_type": "code",
   "execution_count": null,
   "metadata": {},
   "outputs": [],
   "source": [
    "sql=\"\"\"\n",
    "SELECT COLUMN_NAME\n",
    "  FROM INFORMATION_SCHEMA.COLUMNS\n",
    " WHERE TABLE_NAME LIKE '%2302' --AND (ORDINAL_POSITION > 9 AND ORDINAL_POSITION < 19)\n",
    "ORDER BY ORDINAL_POSITION ASC\n",
    "\"\"\"\n",
    "df=sql_todf(sql, connstr)   \n",
    "df"
   ]
  },
  {
   "cell_type": "code",
   "execution_count": null,
   "metadata": {},
   "outputs": [],
   "source": [
    "frm=\"\"\"\n",
    "            DECLARE @COLUMN_NAME INT =  (SELECT COLUMN_NAME FROM BOD2302 WHERE PK_BOD2302=@PK_BOD2302) \"\"\"\n",
    "frm=\"\"\"\n",
    "\t\t\tIF (SELECT COLUMN_NAME FROM BOD2302 WHERE PK_BOD2302=@PK_BOD2302) = NULL\n",
    "\t\t\tBEGIN\n",
    "\t\t\t\tINSERT INTO  @ErrorHolder \t\t\n",
    "\t\t\t\tSELECT 56500, 'Response is required for COLUMN_CAPTION row ' + @UniqueIdPoamId + ' ' AS Error\n",
    "\t\t\tEND\"\"\" \n",
    "\n",
    "s='' \n",
    "for i,r in df.iterrows():\n",
    "    s=s+frm.replace('COLUMN_NAME', r['COLUMN_NAME']).replace('COLUMN_CAPTION', r['COLUMN_CAPTION'])  \n",
    "print(s)"
   ]
  },
  {
   "cell_type": "code",
   "execution_count": null,
   "metadata": {},
   "outputs": [],
   "source": [
    "sheet=pd.read_excel(r'C:\\Users\\timko\\Downloads\\MFA.xlsx', sheet_name='CyberScope Inventory-Template', header=1, usecols='A:Z').reset_index()"
   ]
  },
  {
   "cell_type": "code",
   "execution_count": null,
   "metadata": {},
   "outputs": [],
   "source": [
    "sheet_cols = sheet.columns[1:]\n",
    "sheet_cols"
   ]
  },
  {
   "cell_type": "code",
   "execution_count": null,
   "metadata": {},
   "outputs": [],
   "source": [
    "cols = []\n",
    "for c in lst: \n",
    "    s=c.split(' ')\n",
    "    s=' '.join([w for w in s if not w.lower() in sw])\n",
    "    s=' '.join([s.title() for s in s.split(' ')])\n",
    "    s=re.sub('[^A-Za-z\\s]','',s) \n",
    "    s=re.sub('[^A-Za-z]','',s)\n",
    "    s=re.sub('PoaM','POAM',s) \n",
    "    s=re.sub('Mfa','MFA',s) \n",
    "    s=re.sub('DataRestDarImplemented|OperatingEffectively|SpecificRequirements','',s) \n",
    "    r=f\",{s} NVARCHAR(4000) NULL\"\n",
    "    if 'date' in s.lower(): \n",
    "        r=f\",{s} DATETIME NULL\"\n",
    "    if 'yn' in s.lower(): \n",
    "        r=f\",{s} INT NULL\"\n",
    "    r=re.sub('Yn','',r) \n",
    "    cols.append()\n",
    "    print(r)"
   ]
  },
  {
   "cell_type": "code",
   "execution_count": null,
   "metadata": {},
   "outputs": [],
   "source": [
    "ep=\"\"\"EXECUTE sp_addextendedproperty @name = N'PicklistTypes.UsageType',@level0type = N'SCHEMA',@level0name = 'dbo',@level1type = N'Table', @level1name = 'BOD2302',@level2type = 'Column' \n",
    ",@level2name = 'COLUMN_NAME',@value = 'YN'; \n",
    "\"\"\"\n",
    "\n",
    "ep=\"\"\"EXECUTE sp_addextendedproperty @name = N'Control.Type',@level0type = N'SCHEMA',@level0name = 'dbo',@level1type = N'Table', @level1name = 'BOD2302',@level2type = 'Column' \n",
    ",@level2name = 'COLUMN_NAME',@value = 'RadTextBox'; \n",
    "\"\"\"\n",
    "\n",
    "\n",
    "tmp=\"\"\"const _COLUMN_NAME = $find($(`div[id$=_COLUMN_NAME]`).attr('id'));\"\"\"\n",
    "tmp=\"\"\"const _COLUMN_NAME = $find($(`div[id$=_COLUMN_NAME]`).attr('id'));\"\"\"\n"
   ]
  },
  {
   "cell_type": "code",
   "execution_count": null,
   "metadata": {},
   "outputs": [],
   "source": [
    "df= "
   ]
  },
  {
   "cell_type": "code",
   "execution_count": null,
   "metadata": {},
   "outputs": [],
   "source": [
    "def normalizedf(df):\n",
    "    df.drop( columns=[c for c in df.columns if '__' in c ] , inplace=True )   \n",
    "    cols = list(df)   \n",
    "    df['DATA_TYPE']=df['DATA_TYPE'].str.upper()  \n",
    "    df['CHARACTER_MAXIMUM_LENGTH']=df['CHARACTER_MAXIMUM_LENGTH'].fillna(0).astype(int)\n",
    "    df['CHARACTER_MAXIMUM_LENGTH']=df['CHARACTER_MAXIMUM_LENGTH'].apply(lambda s: 4000 if s < 0 else s )\n",
    "    df[cols] = df[cols].astype(str)\n",
    "    df=df.loc[:, ['COLUMN_NAME','DATA_TYPE','CHARACTER_MAXIMUM_LENGTH' ]]\n",
    "    return df\n",
    "\n",
    "df=sql_todf(\"\"\"\n",
    "SELECT * FROM INFORMATION_SCHEMA.COLUMNS WHERE TABLE_NAME = 'MFAEncryption'  \n",
    "\"\"\", connstr)   \n",
    "cols2 = set(df.COLUMN_NAME)\n",
    "df=normalizedf(df) \n",
    "df[-5:]\n",
    "for i,r in df.iterrows():\n",
    "    if not 'PK_' in r['COLUMN_NAME']: #  and 'INT' in r['DATA_TYPE'].upper():\n",
    "        print(tmp.replace('COLUMN_NAME', r['COLUMN_NAME']))"
   ]
  },
  {
   "cell_type": "code",
   "execution_count": null,
   "metadata": {},
   "outputs": [],
   "source": [
    "df=sql_todf(\"\"\"\n",
    "SELECT * FROM INFORMATION_SCHEMA.COLUMNS WHERE TABLE_NAME = 'MFAEncryption'  \n",
    "\"\"\", connstr)    \n",
    "COLUMN_NAME = df['COLUMN_NAME'][2:]   \n",
    "DATE_TYPE = df['DATA_TYPE'][2:]   \n",
    "cb=[]\n",
    "for col in list ( zip( COLUMN_NAME  , DATE_TYPE, sheet_cols)  ) :\n",
    "    if 'INT' in col[1]: \n",
    "        cb.append(f'<CB:DataField DBColumnName=\"{col[0]}\" ImportColumnName=\"{col[2]}\"  PickListTypeID=\"6\"  runat=\"server\"/>') \n",
    "    else:\n",
    "        if 'Date' in col[0]:  \n",
    "            cb.append(f'<CB:DataField DBColumnName=\"{col[0]}\" Require=\"true\" ImportColumnName=\"{col[2]}\" DataType=\"System.DateTime\"   runat=\"server\"/>') \n",
    "        else: \n",
    "            cb.append(f'<CB:DataField DBColumnName=\"{col[0]}\" Require=\"true\" ImportColumnName=\"{col[2]}\"  runat=\"server\"/>') \n",
    "print( '\\n'.join(cb) )\n"
   ]
  },
  {
   "cell_type": "code",
   "execution_count": null,
   "metadata": {},
   "outputs": [],
   "source": [
    "\n",
    "def get_datafield(df):\n",
    "    txt=[]   \n",
    "    for i,r in df.iterrows(): \n",
    "        COLUMN_NAME=r['COLUMN_NAME'] \n",
    "        DATA_TYPE=r['DATA_TYPE']  \n",
    "        s=f'<telerik:RadTextBox ID=\"{COLUMN_NAME}\" runat=\"server\"/>'\n",
    "        if 'CHAR' not in DATA_TYPE:\n",
    "            s=f'<telerik:RadComboBox ID=\"{COLUMN_NAME}\" runat=\"server\"/>'\n",
    "        txt.append(f'{s}')\n",
    "    txt='\\n'.join(txt)  \n",
    "    return txt\n",
    "\n",
    "def get_sql(df,out=False):\n",
    "    parms=[]\n",
    "    for i,r in df.iterrows():\n",
    "        s=f\"@{r['COLUMN_NAME']} {r['DATA_TYPE'].upper()}({r['CHARACTER_MAXIMUM_LENGTH']}) = NULL\"\n",
    "        if r['DATA_TYPE'] == 'INT':\n",
    "            s=f\"@{r['COLUMN_NAME']} {r['DATA_TYPE'].upper()} = NULL\" \n",
    "        parms.append(f',{s}')\n",
    "\n",
    "    into=', '.join([c for c in df['COLUMN_NAME'] if 'PK_' not in c])\n",
    "    vals=', @'.join([c for c in df['COLUMN_NAME'] if 'PK_' not in c]) \n",
    "    ins=f'\\n\\n \\t\\t \\t\\t INSERT INTO MFAEncryption ({into})'\n",
    "    ins=ins+f'\\n \\t\\t \\t\\t VALUES (@{vals})'\n",
    "\n",
    "    parms='\\n\\t\\t'.join(parms)[:] \n",
    "    update=', '.join([f'{c}=@{c}' for c in df['COLUMN_NAME'] if 'PK_' not in c ])  \n",
    "    ext='\\t\\t \\t\\t AND ' + ' AND '.join([f'{c}=@{c}' for c in df['COLUMN_NAME'] if 'PK_' not in c ])\n",
    "\n",
    "    sel,exp=[],[]\n",
    "    for i,r in df.iterrows(): \n",
    "        sel.append(f\", {r['COLUMN_NAME']} \")\n",
    "        if r['DATA_TYPE'] == 'INT':     \n",
    "            sel.append(f\", (SELECT DisplayValue FROM vwPicklists WHERE PK_Picklist={r['COLUMN_NAME']}) AS [{r['COLUMN_NAME']}_Display]\"  ) \n",
    "    sel='\\t\\t \\t\\t'+'\\n \\t\\t \\t\\t'.join(sel)  \n",
    " \n",
    "    return {'parms':parms,'ins':ins, 'update':update, 'sel':sel, 'ext':ext , 'exp':exp  }\n",
    "\n",
    "def get_gridcols(df,out=False):\n",
    "    ldf=df.to_dict(orient='records') \n",
    "    code,ddl,dv,sel,dtf=[],[],[],[],[]\n",
    "    with open(ctx.get_tempalte_dir()+'GridTemplateColumn.aspx', 'r') as f: \n",
    "        t=f.read() \n",
    "        \n",
    "        for d in ldf: \n",
    "            col=d['COLUMN_NAME'] \n",
    "            s=t.replace(\"{COLUMN_NAME}\",d['COLUMN_NAME'])  \n",
    "            if 'INT' in d['DATA_TYPE'].upper():\n",
    "                s=s.replace('{Bind_COLUMN_NAME}',f\"{d['COLUMN_NAME']}_Display\")\n",
    "                s=s.replace('<%-- --%>', f'<telerik:RadDropDownList ID=\"{col}\" DataValueField=\"YN\" runat=\"server\" />')\n",
    "                ddl.append(f'BindDDL(e, \"{col}\", \"{col}\", \"{col}\")')\n",
    "                sel.append(f',(SELECT DisplayValue FROM vwPICKLISTS WHERE PK_Picklist={col}) AS {col}') \n",
    "            else: \n",
    "                s=s.replace('{Bind_COLUMN_NAME}',f\"{d['COLUMN_NAME']}\")\n",
    "                s=s.replace('<%-- --%>', f'<telerik:RadTextBox ID=\"{col}\" runat=\"server\" />')\n",
    "                dv.append(f'DirectCast(e.Item.FindControl($\"{col}\"), RadTextBox).Text = drVal(\"{col}\").ToString()')\n",
    "                sel.append(f',{col}') \n",
    "            code.append(f'{s}')     \n",
    "    code='\\n'.join(code) \n",
    "    ddl='\\n'.join(ddl)\n",
    "    dv= '\\n'.join(dv)\n",
    "    sel= '\\n'.join(sel)[1:]\n",
    "    with open(f'{ctx.get_dest()}script.aspx', 'w', encoding='UTF-8') as fw:\n",
    "        fw.write(f'{code} \\n\\n {ddl} \\n\\n {dv} \\n\\n {sel}')\n",
    "    if out:  print(txt)\n",
    "    return {'code':code, 'ddl':ddl,'dv':dv,'sel':sel, 'dtf': dtf}\n",
    "  \n",
    " \n",
    "p = get_gridcols(df, out=False)\n",
    "p\n",
    "print ( p['code'] ) \n",
    "#print (  get_sql( df )['ext']  )\n",
    "#d=get_params(df, out=False)\n",
    "#print (  get_params(df)['sel']  )"
   ]
  },
  {
   "cell_type": "code",
   "execution_count": null,
   "metadata": {},
   "outputs": [],
   "source": [
    "print(  p['parms']  )"
   ]
  },
  {
   "cell_type": "code",
   "execution_count": null,
   "metadata": {},
   "outputs": [],
   "source": [
    "sql = get_gridcols(df)\n",
    "print( sql['code'])"
   ]
  },
  {
   "cell_type": "code",
   "execution_count": null,
   "metadata": {},
   "outputs": [],
   "source": [
    "d=get_params(df, out=False)\n",
    "with open(r'C:\\dev\\CyberScope\\CyberScopeBranch\\CSwebdev\\database\\Sprocs\\MFAEncryption_CRUD.sql', 'r', encoding='UTF-8') as f:\n",
    "    sql=f.read()\n",
    "with open(r'CC:\\dev\\CyberScope\\CyberScopeBranch\\CSwebdev\\database\\Sprocs\\MFAEncryption_CRUD.sql', 'w', encoding='UTF-8') as f:\n",
    "    sql=re.sub('--parms(?s).*--~parms',f'--parms\\n{d[\"parms\"]}\\n\\t\\t--~parms', sql)\n",
    "    sql=re.sub('--sel(?s).*--~sel',f'--sel\\n{d[\"sel\"]}\\n\\t\\t--~sel', sql)\n",
    "    sql=re.sub('--ins(?s).*--~ins',f'--ins\\n{d[\"ins\"]}\\n\\t\\t--~ins', sql)\n",
    "    sql=re.sub('--update(?s).*--~update',f'--update\\n{d[\"update\"]}\\n\\t\\t--~update', sql)\n",
    "    sql=re.sub('--ext(?s).*--~ext',f'--ext\\n{d[\"ext\"]}\\n\\t\\t--~ext', sql)\n",
    "    f.write(sql)\n",
    " "
   ]
  },
  {
   "cell_type": "code",
   "execution_count": null,
   "metadata": {},
   "outputs": [],
   "source": []
  },
  {
   "cell_type": "code",
   "execution_count": null,
   "metadata": {},
   "outputs": [],
   "source": [
    "d=get_params(df, out=False)\n",
    "with open(r'C:\\dev\\CyberScope\\CyberScopeBranch\\CSwebdev\\database\\Sprocs\\MFAEncryption_CRUD.sql', 'r', encoding='UTF-8') as f:\n",
    "    sql=f.read()\n",
    "with open(r'C:\\dev\\CyberScope\\CyberScopeBranch\\CSwebdev\\database\\Sprocs\\MFAEncryption_CRUD.sql', 'w', encoding='UTF-8') as f:\n",
    "    sql=re.sub('--parms(?s).*--~parms',f'--parms\\n{d[\"parms\"]}\\n--~parms\\n', sql)\n",
    "    sql=re.sub('--sel(?s).*--~sel',f'--sel\\n{d[\"sel\"]}\\n--~sel\\n', sql)\n",
    "    sql=re.sub('--ins(?s).*--~ins',f'--ins\\n{d[\"ins\"]}\\n--~ins\\n', sql)\n",
    "    sql=re.sub('--update(?s).*--~update',f'--update\\n{d[\"update\"]}\\n--~update\\n', sql)\n",
    "    f.write(sql)\n",
    "#print(sql)\n",
    "    #"
   ]
  },
  {
   "cell_type": "code",
   "execution_count": null,
   "metadata": {},
   "outputs": [],
   "source": [
    "sheet=pd.read_excel(r'C:\\Users\\timko\\Downloads\\2302.xlsx', sheet_name='CyberScope Inventory Tab', header=0, usecols='A:G', nrows=3 ).reset_index(drop=True) \n",
    "lod=sheet.to_dict(orient='records')  "
   ]
  },
  {
   "cell_type": "code",
   "execution_count": null,
   "metadata": {},
   "outputs": [],
   "source": [
    "import uuid \n",
    "rec=lod[0].copy()\n",
    "rec['Unique ID']=  uuid.uuid4().hex\n",
    "lod.append(rec)\n",
    "lod\n"
   ]
  },
  {
   "cell_type": "code",
   "execution_count": null,
   "metadata": {},
   "outputs": [],
   "source": [
    "pd.DataFrame(lod).to_excel(r'C:\\Users\\timko\\Downloads\\2302_new.xlsx', index = False)"
   ]
  },
  {
   "cell_type": "code",
   "execution_count": null,
   "metadata": {},
   "outputs": [],
   "source": [
    " \n",
    "results=pd.DataFrame() \n",
    "engine = create_engine(ctx.connstr()) \n",
    "connection = engine.raw_connection()\n",
    "cursor = connection.cursor()\n",
    "try: \n",
    "    cursor.execute(\"BOD2302_CRUD @PK_OrgSubmission=?, @MODE=?, @UserMode=?, @UserId=?\", ['147792', 'SELECT', 'Agency', '1838'])\n",
    "    results =  list(cursor.fetchall())\n",
    "    cursor.close()\n",
    "    connection.commit()\n",
    "finally:\n",
    "    connection.close()\n",
    "results"
   ]
  },
  {
   "cell_type": "code",
   "execution_count": null,
   "metadata": {},
   "outputs": [],
   "source": []
  }
 ],
 "metadata": {
  "kernelspec": {
   "display_name": "base",
   "language": "python",
   "name": "python3"
  },
  "language_info": {
   "codemirror_mode": {
    "name": "ipython",
    "version": 3
   },
   "file_extension": ".py",
   "mimetype": "text/x-python",
   "name": "python",
   "nbconvert_exporter": "python",
   "pygments_lexer": "ipython3",
   "version": "3.8.5"
  },
  "orig_nbformat": 4,
  "vscode": {
   "interpreter": {
    "hash": "3a7c076192e1e16d3ee1a218e6831777c4d2e3a001a9a33f6decd6c7672cec63"
   }
  }
 },
 "nbformat": 4,
 "nbformat_minor": 2
}
