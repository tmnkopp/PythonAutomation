{
 "cells": [
  {
   "cell_type": "code",
   "execution_count": 37,
   "metadata": {},
   "outputs": [],
   "source": [
    "import pandas as pd\n",
    "import numpy as np \n",
    "import re, json, os , logging , random, html, datetime, openpyxl \n",
    "from lib.config import connstr\n",
    "from lib.context import context\n",
    "from lib.utils import * \n",
    "from lib.picklist_recommender import picklist_recommender\n",
    "from lib.issue_provider import issue_provider\n",
    "from lib.questionnaire_parser import questionnaire_parser\n",
    "from lib.questionnaire_picklist_parser import questionnaire_picklist_parser\n",
    "from lib.script_generator import script_generator   \n",
    "import nltk\n",
    "from nltk.corpus import stopwords  \n",
    "from nltk.stem import PorterStemmer\n",
    "ps = PorterStemmer()\n",
    "sw=stopwords.words('english') \n",
    "ctx=context() \n",
    "ctx.logger.setLevel(logging.DEBUG)\n",
    "config = {}\n",
    "with open('config.json', 'r') as f: \n",
    "    config=json.loads(f.read())    \n",
    "ctx.config=config \n",
    "import warnings\n",
    "warnings.filterwarnings('ignore')\n",
    "\n",
    "#df, code = generate_code_from_db(ctx, qgroup=4028)"
   ]
  },
  {
   "cell_type": "code",
   "execution_count": 65,
   "metadata": {},
   "outputs": [],
   "source": [
    "df=sql_todf(\"\"\"\n",
    "SELECT EMAIL_CODE, EMAIL_DESCRIPTION, RecipientDescription FROM EMAIL_MASTER WHERE EMAIL_CODE LIKE '%23%'\n",
    "\"\"\", ctx.connstr())\n",
    "df['RecipientDescription']=df['RecipientDescription'].apply(lambda s: re.sub('<.*>','',s))\n",
    "df\n",
    "df.to_csv(r'c:\\temp\\emails.csv', index=False)\n",
    "\n"
   ]
  },
  {
   "cell_type": "code",
   "execution_count": null,
   "metadata": {},
   "outputs": [],
   "source": [
    "lst = [\n",
    "'1) Is the CyHy finding associated with a Networked Management Interface per BOD 23-02? :'\t\n",
    ",'2) Is this Networked Management Interface going to be removed from Internet? :'\t\n",
    ",'3) Are Zero Trust Principles currently implemented following OMB M-22-09, NIST 800-207, the TIC 3.0 Capability Catalog, and CISAs Zero Trust Maturity Model v2. on this Networked Management Interface?:'\t\n",
    ",'4) Does the implementation include: Multifactor authentication (MFA) :'\t\n",
    ",'5) Does the implementation include: Session Logging :'\t\n",
    ",'6) Does the implementation include: Asset management and identification (client endpoint allow listing) :'\t\n",
    ",'7) Does the implementation include: Isolation of critical workloads and strong access policy :'\t\n",
    ",'8) Does the implementation include: Encryption of data in transit :'\t\n",
    ",'9) Estimated Completion Date for removal from internet and/or ZTA implemented:'\t \n",
    "] "
   ]
  },
  {
   "cell_type": "code",
   "execution_count": null,
   "metadata": {},
   "outputs": [],
   "source": [
    "sql=\"\"\"\n",
    "SELECT COLUMN_NAME\n",
    "  FROM INFORMATION_SCHEMA.COLUMNS\n",
    " WHERE TABLE_NAME LIKE '%23%' AND (ORDINAL_POSITION > 9 AND ORDINAL_POSITION < 19)\n",
    "ORDER BY ORDINAL_POSITION ASC\n",
    "\"\"\"\n",
    "df=sql_todf(sql, connstr)  \n",
    "df['COLUMN_CAPTION']=lst"
   ]
  },
  {
   "cell_type": "code",
   "execution_count": null,
   "metadata": {},
   "outputs": [],
   "source": [
    "\n",
    "df \n"
   ]
  },
  {
   "cell_type": "code",
   "execution_count": null,
   "metadata": {},
   "outputs": [],
   "source": [
    "frm=\"\"\"\n",
    "            DECLARE @COLUMN_NAME INT =  (SELECT COLUMN_NAME FROM BOD2302 WHERE PK_BOD2302=@PK_BOD2302) \"\"\"\n",
    "frm=\"\"\"\n",
    "\t\t\tIF (SELECT COLUMN_NAME FROM BOD2302 WHERE PK_BOD2302=@PK_BOD2302) = NULL\n",
    "\t\t\tBEGIN\n",
    "\t\t\t\tINSERT INTO  @ErrorHolder \t\t\n",
    "\t\t\t\tSELECT 56500, 'Response is required for COLUMN_CAPTION row ' + @UniqueIdPoamId + ' ' AS Error\n",
    "\t\t\tEND\"\"\" \n",
    "\n",
    "s='' \n",
    "for i,r in df.iterrows():\n",
    "    s=s+frm.replace('COLUMN_NAME', r['COLUMN_NAME']).replace('COLUMN_CAPTION', r['COLUMN_CAPTION'])  \n",
    "print(s)"
   ]
  },
  {
   "cell_type": "code",
   "execution_count": null,
   "metadata": {},
   "outputs": [],
   "source": [
    "sheet=pd.read_excel(r'C:\\Users\\timko\\Downloads\\BOD_23-02_Template.xlsx', sheet_name='CyberScope Inventory Tab', header=1, usecols='A:Z').reset_index()"
   ]
  },
  {
   "cell_type": "code",
   "execution_count": null,
   "metadata": {},
   "outputs": [],
   "source": [
    "sheet.columns"
   ]
  },
  {
   "cell_type": "code",
   "execution_count": null,
   "metadata": {},
   "outputs": [],
   "source": [
    "for c in sheet.columns:\n",
    "    isyesno = False\n",
    "    if 'Yes/No' in c:\n",
    "        c=c.split('(Yes/No')[0]\n",
    "        isyesno=True\n",
    "    print(re.sub('\\n','',c))\n",
    "\n",
    "    continue\n",
    "\n",
    "    s=re.sub('[^A-Za-z\\s]','',c)\n",
    "    s=' '.join([s.title() for s in s.split(' ')])\n",
    "    s=re.sub('[^A-Za-z]','',s)\n",
    "    s=re.sub('NotMandatory|DoesTheImplementation','',s)\n",
    " \n",
    "    r=f\",{s} NVARCHAR(4000) NULL\"\n",
    "    if 'date' in s.lower(): \n",
    "        r=f\",{s} DATETIME NULL\"\n",
    "    if isyesno: \n",
    "        r=f\",{s} INT NULL\"\n",
    "    \n",
    "    print(r)"
   ]
  },
  {
   "cell_type": "code",
   "execution_count": null,
   "metadata": {},
   "outputs": [],
   "source": [
    "ep=\"\"\"EXECUTE sp_addextendedproperty @name = N'PicklistTypes.UsageType',@level0type = N'SCHEMA',@level0name = 'dbo',@level1type = N'Table', @level1name = 'BOD2302',@level2type = 'Column' \n",
    ",@level2name = 'COLUMN_NAME',@value = 'YN'; \n",
    "\"\"\"\n",
    "\n",
    "ep=\"\"\"EXECUTE sp_addextendedproperty @name = N'Control.Type',@level0type = N'SCHEMA',@level0name = 'dbo',@level1type = N'Table', @level1name = 'BOD2302',@level2type = 'Column' \n",
    ",@level2name = 'COLUMN_NAME',@value = 'RadTextBox'; \n",
    "\"\"\"\n",
    "\n",
    "\n",
    "tmp=\"\"\"const _COLUMN_NAME = $find($(`div[id$=_COLUMN_NAME]`).attr('id'));\"\"\""
   ]
  },
  {
   "cell_type": "code",
   "execution_count": null,
   "metadata": {},
   "outputs": [],
   "source": [
    "def normalizedf(df):\n",
    "    df.drop( columns=[c for c in df.columns if '__' in c ] , inplace=True )   \n",
    "    cols = list(df)   \n",
    "    df['DATA_TYPE']=df['DATA_TYPE'].str.upper()  \n",
    "    df['CHARACTER_MAXIMUM_LENGTH']=df['CHARACTER_MAXIMUM_LENGTH'].fillna(0).astype(int)\n",
    "    df['CHARACTER_MAXIMUM_LENGTH']=df['CHARACTER_MAXIMUM_LENGTH'].apply(lambda s: 4000 if s < 0 else s )\n",
    "    df[cols] = df[cols].astype(str)\n",
    "    df=df.loc[:, ['COLUMN_NAME','DATA_TYPE','CHARACTER_MAXIMUM_LENGTH' ]]\n",
    "    return df\n",
    "\n",
    "df=sql_todf(\"\"\"\n",
    "SELECT * FROM INFORMATION_SCHEMA.COLUMNS WHERE TABLE_NAME = 'BOD2302'  \n",
    "\"\"\", connstr)   \n",
    "cols2 = set(df.COLUMN_NAME)\n",
    "df=normalizedf(df) \n",
    "df[-5:]\n",
    "for i,r in df.iterrows():\n",
    "    if not 'PK_' in r['COLUMN_NAME']: #  and 'INT' in r['DATA_TYPE'].upper():\n",
    "        print(tmp.replace('COLUMN_NAME', r['COLUMN_NAME']))"
   ]
  },
  {
   "cell_type": "code",
   "execution_count": null,
   "metadata": {},
   "outputs": [],
   "source": [
    "\n",
    "def get_datafield(df):\n",
    "    txt=[]   \n",
    "    for i,r in df.iterrows(): \n",
    "        COLUMN_NAME=r['COLUMN_NAME'] \n",
    "        DATA_TYPE=r['DATA_TYPE']  \n",
    "        s=f'<telerik:RadTextBox ID=\"{COLUMN_NAME}\" runat=\"server\"/>'\n",
    "        if 'CHAR' not in DATA_TYPE:\n",
    "            s=f'<telerik:RadComboBox ID=\"{COLUMN_NAME}\" runat=\"server\"/>'\n",
    "        txt.append(f'{s}')\n",
    "    txt='\\n'.join(txt)  \n",
    "    return txt\n",
    "\n",
    "def get_sql(df,out=False):\n",
    "    parms=[]\n",
    "    for i,r in df.iterrows():\n",
    "        s=f\"@{r['COLUMN_NAME']} {r['DATA_TYPE'].upper()}({r['CHARACTER_MAXIMUM_LENGTH']}) = NULL\"\n",
    "        if r['DATA_TYPE'] == 'INT':\n",
    "            s=f\"@{r['COLUMN_NAME']} {r['DATA_TYPE'].upper()} = NULL\" \n",
    "        parms.append(f',{s}')\n",
    "\n",
    "    into=', '.join([c for c in df['COLUMN_NAME'] if 'PK_' not in c])\n",
    "    vals=', @'.join([c for c in df['COLUMN_NAME'] if 'PK_' not in c]) \n",
    "    ins=f'\\n\\n \\t\\t \\t\\t INSERT INTO BOD2302 ({into})'\n",
    "    ins=ins+f'\\n \\t\\t \\t\\t VALUES (@{vals})'\n",
    "\n",
    "    parms='\\n\\t\\t'.join(parms)[:] \n",
    "    update=', '.join([f'{c}=@{c}' for c in df['COLUMN_NAME'] if 'PK_' not in c ])  \n",
    "    ext='\\t\\t \\t\\t AND ' + ' AND '.join([f'{c}=@{c}' for c in df['COLUMN_NAME'] if 'PK_' not in c ])\n",
    "\n",
    "    sel,exp=[],[]\n",
    "    for i,r in df.iterrows(): \n",
    "        sel.append(f\", {r['COLUMN_NAME']} \")\n",
    "        if r['DATA_TYPE'] == 'INT':     \n",
    "            sel.append(f\", (SELECT DisplayValue FROM vwPicklists WHERE PK_Picklist={r['COLUMN_NAME']}) AS [{r['COLUMN_NAME']}_Display]\"  ) \n",
    "    sel='\\t\\t \\t\\t'+'\\n \\t\\t \\t\\t'.join(sel)  \n",
    " \n",
    "    return {'parms':parms,'ins':ins, 'update':update, 'sel':sel, 'ext':ext , 'exp':exp  }\n",
    "\n",
    "def get_gridcols(df,out=False):\n",
    "    ldf=df.to_dict(orient='records') \n",
    "    code,ddl,dv,sel=[],[],[],[] \n",
    "    with open(ctx.get_tempalte_dir()+'GridTemplateColumn.aspx', 'r') as f: \n",
    "        t=f.read() \n",
    "        for d in ldf: \n",
    "            col=d['COLUMN_NAME']\n",
    "            s=t.replace(\"{COLUMN_NAME}\",d['COLUMN_NAME']) \n",
    " \n",
    "            if 'INT' in d['DATA_TYPE']:\n",
    "                s=s.replace('<%-- --%>', f'<telerik:RadDropDownList ID=\"{col}\" DataValueField=\"YN\" runat=\"server\" />')\n",
    "                ddl.append(f'BindDDL(e, \"{col}\", \"{col}\", \"{col}\")')\n",
    "                sel.append(f',(SELECT DisplayValue FROM vwPICKLISTS WHERE PK_Picklist={col}) AS {col}')\n",
    "            else:\n",
    "                s=s.replace('<%-- --%>', f'<telerik:RadTextBox ID=\"{col}\" runat=\"server\" />')\n",
    "                dv.append(f'DirectCast(e.Item.FindControl($\"{col}\"), RadTextBox).Text = drVal(\"{col}\").ToString()')\n",
    "                sel.append(f',{col}')\n",
    "            code.append(f'{s}')     \n",
    "    code='\\n'.join(code) \n",
    "    ddl='\\n'.join(ddl)\n",
    "    dv= '\\n'.join(dv)\n",
    "    sel= '\\n'.join(sel)[1:]\n",
    "    with open(f'{ctx.get_dest()}script.aspx', 'w', encoding='UTF-8') as fw:\n",
    "        fw.write(f'{code} \\n\\n {ddl} \\n\\n {dv} \\n\\n {sel}')\n",
    "    if out:  print(txt)\n",
    "    return {'code':code, 'ddl':ddl,'dv':dv,'sel':sel}\n",
    "  \n",
    " \n",
    "#p = get_params(df, out=False)\n",
    "#print ( p['exp'] ) \n",
    "print (  get_sql( df )['ext']  )\n",
    "#d=get_params(df, out=False)\n",
    "#print (  get_params(df)['sel']  )"
   ]
  },
  {
   "cell_type": "code",
   "execution_count": null,
   "metadata": {},
   "outputs": [],
   "source": []
  },
  {
   "cell_type": "code",
   "execution_count": null,
   "metadata": {},
   "outputs": [],
   "source": [
    "sql = get_gridcols(df)\n",
    "print( sql['code'])"
   ]
  },
  {
   "cell_type": "code",
   "execution_count": null,
   "metadata": {},
   "outputs": [],
   "source": [
    "d=get_params(df, out=False)\n",
    "with open(r'C:\\dev\\CyberScope\\CyberScopeBranch\\CSwebdev\\database\\Sprocs\\BOD2302_CRUD.sql', 'r', encoding='UTF-8') as f:\n",
    "    sql=f.read()\n",
    "with open(r'CC:\\dev\\CyberScope\\CyberScopeBranch\\CSwebdev\\database\\Sprocs\\BOD2302_CRUD.sql', 'w', encoding='UTF-8') as f:\n",
    "    sql=re.sub('--parms(?s).*--~parms',f'--parms\\n{d[\"parms\"]}\\n\\t\\t--~parms', sql)\n",
    "    sql=re.sub('--sel(?s).*--~sel',f'--sel\\n{d[\"sel\"]}\\n\\t\\t--~sel', sql)\n",
    "    sql=re.sub('--ins(?s).*--~ins',f'--ins\\n{d[\"ins\"]}\\n\\t\\t--~ins', sql)\n",
    "    sql=re.sub('--update(?s).*--~update',f'--update\\n{d[\"update\"]}\\n\\t\\t--~update', sql)\n",
    "    sql=re.sub('--ext(?s).*--~ext',f'--ext\\n{d[\"ext\"]}\\n\\t\\t--~ext', sql)\n",
    "    f.write(sql)\n",
    " "
   ]
  },
  {
   "cell_type": "code",
   "execution_count": null,
   "metadata": {},
   "outputs": [],
   "source": []
  },
  {
   "cell_type": "code",
   "execution_count": null,
   "metadata": {},
   "outputs": [],
   "source": [
    "d=get_params(df, out=False)\n",
    "with open(r'C:\\dev\\CyberScope\\CyberScopeBranch\\CSwebdev\\database\\Sprocs\\BOD2302_CRUD.sql', 'r', encoding='UTF-8') as f:\n",
    "    sql=f.read()\n",
    "with open(r'C:\\dev\\CyberScope\\CyberScopeBranch\\CSwebdev\\database\\Sprocs\\BOD2302_CRUD.sql', 'w', encoding='UTF-8') as f:\n",
    "    sql=re.sub('--parms(?s).*--~parms',f'--parms\\n{d[\"parms\"]}\\n--~parms\\n', sql)\n",
    "    sql=re.sub('--sel(?s).*--~sel',f'--sel\\n{d[\"sel\"]}\\n--~sel\\n', sql)\n",
    "    sql=re.sub('--ins(?s).*--~ins',f'--ins\\n{d[\"ins\"]}\\n--~ins\\n', sql)\n",
    "    sql=re.sub('--update(?s).*--~update',f'--update\\n{d[\"update\"]}\\n--~update\\n', sql)\n",
    "    f.write(sql)\n",
    "#print(sql)\n",
    "    #"
   ]
  },
  {
   "cell_type": "code",
   "execution_count": null,
   "metadata": {},
   "outputs": [],
   "source": [
    "sheet=pd.read_excel(r'C:\\Users\\timko\\Downloads\\2302.xlsx', sheet_name='CyberScope Inventory Tab', header=0, usecols='A:G', nrows=3 ).reset_index(drop=True) \n",
    "lod=sheet.to_dict(orient='records')  "
   ]
  },
  {
   "cell_type": "code",
   "execution_count": null,
   "metadata": {},
   "outputs": [],
   "source": [
    "import uuid \n",
    "rec=lod[0].copy()\n",
    "rec['Unique ID']=  uuid.uuid4().hex\n",
    "lod.append(rec)\n",
    "lod\n"
   ]
  },
  {
   "cell_type": "code",
   "execution_count": 30,
   "metadata": {},
   "outputs": [],
   "source": [
    "pd.DataFrame(lod).to_excel(r'C:\\Users\\timko\\Downloads\\2302_new.xlsx', index = False)"
   ]
  },
  {
   "cell_type": "code",
   "execution_count": 43,
   "metadata": {},
   "outputs": [
    {
     "data": {
      "text/plain": [
       "[(707, 147792, 164, 'LEGISLATIVE', '64be6f2e5de7cb37cd4d44c6', 'DOE Host', '199.137.49.229', '07/24/2023', 'Potentially Risky Service Detected: telnet', '23', None, None, None, None, None, None, None, None, None, None, None, None, None, None, None, None, None, None, None, None, '08/04/2023', '08/04/2023', '08/04/2023', None, None, 'IssueToAgency:08/04/2023', 14812, 'Agency In Progress', 1838, 0, None, None, None, 'Agency')]"
      ]
     },
     "execution_count": 43,
     "metadata": {},
     "output_type": "execute_result"
    }
   ],
   "source": [
    " \n",
    "results=pd.DataFrame() \n",
    "engine = create_engine(ctx.connstr()) \n",
    "connection = engine.raw_connection()\n",
    "cursor = connection.cursor()\n",
    "try: \n",
    "    cursor.execute(\"BOD2302_CRUD @PK_OrgSubmission=?, @MODE=?, @UserMode=?, @UserId=?\", ['147792', 'SELECT', 'Agency', '1838'])\n",
    "    results =  list(cursor.fetchall())\n",
    "    cursor.close()\n",
    "    connection.commit()\n",
    "finally:\n",
    "    connection.close()\n",
    "results"
   ]
  },
  {
   "cell_type": "code",
   "execution_count": null,
   "metadata": {},
   "outputs": [],
   "source": []
  }
 ],
 "metadata": {
  "kernelspec": {
   "display_name": "base",
   "language": "python",
   "name": "python3"
  },
  "language_info": {
   "codemirror_mode": {
    "name": "ipython",
    "version": 3
   },
   "file_extension": ".py",
   "mimetype": "text/x-python",
   "name": "python",
   "nbconvert_exporter": "python",
   "pygments_lexer": "ipython3",
   "version": "3.8.5"
  },
  "orig_nbformat": 4,
  "vscode": {
   "interpreter": {
    "hash": "3a7c076192e1e16d3ee1a218e6831777c4d2e3a001a9a33f6decd6c7672cec63"
   }
  }
 },
 "nbformat": 4,
 "nbformat_minor": 2
}
