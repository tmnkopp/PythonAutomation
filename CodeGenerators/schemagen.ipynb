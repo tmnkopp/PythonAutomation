{
 "cells": [
  {
   "cell_type": "code",
   "execution_count": 1,
   "metadata": {},
   "outputs": [],
   "source": [
    "import pandas as pd\n",
    "import numpy as np \n",
    "import re, json, os , logging , random, subprocess\n",
    "from lib.config import connstr\n",
    "from lib.context import context\n",
    "from lib.utils import * \n",
    "from lib.picklist_recommender import picklist_recommender\n",
    "from lib.issue_provider import issue_provider\n",
    "from lib.questionnaire_parser import questionnaire_parser\n",
    "from lib.questionnaire_picklist_parser import questionnaire_picklist_parser\n",
    "from lib.script_generator import script_generator   \n",
    "import nltk\n",
    "from nltk.corpus import stopwords  \n",
    "from nltk.stem import PorterStemmer\n",
    "ps = PorterStemmer()\n",
    "sw=stopwords.words('english') \n",
    "ctx=context() \n",
    "ctx.logger.setLevel(logging.DEBUG)\n",
    "config = {}\n",
    "with open('config.json', 'r') as f: \n",
    "    config=json.loads(f.read())    \n",
    "ctx.config=config \n",
    "import warnings\n",
    "warnings.filterwarnings('ignore')\n",
    "#df, code = generate_code_from_db(ctx, qgroup=4028)"
   ]
  },
  {
   "cell_type": "code",
   "execution_count": null,
   "metadata": {},
   "outputs": [],
   "source": [
    "s =''\n",
    "f=3411\n",
    "t=14920\n",
    "for i in range(1,11):\n",
    "    \n",
    "    s=s+f\"SET @RESULT = (SELECT REPLACE(@RESULT, '3414', '14921'))\"\n",
    "print(s)"
   ]
  },
  {
   "cell_type": "code",
   "execution_count": 2,
   "metadata": {},
   "outputs": [],
   "source": [
    "def to_proper(s):\n",
    "    n=''\n",
    "    for i in range(len(s[:-1])):  \n",
    "        n=n+s[i]\n",
    "        if ord(s[i]) > 96 and ord(s[i+1]) < 97: n=n+ ' '\n",
    "    return n+s[-1]    \n",
    "        \n",
    "def normalizedf(df):\n",
    "    df.drop( columns=[c for c in df.columns if '__' in c ] , inplace=True )   \n",
    "    cols = list(df)\n",
    "    if 'PK_PICKLISTTYPE' not in cols: df['PK_PICKLISTTYPE'] = 0\n",
    "    if 'HEADER' not in cols: df['HEADER'] = df['COLUMN_NAME'].apply(to_proper)\n",
    "    if 'DATA_TYPE' not in cols: df['DATA_TYPE'] = 'NVARCHAR'\n",
    "    if 'CHARACTER_MAXIMUM_LENGTH' not in cols: df['CHARACTER_MAXIMUM_LENGTH'] = 4000\n",
    "    df['DATA_TYPE']=df['DATA_TYPE'].str.upper()  \n",
    "    df['CHARACTER_MAXIMUM_LENGTH']=df['CHARACTER_MAXIMUM_LENGTH'].fillna(0).astype(int)\n",
    "    df['PK_PICKLISTTYPE']=df['PK_PICKLISTTYPE'].fillna(0).astype(int)\n",
    "    df['CHARACTER_MAXIMUM_LENGTH']=df['CHARACTER_MAXIMUM_LENGTH'].apply(lambda s: 4000 if s < 0 else s )\n",
    "    df[cols] = df[cols].astype(str) \n",
    "    df=df.loc[:, ['COLUMN_NAME','DATA_TYPE','CHARACTER_MAXIMUM_LENGTH','HEADER', 'PK_PICKLISTTYPE' ]]\n",
    "    return df"
   ]
  },
  {
   "cell_type": "code",
   "execution_count": null,
   "metadata": {},
   "outputs": [],
   "source": [
    "def df_fromDataFields(path): \n",
    "    lst=[]\n",
    "    cols=[]\n",
    "    with open(path, 'r') as f:  \n",
    "        g=re.search(\"<DataFields>(.*)<\\/Data\", f.read() , flags=re.DOTALL)   \n",
    "        lst=g.groups(0)[0].split('<CB:DataField')[1:] \n",
    "        for l in lst:\n",
    "            cols.append({\n",
    "                'COLUMN_NAME':re.search('DBColumnName=\"(\\w+)\"\\s', l ).groups(0)[0]\n",
    "                ,'HEADER':re.search('ImportColumnName=\"([\\w|\\s]+)\"', l ).groups(0)[0]\n",
    "                })\n",
    "            \n",
    "    return normalizedf(pd.DataFrame(cols))\n",
    "df = df_fromDataFields(r'D:\\dev\\CyberScope\\CyberScopeBranch\\CSwebdev\\code\\CyberScope\\FismaForms\\2024\\2024_Q3_CIO_1C.aspx')\n",
    "\n",
    "df\n",
    "# print( SQL_INSERT_FROM_DF(df, 'FEDRAMP_UPLOAD')[1] ) "
   ]
  },
  {
   "cell_type": "code",
   "execution_count": null,
   "metadata": {},
   "outputs": [],
   "source": [
    "df = pd.read_excel(r'C:\\Users\\Tim\\Downloads\\fedramp.xlsx', sheet_name='Agency - CSP Table', header=1, usecols='B:Z' )  \n",
    "df.columns=[c.replace(' ' ,'') for c in df.columns] \n",
    "df\n",
    "# df.to_excel(r'C:\\Users\\Tim\\Downloads\\fedramp_admin_import.xlsx', sheet_name='Admin Import', index=False)\n"
   ]
  },
  {
   "cell_type": "code",
   "execution_count": null,
   "metadata": {},
   "outputs": [],
   "source": [
    "df = pd.read_excel(r'C:\\Users\\Tim\\Downloads\\FedRAMP Cloud Services - 060524.xlsx', sheet_name='FedRAMP CSP Masterlist', header=0, usecols='A:Z' ) \n",
    "for c in df.columns:\n",
    "    s = f'<CB:DataField  DBColumnName=\"{c.replace(\" \",\"\")}\" Require=\"False\" ImportColumnName=\"{c}\" runat=\"server\"/>  '\n",
    "    if \"Date\" in c:\n",
    "        s = f'<CB:DataField  DBColumnName=\"{c.replace(\" \",\"\")}\" Require=\"False\" DataType=\"System.DateTime\" NonDatePlaceholder=\"01/01/1900\" ImportColumnName=\"{c}\"  runat=\"server\"/>  '\n",
    "    print(s)"
   ]
  },
  {
   "cell_type": "code",
   "execution_count": null,
   "metadata": {},
   "outputs": [],
   "source": [
    "fields = pd.read_csv(f'{ctx.get_dest()}fedramp.csv') \n",
    "df=normalizedf(fields)\n",
    "df"
   ]
  },
  {
   "cell_type": "code",
   "execution_count": null,
   "metadata": {},
   "outputs": [],
   "source": [
    "ag =  set(sql_todf(\"  SELECT Component FROM [Component List] WHERE IsActive=1 AND FK_PK_Component IS NULL  \", connstr)['Component']) \n",
    "ag = set(ag)\n",
    "ag"
   ]
  },
  {
   "cell_type": "code",
   "execution_count": null,
   "metadata": {},
   "outputs": [],
   "source": [
    "df=sql_todf(\"  SELECT * FROM INFORMATION_SCHEMA.COLUMNS WHERE TABLE_NAME = 'TIC_CloudServices'  \", connstr)   \n",
    "df=normalizedf(df) \n",
    "df "
   ]
  },
  {
   "cell_type": "code",
   "execution_count": null,
   "metadata": {},
   "outputs": [],
   "source": [
    "for c in df.columns:\n",
    "    s = f'<CB:DataField  DBColumnName=\"{c.replace(\" \",\"\")}\" Require=\"False\" ImportColumnName=\"{c}\" runat=\"server\"/>  '\n",
    "    if \"Date\" in c:\n",
    "        s = f'<CB:DataField  DBColumnName=\"{c.replace(\" \",\"\")}\" Require=\"False\" ImportColumnName=\"{c}\"  runat=\"server\"/>  '\n",
    "    print(s)"
   ]
  },
  {
   "cell_type": "code",
   "execution_count": null,
   "metadata": {},
   "outputs": [],
   "source": [
    "for i, r in df.iterrows(): \n",
    "    DATA_TYPE=r[\"DATA_TYPE\"]\n",
    "    COLUMN_NAME=r[\"COLUMN_NAME\"]\n",
    "    HEADER=r[\"HEADER\"]\n",
    "    PK_PICKLISTTYPE=str(r[\"PK_PICKLISTTYPE\"] )\n",
    "    s=f'<CB:DataField DBColumnName=\"{COLUMN_NAME}\" ImportColumnName=\"{HEADER}\" SprocParamName=\"{COLUMN_NAME}\" runat=\"server\"/>' \n",
    "    if PK_PICKLISTTYPE != '0': s=s.replace('runat',' PickListTypeID=\"'+ PK_PICKLISTTYPE +'\" runat')   \n",
    "    \n",
    "    e=f',{COLUMN_NAME} AS [{HEADER}] '\n",
    "    if PK_PICKLISTTYPE != '0': e=f', (SELECT DisplayValue FROM vwPICKLISTS WHERE PK_Picklist={COLUMN_NAME}) AS [{HEADER}]' \n",
    "    if 'Date' in COLUMN_NAME:\n",
    "        e=f\" , CASE WHEN {COLUMN_NAME} LIKE '%2000%' THEN 'NA' ELSE FORMAT({COLUMN_NAME}, 'MM/dd/yyyy') END AS [{HEADER}]\"\n",
    "    print(s)"
   ]
  },
  {
   "cell_type": "code",
   "execution_count": null,
   "metadata": {},
   "outputs": [],
   "source": [
    "\n",
    "for i, row in df[20:].iterrows():\n",
    "    with open(ctx.get_tempalte_dir()+'GridTemplateColumn.aspx', 'r') as f: \n",
    "        s=f.read() \n",
    "    DATA_TYPE=row['DATA_TYPE']\n",
    "    COLUMN_NAME=row['COLUMN_NAME']\n",
    "    HEADER=row['HEADER']\n",
    "    PK_PICKLISTTYPE=row['PK_PICKLISTTYPE']\n",
    "    s=s.replace('{COLUMN_NAME}', COLUMN_NAME)\n",
    "    if 'INT' in DATA_TYPE:  \n",
    "        s=s.replace('{Bind_COLUMN_NAME}', COLUMN_NAME+'_Display')\n",
    "        s=s.replace('<%-- --%>', f'<telerik:RadDropDownList ID=\"{COLUMN_NAME}\" DataValueField=\"YN\" runat=\"server\" />')  \n",
    "    else:\n",
    "        s=s.replace('{Bind_COLUMN_NAME}', COLUMN_NAME )\n",
    "        if 'Date' in COLUMN_NAME:  \n",
    "            # print(\"const \"+COLUMN_NAME+\" = new CBDatePicker({ id: $(`[id$=_\"+COLUMN_NAME+\"]`).prop('id'), allowNa: true  }); \")  \n",
    "            s=s.replace('<%-- --%>', f'<asp:HiddenField ID=\"{COLUMN_NAME}\" runat=\"server\" />') \n",
    "        else: \n",
    "            s=s.replace('<%-- --%>', f'<telerik:RadTextBox ID=\"{COLUMN_NAME}\" runat=\"server\" />') \n",
    "    #print(f\"[{COLUMN_NAME}] [NVARCHAR](4000) NULL,\")  \n",
    "    #print('{ field: \"'+COLUMN_NAME+'\", title: \"'+HEADER+'\" },')\n",
    "    print (s)"
   ]
  },
  {
   "cell_type": "code",
   "execution_count": null,
   "metadata": {},
   "outputs": [],
   "source": [
    " \n",
    "def get_gridcols(df,out=False):\n",
    "    ldf=df.to_dict(orient='records') \n",
    "    code,ddl,dv,sel,dtf=[],[],[],[],[]\n",
    "    with open(ctx.get_tempalte_dir()+'GridTemplateColumn.aspx', 'r') as f: \n",
    "        t=f.read() \n",
    "        \n",
    "        for d in ldf: \n",
    "            col=d['COLUMN_NAME'] \n",
    "            s=t.replace(\"{COLUMN_NAME}\",d['COLUMN_NAME'])  \n",
    "            if 'INT' in d['DATA_TYPE'].upper():\n",
    "                s=s.replace('{Bind_COLUMN_NAME}',f\"{d['COLUMN_NAME']}_Display\")\n",
    "                s=s.replace('<%-- --%>', f'<telerik:RadDropDownList ID=\"{col}\" DataValueField=\"YN\" runat=\"server\" />')\n",
    "                ddl.append(f'BindDDL(e, \"{col}\", \"{col}\", \"{col}\")')\n",
    "                sel.append(f',(SELECT DisplayValue FROM vwPICKLISTS WHERE PK_Picklist={col}) AS {col}') \n",
    "            else: \n",
    "                s=s.replace('{Bind_COLUMN_NAME}',f\"{d['COLUMN_NAME']}\")\n",
    "                s=s.replace('<%-- --%>', f'<telerik:RadTextBox ID=\"{col}\" runat=\"server\" />')\n",
    "                dv.append(f'DirectCast(e.Item.FindControl($\"{col}\"), RadTextBox).Text = drVal(\"{col}\").ToString()')\n",
    "                sel.append(f',{col}') \n",
    "            code.append(f'{s}')     \n",
    "    code='\\n'.join(code) \n",
    "    ddl='\\n'.join(ddl)\n",
    "    dv= '\\n'.join(dv)\n",
    "    sel= '\\n'.join(sel)[1:] \n",
    "    return {'code':code, 'ddl':ddl,'dv':dv,'sel':sel, 'dtf': dtf}\n",
    "  \n",
    " \n",
    "p = get_gridcols(df, out=False)\n",
    "p\n",
    "print ( p['code'] ) \n",
    " "
   ]
  },
  {
   "cell_type": "code",
   "execution_count": null,
   "metadata": {},
   "outputs": [],
   "source": [
    "sql = get_gridcols(df)\n",
    "print( sql['code'])"
   ]
  },
  {
   "cell_type": "code",
   "execution_count": null,
   "metadata": {},
   "outputs": [],
   "source": [
    "def get_sql(df,out=False):\n",
    "    parms=[]\n",
    "    for i,r in df.iterrows():\n",
    "        s=f\"@{r['COLUMN_NAME']} {r['DATA_TYPE'].upper()}({r['CHARACTER_MAXIMUM_LENGTH']}) = NULL\"\n",
    "        if r['DATA_TYPE'].upper() == 'INT':\n",
    "            s=f\"@{r['COLUMN_NAME']} {r['DATA_TYPE'].upper()} = NULL\"  \n",
    "        parms.append(f',{s}')\n",
    "\n",
    "    into=', '.join([c for c in df['COLUMN_NAME'] if 'PK_' not in c])\n",
    "    vals=', @'.join([c for c in df['COLUMN_NAME'] if 'PK_' not in c]) \n",
    "    ins=f'\\n INSERT INTO @TABLE ({into}) \\n VALUES (@{vals})'\n",
    "\n",
    "    parms='\\n'.join(parms)[:] \n",
    "    update=', '.join([f'{c}=@{c}' for c in df['COLUMN_NAME'] if 'PK_' not in c ])  \n",
    "    ext=' AND ' + ' AND '.join([f'{c}=@{c}' for c in df['COLUMN_NAME'] if 'PK_' not in c ])\n",
    "\n",
    "    sel=[] \n",
    "    exp=[]\n",
    "    for i,r in df.iterrows():   \n",
    "        s=f\"\\n, {r['COLUMN_NAME']} \"\n",
    "        if r['DATA_TYPE'].upper() == 'INT':   \n",
    "            s=s+f\"\\n, (SELECT DisplayValue FROM vwPicklists WHERE PK_Picklist={r['COLUMN_NAME']}) AS [{r['COLUMN_NAME']}_Display]\" \n",
    "            exp.append(f\"\\n, (SELECT DisplayValue FROM vwPicklists WHERE PK_Picklist={r['COLUMN_NAME']}) AS [{r['HEADER']}]\")\n",
    "        elif r['DATA_TYPE'].upper() == 'DATETIME':\n",
    "            s=s+f\"\\n, FORMAT({r['COLUMN_NAME']}, 'MM/dd/yyyy') AS [{r['COLUMN_NAME']}_Display] \" \n",
    "            exp.append(f\"\\n, FORMAT({r['COLUMN_NAME']}, 'MM/dd/yyyy') AS [{r['HEADER']}]\") \n",
    "        else:\n",
    "            exp.append(f\"\\n, {r['COLUMN_NAME']} AS [{r['HEADER']}]\")\n",
    "        sel.append(''+s)\n",
    "    sel=''.join(sel)  \n",
    "    exp=''.join(exp)  \n",
    "    return {'parms':parms,'ins':ins, 'update':update, 'sel':sel, 'ext':ext, 'exp':exp  }\n",
    "\n",
    "\n",
    "# df = sql_todf(\"SELECT * FROM INFORMATION_SCHEMA.COLUMNS WHERE TABLE_NAME='FEDRAMP_UPLOAD'\", ctx.connstr) \n",
    "# df = normalizedf(df) \n",
    "#  df.columns\n",
    "d=get_sql(df, out=False)\n",
    "print( d['ins']  )"
   ]
  },
  {
   "cell_type": "code",
   "execution_count": null,
   "metadata": {},
   "outputs": [],
   "source": [
    "df=sql_todf(\"  SELECT * FROM INFORMATION_SCHEMA.COLUMNS WHERE TABLE_NAME = 'FEDRAMP_UPLOAD'  \", connstr)   \n",
    "for i, r in df.iterrows(): \n",
    "    DATA_TYPE=r[\"DATA_TYPE\"]\n",
    "    COLUMN_NAME=r[\"COLUMN_NAME\"]\n",
    "    print( f',{COLUMN_NAME}' )"
   ]
  },
  {
   "cell_type": "code",
   "execution_count": null,
   "metadata": {},
   "outputs": [],
   "source": [
    "df = sql_todf(\"SELECT * FROM TIC_CloudServices WHERE COMMENTS LIKE '##%'\", ctx.connstr) \n",
    "df"
   ]
  },
  {
   "cell_type": "code",
   "execution_count": null,
   "metadata": {},
   "outputs": [],
   "source": [
    "df = pd.read_excel(r'C:\\Users\\Tim\\Downloads\\OMB-FedRAMP-CSP-JSON-CSV Analysis - FedRAMP 051724 (1).xlsx', sheet_name='Agency Table', header=0, usecols='A:Z' ) \n",
    "df\n",
    " "
   ]
  },
  {
   "cell_type": "code",
   "execution_count": null,
   "metadata": {},
   "outputs": [],
   "source": [
    "for c in df.columns:\n",
    "    s = f'<CB:DataField  DBColumnName=\"{c.replace(\" \",\"\")}\" Require=\"False\" ImportColumnName=\"{c}\" runat=\"server\"/>  '\n",
    "    if \"Date\" in c:\n",
    "        s = f'<CB:DataField  DBColumnName=\"{c.replace(\" \",\"\")}\" Require=\"False\" ImportColumnName=\"{c}\"  runat=\"server\"/>  '\n",
    "    print(s)"
   ]
  }
 ],
 "metadata": {
  "kernelspec": {
   "display_name": "base",
   "language": "python",
   "name": "python3"
  },
  "language_info": {
   "codemirror_mode": {
    "name": "ipython",
    "version": 3
   },
   "file_extension": ".py",
   "mimetype": "text/x-python",
   "name": "python",
   "nbconvert_exporter": "python",
   "pygments_lexer": "ipython3",
   "version": "3.8.8"
  },
  "orig_nbformat": 4,
  "vscode": {
   "interpreter": {
    "hash": "3a7c076192e1e16d3ee1a218e6831777c4d2e3a001a9a33f6decd6c7672cec63"
   }
  }
 },
 "nbformat": 4,
 "nbformat_minor": 2
}
