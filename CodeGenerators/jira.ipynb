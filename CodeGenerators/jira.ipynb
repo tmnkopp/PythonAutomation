{
 "cells": [
  {
   "cell_type": "code",
   "execution_count": 44,
   "metadata": {
    "metadata": {}
   },
   "outputs": [],
   "source": [
    "import json, re,  os, time, random, time, requests\n",
    "from bs4 import BeautifulSoup   \n",
    "import pandas as pd \n",
    "from webdriver_manager.chrome import ChromeDriverManager\n",
    "from selenium.webdriver.chrome.options import Options\n",
    "from selenium import webdriver\n",
    "from selenium.webdriver.common.by import By\n",
    "from selenium.webdriver.support.ui import WebDriverWait\n",
    "from selenium.webdriver.support import expected_conditions as EC   \n",
    "from datetime import datetime, date, timedelta\n",
    "#import pymongo\n",
    "import logging  \n",
    "from lib.jira import jiradriver\n"
   ]
  },
  {
   "cell_type": "code",
   "execution_count": 45,
   "metadata": {},
   "outputs": [
    {
     "name": "stdout",
     "output_type": "stream",
     "text": [
      "driver_path: C:\\dev\\CyberScope\\CyberScopeBranch\\CSwebdev\\code\\CyberScope.Tests\\bin\\Debug\\net48\\Chrome\\136.0.7103.92\\X64\\chromedriver.exe\n"
     ]
    },
    {
     "data": {
      "text/plain": [
       "<lib.jira.jiradriver at 0x2499d82a790>"
      ]
     },
     "execution_count": 45,
     "metadata": {},
     "output_type": "execute_result"
    }
   ],
   "source": [
    "jira = jiradriver()\n",
    "options = {'--headless=new': True, '--window-size=1020,1080': True }   \n",
    "jira.init(options)  "
   ]
  },
  {
   "cell_type": "code",
   "execution_count": null,
   "metadata": {},
   "outputs": [],
   "source": [
    "jira.print_issues()"
   ]
  },
  {
   "cell_type": "code",
   "execution_count": null,
   "metadata": {},
   "outputs": [],
   "source": [
    "jira = jira.get_issues('71').log(time_spent='20m')"
   ]
  },
  {
   "cell_type": "code",
   "execution_count": null,
   "metadata": {},
   "outputs": [],
   "source": [
    "jira.get_issues('BOD').subo() "
   ]
  },
  {
   "cell_type": "code",
   "execution_count": null,
   "metadata": {},
   "outputs": [],
   "source": [
    "jira.driver.quit()"
   ]
  },
  {
   "cell_type": "code",
   "execution_count": null,
   "metadata": {},
   "outputs": [],
   "source": [
    "jira.driver.get(f'https://dayman.cyber-balance.com/jira/secure/Dashboard.jspa') "
   ]
  },
  {
   "cell_type": "code",
   "execution_count": null,
   "metadata": {},
   "outputs": [],
   "source": [
    "_= jira.init() "
   ]
  },
  {
   "cell_type": "code",
   "execution_count": null,
   "metadata": {},
   "outputs": [],
   "source": [
    "posts\n",
    "df = pd.DataFrame(posts)"
   ]
  },
  {
   "cell_type": "code",
   "execution_count": null,
   "metadata": {},
   "outputs": [],
   "source": [
    "dct = {'driver_path':'xxx'}\n",
    "if 'driver_path' in dct.keys():\n",
    "    print('y')\n",
    "if 'driver_paths' in dct.keys():\n",
    "    print('y')    "
   ]
  },
  {
   "cell_type": "code",
   "execution_count": null,
   "metadata": {},
   "outputs": [],
   "source": [
    "options = Options() \n",
    "options.add_argument(\"--window-size=1220,980\")  \n",
    "options.add_argument('--log-level=3')\n",
    "driver = webdriver.Chrome(executable_path=ChromeDriverManager().install() ,options=options) \n",
    "driver.get(f\"https://accounts.craigslist.org/login\")  \n",
    "driver.find_element(By.XPATH, '//input[contains(@id, \"Email\")]').send_keys('timkopp@gmail.com')\n",
    "driver.find_element(By.XPATH, '//input[contains(@id, \"Password\")]').send_keys(ctx.config['clpass']) \n",
    "driver.find_element(By.XPATH, '//*[contains(@id, \"login\")]').click()\n",
    "time.sleep(2)   \n",
    "renew = driver.find_elements(By.XPATH,\"//form[contains(@action,'7739609697') and contains(@class, 'renew') ]//input[@type='submit']\")\n",
    "if len(renew) > 0:\n",
    "    #renew[0].click()\n",
    "    #driver.quit()\n",
    "    pass"
   ]
  },
  {
   "cell_type": "code",
   "execution_count": null,
   "metadata": {},
   "outputs": [],
   "source": [
    "\n",
    "api_url = \"https://dayman.cyber-balance.com/Scheduler/api/atlas/CustomQuery/BOD2201Unremediated/DOE\"     \n",
    "api_url = \"https://dayman.cyber-balance.com/Scheduler/api/atlas/CustomQuery/AgencyLevelQuestions/SSA?PKForm=2024-Q1-CIO\"  \n",
    "api_url = \"https://dayman.cyber-balance.com/Scheduler/api/atlas/CustomQuery/ErrorLog/?DateFrom=2025-06-24&DateTo=2025-07-07\"  \n",
    "\n",
    "reference_token = \"6472A305977D7CE4497CFCF0A510AA6BABCB00DD5CC65E3B2DB32CE8BA085BA1-1\"  \n",
    "\n",
    "headers = {\n",
    "    \"Authorization\": f\"Bearer {reference_token}\"\n",
    "}\n",
    " \n",
    "try:\n",
    "    response = requests.get(api_url, headers=headers) \n",
    "    response.raise_for_status()  \n",
    "    json_response = response.json() \n",
    "except requests.exceptions.RequestException as e:\n",
    "    print(f\"Error making API request: {e}\")\n",
    "df = pd.DataFrame(json_response)\n",
    "df\n"
   ]
  },
  {
   "cell_type": "code",
   "execution_count": null,
   "metadata": {},
   "outputs": [],
   "source": [
    "df.to_html('out/log.html')"
   ]
  }
 ],
 "metadata": {
  "kernelspec": {
   "display_name": "base",
   "language": "python",
   "name": "python3"
  },
  "language_info": {
   "codemirror_mode": {
    "name": "ipython",
    "version": 3
   },
   "file_extension": ".py",
   "mimetype": "text/x-python",
   "name": "python",
   "nbconvert_exporter": "python",
   "pygments_lexer": "ipython3",
   "version": "3.8.5"
  }
 },
 "nbformat": 4,
 "nbformat_minor": 4
}
