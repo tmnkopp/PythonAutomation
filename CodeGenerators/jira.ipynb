{
 "cells": [
  {
   "cell_type": "code",
   "execution_count": null,
   "metadata": {
    "metadata": {}
   },
   "outputs": [],
   "source": [
    "import json, re,  os, time, random, time\n",
    "from bs4 import BeautifulSoup   \n",
    "import pandas as pd \n",
    "from webdriver_manager.chrome import ChromeDriverManager\n",
    "from selenium.webdriver.chrome.options import Options\n",
    "from selenium import webdriver\n",
    "from selenium.webdriver.common.by import By\n",
    "from selenium.webdriver.support.ui import WebDriverWait\n",
    "from selenium.webdriver.support import expected_conditions as EC   \n",
    "from datetime import datetime, date, timedelta\n",
    "import pymongo\n",
    "import logging \n",
    "from ast import literal_eval\n",
    "\n",
    "class context():\n",
    "    def __init__(self):  \n",
    "        self.logger=self._get_logger()\n",
    "        self.config=self._get_config()\n",
    "    def _get_config(self):\n",
    "        config=''\n",
    "        with open(r'C:\\Users\\Tim\\source\\repos\\Py\\snippets\\CodeGenerators\\config.json') as f:\n",
    "            config = json.loads(f.read())  \n",
    "        return config\n",
    "    def _get_logger(self):\n",
    "        logging.basicConfig(filename='config.log', level=logging.INFO, format='%(asctime)s %(message)s', datefmt='%m/%d/%Y %I:%M:%S %p') \n",
    "        #logging.getLogger().setLevel(logging.INFO)\n",
    "        logger=logging.getLogger('config') \n",
    "        return logger\n",
    "ctx = context()\n",
    " "
   ]
  },
  {
   "cell_type": "markdown",
   "metadata": {},
   "source": [
    "<a id=\"id\"></a>"
   ]
  },
  {
   "cell_type": "code",
   "execution_count": null,
   "metadata": {
    "metadata": {}
   },
   "outputs": [],
   "source": [
    "class jiradriver():\n",
    "    def __init__(self, ctx):   \n",
    "        self.driver=None \n",
    "        self.ctx=ctx \n",
    "        self.issues=None\n",
    "    def init(self):\n",
    "        if self.driver==None:\n",
    "            config=self.ctx.config\n",
    "            options = Options() \n",
    "            options.add_argument(\"--window-size=1220,980\")  \n",
    "            options.add_argument('--log-level=3')\n",
    "            driver = webdriver.Chrome(executable_path=ChromeDriverManager().install() ,options=options) \n",
    "            driver.get(f\"https://dayman.cyber-balance.com/jira/login.jsp\")  \n",
    "            driver.find_element(By.XPATH, '//input[contains(@id, \"user\")]').send_keys(config['user'])\n",
    "            driver.find_element(By.XPATH, '//input[contains(@id, \"pass\")]').send_keys(config['pass']) \n",
    "            driver.find_element(By.XPATH, '//*[contains(@id, \"submit\")]').click() \n",
    "            time.sleep(.5)\n",
    "            self.driver=driver \n",
    "        else:  \n",
    "            for h in self.driver.window_handles:\n",
    "                self.driver.switch_to.window(h)\n",
    "                if h != self.driver.window_handles[0]: \n",
    "                    self.driver.close()  \n",
    "            self.driver.switch_to.window(self.driver.window_handles[0])\n",
    "            self.driver.get(f'https://dayman.cyber-balance.com/jira/secure/Dashboard.jspa')\n",
    "        return self\n",
    "    def log(self, issues=None, time_spent='20m'):\n",
    "        if issues==None:\n",
    "            issues=self.issues\n",
    "        driver=self.driver\n",
    "        for issue in issues: \n",
    "            self._fetch_issue(issue)\n",
    "            try:\n",
    "                ele = WebDriverWait(driver, timeout=1).until(lambda d: d.find_element_by_xpath(\"//a[@id='opsbar-transitions_more']//span[contains(text(),'Open')]\"))\n",
    "                ele.click() \n",
    "                ele = WebDriverWait(driver, timeout=1).until(lambda d: d.find_elements_by_xpath(\"//span[contains(text(),'Start Progress')]\")) \n",
    "                if len(ele) > 0:\n",
    "                    ele[0].click()   \n",
    "                    driver.get(issue)\n",
    "                    time.sleep(2)   \n",
    "            except Exception as e:\n",
    "                self.ctx.logger.error(f'[log()    ] Start Progress timeout') \n",
    "            try:    \n",
    "                ele = WebDriverWait(driver, timeout=5).until(lambda d: d.find_element_by_xpath(\"//a[@id='opsbar-operations_more']\"))\n",
    "                ele.click() \n",
    "                ele = WebDriverWait(driver, timeout=5).until(lambda d: d.find_element_by_xpath(\"//span[contains(text(),'Log work')]\"))\n",
    "                ele.click()\n",
    "                ele = WebDriverWait(driver, timeout=5).until(lambda d: d.find_element_by_xpath(\"//*[@id='log-work-time-logged']\"))\n",
    "                ele.send_keys(time_spent) \n",
    "                ele = driver.find_elements_by_xpath(\"//*[@id='log-work-submit']\")\n",
    "                ele[0].click()\n",
    "            except Exception as e:\n",
    "                self.ctx.logger.error(f'[log()     ] {e}') \n",
    "\n",
    "        return self\n",
    "\n",
    "    def _fetch_issue(self, issue):\n",
    "        driver=self.driver  \n",
    "        driver.execute_script(\"window.open('');\") \n",
    "        driver.switch_to.window(driver.window_handles[len(driver.window_handles)-1]) \n",
    "        self.ctx.logger.info(f'[issue     ] {issue}')\n",
    "        driver.get(issue) \n",
    "        time.sleep(1)   \n",
    "\n",
    "    def subo(self,issues=None):\n",
    "        if issues==None:\n",
    "            issues=self.issues\n",
    "        driver=self.driver\n",
    "        for issue in issues[:]:  \n",
    "            self._fetch_issue(issue)  \n",
    "            try:\n",
    "                WebDriverWait(driver, timeout=5).until(lambda d: d.find_element_by_xpath(\"//a//span[contains(text(), 'Progress')]\")).click() \n",
    "                WebDriverWait(driver, timeout=5).until(lambda d: d.find_element_by_xpath(\"//span[contains(text(),'Resolve Issue')]\")).click()  \n",
    "                WebDriverWait(driver, timeout=5).until(lambda d: d.find_element_by_xpath(\"//*[@id='issue-workflow-transition-submit']\")).click()  \n",
    "                time.sleep(3) \n",
    "            except Exception as e:\n",
    "                self.ctx.logger.error(f'[subo()    ] {e}') \n",
    "             \n",
    "            try:\n",
    "                WebDriverWait(driver, timeout=5).until(lambda d: d.find_element_by_xpath(\"//a//span[contains(text(), 'Resolved')]\")).click() \n",
    "                WebDriverWait(driver, timeout=5).until(lambda d: d.find_element_by_xpath(\"//span[contains(text(),'Ready To Test')]\")).click()  \n",
    "                WebDriverWait(driver, timeout=5).until(lambda d: d.find_element_by_xpath(\"//*[@id='issue-workflow-transition-submit']\")).click()   \n",
    "                time.sleep(3) \n",
    "            except Exception as e:\n",
    "                self.ctx.logger.error(f'[subo()    ] {e}')   \n",
    "        return self\n",
    "\n",
    "    def get_issues(self, by='7.6'):\n",
    "        driver=self.driver\n",
    "        driver.get(f'https://dayman.cyber-balance.com/jira/secure/Dashboard.jspa')\n",
    "        time.sleep(1) \n",
    "        if re.match('^[0-9][0-9\\.]+$', by ):\n",
    "            xpath= \"//td[@class='fixVersions']//a[contains(text(),'\" + by + \"')]/../..//a[@class='issue-link']\" \n",
    "        else:\n",
    "            xpath=\"//table[@class='issue-table']//a[contains(text(),'\" + by + \"')]\"\n",
    "\n",
    "        self.ctx.logger.info(f'[xpath      ] {xpath}')  \n",
    "        eles = driver.find_elements_by_xpath(xpath) \n",
    "        issues={e.get_attribute(\"href\") for e in eles}\n",
    "        self.ctx.logger.info(f'[issues     ] {issues}') \n",
    "        for issue in issues:\n",
    "            driver.get(issue)\n",
    "            time.sleep(.25)  \n",
    "        self.issues=list(issues)\n",
    "        return self\n",
    " \n"
   ]
  },
  {
   "cell_type": "code",
   "execution_count": null,
   "metadata": {
    "metadata": {}
   },
   "outputs": [],
   "source": [
    "jira = jiradriver(ctx).init() "
   ]
  },
  {
   "cell_type": "code",
   "execution_count": null,
   "metadata": {
    "metadata": {}
   },
   "outputs": [],
   "source": [
    "jira = jira.get_issues('62').log(time_spent='20m')"
   ]
  },
  {
   "cell_type": "code",
   "execution_count": null,
   "metadata": {},
   "outputs": [],
   "source": [
    "jira.init() "
   ]
  },
  {
   "cell_type": "code",
   "execution_count": null,
   "metadata": {},
   "outputs": [],
   "source": [
    "jira.issues"
   ]
  },
  {
   "cell_type": "code",
   "execution_count": null,
   "metadata": {},
   "outputs": [],
   "source": [
    " \n",
    "jira.subo() "
   ]
  },
  {
   "cell_type": "code",
   "execution_count": null,
   "metadata": {},
   "outputs": [],
   "source": [
    "jira.driver.quit()"
   ]
  },
  {
   "cell_type": "code",
   "execution_count": null,
   "metadata": {},
   "outputs": [],
   "source": [
    "conn = 'mongodb://localhost:27017'\n",
    "client = pymongo.MongoClient(conn) \n",
    "db = client.jira\n",
    "collection = db.issues \n",
    "db.issues.create_index('href', unique = True)\n",
    "\n",
    "\n",
    "\n",
    "df = pd.DataFrame(list(collection.find()))\n",
    "df['tnum'] = df['href'].apply(lambda s: s.split('/').pop())\n",
    "df.sort_index(inplace=True, ascending=False)\n",
    "df['tnum'] + ' ' + df['title'] "
   ]
  },
  {
   "cell_type": "code",
   "execution_count": null,
   "metadata": {},
   "outputs": [],
   "source": [
    "posts\n",
    "df = pd.DataFrame(posts)"
   ]
  },
  {
   "cell_type": "code",
   "execution_count": null,
   "metadata": {},
   "outputs": [],
   "source": [
    "options = Options() \n",
    "options.add_argument(\"--window-size=1220,980\")  \n",
    "options.add_argument('--log-level=3')\n",
    "driver = webdriver.Chrome(executable_path=ChromeDriverManager().install() ,options=options) \n",
    "driver.get(f\"https://accounts.craigslist.org/login\")  \n",
    "driver.find_element(By.XPATH, '//input[contains(@id, \"Email\")]').send_keys('timkopp@gmail.com')\n",
    "driver.find_element(By.XPATH, '//input[contains(@id, \"Password\")]').send_keys(ctx.config['clpass']) \n",
    "driver.find_element(By.XPATH, '//*[contains(@id, \"login\")]').click()\n",
    "time.sleep(2)   \n",
    "renew = driver.find_elements(By.XPATH,\"//form[contains(@action,'7739609697') and contains(@class, 'renew') ]//input[@type='submit']\")\n",
    "if len(renew) > 0:\n",
    "    #renew[0].click()\n",
    "    #driver.quit()\n",
    "    pass"
   ]
  }
 ],
 "metadata": {
  "kernelspec": {
   "display_name": "Python 3",
   "language": "python",
   "name": "python3"
  },
  "language_info": {
   "codemirror_mode": {
    "name": "ipython",
    "version": 3
   },
   "file_extension": ".py",
   "mimetype": "text/x-python",
   "name": "python",
   "nbconvert_exporter": "python",
   "pygments_lexer": "ipython3",
   "version": "3.8.8"
  },
  "vscode": {
   "interpreter": {
    "hash": "1b5c637c5c17e7841ce3b55fac6772e1460db6e5f5b3923b76ec2696de093845"
   }
  }
 },
 "nbformat": 4,
 "nbformat_minor": 4
}
