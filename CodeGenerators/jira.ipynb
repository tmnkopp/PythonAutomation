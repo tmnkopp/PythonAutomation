{
 "cells": [
  {
   "cell_type": "code",
   "execution_count": 8,
   "metadata": {
    "metadata": {}
   },
   "outputs": [],
   "source": [
    "import json, re,  os, time, random, time\n",
    "from bs4 import BeautifulSoup   \n",
    "import pandas as pd \n",
    "from webdriver_manager.chrome import ChromeDriverManager\n",
    "from selenium.webdriver.chrome.options import Options\n",
    "from selenium import webdriver\n",
    "from selenium.webdriver.common.by import By\n",
    "from selenium.webdriver.support.ui import WebDriverWait\n",
    "from selenium.webdriver.support import expected_conditions as EC   \n",
    "from datetime import datetime, date, timedelta\n",
    "#import pymongo\n",
    "import logging  \n",
    "from lib.jira import jiradriver\n",
    "jira = jiradriver()"
   ]
  },
  {
   "cell_type": "code",
   "execution_count": null,
   "metadata": {},
   "outputs": [
    {
     "name": "stdout",
     "output_type": "stream",
     "text": [
      "--window-size=1220,1280\n"
     ]
    }
   ],
   "source": []
  },
  {
   "cell_type": "code",
   "execution_count": null,
   "metadata": {},
   "outputs": [
    {
     "name": "stdout",
     "output_type": "stream",
     "text": [
      "driver_path: C:\\dev\\CyberScope\\CyberScopeBranch\\CSwebdev\\code\\CyberScope.Tests\\bin\\Debug\\net48\\Chrome\\136.0.7103.92\\X64\\chromedriver.exe\n",
      "CS-10532 BOD 25-01: YAML Configuration File Validator\n",
      "CS-10520 BOD 23-01: Create Manual Upload to Populate CDM Data\n",
      "CS-10519 BOD 23-01: Update Admin Interface for New Requirements\n",
      "CS-10518 BOD 23-01: Update Agency Reporting Interface for New Requirements\n",
      "CS-10517 BOD 23-01: Update Database Table for New Requirements\n",
      "CS-10506 FISMA Annual IG 2025 submission, re-open, and approval\n",
      "CS-10503 FY25 Annual IG Section 6 - Database Script - Recover - Contingency Planning\n",
      "CS-10502 FY25 Annual IG Section 5 - Database Script - Respond - Incident Response\n",
      "CS-10501 FY25 Annual IG Section 4 - Database Script - Detect - Information Security Continuous Monitoring (ISCM)\n",
      "CS-10500 FY25 Annual IG Section 3D - Database Script - Protect - Security Training\n",
      "CS-10499 FY25 Annual IG Section 3C - Database Script - Protect - Data Protection and Privacy\n",
      "CS-10498 FY25 Annual IG Section 3B - Database Script - Protect - Identity and Access Management (IDAM)\n",
      "CS-10497 FY25 Annual IG Section 3A - Database Script - Protect - Configuration Management\n",
      "CS-10496 FY25 Annual IG Section 2 - Database Script - Identify - Risk and Asset Management (RAM)\n",
      "CS-10495 FY25 Annual IG Section 1B - Database Script - Govern - CyberSecurity Supply Chain Risk Management (C-SCRM)\n",
      "CS-10494 FY25 Annual IG Section 1A - Database Script - Govern - CyberSecurity Governance\n",
      "CS-10402 Implement Atlas Authentication for API Endpoints\n",
      "CS-10401 Add API Endpoints to CyberScope NextGen\n",
      "CS-10155 Create Client Side Databinding DataGrid - KendoJS\n",
      "CS-8885 create data request/response service\n",
      "CS-8459 Selenium Browser Automator Refactor\n"
     ]
    }
   ],
   "source": [
    "options = {'--headless=new': False, '--window-size=1220,1280': True }   \n",
    "jira.init(options)   \n",
    "jira.print_issues()"
   ]
  },
  {
   "cell_type": "code",
   "execution_count": 15,
   "metadata": {},
   "outputs": [],
   "source": [
    "jira.driver.quit()"
   ]
  },
  {
   "cell_type": "code",
   "execution_count": null,
   "metadata": {},
   "outputs": [],
   "source": [
    "jira.driver.get(f'https://dayman.cyber-balance.com/jira/secure/Dashboard.jspa') "
   ]
  },
  {
   "cell_type": "code",
   "execution_count": 13,
   "metadata": {
    "metadata": {}
   },
   "outputs": [],
   "source": [
    "jira = jira.get_issues('BOD 23').log(time_spent='20m')"
   ]
  },
  {
   "cell_type": "code",
   "execution_count": 14,
   "metadata": {},
   "outputs": [],
   "source": [
    "_= jira.init() "
   ]
  },
  {
   "cell_type": "code",
   "execution_count": 11,
   "metadata": {},
   "outputs": [
    {
     "data": {
      "text/plain": [
       "<lib.jira.jiradriver at 0x18f3b1b1d90>"
      ]
     },
     "execution_count": 11,
     "metadata": {},
     "output_type": "execute_result"
    }
   ],
   "source": [
    "jira.get_issues('IG').subo() "
   ]
  },
  {
   "cell_type": "code",
   "execution_count": null,
   "metadata": {},
   "outputs": [],
   "source": [
    "jira.driver.quit()"
   ]
  },
  {
   "cell_type": "code",
   "execution_count": null,
   "metadata": {},
   "outputs": [],
   "source": [
    "conn = 'mongodb://localhost:27017'\n",
    "client = pymongo.MongoClient(conn) \n",
    "db = client.jira\n",
    "collection = db.issues \n",
    "db.issues.create_index('href', unique = True)\n",
    "\n",
    "\n",
    "\n",
    "df = pd.DataFrame(list(collection.find()))\n",
    "df['tnum'] = df['href'].apply(lambda s: s.split('/').pop())\n",
    "df.sort_index(inplace=True, ascending=False)\n",
    "df['tnum'] + ' ' + df['title'] "
   ]
  },
  {
   "cell_type": "code",
   "execution_count": null,
   "metadata": {},
   "outputs": [],
   "source": [
    "posts\n",
    "df = pd.DataFrame(posts)"
   ]
  },
  {
   "cell_type": "code",
   "execution_count": null,
   "metadata": {},
   "outputs": [],
   "source": [
    "dct = {'driver_path':'xxx'}\n",
    "if 'driver_path' in dct.keys():\n",
    "    print('y')\n",
    "if 'driver_paths' in dct.keys():\n",
    "    print('y')    "
   ]
  },
  {
   "cell_type": "code",
   "execution_count": null,
   "metadata": {},
   "outputs": [],
   "source": [
    "options = Options() \n",
    "options.add_argument(\"--window-size=1220,980\")  \n",
    "options.add_argument('--log-level=3')\n",
    "driver = webdriver.Chrome(executable_path=ChromeDriverManager().install() ,options=options) \n",
    "driver.get(f\"https://accounts.craigslist.org/login\")  \n",
    "driver.find_element(By.XPATH, '//input[contains(@id, \"Email\")]').send_keys('timkopp@gmail.com')\n",
    "driver.find_element(By.XPATH, '//input[contains(@id, \"Password\")]').send_keys(ctx.config['clpass']) \n",
    "driver.find_element(By.XPATH, '//*[contains(@id, \"login\")]').click()\n",
    "time.sleep(2)   \n",
    "renew = driver.find_elements(By.XPATH,\"//form[contains(@action,'7739609697') and contains(@class, 'renew') ]//input[@type='submit']\")\n",
    "if len(renew) > 0:\n",
    "    #renew[0].click()\n",
    "    #driver.quit()\n",
    "    pass"
   ]
  }
 ],
 "metadata": {
  "kernelspec": {
   "display_name": "base",
   "language": "python",
   "name": "python3"
  },
  "language_info": {
   "codemirror_mode": {
    "name": "ipython",
    "version": 3
   },
   "file_extension": ".py",
   "mimetype": "text/x-python",
   "name": "python",
   "nbconvert_exporter": "python",
   "pygments_lexer": "ipython3",
   "version": "3.8.5"
  }
 },
 "nbformat": 4,
 "nbformat_minor": 4
}
