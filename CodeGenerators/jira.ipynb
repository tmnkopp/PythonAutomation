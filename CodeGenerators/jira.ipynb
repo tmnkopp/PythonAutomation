{
 "cells": [
  {
   "cell_type": "code",
   "execution_count": 1,
   "metadata": {
    "metadata": {}
   },
   "outputs": [],
   "source": [
    "import json, re,  os, time, random, time\n",
    "from bs4 import BeautifulSoup   \n",
    "import pandas as pd \n",
    "from webdriver_manager.chrome import ChromeDriverManager\n",
    "from selenium.webdriver.chrome.options import Options\n",
    "from selenium import webdriver\n",
    "from selenium.webdriver.common.by import By\n",
    "from selenium.webdriver.support.ui import WebDriverWait\n",
    "from selenium.webdriver.support import expected_conditions as EC   \n",
    "from datetime import datetime, date, timedelta\n",
    "import pymongo\n",
    "import logging  \n",
    "from lib.jira import jiradriver\n",
    "# ChromeDriverManager().install()"
   ]
  },
  {
   "cell_type": "code",
   "execution_count": 2,
   "metadata": {},
   "outputs": [
    {
     "name": "stdout",
     "output_type": "stream",
     "text": [
      "driver_path: C:\\dev\\CyberScope\\CyberScopeBranch\\CSwebdev\\code\\CyberScope.Tests\\bin\\Debug\\net48\\Chrome\\130.0.6723.69\\X64\\chromedriver.exe\n"
     ]
    }
   ],
   "source": [
    "jira = jiradriver().init() "
   ]
  },
  {
   "cell_type": "code",
   "execution_count": 3,
   "metadata": {
    "metadata": {}
   },
   "outputs": [],
   "source": [
    "jira = jira.get_issues('SCuBA').log(time_spent='60m')\n",
    "_= jira.init() "
   ]
  },
  {
   "cell_type": "code",
   "execution_count": 5,
   "metadata": {},
   "outputs": [],
   "source": [
    "_= jira.init() "
   ]
  },
  {
   "cell_type": "code",
   "execution_count": 4,
   "metadata": {},
   "outputs": [
    {
     "data": {
      "text/plain": [
       "<lib.jira.jiradriver at 0x2427afdf5e0>"
      ]
     },
     "execution_count": 4,
     "metadata": {},
     "output_type": "execute_result"
    }
   ],
   "source": [
    "jira.get_issues('SCuBA').subo() "
   ]
  },
  {
   "cell_type": "code",
   "execution_count": 12,
   "metadata": {},
   "outputs": [],
   "source": [
    "jira.driver.quit()"
   ]
  },
  {
   "cell_type": "code",
   "execution_count": null,
   "metadata": {},
   "outputs": [],
   "source": [
    "conn = 'mongodb://localhost:27017'\n",
    "client = pymongo.MongoClient(conn) \n",
    "db = client.jira\n",
    "collection = db.issues \n",
    "db.issues.create_index('href', unique = True)\n",
    "\n",
    "\n",
    "\n",
    "df = pd.DataFrame(list(collection.find()))\n",
    "df['tnum'] = df['href'].apply(lambda s: s.split('/').pop())\n",
    "df.sort_index(inplace=True, ascending=False)\n",
    "df['tnum'] + ' ' + df['title'] "
   ]
  },
  {
   "cell_type": "code",
   "execution_count": null,
   "metadata": {},
   "outputs": [],
   "source": [
    "posts\n",
    "df = pd.DataFrame(posts)"
   ]
  },
  {
   "cell_type": "code",
   "execution_count": null,
   "metadata": {},
   "outputs": [],
   "source": [
    "dct = {'driver_path':'xxx'}\n",
    "if 'driver_path' in dct.keys():\n",
    "    print('y')\n",
    "if 'driver_paths' in dct.keys():\n",
    "    print('y')    "
   ]
  },
  {
   "cell_type": "code",
   "execution_count": null,
   "metadata": {},
   "outputs": [],
   "source": [
    "options = Options() \n",
    "options.add_argument(\"--window-size=1220,980\")  \n",
    "options.add_argument('--log-level=3')\n",
    "driver = webdriver.Chrome(executable_path=ChromeDriverManager().install() ,options=options) \n",
    "driver.get(f\"https://accounts.craigslist.org/login\")  \n",
    "driver.find_element(By.XPATH, '//input[contains(@id, \"Email\")]').send_keys('timkopp@gmail.com')\n",
    "driver.find_element(By.XPATH, '//input[contains(@id, \"Password\")]').send_keys(ctx.config['clpass']) \n",
    "driver.find_element(By.XPATH, '//*[contains(@id, \"login\")]').click()\n",
    "time.sleep(2)   \n",
    "renew = driver.find_elements(By.XPATH,\"//form[contains(@action,'7739609697') and contains(@class, 'renew') ]//input[@type='submit']\")\n",
    "if len(renew) > 0:\n",
    "    #renew[0].click()\n",
    "    #driver.quit()\n",
    "    pass"
   ]
  }
 ],
 "metadata": {
  "kernelspec": {
   "display_name": "base",
   "language": "python",
   "name": "python3"
  },
  "language_info": {
   "codemirror_mode": {
    "name": "ipython",
    "version": 3
   },
   "file_extension": ".py",
   "mimetype": "text/x-python",
   "name": "python",
   "nbconvert_exporter": "python",
   "pygments_lexer": "ipython3",
   "version": "3.8.5"
  }
 },
 "nbformat": 4,
 "nbformat_minor": 4
}
