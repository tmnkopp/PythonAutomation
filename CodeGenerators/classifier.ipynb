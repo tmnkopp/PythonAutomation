{
 "cells": [
  {
   "cell_type": "code",
   "execution_count": null,
   "metadata": {},
   "outputs": [],
   "source": [
    "\n",
    "import pandas as pd\n",
    "import numpy as np \n",
    "import re \n",
    "import nltk\n",
    "nltk.download(\"punkt\")\n",
    "from nltk.corpus import stopwords \n",
    "sw=stopwords.words('english') \n",
    "from nltk.util import ngrams\n",
    "from lib.config import connstr\n",
    "from lib.utils import * \n",
    "from sklearn.feature_extraction.text import CountVectorizer\n",
    "import warnings\n",
    "warnings.filterwarnings('ignore') \n",
    "from sklearn.linear_model import LinearRegression, Ridge, Lasso\n",
    "from sklearn.neighbors import KNeighborsRegressor\n",
    "from sklearn.neural_network import MLPRegressor\n",
    "from sklearn.svm import LinearSVR, SVR\n",
    "from sklearn.tree import DecisionTreeRegressor\n",
    "from sklearn.ensemble import RandomForestRegressor, GradientBoostingRegressor\n",
    "from sklearn.model_selection import train_test_split \n",
    "from sklearn.preprocessing import StandardScaler \n",
    "from sklearn.linear_model import LogisticRegression \n"
   ]
  },
  {
   "cell_type": "code",
   "execution_count": null,
   "metadata": {},
   "outputs": [],
   "source": [
    "USE_CACHE=False\n",
    "def extract_ngrams(data, num):\n",
    "    n_grams = ngrams(nltk.word_tokenize(data), num)\n",
    "    return [ ' '.join(grams) for grams in n_grams]"
   ]
  },
  {
   "cell_type": "code",
   "execution_count": 160,
   "metadata": {},
   "outputs": [],
   "source": [
    "if not USE_CACHE:\n",
    "    df=sql_todf(f\"\"\"\n",
    "        SELECT FK_QuestionType, QuestionText\n",
    "        FROM fsma_Questions WHERE FK_QuestionType IS NOT NULL AND QuestionText IS NOT NULL \n",
    "        AND FK_QuestionType IN (1,2 )\n",
    "        \"\"\", connstr)   \n",
    "    df['NQuestionText']=df['QuestionText'].apply(lambda s: re.sub('[^a-z\\s]','',s.lower() )) \n",
    "    df['NQuestionText'].dropna(inplace=True)\n",
    "    df['NQuestionText']=df['NQuestionText'].apply(lambda s: ' '.join([s for s in s.split() if s.lower() not in sw]).upper()) \n",
    "\n",
    "    vectorizer = CountVectorizer()\n",
    "    X = vectorizer.fit_transform(df['NQuestionText'])  \n",
    "     \n",
    "    dff = pd.DataFrame(columns=vectorizer.get_feature_names(), data=X.toarray()) \n",
    "    m=pd.merge(df, dff, left_index=True, right_index=True)\n",
    "    m.to_csv(r'c:\\temp\\cache.csv', index=False)\n",
    "df=pd.read_csv(r'c:\\temp\\cache.csv')"
   ]
  },
  {
   "cell_type": "code",
   "execution_count": 170,
   "metadata": {},
   "outputs": [
    {
     "name": "stdout",
     "output_type": "stream",
     "text": [
      "     FK_QuestionType                                      NQuestionText\n",
      "820                1   ENSURES RESOURCES PROVIDED CORRECTING WEAKNESSES\n",
      "821                1  POAMS INCLUDE SECURITY WEAKNESSES DISCOVERED A...\n",
      "822                1  COSTS ASSOCIATED REMEDIATING WEAKNESSES IDENTI...\n",
      "823                1  PROGRAM OFFICIALS CONTRACTORS REPORT PROGRESS ...\n",
      "824                1  ORGANIZATION ESTABLISHED REMOTE ACCESS PROGRAM...\n",
      "825                1  DOCUMENTED POLICIES PROCEDURES AUTHORIZING MON...\n",
      "826                1  PROTECTS UNAUTHORIZED CONNECTIONS SUBVERSION A...\n",
      "827                1  USERS UNIQUELY IDENTIFIED AUTHENTICATED ACCESS...\n",
      "828                1  TELECOMMUTING POLICY FULLY DEVELOPED NIST SECTION\n",
      "829                1  APPLICABLE MULTIFACTOR AUTHENTICATION REQUIRED...\n",
      "830                1  AUTHENTICATION MECHANISMS MEET NIST SPECIAL PU...\n",
      "831                1  DEFINES IMPLEMENTS ENCRYPTION REQUIREMENTS INF...\n",
      "832                1  REMOTE ACCESS SESSIONS ACCORDANCE OMB TIMEDOUT...\n",
      "833                1  LOST STOLEN DEVICES DISABLED APPROPRIATELY REP...\n",
      "834                1  REMOTE ACCESS RULES BEHAVIOR ADEQUATE ACCORDAN...\n",
      "835                1  REMOTE ACCESS USER AGREEMENTS ADEQUATE ACCORDA...\n",
      "836                1  ORGANIZATION ESTABLISHED ENTERPRISEWIDE BUSINE...\n",
      "837                1  DOCUMENTED BUSINESS CONTINUITY DISASTER RECOVE...\n",
      "838                1  ORGANIZATION PERFORMED OVERALL BUSINESS IMPACT...\n",
      "839                1  DEVELOPMENT DOCUMENTATION DIVISION COMPONENT I...\n",
      "840                1          TESTING SYSTEM SPECIFIC CONTINGENCY PLANS\n",
      "841                1  DOCUMENTED BUSINESS CONTINUITY DISASTER RECOVE...\n",
      "842                1  DEVELOPMENT FULLY IMPLEMENTABLE TEST TRAINING ...\n",
      "843                1  PERFORMANCE REGULAR ONGOING TESTING EXERCISING...\n",
      "844                1  AFTERACTION REPORT ADDRESSES ISSUES IDENTIFIED...\n",
      "845                1  SYSTEMS ALTERNATE PROCESSING SITES FCD NIST SP...\n",
      "846                1  ALTERNATE PROCESSING SITES SUBJECT RISKS PRIMA...\n",
      "847                1  BACKUPS INFORMATION PERFORMED TIMELY MANNER FC...\n",
      "848                1  CONTINGENCY PLANNING CONSIDER SUPPLY CHAIN THR...\n",
      "849                1  ORGANIZATION ESTABLISHED PROGRAM OVERSEE SYSTE...\n",
      "850                1  DOCUMENTED POLICIES PROCEDURES INFORMATION SEC...\n",
      "851                1  ORGANIZATION OBTAINS SUFFICIENT ASSURANCE SECU...\n",
      "852                1  COMPLETE INVENTORY SYSTEMS OPERATED ORGANIZATI...\n",
      "853                1  INVENTORY IDENTIFIES INTERFACES SYSTEMS ORGANI...\n",
      "854                1  ORGANIZATION REQUIRES APPROPRIATE AGREEMENTS E...\n",
      "855                1  INVENTORY CONTRACTOR SYSTEMS UPDATED LEAST ANN...\n"
     ]
    }
   ],
   "source": [
    "dff=df.copy()\n",
    "print(dff.loc[820:855, ['FK_QuestionType', 'NQuestionText']])\n",
    " "
   ]
  },
  {
   "cell_type": "code",
   "execution_count": 151,
   "metadata": {},
   "outputs": [],
   "source": [
    "df.drop(['NQuestionText', 'QuestionText'], inplace=True, axis=1)"
   ]
  },
  {
   "cell_type": "code",
   "execution_count": 152,
   "metadata": {},
   "outputs": [],
   "source": [
    "y = df['FK_QuestionType'].values \n",
    "X = df.drop(['FK_QuestionType' ], axis=1).values"
   ]
  },
  {
   "cell_type": "code",
   "execution_count": 153,
   "metadata": {},
   "outputs": [],
   "source": [
    "X_train, X_test, y_train, y_test = train_test_split(X, y, random_state=1)"
   ]
  },
  {
   "cell_type": "code",
   "execution_count": 154,
   "metadata": {},
   "outputs": [
    {
     "data": {
      "text/plain": [
       "0.974910394265233"
      ]
     },
     "execution_count": 154,
     "metadata": {},
     "output_type": "execute_result"
    }
   ],
   "source": [
    "model = LogisticRegression()\n",
    "model.fit(X_train, y_train)\n",
    "model.score(X_test, y_test)"
   ]
  },
  {
   "cell_type": "code",
   "execution_count": 155,
   "metadata": {},
   "outputs": [],
   "source": [
    "def predict(s):\n",
    "    arr=np.zeros(len(vectorizer.get_feature_names()), dtype=int)\n",
    "    lst=s.split(' ')\n",
    "    for w in lst:\n",
    "        if w in vectorizer.get_feature_names():\n",
    "            pos=vectorizer.get_feature_names().index(w)\n",
    "            arr[pos]=1 \n",
    "    return arr\n"
   ]
  },
  {
   "cell_type": "code",
   "execution_count": 156,
   "metadata": {},
   "outputs": [
    {
     "data": {
      "text/plain": [
       "2"
      ]
     },
     "execution_count": 156,
     "metadata": {},
     "output_type": "execute_result"
    }
   ],
   "source": [
    "arr=predict('PROVIDE NUMBER DNS NAMES SIGNED USING DNSSEC') \n",
    "prediction =model.predict([arr])\n",
    "prediction[0]"
   ]
  }
 ],
 "metadata": {
  "kernelspec": {
   "display_name": "base",
   "language": "python",
   "name": "python3"
  },
  "language_info": {
   "codemirror_mode": {
    "name": "ipython",
    "version": 3
   },
   "file_extension": ".py",
   "mimetype": "text/x-python",
   "name": "python",
   "nbconvert_exporter": "python",
   "pygments_lexer": "ipython3",
   "version": "3.8.5"
  },
  "orig_nbformat": 4
 },
 "nbformat": 4,
 "nbformat_minor": 2
}
