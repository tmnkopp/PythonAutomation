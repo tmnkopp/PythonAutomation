{
 "cells": [
  {
   "cell_type": "code",
   "execution_count": null,
   "metadata": {},
   "outputs": [],
   "source": [
    "\n",
    "import pandas as pd\n",
    "import numpy as np \n",
    "import re \n",
    "import nltk\n",
    "nltk.download(\"punkt\")\n",
    "from nltk.corpus import stopwords \n",
    "sw=stopwords.words('english') \n",
    "from nltk.util import ngrams\n",
    "from lib.config import connstr\n",
    "from lib.utils import * \n",
    "from sklearn.feature_extraction.text import CountVectorizer\n",
    "import warnings\n",
    "warnings.filterwarnings('ignore') \n",
    "from sklearn.linear_model import LinearRegression, Ridge, Lasso\n",
    "from sklearn.neighbors import KNeighborsRegressor\n",
    "from sklearn.neural_network import MLPRegressor\n",
    "from sklearn.svm import LinearSVR, SVR\n",
    "from sklearn.tree import DecisionTreeRegressor\n",
    "from sklearn.ensemble import RandomForestRegressor, GradientBoostingRegressor\n",
    "from sklearn.model_selection import train_test_split \n",
    "from sklearn.preprocessing import StandardScaler \n",
    "from sklearn.linear_model import LogisticRegression \n"
   ]
  },
  {
   "cell_type": "code",
   "execution_count": null,
   "metadata": {},
   "outputs": [],
   "source": [
    "USE_CACHE=False\n",
    "def extract_ngrams(data, num):\n",
    "    n_grams = ngrams(nltk.word_tokenize(data), num)\n",
    "    return [ ' '.join(grams) for grams in n_grams]"
   ]
  },
  {
   "cell_type": "code",
   "execution_count": 188,
   "metadata": {},
   "outputs": [],
   "source": [
    "if not USE_CACHE:\n",
    "    df=sql_todf(f\"\"\"\n",
    "        SELECT FK_QuestionType, QuestionText\n",
    "        FROM fsma_Questions WHERE FK_QuestionType IS NOT NULL AND QuestionText IS NOT NULL \n",
    "        AND FK_QuestionType IN (1,2 )\n",
    "        \"\"\", connstr)   \n",
    "    df['NQuestionText']=df['QuestionText'].apply(lambda s: re.sub('[^a-z\\s\\-]','',s.lower() )) \n",
    "    df['NQuestionText'].dropna(inplace=True)\n",
    "    df['NQuestionText']=df['NQuestionText'].apply(lambda s: ' '.join([s for s in s.split() if s.lower() not in sw][:6]).upper()) \n",
    "\n",
    "    vectorizer = CountVectorizer()\n",
    "    X = vectorizer.fit_transform(df['NQuestionText'])  \n",
    "     \n",
    "    dff = pd.DataFrame(columns=vectorizer.get_feature_names(), data=X.toarray()) \n",
    "    m=pd.merge(df, dff, left_index=True, right_index=True)\n",
    "    m.to_csv(r'c:\\temp\\cache.csv', index=False)\n",
    "df=pd.read_csv(r'c:\\temp\\cache.csv')"
   ]
  },
  {
   "cell_type": "code",
   "execution_count": 192,
   "metadata": {},
   "outputs": [
    {
     "data": {
      "text/html": [
       "<div>\n",
       "<style scoped>\n",
       "    .dataframe tbody tr th:only-of-type {\n",
       "        vertical-align: middle;\n",
       "    }\n",
       "\n",
       "    .dataframe tbody tr th {\n",
       "        vertical-align: top;\n",
       "    }\n",
       "\n",
       "    .dataframe thead th {\n",
       "        text-align: right;\n",
       "    }\n",
       "</style>\n",
       "<table border=\"1\" class=\"dataframe\">\n",
       "  <thead>\n",
       "    <tr style=\"text-align: right;\">\n",
       "      <th></th>\n",
       "      <th>FK_QuestionType</th>\n",
       "      <th>NQuestionText</th>\n",
       "    </tr>\n",
       "  </thead>\n",
       "  <tbody>\n",
       "    <tr>\n",
       "      <th>220</th>\n",
       "      <td>2</td>\n",
       "      <td>PROVIDE NUMBER TYPES OPERATING SYSTEM SOFTWARE</td>\n",
       "    </tr>\n",
       "    <tr>\n",
       "      <th>221</th>\n",
       "      <td>2</td>\n",
       "      <td>PROVIDE NUMBER OPERATING SYSTEM SOFTWARE USE</td>\n",
       "    </tr>\n",
       "    <tr>\n",
       "      <th>222</th>\n",
       "      <td>2</td>\n",
       "      <td>PROVIDE NUMBER ENTERPRISE-WIDE APPLICATIONS EG...</td>\n",
       "    </tr>\n",
       "    <tr>\n",
       "      <th>223</th>\n",
       "      <td>2</td>\n",
       "      <td>PROVIDE NUMBER ENTERPRISE-WIDE APPLICATIONS ST...</td>\n",
       "    </tr>\n",
       "    <tr>\n",
       "      <th>224</th>\n",
       "      <td>2</td>\n",
       "      <td>PROVIDE NUMBER AGENCY INFORMATION TECHNOLOGY A...</td>\n",
       "    </tr>\n",
       "    <tr>\n",
       "      <th>...</th>\n",
       "      <td>...</td>\n",
       "      <td>...</td>\n",
       "    </tr>\n",
       "    <tr>\n",
       "      <th>281</th>\n",
       "      <td>1</td>\n",
       "      <td>AGENCY POLICY PLACE ENSURE PERSONNEL EMPLOYEES</td>\n",
       "    </tr>\n",
       "    <tr>\n",
       "      <th>282</th>\n",
       "      <td>1</td>\n",
       "      <td>AGENCY PROGRAM JOB-SPECIFIC COMPREHENSIVE INFO...</td>\n",
       "    </tr>\n",
       "    <tr>\n",
       "      <th>283</th>\n",
       "      <td>1</td>\n",
       "      <td>DETERMINING WHETHER PIA NEEDED</td>\n",
       "    </tr>\n",
       "    <tr>\n",
       "      <th>284</th>\n",
       "      <td>1</td>\n",
       "      <td>CONDUCTING PIA</td>\n",
       "    </tr>\n",
       "    <tr>\n",
       "      <th>285</th>\n",
       "      <td>1</td>\n",
       "      <td>EVALUATING CHANGES TECHNOLOGY BUSINESS PRACTIC...</td>\n",
       "    </tr>\n",
       "  </tbody>\n",
       "</table>\n",
       "<p>66 rows × 2 columns</p>\n",
       "</div>"
      ],
      "text/plain": [
       "     FK_QuestionType                                      NQuestionText\n",
       "220                2     PROVIDE NUMBER TYPES OPERATING SYSTEM SOFTWARE\n",
       "221                2       PROVIDE NUMBER OPERATING SYSTEM SOFTWARE USE\n",
       "222                2  PROVIDE NUMBER ENTERPRISE-WIDE APPLICATIONS EG...\n",
       "223                2  PROVIDE NUMBER ENTERPRISE-WIDE APPLICATIONS ST...\n",
       "224                2  PROVIDE NUMBER AGENCY INFORMATION TECHNOLOGY A...\n",
       "..               ...                                                ...\n",
       "281                1     AGENCY POLICY PLACE ENSURE PERSONNEL EMPLOYEES\n",
       "282                1  AGENCY PROGRAM JOB-SPECIFIC COMPREHENSIVE INFO...\n",
       "283                1                     DETERMINING WHETHER PIA NEEDED\n",
       "284                1                                     CONDUCTING PIA\n",
       "285                1  EVALUATING CHANGES TECHNOLOGY BUSINESS PRACTIC...\n",
       "\n",
       "[66 rows x 2 columns]"
      ]
     },
     "execution_count": 192,
     "metadata": {},
     "output_type": "execute_result"
    }
   ],
   "source": [
    "dff=df.copy()\n",
    "dff.loc[220:285,['FK_QuestionType','NQuestionText']]"
   ]
  },
  {
   "cell_type": "code",
   "execution_count": 193,
   "metadata": {},
   "outputs": [
    {
     "data": {
      "text/plain": [
       "0.9767025089605734"
      ]
     },
     "execution_count": 193,
     "metadata": {},
     "output_type": "execute_result"
    }
   ],
   "source": [
    "df.drop(['NQuestionText', 'QuestionText'], inplace=True, axis=1)\n",
    "y = df['FK_QuestionType'].values \n",
    "X = df.drop(['FK_QuestionType' ], axis=1).values\n",
    "X_train, X_test, y_train, y_test = train_test_split(X, y, random_state=1)\n",
    "\n",
    "model = LogisticRegression()\n",
    "model.fit(X_train, y_train)\n",
    "model.score(X_test, y_test)"
   ]
  },
  {
   "cell_type": "code",
   "execution_count": 194,
   "metadata": {},
   "outputs": [],
   "source": [
    "def predict(s):\n",
    "    arr=np.zeros(len(vectorizer.get_feature_names()), dtype=int)\n",
    "    lst=s.split(' ')\n",
    "    for w in lst:\n",
    "        if w in vectorizer.get_feature_names():\n",
    "            pos=vectorizer.get_feature_names().index(w)\n",
    "            arr[pos]=1 \n",
    "    return arr "
   ]
  },
  {
   "cell_type": "code",
   "execution_count": 196,
   "metadata": {},
   "outputs": [
    {
     "data": {
      "text/plain": [
       "2"
      ]
     },
     "execution_count": 196,
     "metadata": {},
     "output_type": "execute_result"
    }
   ],
   "source": [
    "arr=predict('AGENCY POLICY PLACE ENSURE PERSONNEL EMPLOYEES') \n",
    "prediction =model.predict([arr])\n",
    "prediction[0]"
   ]
  }
 ],
 "metadata": {
  "kernelspec": {
   "display_name": "base",
   "language": "python",
   "name": "python3"
  },
  "language_info": {
   "codemirror_mode": {
    "name": "ipython",
    "version": 3
   },
   "file_extension": ".py",
   "mimetype": "text/x-python",
   "name": "python",
   "nbconvert_exporter": "python",
   "pygments_lexer": "ipython3",
   "version": "3.8.5"
  },
  "orig_nbformat": 4
 },
 "nbformat": 4,
 "nbformat_minor": 2
}
