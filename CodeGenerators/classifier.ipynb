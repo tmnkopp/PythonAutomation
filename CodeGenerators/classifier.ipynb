{
 "cells": [
  {
   "cell_type": "code",
   "execution_count": 1,
   "metadata": {},
   "outputs": [],
   "source": [
    "\n",
    "import pandas as pd\n",
    "import numpy as np \n",
    "import re , datetime , logging, pickle, os\n",
    "from lib.config import connstr\n",
    "from lib.utils import * \n",
    "from lib.question_type_recommender import question_type_recommender\n",
    "from sklearn.feature_extraction.text import CountVectorizer\n",
    "import warnings\n",
    "warnings.filterwarnings('ignore') \n",
    "from sklearn.linear_model import Ridge, Lasso\n",
    "from sklearn import metrics\n",
    "from sklearn.metrics import confusion_matrix\n",
    "from sklearn.model_selection import train_test_split \n",
    "from sklearn.preprocessing import StandardScaler \n",
    "from sklearn.linear_model import LogisticRegression \n",
    "from sklearn import svm\n",
    "import shap \n",
    "\n",
    "import matplotlib.pyplot as plt\n",
    "import seaborn as sns\n",
    "from sklearn.metrics import classification_report\n",
    "from sklearn.feature_extraction.text import TfidfVectorizer\n",
    "from lib.context import context\n",
    "ctx=context() \n",
    "ctx.logger.setLevel(logging.DEBUG)\n",
    "config = {}\n",
    "with open('config.json', 'r') as f: \n",
    "    config=json.loads(f.read())    \n",
    "ctx.config=config "
   ]
  },
  {
   "cell_type": "code",
   "execution_count": null,
   "metadata": {},
   "outputs": [],
   "source": [
    "qr = question_type_recommender(ctx, verbose=True, use_cache=True)\n",
    "qr.recommend('How many threat model exercises [34] were conducted in the last reporting period ?')"
   ]
  },
  {
   "cell_type": "code",
   "execution_count": 2,
   "metadata": {},
   "outputs": [],
   "source": [
    "sns.set(rc={'figure.figsize':(18,4.7)}) \n",
    "plt.style.use('Solarize_Light2') # fivethirtyeight"
   ]
  },
  {
   "cell_type": "code",
   "execution_count": null,
   "metadata": {},
   "outputs": [],
   "source": [
    "codes = ['YN','CNT','TXT','PICK','FREQ','DEC','MULTICHECKBOX' ]\n",
    "qt=sql_todf(f\"\"\"\n",
    "SELECT PK_QuestionTypeId, Code ,description FROM fsma_QuestionTypes\n",
    "  WHERE Code IN ('YN','CNT','YNA','TXT','PICK','LABEL','FREQ','DEC','MULTICHECKBOX')\n",
    "    \"\"\", connstr)   \n",
    "\n",
    "df=sql_todf(f\"\"\"\n",
    "    SELECT PK_Question, FK_QuestionType, Code, QuestionText \n",
    "    FROM fsma_Questions \n",
    "\t  INNER JOIN fsma_QuestionTypes ON fsma_Questions.FK_QuestionType=fsma_QuestionTypes.PK_QuestionTypeId\n",
    "\t  WHERE FK_QuestionType IS NOT NULL AND QuestionText IS NOT NULL  \n",
    "    AND Code IN ('{\"','\".join(codes)}')  \n",
    "    AND PK_Question < 40000\n",
    "    ORDER BY PK_QUESTION DESC\n",
    "    \"\"\", connstr)  \n",
    "\n",
    "def _normalizer(s):\n",
    "    s=re.sub('[^a-z0-9\\s\\-\\?]','',s.lower() )\n",
    "    s=re.sub('\\s{2,}',' ',s).strip()\n",
    "    return s \n",
    "#_normalizer('How many threat model exercises [34] were conducted in the last reporting period ?')\n",
    "#qt\n",
    "# df[df['Code'].isin(['FREQ','DEC'])]"
   ]
  },
  {
   "cell_type": "code",
   "execution_count": null,
   "metadata": {},
   "outputs": [],
   "source": [
    "sns.barplot(df['Code'].value_counts().index, df['FK_QuestionType'].value_counts().values, alpha=0.6) "
   ]
  },
  {
   "cell_type": "code",
   "execution_count": null,
   "metadata": {},
   "outputs": [],
   "source": [
    " \n",
    "df['QuestionText']=df['QuestionText'].apply(_normalizer)  \n",
    "model = LogisticRegression()\n",
    "lod=[]\n",
    "for ng in [ (1,2) ]: # ,  , (1,3), (1,4) (1,2), \n",
    "    for i in range(3,4,1): # 0.002\n",
    "        start = datetime.datetime.now()\n",
    "        mindf = i*.001   \n",
    "        vectorizer = CountVectorizer(ngram_range=ng, min_df=mindf, stop_words=['in'], analyzer='word',token_pattern=u'\\w+|\\?')\n",
    "        \n",
    "        X = vectorizer.fit_transform(df['QuestionText'])   \n",
    "        sparse_matrix = pd.DataFrame(columns=vectorizer.get_feature_names(), data=X.toarray()) \n",
    "        sparse_matrix=pd.merge(df, sparse_matrix, left_index=True, right_index=True)  \n",
    "        sparse_matrix.drop(['QuestionText', 'PK_Question', 'Code' ], inplace=True, axis=1) \n",
    "        y = sparse_matrix['FK_QuestionType'].values \n",
    "        X = sparse_matrix.drop(['FK_QuestionType' ], axis=1).values\n",
    "        X_train, X_test, y_train, y_test = train_test_split(X, y, random_state=1)\n",
    "        model.fit(X_train, y_train)\n",
    "        y_pred=model.predict(X_test)\n",
    "        score=model.score(X_test, y_test) \n",
    "        stop = datetime.datetime.now()\n",
    "        report = classification_report(y_test, y_pred, target_names=codes)\n",
    "        d={\n",
    "            'score':score,\n",
    "            'time': (stop-start).seconds,\n",
    "            'ngram_range': ng,\n",
    "            'min_df': mindf,\n",
    "            'sparse_matrix.shape':sparse_matrix.shape,\n",
    "            'report':report\n",
    "        }\n",
    "        print(d)  \n",
    "        lod.append(d)\n",
    "scores = pd.DataFrame(lod)"
   ]
  },
  {
   "cell_type": "code",
   "execution_count": null,
   "metadata": {},
   "outputs": [],
   "source": [
    "print( scores.loc[0, 'report'] )  \n",
    "scores.sort_values(by='score')\n",
    "if len(scores) > 1:\n",
    "    sns.lineplot(data=scores, x='time', y='score' )"
   ]
  },
  {
   "cell_type": "code",
   "execution_count": null,
   "metadata": {},
   "outputs": [],
   "source": [
    "coefficients = abs(model.coef_[0])\n",
    "coefficients[0]\n",
    "fi = pd.DataFrame({'Feature': sparse_matrix.columns[1:], 'Importance': coefficients})\n",
    "fi = fi.sort_values('Importance', ascending=False)   \n",
    "plot = sns.barplot(x=fi[:50].Feature , y=fi[:50].Importance) \n",
    "plt.xticks(rotation=90)\n",
    "plt.show() "
   ]
  },
  {
   "cell_type": "code",
   "execution_count": null,
   "metadata": {},
   "outputs": [],
   "source": [
    "explainer = shap.Explainer(model, X_test )\n",
    "shap_values = explainer.shap_values(X_test)   \n",
    "shap.summary_plot( shap_values,  X_test, max_display=25,  feature_names=sparse_matrix.columns[1:],  plot_size=[18,16] ) "
   ]
  },
  {
   "cell_type": "code",
   "execution_count": null,
   "metadata": {},
   "outputs": [],
   "source": [
    "\n",
    "df1=sql_todf(f\"\"\"\n",
    "    SELECT  FK_QuestionType, Code, QuestionText \n",
    "    FROM fsma_Questions \n",
    "\t  INNER JOIN fsma_QuestionTypes ON fsma_Questions.FK_QuestionType=fsma_QuestionTypes.PK_QuestionTypeId\n",
    "\t  WHERE FK_QuestionType IS NOT NULL AND QuestionText IS NOT NULL  \n",
    "    AND Code IN ('YN', 'CNT', 'TXT', 'PICK', 'FREQ', 'DEC', 'MULTICHECKBOX') --  'YNA', 'FREQ','DEC',\n",
    "    AND PK_Question > 40000\n",
    "    ORDER BY PK_QUESTION DESC\n",
    "    \"\"\", connstr)\n",
    "print(codes)"
   ]
  },
  {
   "cell_type": "code",
   "execution_count": null,
   "metadata": {},
   "outputs": [],
   "source": [
    "lod=[]\n",
    "for i,r in df1.iterrows():\n",
    "    rec = qr.recommend(r['QuestionText'])\n",
    "    if str(r['FK_QuestionType']) != str(rec):\n",
    "        d={\n",
    "            'actual': r['FK_QuestionType'],\n",
    "            'rec': rec,\n",
    "            'QuestionText': r['QuestionText']\n",
    "        }\n",
    "        lod.append(d)\n",
    "dff=pd.DataFrame(lod)\n"
   ]
  },
  {
   "cell_type": "code",
   "execution_count": null,
   "metadata": {},
   "outputs": [],
   "source": [
    "d17 = dff.loc[dff.actual == 17]\n",
    "d17.to_csv('out/data.csv')"
   ]
  },
  {
   "cell_type": "code",
   "execution_count": null,
   "metadata": {},
   "outputs": [],
   "source": [
    "txt=_normalizer('How many threat model exercises [34] were conducted in the last reporting period ?')\n",
    "print(txt)\n",
    "X = vectorizer.transform([txt])  \n",
    "prediction=model.predict(X.toarray())\n",
    "print ('\\nPK_QuestionType : '+ str(prediction[0])) "
   ]
  },
  {
   "cell_type": "code",
   "execution_count": null,
   "metadata": {},
   "outputs": [],
   "source": [
    "cnf_matrix = metrics.confusion_matrix(y_test, y_pred) \n",
    "fig, ax = plt.subplots()\n",
    "tick_marks = np.arange(len(codes))\n",
    "plt.xticks(tick_marks, codes)\n",
    "plt.yticks(tick_marks, codes) \n",
    "sns.heatmap(pd.DataFrame(cnf_matrix), annot=True, fmt='g' , xticklabels=codes, yticklabels=codes) \n",
    "plt.ylabel('Actual label')\n",
    "plt.xlabel('Predicted label')"
   ]
  },
  {
   "cell_type": "code",
   "execution_count": null,
   "metadata": {},
   "outputs": [],
   "source": [
    "def sm_predict(s,threshold=.25): \n",
    "    s=_normalizer(s)\n",
    "    print ( s )\n",
    "    dfff=df.copy()\n",
    "    for i,r in dfff.iterrows():  \n",
    "        normed = _normalizer(r['QuestionText'] )\n",
    "        ratio=SequenceMatcher(None, s, normed).ratio() \n",
    "        dfff.loc[i, 'ratio'] = ratio\n",
    "        #if ratio > threshold: break\n",
    "    d=dfff.loc[dfff.ratio > threshold]\n",
    "    d=d.sort_values(by=['ratio'], ascending=False) \n",
    "    return d\n",
    "dfp=sm_predict(\"\"\"\n",
    "\n",
    "   Is there an internet-facing method to access the system?\n",
    "    \"\"\")\n",
    "dfp"
   ]
  },
  {
   "cell_type": "code",
   "execution_count": 24,
   "metadata": {},
   "outputs": [
    {
     "data": {
      "text/plain": [
       "'ha the agenc implement an autom capabl to detect and block unauthor hardwar from connect to the network?'"
      ]
     },
     "execution_count": 24,
     "metadata": {},
     "output_type": "execute_result"
    }
   ],
   "source": [
    "import nltk\n",
    "from nltk.stem import PorterStemmer\n",
    "ps = PorterStemmer()\n",
    "\n",
    "def _normalizer(s):\n",
    "    s=re.sub('[^a-z0-9\\s\\-\\?]','',s.lower().strip() )\n",
    "    s=re.sub('\\s{2,}',' ',s)\n",
    "    s=' '.join([ ps.stem(s) for s in s.split(' ')])\n",
    "    return s \n",
    "_normalizer('Has the Agency implemented an automated capability to detect and block unauthorized hardware from connecting to the network?' )"
   ]
  },
  {
   "cell_type": "code",
   "execution_count": 60,
   "metadata": {},
   "outputs": [
    {
     "data": {
      "text/html": [
       "<div>\n",
       "<style scoped>\n",
       "    .dataframe tbody tr th:only-of-type {\n",
       "        vertical-align: middle;\n",
       "    }\n",
       "\n",
       "    .dataframe tbody tr th {\n",
       "        vertical-align: top;\n",
       "    }\n",
       "\n",
       "    .dataframe thead th {\n",
       "        text-align: right;\n",
       "    }\n",
       "</style>\n",
       "<table border=\"1\" class=\"dataframe\">\n",
       "  <thead>\n",
       "    <tr style=\"text-align: right;\">\n",
       "      <th></th>\n",
       "      <th>QuestionText</th>\n",
       "      <th>Y</th>\n",
       "    </tr>\n",
       "  </thead>\n",
       "  <tbody>\n",
       "    <tr>\n",
       "      <th>1194</th>\n",
       "      <td>all user are uniqu identifi and authent for re...</td>\n",
       "      <td>89</td>\n",
       "    </tr>\n",
       "    <tr>\n",
       "      <th>922</th>\n",
       "      <td>approxim how mani high valu asset receiv banal...</td>\n",
       "      <td>124</td>\n",
       "    </tr>\n",
       "    <tr>\n",
       "      <th>920</th>\n",
       "      <td>approxim how mani high valu asset receiv binci...</td>\n",
       "      <td>124</td>\n",
       "    </tr>\n",
       "    <tr>\n",
       "      <th>924</th>\n",
       "      <td>approxim how mani high valu asset receiv bsecu...</td>\n",
       "      <td>124</td>\n",
       "    </tr>\n",
       "    <tr>\n",
       "      <th>918</th>\n",
       "      <td>approxim how mani high valu asset receiv bsitu...</td>\n",
       "      <td>124</td>\n",
       "    </tr>\n",
       "    <tr>\n",
       "      <th>...</th>\n",
       "      <td>...</td>\n",
       "      <td>...</td>\n",
       "    </tr>\n",
       "    <tr>\n",
       "      <th>134</th>\n",
       "      <td>when avail are all applic deploy in the hva pr...</td>\n",
       "      <td>423</td>\n",
       "    </tr>\n",
       "    <tr>\n",
       "      <th>124</th>\n",
       "      <td>when avail are product hva applic configur bas...</td>\n",
       "      <td>423</td>\n",
       "    </tr>\n",
       "    <tr>\n",
       "      <th>242</th>\n",
       "      <td>when possibl are hva asset procur from an appr...</td>\n",
       "      <td>423</td>\n",
       "    </tr>\n",
       "    <tr>\n",
       "      <th>506</th>\n",
       "      <td>when purchas hva or support infrastructur netw...</td>\n",
       "      <td>423</td>\n",
       "    </tr>\n",
       "    <tr>\n",
       "      <th>119</th>\n",
       "      <td>whenev possibl are dedic account creat to run ...</td>\n",
       "      <td>423</td>\n",
       "    </tr>\n",
       "  </tbody>\n",
       "</table>\n",
       "<p>1068 rows × 2 columns</p>\n",
       "</div>"
      ],
      "text/plain": [
       "                                           QuestionText    Y\n",
       "1194  all user are uniqu identifi and authent for re...   89\n",
       "922   approxim how mani high valu asset receiv banal...  124\n",
       "920   approxim how mani high valu asset receiv binci...  124\n",
       "924   approxim how mani high valu asset receiv bsecu...  124\n",
       "918   approxim how mani high valu asset receiv bsitu...  124\n",
       "...                                                 ...  ...\n",
       "134   when avail are all applic deploy in the hva pr...  423\n",
       "124   when avail are product hva applic configur bas...  423\n",
       "242   when possibl are hva asset procur from an appr...  423\n",
       "506   when purchas hva or support infrastructur netw...  423\n",
       "119   whenev possibl are dedic account creat to run ...  423\n",
       "\n",
       "[1068 rows x 2 columns]"
      ]
     },
     "execution_count": 60,
     "metadata": {},
     "output_type": "execute_result"
    }
   ],
   "source": [
    "df=sql_todf(f\"\"\"\n",
    "    SELECT  QuestionText, CAST(FK_PickListType AS NVARCHAR(9)) Y -- FK_QuestionType, Code, \n",
    "    FROM fsma_Questions \n",
    "\t  INNER JOIN fsma_QuestionTypes ON fsma_Questions.FK_QuestionType=fsma_QuestionTypes.PK_QuestionTypeId\n",
    "\t  WHERE FK_QuestionType IS NOT NULL AND QuestionText IS NOT NULL  \n",
    "    AND Code IN ( 'PICK',  'MULTICHECKBOX') \n",
    "    AND FK_PickListType IN (124,157,162,168,330,423,85,88,89,97)\n",
    "    ORDER BY PK_QUESTION DESC\n",
    "    \"\"\", connstr)\n",
    "df['QuestionText']=df['QuestionText'].apply(_normalizer)\n",
    "df=df.sort_values('QuestionText').drop_duplicates(subset=['Y', 'QuestionText'], keep='last')\n",
    "pk1=df[:-500]\n",
    "pk2=df[500:]\n",
    "df\n"
   ]
  },
  {
   "cell_type": "code",
   "execution_count": 74,
   "metadata": {},
   "outputs": [
    {
     "data": {
      "text/plain": [
       "<1068x17986 sparse matrix of type '<class 'numpy.int64'>'\n",
       "\twith 59766 stored elements in Compressed Sparse Row format>"
      ]
     },
     "execution_count": 74,
     "metadata": {},
     "output_type": "execute_result"
    }
   ],
   "source": [
    "vectorizer = CountVectorizer(ngram_range=(1,3), min_df=.0001, stop_words='english', analyzer='word' ) \n",
    "X = vectorizer.fit_transform(df['QuestionText'])   \n",
    "vectorizer.get_feature_names() \n",
    "X "
   ]
  },
  {
   "cell_type": "code",
   "execution_count": 75,
   "metadata": {},
   "outputs": [],
   "source": [
    "sparse_matrix = pd.DataFrame(columns=vectorizer.get_feature_names(), data=X.toarray()) \n",
    "sparse_matrix=pd.merge(df, sparse_matrix, left_index=True, right_index=True)  \n",
    "sparse_matrix.drop(['QuestionText'], inplace=True, axis=1) \n",
    "y = sparse_matrix['Y'].values \n",
    "features = sparse_matrix.drop(['Y'], axis=1).values\n",
    "X_train, X_test, y_train, y_test = train_test_split(features, y, random_state=1)"
   ]
  },
  {
   "cell_type": "code",
   "execution_count": 78,
   "metadata": {},
   "outputs": [],
   "source": [
    "from sklearn import svm\n",
    "model= LogisticRegression()\n",
    "# model = svm.SVC()\n",
    "model.fit(X_train, y_train)\n",
    "y_pred=model.predict(X_test)\n",
    "score=model.score(X_test, y_test) \n",
    "report = classification_report(y_test, y_pred )\n"
   ]
  },
  {
   "cell_type": "code",
   "execution_count": 79,
   "metadata": {},
   "outputs": [
    {
     "name": "stdout",
     "output_type": "stream",
     "text": [
      "0.7589285714285714\n",
      "              precision    recall  f1-score   support\n",
      "\n",
      "         124       1.00      0.40      0.57         5\n",
      "         157       0.00      0.00      0.00         4\n",
      "         162       1.00      0.17      0.29         6\n",
      "         330       0.88      0.50      0.64        14\n",
      "         423       0.72      0.93      0.82       107\n",
      "          85       0.80      0.71      0.75        84\n",
      "          89       0.00      0.00      0.00         1\n",
      "          97       0.00      0.00      0.00         3\n",
      "\n",
      "    accuracy                           0.76       224\n",
      "   macro avg       0.55      0.34      0.38       224\n",
      "weighted avg       0.75      0.76      0.73       224\n",
      "\n"
     ]
    }
   ],
   "source": [
    "print(score)\n",
    "print ( report ) "
   ]
  },
  {
   "cell_type": "code",
   "execution_count": 71,
   "metadata": {},
   "outputs": [
    {
     "name": "stdout",
     "output_type": "stream",
     "text": [
      "did you evalu idp sourc as describ in the guidance? did you harden sso featur as describ in the guidance? did you turn on advanc log and establish a pam baselineexpect privileg account state for cloud?\n",
      "\n",
      "prediction: 423\n"
     ]
    }
   ],
   "source": [
    "txt=_normalizer(\"Did you evaluate iDP sources as described in the guidance? Did you harden SSO feature as described in the guidance? Did you turn on advanced logging and establish a PAM baseline(Expected privileged account state) for Cloud?\")\n",
    "print(txt)\n",
    "X = vectorizer.transform([txt])  \n",
    "prediction=model.predict(X.toarray())\n",
    "print ('\\nprediction: '+ str(prediction[0])) \n",
    "\n"
   ]
  },
  {
   "cell_type": "code",
   "execution_count": 66,
   "metadata": {},
   "outputs": [
    {
     "data": {
      "image/png": "[encoded data removed]",
      "text/plain": [
       "<Figure size 1296x1152 with 1 Axes>"
      ]
     },
     "metadata": {},
     "output_type": "display_data"
    }
   ],
   "source": [
    "explainer = shap.Explainer(model, X_test )\n",
    "shap_values = explainer.shap_values(X_test)   \n",
    "shap.summary_plot( shap_values,  X_test, max_display=25,  feature_names=sparse_matrix.columns[1:],  plot_size=[18,16] ) "
   ]
  }
 ],
 "metadata": {
  "kernelspec": {
   "display_name": "base",
   "language": "python",
   "name": "python3"
  },
  "language_info": {
   "codemirror_mode": {
    "name": "ipython",
    "version": 3
   },
   "file_extension": ".py",
   "mimetype": "text/x-python",
   "name": "python",
   "nbconvert_exporter": "python",
   "pygments_lexer": "ipython3",
   "version": "3.8.5"
  },
  "orig_nbformat": 4
 },
 "nbformat": 4,
 "nbformat_minor": 2
}
