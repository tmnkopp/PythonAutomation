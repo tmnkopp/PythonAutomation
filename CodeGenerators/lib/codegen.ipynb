{
 "cells": [
  {
   "cell_type": "code",
   "execution_count": null,
   "metadata": {},
   "outputs": [],
   "source": [
    "import pandas as pd\n",
    "import xlrd, openpyxl, re\n",
    "from openpyxl import Workbook\n",
    "from openpyxl.utils import get_column_letter\n",
    "fname = r'C:\\Users\\Tim\\Documents\\1802\\Questionnaire\\Custodian.xlsx'"
   ]
  },
  {
   "cell_type": "code",
   "execution_count": 24,
   "metadata": {},
   "outputs": [
    {
     "data": {
      "text/plain": [
       "[{'ID': 's1', 'PKEY': 500, 'ORDER': 1},\n",
       " {'ID': 's1', 'PKEY': 501, 'ORDER': 2},\n",
       " {'ID': 's2', 'PKEY': 511, 'ORDER': 0},\n",
       " {'ID': 's2', 'PKEY': 512, 'ORDER': 1},\n",
       " {'ID': 's2', 'PKEY': 513, 'ORDER': 2},\n",
       " {'ID': 's2', 'PKEY': 514, 'ORDER': 3}]"
      ]
     },
     "execution_count": 24,
     "metadata": {},
     "output_type": "execute_result"
    }
   ],
   "source": [
    "lst = []\n",
    "lst.append({'field':'PKEY', 'index':500,'gap_on':'ID'})\n",
    "lst.append({'field':'ORDER', 'index':1,'reset_on':'ID'})\n",
    "data=[{'ID':'s1'}, {'ID':'s1'},{'ID':'s2'},{'ID':'s2'},{'ID':'s2'},{'ID':'s2'}]\n",
    "for i,d in enumerate(data):  \n",
    "    for j,e in enumerate(lst):\n",
    "        field=e['field'] \n",
    "        if 'gap_on' in e.keys():\n",
    "            if 'gap_on_pval' not in e.keys(): e['gap_on_pval']=d[e['gap_on']]  \n",
    "            if d[e['gap_on']] != e['gap_on_pval']:\n",
    "                e['gap_on_pval']=d[e['gap_on']]\n",
    "                e['index']=e['index']+9\n",
    "        if 'reset_on' in e.keys(): \n",
    "            if 'reset_on_pval' not in e.keys(): e['reset_on_pval']=d[e['reset_on']] \n",
    "            if d[e['reset_on']] != e['reset_on_pval']:\n",
    "                e['reset_on_pval']=d[e['reset_on']]\n",
    "                e['index']=1\n",
    "        e['index']=e['index']+1  \n",
    "        data[i][field]=e['index']-1\n",
    "data"
   ]
  },
  {
   "cell_type": "code",
   "execution_count": null,
   "metadata": {},
   "outputs": [],
   "source": [
    "for i,r in enumerate(ws['D29:D90']):\n",
    "    print( type(c[0]).__name__   )"
   ]
  },
  {
   "cell_type": "code",
   "execution_count": 4,
   "metadata": {},
   "outputs": [
    {
     "data": {
      "text/plain": [
       "'TXT'"
      ]
     },
     "execution_count": 4,
     "metadata": {},
     "output_type": "execute_result"
    }
   ],
   "source": [
    "def getFTYPE(ws, irow):\n",
    "    t='PICK'\n",
    "    tval='' \n",
    "    if ws[f'D{irow}'].value is not None:\n",
    "        tval=ws[f'D{irow}'].value \n",
    "    if re.search(r'Free text',tval,flags=re.I):\n",
    "         t='TXT'\n",
    "    return t\n",
    "getFTYPE(ws, 191)    "
   ]
  },
  {
   "cell_type": "code",
   "execution_count": 6,
   "metadata": {},
   "outputs": [
    {
     "data": {
      "text/html": [
       "<div>\n",
       "<style scoped>\n",
       "    .dataframe tbody tr th:only-of-type {\n",
       "        vertical-align: middle;\n",
       "    }\n",
       "\n",
       "    .dataframe tbody tr th {\n",
       "        vertical-align: top;\n",
       "    }\n",
       "\n",
       "    .dataframe thead th {\n",
       "        text-align: right;\n",
       "    }\n",
       "</style>\n",
       "<table border=\"1\" class=\"dataframe\">\n",
       "  <thead>\n",
       "    <tr style=\"text-align: right;\">\n",
       "      <th></th>\n",
       "      <th>FTPE</th>\n",
       "      <th>IDTEXT</th>\n",
       "      <th>SortPos</th>\n",
       "      <th>QTEXT</th>\n",
       "    </tr>\n",
       "  </thead>\n",
       "  <tbody>\n",
       "    <tr>\n",
       "      <th>0</th>\n",
       "      <td>PICK</td>\n",
       "      <td>CQ1</td>\n",
       "      <td>1</td>\n",
       "      <td>What is the purpose of the HVA? Please select ...</td>\n",
       "    </tr>\n",
       "    <tr>\n",
       "      <th>1</th>\n",
       "      <td>PICK</td>\n",
       "      <td>CQ2</td>\n",
       "      <td>2</td>\n",
       "      <td>What services does the HVA system provide? Ple...</td>\n",
       "    </tr>\n",
       "    <tr>\n",
       "      <th>2</th>\n",
       "      <td>PICK</td>\n",
       "      <td>CQ3</td>\n",
       "      <td>3</td>\n",
       "      <td>To whom does the HVA provide services to? Plea...</td>\n",
       "    </tr>\n",
       "    <tr>\n",
       "      <th>3</th>\n",
       "      <td>PICK</td>\n",
       "      <td>CQ3</td>\n",
       "      <td>4</td>\n",
       "      <td>What is the approximate time in years since de...</td>\n",
       "    </tr>\n",
       "    <tr>\n",
       "      <th>4</th>\n",
       "      <td>PICK</td>\n",
       "      <td>CQ4</td>\n",
       "      <td>5</td>\n",
       "      <td>Is this system identified as a Legacy* system ...</td>\n",
       "    </tr>\n",
       "    <tr>\n",
       "      <th>...</th>\n",
       "      <td>...</td>\n",
       "      <td>...</td>\n",
       "      <td>...</td>\n",
       "      <td>...</td>\n",
       "    </tr>\n",
       "    <tr>\n",
       "      <th>80</th>\n",
       "      <td>PICK</td>\n",
       "      <td>CQ32C</td>\n",
       "      <td>81</td>\n",
       "      <td>Please indicate the organization type for the ...</td>\n",
       "    </tr>\n",
       "    <tr>\n",
       "      <th>81</th>\n",
       "      <td>PICK</td>\n",
       "      <td>CQ32D</td>\n",
       "      <td>82</td>\n",
       "      <td>Does the D/A for this HVA have an ISA/MOU with...</td>\n",
       "    </tr>\n",
       "    <tr>\n",
       "      <th>82</th>\n",
       "      <td>PICK</td>\n",
       "      <td>CQ32E</td>\n",
       "      <td>83</td>\n",
       "      <td>Is this interconnection/data exchange mission ...</td>\n",
       "    </tr>\n",
       "    <tr>\n",
       "      <th>83</th>\n",
       "      <td>PICK</td>\n",
       "      <td>CQ32F</td>\n",
       "      <td>84</td>\n",
       "      <td>Is this Interconnection or data exchange a hig...</td>\n",
       "    </tr>\n",
       "    <tr>\n",
       "      <th>84</th>\n",
       "      <td>PICK</td>\n",
       "      <td>CQ32G</td>\n",
       "      <td>85</td>\n",
       "      <td>Is this interconnection Transmit, Receive or B...</td>\n",
       "    </tr>\n",
       "  </tbody>\n",
       "</table>\n",
       "<p>85 rows × 4 columns</p>\n",
       "</div>"
      ],
      "text/plain": [
       "    FTPE IDTEXT  SortPos                                              QTEXT\n",
       "0   PICK    CQ1        1  What is the purpose of the HVA? Please select ...\n",
       "1   PICK    CQ2        2  What services does the HVA system provide? Ple...\n",
       "2   PICK    CQ3        3  To whom does the HVA provide services to? Plea...\n",
       "3   PICK    CQ3        4  What is the approximate time in years since de...\n",
       "4   PICK    CQ4        5  Is this system identified as a Legacy* system ...\n",
       "..   ...    ...      ...                                                ...\n",
       "80  PICK  CQ32C       81  Please indicate the organization type for the ...\n",
       "81  PICK  CQ32D       82  Does the D/A for this HVA have an ISA/MOU with...\n",
       "82  PICK  CQ32E       83  Is this interconnection/data exchange mission ...\n",
       "83  PICK  CQ32F       84  Is this Interconnection or data exchange a hig...\n",
       "84  PICK  CQ32G       85  Is this interconnection Transmit, Receive or B...\n",
       "\n",
       "[85 rows x 4 columns]"
      ]
     },
     "execution_count": 6,
     "metadata": {},
     "output_type": "execute_result"
    }
   ],
   "source": [
    "lst = []\n",
    "irow = 1\n",
    "for i,r in enumerate(ws['A']):\n",
    "    a=r.value \n",
    "    if a != None:\n",
    "        if re.search(r'(CQ\\d.*)', a,  flags=re.I): \n",
    "            d={}\n",
    "            d['FTPE']=getFTYPE(ws, irow)\n",
    "            d['IDTEXT']=a\n",
    "            d['SortPos']=irow\n",
    "            d['QTEXT']=ws[f'B{i+1}'].value \n",
    "            lst.append(d) \n",
    "            irow=irow+1\n",
    "df=pd.DataFrame(lst)      \n",
    "df      "
   ]
  },
  {
   "cell_type": "code",
   "execution_count": 16,
   "metadata": {},
   "outputs": [
    {
     "name": "stdout",
     "output_type": "stream",
     "text": [
      "18154\n"
     ]
    }
   ],
   "source": [
    "print(ws.max_row)"
   ]
  },
  {
   "cell_type": "code",
   "execution_count": null,
   "metadata": {},
   "outputs": [],
   "source": []
  },
  {
   "cell_type": "code",
   "execution_count": 33,
   "metadata": {},
   "outputs": [
    {
     "data": {
      "text/plain": [
       "id\n",
       "         0\n",
       "CQ1     51\n",
       "CQ10     6\n",
       "CQ11     2\n",
       "CQ12     2\n",
       "        ..\n",
       "CQ7a    10\n",
       "CQ7b     4\n",
       "CQ7c     4\n",
       "CQ8      2\n",
       "CQ9      2\n",
       "Name: dtype, Length: 76, dtype: int64"
      ]
     },
     "execution_count": 33,
     "metadata": {},
     "output_type": "execute_result"
    }
   ],
   "source": [
    "lst=[]\n",
    "id=''\n",
    "for i,c in enumerate(ws['A']): \n",
    "    if c.value != None:\n",
    "        if re.search(r'(CQ\\d.*)',c.value,flags=re.I): \n",
    "            id=c.value  \n",
    "    if id != '':\n",
    "        lst.append({'row':i+1,'id':id,'dtype':ws[f'D{i+1}'].value,'ctype':str(type(c).__name__) }) \n",
    "df=pd.DataFrame(lst)        \n",
    "g = df.groupby([\"id\"])[\"dtype\"].count()\n",
    "g"
   ]
  },
  {
   "cell_type": "code",
   "execution_count": null,
   "metadata": {},
   "outputs": [],
   "source": [
    "for i,c in enumerate(ws['A']): \n",
    "    if c.value != None:\n",
    "        if re.search(r'(merged)', type(c[0]).__name__  ,  flags=re.I): \n",
    "            d={}\n",
    "            d['FTPE']=getFTYPE(ws, irow)\n",
    "            d['IDTEXT']=a\n",
    "            d['SortPos']=irow\n",
    "            d['QTEXT']=ws[f'B{i+1}'].value \n",
    "            lst.append(d) \n",
    "            irow=irow+1\n",
    "df=pd.DataFrame(lst)      \n",
    "df "
   ]
  },
  {
   "cell_type": "code",
   "execution_count": 3,
   "metadata": {},
   "outputs": [
    {
     "data": {
      "text/plain": [
       "<pandas.io.excel._base.ExcelFile at 0x14a95f65c10>"
      ]
     },
     "execution_count": 3,
     "metadata": {},
     "output_type": "execute_result"
    }
   ],
   "source": [
    " \n",
    "df.to_csv(r'C:\\Users\\Tim\\Documents\\1802\\HVA\\form.csv', index=False) "
   ]
  }
 ],
 "metadata": {
  "kernelspec": {
   "display_name": "Python 3.8.5 ('base')",
   "language": "python",
   "name": "python3"
  },
  "language_info": {
   "codemirror_mode": {
    "name": "ipython",
    "version": 3
   },
   "file_extension": ".py",
   "mimetype": "text/x-python",
   "name": "python",
   "nbconvert_exporter": "python",
   "pygments_lexer": "ipython3",
   "version": "3.8.5"
  },
  "orig_nbformat": 4,
  "vscode": {
   "interpreter": {
    "hash": "3a7c076192e1e16d3ee1a218e6831777c4d2e3a001a9a33f6decd6c7672cec63"
   }
  }
 },
 "nbformat": 4,
 "nbformat_minor": 2
}
