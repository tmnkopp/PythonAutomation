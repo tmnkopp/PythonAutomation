{
 "cells": [
  {
   "cell_type": "code",
   "execution_count": 2,
   "metadata": {},
   "outputs": [],
   "source": [
    "import pandas as pd\n",
    "import numpy as np\n",
    "import re\n",
    "from sqlalchemy import func, create_engine  \n",
    "from utils import * \n",
    "from sklearn.feature_extraction.text import TfidfVectorizer\n",
    "from sklearn.metrics.pairwise import cosine_similarity"
   ]
  },
  {
   "cell_type": "code",
   "execution_count": 3,
   "metadata": {},
   "outputs": [
    {
     "data": {
      "text/html": [
       "<div>\n",
       "<style scoped>\n",
       "    .dataframe tbody tr th:only-of-type {\n",
       "        vertical-align: middle;\n",
       "    }\n",
       "\n",
       "    .dataframe tbody tr th {\n",
       "        vertical-align: top;\n",
       "    }\n",
       "\n",
       "    .dataframe thead th {\n",
       "        text-align: right;\n",
       "    }\n",
       "</style>\n",
       "<table border=\"1\" class=\"dataframe\">\n",
       "  <thead>\n",
       "    <tr style=\"text-align: right;\">\n",
       "      <th></th>\n",
       "      <th>ROW</th>\n",
       "      <th>ID</th>\n",
       "      <th>TEXT</th>\n",
       "      <th>CODE</th>\n",
       "      <th>PKEY</th>\n",
       "      <th>SORT</th>\n",
       "      <th>PLT</th>\n",
       "    </tr>\n",
       "  </thead>\n",
       "  <tbody>\n",
       "    <tr>\n",
       "      <th>0</th>\n",
       "      <td>1</td>\n",
       "      <td>CQ1</td>\n",
       "      <td>GOV Domain Registration Systems</td>\n",
       "      <td>GOV_DOMAINYSTEM</td>\n",
       "      <td>5000</td>\n",
       "      <td>1</td>\n",
       "      <td>400</td>\n",
       "    </tr>\n",
       "    <tr>\n",
       "      <th>1</th>\n",
       "      <td>2</td>\n",
       "      <td>CQ1</td>\n",
       "      <td>Access to Data systems</td>\n",
       "      <td>ACCESS_DATA_SYS</td>\n",
       "      <td>5001</td>\n",
       "      <td>2</td>\n",
       "      <td>400</td>\n",
       "    </tr>\n",
       "    <tr>\n",
       "      <th>2</th>\n",
       "      <td>3</td>\n",
       "      <td>CQ1</td>\n",
       "      <td>Agency support tool</td>\n",
       "      <td>AGENC_SUPPORT_T</td>\n",
       "      <td>5002</td>\n",
       "      <td>3</td>\n",
       "      <td>400</td>\n",
       "    </tr>\n",
       "    <tr>\n",
       "      <th>3</th>\n",
       "      <td>4</td>\n",
       "      <td>CQ1</td>\n",
       "      <td>Business Intelligence Services</td>\n",
       "      <td>BUSI_INTELLIG_S</td>\n",
       "      <td>5003</td>\n",
       "      <td>4</td>\n",
       "      <td>400</td>\n",
       "    </tr>\n",
       "    <tr>\n",
       "      <th>4</th>\n",
       "      <td>5</td>\n",
       "      <td>CQ1</td>\n",
       "      <td>Collaboration Tools (SharePoint)</td>\n",
       "      <td>COLLABOR_TPOINT</td>\n",
       "      <td>5004</td>\n",
       "      <td>5</td>\n",
       "      <td>400</td>\n",
       "    </tr>\n",
       "    <tr>\n",
       "      <th>...</th>\n",
       "      <td>...</td>\n",
       "      <td>...</td>\n",
       "      <td>...</td>\n",
       "      <td>...</td>\n",
       "      <td>...</td>\n",
       "      <td>...</td>\n",
       "      <td>...</td>\n",
       "    </tr>\n",
       "    <tr>\n",
       "      <th>483</th>\n",
       "      <td>484</td>\n",
       "      <td>CQ32F</td>\n",
       "      <td>No</td>\n",
       "      <td>N_2_NO</td>\n",
       "      <td>6221</td>\n",
       "      <td>2</td>\n",
       "      <td>482</td>\n",
       "    </tr>\n",
       "    <tr>\n",
       "      <th>484</th>\n",
       "      <td>485</td>\n",
       "      <td>CQ32F</td>\n",
       "      <td>Unknown</td>\n",
       "      <td>N_3_UNKNOWN</td>\n",
       "      <td>6222</td>\n",
       "      <td>3</td>\n",
       "      <td>482</td>\n",
       "    </tr>\n",
       "    <tr>\n",
       "      <th>485</th>\n",
       "      <td>486</td>\n",
       "      <td>CQ32G</td>\n",
       "      <td>Transmit</td>\n",
       "      <td>N_1_TRANSMIT</td>\n",
       "      <td>6232</td>\n",
       "      <td>1</td>\n",
       "      <td>483</td>\n",
       "    </tr>\n",
       "    <tr>\n",
       "      <th>486</th>\n",
       "      <td>487</td>\n",
       "      <td>CQ32G</td>\n",
       "      <td>Receive</td>\n",
       "      <td>N_2_RECEIV</td>\n",
       "      <td>6233</td>\n",
       "      <td>2</td>\n",
       "      <td>483</td>\n",
       "    </tr>\n",
       "    <tr>\n",
       "      <th>487</th>\n",
       "      <td>488</td>\n",
       "      <td>CQ32G</td>\n",
       "      <td>Both</td>\n",
       "      <td>N_3_BOTH</td>\n",
       "      <td>6234</td>\n",
       "      <td>3</td>\n",
       "      <td>483</td>\n",
       "    </tr>\n",
       "  </tbody>\n",
       "</table>\n",
       "<p>488 rows × 7 columns</p>\n",
       "</div>"
      ],
      "text/plain": [
       "     ROW     ID                              TEXT             CODE  PKEY  \\\n",
       "0      1    CQ1   GOV Domain Registration Systems  GOV_DOMAINYSTEM  5000   \n",
       "1      2    CQ1            Access to Data systems  ACCESS_DATA_SYS  5001   \n",
       "2      3    CQ1              Agency support tool   AGENC_SUPPORT_T  5002   \n",
       "3      4    CQ1    Business Intelligence Services  BUSI_INTELLIG_S  5003   \n",
       "4      5    CQ1  Collaboration Tools (SharePoint)  COLLABOR_TPOINT  5004   \n",
       "..   ...    ...                               ...              ...   ...   \n",
       "483  484  CQ32F                                No           N_2_NO  6221   \n",
       "484  485  CQ32F                           Unknown      N_3_UNKNOWN  6222   \n",
       "485  486  CQ32G                          Transmit     N_1_TRANSMIT  6232   \n",
       "486  487  CQ32G                           Receive       N_2_RECEIV  6233   \n",
       "487  488  CQ32G                              Both         N_3_BOTH  6234   \n",
       "\n",
       "     SORT  PLT  \n",
       "0       1  400  \n",
       "1       2  400  \n",
       "2       3  400  \n",
       "3       4  400  \n",
       "4       5  400  \n",
       "..    ...  ...  \n",
       "483     2  482  \n",
       "484     3  482  \n",
       "485     1  483  \n",
       "486     2  483  \n",
       "487     3  483  \n",
       "\n",
       "[488 rows x 7 columns]"
      ]
     },
     "execution_count": 3,
     "metadata": {},
     "output_type": "execute_result"
    }
   ],
   "source": [
    "df=pd.read_csv('parsed.csv')\n",
    "df"
   ]
  },
  {
   "cell_type": "code",
   "execution_count": null,
   "metadata": {},
   "outputs": [],
   "source": [
    "def tokenize(s): \n",
    "    s = [v for v in s]  \n",
    "    s = re.sub('[^A-Za-z0-9\\s]','', ' '.join(s)).split() \n",
    "    return s"
   ]
  },
  {
   "cell_type": "code",
   "execution_count": 117,
   "metadata": {},
   "outputs": [
    {
     "data": {
      "text/plain": [
       "['Legacy',\n",
       " 'codebase',\n",
       " 'COBOL',\n",
       " 'MUMPS',\n",
       " 'Lack',\n",
       " 'of',\n",
       " 'or',\n",
       " 'poor',\n",
       " 'documentation',\n",
       " 'Legacy',\n",
       " 'infrastructure',\n",
       " 'Adhoc',\n",
       " 'infrastructure',\n",
       " 'Hardware',\n",
       " 'or',\n",
       " 'software',\n",
       " 'with',\n",
       " 'no',\n",
       " 'vendormanufacturer',\n",
       " 'support',\n",
       " 'Outdated',\n",
       " 'or',\n",
       " 'inaccurate',\n",
       " 'inventory',\n",
       " 'Technology',\n",
       " 'Type',\n",
       " 'System',\n",
       " 'Last',\n",
       " 'Modernized',\n",
       " 'Limited',\n",
       " 'Functionality',\n",
       " 'Other']"
      ]
     },
     "execution_count": 117,
     "metadata": {},
     "output_type": "execute_result"
    }
   ],
   "source": [
    "df = sql_todf(\"select * from vwPicklists WHERE UsageField='LEGCHARS' \", connstr)\n",
    "x = [v for v in df['DisplayValue'].values]  \n",
    "x = re.sub('[^A-Za-z0-9\\s]','', ' '.join(x)).split()\n",
    "x"
   ]
  },
  {
   "cell_type": "code",
   "execution_count": 81,
   "metadata": {},
   "outputs": [
    {
     "data": {
      "text/plain": [
       "['LEGACY CODEBASE (COBOL MUMPS)',\n",
       " 'LACK OF OR POOR DOCUMENTATION',\n",
       " 'LEGACY INFRASTRUCTURE',\n",
       " 'AD-HOC INFRASTRUCTURE ',\n",
       " 'HARDWARE OR SOFTWARE WITH NO VENDOR/MANUFACTURER SUPPORT',\n",
       " 'OUTDATED OR INACCURATE INVENTORY',\n",
       " 'LIMITED FUNCTIONALITY',\n",
       " 'OTHER',\n",
       " '']"
      ]
     },
     "execution_count": 81,
     "metadata": {},
     "output_type": "execute_result"
    }
   ],
   "source": [
    "y=\"\"\"Legacy codebase (COBOL MUMPS)\n",
    "Lack of or poor documentation\n",
    "Legacy infrastructure\n",
    "Ad-hoc infrastructure \n",
    "Hardware or software with no vendor/manufacturer support\n",
    "Outdated or inaccurate inventory\n",
    "Limited Functionality\n",
    "other\n",
    "\"\"\".upper().split('\\n')\n",
    "y\n"
   ]
  },
  {
   "cell_type": "code",
   "execution_count": 82,
   "metadata": {},
   "outputs": [
    {
     "data": {
      "text/plain": [
       "0.5833333333333334"
      ]
     },
     "execution_count": 82,
     "metadata": {},
     "output_type": "execute_result"
    }
   ],
   "source": [
    "jaccard_similarity(x,y)"
   ]
  },
  {
   "cell_type": "code",
   "execution_count": 75,
   "metadata": {},
   "outputs": [],
   "source": [
    "def jaccard_similarity(x,y): \n",
    "  intersection_cardinality = len(set.intersection(*[set(x), set(y)]))\n",
    "  union_cardinality = len(set.union(*[set(x), set(y)]))\n",
    "  return intersection_cardinality/float(union_cardinality)"
   ]
  },
  {
   "cell_type": "code",
   "execution_count": 63,
   "metadata": {},
   "outputs": [
    {
     "name": "stdout",
     "output_type": "stream",
     "text": [
      "10 : Cancel ASN WMS Cancel ASN\n",
      "13 : Cancel ASN WMS Cancel ASN\n",
      "Cosine similarity: [[1.]]\n",
      "\n",
      "11 : MAXPREDO Validation is corect\n",
      "14 : MAXPREDO Validation is right\n",
      "Cosine similarity: [[0.64183024]]\n",
      "\n",
      "12 : Move to QC\n",
      "17 : Move to QC\n",
      "Cosine similarity: [[1.]]\n",
      "\n",
      "15 : Verify files are sent every hours for this interface from Optima\n",
      "18 : Verify files are not sent\n",
      "Cosine similarity: [[0.44897995]]\n",
      "\n"
     ]
    }
   ],
   "source": [
    "df = pd.DataFrame(columns=[\"ID\",\"DESCRIPTION\"], data=np.matrix([[10,\"Cancel ASN WMS Cancel ASN\"],\n",
    "                                                                [11,\"MAXPREDO Validation is corect\"],\n",
    "                                                                [12,\"Move to QC\"],\n",
    "                                                                [13,\"Cancel ASN WMS Cancel ASN\"],\n",
    "                                                                [14,\"MAXPREDO Validation is right\"],\n",
    "                                                                [15,\"Verify files are sent every hours for this interface from Optima\"],\n",
    "                                                                [16,\"MAXPREDO Validation are correct\"],\n",
    "                                                                [17,\"Move to QC\"],\n",
    "                                                                [18,\"Verify files are not sent\"]\n",
    "                                                                ]))\n",
    "\n",
    "corpus = list(df[\"DESCRIPTION\"].values)\n",
    "\n",
    "vectorizer = TfidfVectorizer()\n",
    "X = vectorizer.fit_transform(corpus)\n",
    "\n",
    "threshold = 0.4\n",
    "\n",
    "for x in range(0,X.shape[0]):\n",
    "  for y in range(x,X.shape[0]):\n",
    "    if(x!=y):\n",
    "      if(cosine_similarity(X[x],X[y])>threshold):\n",
    "        print(df[\"ID\"][x],\":\",corpus[x])\n",
    "        print(df[\"ID\"][y],\":\",corpus[y])\n",
    "        print(\"Cosine similarity:\",cosine_similarity(X[x],X[y]))\n",
    "        print()"
   ]
  },
  {
   "cell_type": "code",
   "execution_count": 28,
   "metadata": {},
   "outputs": [],
   "source": [
    "\n",
    "def sql_todf(query,connstr):\n",
    "    df=pd.DataFrame() \n",
    "    engine = create_engine(connstr) \n",
    "    conn = engine.connect() \n",
    "    #try: \n",
    "    df = pd.read_sql(query,con=conn) \n",
    "    #finally: \n",
    "    conn.close()\n",
    "    return df"
   ]
  },
  {
   "cell_type": "code",
   "execution_count": 53,
   "metadata": {},
   "outputs": [
    {
     "data": {
      "text/plain": [
       "['LEGACY',\n",
       " 'CODEBASE',\n",
       " '(COBOL',\n",
       " 'MUMPS)',\n",
       " 'LACK',\n",
       " 'OF',\n",
       " 'OR',\n",
       " 'POOR',\n",
       " 'DOCUMENTATION',\n",
       " 'LEGACY',\n",
       " 'INFRASTRUCTURE',\n",
       " 'AD-HOC',\n",
       " 'INFRASTRUCTURE',\n",
       " '',\n",
       " 'HARDWARE',\n",
       " 'OR',\n",
       " 'SOFTWARE',\n",
       " 'WITH',\n",
       " 'NO',\n",
       " 'VENDOR/MANUFACTURER',\n",
       " 'SUPPORT',\n",
       " 'OUTDATED',\n",
       " 'OR',\n",
       " 'INACCURATE',\n",
       " 'INVENTORY',\n",
       " 'TECHNOLOGY',\n",
       " 'TYPE',\n",
       " '',\n",
       " 'SYSTEM',\n",
       " 'LAST',\n",
       " 'MODERNIZED',\n",
       " 'LIMITED',\n",
       " 'FUNCTIONALITY',\n",
       " 'OTHER',\n",
       " '']"
      ]
     },
     "execution_count": 53,
     "metadata": {},
     "output_type": "execute_result"
    }
   ],
   "source": []
  },
  {
   "cell_type": "code",
   "execution_count": 58,
   "metadata": {},
   "outputs": [
    {
     "data": {
      "text/plain": [
       "['LEGACY',\n",
       " 'CODEBASE',\n",
       " '(COBOL',\n",
       " 'MUMPS)',\n",
       " 'LACK',\n",
       " 'OF',\n",
       " 'OR',\n",
       " 'POOR',\n",
       " 'DOCUMENTATION',\n",
       " 'LEGACY',\n",
       " 'INFRASTRUCTURE',\n",
       " 'AD-HOC',\n",
       " 'INFRASTRUCTURE',\n",
       " '',\n",
       " 'HARDWARE',\n",
       " 'OR',\n",
       " 'SOFTWARE',\n",
       " 'WITH',\n",
       " 'NO',\n",
       " 'VENDOR/MANUFACTURER',\n",
       " 'SUPPORT',\n",
       " 'OUTDATED',\n",
       " 'OR',\n",
       " 'INACCURATE',\n",
       " 'INVENTORY',\n",
       " 'LIMITED',\n",
       " 'FUNCTIONALITY',\n",
       " '']"
      ]
     },
     "execution_count": 58,
     "metadata": {},
     "output_type": "execute_result"
    }
   ],
   "source": [
    "y=\"\"\"Legacy codebase (COBOL MUMPS)\n",
    "Lack of or poor documentation\n",
    "Legacy infrastructure\n",
    "Ad-hoc infrastructure \n",
    "Hardware or software with no vendor/manufacturer support\n",
    "Outdated or inaccurate inventory\n",
    "Limited Functionality\n",
    "\"\"\".replace('\\n',' ').upper().split(' ')\n",
    "y"
   ]
  },
  {
   "cell_type": "code",
   "execution_count": 59,
   "metadata": {},
   "outputs": [
    {
     "data": {
      "text/plain": [
       "0.7931034482758621"
      ]
     },
     "execution_count": 59,
     "metadata": {},
     "output_type": "execute_result"
    }
   ],
   "source": [
    "x=lst\n",
    "\n",
    "jaccard_similarity(x,y)"
   ]
  },
  {
   "cell_type": "code",
   "execution_count": null,
   "metadata": {},
   "outputs": [],
   "source": []
  }
 ],
 "metadata": {
  "kernelspec": {
   "display_name": "Python 3.8.8 ('base')",
   "language": "python",
   "name": "python3"
  },
  "language_info": {
   "codemirror_mode": {
    "name": "ipython",
    "version": 3
   },
   "file_extension": ".py",
   "mimetype": "text/x-python",
   "name": "python",
   "nbconvert_exporter": "python",
   "pygments_lexer": "ipython3",
   "version": "3.8.8"
  },
  "orig_nbformat": 4,
  "vscode": {
   "interpreter": {
    "hash": "1b5c637c5c17e7841ce3b55fac6772e1460db6e5f5b3923b76ec2696de093845"
   }
  }
 },
 "nbformat": 4,
 "nbformat_minor": 2
}
