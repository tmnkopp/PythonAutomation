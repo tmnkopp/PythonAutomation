{
 "cells": [
  {
   "cell_type": "code",
   "execution_count": 103,
   "metadata": {},
   "outputs": [],
   "source": [
    "import pandas as pd\n",
    "import numpy as np\n",
    "import re\n",
    "from sqlalchemy import func, create_engine  \n",
    "from utils import *\n",
    "from config import connstr\n",
    "from sklearn.feature_extraction.text import TfidfVectorizer\n",
    "from sklearn.metrics.pairwise import cosine_similarity"
   ]
  },
  {
   "cell_type": "code",
   "execution_count": null,
   "metadata": {},
   "outputs": [],
   "source": [
    "def tokenize(s): \n",
    "    s = [v for v in s]  \n",
    "    s = re.sub('[^A-Za-z0-9\\s]','', ' '.join(s)).split() \n",
    "    return s"
   ]
  },
  {
   "cell_type": "code",
   "execution_count": 117,
   "metadata": {},
   "outputs": [
    {
     "data": {
      "text/plain": [
       "['Legacy',\n",
       " 'codebase',\n",
       " 'COBOL',\n",
       " 'MUMPS',\n",
       " 'Lack',\n",
       " 'of',\n",
       " 'or',\n",
       " 'poor',\n",
       " 'documentation',\n",
       " 'Legacy',\n",
       " 'infrastructure',\n",
       " 'Adhoc',\n",
       " 'infrastructure',\n",
       " 'Hardware',\n",
       " 'or',\n",
       " 'software',\n",
       " 'with',\n",
       " 'no',\n",
       " 'vendormanufacturer',\n",
       " 'support',\n",
       " 'Outdated',\n",
       " 'or',\n",
       " 'inaccurate',\n",
       " 'inventory',\n",
       " 'Technology',\n",
       " 'Type',\n",
       " 'System',\n",
       " 'Last',\n",
       " 'Modernized',\n",
       " 'Limited',\n",
       " 'Functionality',\n",
       " 'Other']"
      ]
     },
     "execution_count": 117,
     "metadata": {},
     "output_type": "execute_result"
    }
   ],
   "source": [
    "df = sql_todf(\"select * from vwPicklists WHERE UsageField='LEGCHARS' \", connstr)\n",
    "x = [v for v in df['DisplayValue'].values]  \n",
    "x = re.sub('[^A-Za-z0-9\\s]','', ' '.join(x)).split()\n",
    "x"
   ]
  },
  {
   "cell_type": "code",
   "execution_count": 81,
   "metadata": {},
   "outputs": [
    {
     "data": {
      "text/plain": [
       "['LEGACY CODEBASE (COBOL MUMPS)',\n",
       " 'LACK OF OR POOR DOCUMENTATION',\n",
       " 'LEGACY INFRASTRUCTURE',\n",
       " 'AD-HOC INFRASTRUCTURE ',\n",
       " 'HARDWARE OR SOFTWARE WITH NO VENDOR/MANUFACTURER SUPPORT',\n",
       " 'OUTDATED OR INACCURATE INVENTORY',\n",
       " 'LIMITED FUNCTIONALITY',\n",
       " 'OTHER',\n",
       " '']"
      ]
     },
     "execution_count": 81,
     "metadata": {},
     "output_type": "execute_result"
    }
   ],
   "source": [
    "y=\"\"\"Legacy codebase (COBOL MUMPS)\n",
    "Lack of or poor documentation\n",
    "Legacy infrastructure\n",
    "Ad-hoc infrastructure \n",
    "Hardware or software with no vendor/manufacturer support\n",
    "Outdated or inaccurate inventory\n",
    "Limited Functionality\n",
    "other\n",
    "\"\"\".upper().split('\\n')\n",
    "y\n"
   ]
  },
  {
   "cell_type": "code",
   "execution_count": 82,
   "metadata": {},
   "outputs": [
    {
     "data": {
      "text/plain": [
       "0.5833333333333334"
      ]
     },
     "execution_count": 82,
     "metadata": {},
     "output_type": "execute_result"
    }
   ],
   "source": [
    "jaccard_similarity(x,y)"
   ]
  },
  {
   "cell_type": "code",
   "execution_count": 75,
   "metadata": {},
   "outputs": [],
   "source": [
    "def jaccard_similarity(x,y): \n",
    "  intersection_cardinality = len(set.intersection(*[set(x), set(y)]))\n",
    "  union_cardinality = len(set.union(*[set(x), set(y)]))\n",
    "  return intersection_cardinality/float(union_cardinality)"
   ]
  },
  {
   "cell_type": "code",
   "execution_count": 63,
   "metadata": {},
   "outputs": [
    {
     "name": "stdout",
     "output_type": "stream",
     "text": [
      "10 : Cancel ASN WMS Cancel ASN\n",
      "13 : Cancel ASN WMS Cancel ASN\n",
      "Cosine similarity: [[1.]]\n",
      "\n",
      "11 : MAXPREDO Validation is corect\n",
      "14 : MAXPREDO Validation is right\n",
      "Cosine similarity: [[0.64183024]]\n",
      "\n",
      "12 : Move to QC\n",
      "17 : Move to QC\n",
      "Cosine similarity: [[1.]]\n",
      "\n",
      "15 : Verify files are sent every hours for this interface from Optima\n",
      "18 : Verify files are not sent\n",
      "Cosine similarity: [[0.44897995]]\n",
      "\n"
     ]
    }
   ],
   "source": [
    "df = pd.DataFrame(columns=[\"ID\",\"DESCRIPTION\"], data=np.matrix([[10,\"Cancel ASN WMS Cancel ASN\"],\n",
    "                                                                [11,\"MAXPREDO Validation is corect\"],\n",
    "                                                                [12,\"Move to QC\"],\n",
    "                                                                [13,\"Cancel ASN WMS Cancel ASN\"],\n",
    "                                                                [14,\"MAXPREDO Validation is right\"],\n",
    "                                                                [15,\"Verify files are sent every hours for this interface from Optima\"],\n",
    "                                                                [16,\"MAXPREDO Validation are correct\"],\n",
    "                                                                [17,\"Move to QC\"],\n",
    "                                                                [18,\"Verify files are not sent\"]\n",
    "                                                                ]))\n",
    "\n",
    "corpus = list(df[\"DESCRIPTION\"].values)\n",
    "\n",
    "vectorizer = TfidfVectorizer()\n",
    "X = vectorizer.fit_transform(corpus)\n",
    "\n",
    "threshold = 0.4\n",
    "\n",
    "for x in range(0,X.shape[0]):\n",
    "  for y in range(x,X.shape[0]):\n",
    "    if(x!=y):\n",
    "      if(cosine_similarity(X[x],X[y])>threshold):\n",
    "        print(df[\"ID\"][x],\":\",corpus[x])\n",
    "        print(df[\"ID\"][y],\":\",corpus[y])\n",
    "        print(\"Cosine similarity:\",cosine_similarity(X[x],X[y]))\n",
    "        print()"
   ]
  },
  {
   "cell_type": "code",
   "execution_count": 28,
   "metadata": {},
   "outputs": [],
   "source": [
    "\n",
    "def sql_todf(query,connstr):\n",
    "    df=pd.DataFrame() \n",
    "    engine = create_engine(connstr) \n",
    "    conn = engine.connect() \n",
    "    #try: \n",
    "    df = pd.read_sql(query,con=conn) \n",
    "    #finally: \n",
    "    conn.close()\n",
    "    return df"
   ]
  },
  {
   "cell_type": "code",
   "execution_count": 53,
   "metadata": {},
   "outputs": [
    {
     "data": {
      "text/plain": [
       "['LEGACY',\n",
       " 'CODEBASE',\n",
       " '(COBOL',\n",
       " 'MUMPS)',\n",
       " 'LACK',\n",
       " 'OF',\n",
       " 'OR',\n",
       " 'POOR',\n",
       " 'DOCUMENTATION',\n",
       " 'LEGACY',\n",
       " 'INFRASTRUCTURE',\n",
       " 'AD-HOC',\n",
       " 'INFRASTRUCTURE',\n",
       " '',\n",
       " 'HARDWARE',\n",
       " 'OR',\n",
       " 'SOFTWARE',\n",
       " 'WITH',\n",
       " 'NO',\n",
       " 'VENDOR/MANUFACTURER',\n",
       " 'SUPPORT',\n",
       " 'OUTDATED',\n",
       " 'OR',\n",
       " 'INACCURATE',\n",
       " 'INVENTORY',\n",
       " 'TECHNOLOGY',\n",
       " 'TYPE',\n",
       " '',\n",
       " 'SYSTEM',\n",
       " 'LAST',\n",
       " 'MODERNIZED',\n",
       " 'LIMITED',\n",
       " 'FUNCTIONALITY',\n",
       " 'OTHER',\n",
       " '']"
      ]
     },
     "execution_count": 53,
     "metadata": {},
     "output_type": "execute_result"
    }
   ],
   "source": []
  },
  {
   "cell_type": "code",
   "execution_count": 58,
   "metadata": {},
   "outputs": [
    {
     "data": {
      "text/plain": [
       "['LEGACY',\n",
       " 'CODEBASE',\n",
       " '(COBOL',\n",
       " 'MUMPS)',\n",
       " 'LACK',\n",
       " 'OF',\n",
       " 'OR',\n",
       " 'POOR',\n",
       " 'DOCUMENTATION',\n",
       " 'LEGACY',\n",
       " 'INFRASTRUCTURE',\n",
       " 'AD-HOC',\n",
       " 'INFRASTRUCTURE',\n",
       " '',\n",
       " 'HARDWARE',\n",
       " 'OR',\n",
       " 'SOFTWARE',\n",
       " 'WITH',\n",
       " 'NO',\n",
       " 'VENDOR/MANUFACTURER',\n",
       " 'SUPPORT',\n",
       " 'OUTDATED',\n",
       " 'OR',\n",
       " 'INACCURATE',\n",
       " 'INVENTORY',\n",
       " 'LIMITED',\n",
       " 'FUNCTIONALITY',\n",
       " '']"
      ]
     },
     "execution_count": 58,
     "metadata": {},
     "output_type": "execute_result"
    }
   ],
   "source": [
    "y=\"\"\"Legacy codebase (COBOL MUMPS)\n",
    "Lack of or poor documentation\n",
    "Legacy infrastructure\n",
    "Ad-hoc infrastructure \n",
    "Hardware or software with no vendor/manufacturer support\n",
    "Outdated or inaccurate inventory\n",
    "Limited Functionality\n",
    "\"\"\".replace('\\n',' ').upper().split(' ')\n",
    "y"
   ]
  },
  {
   "cell_type": "code",
   "execution_count": 59,
   "metadata": {},
   "outputs": [
    {
     "data": {
      "text/plain": [
       "0.7931034482758621"
      ]
     },
     "execution_count": 59,
     "metadata": {},
     "output_type": "execute_result"
    }
   ],
   "source": [
    "x=lst\n",
    "\n",
    "jaccard_similarity(x,y)"
   ]
  },
  {
   "cell_type": "code",
   "execution_count": null,
   "metadata": {},
   "outputs": [],
   "source": []
  }
 ],
 "metadata": {
  "kernelspec": {
   "display_name": "Python 3.8.5 ('base')",
   "language": "python",
   "name": "python3"
  },
  "language_info": {
   "codemirror_mode": {
    "name": "ipython",
    "version": 3
   },
   "file_extension": ".py",
   "mimetype": "text/x-python",
   "name": "python",
   "nbconvert_exporter": "python",
   "pygments_lexer": "ipython3",
   "version": "3.8.5"
  },
  "orig_nbformat": 4,
  "vscode": {
   "interpreter": {
    "hash": "3a7c076192e1e16d3ee1a218e6831777c4d2e3a001a9a33f6decd6c7672cec63"
   }
  }
 },
 "nbformat": 4,
 "nbformat_minor": 2
}
