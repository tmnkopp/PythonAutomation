{
 "cells": [
  {
   "cell_type": "code",
   "execution_count": 424,
   "metadata": {
    "metadata": {}
   },
   "outputs": [],
   "source": [
    "import pandas as pd\n",
    "import numpy as np  \n",
    "from lib.question_type_recommender import question_type_recommender\n",
    "\n",
    "from lib.picklist_recommender import picklist_recommender\n",
    "from lib.issue_parser import issue_parser \n",
    "from lib.questionnaire_parser import questionnaire_parser\n",
    "from lib.dbupdate_parser import dbupdate_parser\n",
    "from lib.script_generator import script_generator \n",
    "from lib.db_parser import db_parser  \n",
    "\n",
    "import re, json, logging, requests, random \n",
    "from lib.context import context\n",
    "from lib.utils import *   \n",
    "from lib.script_generator import script_generator \n",
    "ctx=context() \n",
    "ctx.logger.setLevel(logging.DEBUG)\n",
    "config = {}\n",
    "with open('config.json', 'r') as f: \n",
    "    config=json.loads(f.read())    \n",
    "ctx.config=config \n",
    "import warnings\n",
    "warnings.filterwarnings('ignore') "
   ]
  },
  {
   "cell_type": "code",
   "execution_count": null,
   "metadata": {},
   "outputs": [],
   "source": [
    "f1, f2='', ''\n",
    "f1=r\"C:\\dev\\CyberBalance\\trunk\\projects\\CyberBalance.CS.Core\\JSON\\ref\\FY25-BOD-JSON-schema-MVPVersion-v1.1.json\"\n",
    "f2=r\"C:\\dev\\CyberBalance\\trunk\\projects\\CyberBalance.CS.Core\\JSON\\ref\\FY25-BOD-JSON-schema-MVPVersion-v1.1 (1).json\"\n",
    "r1, r2 = '',''\n",
    "\n",
    "with open( f1 , 'r') as f: \n",
    "    r1 = f.read()\n",
    "with open( f2 , 'r') as f: \n",
    "    r2 = f.read()\n",
    "\n",
    "sequence_match = SequenceMatcher(None, r1, r2)\n",
    "sequence_match.ratio()\n",
    " "
   ]
  },
  {
   "cell_type": "code",
   "execution_count": null,
   "metadata": {},
   "outputs": [],
   "source": [
    "def upperFirst(s):\n",
    "    return  s[:1].upper() + s[1:]\n",
    "\n",
    "f=r\"C:\\dev\\CyberBalance\\trunk\\projects\\CyberBalance.CS.Core\\JSON\\BOD18_02Annual2025ImportResults.cs\"\n",
    "cs=''\n",
    "cs_new = ''\n",
    "with open( f , 'r') as f: \n",
    "    cs=f.read()\n",
    "\n",
    "csl=cs.split('\\n')\n",
    "for line in csl:  \n",
    "    m=re.match('.*public\\s.*\\s(\\w+)\\s\\{', line) \n",
    "    if m: \n",
    "        replace = m.groups(0)[0]\n",
    "        line=line.replace(replace, upperFirst(replace))\n",
    "    cs_new+=line+'\\n'\n",
    "  \n",
    "print(cs_new)\n"
   ]
  },
  {
   "cell_type": "code",
   "execution_count": 425,
   "metadata": {},
   "outputs": [],
   "source": [
    "qr = question_type_recommender(ctx, verbose=True, use_cache=True)\n",
    "plr=picklist_recommender(ctx, use_cache=False) \n",
    "parser = db_parser(ctx)"
   ]
  },
  {
   "cell_type": "code",
   "execution_count": 454,
   "metadata": {},
   "outputs": [],
   "source": [
    "file = fr'{ctx.get_download_path()}\\hva\\1A.xlsx' \n",
    "df = pd.read_excel(file, header=0, sheet_name='Sheet1',  usecols='B:C', dtype=str)  \n",
    "s=''\n",
    "for i,r in df[:].iterrows():\n",
    "    qt = r[\"{QuestionText}\"]\n",
    "    m = re.match('.*[\\r|\\n|•|\\d\\.\\s].*',qt)\n",
    "    if m: \n",
    "        qt = re.sub('\\r|\\n','<br>',qt)\n",
    "        qt = re.sub('(•|\\d\\.\\s)',r\"<br>\\1\",qt)\n",
    "        # qt = re.sub('<br><br>',r\"<br>\",qt)\n",
    "        s += f'<div>{qt}</div>' \n",
    "\n",
    "with open(ctx.get_dest()+'script.html', 'w', encoding='UTF-8') as f: \n",
    "    f.write( f'\\n{s}' )  \n",
    "\n",
    " "
   ]
  },
  {
   "cell_type": "code",
   "execution_count": null,
   "metadata": {},
   "outputs": [],
   "source": [
    "hva25 = parser.parse(question_group='5490:5496') \n",
    "\n",
    "def idlookup(id):\n",
    "    sid=hva25.loc[ hva25['{IdText}'] == id]['{PK_Question}']\n",
    "    try:\n",
    "        id= sid.values[0]\n",
    "    except:\n",
    "        print('idlookup:'+ id)\n",
    "    return id\n",
    "idlookup('26.0')  "
   ]
  },
  {
   "cell_type": "code",
   "execution_count": null,
   "metadata": {},
   "outputs": [],
   "source": [
    "schema={}\n",
    "with open(r\"C:\\dev\\CyberBalance\\trunk\\projects\\CyberBalance.CS.Core\\JSON\\ref\\FY25-BOD-JSON-schema-MVPVersion-v1.1.json\") as f:\n",
    "    schema = json.load(f )\n",
    "fields = schema['properties']['fieldKey']['properties']\n",
    " \n",
    "fields"
   ]
  },
  {
   "cell_type": "code",
   "execution_count": null,
   "metadata": {},
   "outputs": [],
   "source": [
    "lst = []\n",
    "sql=\" VALUES \\n\"\n",
    "jclass=list(fields.keys())[0].split('.')[0] \n",
    "for k in fields.keys():\n",
    "    id=fields[k]['properties']['number']['const']\n",
    "   \n",
    "    if jclass != k.split('.')[0]:\n",
    "        jclass=k.split('.')[0]\n",
    "    prop = jclass\n",
    "    if '.' in k:\n",
    "        props = k.split('.')\n",
    "        prop=props[1]\n",
    "        if len(props) > 2:\n",
    "            jclass=props[1]\n",
    "            prop=props[2]\n",
    "\n",
    "    try:\n",
    "        sql += f\"('{id}', '{jclass}', '{upperFirst(prop)}', 184, {idlookup(id)}),\\n\"\n",
    "    except:\n",
    "        print(k)\n",
    "# print(sql)\n",
    "\n",
    "with open(ctx.get_dest()+'script.sql', 'w', encoding='UTF-8') as f: \n",
    "    f.write( f'\\n{sql[:-2]}' )  "
   ]
  },
  {
   "cell_type": "code",
   "execution_count": null,
   "metadata": {},
   "outputs": [],
   "source": [
    "qr.recommend('How many systems does Anthony need for the system')"
   ]
  },
  {
   "cell_type": "code",
   "execution_count": null,
   "metadata": {},
   "outputs": [],
   "source": [
    "qt = sql_todf(\"SELECT CAST(PK_QuestionTypeId AS NVARCHAR(99)) as [{PK_QuestionType}], code AS [{QT_CODE}] FROM fsma_QuestionTypes WHERE code IN ('LABEL','YN','CNT','TXT','PICK','FREQ','DEC','MULTICHECKBOX')\",  ctx.connstr) \n",
    "qt"
   ]
  },
  {
   "cell_type": "code",
   "execution_count": null,
   "metadata": {},
   "outputs": [],
   "source": [
    "df24 = parser.parse(question_group='5140:5146') \n",
    "df24['{PK_PickListType}'] = df24['{PK_PickListType}'].apply(lambda s: str(s).replace('None','')).astype(str) \n",
    "df24['{PK_Question24}'] = df24['{PK_Question}'].apply(lambda s: int(s)).astype(str)  \n",
    "df24['{PK_QuestionGroup24}'] = df24['{PK_QuestionGroup}'].apply(lambda s: int(s)).astype(str) \n",
    "df24['{sortpos24}'] = df24['{sortpos}'].apply(lambda s: int(s)) \n",
    "df24['{FK_QuestionType}'] = df24['{FK_QuestionType}'].astype(str) \n",
    "df24 = df24[['{IdText}', '{FK_QuestionType}', '{PK_Question24}', '{PK_QuestionGroup24}', '{sortpos24}']]\n",
    "df24 = df24.sort_values(by=['{PK_QuestionGroup24}', '{sortpos24}'])\n",
    "df24 "
   ]
  },
  {
   "cell_type": "code",
   "execution_count": null,
   "metadata": {},
   "outputs": [],
   "source": [
    "df24.loc[ df24['{IdText}'] == '7.0']"
   ]
  },
  {
   "cell_type": "code",
   "execution_count": 426,
   "metadata": {},
   "outputs": [],
   "source": [
    "\n",
    "def hvaprocess( df25 ):\n",
    "    df25 = df25.fillna('') \n",
    "    df25 = df25.astype('string')\n",
    "    df25 = df25.loc[ df25['{FY25}'] != 'Deleted' ]  \n",
    "    df25['{FY24}'] = [ q[1] if re.match('.*New.*', q[0] ) else q[0] for q in zip( df25['{FY24}'], df25['{FY25}'] )  ]  \n",
    "    df25['{QuestionText}'] =  df25['{QuestionText}'].apply(lambda s: re.sub('\\n|\\r',r'', s) )\n",
    "    df25['{ro}'] =  df25['{ro}'].apply(lambda s: re.sub('\\n|\\r',r'', s) )\n",
    "    df25['{change}'] =  df25['{change}'].apply(lambda s: re.sub('\\n|\\r',r'', s) )\n",
    "    df25['{QuestionText}'] =  df25['{QuestionText}'].apply(lambda s: s.replace(\"'\",\"''\")) \n",
    "    df25['{QuestionText}'] = [ q[0] if re.match('.*[a-z].*', q[0] ) else q[1] for q in zip( df25['{FY24}'], df25['{QuestionText}'] )  ]   \n",
    "    df25 = df25[ df25['{QuestionText}'] != '' ]  \n",
    "    \n",
    "    df25['{sortpos}'] = df25.index + 1 \n",
    "    df25['{PK_QuestionType}'] = '9' \n",
    "    df25['{dep}'] = '' \n",
    "    df25['{FK_Question_Master}'] = ''\n",
    "    df25['{PK_PickListType}'] = 'NULL'\n",
    "    for i,r in df25.iterrows():     \n",
    "        fmt = r['{fmt}']\n",
    "        m = re.match('(.*):(.*)', fmt, re.DOTALL) \n",
    "        if m: \n",
    "            pl = [p.strip() for p in re.sub('\\n\\n','\\n',m.groups(0)[1]).split('\\n')  if p.strip() != ''  ] \n",
    "            rec = plr.recommend(pl, generate_sql=False, threshhold=(.825, .7))  \n",
    "            df25.loc[i, '{PK_PickListType}']=str(rec['PK_PicklistType'])\n",
    "\n",
    "        df25.loc[i, '{PK_QuestionType}']=qr.recommend(r['{QuestionText}'])['PK_QuestionType'].astype(str) \n",
    "        dep = re.match('.*If.*(\\s[\\.|\\d]+)\\s?.*', r['{QuestionText}'] ) \n",
    "        if(dep): \n",
    "            depid =dep.groups(0)[0] \n",
    "            df25.loc[i, '{dep}'] = depid.strip()\n",
    "      \n",
    "    df25['{Dependancy}'] = [f'depend=\"{q[0]}\"' if re.match('.*\\d.*',q[0])  else '' for q in zip(df25['{dep}'], df25['{PK_QuestionType}'])]\n",
    "\n",
    "    df25['{PK_QuestionType}'] = ['17' if re.match('.*Picklist.*',q[0])  else q[1] for q in zip(df25['{fmt}'], df25['{PK_QuestionType}'])]\n",
    "    df25['{PK_QuestionType}'] = ['17' if re.match('.*Select One.*',q[0])  else q[1] for q in zip(df25['{fmt}'], df25['{PK_QuestionType}'])] \n",
    "    df25['{PK_QuestionType}'] = ['43' if re.match('.*Select.*Apply.*',q[0])  else q[1] for q in zip(df25['{fmt}'], df25['{PK_QuestionType}'])]\n",
    "    df25['{PK_QuestionType}'] = ['2' if re.match('.*Integer.*',q[0])  else q[1] for q in zip(df25['{fmt}'], df25['{PK_QuestionType}'])]\n",
    "    df25['{PK_QuestionType}'] = ['1' if re.match('.*Yes.*No.*',q[0])  else q[1] for q in zip(df25['{fmt}'], df25['{PK_QuestionType}'])]\n",
    "    df25['{PK_QuestionType}'] = ['18' if re.match('.*Indicator.*',q[0])  else q[1] for q in zip(df25['{fmt}'], df25['{PK_QuestionType}'])]\n",
    "    df25['{PK_PickListType}'] = ['NULL' if re.match('.*Yes.*No.*',q[0])  else q[1] for q in zip(df25['{fmt}'], df25['{PK_PickListType}'])]\n",
    "    df25['{PK_PickListType}']=df25['{PK_PickListType}'].fillna('')\n",
    "    df25['{ro}'] = df25['{ro}'].apply(lambda s: re.sub('\\n|\\r','',s))\n",
    "    return df25\n",
    "\n",
    "def gen_scripts(source, seed):\n",
    "\n",
    "    file = fr'{ctx.get_download_path()}\\hva\\{source}.xlsx' \n",
    "    df25 = pd.read_excel(file, header=0, sheet_name='Sheet1',  usecols='A:Z', dtype=str)  \n",
    "     \n",
    "    df25 = hvaprocess(df25)\n",
    "    df25['{PK_Question}'] = (df25['{sortpos}']+seed).astype(str)  \n",
    "\n",
    "    df25['{FY24}'] = df25['{FY24}'].apply(lambda s: str(s) + '.0'  if '.' not in s else s)  \n",
    "    df25['{FY25}'] = df25['{FY25}'].apply(lambda s: str(s) + '.0'  if '.' not in s else s) \n",
    "    if re.match('1B', file): \n",
    "        df25['{FY24}'] = df25['{FY24}'].apply(lambda s: re.sub('B(\\d)',r\"B \\1\", str(s)) ) \n",
    "        df25['{FY24}'] = df25['{FY24}'].apply(lambda s: s if re.match('^1B.*', s) else '0')  \n",
    "        df25['{FY25}'] = [ q[0] if re.match('^0.*', q[0] ) else q[1] for q in zip( df25['{FY24}'], df25['{FY25}'] )  ]\n",
    "    df25['{idt}'] = df25['{FY25}']\n",
    "    df25['{FY24}'] = [ q[1] if re.match('.*New.*', q[0], re.IGNORECASE ) else q[0] for q in zip( df25['{FY24}'], df25['{FY25}'] )  ]\n",
    "    df25['{PK_QuestionType}'] = ['18' if re.match('^\\.?0',q[0])  else q[1] for q in zip(df25['{FY25}'], df25['{PK_QuestionType}'])]\n",
    "    df25 = pd.merge(df25, qt, how='left', left_on='{PK_QuestionType}', right_on='{PK_QuestionType}')\n",
    "    df25 = df25.astype('string')\n",
    "    print(file)\n",
    "    if re.match('.*45.*', file): \n",
    "        df25['{PK_QuestionType}'] = '92'\n",
    "        \n",
    "    gen=script_generator(ctx)\n",
    "    code=gen.generate( df25 , code_template_path=f'{ctx.get_tempalte_dir()}hva_insert.sql')   \n",
    "    with open(ctx.get_dest()+'script.sql', 'w', encoding='UTF-8') as f: \n",
    "        f.write( f'\\n{code}' )  \n",
    "    df25['{idt}'] = df25['{idt}'].apply(lambda s: s.replace('.','_'))\n",
    "    df25['{FK_PickListType}'] = df25['{PK_PickListType}'] \n",
    "    \n",
    "    form_code = gen.generate(df25)  \n",
    "    with open(fr\"{ctx.get_dest()}\\script.aspx\", 'w', encoding='UTF-8') as fw: \n",
    "        form_code =   form_code.replace('\\ufeff', '')\n",
    "        fw.write(form_code)\n",
    "    return df25"
   ]
  },
  {
   "cell_type": "code",
   "execution_count": null,
   "metadata": {},
   "outputs": [],
   "source": [
    "d={'1A':72000, '1B':72125, 'S2':72245, 'S3': 72270, '45':72320}\n",
    "df25 = gen_scripts('S3' , 72270)\n",
    "df25[0:8] "
   ]
  },
  {
   "cell_type": "code",
   "execution_count": null,
   "metadata": {},
   "outputs": [],
   "source": [
    "d={'1A':72000, '1B':72125, 'S2':72245, 'S3': 72270, '45':72320}\n",
    "df25 = gen_scripts('S3' , 72270)\n",
    "df25[0:8] "
   ]
  },
  {
   "cell_type": "code",
   "execution_count": null,
   "metadata": {},
   "outputs": [],
   "source": [
    "def get_dep(s):\n",
    "    m=re.match('.*\\s(\\d\\d?\\.[\\d\\.|\\.]+)\\s.*', s)\n",
    "    if m:\n",
    "        return m.groups(0)[0]\n",
    "    m=re.match('If\\s.*[Yes].*', s.strip())\n",
    "    if m:\n",
    "        return 'y'\n",
    "    m=re.match('If\\s.*[No].*', s.strip())\n",
    "    if m:\n",
    "        return 'n'\n",
    "    return\n",
    "get_dep(\"If 'Yes' the the quesiton\")"
   ]
  },
  {
   "cell_type": "code",
   "execution_count": null,
   "metadata": {},
   "outputs": [],
   "source": [
    "dff25 = parser.parse(question_group='5490:5491')[['{IdText}','{PK_Question}','{QuestionText}', '{PK_PickListType}']] \n",
    "dff25['{PK_Question}']=dff25['{PK_Question}'].astype(str)\n",
    "dff25['depID'] = dff25['{QuestionText}'].apply( get_dep )\n",
    "dff25['depID'] = [re.sub('(\\d{,2})\\..*',r'\\1.0', str(q[1]))  if q[0] =='y' else q[0] for q in zip(dff25['depID'], dff25['{IdText}'])]\n",
    "dff25[18:] \n",
    "merged = pd.merge(dff25,dff25,how='left', left_on='depID', right_on='{IdText}', suffixes=('','_dep')) \n",
    "# merged['depID'] = [re.sub('(\\d{,2})\\..*',r'\\1.0', str(q[1]))  if q[0] =='y' else q[0] for q in zip(merged['depID'], merged['{IdText}'])]\n",
    "merged[22:27] \n"
   ]
  },
  {
   "cell_type": "code",
   "execution_count": null,
   "metadata": {},
   "outputs": [],
   "source": [
    "#  merged=merged.loc[ merged['depID']  ]\n",
    "sql=''\n",
    "for i,r in merged.iterrows():\n",
    "    if r['depID'] != None:\n",
    "        val =  r['{PK_PickListType}']\n",
    "        if 'Yes' in r['{QuestionText}']:\n",
    "            val = 'Y'\n",
    "        if 'N' in r['{QuestionText}']:\n",
    "            val = 'N'\n",
    "        sql+= f\", ({r['{PK_Question}']}, {r['{PK_Question}_dep']}, '{val}') -- { r['{IdText}'] } { r['{QuestionText}'] }\\n\"   # (64506, 64505, '14886') -- 4.1 \n",
    "print(sql)"
   ]
  },
  {
   "cell_type": "code",
   "execution_count": null,
   "metadata": {},
   "outputs": [],
   "source": [
    "gen=script_generator(ctx)\n",
    "code=gen.generate( df2425 , code_template_path=f'{ctx.get_tempalte_dir()}hva_insert.sql')  \n",
    "# print( code ) \n",
    "with open(ctx.get_dest()+'script.sql', 'w', encoding='UTF-8') as f: \n",
    "    f.write( f'\\n{code}' ) \n",
    "\n",
    "gen=script_generator(ctx)\n",
    "form_code = gen.generate(df2425)  \n",
    "with open(fr\"{ctx.get_dest()}\\script.aspx\", 'w', encoding='UTF-8') as fw: \n",
    "    form_code =   form_code.replace('\\ufeff', '')\n",
    "    fw.write(form_code)"
   ]
  },
  {
   "cell_type": "code",
   "execution_count": null,
   "metadata": {},
   "outputs": [],
   "source": []
  },
  {
   "cell_type": "code",
   "execution_count": null,
   "metadata": {},
   "outputs": [],
   "source": []
  },
  {
   "cell_type": "code",
   "execution_count": null,
   "metadata": {},
   "outputs": [],
   "source": [
    "pl = picklist_recommender(ctx, use_cache=False)\n",
    "for i, r in df2425.iterrows(): \n",
    "    if 'picklist' in r['{change}'].lower(): \n",
    "        lst = re.sub('Select all that Apply:\\s*\\n|Select One:\\s*\\n', '', r['{fmt}'], flags=re.IGNORECASE) \n",
    "        lst=lst.split('\\n')  \n",
    "        pl.recommend(lst, generate_sql=True, threshhold=(1.825, 1.7))\n",
    "        pl"
   ]
  },
  {
   "cell_type": "code",
   "execution_count": null,
   "metadata": {},
   "outputs": [],
   "source": [
    "deps = df2425[:] #.loc[ merged['{dep}'] != '' ]\n",
    "deps = deps[['{FY25}','{PK_Question}','{FY24}','{PK_Question24}','{dep}','{QuestionText}'  ]]\n",
    "deps[44:48] "
   ]
  },
  {
   "cell_type": "code",
   "execution_count": null,
   "metadata": {},
   "outputs": [],
   "source": [
    "qr = question_type_recommender( ctx, verbose=True, use_cache=True)"
   ]
  },
  {
   "cell_type": "code",
   "execution_count": null,
   "metadata": {},
   "outputs": [],
   "source": [
    "picklist_string = 'Date Determined / TBD / Continuous ATO'  \n",
    "pl=picklist_recommender(ctx, use_cache=False).recommend(picklist_string.split(' / '), generate_sql=True, threshhold=(.825, .7))\n",
    "pl "
   ]
  },
  {
   "cell_type": "code",
   "execution_count": null,
   "metadata": {},
   "outputs": [],
   "source": [
    "file=r'C:\\Users\\timko\\Downloads\\Untitled.txt'\n",
    "txt = ''\n",
    "df=[]\n",
    "\n",
    "with open(file, 'r') as f:\n",
    "    txt= f.read()\n",
    "    txt = txt.split('\\n')\n",
    "for t in txt:\n",
    "    g=re.match('(\\d\\.\\d\\.?\\d?\\.?\\d?\\.?\\d?\\.?)\\s(.+)',t, re.DOTALL)\n",
    "    if g: \n",
    "     FK_QuestionType = qr.recommend( g.groups(0)[1] )['PK_QuestionType']\n",
    "     #if FK_QuestionType != 2: FK_QuestionType = 18\n",
    "     df.append({'{PK_Question}':'00000', '{IdText}':g.groups(0)[0], '{QText}':g.groups(0)[1], '{FK_QuestionType}':FK_QuestionType  })\n",
    "     #print (g.groups(0) )\n",
    "df=pd.DataFrame(df)\n",
    "df[90:]"
   ]
  },
  {
   "cell_type": "code",
   "execution_count": null,
   "metadata": {},
   "outputs": [],
   "source": [
    "gen=script_generator(ctx)\n",
    "code=gen.generate(df, code_template_path=f'{ctx.get_tempalte_dir()}cio_question_insert.sql')  \n",
    "print( code ) "
   ]
  },
  {
   "cell_type": "code",
   "execution_count": null,
   "metadata": {},
   "outputs": [],
   "source": [
    "config = {}\n",
    "with open('C:\\dev\\CyberScope\\CyberScopeBranch\\CSwebdev\\code\\CyberScope.Tests\\AutomatorConfig.json', 'rb') as f: \n",
    "    config=json.loads(f.read())    \n",
    "dic = config['InputDefaults'][\"//form[contains(@action, '_CIO_')]\"]\n",
    "\n",
    "lod=[]\n",
    "for k in dic.keys():\n",
    "    lod.append({'regex':k, 'value':dic[k]})\n",
    "df=pd.DataFrame(lod)\n",
    "df.to_csv( r\"C:\\dev\\CyberScope\\CyberScopeBranch\\CSwebdev\\code\\CyberScope.Tests\\Data\\form[contains(@action, '_CIO_')].csv\" , index=False)\n"
   ]
  },
  {
   "cell_type": "code",
   "execution_count": null,
   "metadata": {},
   "outputs": [],
   "source": [
    "pk = sql_todf(\"SELECT DisplayValue, PK_Picklist FROM vwPicklists WHERE UsageField='ServiceModelType' \", config['connstr'])\n",
    "pk"
   ]
  },
  {
   "cell_type": "code",
   "execution_count": null,
   "metadata": {},
   "outputs": [],
   "source": [
    "ep = sql_todf(\"\"\"\n",
    "SELECT\n",
    "\t  REPLACE(p.name,'cq_','') AS [spname]\n",
    "    , pa.parameter_id AS [order]\n",
    "    , pa.name AS [name]\n",
    "    , UPPER(t.name) AS [type]\n",
    "    , t.max_length AS [length]  \n",
    "FROM sys.parameters AS pa \n",
    "INNER JOIN sys.procedures AS p on pa.object_id = p.object_id \n",
    "INNER JOIN sys.types AS t on pa.system_type_id = t.system_type_id AND pa.user_type_id = t.user_type_id\n",
    "WHERE 1=1\n",
    "AND create_date > '06-06-2024'\n",
    "AND p.name LIKE  'cq_%'\n",
    "\n",
    "\"\"\", config['connstr'])\n",
    "ep\n",
    "\n"
   ]
  },
  {
   "cell_type": "code",
   "execution_count": null,
   "metadata": {},
   "outputs": [],
   "source": [
    "ep_g = ep[['spname','name']].groupby('spname', as_index=False).agg({'name':list})\n",
    "ep_g"
   ]
  },
  {
   "cell_type": "code",
   "execution_count": null,
   "metadata": {},
   "outputs": [],
   "source": [
    "def to_routes(lst):\n",
    "    s= map( lambda s: '[FromQuery] string? '+s.replace('@','')+', ' , lst) \n",
    "    return ''.join(list(s))\n",
    "to_routes(['@PK_ReportingCycle','@ComponentGroup'])\n"
   ]
  },
  {
   "cell_type": "code",
   "execution_count": null,
   "metadata": {},
   "outputs": [],
   "source": [
    "def to_params(lst): \n",
    "    rq,p='','' \n",
    "    for l in lst:\n",
    "        l= re.sub('@','',l)\n",
    "        #rq=rq+f'\\n    var {l} = request.Query[\"{l}\"] ?? \"\"; '\n",
    "        p=p+f'\\n    request.PARMS.Add(\"@{l}\", {l}); '\n",
    "    return rq+''+p\n",
    "s = to_params(['@Generic1','@PK_ReportingCycle'])\n",
    "print(s)"
   ]
  },
  {
   "cell_type": "code",
   "execution_count": null,
   "metadata": {},
   "outputs": [],
   "source": [
    "snip=''\n",
    "with open(ctx.get_tempalte_dir()+ 'snip.cs', 'r', encoding='UTF-8') as f: \n",
    "    snip=f.read() \n",
    "s=''\n",
    "for i,r in ep_g.iterrows():\n",
    "    args = to_routes(r['name'])\n",
    "    #print(params) \n",
    "    s=s+snip.replace('~args~', args).replace('~cq~', r['spname']).replace('~parms~', to_params(r['name']))\n",
    "\n",
    "print(s)\n",
    "\n",
    "with open(ctx.get_dest()+'script.sql', 'w', encoding='UTF-8') as f: \n",
    "    f.write( f'\\n{s}' ) "
   ]
  },
  {
   "cell_type": "code",
   "execution_count": null,
   "metadata": {},
   "outputs": [],
   "source": [
    "dest=''\n",
    "with open(r'C:\\dev\\CyberScope\\CsLab\\Cyberscope\\CSwebdev\\code\\CSAPI\\Program.cs', 'r', encoding='UTF-8') as f: \n",
    "    dest=f.read() \n",
    "m=re.search('.*(MapGet.+)app\\.Run',dest, flags=re.DOTALL)\n",
    "m\n"
   ]
  },
  {
   "cell_type": "code",
   "execution_count": null,
   "metadata": {},
   "outputs": [],
   "source": [
    "file=fr'{ctx.get_download_path()}\\USDA-BOD19-02Vulnerabilities.xlsx'  \n",
    "df=pd.read_excel(file, header=0, sheet_name='Sheet1',  usecols='A:Z', dtype=str) \n",
    "df=df.fillna('')  \n",
    "df \n"
   ]
  },
  {
   "cell_type": "code",
   "execution_count": null,
   "metadata": {},
   "outputs": [],
   "source": [
    "sql = ''\n",
    "for i  in range(0,len(df)) : \n",
    "    vals = \"'\"+ \"',N'\".join( list(df.loc[i].values )) + \"'\"\n",
    "    vals = vals + ',@PK_OrgSubmission,@PK_Component,0,' + str(i+1)\n",
    "    vals = vals.replace('1900-01-01 00:00:00', '')\n",
    "    vals =  'insert into @p2 values( ' + vals + ') '\n",
    "    sql= sql + vals + '\\n' \n",
    "\n",
    "script='' \n",
    "with open(ctx.get_down_dir() + '1902_hhs_upload.sql', 'r', encoding='UTF-8') as f: \n",
    "    script=f.read()\n",
    "\n",
    "script=script.replace('RETURN;', sql + '\\nRETURN;\\n' )\n",
    " \n",
    "with open(ctx.get_dest()+'script.sql', 'w', encoding='UTF-8') as f: \n",
    "    f.write( f'\\n{script}' ) \n",
    "\n",
    "\n"
   ]
  },
  {
   "cell_type": "code",
   "execution_count": null,
   "metadata": {},
   "outputs": [],
   "source": [
    "aspx=''\n",
    "for i in range(1,8):\n",
    "    aspx=aspx+f'<tr>\\n'\n",
    "    aspx=aspx+ '<td class=\"workroleid\">' + f'<uc:CBtext2 ID=\"CBtext_6_1_{i}\" QuestionNumber=\"6.1.{i}\" runat=\"server\" CSSClass=\"CustomControlValue \" Columns=\"1\" Rows=\"1\" />' + '</td> \\n'  \n",
    "    for l in ['a','b','c']:\n",
    "        s=''\n",
    "        s=s+f'<uc:CBnumeric2 ID=\"CBNumeric_6_1_{i}_{l}\" runat=\"server\" CSSClass=\"CustomControlValue\" QuestionNumber=\"6.1.{i}.{l}\" /> '\n",
    "        s=s+f'<uc:CBoptionalLinks ID=\"CBoptionalLinks_6_1_{i}_{l}\" LinkEditID=\"CBNumeric_6_1_{i}_{l}\" runat=\"server\"  ShowAudit=\"True\" ShowHelp=\"True\" ShowNarrative=\"true\" AuditRecs=\"20\" />' \n",
    "        aspx=aspx+ '<td>' + s  + '</td> \\n' \n",
    "    aspx=aspx+'</tr> \\n'\n",
    "print ( aspx )"
   ]
  },
  {
   "cell_type": "code",
   "execution_count": null,
   "metadata": {},
   "outputs": [],
   "source": [
    "sql = SQL_INSERT_FROM_DF(df, 'NICEWorkRoles')\n",
    "s = '\\n'.join( sql[0] ) \n",
    "with open(ctx.get_dest()+'script.sql', 'w', encoding='UTF-8') as f: \n",
    "    f.write( f'\\n{s}' ) "
   ]
  },
  {
   "cell_type": "code",
   "execution_count": null,
   "metadata": {},
   "outputs": [],
   "source": [
    "\n",
    "s=''\n",
    "for i,r in df.iterrows(): \n",
    "\n",
    "    s=s+f' UPDATE FEDRAMP_UPLOAD SET ServiceModel=' + str(r[\"PK_Picklist\"]) + ' WHERE FEDRAMPID=\\'' + r[\"FedRAMP ID\"] + '\\';\\n'\n",
    "\n",
    "with open(ctx.get_dest()+'script.js', 'w', encoding='UTF-8') as f: \n",
    "    f.write( f'\\n{s}' ) \n",
    "\n",
    "print( s )\n"
   ]
  },
  {
   "cell_type": "code",
   "execution_count": null,
   "metadata": {},
   "outputs": [],
   "source": [
    "# AGENCY, BUREAU, FedRAMPPackageID, FedRAMPATOIssuanceDate, FedRAMPATOExpirationDate\n",
    "s=''\n",
    "for i,r in df.iterrows():\n",
    "\n",
    "    s = s + f\"\\n('{r['Parent Agency']}', '{r['Sub Agency']}', '{r['FedRAMP ID']}', '{r['ATO Issuance Date']}', '{r['ATO Expiration Date']}'),\"\n",
    "s=s.replace(' 00:00:00','')\n",
    "s=s.replace(\"'nan'\",'NULL')\n",
    "\n",
    "s=s[:-1]\n",
    "with open(ctx.get_dest()+'script.sql', 'w', encoding='UTF-8') as f: \n",
    "    f.write( f'\\n{s}' ) \n"
   ]
  },
  {
   "cell_type": "code",
   "execution_count": null,
   "metadata": {},
   "outputs": [],
   "source": [
    "df2023 = sql_todf(\"  SELECT Idtext, CAST(PK_Question  AS NVARCHAR(9)) AS PK_23, CAST(Q_TypeID AS NVARCHAR(9)) AS Q_Type_23, CAST(FK_PicklistType AS NVARCHAR(9)) AS FK_PicklistType_23 FROM vwQuestions WHERE PK_Form='2023-A-HVA' AND Q_TypeID NOT IN (18, 92, 63, 69, 70)  \", config['connstr'])\n",
    "df2024 = sql_todf(\"  SELECT Idtext, CAST(PK_Question  AS NVARCHAR(9)) AS PK_24, CAST(Q_TypeID AS NVARCHAR(9)) AS Q_Type_24, CAST(FK_PicklistType AS NVARCHAR(9)) AS FK_PicklistType_24 FROM vwQuestions WHERE PK_Form='2024-A-HVA' AND Q_TypeID NOT IN (18, 92, 63, 69, 70)  \", config['connstr'])\n",
    "merged = df2023.merge(map, left_on='Idtext', right_on='FY23 #', how='left')\n",
    "merged = df2024.merge(merged, left_on='Idtext', right_on='FY24 #', how='left')\n",
    "merged=merged.fillna('-')\n",
    "merged[90:125]"
   ]
  },
  {
   "cell_type": "code",
   "execution_count": null,
   "metadata": {},
   "outputs": [],
   "source": [
    "df = sql_todf(\" SELECT * FROM INFORMATION_SCHEMA.COLUMNS WHERE TABLE_NAME ='HVAEXT2'  \", config['connstr'])\n",
    "l=[]\n",
    "for i,r in df.iterrows():\n",
    "    l.append(r['COLUMN_NAME'])\n",
    "print(','.join(l))"
   ]
  },
  {
   "cell_type": "code",
   "execution_count": null,
   "metadata": {},
   "outputs": [],
   "source": [
    "lod=[]\n",
    "for i in range(0,len(df2024)-1): \n",
    "    input=normalize(df2024.iloc[i]['QTEXT'])\n",
    "    Idtext=df2024.iloc[i]['Idtext']\n",
    "    for ii,r in df2023[:].iterrows():\n",
    "        test=normalize(r['QTEXT'] ) \n",
    "        if 'PLEASE DESCRIBE' in test:\n",
    "            continue\n",
    "        sequence_match = SequenceMatcher(None, test,input).ratio()\n",
    "        if sequence_match > .75 and Idtext != r['Idtext'] :\n",
    "            print(r['Idtext'] + ' -> ' + Idtext + ' :' + test)\n",
    "            lod.append({\n",
    "                'Idtext_from':r['Idtext'],\n",
    "                'Idtext_to':Idtext,\n",
    "                'text':test,\n",
    "                'sm':sequence_match \n",
    "            })\n",
    "\n",
    "df=pd.DataFrame(lod)"
   ]
  },
  {
   "cell_type": "code",
   "execution_count": null,
   "metadata": {},
   "outputs": [],
   "source": []
  },
  {
   "cell_type": "code",
   "execution_count": null,
   "metadata": {},
   "outputs": [],
   "source": [
    "\n",
    "s='' \n",
    "for i,r in df.iterrows(): \n",
    "    m23=\"'\"+str(r[\"FY23 #\"])+\"'\"\n",
    "    m24=\"'\"+str(r[\"FY24 #\"])+\"'\"\n",
    "    s = s + f'( {m23}, {m24} ), \\n' \n",
    "print( s ) "
   ]
  },
  {
   "cell_type": "code",
   "execution_count": null,
   "metadata": {},
   "outputs": [],
   "source": [
    "t = zip( list( df['FY23 #'] ), list( df['FY24 #'] ))\n",
    "output = \"\".join(t)\n",
    "output\n",
    " "
   ]
  },
  {
   "cell_type": "code",
   "execution_count": null,
   "metadata": {},
   "outputs": [],
   "source": [
    "s1=\"\"\"\t\t\n",
    "    UPDATE I SET I.AnsPK_{c} = ANS.AnsPK_{c} FROM ##CIO_CDM_IMPORT I \n",
    "    INNER JOIN #CIO_CDM_Data_TMP ANS ON ANS.PK_OrgSubmission = I.PK_OrgSubmission AND ANS.QPK_{c} = I.QPK_{c}\"\"\"\n",
    "s2=\"\"\"\n",
    "\t\tUPDATE A Set Answer = CAST(CAST({c} AS DECIMAL(8,2)) AS NVARCHAR(999)) FROM fsma_Answers A INNER JOIN ##CIO_CDM_IMPORT I ON I.AnsPK_{c}=A.PK_Answer ; \"\"\"\n",
    " \n",
    "s3=\"\"\"\n",
    "\t\tSELECT QPK_{c}, PK_OrgSubmission, CAST(CAST({c} AS DECIMAL(8,2)) AS NVARCHAR(999)), GETDATE() FROM ##CIO_CDM_IMPORT WHERE AnsPK_{c} IS NULL\n",
    "\t\tUNION \"\"\"\n",
    "s4=\"\"\"\n",
    "\t\t\tINSERT INTO AuditLog (TableName, PK_PrimeKey, FieldName, FieldValue, Change_Date, UserID, EditType, String_PrimeKey)  \n",
    "\t\t\tSELECT 'fsma_Answers', FK_OrgSubmission, QPK_{c}, Answer, @GETDATE, 0, 'D', CAST(PK_Answer as NVARCHAR(99))\n",
    "\t\t\tFROM fsma_Answers A\n",
    "\t\t\tINNER JOIN ##CIO_CDM_IMPORT I ON I.PK_OrgSubmission=A.FK_OrgSubmission\n",
    "\t\t\tAND FK_Question=QPK_{c} \n",
    "            \"\"\"\n",
    "s5=\"\"\"          \n",
    "                --{c}\n",
    "\t\t\t\tSELECT @FK_Question= QPK_{c}, @Answer={c}, @PK_OrgSubmission=PK_OrgSubmission FROM ##CIO_CDM_IMPORT WHERE ROWNUM=@i; \n",
    "\t\t\t\tSELECT TOP 1 @PK_Answer=PK_Answer FROM #temp_Answers WHERE FK_Question=@FK_Question AND FK_OrgSubmission=@PK_OrgSubmission \n",
    "\t\t\t\tIF @PK_Answer IS NOT NULL\n",
    "\t\t\t\t\tBEGIN\n",
    "\t\t\t\t\t\tUPDATE fsma_Answers SET Answer=@Answer, DateModifed=@GETDATE WHERE PK_Answer=@PK_Answer\n",
    "\t\t\t\t\tEND\n",
    "\t\t\t\tELSE\n",
    "\t\t\t\t\tBEGIN\n",
    "\t\t\t\t\t\tINSERT INTO fsma_Answers (FK_Question, FK_OrgSubmission, Answer, DateModifed)\n",
    "\t\t\t\t\t\tSELECT QPK_{c}, PK_OrgSubmission, GFE_endpoints, @GETDATE\n",
    "\t\t\t\t\t\tFROM ##CIO_CDM_IMPORT WHERE ROWNUM=@i;\n",
    "\t\t\t\t\tEND\n",
    "\"\"\"\n",
    "lst=['GFE_endpoints','GFE_networking','GFE_inout','GFE_unknown','cisa_7days','cisa_14days','cisa_30days']\n",
    "lst = [s5.replace('{c}',i)  for i in lst]\n",
    "print(''.join(lst))"
   ]
  },
  {
   "cell_type": "code",
   "execution_count": null,
   "metadata": {},
   "outputs": [],
   "source": [
    "s = ', '\n",
    "c =  [ f\", @{re.sub('[^A-Za-z0-9]','', c)} NVARCHAR(99)\" for c in df.columns ]\n",
    "print( '\\n'.join(c) )"
   ]
  },
  {
   "cell_type": "code",
   "execution_count": null,
   "metadata": {},
   "outputs": [],
   "source": [
    "def formatqt(s):\n",
    "    s=s.replace('•','') \n",
    "    s=s.replace('','<br>')\n",
    "    s=re.sub('[\\n|\\r]','',s) \n",
    "    return s  \n",
    "l=formatqt(\"\"\" \"\"\") \n",
    "insert='\\nINSERT INTO fsma_Questions (PK_Question, FormName, FK_QuestionGroup,sortpos,FK_PickListType, FK_QuestionType,identifier_text,ExternalLinkType, QuestionText, help_text) VALUES \t\\n'"
   ]
  },
  {
   "cell_type": "code",
   "execution_count": null,
   "metadata": {},
   "outputs": [],
   "source": [
    "file=f'{ctx.get_down_dir()}ig.xlsx' \n",
    "converts={'Question':lambda x: re.sub('\\n','',x) } \n",
    "dff=pd.read_excel(file, converters=converts, sheet_name=int(0), header=0, usecols='A,P,Q,R,X,W,Y,U,V,AB,AC,AD,AE,AF,AI,AJ,AK,AL,AO,AQ,AP,AR' ) \n",
    "dff[106:110]"
   ]
  },
  {
   "cell_type": "code",
   "execution_count": null,
   "metadata": {},
   "outputs": [],
   "source": [
    "df=dff \n",
    "df = df[df[\"Question\"].str.contains(\"Question\") == False]\n",
    "df[\"{QuestionText}\"]=df[\"Question\"]\n",
    " \n",
    "df=df.fillna('').astype(str) \n",
    " \n",
    "df['ht']=df['Unnamed: 15']+df['Unnamed: 17']+df['Maturity Level'] \n",
    "df['ht'].fillna('', inplace=True)\n",
    "df['{helptext}']=df['ht'].apply(lambda s: f'<li> <strong>Ad Hoc:</strong>{s}</li>') \n",
    "df.drop(columns=['Unnamed: 15','Unnamed: 17','Maturity Level'], inplace=True) \n",
    "\n",
    "df['ht']=df['Unnamed: 20']+df['Unnamed: 21']+ df['Unnamed: 22'] + df['Unnamed: 23']+df['Unnamed: 24'] \n",
    "df['ht'].fillna('', inplace=True)\n",
    "df['{helptext}']=df['{helptext}']+df['ht'].apply(lambda s: f'<li> <strong>Defined:</strong>{s}</li>')\n",
    "df.drop(columns=['Unnamed: 20', 'Unnamed: 21','Unnamed: 22', 'Unnamed: 23','Unnamed: 24'], inplace=True)\n",
    "\n",
    "df['ht']=df['Unnamed: 27']+df['Unnamed: 28']+df['Unnamed: 29'] + df['Unnamed: 30']+df['Unnamed: 31']\n",
    "df['ht'].fillna('', inplace=True)\n",
    "df['{helptext}']=df['{helptext}']+df['ht'].apply(lambda s: f'<li> <strong>Consistently Implemented:</strong>{s}</li>')\n",
    "df.drop(columns=['Unnamed: 27','Unnamed: 28','Unnamed: 29','Unnamed: 30','Unnamed: 31'], inplace=True)\n",
    "\n",
    "df['ht']=df['Unnamed: 34']+ df['Unnamed: 35']+ df['Unnamed: 36'] +df['Unnamed: 37']\n",
    "df['ht'].fillna('', inplace=True)\n",
    "df['{helptext}']=df['{helptext}']+df['ht'].apply(lambda s: f'<li> <strong>Managed and Measurable:</strong>{s}</li>')\n",
    "df.drop(columns=['Unnamed: 34', 'Unnamed: 35','Unnamed: 36','Unnamed: 37'], inplace=True)\n",
    "\n",
    "df['ht']=df['Unnamed: 40']+df['Unnamed: 41']+df['Unnamed: 42']+df['Unnamed: 43'] \n",
    "df['ht'].fillna('', inplace=True)\n",
    "df['{helptext}']=df['{helptext}']+df['ht'].apply(lambda s: f'<li> <strong>Optimized:</strong>{s}</li>')\n",
    "df.drop(columns=['Unnamed: 40','Unnamed: 41','Unnamed: 42','Unnamed: 43'], inplace=True)\n",
    " \n",
    "df.drop(columns=['ht', 'Question'], inplace=True)\n",
    "\n",
    "df['{helptext}']=df['{helptext}'].apply(lambda s: f'<br/><br/><h6><b>Maturity Level:</b></h6><ul>{s}</ul>' if len(s) > 210 else '' )\n",
    "\n",
    "df['{helptext}']=df['{helptext}'].apply(formatqt)\n",
    "df['{QuestionText}']=df['{QuestionText}'].apply(formatqt)\n",
    "df['{idt}']=df['{QuestionText}'].apply(lambda s: re.findall('(\\d{1,2}.\\d?\\s{1,4})',s)[0].rstrip(\" \").rstrip(\".\") )\n",
    "df['{FK_PickListType}']='85' \n",
    "df['{FK_QuestionType}']=df['{QuestionText}'].apply(lambda s: '9' if \"additional information\" in s  else '17')\n",
    "\n",
    "df['{QuestionText}']=df['{QuestionText}'].apply(lambda s: re.sub('\\'','`',s) )\n",
    "df['{helptext}']=df['{helptext}'].apply(lambda s: re.sub('\\'','`',s) )\n",
    "s=2\n",
    "sort=0\n",
    "pk=53009\n",
    "for i,r, in df.iterrows():\n",
    "    if re.search('Table \\d{1,2}',r['{QuestionText}']):\n",
    "        s=s+1\n",
    "        sort=0\n",
    "        pk=pk+10 \n",
    "    else:\n",
    "        if sort > 0:\n",
    "            df.loc[i, '{pre}']=str('\\n,')\n",
    "        else:\n",
    "            df.loc[i, '{pre}']=str(insert)\n",
    "        sort=sort+1\n",
    "        pk=pk+1\n",
    "        df.loc[i, '{FK_QuestionGroup}']=f'@PK_QGroup+{s}'\n",
    "        df.loc[i, '{sortpos}']=str(sort)\n",
    "        df.loc[i, '{PK_Question}']=str(pk) \n",
    "df = df[df[\"{QuestionText}\"].str.contains(\"Table \") == False]\n",
    "df['{QuestionText}']=df['{QuestionText}'].apply(lambda s: re.sub('\\d{1,2}.\\d?\\s{1,4}','',s).strip(\" \") ) \n",
    "df[['{QuestionText}','{helptext}']].to_html('out/script.html', escape=False)\n"
   ]
  },
  {
   "cell_type": "code",
   "execution_count": null,
   "metadata": {},
   "outputs": [],
   "source": [
    "df"
   ]
  },
  {
   "cell_type": "code",
   "execution_count": null,
   "metadata": {},
   "outputs": [],
   "source": [
    "gen=script_generator(ctx)\n",
    "code=gen.generate(df, code_template_path=f'{ctx.get_tempalte_dir()}fsma_QuestionsInsert.sql')  "
   ]
  },
  {
   "cell_type": "code",
   "execution_count": null,
   "metadata": {},
   "outputs": [],
   "source": [
    "with open(ctx.get_dest()+'script.sql', 'w', encoding='UTF-8') as f: \n",
    "    f.write( f'\\n{code}' ) "
   ]
  },
  {
   "cell_type": "code",
   "execution_count": null,
   "metadata": {},
   "outputs": [],
   "source": [
    "with open(r'C:\\dev\\CyberScope\\CyberScopeBranch\\CSwebdev\\database\\_5_DBUpdate7.53_IG.sql', 'r', encoding='UTF-8') as f: \n",
    "    sql=f.read() \n",
    "m=re.search('--PARSEBEGIN(.*)--PARSEEND',sql, flags=re.DOTALL)\n",
    "sql=sql.replace(m.group(1),code)\n",
    "with open(ctx.get_dest()+'script.sql', 'w', encoding='UTF-8') as f: \n",
    "    f.write( f'\\n{sql}' ) \n",
    "\n",
    "#with open(r'C:\\dev\\CyberScope\\CyberScopeBranch\\CSwebdev\\database\\_5_DBUpdate7.53_IG.sql', 'w', encoding='UTF-8') as f: \n",
    "#    f.write() \n"
   ]
  }
 ],
 "metadata": {
  "kernelspec": {
   "display_name": "base",
   "language": "python",
   "name": "python3"
  },
  "language_info": {
   "codemirror_mode": {
    "name": "ipython",
    "version": 3
   },
   "file_extension": ".py",
   "mimetype": "text/x-python",
   "name": "python",
   "nbconvert_exporter": "python",
   "pygments_lexer": "ipython3",
   "version": "3.8.5"
  },
  "orig_nbformat": 4
 },
 "nbformat": 4,
 "nbformat_minor": 2
}
