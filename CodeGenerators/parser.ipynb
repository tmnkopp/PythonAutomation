{
 "cells": [
  {
   "cell_type": "code",
   "execution_count": null,
   "metadata": {
    "metadata": {}
   },
   "outputs": [],
   "source": [
    "import pandas as pd\n",
    "import numpy as np  \n",
    "import re, json, logging, requests, random\n",
    "from lib.config import connstr\n",
    "from lib.context import context\n",
    "from lib.utils import *  \n",
    "from lib.issue_provider import issue_provider \n",
    "from lib.script_generator import script_generator \n",
    "ctx=context() \n",
    "ctx.logger.setLevel(logging.DEBUG)\n",
    "config = {}\n",
    "with open('config.json', 'r') as f: \n",
    "    config=json.loads(f.read())    \n",
    "ctx.config=config \n",
    "import warnings\n",
    "warnings.filterwarnings('ignore') "
   ]
  },
  {
   "cell_type": "code",
   "execution_count": null,
   "metadata": {},
   "outputs": [],
   "source": [
    "pk = sql_todf(\"SELECT DisplayValue, PK_Picklist FROM vwPicklists WHERE UsageField='ServiceModelType' \", config['connstr'])\n",
    "pk"
   ]
  },
  {
   "cell_type": "code",
   "execution_count": null,
   "metadata": {},
   "outputs": [],
   "source": [
    "file=f'{ctx.get_download_path()}\\FedRAMP - FedRAMP Data 091824.xlsx'  \n",
    "df=pd.read_excel(file,  header=0, usecols='A,E', na_values='') \n",
    "df=df.fillna('')\n",
    "df=df.loc[df['Service Model'].str.contains(',')]\n",
    "df['DisplayValue']=df['Service Model'].str.replace(',',', ')\n",
    "df=df.merge(pk, on='DisplayValue', how='inner')\n",
    "s=''\n",
    "for i,r in df.iterrows():\n",
    "\n",
    "    s=s+f' UPDATE FEDRAMP_UPLOAD SET ServiceModel=' + str(r[\"PK_Picklist\"]) + ' WHERE FEDRAMPID=\\'' + r[\"FedRAMP ID\"] + '\\';\\n'\n",
    "\n",
    "with open(ctx.get_dest()+'script.sql', 'w', encoding='UTF-8') as f: \n",
    "    f.write( f'\\n{s}' ) \n",
    "\n",
    "print( s )\n"
   ]
  },
  {
   "cell_type": "code",
   "execution_count": 8,
   "metadata": {},
   "outputs": [],
   "source": [
    "# AGENCY, BUREAU, FedRAMPPackageID, FedRAMPATOIssuanceDate, FedRAMPATOExpirationDate\n",
    "s=''\n",
    "for i,r in df.iterrows():\n",
    "\n",
    "    s = s + f\"\\n('{r['Parent Agency']}', '{r['Sub Agency']}', '{r['FedRAMP ID']}', '{r['ATO Issuance Date']}', '{r['ATO Expiration Date']}'),\"\n",
    "s=s.replace(' 00:00:00','')\n",
    "s=s.replace(\"'nan'\",'NULL')\n",
    "\n",
    "s=s[:-1]\n",
    "with open(ctx.get_dest()+'script.sql', 'w', encoding='UTF-8') as f: \n",
    "    f.write( f'\\n{s}' ) \n"
   ]
  },
  {
   "cell_type": "code",
   "execution_count": null,
   "metadata": {},
   "outputs": [],
   "source": [
    "df2023 = sql_todf(\"  SELECT Idtext, CAST(PK_Question  AS NVARCHAR(9)) AS PK_23, CAST(Q_TypeID AS NVARCHAR(9)) AS Q_Type_23, CAST(FK_PicklistType AS NVARCHAR(9)) AS FK_PicklistType_23 FROM vwQuestions WHERE PK_Form='2023-A-HVA' AND Q_TypeID NOT IN (18, 92, 63, 69, 70)  \", config['connstr'])\n",
    "df2024 = sql_todf(\"  SELECT Idtext, CAST(PK_Question  AS NVARCHAR(9)) AS PK_24, CAST(Q_TypeID AS NVARCHAR(9)) AS Q_Type_24, CAST(FK_PicklistType AS NVARCHAR(9)) AS FK_PicklistType_24 FROM vwQuestions WHERE PK_Form='2024-A-HVA' AND Q_TypeID NOT IN (18, 92, 63, 69, 70)  \", config['connstr'])\n",
    "merged = df2023.merge(map, left_on='Idtext', right_on='FY23 #', how='left')\n",
    "merged = df2024.merge(merged, left_on='Idtext', right_on='FY24 #', how='left')\n",
    "merged=merged.fillna('-')\n",
    "merged[90:125]"
   ]
  },
  {
   "cell_type": "code",
   "execution_count": null,
   "metadata": {},
   "outputs": [],
   "source": [
    "df = sql_todf(\" SELECT * FROM INFORMATION_SCHEMA.COLUMNS WHERE TABLE_NAME ='HVAEXT2'  \", config['connstr'])\n",
    "l=[]\n",
    "for i,r in df.iterrows():\n",
    "    l.append(r['COLUMN_NAME'])\n",
    "print(','.join(l))"
   ]
  },
  {
   "cell_type": "code",
   "execution_count": null,
   "metadata": {},
   "outputs": [],
   "source": [
    "lod=[]\n",
    "for i in range(0,len(df2024)-1): \n",
    "    input=normalize(df2024.iloc[i]['QTEXT'])\n",
    "    Idtext=df2024.iloc[i]['Idtext']\n",
    "    for ii,r in df2023[:].iterrows():\n",
    "        test=normalize(r['QTEXT'] ) \n",
    "        if 'PLEASE DESCRIBE' in test:\n",
    "            continue\n",
    "        sequence_match = SequenceMatcher(None, test,input).ratio()\n",
    "        if sequence_match > .75 and Idtext != r['Idtext'] :\n",
    "            print(r['Idtext'] + ' -> ' + Idtext + ' :' + test)\n",
    "            lod.append({\n",
    "                'Idtext_from':r['Idtext'],\n",
    "                'Idtext_to':Idtext,\n",
    "                'text':test,\n",
    "                'sm':sequence_match \n",
    "            })\n",
    "\n",
    "df=pd.DataFrame(lod)"
   ]
  },
  {
   "cell_type": "code",
   "execution_count": null,
   "metadata": {},
   "outputs": [],
   "source": []
  },
  {
   "cell_type": "code",
   "execution_count": null,
   "metadata": {},
   "outputs": [],
   "source": [
    "\n",
    "s='' \n",
    "for i,r in df.iterrows(): \n",
    "    m23=\"'\"+str(r[\"FY23 #\"])+\"'\"\n",
    "    m24=\"'\"+str(r[\"FY24 #\"])+\"'\"\n",
    "    s = s + f'( {m23}, {m24} ), \\n' \n",
    "print( s ) "
   ]
  },
  {
   "cell_type": "code",
   "execution_count": null,
   "metadata": {},
   "outputs": [],
   "source": [
    "t = zip( list( df['FY23 #'] ), list( df['FY24 #'] ))\n",
    "output = \"\".join(t)\n",
    "output\n",
    " "
   ]
  },
  {
   "cell_type": "code",
   "execution_count": null,
   "metadata": {},
   "outputs": [],
   "source": [
    "s1=\"\"\"\t\t\n",
    "    UPDATE I SET I.AnsPK_{c} = ANS.AnsPK_{c} FROM ##CIO_CDM_IMPORT I \n",
    "    INNER JOIN #CIO_CDM_Data_TMP ANS ON ANS.PK_OrgSubmission = I.PK_OrgSubmission AND ANS.QPK_{c} = I.QPK_{c}\"\"\"\n",
    "s2=\"\"\"\n",
    "\t\tUPDATE A Set Answer = CAST(CAST({c} AS DECIMAL(8,2)) AS NVARCHAR(999)) FROM fsma_Answers A INNER JOIN ##CIO_CDM_IMPORT I ON I.AnsPK_{c}=A.PK_Answer ; \"\"\"\n",
    " \n",
    "s3=\"\"\"\n",
    "\t\tSELECT QPK_{c}, PK_OrgSubmission, CAST(CAST({c} AS DECIMAL(8,2)) AS NVARCHAR(999)), GETDATE() FROM ##CIO_CDM_IMPORT WHERE AnsPK_{c} IS NULL\n",
    "\t\tUNION \"\"\"\n",
    "s4=\"\"\"\n",
    "\t\t\tINSERT INTO AuditLog (TableName, PK_PrimeKey, FieldName, FieldValue, Change_Date, UserID, EditType, String_PrimeKey)  \n",
    "\t\t\tSELECT 'fsma_Answers', FK_OrgSubmission, QPK_{c}, Answer, @GETDATE, 0, 'D', CAST(PK_Answer as NVARCHAR(99))\n",
    "\t\t\tFROM fsma_Answers A\n",
    "\t\t\tINNER JOIN ##CIO_CDM_IMPORT I ON I.PK_OrgSubmission=A.FK_OrgSubmission\n",
    "\t\t\tAND FK_Question=QPK_{c} \n",
    "            \"\"\"\n",
    "s5=\"\"\"          \n",
    "                --{c}\n",
    "\t\t\t\tSELECT @FK_Question= QPK_{c}, @Answer={c}, @PK_OrgSubmission=PK_OrgSubmission FROM ##CIO_CDM_IMPORT WHERE ROWNUM=@i; \n",
    "\t\t\t\tSELECT TOP 1 @PK_Answer=PK_Answer FROM #temp_Answers WHERE FK_Question=@FK_Question AND FK_OrgSubmission=@PK_OrgSubmission \n",
    "\t\t\t\tIF @PK_Answer IS NOT NULL\n",
    "\t\t\t\t\tBEGIN\n",
    "\t\t\t\t\t\tUPDATE fsma_Answers SET Answer=@Answer, DateModifed=@GETDATE WHERE PK_Answer=@PK_Answer\n",
    "\t\t\t\t\tEND\n",
    "\t\t\t\tELSE\n",
    "\t\t\t\t\tBEGIN\n",
    "\t\t\t\t\t\tINSERT INTO fsma_Answers (FK_Question, FK_OrgSubmission, Answer, DateModifed)\n",
    "\t\t\t\t\t\tSELECT QPK_{c}, PK_OrgSubmission, GFE_endpoints, @GETDATE\n",
    "\t\t\t\t\t\tFROM ##CIO_CDM_IMPORT WHERE ROWNUM=@i;\n",
    "\t\t\t\t\tEND\n",
    "\"\"\"\n",
    "lst=['GFE_endpoints','GFE_networking','GFE_inout','GFE_unknown','cisa_7days','cisa_14days','cisa_30days']\n",
    "lst = [s5.replace('{c}',i)  for i in lst]\n",
    "print(''.join(lst))"
   ]
  },
  {
   "cell_type": "code",
   "execution_count": null,
   "metadata": {},
   "outputs": [],
   "source": [
    "s = ', '\n",
    "c =  [ f\", @{re.sub('[^A-Za-z0-9]','', c)} NVARCHAR(99)\" for c in df.columns ]\n",
    "print( '\\n'.join(c) )"
   ]
  },
  {
   "cell_type": "code",
   "execution_count": null,
   "metadata": {},
   "outputs": [],
   "source": [
    "def formatqt(s):\n",
    "    s=s.replace('•','') \n",
    "    s=s.replace('','<br>')\n",
    "    s=re.sub('[\\n|\\r]','',s) \n",
    "    return s  \n",
    "l=formatqt(\"\"\" \"\"\") \n",
    "insert='\\nINSERT INTO fsma_Questions (PK_Question, FormName, FK_QuestionGroup,sortpos,FK_PickListType, FK_QuestionType,identifier_text,ExternalLinkType, QuestionText, help_text) VALUES \t\\n'"
   ]
  },
  {
   "cell_type": "code",
   "execution_count": null,
   "metadata": {},
   "outputs": [],
   "source": [
    "file=f'{ctx.get_down_dir()}ig.xlsx' \n",
    "converts={'Question':lambda x: re.sub('\\n','',x) } \n",
    "dff=pd.read_excel(file, converters=converts, sheet_name=int(0), header=0, usecols='A,P,Q,R,X,W,Y,U,V,AB,AC,AD,AE,AF,AI,AJ,AK,AL,AO,AQ,AP,AR' ) \n",
    "dff[106:110]"
   ]
  },
  {
   "cell_type": "code",
   "execution_count": null,
   "metadata": {},
   "outputs": [],
   "source": [
    "df=dff \n",
    "df = df[df[\"Question\"].str.contains(\"Question\") == False]\n",
    "df[\"{QuestionText}\"]=df[\"Question\"]\n",
    " \n",
    "df=df.fillna('').astype(str) \n",
    " \n",
    "df['ht']=df['Unnamed: 15']+df['Unnamed: 17']+df['Maturity Level'] \n",
    "df['ht'].fillna('', inplace=True)\n",
    "df['{helptext}']=df['ht'].apply(lambda s: f'<li> <strong>Ad Hoc:</strong>{s}</li>') \n",
    "df.drop(columns=['Unnamed: 15','Unnamed: 17','Maturity Level'], inplace=True) \n",
    "\n",
    "df['ht']=df['Unnamed: 20']+df['Unnamed: 21']+ df['Unnamed: 22'] + df['Unnamed: 23']+df['Unnamed: 24'] \n",
    "df['ht'].fillna('', inplace=True)\n",
    "df['{helptext}']=df['{helptext}']+df['ht'].apply(lambda s: f'<li> <strong>Defined:</strong>{s}</li>')\n",
    "df.drop(columns=['Unnamed: 20', 'Unnamed: 21','Unnamed: 22', 'Unnamed: 23','Unnamed: 24'], inplace=True)\n",
    "\n",
    "df['ht']=df['Unnamed: 27']+df['Unnamed: 28']+df['Unnamed: 29'] + df['Unnamed: 30']+df['Unnamed: 31']\n",
    "df['ht'].fillna('', inplace=True)\n",
    "df['{helptext}']=df['{helptext}']+df['ht'].apply(lambda s: f'<li> <strong>Consistently Implemented:</strong>{s}</li>')\n",
    "df.drop(columns=['Unnamed: 27','Unnamed: 28','Unnamed: 29','Unnamed: 30','Unnamed: 31'], inplace=True)\n",
    "\n",
    "df['ht']=df['Unnamed: 34']+ df['Unnamed: 35']+ df['Unnamed: 36'] +df['Unnamed: 37']\n",
    "df['ht'].fillna('', inplace=True)\n",
    "df['{helptext}']=df['{helptext}']+df['ht'].apply(lambda s: f'<li> <strong>Managed and Measurable:</strong>{s}</li>')\n",
    "df.drop(columns=['Unnamed: 34', 'Unnamed: 35','Unnamed: 36','Unnamed: 37'], inplace=True)\n",
    "\n",
    "df['ht']=df['Unnamed: 40']+df['Unnamed: 41']+df['Unnamed: 42']+df['Unnamed: 43'] \n",
    "df['ht'].fillna('', inplace=True)\n",
    "df['{helptext}']=df['{helptext}']+df['ht'].apply(lambda s: f'<li> <strong>Optimized:</strong>{s}</li>')\n",
    "df.drop(columns=['Unnamed: 40','Unnamed: 41','Unnamed: 42','Unnamed: 43'], inplace=True)\n",
    " \n",
    "df.drop(columns=['ht', 'Question'], inplace=True)\n",
    "\n",
    "df['{helptext}']=df['{helptext}'].apply(lambda s: f'<br/><br/><h6><b>Maturity Level:</b></h6><ul>{s}</ul>' if len(s) > 210 else '' )\n",
    "\n",
    "df['{helptext}']=df['{helptext}'].apply(formatqt)\n",
    "df['{QuestionText}']=df['{QuestionText}'].apply(formatqt)\n",
    "df['{idt}']=df['{QuestionText}'].apply(lambda s: re.findall('(\\d{1,2}.\\d?\\s{1,4})',s)[0].rstrip(\" \").rstrip(\".\") )\n",
    "df['{FK_PickListType}']='85' \n",
    "df['{FK_QuestionType}']=df['{QuestionText}'].apply(lambda s: '9' if \"additional information\" in s  else '17')\n",
    "\n",
    "df['{QuestionText}']=df['{QuestionText}'].apply(lambda s: re.sub('\\'','`',s) )\n",
    "df['{helptext}']=df['{helptext}'].apply(lambda s: re.sub('\\'','`',s) )\n",
    "s=2\n",
    "sort=0\n",
    "pk=53009\n",
    "for i,r, in df.iterrows():\n",
    "    if re.search('Table \\d{1,2}',r['{QuestionText}']):\n",
    "        s=s+1\n",
    "        sort=0\n",
    "        pk=pk+10 \n",
    "    else:\n",
    "        if sort > 0:\n",
    "            df.loc[i, '{pre}']=str('\\n,')\n",
    "        else:\n",
    "            df.loc[i, '{pre}']=str(insert)\n",
    "        sort=sort+1\n",
    "        pk=pk+1\n",
    "        df.loc[i, '{FK_QuestionGroup}']=f'@PK_QGroup+{s}'\n",
    "        df.loc[i, '{sortpos}']=str(sort)\n",
    "        df.loc[i, '{PK_Question}']=str(pk) \n",
    "df = df[df[\"{QuestionText}\"].str.contains(\"Table \") == False]\n",
    "df['{QuestionText}']=df['{QuestionText}'].apply(lambda s: re.sub('\\d{1,2}.\\d?\\s{1,4}','',s).strip(\" \") ) \n",
    "df[['{QuestionText}','{helptext}']].to_html('out/script.html', escape=False)\n"
   ]
  },
  {
   "cell_type": "code",
   "execution_count": null,
   "metadata": {},
   "outputs": [],
   "source": [
    "df"
   ]
  },
  {
   "cell_type": "code",
   "execution_count": null,
   "metadata": {},
   "outputs": [],
   "source": [
    "gen=script_generator(ctx)\n",
    "code=gen.generate(df, code_template_path=f'{ctx.get_tempalte_dir()}fsma_QuestionsInsert.sql')  "
   ]
  },
  {
   "cell_type": "code",
   "execution_count": null,
   "metadata": {},
   "outputs": [],
   "source": [
    "with open(ctx.get_dest()+'script.sql', 'w', encoding='UTF-8') as f: \n",
    "    f.write( f'\\n{code}' ) "
   ]
  },
  {
   "cell_type": "code",
   "execution_count": null,
   "metadata": {},
   "outputs": [],
   "source": [
    "with open(r'C:\\dev\\CyberScope\\CyberScopeBranch\\CSwebdev\\database\\_5_DBUpdate7.53_IG.sql', 'r', encoding='UTF-8') as f: \n",
    "    sql=f.read() \n",
    "m=re.search('--PARSEBEGIN(.*)--PARSEEND',sql, flags=re.DOTALL)\n",
    "sql=sql.replace(m.group(1),code)\n",
    "with open(ctx.get_dest()+'script.sql', 'w', encoding='UTF-8') as f: \n",
    "    f.write( f'\\n{sql}' ) \n",
    "\n",
    "#with open(r'C:\\dev\\CyberScope\\CyberScopeBranch\\CSwebdev\\database\\_5_DBUpdate7.53_IG.sql', 'w', encoding='UTF-8') as f: \n",
    "#    f.write() \n"
   ]
  }
 ],
 "metadata": {
  "kernelspec": {
   "display_name": "base",
   "language": "python",
   "name": "python3"
  },
  "language_info": {
   "codemirror_mode": {
    "name": "ipython",
    "version": 3
   },
   "file_extension": ".py",
   "mimetype": "text/x-python",
   "name": "python",
   "nbconvert_exporter": "python",
   "pygments_lexer": "ipython3",
   "version": "3.8.5"
  },
  "orig_nbformat": 4
 },
 "nbformat": 4,
 "nbformat_minor": 2
}
