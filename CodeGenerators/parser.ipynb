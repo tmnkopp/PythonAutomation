{
 "cells": [
  {
   "cell_type": "code",
   "execution_count": null,
   "metadata": {
    "metadata": {}
   },
   "outputs": [],
   "source": [
    "import pandas as pd\n",
    "import numpy as np  \n",
    "from lib.question_type_recommender import question_type_recommender\n",
    "from docx.api import Document\n",
    "\n",
    "from lib.picklist_recommender import picklist_recommender\n",
    "from lib.issue_parser import issue_parser \n",
    "from lib.questionnaire_parser import questionnaire_parser\n",
    "from lib.dbupdate_parser import dbupdate_parser\n",
    "from lib.script_generator import script_generator \n",
    "from lib.db_parser import db_parser  \n",
    "\n",
    "import re, json, logging, requests, random \n",
    "from lib.context import context\n",
    "from lib.utils import *   \n",
    "from lib.script_generator import script_generator \n",
    "ctx=context() \n",
    "ctx.logger.setLevel(logging.DEBUG)\n",
    "config = {}\n",
    "with open('config.json', 'r') as f: \n",
    "    config=json.loads(f.read())    \n",
    "ctx.config=config \n",
    "import warnings\n",
    "warnings.filterwarnings('ignore') "
   ]
  },
  {
   "cell_type": "code",
   "execution_count": null,
   "metadata": {},
   "outputs": [],
   "source": [
    "qr = question_type_recommender(ctx, verbose=True, use_cache=True)\n",
    "plr=picklist_recommender(ctx, use_cache=False) \n",
    "db_parser = db_parser(ctx)"
   ]
  },
  {
   "cell_type": "code",
   "execution_count": null,
   "metadata": {},
   "outputs": [],
   "source": [
    "qr.recommend('How many systems does Anthony need for the system')"
   ]
  },
  {
   "cell_type": "code",
   "execution_count": null,
   "metadata": {},
   "outputs": [],
   "source": [
    "qt = sql_todf(\"SELECT CAST(PK_QuestionTypeId AS NVARCHAR(99)) as [{PK_QuestionType}], code AS [{QT_CODE}] FROM fsma_QuestionTypes WHERE code IN ('LABEL','YN','CNT','TXT','PICK','FREQ','DEC','MULTICHECKBOX')\",  ctx.connstr) \n",
    "qt"
   ]
  },
  {
   "cell_type": "markdown",
   "metadata": {},
   "source": [
    "HVA PARSE\n"
   ]
  },
  {
   "cell_type": "code",
   "execution_count": null,
   "metadata": {},
   "outputs": [],
   "source": [
    "df24 = db_parser.parse(question_group='5140:5146') \n",
    "df24['{PK_PickListType}'] = df24['{PK_PickListType}'].apply(lambda s: str(s).replace('None','')).astype(str) \n",
    "df24['{PK_Question24}'] = df24['{PK_Question}'].apply(lambda s: int(s)).astype(str)  \n",
    "df24['{PK_QuestionGroup24}'] = df24['{PK_QuestionGroup}'].apply(lambda s: int(s)).astype(str) \n",
    "df24['{sortpos24}'] = df24['{sortpos}'].apply(lambda s: int(s)) \n",
    "df24['{FK_QuestionType}'] = df24['{FK_QuestionType}'].astype(str) \n",
    "df24 = df24[['{IdText}', '{FK_QuestionType}', '{PK_Question24}', '{PK_QuestionGroup24}', '{sortpos24}']]\n",
    "df24 = df24.sort_values(by=['{PK_QuestionGroup24}', '{sortpos24}'])\n",
    "df24 "
   ]
  },
  {
   "cell_type": "code",
   "execution_count": null,
   "metadata": {},
   "outputs": [],
   "source": [
    "df24.loc[ df24['{IdText}'] == '7.0']"
   ]
  },
  {
   "cell_type": "code",
   "execution_count": null,
   "metadata": {},
   "outputs": [],
   "source": [
    "\n",
    "def hvaprocess( df25 ):\n",
    "    df25 = df25.fillna('') \n",
    "    df25 = df25.astype('string')\n",
    "    df25 = df25.loc[ df25['{FY25}'] != 'Deleted' ]  \n",
    "    df25['{FY24}'] = [ q[1] if re.match('.*New.*', q[0] ) else q[0] for q in zip( df25['{FY24}'], df25['{FY25}'] )  ]  \n",
    "    df25['{QuestionText}'] =  df25['{QuestionText}'].apply(lambda s: re.sub('\\n|\\r',r'', s) )\n",
    "    df25['{ro}'] =  df25['{ro}'].apply(lambda s: re.sub('\\n|\\r',r'', s) )\n",
    "    df25['{change}'] =  df25['{change}'].apply(lambda s: re.sub('\\n|\\r',r'', s) )\n",
    "    df25['{QuestionText}'] =  df25['{QuestionText}'].apply(lambda s: s.replace(\"'\",\"''\")) \n",
    "    df25['{QuestionText}'] = [ q[0] if re.match('.*[a-z].*', q[0] ) else q[1] for q in zip( df25['{FY24}'], df25['{QuestionText}'] )  ]   \n",
    "    df25 = df25[ df25['{QuestionText}'] != '' ]  \n",
    "    \n",
    "    df25['{sortpos}'] = df25.index + 1 \n",
    "    df25['{PK_QuestionType}'] = '9' \n",
    "    df25['{dep}'] = '' \n",
    "    df25['{FK_Question_Master}'] = ''\n",
    "    df25['{PK_PickListType}'] = 'NULL'\n",
    "    for i,r in df25.iterrows():     \n",
    "        fmt = r['{fmt}']\n",
    "        m = re.match('(.*):(.*)', fmt, re.DOTALL) \n",
    "        if m: \n",
    "            pl = [p.strip() for p in re.sub('\\n\\n','\\n',m.groups(0)[1]).split('\\n')  if p.strip() != ''  ] \n",
    "            rec = plr.recommend(pl, generate_sql=False, threshhold=(.825, .7))  \n",
    "            df25.loc[i, '{PK_PickListType}']=str(rec['PK_PicklistType'])\n",
    "\n",
    "        df25.loc[i, '{PK_QuestionType}']=qr.recommend(r['{QuestionText}'])['PK_QuestionType'].astype(str) \n",
    "        dep = re.match('.*If.*(\\s[\\.|\\d]+)\\s?.*', r['{QuestionText}'] ) \n",
    "        if(dep): \n",
    "            depid =dep.groups(0)[0] \n",
    "            df25.loc[i, '{dep}'] = depid.strip()\n",
    "      \n",
    "    df25['{Dependancy}'] = [f'depend=\"{q[0]}\"' if re.match('.*\\d.*',q[0])  else '' for q in zip(df25['{dep}'], df25['{PK_QuestionType}'])]\n",
    "\n",
    "    df25['{PK_QuestionType}'] = ['17' if re.match('.*Picklist.*',q[0])  else q[1] for q in zip(df25['{fmt}'], df25['{PK_QuestionType}'])]\n",
    "    df25['{PK_QuestionType}'] = ['17' if re.match('.*Select One.*',q[0])  else q[1] for q in zip(df25['{fmt}'], df25['{PK_QuestionType}'])] \n",
    "    df25['{PK_QuestionType}'] = ['43' if re.match('.*Select.*Apply.*',q[0])  else q[1] for q in zip(df25['{fmt}'], df25['{PK_QuestionType}'])]\n",
    "    df25['{PK_QuestionType}'] = ['2' if re.match('.*Integer.*',q[0])  else q[1] for q in zip(df25['{fmt}'], df25['{PK_QuestionType}'])]\n",
    "    df25['{PK_QuestionType}'] = ['1' if re.match('.*Yes.*No.*',q[0])  else q[1] for q in zip(df25['{fmt}'], df25['{PK_QuestionType}'])]\n",
    "    df25['{PK_QuestionType}'] = ['18' if re.match('.*Indicator.*',q[0])  else q[1] for q in zip(df25['{fmt}'], df25['{PK_QuestionType}'])]\n",
    "    df25['{PK_PickListType}'] = ['NULL' if re.match('.*Yes.*No.*',q[0])  else q[1] for q in zip(df25['{fmt}'], df25['{PK_PickListType}'])]\n",
    "    df25['{PK_PickListType}']=df25['{PK_PickListType}'].fillna('')\n",
    "    df25['{ro}'] = df25['{ro}'].apply(lambda s: re.sub('\\n|\\r','',s))\n",
    "    return df25\n",
    "\n",
    "def gen_scripts(source, seed):\n",
    "\n",
    "    file = fr'{ctx.get_download_path()}\\hva\\{source}.xlsx' \n",
    "    df25 = pd.read_excel(file, header=0, sheet_name='Sheet1',  usecols='A:Z', dtype=str)  \n",
    "     \n",
    "    df25 = hvaprocess(df25)\n",
    "    df25['{PK_Question}'] = (df25['{sortpos}']+seed).astype(str)  \n",
    "\n",
    "    df25['{FY24}'] = df25['{FY24}'].apply(lambda s: str(s) + '.0'  if '.' not in s else s)  \n",
    "    df25['{FY25}'] = df25['{FY25}'].apply(lambda s: str(s) + '.0'  if '.' not in s else s) \n",
    "    if re.match('1B', file): \n",
    "        df25['{FY24}'] = df25['{FY24}'].apply(lambda s: re.sub('B(\\d)',r\"B \\1\", str(s)) ) \n",
    "        df25['{FY24}'] = df25['{FY24}'].apply(lambda s: s if re.match('^1B.*', s) else '0')  \n",
    "        df25['{FY25}'] = [ q[0] if re.match('^0.*', q[0] ) else q[1] for q in zip( df25['{FY24}'], df25['{FY25}'] )  ]\n",
    "    df25['{idt}'] = df25['{FY25}']\n",
    "    df25['{FY24}'] = [ q[1] if re.match('.*New.*', q[0], re.IGNORECASE ) else q[0] for q in zip( df25['{FY24}'], df25['{FY25}'] )  ]\n",
    "    df25['{PK_QuestionType}'] = ['18' if re.match('^\\.?0',q[0])  else q[1] for q in zip(df25['{FY25}'], df25['{PK_QuestionType}'])]\n",
    "    df25 = pd.merge(df25, qt, how='left', left_on='{PK_QuestionType}', right_on='{PK_QuestionType}')\n",
    "    df25 = df25.astype('string')\n",
    "    print(file)\n",
    "    if re.match('.*45.*', file): \n",
    "        df25['{PK_QuestionType}'] = '92'\n",
    "        \n",
    "    gen=script_generator(ctx)\n",
    "    code=gen.generate( df25 , code_template_path=f'{ctx.get_tempalte_dir()}hva_insert.sql')   \n",
    "    with open(ctx.get_dest()+'script.sql', 'w', encoding='UTF-8') as f: \n",
    "        f.write( f'\\n{code}' )  \n",
    "    df25['{idt}'] = df25['{idt}'].apply(lambda s: s.replace('.','_'))\n",
    "    df25['{FK_PickListType}'] = df25['{PK_PickListType}'] \n",
    "    \n",
    "    form_code = gen.generate(df25)  \n",
    "    with open(fr\"{ctx.get_dest()}\\script.aspx\", 'w', encoding='UTF-8') as fw: \n",
    "        form_code =   form_code.replace('\\ufeff', '')\n",
    "        fw.write(form_code)\n",
    "    return df25"
   ]
  },
  {
   "cell_type": "code",
   "execution_count": null,
   "metadata": {},
   "outputs": [],
   "source": [
    "d={'1A':72000, '1B':72125, 'S2':72245, 'S3': 72270, '45':72320}\n",
    "df25 = gen_scripts('S3' , 72270)\n",
    "df25[0:8] "
   ]
  },
  {
   "cell_type": "code",
   "execution_count": null,
   "metadata": {},
   "outputs": [],
   "source": [
    "d={'1A':72000, '1B':72125, 'S2':72245, 'S3': 72270, '45':72320}\n",
    "df25 = gen_scripts('S3' , 72270)\n",
    "df25[0:8] "
   ]
  },
  {
   "cell_type": "code",
   "execution_count": null,
   "metadata": {},
   "outputs": [],
   "source": [
    "def get_dep(s):\n",
    "    m=re.match('.*\\s(\\d\\d?\\.[\\d\\.|\\.]+)\\s.*', s)\n",
    "    if m:\n",
    "        return m.groups(0)[0]\n",
    "    m=re.match('If\\s.*[Yes].*', s.strip())\n",
    "    if m:\n",
    "        return 'y'\n",
    "    m=re.match('If\\s.*[No].*', s.strip())\n",
    "    if m:\n",
    "        return 'n'\n",
    "    return\n",
    "get_dep(\"If 'Yes' the the quesiton\")"
   ]
  },
  {
   "cell_type": "code",
   "execution_count": null,
   "metadata": {},
   "outputs": [],
   "source": [
    "dff25 = db_parser.parse(question_group='5490:5491')[['{IdText}','{PK_Question}','{QuestionText}', '{PK_PickListType}']] \n",
    "dff25['{PK_Question}']=dff25['{PK_Question}'].astype(str)\n",
    "dff25['depID'] = dff25['{QuestionText}'].apply( get_dep )\n",
    "dff25['depID'] = [re.sub('(\\d{,2})\\..*',r'\\1.0', str(q[1]))  if q[0] =='y' else q[0] for q in zip(dff25['depID'], dff25['{IdText}'])]\n",
    "dff25[18:] \n",
    "merged = pd.merge(dff25,dff25,how='left', left_on='depID', right_on='{IdText}', suffixes=('','_dep')) \n",
    "# merged['depID'] = [re.sub('(\\d{,2})\\..*',r'\\1.0', str(q[1]))  if q[0] =='y' else q[0] for q in zip(merged['depID'], merged['{IdText}'])]\n",
    "merged[22:27] \n"
   ]
  },
  {
   "cell_type": "code",
   "execution_count": null,
   "metadata": {},
   "outputs": [],
   "source": [
    "pl = picklist_recommender(ctx, use_cache=False)\n",
    "for i, r in df2425.iterrows(): \n",
    "    if 'picklist' in r['{change}'].lower(): \n",
    "        lst = re.sub('Select all that Apply:\\s*\\n|Select One:\\s*\\n', '', r['{fmt}'], flags=re.IGNORECASE) \n",
    "        lst=lst.split('\\n')  \n",
    "        pl.recommend(lst, generate_sql=True, threshhold=(1.825, 1.7))\n",
    "        pl"
   ]
  },
  {
   "cell_type": "code",
   "execution_count": null,
   "metadata": {},
   "outputs": [],
   "source": [
    "qr = question_type_recommender( ctx, verbose=True, use_cache=True)"
   ]
  },
  {
   "cell_type": "code",
   "execution_count": null,
   "metadata": {},
   "outputs": [],
   "source": [
    "picklist_string = 'Date Determined / TBD / Continuous ATO'  \n",
    "pl=picklist_recommender(ctx, use_cache=False).recommend(picklist_string.split(' / '), generate_sql=True, threshhold=(.825, .7))\n",
    "pl "
   ]
  },
  {
   "cell_type": "code",
   "execution_count": null,
   "metadata": {},
   "outputs": [],
   "source": [
    "config = {}\n",
    "with open('C:\\dev\\CyberScope\\CyberScopeBranch\\CSwebdev\\code\\CyberScope.Tests\\AutomatorConfig.json', 'rb') as f: \n",
    "    config=json.loads(f.read())    \n",
    "dic = config['InputDefaults'][\"//form[contains(@action, '_CIO_')]\"]\n",
    "\n",
    "lod=[]\n",
    "for k in dic.keys():\n",
    "    lod.append({'regex':k, 'value':dic[k]})\n",
    "df=pd.DataFrame(lod)\n",
    "df.to_csv( r\"C:\\dev\\CyberScope\\CyberScopeBranch\\CSwebdev\\code\\CyberScope.Tests\\Data\\form[contains(@action, '_CIO_')].csv\" , index=False)\n"
   ]
  },
  {
   "cell_type": "code",
   "execution_count": null,
   "metadata": {},
   "outputs": [],
   "source": [
    "pk = sql_todf(\"SELECT DisplayValue, PK_Picklist FROM vwPicklists WHERE UsageField='ServiceModelType' \", config['connstr'])\n",
    "pk"
   ]
  },
  {
   "cell_type": "code",
   "execution_count": null,
   "metadata": {},
   "outputs": [],
   "source": [
    "ep = sql_todf(\"\"\"\n",
    "SELECT\n",
    "\t  REPLACE(p.name,'cq_','') AS [spname]\n",
    "    , pa.parameter_id AS [order]\n",
    "    , pa.name AS [name]\n",
    "    , UPPER(t.name) AS [type]\n",
    "    , t.max_length AS [length]  \n",
    "FROM sys.parameters AS pa \n",
    "INNER JOIN sys.procedures AS p on pa.object_id = p.object_id \n",
    "INNER JOIN sys.types AS t on pa.system_type_id = t.system_type_id AND pa.user_type_id = t.user_type_id\n",
    "WHERE 1=1\n",
    "AND create_date > '06-06-2024'\n",
    "AND p.name LIKE  'cq_%'\n",
    "\n",
    "\"\"\", config['connstr'])\n",
    "ep\n",
    "\n"
   ]
  },
  {
   "cell_type": "code",
   "execution_count": null,
   "metadata": {},
   "outputs": [],
   "source": [
    "ep_g = ep[['spname','name']].groupby('spname', as_index=False).agg({'name':list})\n",
    "ep_g"
   ]
  },
  {
   "cell_type": "code",
   "execution_count": null,
   "metadata": {},
   "outputs": [],
   "source": [
    "def to_routes(lst):\n",
    "    s= map( lambda s: '[FromQuery] string? '+s.replace('@','')+', ' , lst) \n",
    "    return ''.join(list(s))\n",
    "to_routes(['@PK_ReportingCycle','@ComponentGroup'])\n"
   ]
  },
  {
   "cell_type": "code",
   "execution_count": null,
   "metadata": {},
   "outputs": [],
   "source": [
    "def to_params(lst): \n",
    "    rq,p='','' \n",
    "    for l in lst:\n",
    "        l= re.sub('@','',l)\n",
    "        #rq=rq+f'\\n    var {l} = request.Query[\"{l}\"] ?? \"\"; '\n",
    "        p=p+f'\\n    request.PARMS.Add(\"@{l}\", {l}); '\n",
    "    return rq+''+p\n",
    "s = to_params(['@Generic1','@PK_ReportingCycle'])\n",
    "print(s)"
   ]
  },
  {
   "cell_type": "code",
   "execution_count": null,
   "metadata": {},
   "outputs": [],
   "source": [
    "snip=''\n",
    "with open(ctx.get_tempalte_dir()+ 'snip.cs', 'r', encoding='UTF-8') as f: \n",
    "    snip=f.read() \n",
    "s=''\n",
    "for i,r in ep_g.iterrows():\n",
    "    args = to_routes(r['name'])\n",
    "    #print(params) \n",
    "    s=s+snip.replace('~args~', args).replace('~cq~', r['spname']).replace('~parms~', to_params(r['name']))\n",
    "\n",
    "print(s)\n",
    "\n",
    "with open(ctx.get_dest()+'script.sql', 'w', encoding='UTF-8') as f: \n",
    "    f.write( f'\\n{s}' ) "
   ]
  },
  {
   "cell_type": "code",
   "execution_count": null,
   "metadata": {},
   "outputs": [],
   "source": [
    "dest=''\n",
    "with open(r'C:\\dev\\CyberScope\\CsLab\\Cyberscope\\CSwebdev\\code\\CSAPI\\Program.cs', 'r', encoding='UTF-8') as f: \n",
    "    dest=f.read() \n",
    "m=re.search('.*(MapGet.+)app\\.Run',dest, flags=re.DOTALL)\n",
    "m\n"
   ]
  },
  {
   "cell_type": "code",
   "execution_count": null,
   "metadata": {},
   "outputs": [],
   "source": []
  },
  {
   "cell_type": "code",
   "execution_count": null,
   "metadata": {},
   "outputs": [],
   "source": [
    "from bs4 import BeautifulSoup\n",
    "soup = ''\n",
    "f=\"C:/Users/timko/Downloads/IG25.htm\"\n",
    "with open(f, encoding='unicode_escape') as file:\n",
    "  soup = BeautifulSoup(file, 'html.parser')\n",
    "links = soup.select('a')\n",
    "dct = {}\n",
    "for t in links: \n",
    "  if t.select('span'):\n",
    "    ltext = re.sub('\\n|\\r',' ', str(t.select('span')[0].text)  )\n",
    "    ltext=ltext.replace('  ','')\n",
    "    if ltext not in dct.keys() and (re.sub('\\s','',ltext) != '' ):\n",
    "      href=t[\"href\"]\n",
    "      href='\"'+ href +'\"'\n",
    "      dct[ltext]=f\"<a href={href} target=_blank>{ltext}</a>\"\n",
    "dct \n"
   ]
  },
  {
   "cell_type": "code",
   "execution_count": 64,
   "metadata": {},
   "outputs": [],
   "source": [
    "sql = ''\n",
    "with open(r'C:\\dev\\CyberScope\\CyberScopeBranch\\CSwebdev\\database\\_7_DBUpdate7.70_IG.sql') as file:\n",
    "  sql=file.read()\n",
    "for k in dct.keys(): \n",
    "  sql=sql.replace(k, dct[k])\n",
    "with open(r'C:\\temp\\CyberScopeBranch_Release\\_7_DBUpdate7.70.1_IG.sql', 'w+') as file:\n",
    "  file.write(sql)\n"
   ]
  },
  {
   "cell_type": "code",
   "execution_count": null,
   "metadata": {},
   "outputs": [],
   "source": [
    "\n",
    "links = ''.join(list(links)).replace('<span style=\"font-size:8.0pt\">','')\n",
    "links\n",
    "\n",
    "\n",
    "\n"
   ]
  },
  {
   "cell_type": "code",
   "execution_count": null,
   "metadata": {},
   "outputs": [],
   "source": [
    "[{\"MAX_PK_ReportingCycle\":185\n",
    ",\"MAX_PK_QuestionGroup\":5495\n",
    ",\"MAX_PK_FormPage\":4995\n",
    ",\"MAX_PK_Question\":72341\n",
    ",\"_2024AIG_PK_Question\":\"63800:63961\"\n",
    ",\"_2024AIG_FK_FormPage\":\"4621:4631\"\n",
    ",\"_2024AIG_PK_QuestionGroup\":\"5121:5131\"\n",
    ",\"_2024AIG_PK_ReportingCycle\":\"162\"}]"
   ]
  },
  {
   "cell_type": "code",
   "execution_count": null,
   "metadata": {},
   "outputs": [],
   "source": [
    "document = Document(r\"C:\\Users\\timko\\Downloads\\IG25.docx\")\n",
    "tables = document.tables \n",
    "row=document.tables[1].rows[2]\n",
    "cell=row.cells[2]\n",
    "cell\n",
    "   "
   ]
  },
  {
   "cell_type": "code",
   "execution_count": null,
   "metadata": {},
   "outputs": [],
   "source": [
    "document = Document(r\"C:\\Users\\timko\\Downloads\\IG25.docx\")\n",
    "cnt = 1\n",
    "fmt = \", (@PK_FormPage+1, @PK_Form,'title', 'FismaForms/2024/2024_A_IG_0.aspx', 1)\"\n",
    "# fmt = \", (@PK_QGroup+1,'group','group: title',@PK_Form, @PK_FormPage+1, 1)\"\n",
    "for paragraph in document.paragraphs:\n",
    "    match = re.match('Table \\d{1,2}:(.*)',paragraph.text)\n",
    "    if(match):\n",
    "        title=match.groups(0)[0].strip()\n",
    "        txt = fmt.replace('title',title)\n",
    "        txt = txt.replace('1',str(cnt))\n",
    "        txt = txt.replace('0',str(cnt))\n",
    "        print(txt)\n",
    "        cnt+=1\n",
    " "
   ]
  },
  {
   "cell_type": "code",
   "execution_count": null,
   "metadata": {},
   "outputs": [],
   "source": [
    "sections =  ['5', '7', '14', '17', '21', '24', '26', '30', '33']"
   ]
  },
  {
   "cell_type": "code",
   "execution_count": null,
   "metadata": {},
   "outputs": [],
   "source": [
    "tables = document.tables \n",
    "row=document.tables[4].rows[1]\n",
    "cols=[cell.text for cell in row.cells] "
   ]
  },
  {
   "cell_type": "code",
   "execution_count": null,
   "metadata": {},
   "outputs": [],
   "source": [
    "tbl = []\n",
    "for i in range(len(document.tables)):\n",
    "    for r in range(2, len(document.tables[i].rows)):\n",
    "        row = document.tables[i].rows[r]\n",
    "        match=re.match('\\d{1,2}', row.cells[0].text)\n",
    "        if match:\n",
    "            text = [cell.text for cell in row.cells]\n",
    "            tbl.append(text[:9]) \n",
    "tbl[:2]"
   ]
  },
  {
   "cell_type": "code",
   "execution_count": null,
   "metadata": {},
   "outputs": [],
   "source": []
  },
  {
   "cell_type": "code",
   "execution_count": null,
   "metadata": {},
   "outputs": [],
   "source": [
    "df = pd.DataFrame(  data=tbl, columns=cols ) \n",
    "df['{group}'] = 0 \n",
    "df['{sortpos}'] = df.index+1  \n",
    "df = df.replace('’', '`', regex=True)\n",
    "df = df.replace(\"'\", '`', regex=True) \n",
    "df = df.replace('\\n', '<br>', regex=True)\n",
    "df['{idt}'] = df['Question'].apply(lambda s: re.match('(\\d{1,3}.?\\d?).+', s).groups(0)[0])\n",
    "df['{QuestionText}'] = df['Question']\n",
    "df  = df.drop(columns=['Review\\nCycle', 'Question'], axis=1 )\n",
    "\n",
    "df['{PK_Question}'] = 72400\n",
    "df['{help}'] = '<h5>Maturity Level Definitions</h5><hr><h6>Ad Hoc</h6>'+ df['Ad Hoc'] + '<h6>Defined</h6>'+ df['Defined'] + '<h6>Consistently Implemented</h6>'+ df['Consistently Implemented'] + '<h6>Managed and Measurable</h6>'+ df['Managed and Measurable'] + '<h6>Optimized</h6>'+ df['Optimized'] +'<hr>'+ df['Supplemental Guidance'] +'<hr>'+ df['Criteria']     \n",
    " \n",
    "pk = 72400\n",
    "sec = 1\n",
    "spos = 1\n",
    "for i,r in df.iterrows():\n",
    "    if r['{idt}'].replace('.','') in sections:\n",
    "        sec+=1\n",
    "        pk+=5\n",
    "        spos+=2\n",
    "    df.at[i, '{sortpos}'] = spos + i\n",
    "    df.at[i, '{group}'] = sec\n",
    "    df.at[i, '{PK_Question}'] = pk + i\n",
    " \n",
    "    if 'positive or negative' in df.at[i, '{QuestionText}'] :\n",
    "        df.at[i, '{help}'] = ''\n",
    "    if 'Effective/Not Effective' in df.at[i, '{QuestionText}'] :\n",
    "        df.at[i, '{help}'] = ''\n",
    "\n",
    "        \n",
    "dff = df.iloc[:, 7:13] \n",
    "\n",
    "dff.to_csv(ctx.get_dest()+'script.csv', index=False)\n",
    "dff.to_html(ctx.get_dest()+'script.html', index=False)\n",
    "dff = df.iloc[:, 7:13] \n",
    "dff['ins']=\"INSERT INTO fsma_Questions (PK_Question, FormName, FK_QuestionGroup,sortpos,FK_PickListType, FK_QuestionType,identifier_text,ExternalLinkType, QuestionText, help_text) VALUES \t\"\n",
    "dff[:3]\n",
    "\n"
   ]
  },
  {
   "cell_type": "code",
   "execution_count": null,
   "metadata": {},
   "outputs": [],
   "source": [
    "gen=script_generator(ctx)\n",
    "sql = \" ({PK_Question},@FormName, @PK_QGroup+{group},{sortpos},85,17,N'{idt}',NULL,N'{QuestionText}',N'{help}')\"\n",
    "lst = [] \n",
    "for i,r in dff.iterrows():\n",
    "    code=gen.generate(dff.iloc[i:i+1], code_template_path=f'{ctx.get_tempalte_dir()}ig.sql')\n",
    "    code=code.replace('\\n','')\n",
    "    code=code.replace(\".',\", \"',\") \n",
    "\n",
    "    if 'Effective/' in code:\n",
    "        code=code.replace(',85',',528') \n",
    "        \n",
    "    if 'additional information' in code:\n",
    "        code=code.replace(',17',',9')\n",
    "        code=code.replace('85,','NULL,')\n",
    "        \n",
    "    if str(r['{idt}']).replace('.','') in sections or r['{idt}']=='1.':\n",
    "        print('\\n' + r['ins'])\n",
    "        print( code.replace(', (', '  ('))\n",
    "    else: \n",
    "        print( code)\n",
    " \n",
    " "
   ]
  },
  {
   "cell_type": "code",
   "execution_count": null,
   "metadata": {},
   "outputs": [],
   "source": []
  },
  {
   "cell_type": "code",
   "execution_count": null,
   "metadata": {},
   "outputs": [],
   "source": []
  },
  {
   "cell_type": "code",
   "execution_count": null,
   "metadata": {},
   "outputs": [],
   "source": [
    "gen=script_generator(ctx)\n",
    "code=gen.generate(dff, code_template_path=f'{ctx.get_tempalte_dir()}ig.sql')  \n"
   ]
  },
  {
   "cell_type": "code",
   "execution_count": null,
   "metadata": {},
   "outputs": [],
   "source": [
    "with open(ctx.get_dest()+'script.sql', 'w', encoding='UTF-8') as f: \n",
    "    f.write( f'\\n{code}' ) "
   ]
  },
  {
   "cell_type": "code",
   "execution_count": null,
   "metadata": {},
   "outputs": [],
   "source": [
    "with open(r'C:\\dev\\CyberScope\\CyberScopeBranch\\CSwebdev\\database\\_5_DBUpdate7.53_IG.sql', 'r', encoding='UTF-8') as f: \n",
    "    sql=f.read() \n",
    "m=re.search('--PARSEBEGIN(.*)--PARSEEND',sql, flags=re.DOTALL)\n",
    "sql=sql.replace(m.group(1),code)\n",
    "with open(ctx.get_dest()+'script.sql', 'w', encoding='UTF-8') as f: \n",
    "    f.write( f'\\n{sql}' ) \n",
    "\n",
    "#with open(r'C:\\dev\\CyberScope\\CyberScopeBranch\\CSwebdev\\database\\_5_DBUpdate7.53_IG.sql', 'w', encoding='UTF-8') as f: \n",
    "#    f.write() "
   ]
  }
 ],
 "metadata": {
  "kernelspec": {
   "display_name": "base",
   "language": "python",
   "name": "python3"
  },
  "language_info": {
   "codemirror_mode": {
    "name": "ipython",
    "version": 3
   },
   "file_extension": ".py",
   "mimetype": "text/x-python",
   "name": "python",
   "nbconvert_exporter": "python",
   "pygments_lexer": "ipython3",
   "version": "3.8.5"
  },
  "orig_nbformat": 4
 },
 "nbformat": 4,
 "nbformat_minor": 2
}
