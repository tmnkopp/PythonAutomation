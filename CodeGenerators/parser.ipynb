{
 "cells": [
  {
   "cell_type": "code",
   "execution_count": null,
   "metadata": {},
   "outputs": [],
   "source": [
    "import pandas as pd\n",
    "import numpy as np  \n",
    "import re, json, logging , tabula \n",
    "from lib.config import connstr\n",
    "from lib.context import context\n",
    "from lib.utils import *  \n",
    "from lib.issue_provider import issue_provider \n",
    "from lib.script_generator import script_generator \n",
    "ctx=context() \n",
    "ctx.logger.setLevel(logging.DEBUG)\n",
    "config = {}\n",
    "with open('config.json', 'r') as f: \n",
    "    config=json.loads(f.read())    \n",
    "ctx.config=config \n",
    "import warnings\n",
    "warnings.filterwarnings('ignore') "
   ]
  },
  {
   "cell_type": "code",
   "execution_count": null,
   "metadata": {},
   "outputs": [],
   "source": [
    "def formatqt(s):\n",
    "    s=s.replace('•','') \n",
    "    s=s.replace('','<br>')\n",
    "    s=re.sub('[\\n|\\r]','',s) \n",
    "    return s  \n",
    "l=formatqt(\"\"\" \"\"\") \n",
    "insert='\\nINSERT INTO fsma_Questions (PK_Question, FormName, FK_QuestionGroup,sortpos,FK_PickListType, FK_QuestionType,identifier_text,ExternalLinkType, QuestionText, help_text) VALUES \t\\n'"
   ]
  },
  {
   "cell_type": "code",
   "execution_count": null,
   "metadata": {},
   "outputs": [],
   "source": [
    "file=f'{ctx.get_down_dir()}ig.xlsx' \n",
    "converts={'Question':lambda x: re.sub('\\n','',x) }\n",
    "dff=pd.read_excel(file, converters=converts, sheet_name=int(0), header=0, usecols='A,P,Q,X,U,AC,AD,AI,AK,AQ,AP,AR' ) "
   ]
  },
  {
   "cell_type": "code",
   "execution_count": null,
   "metadata": {},
   "outputs": [],
   "source": [
    "df=dff \n",
    "df = df[df[\"Question\"].str.contains(\"Question\") == False]\n",
    "df[\"{QuestionText}\"]=df[\"Question\"]\n",
    " \n",
    "df=df.fillna('').astype(str) \n",
    " \n",
    "df['ht']=df['Unnamed: 15']+df['Maturity Level'] \n",
    "df['ht'].fillna('', inplace=True)\n",
    "df['{helptext}']=df['ht'].apply(lambda s: f'<li> <strong>Ad Hoc:</strong>{s}</li>') \n",
    "df.drop(columns=['Unnamed: 15','Maturity Level'], inplace=True) \n",
    "\n",
    "df['ht']=df['Unnamed: 20']+df['Unnamed: 23'] \n",
    "df['ht'].fillna('', inplace=True)\n",
    "df['{helptext}']=df['{helptext}']+df['ht'].apply(lambda s: f'<li> <strong>Defined:</strong>{s}</li>')\n",
    "df.drop(columns=['Unnamed: 20','Unnamed: 23'], inplace=True)\n",
    "\n",
    "df['ht']=df['Unnamed: 28']+df['Unnamed: 29'] \n",
    "df['ht'].fillna('', inplace=True)\n",
    "df['{helptext}']=df['{helptext}']+df['ht'].apply(lambda s: f'<li> <strong>Consistently Implemented:</strong>{s}</li>')\n",
    "df.drop(columns=['Unnamed: 28','Unnamed: 29'], inplace=True)\n",
    "\n",
    "df['ht']=df['Unnamed: 34']+df['Unnamed: 36'] \n",
    "df['ht'].fillna('', inplace=True)\n",
    "df['{helptext}']=df['{helptext}']+df['ht'].apply(lambda s: f'<li> <strong>Managed and Measurable:</strong>{s}</li>')\n",
    "df.drop(columns=['Unnamed: 34','Unnamed: 36'], inplace=True)\n",
    "\n",
    "df['ht']=df['Unnamed: 41']+df['Unnamed: 42']+df['Unnamed: 43'] \n",
    "df['ht'].fillna('', inplace=True)\n",
    "df['{helptext}']=df['{helptext}']+df['ht'].apply(lambda s: f'<li> <strong>Optimized:</strong>{s}</li>')\n",
    "df.drop(columns=['Unnamed: 41','Unnamed: 42','Unnamed: 43'], inplace=True)\n",
    " \n",
    "df.drop(columns=['ht', 'Question'], inplace=True)\n",
    "\n",
    "df['{helptext}']=df['{helptext}'].apply(lambda s: f'<br/><br/><h6><b>Maturity Level:</b></h6><ul>{s}</ul>' if len(s) > 210 else '' )\n",
    "\n",
    "df['{helptext}']=df['{helptext}'].apply(formatqt)\n",
    "df['{QuestionText}']=df['{QuestionText}'].apply(formatqt)\n",
    "df['{idt}']=df['{QuestionText}'].apply(lambda s: re.findall('(\\d{1,2}.\\d?\\s{1,4})',s)[0].rstrip(\" \").rstrip(\".\") )\n",
    "df['{FK_PickListType}']='85' \n",
    "df['{FK_QuestionType}']=df['{QuestionText}'].apply(lambda s: '9' if \"additional information\" in s  else '17')\n",
    "\n",
    "df['{QuestionText}']=df['{QuestionText}'].apply(lambda s: re.sub('\\'','`',s) )\n",
    "df['{helptext}']=df['{helptext}'].apply(lambda s: re.sub('\\'','`',s) )\n",
    "s=2\n",
    "sort=0\n",
    "pk=53009\n",
    "for i,r, in df.iterrows():\n",
    "    if re.search('Table \\d{1,2}',r['{QuestionText}']):\n",
    "        s=s+1\n",
    "        sort=0\n",
    "        pk=pk+10 \n",
    "    else:\n",
    "        if sort > 0:\n",
    "            df.loc[i, '{pre}']=str(',')\n",
    "        else:\n",
    "            df.loc[i, '{pre}']=str(insert)\n",
    "        sort=sort+1\n",
    "        pk=pk+1\n",
    "        df.loc[i, '{FK_QuestionGroup}']=f'@PK_QGroup+{s}'\n",
    "        df.loc[i, '{sortpos}']=str(sort)\n",
    "        df.loc[i, '{PK_Question}']=str(pk) \n",
    "df = df[df[\"{QuestionText}\"].str.contains(\"Table \") == False]\n",
    "df['{QuestionText}']=df['{QuestionText}'].apply(lambda s: re.sub('\\d{1,2}.\\d?\\s{1,4}','',s).strip(\" \") ) \n",
    "df[0:20] \n"
   ]
  },
  {
   "cell_type": "code",
   "execution_count": null,
   "metadata": {},
   "outputs": [],
   "source": [
    "gen=script_generator(ctx)\n",
    "code=gen.generate(df, code_template_path=f'{ctx.get_tempalte_dir()}aspx\\\\fsma_QuestionsInsert.sql') \n",
    "print(code ) "
   ]
  },
  {
   "cell_type": "code",
   "execution_count": null,
   "metadata": {},
   "outputs": [],
   "source": [
    "with open(ctx.get_dest()+'script.sql', 'w', encoding='UTF-8') as f: \n",
    "    f.write( f'\\n{code}' ) "
   ]
  },
  {
   "cell_type": "code",
   "execution_count": null,
   "metadata": {},
   "outputs": [],
   "source": [
    "with open(r'C:\\dev\\CyberScope\\CyberScopeBranch\\CSwebdev\\database\\_5_DBUpdate7.53_IG.sql', 'r', encoding='UTF-8') as f: \n",
    "    sql=f.read() \n",
    "m=re.search('--PARSEBEGIN(.*)--PARSEEND',sql, flags=re.DOTALL)\n",
    "sql=sql.replace(m.group(1),code)\n",
    "with open(ctx.get_dest()+'script.sql', 'w', encoding='UTF-8') as f: \n",
    "    f.write( f'\\n{sql}' ) \n",
    "\n",
    "#with open(r'C:\\dev\\CyberScope\\CyberScopeBranch\\CSwebdev\\database\\_5_DBUpdate7.53_IG.sql', 'w', encoding='UTF-8') as f: \n",
    "#    f.write() \n"
   ]
  }
 ],
 "metadata": {
  "kernelspec": {
   "display_name": "base",
   "language": "python",
   "name": "python3"
  },
  "language_info": {
   "codemirror_mode": {
    "name": "ipython",
    "version": 3
   },
   "file_extension": ".py",
   "mimetype": "text/x-python",
   "name": "python",
   "nbconvert_exporter": "python",
   "pygments_lexer": "ipython3",
   "version": "3.8.5"
  },
  "orig_nbformat": 4
 },
 "nbformat": 4,
 "nbformat_minor": 2
}
