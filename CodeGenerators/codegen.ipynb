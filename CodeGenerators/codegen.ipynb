{
 "cells": [
  {
   "cell_type": "code",
   "execution_count": 1,
   "metadata": {},
   "outputs": [],
   "source": [
    "import pandas as pd\n",
    "import numpy as np\n",
    "import re  \n",
    "from lib.config import csconnstr\n",
    "from lib.utils import * \n",
    "from lib.picklist_recommender import picklist_recommender\n"
   ]
  },
  {
   "cell_type": "code",
   "execution_count": 2,
   "metadata": {},
   "outputs": [
    {
     "name": "stdout",
     "output_type": "stream",
     "text": [
      "{'PK_PicklistType': 0, 'UsageField': 0, 'DisplayValue': 'CYBER SECURITY SUPPORTFINANCIAL INFORMATION SUPPORTMEDICAL HEALTH CARE SUPPORTDATA STORAGE AND MANAGEMENTLEGAL SERVICESLAW ENFORCEMENT SERVICESVETERAN SUPPORT SERVICESIMMIGRATION SERVICESDATA ACCESS AND SHARINGNASA AND SPACE SERVICESACCESS CONTROLVISITOR MANAGEMENTVIDEO SURVEILLANCEPII DATA CONTROLCOMMUNICATIONEMERGENCY DISPATCHIT SUPPORT SERVICEDATA CENTER WAREHOUSEEMERGENCY ALERTSREAL TIME DATA ACCESSPHYSICAL SECURITYWEATHER DISPLAY AND ALERTSPAYROLL RELATED SERVICESWEB BASED MONITORINGPROVIDES INFRASTRUCTURE SERVICESOTHER FREE TEXT', 'PK_Picklist': 4185, 'MAX_PK_Picklist': 10172, 'MAX_PK_PicklistType': 387, 'agg_simscore': 0.3178082191780822, 'sequence_match_score': 0.3178082191780822}\n",
      "(PK_PickList=10182, PK_PicklistType=389, SortOrder=1, UsageCode='CYBER_SECUR_SUP', DisplayValue='Cyber Security Support')\n",
      ",(PK_PickList=10183, PK_PicklistType=389, SortOrder=2, UsageCode='FINANCI_INPPORT', DisplayValue='Financial Information Support')\n",
      ",(PK_PickList=10184, PK_PicklistType=389, SortOrder=3, UsageCode='MEDICAL_HEPPORT', DisplayValue='Medical/health care Support')\n",
      ",(PK_PickList=10185, PK_PicklistType=389, SortOrder=4, UsageCode='DATA_STORAG_MAN', DisplayValue='Data storage and management')\n",
      ",(PK_PickList=10186, PK_PicklistType=389, SortOrder=5, UsageCode='LEGAL_SERVIC', DisplayValue='Legal Services')\n",
      ",(PK_PickList=10187, PK_PicklistType=389, SortOrder=6, UsageCode='LAW_ENFORC_SERV', DisplayValue='Law enforcement services')\n",
      ",(PK_PickList=10188, PK_PicklistType=389, SortOrder=7, UsageCode='VETERAN_SUERVIC', DisplayValue='Veteran support services')\n",
      ",(PK_PickList=10189, PK_PicklistType=389, SortOrder=8, UsageCode='IMMIGR_SERVIC', DisplayValue='Immigration services')\n",
      ",(PK_PickList=10190, PK_PicklistType=389, SortOrder=9, UsageCode='DATA_ACCESS_SHA', DisplayValue='Data Access and Sharing')\n",
      ",(PK_PickList=10191, PK_PicklistType=389, SortOrder=10, UsageCode='NASA_SPACE_SERV', DisplayValue='NASA and space services')\n",
      ",(PK_PickList=10192, PK_PicklistType=389, SortOrder=11, UsageCode='ACCESS_CONTROL', DisplayValue='Access control')\n",
      ",(PK_PickList=10193, PK_PicklistType=389, SortOrder=12, UsageCode='VISITOR_MANAG', DisplayValue='Visitor management')\n",
      ",(PK_PickList=10194, PK_PicklistType=389, SortOrder=13, UsageCode='VIDEO_SURVEIL', DisplayValue='Video surveillance')\n",
      ",(PK_PickList=10195, PK_PicklistType=389, SortOrder=14, UsageCode='PII_DATA_CONTRO', DisplayValue='PII data control')\n",
      ",(PK_PickList=10196, PK_PicklistType=389, SortOrder=15, UsageCode='COMMUN', DisplayValue='Communication')\n",
      ",(PK_PickList=10197, PK_PicklistType=389, SortOrder=16, UsageCode='EMERG_DISPATCH', DisplayValue='Emergency dispatch')\n",
      ",(PK_PickList=10198, PK_PicklistType=389, SortOrder=17, UsageCode='IT_SUPPORT_SERV', DisplayValue='IT Support service')\n",
      ",(PK_PickList=10199, PK_PicklistType=389, SortOrder=18, UsageCode='DATA_CENTER_WAR', DisplayValue='Data center/warehouse')\n",
      ",(PK_PickList=10200, PK_PicklistType=389, SortOrder=19, UsageCode='EMERG_ALERT', DisplayValue='Emergency Alerts')\n",
      ",(PK_PickList=10201, PK_PicklistType=389, SortOrder=20, UsageCode='REAL_TIME_CCESS', DisplayValue='Real Time data access')\n",
      ",(PK_PickList=10202, PK_PicklistType=389, SortOrder=21, UsageCode='PHYSIC_SECUR', DisplayValue='Physical Security')\n",
      ",(PK_PickList=10203, PK_PicklistType=389, SortOrder=22, UsageCode='WEATHER_DIALERT', DisplayValue='Weather Display and alerts')\n",
      ",(PK_PickList=10204, PK_PicklistType=389, SortOrder=23, UsageCode='PAYROL_RELAT_SE', DisplayValue='Payroll related Services')\n",
      ",(PK_PickList=10205, PK_PicklistType=389, SortOrder=24, UsageCode='WEB_BASE_MONITO', DisplayValue='Web Based Monitoring')\n",
      ",(PK_PickList=10206, PK_PicklistType=389, SortOrder=25, UsageCode='PROVID_INFERVIC', DisplayValue='Provides infrastructure services')\n",
      ",(PK_PickList=10207, PK_PicklistType=389, SortOrder=26, UsageCode='OTHER_FREE_TEXT', DisplayValue='Other [Free Text]')\n",
      "\n"
     ]
    }
   ],
   "source": [
    "input=\"\"\"\n",
    "Cyber Security Support\n",
    "Financial Information Support\n",
    "Medical/health care Support\n",
    "Data storage and management\n",
    "Legal Services\n",
    "Law enforcement services\n",
    "Veteran support services\n",
    "Immigration services\n",
    "Data Access and Sharing\n",
    "NASA and space services\n",
    "Access control\n",
    "Visitor management\n",
    "Video surveillance\n",
    "PII data control\n",
    "Communication\n",
    "Emergency dispatch\n",
    "IT Support service\n",
    "Data center/warehouse\n",
    "Emergency Alerts\n",
    "Real Time data access\n",
    "Physical Security\n",
    "Weather Display and alerts\n",
    "Payroll related Services\n",
    "Web Based Monitoring\n",
    "Provides infrastructure services\n",
    "Other [Free Text]\n",
    "\n",
    "\"\"\".split('\\n')\n",
    "\n",
    "pr = picklist_recommender(csconnstr)\n",
    "r=pr.recommend(input, threshhold=.8, usecosine_sim=False) \n",
    "print(r)\n",
    "print(pr.get_script())"
   ]
  },
  {
   "cell_type": "code",
   "execution_count": null,
   "metadata": {},
   "outputs": [],
   "source": []
  },
  {
   "cell_type": "code",
   "execution_count": 16,
   "metadata": {},
   "outputs": [
    {
     "data": {
      "text/plain": [
       "PK_Picklist        10172\n",
       "PK_PicklistType      387\n",
       "Name: 3069, dtype: object"
      ]
     },
     "execution_count": 16,
     "metadata": {},
     "output_type": "execute_result"
    }
   ],
   "source": [
    "df = sql_todf(\"\"\"\n",
    "SELECT PK_Picklist, PK_PicklistType, UsageField, DisplayValue from vwPicklists\n",
    "\"\"\", csconnstr)  \n",
    "df=df.loc[len(df)-1, ['PK_Picklist','PK_PicklistType']]\n",
    "df"
   ]
  },
  {
   "cell_type": "code",
   "execution_count": 4,
   "metadata": {},
   "outputs": [],
   "source": [
    "def tokenize(s): \n",
    "    s = [v for v in s]  \n",
    "    s = re.sub('[^A-Za-z0-9\\s]','', ' '.join(s)).split() \n",
    "    return s"
   ]
  },
  {
   "cell_type": "code",
   "execution_count": 85,
   "metadata": {},
   "outputs": [
    {
     "data": {
      "text/plain": [
       "'AASDF ASDF QWER QWER QWERQWER'"
      ]
     },
     "execution_count": 85,
     "metadata": {},
     "output_type": "execute_result"
    }
   ],
   "source": [
    "def normalize(s):  \n",
    "    s = re.sub('[^A-Za-z0-9\\s]',' ',s).upper().strip()\n",
    "    s = re.sub('\\s{1,5}',' ',s) \n",
    "    return s\n",
    "normalize('   aASDF    ASDF   QWER QWER    QWERQWER')"
   ]
  },
  {
   "cell_type": "code",
   "execution_count": 47,
   "metadata": {},
   "outputs": [],
   "source": [
    "def jaccard_similarity(x,y): \n",
    "  intersection_cardinality = len(set.intersection(*[set(x), set(y)]))\n",
    "  union_cardinality = len(set.union(*[set(x), set(y)]))\n",
    "  return intersection_cardinality/float(union_cardinality)"
   ]
  },
  {
   "cell_type": "code",
   "execution_count": 145,
   "metadata": {},
   "outputs": [
    {
     "name": "stdout",
     "output_type": "stream",
     "text": [
      "294\n",
      "NOT APPLICABLE ACQUIA ADOBE AT T AKAMAI AMAZON BLACKBERRY BOX CGI CISCO SYSTEMS EVERBRIDGE GOOGLE GRANICUS IBM LUMEN TECHNOLOGIES MICROSOFT MICROPACT ORACLE SAP SERVICENOW SPRINT VERIZON OTHER SALESFORCE\n"
     ]
    }
   ],
   "source": [
    "\n",
    "for i,r in df[167:168].iterrows():\n",
    "    print(r['PK_PicklistType']) \n",
    "    x=normalize(r['DisplayValue'])\n",
    "    print(x) \n"
   ]
  },
  {
   "cell_type": "code",
   "execution_count": 188,
   "metadata": {},
   "outputs": [
    {
     "ename": "NameError",
     "evalue": "name 'picklist_recommender' is not defined",
     "output_type": "error",
     "traceback": [
      "\u001b[1;31m---------------------------------------------------------------------------\u001b[0m",
      "\u001b[1;31mNameError\u001b[0m                                 Traceback (most recent call last)",
      "\u001b[1;32m<ipython-input-188-66b058e30e55>\u001b[0m in \u001b[0;36m<module>\u001b[1;34m\u001b[0m\n\u001b[0;32m     11\u001b[0m \"\"\".split('\\n')\n\u001b[0;32m     12\u001b[0m \u001b[1;33m\u001b[0m\u001b[0m\n\u001b[1;32m---> 13\u001b[1;33m \u001b[0mpr\u001b[0m \u001b[1;33m=\u001b[0m \u001b[0mpicklist_recommender\u001b[0m\u001b[1;33m(\u001b[0m\u001b[0mcsconnstr\u001b[0m\u001b[1;33m)\u001b[0m\u001b[1;33m\u001b[0m\u001b[1;33m\u001b[0m\u001b[0m\n\u001b[0m\u001b[0;32m     14\u001b[0m \u001b[0mpr\u001b[0m\u001b[1;33m.\u001b[0m\u001b[0mrecommend\u001b[0m\u001b[1;33m(\u001b[0m\u001b[0minput\u001b[0m\u001b[1;33m)\u001b[0m\u001b[1;33m\u001b[0m\u001b[1;33m\u001b[0m\u001b[0m\n",
      "\u001b[1;31mNameError\u001b[0m: name 'picklist_recommender' is not defined"
     ]
    }
   ],
   "source": []
  },
  {
   "cell_type": "code",
   "execution_count": 187,
   "metadata": {},
   "outputs": [
    {
     "data": {
      "text/plain": [
       "{'PK_PicklistType': 101,\n",
       " 'UsageField': 'SAOP2',\n",
       " 'DisplayValue': 'Policy making Compliance Risk management activities',\n",
       " 'sequence_match': 0.1276595744680851,\n",
       " 'cosine_sim': 0.0}"
      ]
     },
     "execution_count": 187,
     "metadata": {},
     "output_type": "execute_result"
    }
   ],
   "source": [
    "def recommend_picklist(input_list, threshhold=.8, usecosine_sim=False):\n",
    "    df = sql_todf(\"SELECT PK_PicklistType, UsageField, DisplayValue from vwPicklists  \", csconnstr)  \n",
    "    df = df.groupby(['PK_PicklistType','UsageField'], as_index = False).agg({'DisplayValue': ' '.join})       \n",
    "    input=normalize(''.join(input_list))\n",
    "    for i,r in df.iterrows(): \n",
    "        x=normalize(r['DisplayValue'])\n",
    "        sequence_match = SequenceMatcher(None, x,input).ratio() \n",
    "        df.at[i,'sequence_match']= sequence_match   \n",
    "        df.at[i,'cosine_sim'] = 0\n",
    "        if df.at[i,'sequence_match'] > threshhold: \n",
    "            return df.iloc[i].to_dict()    \n",
    "        if usecosine_sim:        \n",
    "            vectorizer = TfidfVectorizer()\n",
    "            X = vectorizer.fit_transform([x,input])  \n",
    "            cosine_sim = cosine_similarity(X, X)  \n",
    "            df.at[i,'cosine_sim']= cosine_sim[0][1]  \n",
    "            if df.at[i,'cosine_sim'] > threshhold:\n",
    "                return df.iloc[i].to_dict()\n",
    "    df=df.sort_values(by=['cosine_sim', 'sequence_match'], ascending=[False,False], inplace=False)\n",
    "    d=df.iloc[0].to_dict()    \n",
    "    return d\n",
    "\n",
    "input=\"\"\"\n",
    "1. Security Operations Center (SOC) as a Service such as Asset Management\n",
    "2. Awareness and Training\n",
    "3. Detection Processes\n",
    "4. Governance: Information Protection Processes and Procedures;\n",
    "5. Protective Technology\n",
    "6. Risk Assessment\n",
    "7. Security Continuous Monitoring\n",
    "8. Supply Chain Risk Management\n",
    "\n",
    "\"\"\".split('\\n') \n",
    "recommend_picklist(input)"
   ]
  },
  {
   "cell_type": "code",
   "execution_count": 48,
   "metadata": {},
   "outputs": [
    {
     "data": {
      "text/plain": [
       "['LEGACY CODEBASE COBOL MUMPS',\n",
       " 'LACK OF OR POOR DOCUMENTATION',\n",
       " 'LEGACY INFRASTRUCTURE',\n",
       " 'AD HOC INFRASTRUCTURE',\n",
       " 'HARDWARE OR SOFTWARE WITH NO VENDOR MANUFACTURER SUPPORT',\n",
       " 'OUTDATED OR INACCURATE INVENTORY',\n",
       " 'TECHNOLOGY TYPE',\n",
       " 'SYSTEM LAST MODERNIZED',\n",
       " 'LIMITED FUNCTIONALITY',\n",
       " 'OTHER']"
      ]
     },
     "execution_count": 48,
     "metadata": {},
     "output_type": "execute_result"
    }
   ],
   "source": [
    "l=df.to_dict('records')\n",
    "for d in l[:5]:\n",
    "    print(d)\n",
    "x = normalize(df['DisplayValue'].values)\n",
    "x"
   ]
  },
  {
   "cell_type": "code",
   "execution_count": 49,
   "metadata": {},
   "outputs": [
    {
     "data": {
      "text/plain": [
       "['LEGACY CODEBASE COBOL MUMPS',\n",
       " 'LACK OF OR POOR DOCUMENTATION',\n",
       " 'LEGACY INFRASTRUCTURE',\n",
       " 'AD HOC INFRASTRUCTURE',\n",
       " 'HARDWARE OR SOFTWARE WITH NO VENDOR MANUFACTURER SUPPORT',\n",
       " 'OUTDATED OR INACCURATE INVENTORY',\n",
       " 'LIMITED FUNCTIONALITY',\n",
       " 'OTHER',\n",
       " '']"
      ]
     },
     "execution_count": 49,
     "metadata": {},
     "output_type": "execute_result"
    }
   ],
   "source": [
    "y=\"\"\"Legacy codebase (COBOL MUMPS)\n",
    "Lack of or poor documentation\n",
    "Legacy infrastructure\n",
    "Ad-hoc infrastructure \n",
    "Hardware or software with no vendor/manufacturer support\n",
    "Outdated or inaccurate inventory\n",
    "Limited Functionality\n",
    "other\n",
    "\"\"\".split('\\n')\n",
    "y= normalize(y)\n",
    "y\n"
   ]
  },
  {
   "cell_type": "code",
   "execution_count": 50,
   "metadata": {},
   "outputs": [
    {
     "name": "stdout",
     "output_type": "stream",
     "text": [
      "0.8421052631578947\n",
      "0.7272727272727273\n"
     ]
    }
   ],
   "source": []
  },
  {
   "cell_type": "code",
   "execution_count": null,
   "metadata": {},
   "outputs": [],
   "source": []
  },
  {
   "cell_type": "code",
   "execution_count": null,
   "metadata": {},
   "outputs": [],
   "source": []
  },
  {
   "cell_type": "code",
   "execution_count": 73,
   "metadata": {},
   "outputs": [],
   "source": []
  },
  {
   "cell_type": "code",
   "execution_count": 74,
   "metadata": {},
   "outputs": [
    {
     "name": "stdout",
     "output_type": "stream",
     "text": [
      "[[1.         0.84904082]\n",
      " [0.84904082 1.        ]]\n"
     ]
    }
   ],
   "source": []
  },
  {
   "cell_type": "code",
   "execution_count": null,
   "metadata": {},
   "outputs": [],
   "source": [
    "threshold = .1\n",
    "for x in range(0,X.shape[0]):\n",
    "  for y in range(x,X.shape[0]):\n",
    "    if(x!=y):\n",
    "      if(cosine_similarity(X[x],X[y])>threshold):\n",
    "        print(df[\"ID\"][x],\":\",corpus[x])\n",
    "        print(df[\"ID\"][y],\":\",corpus[y])\n",
    "        print(\"Cosine similarity:\",cosine_similarity(X[x],X[y]))\n",
    "        print()"
   ]
  },
  {
   "cell_type": "code",
   "execution_count": 51,
   "metadata": {},
   "outputs": [
    {
     "data": {
      "text/plain": [
       "<10x30 sparse matrix of type '<class 'numpy.float64'>'\n",
       "\twith 34 stored elements in Compressed Sparse Row format>"
      ]
     },
     "execution_count": 51,
     "metadata": {},
     "output_type": "execute_result"
    }
   ],
   "source": [
    "corpus = x \n",
    "vectorizer = TfidfVectorizer()\n",
    "X = vectorizer.fit_transform(corpus)\n",
    "df_idf = pd.DataFrame(vectorizer.idf_, index=cv.get_feature_names(),columns=[\"idf_weights\"])"
   ]
  },
  {
   "cell_type": "code",
   "execution_count": 75,
   "metadata": {},
   "outputs": [],
   "source": []
  },
  {
   "cell_type": "code",
   "execution_count": 63,
   "metadata": {},
   "outputs": [
    {
     "name": "stdout",
     "output_type": "stream",
     "text": [
      "10 : Cancel ASN WMS Cancel ASN\n",
      "13 : Cancel ASN WMS Cancel ASN\n",
      "Cosine similarity: [[1.]]\n",
      "\n",
      "11 : MAXPREDO Validation is corect\n",
      "14 : MAXPREDO Validation is right\n",
      "Cosine similarity: [[0.64183024]]\n",
      "\n",
      "12 : Move to QC\n",
      "17 : Move to QC\n",
      "Cosine similarity: [[1.]]\n",
      "\n",
      "15 : Verify files are sent every hours for this interface from Optima\n",
      "18 : Verify files are not sent\n",
      "Cosine similarity: [[0.44897995]]\n",
      "\n"
     ]
    }
   ],
   "source": [
    "df = pd.DataFrame(columns=[\"ID\",\"DESCRIPTION\"], data=np.matrix([[10,\"Cancel ASN WMS Cancel ASN\"],\n",
    "                                                                [11,\"MAXPREDO Validation is corect\"],\n",
    "                                                                [12,\"Move to QC\"],\n",
    "                                                                [13,\"Cancel ASN WMS Cancel ASN\"],\n",
    "                                                                [14,\"MAXPREDO Validation is right\"],\n",
    "                                                                [15,\"Verify files are sent every hours for this interface from Optima\"],\n",
    "                                                                [16,\"MAXPREDO Validation are correct\"],\n",
    "                                                                [17,\"Move to QC\"],\n",
    "                                                                [18,\"Verify files are not sent\"]\n",
    "                                                                ]))\n",
    "\n",
    "corpus = list(df[\"DESCRIPTION\"].values)\n",
    "\n",
    "vectorizer = TfidfVectorizer()\n",
    "X = vectorizer.fit_transform(corpus)\n",
    "\n",
    "threshold = 0.4\n",
    "\n",
    "for x in range(0,X.shape[0]):\n",
    "  for y in range(x,X.shape[0]):\n",
    "    if(x!=y):\n",
    "      if(cosine_similarity(X[x],X[y])>threshold):\n",
    "        print(df[\"ID\"][x],\":\",corpus[x])\n",
    "        print(df[\"ID\"][y],\":\",corpus[y])\n",
    "        print(\"Cosine similarity:\",cosine_similarity(X[x],X[y]))\n",
    "        print()"
   ]
  },
  {
   "cell_type": "code",
   "execution_count": 28,
   "metadata": {},
   "outputs": [],
   "source": [
    "\n",
    "def sql_todf(query,connstr):\n",
    "    df=pd.DataFrame() \n",
    "    engine = create_engine(connstr) \n",
    "    conn = engine.connect() \n",
    "    #try: \n",
    "    df = pd.read_sql(query,con=conn) \n",
    "    #finally: \n",
    "    conn.close()\n",
    "    return df"
   ]
  },
  {
   "cell_type": "code",
   "execution_count": 53,
   "metadata": {},
   "outputs": [
    {
     "data": {
      "text/plain": [
       "['LEGACY',\n",
       " 'CODEBASE',\n",
       " '(COBOL',\n",
       " 'MUMPS)',\n",
       " 'LACK',\n",
       " 'OF',\n",
       " 'OR',\n",
       " 'POOR',\n",
       " 'DOCUMENTATION',\n",
       " 'LEGACY',\n",
       " 'INFRASTRUCTURE',\n",
       " 'AD-HOC',\n",
       " 'INFRASTRUCTURE',\n",
       " '',\n",
       " 'HARDWARE',\n",
       " 'OR',\n",
       " 'SOFTWARE',\n",
       " 'WITH',\n",
       " 'NO',\n",
       " 'VENDOR/MANUFACTURER',\n",
       " 'SUPPORT',\n",
       " 'OUTDATED',\n",
       " 'OR',\n",
       " 'INACCURATE',\n",
       " 'INVENTORY',\n",
       " 'TECHNOLOGY',\n",
       " 'TYPE',\n",
       " '',\n",
       " 'SYSTEM',\n",
       " 'LAST',\n",
       " 'MODERNIZED',\n",
       " 'LIMITED',\n",
       " 'FUNCTIONALITY',\n",
       " 'OTHER',\n",
       " '']"
      ]
     },
     "execution_count": 53,
     "metadata": {},
     "output_type": "execute_result"
    }
   ],
   "source": []
  },
  {
   "cell_type": "code",
   "execution_count": 58,
   "metadata": {},
   "outputs": [
    {
     "data": {
      "text/plain": [
       "['LEGACY',\n",
       " 'CODEBASE',\n",
       " '(COBOL',\n",
       " 'MUMPS)',\n",
       " 'LACK',\n",
       " 'OF',\n",
       " 'OR',\n",
       " 'POOR',\n",
       " 'DOCUMENTATION',\n",
       " 'LEGACY',\n",
       " 'INFRASTRUCTURE',\n",
       " 'AD-HOC',\n",
       " 'INFRASTRUCTURE',\n",
       " '',\n",
       " 'HARDWARE',\n",
       " 'OR',\n",
       " 'SOFTWARE',\n",
       " 'WITH',\n",
       " 'NO',\n",
       " 'VENDOR/MANUFACTURER',\n",
       " 'SUPPORT',\n",
       " 'OUTDATED',\n",
       " 'OR',\n",
       " 'INACCURATE',\n",
       " 'INVENTORY',\n",
       " 'LIMITED',\n",
       " 'FUNCTIONALITY',\n",
       " '']"
      ]
     },
     "execution_count": 58,
     "metadata": {},
     "output_type": "execute_result"
    }
   ],
   "source": [
    "y=\"\"\"Legacy codebase (COBOL MUMPS)\n",
    "Lack of or poor documentation\n",
    "Legacy infrastructure\n",
    "Ad-hoc infrastructure \n",
    "Hardware or software with no vendor/manufacturer support\n",
    "Outdated or inaccurate inventory\n",
    "Limited Functionality\n",
    "\"\"\".replace('\\n',' ').upper().split(' ')\n",
    "y"
   ]
  },
  {
   "cell_type": "code",
   "execution_count": 59,
   "metadata": {},
   "outputs": [
    {
     "data": {
      "text/plain": [
       "0.7931034482758621"
      ]
     },
     "execution_count": 59,
     "metadata": {},
     "output_type": "execute_result"
    }
   ],
   "source": [
    "x=lst\n",
    "\n",
    "jaccard_similarity(x,y)"
   ]
  },
  {
   "cell_type": "code",
   "execution_count": null,
   "metadata": {},
   "outputs": [],
   "source": []
  }
 ],
 "metadata": {
  "kernelspec": {
   "display_name": "Python 3.8.8 ('base')",
   "language": "python",
   "name": "python3"
  },
  "language_info": {
   "codemirror_mode": {
    "name": "ipython",
    "version": 3
   },
   "file_extension": ".py",
   "mimetype": "text/x-python",
   "name": "python",
   "nbconvert_exporter": "python",
   "pygments_lexer": "ipython3",
   "version": "3.8.8"
  },
  "orig_nbformat": 4,
  "vscode": {
   "interpreter": {
    "hash": "1b5c637c5c17e7841ce3b55fac6772e1460db6e5f5b3923b76ec2696de093845"
   }
  }
 },
 "nbformat": 4,
 "nbformat_minor": 2
}
