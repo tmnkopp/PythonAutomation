{
 "cells": [
  {
   "cell_type": "code",
   "execution_count": 4,
   "metadata": {},
   "outputs": [],
   "source": [
    "import pandas as pd\n",
    "import numpy as np \n",
    "import re, json, os , logging , random, html, datetime\n",
    "from lib.config import connstr\n",
    "from lib.context import context\n",
    "from lib.utils import * \n",
    "from lib.picklist_recommender import picklist_recommender\n",
    "from lib.issue_provider import issue_provider\n",
    "from lib.questionnaire_parser import questionnaire_parser\n",
    "from lib.questionnaire_picklist_parser import questionnaire_picklist_parser\n",
    "from lib.script_generator import script_generator \n",
    "from webdriver_manager.chrome import ChromeDriverManager\n",
    "from selenium.webdriver.chrome.options import Options\n",
    "from selenium import webdriver\n",
    "from selenium.webdriver.common.by import By\n",
    "from selenium.webdriver.support.ui import WebDriverWait\n",
    "from selenium.webdriver.support import expected_conditions as EC \n",
    "from bs4 import BeautifulSoup  \n",
    "ctx=context() \n",
    "ctx.logger.setLevel(logging.DEBUG)\n",
    "config = {}\n",
    "with open('config.json', 'r') as f: \n",
    "    config=json.loads(f.read())    \n",
    "ctx.config=config \n",
    "import warnings\n",
    "warnings.filterwarnings('ignore')\n",
    "\n",
    "#df, code = generate_code_from_db(ctx, qgroup=4028)\n",
    "\n"
   ]
  },
  {
   "cell_type": "code",
   "execution_count": null,
   "metadata": {},
   "outputs": [],
   "source": [
    "pl=sql_todf(\"\"\"\n",
    "SELECT UPPER(LTRIM(RTRIM(DisplayValue))) [Selections], PK_PickList [ML_Value], PK_PickListType [PLT]\n",
    "FROM vwPickLists  \n",
    "WHERE PK_PickListType > 410\n",
    "ORDER BY PK_PickListType DESC\n",
    "\"\"\", connstr)  \n",
    "s=list(pl.loc[pl['PLT']==427]['Selections'])\n",
    "print(s)\n",
    "#pr = picklist_recommender(ctx.config['connstr'], reset_cache=True, picklist_where=' PK_PickListType > 410 ') \n",
    "#pr.recommend(s, threshhold=(.825, .5))\n",
    "\n",
    "#pl['PK_PickListType'].astype('int32')\n",
    "#l=SQL_INSERT_FROM_DF(pl)"
   ]
  },
  {
   "cell_type": "code",
   "execution_count": null,
   "metadata": {},
   "outputs": [],
   "source": [
    "filepath = r'C:\\Users\\timko\\Downloads\\Questionnaire\\HVA Network Architecture Questionnaire v0.1.xlsx'\n",
    "filepath = r'C:\\Users\\timko\\Downloads\\Questionnaire\\HVA Network Architecture Questionnaire v0.1.xlsx'"
   ]
  },
  {
   "cell_type": "code",
   "execution_count": null,
   "metadata": {},
   "outputs": [],
   "source": [
    "converts={'Selections':lambda x: re.sub('\\d{,2}\\.','',x).upper().strip()}\n",
    "df=pd.read_excel(filepath, converters=converts,  sheet_name='Questionnaire', header=7, usecols='A,B,D,E,F,G').reset_index()\n",
    "df = df.rename(columns={'ML Score': 'ML_Score','ML Scored': 'ML_Scored' })\n",
    "df[\"ID\"].fillna(method='ffill', inplace=True) \n",
    "df = df.loc[ df[\"ID\"].str.contains('NA') ]   \n",
    "df.dropna(subset=['ML_Scored'], inplace=True) \n",
    "df['ML_Score'] = df['ML_Score'].apply(lambda s: re.sub('[^0-9]','',str(s)))\n",
    "df['Selections'] = df['Selections'].apply(lambda x: re.sub('[^A-Za-z0-9\\s]','',str(x)))\n",
    "\n",
    "s = df.loc[df['ID']=='NA4']['Selections']\n",
    "print(list(s))\n"
   ]
  },
  {
   "cell_type": "code",
   "execution_count": null,
   "metadata": {},
   "outputs": [],
   "source": [
    "\n",
    "dfp=df.groupby(['ID'], as_index=False).agg({'Selections':list}) \n",
    "pr = picklist_recommender(ctx.config['connstr'], reset_cache=True, picklist_where=' PK_PickListType > 410 ') \n",
    "dfp['PLT']=dfp['Selections'].apply(lambda s: pr.recommend(s)['PK_PicklistType'])\n",
    "pr.to_cache() \n",
    "\n",
    "dff=pd.merge(df,dfp.loc[:,['ID','PLT']], how='left', left_on='ID', right_on='ID')\n",
    "dff=pd.merge(dff,pl, how='left', left_on=['Selections','PLT'], right_on=['Selections','PLT'])\n",
    "dff.ML_Value=dff.ML_Value.fillna(0).astype('int32').astype('str')\n",
    "dff.loc[dff['PLT']==427]"
   ]
  },
  {
   "cell_type": "code",
   "execution_count": null,
   "metadata": {},
   "outputs": [],
   "source": [
    "dff=dff \n",
    "dff.SML.fillna(method='ffill', inplace=True)\n",
    "dff=dff.loc[dff['ML_Scored'] != 0]\n",
    "dff['sortorder'] = range(1, len(dff)+1)\n",
    "l=SQL_INSERT_FROM_DF(dff.loc[:, ['ID', 'SML','ML_Score', 'ML_Scored', 'ML_Value', 'sortorder']])\n",
    "dff.loc[dff['ID']=='NA4']"
   ]
  },
  {
   "cell_type": "code",
   "execution_count": null,
   "metadata": {},
   "outputs": [],
   "source": [
    "sml3 = dff.loc[  (dff['ML_Scored']==1) & (dff['SML']=='SML3') ]"
   ]
  },
  {
   "cell_type": "code",
   "execution_count": null,
   "metadata": {},
   "outputs": [],
   "source": [
    "sml3['ANS']=[f\",('{x}','SML3','{y}','x')\" for x,y in zip( sml3['ID'] ,sml3['ML_Value'] )]\n",
    "''.join(list(sml3['ANS']))"
   ]
  },
  {
   "cell_type": "code",
   "execution_count": 5,
   "metadata": {},
   "outputs": [],
   "source": [
    "base = r\"C:\\\\dev\\\\CyberScope\\\\CyberScopeBranch\\\\CSwebdev\\\\code\\\\CyberScope\\\\HVA\\\\2023\\\\\"\n",
    "pages = {\n",
    "       '3':'4045','4':'4046','5':'4047' \n",
    "} \n",
    "src = r'C:\\\\_som\\\\tmp\\\\'\n",
    "for i in pages.keys():\n",
    "    exts = ['.aspx','.aspx.designer.vb','.aspx.vb']\n",
    "    for ext in exts:\n",
    "        with open(f'{src}2023_HVA_MonitoringAndDetection_1{ext}', 'r', encoding='UTF-8') as fr:\n",
    "            txt = fr.read()\n",
    "            txt=txt.replace(f'11',f'{i}{i}')\n",
    "            txt=txt.replace(f'_1',f'_{i}')\n",
    "            txt=txt.replace(f'\"4043\"',f'\"{pages[i]}\"')\n",
    "            df, code = generate_code_from_db(ctx, qgroup=pages[i])\n",
    "            txt=txt.replace(f'<!--controls-->',code)\n",
    "            #print(txt)\n",
    "        with open(f'{base}2023_HVA_MonitoringAndDetection_{i}{ext}', 'w', encoding='UTF-8') as fw:\n",
    "            fw.write(txt)"
   ]
  },
  {
   "cell_type": "code",
   "execution_count": null,
   "metadata": {},
   "outputs": [],
   "source": [
    "ip = issue_provider(ctx)  \n",
    "ip.driver.quit()\n",
    "ip.issues"
   ]
  },
  {
   "cell_type": "code",
   "execution_count": 3,
   "metadata": {},
   "outputs": [],
   "source": [
    "ip.driver.quit()"
   ]
  },
  {
   "cell_type": "code",
   "execution_count": null,
   "metadata": {},
   "outputs": [],
   "source": [
    "with open(ctx.get_tempalte_dir()+'frmval.sql', 'r') as f:\n",
    "    s=f.read() \n",
    "df=sql_todf(\"\"\"\n",
    "SELECT DISTINCT IdText AS [{idt}], REPLACE(IdText, '.','_') [{var}], SortPos  FROM vwQuestions  \n",
    "WHERE PK_FORM = '2023-Q1-CIO'  AND IdText LIKE '2.%' AND Q_TypeID=2 \n",
    "ORDER BY SortPos;\n",
    " \n",
    "\"\"\", connstr) \n",
    "df['sql']=[s.replace('{idt}',x).replace('{var}',y) for x,y in zip(df['{idt}'], df['{var}'])]\n",
    " \n",
    "with open(ctx.get_dest()+'script.sql', 'w') as f:\n",
    "    f.write( '\\n'.join(list(df['sql'])) ) "
   ]
  },
  {
   "cell_type": "code",
   "execution_count": null,
   "metadata": {},
   "outputs": [],
   "source": [
    "df['sql']=s\n",
    "df['sql']=[x.replace('{idt}',y).replace('{var}',z) for x,y,z in zip(df['sql'], df['{idt}'], df['{var}'])]\n",
    " \n",
    "with open(ctx.get_dest()+'script.sql', 'w') as f:\n",
    "    f.write( '\\n'.join(list(df['sql'])) ) \n",
    "df"
   ]
  },
  {
   "cell_type": "code",
   "execution_count": null,
   "metadata": {},
   "outputs": [],
   "source": [
    "df,code=generate_code_from_db(ctx,4019) \n",
    "#generate_section(4018, code)\n",
    "df[:10]\n",
    "#sql=df_to_sql(df,ctx,template_name='fsma_QuestionsInsert.sql')"
   ]
  },
  {
   "cell_type": "code",
   "execution_count": null,
   "metadata": {},
   "outputs": [],
   "source": [
    "def generate_section(section, code=''): \n",
    "    df=sql_todf(\"SELECT DISTINCT PK_QuestionGroup, ASPX FROM vwQuestions  WHERE PK_FORM = '2023-Q1-CIO'\", connstr).set_index('PK_QuestionGroup' )\n",
    "    d=df.T.to_dict(orient='records')[0] \n",
    "    print(d)\n",
    "    path=f'C:\\\\dev\\\\CyberScope\\\\CyberScopeBranch\\\\CSwebdev\\\\code\\\\CyberScope\\\\{d[section]}'\n",
    "    with open(path, 'r', encoding='utf-16') as f:\n",
    "        s=f.read() \n",
    "    pname = d[section][d[section].rfind('/')+1:]\n",
    "    if '<!--questions-->' in s:\n",
    "        q=re.findall('<!--questions-->.+<!--\\/questions-->',s,re.DOTALL)[0]\n",
    "        s=s.replace(q,f'<!--questions-->\\n{code}\\n<!--/questions-->')\n",
    "        with open(f\"{ctx.get_dest()}{pname}\", 'w', encoding='utf-16') as f:\n",
    "            f.write(s) \n",
    "\n"
   ]
  },
  {
   "cell_type": "code",
   "execution_count": null,
   "metadata": {},
   "outputs": [],
   "source": [
    "\n",
    "def parse_grid(tnum, pk, QCol='Question', PivotCols=4): \n",
    "    ip = issue_provider(ctx)\n",
    "    driver=ip.driver\n",
    "    driver.get(f\"https://dayman.cyber-balance.com/jira/si/jira.issueviews:issue-html/CS-{tnum}/CS-{tnum}.html\")   \n",
    "    ldf = pd.read_html(driver.page_source, match=\"\\d\\.\\d\\.\\d\", header=1)\n",
    "    df=ldf[0].iloc[:,:].rename(columns={QCol: \"QuestionText\"})\n",
    " \n",
    "    df['identifier_text'] = df['QuestionText'].apply(lambda s: re.findall('^[\\d\\.\\w]{1,7}',s)[0])\n",
    "    stypes = {k: chr(v+97) for v, k in enumerate(list(df.columns[1:4]))} \n",
    "    print(stypes)\n",
    "    df=df.loc[:,['QuestionText','identifier_text']] \n",
    "    df['CTRLCODE']='LABEL'\n",
    "    lod=df.to_dict(orient='records')\n",
    "    l=[]\n",
    "    for i,r in enumerate(lod):\n",
    "        l.append(lod[i])\n",
    "        for k in stypes.keys():\n",
    "            id=lod[i]['identifier_text']+'.'+stypes[k]\n",
    "            l.append({\n",
    "                'identifier_text':id\n",
    "                , 'QuestionText': id+' '+k\n",
    "                , 'CTRLCODE':'CNT'\n",
    "                })\n",
    "    df=pd.DataFrame(l)\n",
    "    df['{PK_Question}'] = range(pk,len(df)+pk)\n",
    "    df['sortpos'] = range(1,len(df)+1) \n",
    "    df['FK_QuestionType'] = df['CTRLCODE'].apply(lambda s: 2 if s=='CNT' else 18)\n",
    "    df['QuestionText']=df['QuestionText'].apply(lambda s: re.sub('^[\\d\\.\\w]{1,7}','',s, count=1).strip())\n",
    "    df['{QuestionText}']=df['QuestionText']\n",
    "    df['{idt}'] = df['identifier_text'].str.replace('.','_')\n",
    "    with open (ctx.get_tempalte_dir()+'fsma_QuestionsInsert.sql', 'r') as f:\n",
    "        df['sql']=f.read() \n",
    "    for i,r in df.iterrows():\n",
    "        for c in df.columns: \n",
    "            df.loc[i,'sql']= re.sub(str(c),str(df.loc[i,c]),df.loc[i,'sql'])  \n",
    "    sql='\\n,'.join(df['sql'])\n",
    "    with open(f'{ctx.get_dest()}script.sql', 'w') as f:\n",
    "        f.write(sql)\n",
    "\n",
    "    gen=script_generator(ctx)\n",
    "    code=gen.generate(df)\n",
    "    with open(f'{ctx.get_dest()}script.aspx', 'w') as f:\n",
    "        f.write(code)\n",
    "    \n",
    "    return df,sql,code\n",
    "\n",
    "# df,sql,code=parse_grid('9295',37400, QCol='Type of Test')\n",
    "# print(sql)"
   ]
  },
  {
   "cell_type": "code",
   "execution_count": null,
   "metadata": {},
   "outputs": [],
   "source": [
    "ctrl=''\n",
    "with open(f'{ctx.get_tempalte_dir()}TXT_OPT.aspx', 'r') as f:\n",
    "    ctrl=f.read().replace('\\n','')\n",
    "\n",
    "def met_provider(s):  \n",
    "    if type(s) != str : return s\n",
    "    m=re.findall('\\d{1,2}\\.\\d{1,2}\\.?\\d{0,2}\\.?[\\.\\d\\w]?', s)  \n",
    "    return m[0] if len(m) > 0 else ''\n",
    "\n",
    "def cell_provider(s, i):  \n",
    "    if type(s) != str : return s\n",
    "    m=re.findall('\\d{1,2}\\.\\d{1,2}\\.?\\d{0,2}\\.?[\\.\\d\\w]?', s)\n",
    "    d={0:'a.i',1:'a.ii',2:'b.i',3:'b.ii',4:'c.i',5:'c.ii' } \n",
    "    idt=f'{m[0]}.{d[i]}'\n",
    "    c=ctrl.replace('{idt}',idt.replace('.','_'))\n",
    "    return f'{c}' if len(m) > 0 else ''\n",
    "\n",
    "def lbl_provider(s): \n",
    "    if type(s) != str : return s\n",
    "    lbl='<uc:CBlabel ID=\"CBlabel_{idt}_i\" PK_key=\"{idt}\" runat=\"server\" LabelType=\"Question\" />'   \n",
    "    m=re.findall('\\d{1,2}\\.\\d{1,2}\\.?\\d{0,2}\\.?[\\.\\d\\w]?', s) \n",
    "    idt=f'{m[0]}'\n",
    "    c=lbl.replace('{idt}',idt.replace('.','_'))\n",
    "    return c\n",
    "def get_ids():\n",
    "    dff=sql_todf(\"SELECT replace(idtext, '.','_') id, pk_question  FROM vwQuestions WHERE PK_QuestionGroup=4014\", ctx.config['connstr'])\n",
    "    print(dff.iloc[0])\n",
    "    ids = {k:v for k, v in zip(dff['id'], dff['pk_question'] )  }\n",
    "    return ids\n",
    "ids=get_ids()   \n",
    "list(ids.keys())[3:5] \n",
    " "
   ]
  },
  {
   "cell_type": "code",
   "execution_count": null,
   "metadata": {},
   "outputs": [],
   "source": [
    "df=pd.read_excel(r'C:\\Users\\Tim\\Documents\\CIO\\CIO_SECTION_2.xlsx',  sheet_name='All', header=0 ) # Enterprise Identities  # Public Identities \n",
    "\n",
    "#df.fillna('', inplace=True)\n",
    "#df.drop([0], axis=0, inplace=True)\n",
    "df.rename(columns={'Unnamed: 2':'.','Unnamed: 4':'..','Unnamed: 6':'...'}, inplace=True)\n",
    "for i,c in enumerate(df.columns[1:]): \n",
    "    df.loc[1:,c] = df.loc[1:, 'Question'].apply(lambda s:  cell_provider(s,i)  )\n",
    "\n",
    "#mets = [str(m)  for m in list(dff['m']) if '2' in str(m) ]  \n",
    "\n",
    "df['Question']=df['Question'].apply(lbl_provider )\n",
    "df.to_html(f'{ctx.get_dest()}parsed.html',index=False)\n",
    " \n",
    "s=''\n",
    "with open(f'{ctx.get_dest()}parsed.html', 'r') as f:\n",
    "    s=f.read()\n",
    "s=re.sub('<th>\\.{1,3}</th>','',s)\n",
    "s=re.sub('th>','td>',s) \n",
    "s=re.sub('<td>Number','<td colspan=\"2\">Number',s)\n",
    "\n",
    "s=re.sub('<thead>|</thead>|<tbody>|</tbody>','',s) \n",
    "for k in ids:\n",
    "    s=s.replace(f'PK_key=\"{k}\"',f'PK_key=\"{str(ids[k])}\"' )\n",
    "    s=s.replace(f'PK_Question=\"{k}\"',f'PK_Question=\"{str(ids[k])}\"' )\n",
    "with open(f'{ctx.get_dest()}script.html', 'w') as f: \n",
    "    s=html.unescape(s) \n",
    "    f.write(s)\n",
    "df[:5]"
   ]
  }
 ],
 "metadata": {
  "kernelspec": {
   "display_name": "base",
   "language": "python",
   "name": "python3"
  },
  "language_info": {
   "codemirror_mode": {
    "name": "ipython",
    "version": 3
   },
   "file_extension": ".py",
   "mimetype": "text/x-python",
   "name": "python",
   "nbconvert_exporter": "python",
   "pygments_lexer": "ipython3",
   "version": "3.8.5"
  },
  "orig_nbformat": 4,
  "vscode": {
   "interpreter": {
    "hash": "3a7c076192e1e16d3ee1a218e6831777c4d2e3a001a9a33f6decd6c7672cec63"
   }
  }
 },
 "nbformat": 4,
 "nbformat_minor": 2
}
