{
 "cells": [
  {
   "cell_type": "code",
   "execution_count": 112,
   "metadata": {},
   "outputs": [],
   "source": [
    "import pandas as pd\n",
    "import numpy as np\n",
    "import re, json, requests  \n",
    "from lib.config import connstr\n",
    "from lib.context import context\n",
    "from lib.utils import * \n",
    "from lib.picklist_recommender import picklist_recommender\n",
    "from lib.questionnaire_parser import questionnaire_parser\n",
    "from lib.questionnaire_picklist_parser import questionnaire_picklist_parser\n",
    "from lib.script_generator import script_generator \n",
    "from webdriver_manager.chrome import ChromeDriverManager\n",
    "from selenium.webdriver.chrome.options import Options\n",
    "from selenium import webdriver\n",
    "from selenium.webdriver.common.by import By\n",
    "from selenium.webdriver.support.ui import WebDriverWait\n",
    "from selenium.webdriver.support import expected_conditions as EC \n",
    "from bs4 import BeautifulSoup  \n"
   ]
  },
  {
   "cell_type": "code",
   "execution_count": 113,
   "metadata": {},
   "outputs": [
    {
     "data": {
      "text/plain": [
       "'C:\\\\Users\\\\timko\\\\source\\\\repos\\\\PythonBoiler\\\\CodeGenerators\\\\snippets\\\\'"
      ]
     },
     "execution_count": 113,
     "metadata": {},
     "output_type": "execute_result"
    }
   ],
   "source": [
    "ctx=context() \n",
    "config = {}\n",
    "with open('config.json', 'r') as f: \n",
    "    config=json.loads(f.read())    \n",
    "ctx.config=config\n",
    "ctx.get_tempalte_dir()"
   ]
  },
  {
   "cell_type": "code",
   "execution_count": 188,
   "metadata": {},
   "outputs": [],
   "source": [
    "def generate_code_from_db(qgroup):\n",
    "    df=sql_todf(\"\"\"\n",
    "    SELECT \n",
    "idText as identifier_text \n",
    ",CASE WHEN idText='' THEN REPLACE(ID,'-','_')  ELSE REPLACE(idText,'.','_') END AS [{idt}]\n",
    ",ID as [id]\n",
    ",Q_TypeCode CTRLCODE\n",
    ",FK_QuestionType\n",
    ",PK_Question as [{PK_Question}]\n",
    ",sortpos\n",
    ",QTEXT as [{QuestionText}] \n",
    "    \"\"\"+ f\"FROM vwQuestions WHERE PK_QuestionGroup={qgroup}\", connstr) \n",
    "    df['{idt}']=df['{idt}'].apply(lambda s: re.sub('_$','',s))\n",
    "    gen=script_generator(ctx)\n",
    "    code=gen.generate(df)\n",
    "    with open(f'{ctx.get_dest()}script.aspx', 'w') as f:\n",
    "        f.write(code)\n",
    "    return df, code\n",
    "df,code=generate_code_from_db(4018)\n",
    "#df[:10]\n",
    "with open('C:\\\\dev\\\\CyberScope\\\\CyberScopeBranch\\\\CSwebdev\\\\code\\\\CyberScope\\\\FismaForms\\\\2023\\\\2023_Q1_CIO_5.aspx', 'r', encoding='utf-16') as f:\n",
    "    s=f.read() \n",
    "q=re.findall('<!--questions-->.+<!--\\/questions-->',s,re.DOTALL)[0]\n",
    "s=s.replace(q,f'<!--questions-->\\n{code}\\n<!--/questions-->')\n",
    "with open(f\"{ctx.get_dest()}script.aspx\", 'w', encoding='utf-16') as f:\n",
    "    f.write(s)\n"
   ]
  },
  {
   "cell_type": "code",
   "execution_count": 194,
   "metadata": {},
   "outputs": [
    {
     "data": {
      "text/plain": [
       "{'PK_QuestionTypeId': 1, 'Code': 'YN', 'description': 'Yes / No'}"
      ]
     },
     "execution_count": 194,
     "metadata": {},
     "output_type": "execute_result"
    }
   ],
   "source": [
    "\n",
    " "
   ]
  },
  {
   "cell_type": "code",
   "execution_count": null,
   "metadata": {},
   "outputs": [],
   "source": []
  },
  {
   "cell_type": "code",
   "execution_count": 175,
   "metadata": {},
   "outputs": [
    {
     "name": "stderr",
     "output_type": "stream",
     "text": [
      "\n",
      "\n",
      "====== WebDriver manager ======\n",
      "Current google-chrome version is 107.0.5304\n",
      "Get LATEST driver version for 107.0.5304\n",
      "Driver [C:\\Users\\timko\\.wdm\\drivers\\chromedriver\\win32\\107.0.5304.62\\chromedriver.exe] found in cache\n",
      "<ipython-input-175-4332031c7886>:3: DeprecationWarning: use options instead of chrome_options\n",
      "  driver = webdriver.Chrome(executable_path=ChromeDriverManager().install() ,chrome_options=options)\n"
     ]
    }
   ],
   "source": [
    "options = Options()\n",
    "options.add_argument(\"--start-minimized\")  \n",
    "driver = webdriver.Chrome(executable_path=ChromeDriverManager().install() ,chrome_options=options)  "
   ]
  },
  {
   "cell_type": "code",
   "execution_count": 176,
   "metadata": {},
   "outputs": [],
   "source": [
    "driver.get(f\"https://dayman.cyber-balance.com/jira/login.jsp\")  \n",
    "driver.find_element(By.XPATH, '//input[contains(@id, \"user\")]').send_keys(ctx.config['user'])\n",
    "driver.find_element(By.XPATH, '//input[contains(@id, \"pass\")]').send_keys(ctx.config['pass']) \n",
    "driver.find_element(By.XPATH, '//input[contains(@id, \"submit\")]').click() "
   ]
  },
  {
   "cell_type": "code",
   "execution_count": null,
   "metadata": {},
   "outputs": [],
   "source": [
    "def parse_metrics(tnum, pk, met_parse='(\\d{1,2}\\.\\d{1,2}\\.?[\\.\\d\\w]?)\\s+[A-Z]'):\n",
    "    driver.get(f\"https://dayman.cyber-balance.com/jira/si/jira.issueviews:issue-html/CS-{tnum}/CS-{tnum}.html\")  \n",
    "    soup = BeautifulSoup(driver.page_source)\n",
    "    le = soup.select('td.confluenceTd, p')\n",
    "    lod=[]\n",
    "    for i,e in enumerate(le):\n",
    "        m=re.search(met_parse,str(e.text))    \n",
    "        if(m):  \n",
    "            lod.append({'identifier_text':m.groups(1)[0]\n",
    "                ,'QuestionText':e.text.replace(m.groups(1)[0],'')\n",
    "                ,'{PK_Question}':len(lod)+1+pk\n",
    "                ,'FK_QuestionType':get_question_type(e.text, ctx)['PK_QuestionTypeId']\n",
    "                ,'sortpos':i\n",
    "            }) \n",
    "    df=pd.DataFrame(lod)\n",
    "    with open (ctx.get_tempalte_dir()+'fsma_QuestionsInsert.sql', 'r') as f:\n",
    "        df['sql']=f.read()\n",
    "        for i,r in df.iterrows():\n",
    "            for c in df.columns: \n",
    "                df.loc[i,'sql']= re.sub(str(c),str(df.loc[i,c]),df.loc[i,'sql'])  \n",
    "        sql='\\n,'.join(df['sql'])\n",
    "    return df, sql\n",
    "#df,sql = parse_metrics('9302', 36421,  met_parse='(10\\.\\d{1,2}\\.?[\\.\\d\\w]?)\\s+[A-Z]')\n",
    "#df_to_insert(df)\n",
    "#print(sql)"
   ]
  },
  {
   "cell_type": "code",
   "execution_count": null,
   "metadata": {},
   "outputs": [],
   "source": [
    "\n",
    "def parse_grid(tnum, pk, QCol='Question', PivotCols=4): \n",
    "    driver.get(f\"https://dayman.cyber-balance.com/jira/si/jira.issueviews:issue-html/CS-{tnum}/CS-{tnum}.html\")   \n",
    "    ldf = pd.read_html(driver.page_source, match=\"\\d\\.\\d\\.\\d\", header=1)\n",
    "    df=ldf[0].iloc[:,:].rename(columns={QCol: \"QuestionText\"})\n",
    " \n",
    "    df['identifier_text'] = df['QuestionText'].apply(lambda s: re.findall('^[\\d\\.\\w]{1,7}',s)[0])\n",
    "    stypes = {k: chr(v+97) for v, k in enumerate(list(df.columns[1:4]))} \n",
    "    print(stypes)\n",
    "    df=df.loc[:,['QuestionText','identifier_text']] \n",
    "    df['CTRLCODE']='LABEL'\n",
    "    lod=df.to_dict(orient='records')\n",
    "    l=[]\n",
    "    for i,r in enumerate(lod):\n",
    "        l.append(lod[i])\n",
    "        for k in stypes.keys():\n",
    "            id=lod[i]['identifier_text']+'.'+stypes[k]\n",
    "            l.append({\n",
    "                'identifier_text':id\n",
    "                , 'QuestionText': id+' '+k\n",
    "                , 'CTRLCODE':'CNT'\n",
    "                })\n",
    "    df=pd.DataFrame(l)\n",
    "    df['{PK_Question}'] = range(pk,len(df)+pk)\n",
    "    df['sortpos'] = range(1,len(df)+1) \n",
    "    df['FK_QuestionType'] = df['CTRLCODE'].apply(lambda s: 2 if s=='CNT' else 18)\n",
    "    df['QuestionText']=df['QuestionText'].apply(lambda s: re.sub('^[\\d\\.\\w]{1,7}','',s, count=1).strip())\n",
    "    df['{QuestionText}']=df['QuestionText']\n",
    "    df['{idt}'] = df['identifier_text'].str.replace('.','_')\n",
    "    with open (ctx.get_tempalte_dir()+'fsma_QuestionsInsert.sql', 'r') as f:\n",
    "        df['sql']=f.read() \n",
    "    for i,r in df.iterrows():\n",
    "        for c in df.columns: \n",
    "            df.loc[i,'sql']= re.sub(str(c),str(df.loc[i,c]),df.loc[i,'sql'])  \n",
    "    sql='\\n,'.join(df['sql'])\n",
    "    with open(f'{ctx.get_dest()}script.sql', 'w') as f:\n",
    "        f.write(sql)\n",
    "\n",
    "    gen=script_generator(ctx)\n",
    "    code=gen.generate(df)\n",
    "    with open(f'{ctx.get_dest()}script.aspx', 'w') as f:\n",
    "        f.write(code)\n",
    "    \n",
    "    return df,sql,code\n",
    "\n",
    "# df,sql,code=parse_grid('9295',37400, QCol='Type of Test')\n",
    "# print(sql)"
   ]
  },
  {
   "cell_type": "code",
   "execution_count": 80,
   "metadata": {},
   "outputs": [],
   "source": [
    "with open('C:\\\\dev\\\\CyberScope\\\\CyberScopeBranch\\\\CSwebdev\\\\code\\\\CyberScope\\\\FismaForms\\\\2023\\\\2023_Q1_CIO_2.aspx', 'r', encoding='utf-16') as f:\n",
    "    s=f.read()\n",
    "    s=re.sub('uc\\d','uc',s)\n",
    "q=re.findall('<!--questions-->.+<!--\\/questions-->',s,re.DOTALL)[0]\n",
    "s=s.replace(q,code)\n",
    "with open('script.aspx', 'w', encoding='utf-16') as f:\n",
    "    f.write(s)"
   ]
  },
  {
   "cell_type": "code",
   "execution_count": 139,
   "metadata": {},
   "outputs": [],
   "source": [
    "def df_to_insert(dff):\n",
    "    df=dff\n",
    "    df=df.astype(str)\n",
    "    df.reset_index(inplace=True)    \n",
    "    with open (ctx.get_tempalte_dir()+'fsma_QuestionsInsert.sql', 'r') as f:\n",
    "        df['sql']=f.read()   \n",
    "    for i,r in df.iterrows():\n",
    "        for c in df.columns:   \n",
    "            df.loc[i,'sql']= re.sub(str(c),str(df.loc[i,c]),str(df.loc[i,'sql']))  \n",
    "    sql='\\n,'.join(df['sql'])\n",
    "    with open(f'{ctx.get_dest()}script.sql', 'w') as f:\n",
    "        f.write(sql)\n",
    "    print(sql)    "
   ]
  },
  {
   "cell_type": "code",
   "execution_count": null,
   "metadata": {},
   "outputs": [],
   "source": [
    "df=pd.DataFrame(range(1,2))\n",
    "df[\"identifier_text\"]=df[0].apply(lambda s : '3.3.'+str(s))\n",
    "df['CTRLCODE']='LABEL'\n",
    "df['m']=[['a Tier EL0 Not Effective','b Tier EL1 Basic','c Tier EL2 Intermediate','d Tier EL3 Advanced'] for i in range(len(df))]\n",
    "lbls=df\n",
    "df=df.explode('m')\n",
    "df=pd.concat([lbls,df]) \n",
    "df['CTRLCODE']=df['m'].apply(lambda s: 2 if type(s)==str else 18)\n",
    "df.sort_values([0,'CTRLCODE'], ascending=[True,False], inplace=True) \n",
    "df['m']=df['m'].apply(lambda s: s if type(s)!=list else '') \n",
    "df['QuestionText']=  df['m'].apply(lambda s: s[2:])\n",
    "df[\"identifier_text\"]=df[\"identifier_text\"]+ ''+ df['m'].apply(lambda s: s.split(' ')[0])\n",
    "df['{PK_Question}'] = range(37250,len(df)+37250)\n",
    "df['sortpos'] = range(50,len(df)+50) \n",
    "df['FK_QuestionType'] = df['CTRLCODE']\n",
    "df['CTRLCODE'] = df['FK_QuestionType'].apply(lambda s: 'CNT' if s==2 else 'LABEL')  \n",
    "df['{idt}'] = df['identifier_text'].str.replace('.','_')\n",
    "df.drop(columns=[0,'m'], inplace=True)\n",
    "df\n",
    "df_to_insert(df)\n"
   ]
  },
  {
   "cell_type": "code",
   "execution_count": null,
   "metadata": {},
   "outputs": [],
   "source": [
    "df=sql_todf(\"SELECT QTEXT, IdText, Q_TypeCode FROM vwQuestions WHERE PK_FORM='2023-A-HVA' ORDER BY GroupName asc,  SortPos asc\", connstr)\n",
    "df"
   ]
  },
  {
   "cell_type": "code",
   "execution_count": 110,
   "metadata": {},
   "outputs": [
    {
     "data": {
      "text/html": [
       "<div>\n",
       "<style scoped>\n",
       "    .dataframe tbody tr th:only-of-type {\n",
       "        vertical-align: middle;\n",
       "    }\n",
       "\n",
       "    .dataframe tbody tr th {\n",
       "        vertical-align: top;\n",
       "    }\n",
       "\n",
       "    .dataframe thead th {\n",
       "        text-align: right;\n",
       "    }\n",
       "</style>\n",
       "<table border=\"1\" class=\"dataframe\">\n",
       "  <thead>\n",
       "    <tr style=\"text-align: right;\">\n",
       "      <th></th>\n",
       "      <th>identifier_text</th>\n",
       "      <th>{idt}</th>\n",
       "      <th>id</th>\n",
       "      <th>CTRLCODE</th>\n",
       "      <th>FK_QuestionType</th>\n",
       "      <th>{PK_Question}</th>\n",
       "      <th>sortpos</th>\n",
       "      <th>{QuestionText}</th>\n",
       "    </tr>\n",
       "  </thead>\n",
       "  <tbody>\n",
       "    <tr>\n",
       "      <th>0</th>\n",
       "      <td>2.1</td>\n",
       "      <td>2_1</td>\n",
       "      <td>5-1-2.1</td>\n",
       "      <td>LABEL</td>\n",
       "      <td>18</td>\n",
       "      <td>37000</td>\n",
       "      <td>1</td>\n",
       "      <td>How many systems (from 1.1.1 and 1.1.2) encryp...</td>\n",
       "    </tr>\n",
       "    <tr>\n",
       "      <th>1</th>\n",
       "      <td>2.1.a</td>\n",
       "      <td>2_1_a</td>\n",
       "      <td>5-2-2.1.a</td>\n",
       "      <td>CNT</td>\n",
       "      <td>2</td>\n",
       "      <td>37001</td>\n",
       "      <td>2</td>\n",
       "      <td>Number of FISMA Low Systems</td>\n",
       "    </tr>\n",
       "    <tr>\n",
       "      <th>2</th>\n",
       "      <td>2.1.b</td>\n",
       "      <td>2_1_b</td>\n",
       "      <td>5-3-2.1.b</td>\n",
       "      <td>CNT</td>\n",
       "      <td>2</td>\n",
       "      <td>37002</td>\n",
       "      <td>3</td>\n",
       "      <td>Number of FISMA Moderate Systems</td>\n",
       "    </tr>\n",
       "    <tr>\n",
       "      <th>3</th>\n",
       "      <td>2.1.c</td>\n",
       "      <td>2_1_c</td>\n",
       "      <td>5-4-2.1.c</td>\n",
       "      <td>CNT</td>\n",
       "      <td>2</td>\n",
       "      <td>37003</td>\n",
       "      <td>4</td>\n",
       "      <td>Number of FISMA High Systems</td>\n",
       "    </tr>\n",
       "    <tr>\n",
       "      <th>4</th>\n",
       "      <td>2.2</td>\n",
       "      <td>2_2</td>\n",
       "      <td>5-5-2.2</td>\n",
       "      <td>LABEL</td>\n",
       "      <td>18</td>\n",
       "      <td>37004</td>\n",
       "      <td>5</td>\n",
       "      <td>How many systems (from 1.1.1 and 1.1.2) will o...</td>\n",
       "    </tr>\n",
       "    <tr>\n",
       "      <th>5</th>\n",
       "      <td>2.2.a</td>\n",
       "      <td>2_2_a</td>\n",
       "      <td>5-6-2.2.a</td>\n",
       "      <td>CNT</td>\n",
       "      <td>2</td>\n",
       "      <td>37005</td>\n",
       "      <td>6</td>\n",
       "      <td>Number of FISMA Low Systems</td>\n",
       "    </tr>\n",
       "  </tbody>\n",
       "</table>\n",
       "</div>"
      ],
      "text/plain": [
       "  identifier_text  {idt}         id CTRLCODE  FK_QuestionType  {PK_Question}  \\\n",
       "0             2.1    2_1    5-1-2.1    LABEL               18          37000   \n",
       "1           2.1.a  2_1_a  5-2-2.1.a      CNT                2          37001   \n",
       "2           2.1.b  2_1_b  5-3-2.1.b      CNT                2          37002   \n",
       "3           2.1.c  2_1_c  5-4-2.1.c      CNT                2          37003   \n",
       "4             2.2    2_2    5-5-2.2    LABEL               18          37004   \n",
       "5           2.2.a  2_2_a  5-6-2.2.a      CNT                2          37005   \n",
       "\n",
       "   sortpos                                     {QuestionText}  \n",
       "0        1  How many systems (from 1.1.1 and 1.1.2) encryp...  \n",
       "1        2                        Number of FISMA Low Systems  \n",
       "2        3                   Number of FISMA Moderate Systems  \n",
       "3        4                       Number of FISMA High Systems  \n",
       "4        5  How many systems (from 1.1.1 and 1.1.2) will o...  \n",
       "5        6                        Number of FISMA Low Systems  "
      ]
     },
     "execution_count": 110,
     "metadata": {},
     "output_type": "execute_result"
    }
   ],
   "source": []
  },
  {
   "cell_type": "code",
   "execution_count": null,
   "metadata": {},
   "outputs": [],
   "source": [
    "p=questionnaire_parser(ctx)\n",
    "df=p.parse()\n",
    "df.to_html('parsed.html')\n",
    "df.to_csv('parsed.csv')"
   ]
  },
  {
   "cell_type": "code",
   "execution_count": null,
   "metadata": {},
   "outputs": [],
   "source": [
    "input=\"\"\"\n",
    "What is the approximate time in years since deployment of this HVA?\n",
    " \n",
    "\"\"\".split('\\n')\n",
    "\n",
    "pr = picklist_recommender(connstr)\n",
    "r=pr.recommend(input, threshhold=.8, usecosine_sim=False)\n",
    "r"
   ]
  },
  {
   "cell_type": "code",
   "execution_count": null,
   "metadata": {},
   "outputs": [],
   "source": [
    "df=pd.read_csv(r'C:\\Users\\timko\\Downloads\\Agency Missing CVEs.csv').loc[:, ['cve_id', 'acronym','cdm_findings']]\n",
    "df=pd.merge(df,cl,how='left', left_on='acronym', right_on='acronym')\n",
    "df.loc[df['PK_component'].isnull()]"
   ]
  },
  {
   "cell_type": "code",
   "execution_count": null,
   "metadata": {},
   "outputs": [],
   "source": [
    "def to_sql(t):\n",
    "    cve_id,acronym,cdm_findings=t\n",
    "    s=f\"\"\"\n",
    "    INSERT INTO @T(PK_OrgSubmission, PK_CISA_CVE, CDMCountSubmitted, CDMDateSubmitted, SubmissionCount,UserId)\n",
    "    VALUES ( \n",
    "         (SELECT MAX(PK_OrgSubmission) FROM vwOrgSubToComponent WHERE Acronym='{acronym}' AND PK_ReportingCycle=108 AND OrgSub_Description='ACTIVE' AND OrgSub_Status='SUBO')\n",
    "        , '{cve_id}', {cdm_findings} , '11-14-2022' , {cdm_findings} , 2815 )\n",
    "    \"\"\" \n",
    "    return s\n",
    "df=pd.read_csv(r'C:\\Users\\timko\\Downloads\\Agency Missing CVEs.csv').loc[:, ['cve_id', 'acronym','cdm_findings']]\n",
    "df=pd.merge(df,cl,how='left', left_on='acronym', right_on='acronym')\n",
    "df=df.sort_values(by='acronym')\n",
    "df['sql']=[to_sql(i) for i in zip( df['cve_id'], df['acronym'], df['cdm_findings'] )]\n",
    "\n",
    "s=''.join([i for i in df['sql']])\n",
    "with open('script.sql', 'w') as f:\n",
    "    f.write(s)\n",
    "#print(s)"
   ]
  }
 ],
 "metadata": {
  "kernelspec": {
   "display_name": "Python 3.8.5 ('base')",
   "language": "python",
   "name": "python3"
  },
  "language_info": {
   "codemirror_mode": {
    "name": "ipython",
    "version": 3
   },
   "file_extension": ".py",
   "mimetype": "text/x-python",
   "name": "python",
   "nbconvert_exporter": "python",
   "pygments_lexer": "ipython3",
   "version": "3.8.5"
  },
  "orig_nbformat": 4,
  "vscode": {
   "interpreter": {
    "hash": "3a7c076192e1e16d3ee1a218e6831777c4d2e3a001a9a33f6decd6c7672cec63"
   }
  }
 },
 "nbformat": 4,
 "nbformat_minor": 2
}
