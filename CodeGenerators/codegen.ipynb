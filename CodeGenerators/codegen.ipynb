{
 "cells": [
  {
   "cell_type": "code",
   "execution_count": 1,
   "metadata": {},
   "outputs": [],
   "source": [
    "import pandas as pd\n",
    "import numpy as np \n",
    "import re, json, os , logging \n",
    "from lib.config import connstr\n",
    "from lib.context import context\n",
    "from lib.utils import * \n",
    "from lib.picklist_recommender import picklist_recommender\n",
    "from lib.issue_provider import issue_provider\n",
    "from lib.questionnaire_parser import questionnaire_parser\n",
    "from lib.questionnaire_picklist_parser import questionnaire_picklist_parser\n",
    "from lib.script_generator import script_generator \n",
    "from webdriver_manager.chrome import ChromeDriverManager\n",
    "from selenium.webdriver.chrome.options import Options\n",
    "from selenium import webdriver\n",
    "from selenium.webdriver.common.by import By\n",
    "from selenium.webdriver.support.ui import WebDriverWait\n",
    "from selenium.webdriver.support import expected_conditions as EC \n",
    "from bs4 import BeautifulSoup  \n",
    "ctx=context() \n",
    "ctx.logger.setLevel(logging.DEBUG)\n",
    "config = {}\n",
    "with open('config.json', 'r') as f: \n",
    "    config=json.loads(f.read())    \n",
    "ctx.config=config \n",
    "import warnings\n",
    "warnings.filterwarnings('ignore')\n"
   ]
  },
  {
   "cell_type": "code",
   "execution_count": 23,
   "metadata": {},
   "outputs": [],
   "source": [
    "def write_excel(filename,sheetname,dataframe):\n",
    "    with pd.ExcelWriter(filename, engine='openpyxl', mode='a') as writer: \n",
    "        workBook = writer.book\n",
    "        try:\n",
    "            workBook.remove(workBook[sheetname])\n",
    "        except:\n",
    "            print(\"Worksheet does not exist\")\n",
    "        finally:\n",
    "            dataframe.to_excel(writer, sheet_name=sheetname,index=False)\n",
    "            writer.save()"
   ]
  },
  {
   "cell_type": "code",
   "execution_count": 27,
   "metadata": {},
   "outputs": [],
   "source": [
    "df=pd.read_excel(r'C:\\Users\\Tim\\Downloads\\Bill-D-Robertson_TIC_CloudServices.xlsx',  sheet_name=int(0), header=0 ) \n",
    "lod=[]  \n",
    "for i in range(1,99):\n",
    "    d={}\n",
    "    for k in df.columns:\n",
    "        d[str(k)]=str(i)\n",
    "    lod.append(d)\n",
    "lod\n",
    "df=pd.DataFrame(lod)\n",
    "df\n",
    "write_excel(r'C:\\Users\\Tim\\Downloads\\Bill-D-Robertson_TIC_CloudServices.xlsx','Sheet1',df)\n",
    " "
   ]
  },
  {
   "cell_type": "code",
   "execution_count": null,
   "metadata": {},
   "outputs": [],
   "source": [
    "ip = issue_provider(ctx)  \n",
    "df=ip.parse_metrics('9311')\n",
    "df"
   ]
  },
  {
   "cell_type": "code",
   "execution_count": null,
   "metadata": {},
   "outputs": [],
   "source": [
    "ip.driver.quit()"
   ]
  },
  {
   "cell_type": "code",
   "execution_count": null,
   "metadata": {},
   "outputs": [],
   "source": [
    "# \n",
    "dr=pd.date_range(start='12/09/2022', end='12/31/2023')\n",
    "d={'date': [d.strftime('%Y-%m-%d') for d in dr ] }\n",
    "df=pd.DataFrame(d)\n",
    "df.reset_index(inplace=True)\n",
    "df['index']=df['index'].apply(lambda s : '5000' if s % 14==0 else 0  )\n",
    "df.to_csv(r'd:\\temp\\cal.csv', index=False)"
   ]
  },
  {
   "cell_type": "code",
   "execution_count": null,
   "metadata": {},
   "outputs": [],
   "source": [
    "\n",
    "d={'a':'L', 'b':'M', 'c':'H'}\n",
    "for i in range(1,11):\n",
    "    for k in d.keys(): \n",
    "        print(f\"\"\"\n",
    "            IF @ANS_7_{i}_{k} > @SUM_111_222_{d[k]}\n",
    "            BEGIN\n",
    "                INSERT INTO @ErrorTable  \n",
    "                SELECT  PK_Question, PK_FormPage, page_sort_pos, questgroup_sort_pos, quest_sort_pos\n",
    "                , ('The number provided for ' + identifier_text + ' should not exceed the value of 1.1.1 {d[k]} + 1.1.2 {d[k]} : '  + QuestionText) Error, identifier_text\n",
    "                FROM vw_OrgSubQuestions WHERE  identifier_text='7.{i}.{k}' AND PK_OrgSubmission = @PK_OrgSubmission  \n",
    "            END\"\"\")"
   ]
  },
  {
   "cell_type": "code",
   "execution_count": null,
   "metadata": {},
   "outputs": [],
   "source": []
  },
  {
   "cell_type": "code",
   "execution_count": null,
   "metadata": {},
   "outputs": [],
   "source": [
    "with open(ctx.get_tempalte_dir()+'sum.sql', 'r') as f:\n",
    "    s=f.read() \n",
    "df=sql_todf(\"\"\"\n",
    "SELECT DISTINCT IdText AS [{idt}], REPLACE(IdText, '.','_') [{var}],SectionNum, SortPos FROM vwQuestions  \n",
    "WHERE PK_FORM = '2023-Q1-CIO' AND IdText LIKE '4.1._._' ;\n",
    "\"\"\", connstr) \n",
    "\n",
    "df['{var}'] = df['{var}'].apply(lambda s : '@SUM_'+re.sub('_[a-z]$','',s))\n",
    "df['{idt}'] = df['{idt}'].apply(lambda s : f'\\'{s}\\'') \n",
    "df = df.groupby('{var}', as_index=False).agg({'{idt}':list})\n",
    "df"
   ]
  },
  {
   "cell_type": "code",
   "execution_count": null,
   "metadata": {},
   "outputs": [],
   "source": [
    "\n",
    "df['sql']=[s.replace('{idt}',','.join(x)).replace('{var}',y) for x,y in zip(df['{idt}'], df['{var}'])]\n",
    "with open(ctx.get_dest()+'script.sql', 'w') as f:\n",
    "    f.write( '\\n'.join(list(df['sql'])) ) \n",
    "df "
   ]
  },
  {
   "cell_type": "code",
   "execution_count": null,
   "metadata": {},
   "outputs": [],
   "source": [
    "with open(ctx.get_tempalte_dir()+'frmval.sql', 'r') as f:\n",
    "    s=f.read() \n",
    "df=sql_todf(\"\"\"\n",
    "SELECT DISTINCT IdText AS [{idt}], REPLACE(IdText, '.','_') [{var}], SortPos  FROM vwQuestions  \n",
    "WHERE PK_FORM = '2023-Q1-CIO'  AND IdText LIKE '7.%' AND Q_TypeID=2 \n",
    "ORDER BY SortPos;\n",
    " \n",
    "\"\"\", connstr) \n",
    "df['sql']=[s.replace('{idt}',x).replace('{var}',y) for x,y in zip(df['{idt}'], df['{var}'])]\n",
    "with open(ctx.get_dest()+'script.sql', 'w') as f:\n",
    "    f.write( '\\n'.join(list(df['sql'])) ) "
   ]
  },
  {
   "cell_type": "code",
   "execution_count": null,
   "metadata": {},
   "outputs": [],
   "source": [
    "\n",
    "\n",
    "df['sql']=s\n",
    "df['sql']=[x.replace('{idt}',y).replace('{var}',z) for x,y,z in zip(df['sql'], df['{idt}'], df['{var}'])]\n",
    " \n",
    "with open(ctx.get_dest()+'script.sql', 'w') as f:\n",
    "    f.write( '\\n'.join(list(df['sql'])) ) \n",
    "df"
   ]
  },
  {
   "cell_type": "code",
   "execution_count": null,
   "metadata": {},
   "outputs": [],
   "source": [
    "df,code=generate_code_from_db(ctx,4019) \n",
    "#generate_section(4018, code)\n",
    "df[:10]\n",
    "#sql=df_to_sql(df,ctx,template_name='fsma_QuestionsInsert.sql')"
   ]
  },
  {
   "cell_type": "code",
   "execution_count": null,
   "metadata": {},
   "outputs": [],
   "source": [
    "def generate_section(section, code=''): \n",
    "    df=sql_todf(\"SELECT DISTINCT PK_QuestionGroup, ASPX FROM vwQuestions  WHERE PK_FORM = '2023-Q1-CIO'\", connstr).set_index('PK_QuestionGroup' )\n",
    "    d=df.T.to_dict(orient='records')[0] \n",
    "    print(d)\n",
    "    path=f'C:\\\\dev\\\\CyberScope\\\\CyberScopeBranch\\\\CSwebdev\\\\code\\\\CyberScope\\\\{d[section]}'\n",
    "    with open(path, 'r', encoding='utf-16') as f:\n",
    "        s=f.read() \n",
    "    pname = d[section][d[section].rfind('/')+1:]\n",
    "    if '<!--questions-->' in s:\n",
    "        q=re.findall('<!--questions-->.+<!--\\/questions-->',s,re.DOTALL)[0]\n",
    "        s=s.replace(q,f'<!--questions-->\\n{code}\\n<!--/questions-->')\n",
    "        with open(f\"{ctx.get_dest()}{pname}\", 'w', encoding='utf-16') as f:\n",
    "            f.write(s) \n",
    "\n"
   ]
  },
  {
   "cell_type": "code",
   "execution_count": null,
   "metadata": {},
   "outputs": [],
   "source": [
    "\n",
    "def parse_grid(tnum, pk, QCol='Question', PivotCols=4): \n",
    "    driver.get(f\"https://dayman.cyber-balance.com/jira/si/jira.issueviews:issue-html/CS-{tnum}/CS-{tnum}.html\")   \n",
    "    ldf = pd.read_html(driver.page_source, match=\"\\d\\.\\d\\.\\d\", header=1)\n",
    "    df=ldf[0].iloc[:,:].rename(columns={QCol: \"QuestionText\"})\n",
    " \n",
    "    df['identifier_text'] = df['QuestionText'].apply(lambda s: re.findall('^[\\d\\.\\w]{1,7}',s)[0])\n",
    "    stypes = {k: chr(v+97) for v, k in enumerate(list(df.columns[1:4]))} \n",
    "    print(stypes)\n",
    "    df=df.loc[:,['QuestionText','identifier_text']] \n",
    "    df['CTRLCODE']='LABEL'\n",
    "    lod=df.to_dict(orient='records')\n",
    "    l=[]\n",
    "    for i,r in enumerate(lod):\n",
    "        l.append(lod[i])\n",
    "        for k in stypes.keys():\n",
    "            id=lod[i]['identifier_text']+'.'+stypes[k]\n",
    "            l.append({\n",
    "                'identifier_text':id\n",
    "                , 'QuestionText': id+' '+k\n",
    "                , 'CTRLCODE':'CNT'\n",
    "                })\n",
    "    df=pd.DataFrame(l)\n",
    "    df['{PK_Question}'] = range(pk,len(df)+pk)\n",
    "    df['sortpos'] = range(1,len(df)+1) \n",
    "    df['FK_QuestionType'] = df['CTRLCODE'].apply(lambda s: 2 if s=='CNT' else 18)\n",
    "    df['QuestionText']=df['QuestionText'].apply(lambda s: re.sub('^[\\d\\.\\w]{1,7}','',s, count=1).strip())\n",
    "    df['{QuestionText}']=df['QuestionText']\n",
    "    df['{idt}'] = df['identifier_text'].str.replace('.','_')\n",
    "    with open (ctx.get_tempalte_dir()+'fsma_QuestionsInsert.sql', 'r') as f:\n",
    "        df['sql']=f.read() \n",
    "    for i,r in df.iterrows():\n",
    "        for c in df.columns: \n",
    "            df.loc[i,'sql']= re.sub(str(c),str(df.loc[i,c]),df.loc[i,'sql'])  \n",
    "    sql='\\n,'.join(df['sql'])\n",
    "    with open(f'{ctx.get_dest()}script.sql', 'w') as f:\n",
    "        f.write(sql)\n",
    "\n",
    "    gen=script_generator(ctx)\n",
    "    code=gen.generate(df)\n",
    "    with open(f'{ctx.get_dest()}script.aspx', 'w') as f:\n",
    "        f.write(code)\n",
    "    \n",
    "    return df,sql,code\n",
    "\n",
    "# df,sql,code=parse_grid('9295',37400, QCol='Type of Test')\n",
    "# print(sql)"
   ]
  },
  {
   "cell_type": "code",
   "execution_count": null,
   "metadata": {},
   "outputs": [],
   "source": [
    "df=pd.DataFrame(range(1,2))\n",
    "df[\"identifier_text\"]=df[0].apply(lambda s : '3.3.'+str(s))\n",
    "df['CTRLCODE']='LABEL'\n",
    "df['m']=[['a Tier EL0 Not Effective','b Tier EL1 Basic','c Tier EL2 Intermediate','d Tier EL3 Advanced'] for i in range(len(df))]\n",
    "lbls=df\n",
    "df=df.explode('m')\n",
    "df=pd.concat([lbls,df]) \n",
    "df['CTRLCODE']=df['m'].apply(lambda s: 2 if type(s)==str else 18)\n",
    "df.sort_values([0,'CTRLCODE'], ascending=[True,False], inplace=True) \n",
    "df['m']=df['m'].apply(lambda s: s if type(s)!=list else '') \n",
    "df['QuestionText']=  df['m'].apply(lambda s: s[2:])\n",
    "df[\"identifier_text\"]=df[\"identifier_text\"]+ ''+ df['m'].apply(lambda s: s.split(' ')[0])\n",
    "df['{PK_Question}'] = range(37250,len(df)+37250)\n",
    "df['sortpos'] = range(50,len(df)+50) \n",
    "df['FK_QuestionType'] = df['CTRLCODE']\n",
    "df['CTRLCODE'] = df['FK_QuestionType'].apply(lambda s: 'CNT' if s==2 else 'LABEL')  \n",
    "df['{idt}'] = df['identifier_text'].str.replace('.','_')\n",
    "df.drop(columns=[0,'m'], inplace=True)\n",
    "df\n",
    " \n"
   ]
  },
  {
   "cell_type": "code",
   "execution_count": null,
   "metadata": {},
   "outputs": [],
   "source": [
    "d, lod={'a':'1.1.1', 'b':'1.1.2'},[]\n",
    " \n",
    "for i in range(1,7):\n",
    "    for k in d.keys(): \n",
    "        print(f\"\"\"\n",
    "            IF @ANS_7_1_{i}_{k} > @SUM_{d[k].replace('.','')}\n",
    "            BEGIN\n",
    "                INSERT INTO @ErrorTable  \n",
    "                SELECT  PK_Question, PK_FormPage, page_sort_pos, questgroup_sort_pos, quest_sort_pos\n",
    "                , ('The number provided for ' + identifier_text + ' should not exceed the value of {d[k]} : '  + QuestionText) Error, identifier_text\n",
    "                FROM vw_OrgSubQuestions WHERE  identifier_text='7.1.{i}.{k}' AND PK_OrgSubmission = @PK_OrgSubmission  \n",
    "            END\"\"\")"
   ]
  },
  {
   "cell_type": "code",
   "execution_count": null,
   "metadata": {},
   "outputs": [],
   "source": [
    "d, lod={'a':'L', 'b':'M', 'c':'H'},[]\n",
    " \n",
    "for i in range(1,12):\n",
    "    for k in d.keys(): \n",
    "        lod.append({\n",
    "            'SectionText':'S2'\n",
    "            ,'MetricXPath':f'//*[contains(@class, \\'qid_2_{i}_{k}\\')]'\n",
    "            ,'ErrorAttemptExpression':f'( 1.1.1{d[k]} + 1.1.2{d[k]} ) + 1 '\n",
    "            ,'ExpectedError':f'2.{i}.{k} should not exceed'\n",
    "        }) \n",
    "df=pd.DataFrame(lod)\n",
    "df.to_csv(r'D:\\dev\\CyberScope\\CyberScopeBranch\\CSwebdev\\code\\CyberScope.Tests\\Selenium\\TestData\\Q1.csv', index=False)\n",
    " "
   ]
  },
  {
   "cell_type": "code",
   "execution_count": 34,
   "metadata": {},
   "outputs": [],
   "source": [
    "df=pd.read_csv(r'C:\\Users\\Tim\\Downloads\\Test_CDM_Data.csv') \n",
    "df=df.applymap(lambda s: s.replace(',',''))\n",
    "lod=df.to_dict(orient='records')\n",
    "s=''\n",
    "for d in lod:\n",
    "    s=s+f\"\"\"\n",
    "UPDATE CVEUnremediated \n",
    "SET CDMCountSubmitted={d['count']},SubmissionCount={d['count']}\n",
    "WHERE PK_OrgSubmission = (\n",
    "    SELECT MAX(PK_OrgSubmission) FROM vwOrgSubToComponent\n",
    "    WHERE Acronym='{d['agency']}' \n",
    "    AND PK_CISA_CVE='{d['cve id']}'\n",
    "    AND PK_ReportingCycle=108\n",
    "    AND OrgSub_Description = 'ACTIVE'\n",
    ") \n",
    "    \"\"\"\n",
    "with open(f'{ctx.get_dest()}script.sql', 'w') as f:\n",
    "    f.write(s)"
   ]
  }
 ],
 "metadata": {
  "kernelspec": {
   "display_name": "Python 3.8.8 ('base')",
   "language": "python",
   "name": "python3"
  },
  "language_info": {
   "codemirror_mode": {
    "name": "ipython",
    "version": 3
   },
   "file_extension": ".py",
   "mimetype": "text/x-python",
   "name": "python",
   "nbconvert_exporter": "python",
   "pygments_lexer": "ipython3",
   "version": "3.8.8"
  },
  "orig_nbformat": 4,
  "vscode": {
   "interpreter": {
    "hash": "1b5c637c5c17e7841ce3b55fac6772e1460db6e5f5b3923b76ec2696de093845"
   }
  }
 },
 "nbformat": 4,
 "nbformat_minor": 2
}
