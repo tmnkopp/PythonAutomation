{
 "cells": [
  {
   "cell_type": "code",
   "execution_count": 152,
   "metadata": {},
   "outputs": [],
   "source": [
    "import pandas as pd\n",
    "import numpy as np \n",
    "import re, json, os , logging , random, html, datetime, openpyxl\n",
    "from lib.config import connstr\n",
    "from lib.context import context\n",
    "from lib.utils import * \n",
    "from lib.picklist_recommender import picklist_recommender\n",
    "from lib.issue_provider import issue_provider\n",
    "from lib.questionnaire_parser import questionnaire_parser\n",
    "from lib.questionnaire_picklist_parser import questionnaire_picklist_parser\n",
    "from lib.script_generator import script_generator \n",
    "from webdriver_manager.chrome import ChromeDriverManager\n",
    "from selenium.webdriver.chrome.options import Options\n",
    "from selenium import webdriver\n",
    "from selenium.webdriver.common.by import By\n",
    "from selenium.webdriver.support.ui import WebDriverWait\n",
    "from selenium.webdriver.support import expected_conditions as EC \n",
    "from bs4 import BeautifulSoup  \n",
    "ctx=context() \n",
    "ctx.logger.setLevel(logging.DEBUG)\n",
    "config = {}\n",
    "with open('config.json', 'r') as f: \n",
    "    config=json.loads(f.read())    \n",
    "ctx.config=config \n",
    "import warnings\n",
    "warnings.filterwarnings('ignore')\n",
    "\n",
    "#df, code = generate_code_from_db(ctx, qgroup=4028)\n",
    "\n"
   ]
  },
  {
   "cell_type": "code",
   "execution_count": null,
   "metadata": {},
   "outputs": [],
   "source": [
    "df=pd.read_excel(f'{f}', sheet_name=0, header=0, usecols='A,AJ,CZ:DI',index_col=0).reset_index()\n",
    "for c in df.columns:\n",
    "    if 'Unnamed' in c:\n",
    "        df.drop(columns=c, inplace=True)\n",
    "df.applymap(lambda x: re.sub('[^\\x00-\\x7F]','',str(x)) )"
   ]
  },
  {
   "cell_type": "code",
   "execution_count": null,
   "metadata": {},
   "outputs": [],
   "source": [
    "\n",
    "converts={\n",
    "    'Selections':lambda x: re.sub('\\d{,2}\\.','',str(x)).upper().strip()\n",
    "    , 'ML':lambda x: str(x).strip()\n",
    "    , 'SML':lambda x: re.sub('[^A-Z0-9]','',str(x)).strip()  }\n",
    "df=pd.read_excel(f'{f}', sheet_name=0, header=0, usecols='A:X',index_col=0).reset_index()\n",
    "df\n"
   ]
  },
  {
   "cell_type": "code",
   "execution_count": 156,
   "metadata": {},
   "outputs": [
    {
     "name": "stdout",
     "output_type": "stream",
     "text": [
      "<CB:DataField  DBColumnName=\"Agency Name\" ImportColumnName=\"Agency Name\"  runat=\"server\"/> \n",
      "<CB:DataField  DBColumnName=\"Key Length\" ImportColumnName=\"Key Length\"  runat=\"server\"/> \n",
      "<CB:DataField  DBColumnName=\"On Premises\" ImportColumnName=\"On Premises\"  runat=\"server\"/> \n",
      "<CB:DataField  DBColumnName=\"Commercial - Amazon Web Services (AWS)\" ImportColumnName=\"Commercial - Amazon Web Services (AWS)\"  runat=\"server\"/> \n",
      "<CB:DataField  DBColumnName=\"Cloud Service Offering\" ImportColumnName=\"Cloud Service Offering\"  runat=\"server\"/> \n",
      "<CB:DataField  DBColumnName=\"Hybrid Cloud Providers.1\" ImportColumnName=\"Hybrid Cloud Providers.1\"  runat=\"server\"/> \n",
      "<CB:DataField  DBColumnName=\"FIPS 199\" ImportColumnName=\"FIPS 199\"  runat=\"server\"/> \n"
     ]
    }
   ],
   "source": [
    "with open(ctx.get_tempalte_dir()+'temp.aspx', 'r') as f: \n",
    "    t=f.read() \n",
    "    for c in df.columns: \n",
    "        print(t.replace(\"{col}\",c.strip()).replace(\"{icn}\",c.strip())  ) "
   ]
  },
  {
   "cell_type": "code",
   "execution_count": null,
   "metadata": {},
   "outputs": [],
   "source": [
    "pl=sql_todf(\"\"\"\n",
    "SELECT UPPER(LTRIM(RTRIM(DisplayValue))) [Selections], PK_PickList [ML_Value], PK_PickListType [PLT]\n",
    "FROM vwPickLists   WHERE PK_PickListType > 410 ORDER BY PK_PickListType DESC\n",
    "\"\"\", connstr)  \n",
    "s=list(pl.loc[pl['PLT']==427]['Selections'])\n",
    "print(s) "
   ]
  },
  {
   "cell_type": "code",
   "execution_count": null,
   "metadata": {},
   "outputs": [],
   "source": [
    "base = r\"C:\\\\dev\\\\CyberScope\\\\CyberScopeBranch\\\\CSwebdev\\\\code\\\\CyberScope\\\\HVA\\\\2023\\\\\"\n",
    "pages = {\n",
    "       '3':'4045','4':'4046','5':'4047' \n",
    "} \n",
    "src = r'C:\\\\_som\\\\tmp\\\\'\n",
    "for i in pages.keys():\n",
    "    exts = ['.aspx','.aspx.designer.vb','.aspx.vb']\n",
    "    for ext in exts:\n",
    "        with open(f'{src}2023_HVA_MonitoringAndDetection_1{ext}', 'r', encoding='UTF-8') as fr:\n",
    "            txt = fr.read()\n",
    "            txt=txt.replace(f'11',f'{i}{i}')\n",
    "            txt=txt.replace(f'_1',f'_{i}')\n",
    "            txt=txt.replace(f'\"4043\"',f'\"{pages[i]}\"')\n",
    "            df, code = generate_code_from_db(ctx, qgroup=pages[i])\n",
    "            txt=txt.replace(f'<!--controls-->',code)\n",
    "            #print(txt)\n",
    "        with open(f'{base}2023_HVA_MonitoringAndDetection_{i}{ext}', 'w', encoding='UTF-8') as fw:\n",
    "            fw.write(txt)"
   ]
  },
  {
   "cell_type": "code",
   "execution_count": 153,
   "metadata": {},
   "outputs": [
    {
     "name": "stderr",
     "output_type": "stream",
     "text": [
      "\n",
      "\n",
      "====== WebDriver manager ======\n",
      "Current google-chrome version is 110.0.5481\n",
      "Get LATEST driver version for 110.0.5481\n",
      "There is no [win32] chromedriver for browser 110.0.5481 in cache\n",
      "Get LATEST driver version for 110.0.5481\n",
      "Trying to download new driver from https://chromedriver.storage.googleapis.com/110.0.5481.77/chromedriver_win32.zip\n",
      "Driver has been saved in cache [C:\\Users\\timko\\.wdm\\drivers\\chromedriver\\win32\\110.0.5481.77]\n"
     ]
    },
    {
     "name": "stdout",
     "output_type": "stream",
     "text": [
      "        Key                                                                                                                 Summary\n",
      "0   CS-9449                                                  Post Quantum Cryptography (PQC) Data Call 2023 - Admin Approval/Reopen\n",
      "1   CS-9448                                                 Post Quantum Cryptography (PQC) Data Call 2023 - User Submission/Reopen\n",
      "2   CS-9446                                                   Post Quantum Cryptography (PQC) Data Call 2023 - Validate and Approve\n",
      "3   CS-9444                                    Post Quantum Cryptography (PQC) Data Call 2023 - Section 1 - Upload/Download Feature\n",
      "4   CS-9443                                                       Post Quantum Cryptography (PQC) Data Call 2023 - Section 1 - Form\n",
      "5   CS-9442                                            Post Quantum Cryptography (PQC) Data Call 2023 - Section 1 - Database Script\n",
      "6   CS-9432                                                                  2023 FISMA CIO Q2 Data Call: Validate and Approve Page\n",
      "7   CS-9431                                                                    2023 FISMA CIO Q2 Data Call: Section 10 - Resilience\n",
      "8   CS-9426                                                               2023 FISMA CIO Q2 Data Call: Section 5- Implementing IPv6\n",
      "9   CS-9425                                                               2023 FISMA CIO Q2 Data Call: Section 4- Critical Software\n",
      "10  CS-9424                                                                         2023 FISMA CIO Q2 Data Call: Section 3- Logging\n",
      "11  CS-9423                                        2023 FISMA CIO Q2 Data Call: Section 2-Multifactor Authentication and Encryption\n",
      "12  CS-9421                                           2023 FISMA CIO Q2 Data Call: Section 1B - Enumerating the Environment- Assets\n",
      "13  CS-9413                                                                2023 FISMA CIO Q2 Data Call: Section 4 - Database Script\n",
      "14  CS-9412                                                                 2023 FISMA CIO Q2 Data Call: Section 3 -Database Script\n",
      "15  CS-9411                                                                2023 FISMA CIO Q2 Data Call: Section 2 - Database Script\n",
      "16  CS-9406                                                                                                       update trunk 7.51\n",
      "17  CS-9401                   HVA Self-Assessment: Monitoring and Detection- Appendix A: Monitoring and Detection Scoring Dashboard\n",
      "18  CS-9395  HVA Self-Assessment: Monitoring and Detection- Appendix A: Monitoring and Detection Scoring Dashboard- Database Script\n",
      "19  CS-9379                                     HVA Self-Assessment: Data Protection- Appendix A: Data Protection Scoring Dashboard\n",
      "20  CS-9378                    HVA Self-Assessment: Data Protection- Appendix A: Data Protection Scoring Dashboard- Database Script\n",
      "21  CS-9317                                                                  2023 FISMA CIO Q1 Data Call: Validate and Approve Page\n",
      "22  CS-9309                                                               2023 FISMA CIO Q1 Data Call: Section 4- Critical Software\n",
      "23  CS-9295                                                                 2023 FISMA CIO Q1 Data Call: Section 3 -Database Script\n",
      "24  CS-9261                                                                     BOD 18-02 Annual 2023: Manage HVAs Agency Interface\n",
      "25  CS-8885                                                                                    create data request/response service\n",
      "26  CS-8678                                                     BOD 18-02 Annual HVA 2021: Update 'Manage HVA Interface' Audit Logs\n",
      "27  CS-8459                                                                                     Selenium Browser Automator Refactor\n",
      "28  CS-8279                                Allow for multiple HVAs to be associated to a single HVA for BOD 18-02 Remediation Plans\n",
      "29  CS-8216                                                             EINSTEIN Global Audit History: Update Audit History Queries\n",
      "30  CS-8200                                                                   EINSTEIN Network Channels: Update ASN Grid Validation\n",
      "31  CS-8197                                                                           EINSTEIN BGP Info: Update ASN Grid Validation\n",
      "32  CS-8196                                                                     EINSTEIN BGP Info: Update BGP Route Grid Validation\n",
      "33  CS-8195                                                              EINSTEIN BGP Info: Update BGP Route File Upload Validation\n",
      "34  CS-8189                                                                  EINSTEIN Unannounced IP Space: IPv6 Address Validation\n",
      "35  CS-8185                                                      EINSTEIN Global Grid Update: Treat RETURN/ENTER key same as UPDATE\n",
      "36  CS-6999                                                                                                  Update US-CERT Dashlet\n"
     ]
    }
   ],
   "source": [
    "ip = issue_provider(ctx)  \n",
    "ip.driver.quit()\n",
    "#ip.issues\n",
    "print(ip.issues.to_string())"
   ]
  },
  {
   "cell_type": "code",
   "execution_count": null,
   "metadata": {},
   "outputs": [],
   "source": [
    "ip.driver.quit()"
   ]
  },
  {
   "cell_type": "code",
   "execution_count": 154,
   "metadata": {},
   "outputs": [
    {
     "name": "stdout",
     "output_type": "stream",
     "text": [
      "        Key                                                                                                                 Summary\n",
      "0   CS-9449                                                  Post Quantum Cryptography (PQC) Data Call 2023 - Admin Approval/Reopen\n",
      "1   CS-9448                                                 Post Quantum Cryptography (PQC) Data Call 2023 - User Submission/Reopen\n",
      "2   CS-9446                                                   Post Quantum Cryptography (PQC) Data Call 2023 - Validate and Approve\n",
      "3   CS-9444                                    Post Quantum Cryptography (PQC) Data Call 2023 - Section 1 - Upload/Download Feature\n",
      "4   CS-9443                                                       Post Quantum Cryptography (PQC) Data Call 2023 - Section 1 - Form\n",
      "5   CS-9442                                            Post Quantum Cryptography (PQC) Data Call 2023 - Section 1 - Database Script\n",
      "6   CS-9432                                                                  2023 FISMA CIO Q2 Data Call: Validate and Approve Page\n",
      "7   CS-9431                                                                    2023 FISMA CIO Q2 Data Call: Section 10 - Resilience\n",
      "8   CS-9426                                                               2023 FISMA CIO Q2 Data Call: Section 5- Implementing IPv6\n",
      "9   CS-9425                                                               2023 FISMA CIO Q2 Data Call: Section 4- Critical Software\n",
      "10  CS-9424                                                                         2023 FISMA CIO Q2 Data Call: Section 3- Logging\n",
      "11  CS-9423                                        2023 FISMA CIO Q2 Data Call: Section 2-Multifactor Authentication and Encryption\n",
      "12  CS-9421                                           2023 FISMA CIO Q2 Data Call: Section 1B - Enumerating the Environment- Assets\n",
      "13  CS-9413                                                                2023 FISMA CIO Q2 Data Call: Section 4 - Database Script\n",
      "14  CS-9412                                                                 2023 FISMA CIO Q2 Data Call: Section 3 -Database Script\n",
      "15  CS-9411                                                                2023 FISMA CIO Q2 Data Call: Section 2 - Database Script\n",
      "16  CS-9406                                                                                                       update trunk 7.51\n",
      "17  CS-9401                   HVA Self-Assessment: Monitoring and Detection- Appendix A: Monitoring and Detection Scoring Dashboard\n",
      "18  CS-9395  HVA Self-Assessment: Monitoring and Detection- Appendix A: Monitoring and Detection Scoring Dashboard- Database Script\n",
      "19  CS-9379                                     HVA Self-Assessment: Data Protection- Appendix A: Data Protection Scoring Dashboard\n",
      "20  CS-9378                    HVA Self-Assessment: Data Protection- Appendix A: Data Protection Scoring Dashboard- Database Script\n",
      "21  CS-9317                                                                  2023 FISMA CIO Q1 Data Call: Validate and Approve Page\n",
      "22  CS-9309                                                               2023 FISMA CIO Q1 Data Call: Section 4- Critical Software\n",
      "23  CS-9295                                                                 2023 FISMA CIO Q1 Data Call: Section 3 -Database Script\n",
      "24  CS-9261                                                                     BOD 18-02 Annual 2023: Manage HVAs Agency Interface\n",
      "25  CS-8885                                                                                    create data request/response service\n",
      "26  CS-8678                                                     BOD 18-02 Annual HVA 2021: Update 'Manage HVA Interface' Audit Logs\n",
      "27  CS-8459                                                                                     Selenium Browser Automator Refactor\n",
      "28  CS-8279                                Allow for multiple HVAs to be associated to a single HVA for BOD 18-02 Remediation Plans\n",
      "29  CS-8216                                                             EINSTEIN Global Audit History: Update Audit History Queries\n",
      "30  CS-8200                                                                   EINSTEIN Network Channels: Update ASN Grid Validation\n",
      "31  CS-8197                                                                           EINSTEIN BGP Info: Update ASN Grid Validation\n",
      "32  CS-8196                                                                     EINSTEIN BGP Info: Update BGP Route Grid Validation\n",
      "33  CS-8195                                                              EINSTEIN BGP Info: Update BGP Route File Upload Validation\n",
      "34  CS-8189                                                                  EINSTEIN Unannounced IP Space: IPv6 Address Validation\n",
      "35  CS-8185                                                      EINSTEIN Global Grid Update: Treat RETURN/ENTER key same as UPDATE\n",
      "36  CS-6999                                                                                                  Update US-CERT Dashlet\n"
     ]
    }
   ],
   "source": [
    "print(ip.issues.to_string())"
   ]
  },
  {
   "cell_type": "code",
   "execution_count": null,
   "metadata": {},
   "outputs": [],
   "source": [
    "with open(ctx.get_tempalte_dir()+'frmval.sql', 'r') as f:\n",
    "    s=f.read() \n",
    "df=sql_todf(\"\"\"\n",
    "SELECT DISTINCT IdText AS [{idt}], REPLACE(IdText, '.','_') [{var}], SortPos  FROM vwQuestions  \n",
    "WHERE PK_FORM = '2023-Q1-CIO'  AND IdText LIKE '2.%' AND Q_TypeID=2 \n",
    "ORDER BY SortPos;\n",
    " \n",
    "\"\"\", connstr) \n",
    "df['sql']=[s.replace('{idt}',x).replace('{var}',y) for x,y in zip(df['{idt}'], df['{var}'])]\n",
    " \n",
    "with open(ctx.get_dest()+'script.sql', 'w') as f:\n",
    "    f.write( '\\n'.join(list(df['sql'])) ) "
   ]
  },
  {
   "cell_type": "code",
   "execution_count": null,
   "metadata": {},
   "outputs": [],
   "source": [
    "df,code=generate_code_from_db(ctx,4019) \n",
    "#generate_section(4018, code)\n",
    "df[:10]\n",
    "#sql=df_to_sql(df,ctx,template_name='fsma_QuestionsInsert.sql')"
   ]
  },
  {
   "cell_type": "code",
   "execution_count": null,
   "metadata": {},
   "outputs": [],
   "source": [
    "\n",
    "def parse_grid(tnum, pk, QCol='Question', PivotCols=4): \n",
    "    ip = issue_provider(ctx)\n",
    "    driver=ip.driver\n",
    "    driver.get(f\"https://dayman.cyber-balance.com/jira/si/jira.issueviews:issue-html/CS-{tnum}/CS-{tnum}.html\")   \n",
    "    ldf = pd.read_html(driver.page_source, match=\"\\d\\.\\d\\.\\d\", header=1)\n",
    "    df=ldf[0].iloc[:,:].rename(columns={QCol: \"QuestionText\"})\n",
    " \n",
    "    df['identifier_text'] = df['QuestionText'].apply(lambda s: re.findall('^[\\d\\.\\w]{1,7}',s)[0])\n",
    "    stypes = {k: chr(v+97) for v, k in enumerate(list(df.columns[1:4]))} \n",
    "    print(stypes)\n",
    "    df=df.loc[:,['QuestionText','identifier_text']] \n",
    "    df['CTRLCODE']='LABEL'\n",
    "    lod=df.to_dict(orient='records')\n",
    "    l=[]\n",
    "    for i,r in enumerate(lod):\n",
    "        l.append(lod[i])\n",
    "        for k in stypes.keys():\n",
    "            id=lod[i]['identifier_text']+'.'+stypes[k]\n",
    "            l.append({\n",
    "                'identifier_text':id\n",
    "                , 'QuestionText': id+' '+k\n",
    "                , 'CTRLCODE':'CNT'\n",
    "                })\n",
    "    df=pd.DataFrame(l)\n",
    "    df['{PK_Question}'] = range(pk,len(df)+pk)\n",
    "    df['sortpos'] = range(1,len(df)+1) \n",
    "    df['FK_QuestionType'] = df['CTRLCODE'].apply(lambda s: 2 if s=='CNT' else 18)\n",
    "    df['QuestionText']=df['QuestionText'].apply(lambda s: re.sub('^[\\d\\.\\w]{1,7}','',s, count=1).strip())\n",
    "    df['{QuestionText}']=df['QuestionText']\n",
    "    df['{idt}'] = df['identifier_text'].str.replace('.','_')\n",
    "    with open (ctx.get_tempalte_dir()+'fsma_QuestionsInsert.sql', 'r') as f:\n",
    "        df['sql']=f.read() \n",
    "    for i,r in df.iterrows():\n",
    "        for c in df.columns: \n",
    "            df.loc[i,'sql']= re.sub(str(c),str(df.loc[i,c]),df.loc[i,'sql'])  \n",
    "    sql='\\n,'.join(df['sql'])\n",
    "    with open(f'{ctx.get_dest()}script.sql', 'w') as f:\n",
    "        f.write(sql)\n",
    "\n",
    "    gen=script_generator(ctx)\n",
    "    code=gen.generate(df)\n",
    "    with open(f'{ctx.get_dest()}script.aspx', 'w') as f:\n",
    "        f.write(code)\n",
    "    \n",
    "    return df,sql,code\n",
    "\n",
    "# df,sql,code=parse_grid('9295',37400, QCol='Type of Test')\n",
    "# print(sql)"
   ]
  },
  {
   "cell_type": "code",
   "execution_count": null,
   "metadata": {},
   "outputs": [],
   "source": [
    "ctrl=''\n",
    "with open(f'{ctx.get_tempalte_dir()}TXT_OPT.aspx', 'r') as f:\n",
    "    ctrl=f.read().replace('\\n','')\n",
    "\n",
    "def met_provider(s):  \n",
    "    if type(s) != str : return s\n",
    "    m=re.findall('\\d{1,2}\\.\\d{1,2}\\.?\\d{0,2}\\.?[\\.\\d\\w]?', s)  \n",
    "    return m[0] if len(m) > 0 else ''\n",
    "\n",
    "def cell_provider(s, i):  \n",
    "    if type(s) != str : return s\n",
    "    m=re.findall('\\d{1,2}\\.\\d{1,2}\\.?\\d{0,2}\\.?[\\.\\d\\w]?', s)\n",
    "    d={0:'a.i',1:'a.ii',2:'b.i',3:'b.ii',4:'c.i',5:'c.ii' } \n",
    "    idt=f'{m[0]}.{d[i]}'\n",
    "    c=ctrl.replace('{idt}',idt.replace('.','_'))\n",
    "    return f'{c}' if len(m) > 0 else ''\n",
    "\n",
    "def lbl_provider(s): \n",
    "    if type(s) != str : return s\n",
    "    lbl='<uc:CBlabel ID=\"CBlabel_{idt}_i\" PK_key=\"{idt}\" runat=\"server\" LabelType=\"Question\" />'   \n",
    "    m=re.findall('\\d{1,2}\\.\\d{1,2}\\.?\\d{0,2}\\.?[\\.\\d\\w]?', s) \n",
    "    idt=f'{m[0]}'\n",
    "    c=lbl.replace('{idt}',idt.replace('.','_'))\n",
    "    return c\n",
    "def get_ids():\n",
    "    dff=sql_todf(\"SELECT replace(idtext, '.','_') id, pk_question  FROM vwQuestions WHERE PK_QuestionGroup=4014\", ctx.config['connstr'])\n",
    "    print(dff.iloc[0])\n",
    "    ids = {k:v for k, v in zip(dff['id'], dff['pk_question'] )  }\n",
    "    return ids\n",
    "ids=get_ids()   \n",
    "list(ids.keys())[3:5] \n",
    " "
   ]
  },
  {
   "cell_type": "code",
   "execution_count": null,
   "metadata": {},
   "outputs": [],
   "source": [
    "df=pd.read_excel(r'C:\\Users\\Tim\\Documents\\CIO\\CIO_SECTION_2.xlsx',  sheet_name='All', header=0 ) # Enterprise Identities  # Public Identities \n",
    "\n",
    "#df.fillna('', inplace=True)\n",
    "#df.drop([0], axis=0, inplace=True)\n",
    "df.rename(columns={'Unnamed: 2':'.','Unnamed: 4':'..','Unnamed: 6':'...'}, inplace=True)\n",
    "for i,c in enumerate(df.columns[1:]): \n",
    "    df.loc[1:,c] = df.loc[1:, 'Question'].apply(lambda s:  cell_provider(s,i)  )\n",
    "\n",
    "#mets = [str(m)  for m in list(dff['m']) if '2' in str(m) ]  \n",
    "\n",
    "df['Question']=df['Question'].apply(lbl_provider )\n",
    "df.to_html(f'{ctx.get_dest()}parsed.html',index=False)\n",
    " \n",
    "s=''\n",
    "with open(f'{ctx.get_dest()}parsed.html', 'r') as f:\n",
    "    s=f.read()\n",
    "s=re.sub('<th>\\.{1,3}</th>','',s)\n",
    "s=re.sub('th>','td>',s) \n",
    "s=re.sub('<td>Number','<td colspan=\"2\">Number',s)\n",
    "\n",
    "s=re.sub('<thead>|</thead>|<tbody>|</tbody>','',s) \n",
    "for k in ids:\n",
    "    s=s.replace(f'PK_key=\"{k}\"',f'PK_key=\"{str(ids[k])}\"' )\n",
    "    s=s.replace(f'PK_Question=\"{k}\"',f'PK_Question=\"{str(ids[k])}\"' )\n",
    "with open(f'{ctx.get_dest()}script.html', 'w') as f: \n",
    "    s=html.unescape(s) \n",
    "    f.write(s)\n",
    "df[:5]"
   ]
  }
 ],
 "metadata": {
  "kernelspec": {
   "display_name": "base",
   "language": "python",
   "name": "python3"
  },
  "language_info": {
   "codemirror_mode": {
    "name": "ipython",
    "version": 3
   },
   "file_extension": ".py",
   "mimetype": "text/x-python",
   "name": "python",
   "nbconvert_exporter": "python",
   "pygments_lexer": "ipython3",
   "version": "3.8.5"
  },
  "orig_nbformat": 4,
  "vscode": {
   "interpreter": {
    "hash": "3a7c076192e1e16d3ee1a218e6831777c4d2e3a001a9a33f6decd6c7672cec63"
   }
  }
 },
 "nbformat": 4,
 "nbformat_minor": 2
}
