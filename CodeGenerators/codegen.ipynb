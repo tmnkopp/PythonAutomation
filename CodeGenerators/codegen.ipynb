{
 "cells": [
  {
   "cell_type": "code",
   "execution_count": null,
   "metadata": {},
   "outputs": [],
   "source": [
    "import pandas as pd\n",
    "import numpy as np \n",
    "import re, json, os , logging \n",
    "from lib.config import connstr\n",
    "from lib.context import context\n",
    "from lib.utils import * \n",
    "from lib.picklist_recommender import picklist_recommender\n",
    "from lib.issue_provider import issue_provider\n",
    "from lib.questionnaire_parser import questionnaire_parser\n",
    "from lib.questionnaire_picklist_parser import questionnaire_picklist_parser\n",
    "from lib.script_generator import script_generator \n",
    "from webdriver_manager.chrome import ChromeDriverManager\n",
    "from selenium.webdriver.chrome.options import Options\n",
    "from selenium import webdriver\n",
    "from selenium.webdriver.common.by import By\n",
    "from selenium.webdriver.support.ui import WebDriverWait\n",
    "from selenium.webdriver.support import expected_conditions as EC \n",
    "from bs4 import BeautifulSoup  \n",
    "ctx=context() \n",
    "ctx.logger.setLevel(logging.DEBUG)\n",
    "config = {}\n",
    "with open('config.json', 'r') as f: \n",
    "    config=json.loads(f.read())    \n",
    "ctx.config=config \n",
    "import warnings\n",
    "warnings.filterwarnings('ignore')\n"
   ]
  },
  {
   "cell_type": "code",
   "execution_count": null,
   "metadata": {},
   "outputs": [],
   "source": [
    "ip = issue_provider(ctx)  \n",
    "df=ip.parse_metrics('9311')\n",
    "df"
   ]
  },
  {
   "cell_type": "code",
   "execution_count": null,
   "metadata": {},
   "outputs": [],
   "source": [
    "ip.driver.quit()"
   ]
  },
  {
   "cell_type": "code",
   "execution_count": null,
   "metadata": {},
   "outputs": [],
   "source": [
    "for i in range(1,9):\n",
    "    print(f\"\"\"\n",
    "\t\tIF @SUM_4_1_{i} > @ANS_4_1\n",
    "\t\tBEGIN\n",
    "\t\t\tINSERT INTO @ErrorTable  \n",
    "\t\t\tSELECT  PK_Question, PK_FormPage, page_sort_pos, questgroup_sort_pos, quest_sort_pos\n",
    "\t\t\t, ('The sum provided for ' + identifier_text + ' should not exceed the value of 4.1 : '  + QuestionText) Error, identifier_text\n",
    "\t\t\tFROM vw_OrgSubQuestions WHERE  identifier_text='4.1.{i}' AND PK_OrgSubmission = @PK_OrgSubmission  \n",
    "\t\tEND\"\"\")"
   ]
  },
  {
   "cell_type": "code",
   "execution_count": 5,
   "metadata": {},
   "outputs": [
    {
     "data": {
      "text/html": [
       "<div>\n",
       "<style scoped>\n",
       "    .dataframe tbody tr th:only-of-type {\n",
       "        vertical-align: middle;\n",
       "    }\n",
       "\n",
       "    .dataframe tbody tr th {\n",
       "        vertical-align: top;\n",
       "    }\n",
       "\n",
       "    .dataframe thead th {\n",
       "        text-align: right;\n",
       "    }\n",
       "</style>\n",
       "<table border=\"1\" class=\"dataframe\">\n",
       "  <thead>\n",
       "    <tr style=\"text-align: right;\">\n",
       "      <th></th>\n",
       "      <th>{var}</th>\n",
       "      <th>{idt}</th>\n",
       "    </tr>\n",
       "  </thead>\n",
       "  <tbody>\n",
       "    <tr>\n",
       "      <th>0</th>\n",
       "      <td>@SUM_4_1_1</td>\n",
       "      <td>['4.1.1.a', '4.1.1.b', '4.1.1.c']</td>\n",
       "    </tr>\n",
       "    <tr>\n",
       "      <th>1</th>\n",
       "      <td>@SUM_4_1_2</td>\n",
       "      <td>['4.1.2.a', '4.1.2.b', '4.1.2.c']</td>\n",
       "    </tr>\n",
       "    <tr>\n",
       "      <th>2</th>\n",
       "      <td>@SUM_4_1_3</td>\n",
       "      <td>['4.1.3.a', '4.1.3.b', '4.1.3.c']</td>\n",
       "    </tr>\n",
       "    <tr>\n",
       "      <th>3</th>\n",
       "      <td>@SUM_4_1_4</td>\n",
       "      <td>['4.1.4.a', '4.1.4.b', '4.1.4.c']</td>\n",
       "    </tr>\n",
       "    <tr>\n",
       "      <th>4</th>\n",
       "      <td>@SUM_4_1_5</td>\n",
       "      <td>['4.1.5.a', '4.1.5.b', '4.1.5.c']</td>\n",
       "    </tr>\n",
       "    <tr>\n",
       "      <th>5</th>\n",
       "      <td>@SUM_4_1_6</td>\n",
       "      <td>['4.1.6.a', '4.1.6.b', '4.1.6.c']</td>\n",
       "    </tr>\n",
       "    <tr>\n",
       "      <th>6</th>\n",
       "      <td>@SUM_4_1_7</td>\n",
       "      <td>['4.1.7.a', '4.1.7.b', '4.1.7.c']</td>\n",
       "    </tr>\n",
       "    <tr>\n",
       "      <th>7</th>\n",
       "      <td>@SUM_4_1_8</td>\n",
       "      <td>['4.1.8.a', '4.1.8.b', '4.1.8.c']</td>\n",
       "    </tr>\n",
       "  </tbody>\n",
       "</table>\n",
       "</div>"
      ],
      "text/plain": [
       "        {var}                              {idt}\n",
       "0  @SUM_4_1_1  ['4.1.1.a', '4.1.1.b', '4.1.1.c']\n",
       "1  @SUM_4_1_2  ['4.1.2.a', '4.1.2.b', '4.1.2.c']\n",
       "2  @SUM_4_1_3  ['4.1.3.a', '4.1.3.b', '4.1.3.c']\n",
       "3  @SUM_4_1_4  ['4.1.4.a', '4.1.4.b', '4.1.4.c']\n",
       "4  @SUM_4_1_5  ['4.1.5.a', '4.1.5.b', '4.1.5.c']\n",
       "5  @SUM_4_1_6  ['4.1.6.a', '4.1.6.b', '4.1.6.c']\n",
       "6  @SUM_4_1_7  ['4.1.7.a', '4.1.7.b', '4.1.7.c']\n",
       "7  @SUM_4_1_8  ['4.1.8.a', '4.1.8.b', '4.1.8.c']"
      ]
     },
     "execution_count": 5,
     "metadata": {},
     "output_type": "execute_result"
    }
   ],
   "source": [
    "with open(ctx.get_tempalte_dir()+'sum.sql', 'r') as f:\n",
    "    s=f.read() \n",
    "df=sql_todf(\"\"\"\n",
    "SELECT DISTINCT IdText AS [{idt}], REPLACE(IdText, '.','_') [{var}],SectionNum, SortPos FROM vwQuestions  \n",
    "WHERE PK_FORM = '2023-Q1-CIO' AND IdText LIKE '4.1._._' ;\n",
    "\"\"\", connstr) \n",
    "\n",
    "df['{var}'] = df['{var}'].apply(lambda s : '@SUM_'+re.sub('_[a-z]$','',s))\n",
    "df['{idt}'] = df['{idt}'].apply(lambda s : f'\\'{s}\\'') \n",
    "df = df.groupby('{var}', as_index=False).agg({'{idt}':list})\n",
    "df"
   ]
  },
  {
   "cell_type": "code",
   "execution_count": null,
   "metadata": {},
   "outputs": [],
   "source": [
    "\n",
    "df['sql']=[s.replace('{idt}',','.join(x)).replace('{var}',y) for x,y in zip(df['{idt}'], df['{var}'])]\n",
    "with open(ctx.get_dest()+'script.sql', 'w') as f:\n",
    "    f.write( '\\n'.join(list(df['sql'])) ) \n",
    "df "
   ]
  },
  {
   "cell_type": "code",
   "execution_count": null,
   "metadata": {},
   "outputs": [],
   "source": [
    "with open(ctx.get_tempalte_dir()+'frmval.sql', 'r') as f:\n",
    "    s=f.read() \n",
    "df=sql_todf(\"\"\"\n",
    "SELECT DISTINCT IdText AS [{idt}], REPLACE(IdText, '.','_') [{var}],SectionNum, SortPos FROM vwQuestions  \n",
    "WHERE PK_FORM = '2023-Q1-CIO' AND Q_TypeId IN (2,17)  ORDER BY  SectionNum, SortPos;\n",
    "\"\"\", connstr) \n",
    "\n",
    "df['sql']=s\n",
    "df['sql']=[x.replace('{idt}',y).replace('{var}',z) for x,y,z in zip(df['sql'], df['{idt}'], df['{var}'])]\n",
    " \n",
    "with open(ctx.get_dest()+'script.sql', 'w') as f:\n",
    "    f.write( '\\n'.join(list(df['sql'])) ) \n",
    "df"
   ]
  },
  {
   "cell_type": "code",
   "execution_count": null,
   "metadata": {},
   "outputs": [],
   "source": [
    "df,code=generate_code_from_db(ctx,4019) \n",
    "#generate_section(4018, code)\n",
    "df[:10]\n",
    "#sql=df_to_sql(df,ctx,template_name='fsma_QuestionsInsert.sql')"
   ]
  },
  {
   "cell_type": "code",
   "execution_count": null,
   "metadata": {},
   "outputs": [],
   "source": [
    "def generate_section(section, code=''): \n",
    "    df=sql_todf(\"SELECT DISTINCT PK_QuestionGroup, ASPX FROM vwQuestions  WHERE PK_FORM = '2023-Q1-CIO'\", connstr).set_index('PK_QuestionGroup' )\n",
    "    d=df.T.to_dict(orient='records')[0] \n",
    "    print(d)\n",
    "    path=f'C:\\\\dev\\\\CyberScope\\\\CyberScopeBranch\\\\CSwebdev\\\\code\\\\CyberScope\\\\{d[section]}'\n",
    "    with open(path, 'r', encoding='utf-16') as f:\n",
    "        s=f.read() \n",
    "    pname = d[section][d[section].rfind('/')+1:]\n",
    "    if '<!--questions-->' in s:\n",
    "        q=re.findall('<!--questions-->.+<!--\\/questions-->',s,re.DOTALL)[0]\n",
    "        s=s.replace(q,f'<!--questions-->\\n{code}\\n<!--/questions-->')\n",
    "        with open(f\"{ctx.get_dest()}{pname}\", 'w', encoding='utf-16') as f:\n",
    "            f.write(s) \n",
    "\n"
   ]
  },
  {
   "cell_type": "code",
   "execution_count": null,
   "metadata": {},
   "outputs": [],
   "source": [
    "\n",
    "def parse_grid(tnum, pk, QCol='Question', PivotCols=4): \n",
    "    driver.get(f\"https://dayman.cyber-balance.com/jira/si/jira.issueviews:issue-html/CS-{tnum}/CS-{tnum}.html\")   \n",
    "    ldf = pd.read_html(driver.page_source, match=\"\\d\\.\\d\\.\\d\", header=1)\n",
    "    df=ldf[0].iloc[:,:].rename(columns={QCol: \"QuestionText\"})\n",
    " \n",
    "    df['identifier_text'] = df['QuestionText'].apply(lambda s: re.findall('^[\\d\\.\\w]{1,7}',s)[0])\n",
    "    stypes = {k: chr(v+97) for v, k in enumerate(list(df.columns[1:4]))} \n",
    "    print(stypes)\n",
    "    df=df.loc[:,['QuestionText','identifier_text']] \n",
    "    df['CTRLCODE']='LABEL'\n",
    "    lod=df.to_dict(orient='records')\n",
    "    l=[]\n",
    "    for i,r in enumerate(lod):\n",
    "        l.append(lod[i])\n",
    "        for k in stypes.keys():\n",
    "            id=lod[i]['identifier_text']+'.'+stypes[k]\n",
    "            l.append({\n",
    "                'identifier_text':id\n",
    "                , 'QuestionText': id+' '+k\n",
    "                , 'CTRLCODE':'CNT'\n",
    "                })\n",
    "    df=pd.DataFrame(l)\n",
    "    df['{PK_Question}'] = range(pk,len(df)+pk)\n",
    "    df['sortpos'] = range(1,len(df)+1) \n",
    "    df['FK_QuestionType'] = df['CTRLCODE'].apply(lambda s: 2 if s=='CNT' else 18)\n",
    "    df['QuestionText']=df['QuestionText'].apply(lambda s: re.sub('^[\\d\\.\\w]{1,7}','',s, count=1).strip())\n",
    "    df['{QuestionText}']=df['QuestionText']\n",
    "    df['{idt}'] = df['identifier_text'].str.replace('.','_')\n",
    "    with open (ctx.get_tempalte_dir()+'fsma_QuestionsInsert.sql', 'r') as f:\n",
    "        df['sql']=f.read() \n",
    "    for i,r in df.iterrows():\n",
    "        for c in df.columns: \n",
    "            df.loc[i,'sql']= re.sub(str(c),str(df.loc[i,c]),df.loc[i,'sql'])  \n",
    "    sql='\\n,'.join(df['sql'])\n",
    "    with open(f'{ctx.get_dest()}script.sql', 'w') as f:\n",
    "        f.write(sql)\n",
    "\n",
    "    gen=script_generator(ctx)\n",
    "    code=gen.generate(df)\n",
    "    with open(f'{ctx.get_dest()}script.aspx', 'w') as f:\n",
    "        f.write(code)\n",
    "    \n",
    "    return df,sql,code\n",
    "\n",
    "# df,sql,code=parse_grid('9295',37400, QCol='Type of Test')\n",
    "# print(sql)"
   ]
  },
  {
   "cell_type": "code",
   "execution_count": null,
   "metadata": {},
   "outputs": [],
   "source": [
    "df=pd.DataFrame(range(1,2))\n",
    "df[\"identifier_text\"]=df[0].apply(lambda s : '3.3.'+str(s))\n",
    "df['CTRLCODE']='LABEL'\n",
    "df['m']=[['a Tier EL0 Not Effective','b Tier EL1 Basic','c Tier EL2 Intermediate','d Tier EL3 Advanced'] for i in range(len(df))]\n",
    "lbls=df\n",
    "df=df.explode('m')\n",
    "df=pd.concat([lbls,df]) \n",
    "df['CTRLCODE']=df['m'].apply(lambda s: 2 if type(s)==str else 18)\n",
    "df.sort_values([0,'CTRLCODE'], ascending=[True,False], inplace=True) \n",
    "df['m']=df['m'].apply(lambda s: s if type(s)!=list else '') \n",
    "df['QuestionText']=  df['m'].apply(lambda s: s[2:])\n",
    "df[\"identifier_text\"]=df[\"identifier_text\"]+ ''+ df['m'].apply(lambda s: s.split(' ')[0])\n",
    "df['{PK_Question}'] = range(37250,len(df)+37250)\n",
    "df['sortpos'] = range(50,len(df)+50) \n",
    "df['FK_QuestionType'] = df['CTRLCODE']\n",
    "df['CTRLCODE'] = df['FK_QuestionType'].apply(lambda s: 'CNT' if s==2 else 'LABEL')  \n",
    "df['{idt}'] = df['identifier_text'].str.replace('.','_')\n",
    "df.drop(columns=[0,'m'], inplace=True)\n",
    "df\n",
    " \n"
   ]
  }
 ],
 "metadata": {
  "kernelspec": {
   "display_name": "Python 3.8.8 ('base')",
   "language": "python",
   "name": "python3"
  },
  "language_info": {
   "codemirror_mode": {
    "name": "ipython",
    "version": 3
   },
   "file_extension": ".py",
   "mimetype": "text/x-python",
   "name": "python",
   "nbconvert_exporter": "python",
   "pygments_lexer": "ipython3",
   "version": "3.8.8"
  },
  "orig_nbformat": 4,
  "vscode": {
   "interpreter": {
    "hash": "1b5c637c5c17e7841ce3b55fac6772e1460db6e5f5b3923b76ec2696de093845"
   }
  }
 },
 "nbformat": 4,
 "nbformat_minor": 2
}
