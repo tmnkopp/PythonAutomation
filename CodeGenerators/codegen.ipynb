{
 "cells": [
  {
   "cell_type": "code",
   "execution_count": 1,
   "metadata": {
    "metadata": {}
   },
   "outputs": [
    {
     "name": "stderr",
     "output_type": "stream",
     "text": [
      "c:\\Users\\timko\\anaconda3\\lib\\site-packages\\scipy\\__init__.py:173: UserWarning: A NumPy version >=1.19.5 and <1.27.0 is required for this version of SciPy (detected version 1.19.2)\n",
      "  warnings.warn(f\"A NumPy version >={np_minversion} and <{np_maxversion}\"\n"
     ]
    }
   ],
   "source": [
    "import pandas as pd\n",
    "import numpy as np \n",
    "from sqlalchemy import func, create_engine\n",
    "#from faker import Faker\n",
    "import re, json, logging , html, os\n",
    "import openpyxl\n",
    "from datetime import date, timedelta\n",
    "from lib.config import connstr\n",
    "from lib.context import context\n",
    "from lib.utils import * \n",
    "from lib.picklist_recommender import picklist_recommender\n",
    "from lib.issue_parser import issue_parser\n",
    "from lib.issue_provider import issue_provider\n",
    "from lib.questionnaire_parser import questionnaire_parser\n",
    "from lib.dbupdate_parser import dbupdate_parser\n",
    "from lib.script_generator import script_generator \n",
    "from lib.db_parser import db_parser   \n",
    "from bs4 import BeautifulSoup    \n",
    "#from nltk.corpus import stopwords \n",
    "#sw=stopwords.words('english') \n",
    "ctx=context() \n",
    "ctx.logger.setLevel(logging.INFO)\n",
    "config = {}\n",
    "with open('config.json', 'r') as f: \n",
    "    config=json.loads(f.read())    \n",
    "ctx.config=config \n",
    "import warnings\n",
    "warnings.filterwarnings('ignore') \n",
    "with open(fr\"pom.log\", 'w' ) as fw:  \n",
    "    fw.write('')\n"
   ]
  },
  {
   "attachments": {},
   "cell_type": "markdown",
   "metadata": {},
   "source": [
    "# PIPELINE\n",
    "\n",
    "### Requirements: Jira / PDF / DOC / etc.. \n",
    "### SpreadSheet \n",
    "### SQL \n",
    "### Code / Forms"
   ]
  },
  {
   "cell_type": "markdown",
   "metadata": {},
   "source": [
    "---"
   ]
  },
  {
   "attachments": {},
   "cell_type": "markdown",
   "metadata": {},
   "source": [
    "### Jira Parse All Tickets"
   ]
  },
  {
   "cell_type": "code",
   "execution_count": null,
   "metadata": {},
   "outputs": [],
   "source": [
    "gen=script_generator(ctx)\n",
    "code=gen.generate(df, code_template_path=f'{ctx.get_tempalte_dir()}fsma_QuestionsInsert.sql')  \n",
    "print( code ) "
   ]
  },
  {
   "cell_type": "code",
   "execution_count": null,
   "metadata": {},
   "outputs": [],
   "source": [
    "\n",
    "ip = issue_parser(ctx)     \n",
    "df=ip.parse('8838:8843' )  \n",
    "df "
   ]
  },
  {
   "cell_type": "code",
   "execution_count": null,
   "metadata": {},
   "outputs": [],
   "source": [
    "ip = issue_parser(ctx)     \n",
    "df=ip.parse( '9600:9605' )  \n",
    "df"
   ]
  },
  {
   "attachments": {},
   "cell_type": "markdown",
   "metadata": {},
   "source": [
    "##### DataFrame to Code"
   ]
  },
  {
   "cell_type": "code",
   "execution_count": null,
   "metadata": {},
   "outputs": [],
   "source": [
    "gen=script_generator(ctx)"
   ]
  },
  {
   "cell_type": "code",
   "execution_count": null,
   "metadata": {},
   "outputs": [],
   "source": [
    "gen=script_generator(ctx)\n",
    "sql=gen.generate(df, code_template_path=f'{ctx.get_tempalte_dir()}aspx\\\\ig.sql')\n",
    "print(sql) "
   ]
  },
  {
   "cell_type": "code",
   "execution_count": null,
   "metadata": {},
   "outputs": [],
   "source": [
    "form_code=script_generator(ctx).generate(df) \n",
    "print(form_code) "
   ]
  },
  {
   "attachments": {},
   "cell_type": "markdown",
   "metadata": {},
   "source": [
    "### Forms from Database Records"
   ]
  },
  {
   "cell_type": "code",
   "execution_count": null,
   "metadata": {},
   "outputs": [],
   "source": [
    "parser = db_parser(ctx)\n",
    "df=parser.parse(question_group='5141')\n",
    "df"
   ]
  },
  {
   "cell_type": "code",
   "execution_count": null,
   "metadata": {},
   "outputs": [],
   "source": [
    "df.columns"
   ]
  },
  {
   "cell_type": "code",
   "execution_count": null,
   "metadata": {},
   "outputs": [],
   "source": [
    "gen=script_generator(ctx)\n",
    "sql=gen.generate(df, code_template_path=f'{ctx.get_tempalte_dir()}fsma_QuestionsInsert.sql')\n",
    "with open(fr\"{ctx.get_dest()}\\script.sql\", 'w', encoding='UTF-8') as fw:  \n",
    "    fw.write(sql)"
   ]
  },
  {
   "cell_type": "code",
   "execution_count": null,
   "metadata": {},
   "outputs": [],
   "source": [
    "form_code=script_generator(ctx).generate(df) \n",
    "print(form_code)\n",
    "with open(fr\"{ctx.get_dest()}\\script.aspx\", 'w', encoding='UTF-8') as fw: \n",
    "    form_code =   form_code.replace('\\ufeff', '')\n",
    "    fw.write(form_code)"
   ]
  },
  {
   "cell_type": "code",
   "execution_count": null,
   "metadata": {},
   "outputs": [],
   "source": [
    "gen=script_generator(ctx)\n",
    "code=gen.generate(df, code_template_path=f'{ctx.get_tempalte_dir()}aspx\\\\ig.sql')\n",
    "print(code)"
   ]
  },
  {
   "attachments": {},
   "cell_type": "markdown",
   "metadata": {},
   "source": [
    "### NLP"
   ]
  },
  {
   "cell_type": "code",
   "execution_count": null,
   "metadata": {},
   "outputs": [],
   "source": [
    "picklist_string = 'Date Determined / TBD / Continuous ATO'  \n",
    "pl=picklist_recommender(ctx, use_cache=False).recommend(picklist_string.split(' / '), generate_sql=True, threshhold=(.825, .7))\n",
    "pl "
   ]
  },
  {
   "cell_type": "markdown",
   "metadata": {},
   "source": [
    "##### PARSE DB UPDATE SCRIPT "
   ]
  },
  {
   "cell_type": "code",
   "execution_count": null,
   "metadata": {
    "metadata": {}
   },
   "outputs": [],
   "source": [
    "parser = dbupdate_parser(ctx, path=r'C:\\dev\\CyberScope\\CyberScopeBranch\\CSwebdev\\database\\_7_DBUpdate7.70_IG.sql') \n",
    "df=parser.parse() \n",
    "df['FK_QuestionGroup'] = df['section'].apply(lambda s: f\"@PK_QGroup+{s}\" ) \n",
    "s=parser.to_sql() \n",
    "with open(fr\"{ctx.get_dest()}\\script.sql\", 'w', encoding='UTF-8') as fw: \n",
    "    fw.write(s) "
   ]
  },
  {
   "cell_type": "code",
   "execution_count": null,
   "metadata": {},
   "outputs": [],
   "source": [
    "df10 = df.loc[ df[\"FK_QuestionGroup\"] == '@PK_QGroup+13']\n",
    "df10['sortpos']=df10['sortpos'] \n",
    "df10 "
   ]
  },
  {
   "cell_type": "code",
   "execution_count": null,
   "metadata": {},
   "outputs": [],
   "source": [
    "print( parser.to_sql()  )"
   ]
  },
  {
   "cell_type": "code",
   "execution_count": null,
   "metadata": {},
   "outputs": [],
   "source": [
    "parser = db_parser(ctx)\n",
    "df=parser.parse(question_group='4530')\n",
    "s=df_to_sql(df,ctx)\n",
    "print(s)"
   ]
  },
  {
   "cell_type": "code",
   "execution_count": 7,
   "metadata": {},
   "outputs": [
    {
     "name": "stdout",
     "output_type": "stream",
     "text": [
      "C:\\dev\\CyberScope\\CyberScopeBranch\\CSwebdev\\code\\CyberScope\\FismaForms\\2025\\\\2025_A_IG_1A.aspx\n",
      "C:\\dev\\CyberScope\\CyberScopeBranch\\CSwebdev\\code\\CyberScope\\FismaForms\\2025\\\\2025_A_IG_1B.aspx\n",
      "C:\\dev\\CyberScope\\CyberScopeBranch\\CSwebdev\\code\\CyberScope\\FismaForms\\2025\\\\2025_A_IG_2.aspx\n",
      "C:\\dev\\CyberScope\\CyberScopeBranch\\CSwebdev\\code\\CyberScope\\FismaForms\\2025\\\\2025_A_IG_3A.aspx\n",
      "C:\\dev\\CyberScope\\CyberScopeBranch\\CSwebdev\\code\\CyberScope\\FismaForms\\2025\\\\2025_A_IG_3B.aspx\n",
      "C:\\dev\\CyberScope\\CyberScopeBranch\\CSwebdev\\code\\CyberScope\\FismaForms\\2025\\\\2025_A_IG_3C.aspx\n",
      "C:\\dev\\CyberScope\\CyberScopeBranch\\CSwebdev\\code\\CyberScope\\FismaForms\\2025\\\\2025_A_IG_3D.aspx\n",
      "C:\\dev\\CyberScope\\CyberScopeBranch\\CSwebdev\\code\\CyberScope\\FismaForms\\2025\\\\2025_A_IG_4.aspx\n",
      "C:\\dev\\CyberScope\\CyberScopeBranch\\CSwebdev\\code\\CyberScope\\FismaForms\\2025\\\\2025_A_IG_5.aspx\n",
      "C:\\dev\\CyberScope\\CyberScopeBranch\\CSwebdev\\code\\CyberScope\\FismaForms\\2025\\\\2025_A_IG_6.aspx\n",
      "C:\\dev\\CyberScope\\CyberScopeBranch\\CSwebdev\\code\\CyberScope\\FismaForms\\2025\\\\2024_A_IG_7.aspx\n"
     ]
    }
   ],
   "source": [
    "with open(fr\"pom.log\", 'w' ) as fw:  \n",
    "    fw.write('')\n",
    "\n",
    "class aspx_generator():\n",
    "    def __init__(self, ctx):  \n",
    "        self.ctx=ctx \n",
    "    def generate(self, PK_FORM='2023-A-HVA', classname=None, commit=False, PageNameFilter='~', dest=None ):\n",
    "        if classname == None: classname=PK_FORM.replace('-','_') \n",
    "        dbparser=db_parser(ctx)\n",
    "        generator=script_generator(ctx)\n",
    "        sql= f\"\"\"\n",
    "            SELECT DISTINCT PK_FORM, PK_QuestionGroup, SectionNum, GroupName, ASPX\n",
    "            FROM vwQuestions  WHERE 1=1 AND PK_FORM='{PK_FORM}' ORDER BY PK_QuestionGroup ASC\n",
    "        \"\"\" \n",
    "        df=sql_todf(sql, self.ctx.connstr)  \n",
    "        df['PNAME']=df['ASPX'].apply(lambda s: s.split('/')[len(s.split('/'))-1].replace('.aspx',''))\n",
    "        pages=df.to_dict(orient='records')    \n",
    "        ctx.logger.info(f'pages: { json.dumps(pages, indent=4) }')\n",
    "\n",
    "        src=ctx.get_tempalte_dir() + '\\\\aspx\\\\'\n",
    "        out=''\n",
    "        for p in pages:   \n",
    "            PageName = re.sub(PageNameFilter,'',f\"{classname}_{p['GroupName']}\")\n",
    "            for ext in ['.aspx','.aspx.designer.vb','.aspx.vb']:\n",
    "                with open(f'{src}{classname}{ext}', 'r', encoding='UTF-8', errors='ignore') as fr: \n",
    "                    txt = fr.read().encode(  'utf-8', errors='ignore' ).decode('utf-8')\n",
    "                    txt=txt.replace('{classname}',PageName) \n",
    "                    txt=txt.replace('{PK_key}',f\"{p['PK_QuestionGroup']}\")\n",
    "                    txt=txt.replace('{GroupName}',f\"{p['GroupName']}\")  \n",
    "                    if ext=='.aspx': \n",
    "                        parsed=dbparser.parse(question_group=p['PK_QuestionGroup'])\n",
    "                        code = generator.generate(parsed)\n",
    "                        txt=txt.replace(f'<!--controls-->',code) \n",
    "                    out=out+txt\n",
    "                path=f\"{dest}{p['PNAME']}{ext}\"\n",
    "                if ext=='.aspx': \n",
    "                    print(path)\n",
    "                if commit:  \n",
    "                    with open(path, 'w', encoding='UTF-8') as fw:\n",
    "                        fw.write(txt)\n",
    "        with open(fr\"{ctx.get_dest()}\\script.aspx\", 'w', encoding='UTF-8') as fw: \n",
    "            fw.write(out)\n",
    "\n",
    "dest=rf\"C:\\dev\\CyberScope\\CyberScopeBranch\\CSwebdev\\code\\CyberScope\\FismaForms\\2025\\\\\"  \n",
    "gen = aspx_generator(ctx)\n",
    "gen.generate(PK_FORM='2025-A-IG', dest=dest, commit=True)\n",
    "\n",
    "   "
   ]
  },
  {
   "cell_type": "code",
   "execution_count": null,
   "metadata": {},
   "outputs": [],
   "source": []
  }
 ],
 "metadata": {
  "kernelspec": {
   "display_name": "base",
   "language": "python",
   "name": "python3"
  },
  "language_info": {
   "codemirror_mode": {
    "name": "ipython",
    "version": 3
   },
   "file_extension": ".py",
   "mimetype": "text/x-python",
   "name": "python",
   "nbconvert_exporter": "python",
   "pygments_lexer": "ipython3",
   "version": "3.8.5"
  },
  "orig_nbformat": 4,
  "vscode": {
   "interpreter": {
    "hash": "3a7c076192e1e16d3ee1a218e6831777c4d2e3a001a9a33f6decd6c7672cec63"
   }
  }
 },
 "nbformat": 4,
 "nbformat_minor": 2
}
