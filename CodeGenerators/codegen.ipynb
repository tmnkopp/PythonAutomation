{
 "cells": [
  {
   "cell_type": "code",
   "execution_count": null,
   "metadata": {},
   "outputs": [],
   "source": [
    "import pandas as pd\n",
    "import numpy as np \n",
    "#from faker import Faker\n",
    "import re, json, logging , html, os\n",
    "import openpyxl\n",
    "from datetime import date, timedelta\n",
    "from lib.config import connstr\n",
    "from lib.context import context\n",
    "from lib.utils import * \n",
    "from lib.picklist_recommender import picklist_recommender\n",
    "from lib.issue_parser import issue_parser\n",
    "from lib.issue_provider import issue_provider\n",
    "from lib.questionnaire_parser import questionnaire_parser\n",
    "from lib.dbupdate_parser import dbupdate_parser\n",
    "from lib.script_generator import script_generator \n",
    "from lib.db_parser import db_parser   \n",
    "from bs4 import BeautifulSoup    \n",
    "#from nltk.corpus import stopwords \n",
    "#sw=stopwords.words('english') \n",
    "ctx=context() \n",
    "ctx.logger.setLevel(logging.INFO)\n",
    "config = {}\n",
    "with open('config.json', 'r') as f: \n",
    "    config=json.loads(f.read())    \n",
    "ctx.config=config \n",
    "import warnings\n",
    "warnings.filterwarnings('ignore') \n"
   ]
  },
  {
   "attachments": {},
   "cell_type": "markdown",
   "metadata": {},
   "source": [
    "# PIPELINE\n",
    "\n",
    "### Requirements: Jira / PDF / DOC / etc.. \n",
    "### SpreadSheet \n",
    "### SQL \n",
    "### Code / Forms"
   ]
  },
  {
   "cell_type": "markdown",
   "metadata": {},
   "source": [
    "---"
   ]
  },
  {
   "attachments": {},
   "cell_type": "markdown",
   "metadata": {},
   "source": [
    "### Jira Parse All Tickets"
   ]
  },
  {
   "cell_type": "code",
   "execution_count": null,
   "metadata": {},
   "outputs": [],
   "source": [
    "\n",
    "ip = issue_parser(ctx)     \n",
    "df=ip.parse('8838:8843' )  \n",
    "df "
   ]
  },
  {
   "cell_type": "code",
   "execution_count": null,
   "metadata": {},
   "outputs": [],
   "source": [
    "ip = issue_parser(ctx)     \n",
    "df=ip.parse( '9600:9605' )  \n",
    "df"
   ]
  },
  {
   "attachments": {},
   "cell_type": "markdown",
   "metadata": {},
   "source": [
    "##### DataFrame to Code"
   ]
  },
  {
   "cell_type": "code",
   "execution_count": null,
   "metadata": {},
   "outputs": [],
   "source": [
    "gen=script_generator(ctx)"
   ]
  },
  {
   "cell_type": "code",
   "execution_count": null,
   "metadata": {},
   "outputs": [],
   "source": [
    "gen=script_generator(ctx)\n",
    "sql=gen.generate(df, code_template_path=f'{ctx.get_tempalte_dir()}aspx\\\\ig.sql')\n",
    "print(sql)"
   ]
  },
  {
   "cell_type": "code",
   "execution_count": null,
   "metadata": {},
   "outputs": [],
   "source": [
    "form_code=script_generator(ctx).generate(df) \n",
    "print(form_code)"
   ]
  },
  {
   "attachments": {},
   "cell_type": "markdown",
   "metadata": {},
   "source": [
    "### forms from database records"
   ]
  },
  {
   "cell_type": "code",
   "execution_count": null,
   "metadata": {},
   "outputs": [],
   "source": [
    "parser = db_parser(ctx)\n",
    "df=parser.parse(question_group='4407')\n",
    "df"
   ]
  },
  {
   "cell_type": "code",
   "execution_count": null,
   "metadata": {},
   "outputs": [],
   "source": [
    "form_code=script_generator(ctx).generate(df) \n",
    "print(form_code)"
   ]
  },
  {
   "cell_type": "code",
   "execution_count": null,
   "metadata": {},
   "outputs": [],
   "source": [
    "gen=script_generator(ctx)\n",
    "code=gen.generate(df, code_template_path=f'{ctx.get_tempalte_dir()}aspx\\\\ig.sql')\n",
    "print(code)"
   ]
  },
  {
   "attachments": {},
   "cell_type": "markdown",
   "metadata": {},
   "source": [
    "### NLP"
   ]
  },
  {
   "cell_type": "code",
   "execution_count": null,
   "metadata": {},
   "outputs": [],
   "source": [
    "picklist_string = 'High / Moderate / Low'  \n",
    "pl=picklist_recommender(ctx, use_cache=False).recommend(picklist_string.split(' / '), generate_sql=False)\n",
    "pl"
   ]
  },
  {
   "cell_type": "code",
   "execution_count": null,
   "metadata": {},
   "outputs": [],
   "source": [
    "{'PK_PicklistType': 6,\n",
    " 'UsageField': 'YN',\n",
    " 'DisplayValue': 'YESNO',\n",
    " 'PK_Picklist': 176,\n",
    " 'MAX_PK_Picklist': 14814,\n",
    " 'MAX_PK_PicklistType': 595,\n",
    " 'simscore': 1.0}"
   ]
  },
  {
   "cell_type": "code",
   "execution_count": null,
   "metadata": {},
   "outputs": [],
   "source": [
    "pl = gen.list_to_sql(picklist_string.split(' / '))[1]\n",
    "print(pl)"
   ]
  },
  {
   "cell_type": "markdown",
   "metadata": {},
   "source": [
    "##### PARSE DB UPDATE SCRIPT "
   ]
  },
  {
   "cell_type": "code",
   "execution_count": null,
   "metadata": {},
   "outputs": [],
   "source": [
    "parser = dbupdate_parser(ctx, path='C:\\dev\\CyberScope\\CyberScopeBranch\\CSwebdev\\database\\_0_DBUpdate7.59_CIO_Q1_2024.sql')\n",
    "df=parser.parse() \n",
    "df"
   ]
  },
  {
   "cell_type": "code",
   "execution_count": null,
   "metadata": {},
   "outputs": [],
   "source": [
    "df['PK_Question'] = df['PK_Question'].apply(lambda s: int(s) + 20000)\n",
    "df "
   ]
  },
  {
   "cell_type": "code",
   "execution_count": null,
   "metadata": {},
   "outputs": [],
   "source": [
    "print( parser.to_sql()  )"
   ]
  },
  {
   "cell_type": "code",
   "execution_count": null,
   "metadata": {},
   "outputs": [],
   "source": [
    "parser = db_parser(ctx)\n",
    "df=parser.parse(question_group='4530')\n",
    "s=df_to_sql(df,ctx)\n",
    "print(s)"
   ]
  },
  {
   "cell_type": "code",
   "execution_count": null,
   "metadata": {},
   "outputs": [],
   "source": [
    "class aspx_generator():\n",
    "    def __init__(self, ctx):  \n",
    "        self.ctx=ctx \n",
    "    def generate(self, PK_FORM='2023-A-HVA', classname=None, where=None, commit=False, PageNameFilter='~', dest=None ):\n",
    "        parser=db_parser(ctx)\n",
    "        generator=script_generator(ctx)\n",
    "        sql= f\"\"\"\n",
    "            SELECT DISTINCT PK_FORM, PK_QuestionGroup, SectionNum, GroupName, ASPX\n",
    "            FROM vwQuestions  WHERE 1=1 AND PK_FORM='{PK_FORM}' \n",
    "            --AND {where}\n",
    "            ORDER BY PK_QuestionGroup ASC\n",
    "        \"\"\"\n",
    "        if classname == None: classname=PK_FORM.replace('-','_')\n",
    "        if where != None: sql=sql.replace('--AND', 'AND  ')\n",
    "        #print(sql)\n",
    "        df=sql_todf(sql, self.ctx.connstr)     \n",
    "        df['PNAME']=df['ASPX'].apply(lambda s: s.split('/')[len(s.split('/'))-1].replace('.aspx',''))\n",
    "        pages=df.to_dict(orient='records')    \n",
    "        src=ctx.get_tempalte_dir()\n",
    "        out=''\n",
    "        for p in pages:   \n",
    "            PageName = re.sub(PageNameFilter,'',f\"{classname}_{p['GroupName']}\")\n",
    "            for ext in ['.aspx','.aspx.designer.vb','.aspx.vb']:\n",
    "                with open(f'{src}{classname}{ext}', 'r', encoding='UTF-8', errors='ignore') as fr: \n",
    "                    txt = fr.read().encode(  'utf-8', errors='ignore' ).decode('utf-8')\n",
    "                    txt=txt.replace('{classname}',PageName) \n",
    "                    txt=txt.replace('{PK_key}',f\"{p['PK_QuestionGroup']}\")\n",
    "                    txt=txt.replace('{GroupName}',f\"{p['GroupName']}\")  \n",
    "                    if ext=='.aspx': \n",
    "                        parsed=parser.parse(question_group=p['PK_QuestionGroup'])\n",
    "                        code = generator.generate(parsed)\n",
    "                        txt=txt.replace(f'<!--controls-->',code) \n",
    "                    out=out+txt\n",
    "                path=f\"{dest}{p['PNAME']}{ext}\"\n",
    "                print(path)\n",
    "                if commit:  \n",
    "                    with open(path, 'w', encoding='UTF-8') as fw:\n",
    "                        fw.write(txt)\n",
    "        with open(fr\"{ctx.get_dest()}\\script.aspx\", 'w', encoding='UTF-8') as fw: \n",
    "            fw.write(out)\n",
    "\n",
    "dest=rf\"C:\\\\dev\\\\CyberScope\\\\CyberScopeBranch\\\\CSwebdev\\\\code\\\\CyberScope\\\\FismaForms\\\\2023\\\\\"  \n",
    "gen = aspx_generator(ctx)\n",
    "gen.generate(PK_FORM='2023-A-IG', dest=dest)\n",
    "\n",
    " "
   ]
  },
  {
   "cell_type": "code",
   "execution_count": null,
   "metadata": {},
   "outputs": [],
   "source": [
    "def _saop_line_generator(issueHTML):   \n",
    "    issueHTML=re.sub('\\.\\s*</p>\\n*<p>','', issueHTML)  \n",
    "    ptags=BeautifulSoup(issueHTML, features=\"lxml\").select('td.confluenceTd, p')  \n",
    "    for ptag in ptags:\n",
    "        yield {'ptag':ptag , 'line_text': ptag.text.strip() }\n",
    "\n",
    "df=issue_parser(ctx).parse('9066:9080', parse_regex='\\s*(\\d[\\d]?[a-z]+)', line_generator=_saop_line_generator)\n",
    "df\n"
   ]
  },
  {
   "cell_type": "code",
   "execution_count": null,
   "metadata": {},
   "outputs": [],
   "source": []
  }
 ],
 "metadata": {
  "kernelspec": {
   "display_name": "base",
   "language": "python",
   "name": "python3"
  },
  "language_info": {
   "codemirror_mode": {
    "name": "ipython",
    "version": 3
   },
   "file_extension": ".py",
   "mimetype": "text/x-python",
   "name": "python",
   "nbconvert_exporter": "python",
   "pygments_lexer": "ipython3",
   "version": "3.8.5"
  },
  "orig_nbformat": 4,
  "vscode": {
   "interpreter": {
    "hash": "3a7c076192e1e16d3ee1a218e6831777c4d2e3a001a9a33f6decd6c7672cec63"
   }
  }
 },
 "nbformat": 4,
 "nbformat_minor": 2
}
