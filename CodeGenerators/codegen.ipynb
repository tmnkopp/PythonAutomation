{
 "cells": [
  {
   "cell_type": "code",
   "execution_count": null,
   "metadata": {},
   "outputs": [],
   "source": [
    "import pandas as pd\n",
    "import numpy as np \n",
    "#from faker import Faker\n",
    "import re, json, logging , html, os\n",
    "from lib.config import connstr\n",
    "from lib.context import context\n",
    "from lib.utils import * \n",
    "from lib.picklist_recommender import picklist_recommender\n",
    "from lib.issue_provider import issue_provider\n",
    "from lib.questionnaire_parser import questionnaire_parser\n",
    "from lib.questionnaire_picklist_parser import questionnaire_picklist_parser\n",
    "from lib.script_generator import script_generator \n",
    "#from webdriver_manager.chrome import ChromeDriverManager\n",
    "#from selenium.webdriver.chrome.options import Options\n",
    "#from selenium import webdriver\n",
    "#from selenium.webdriver.common.by import By\n",
    "#from selenium.webdriver.support.ui import WebDriverWait\n",
    "#from selenium.webdriver.support import expected_conditions as EC \n",
    "from bs4 import BeautifulSoup   \n",
    "#Faker.seed(0)\n",
    "#fake = Faker()\n",
    "#import nltk\n",
    "#nltk.download(\"punkt\")\n",
    "#from nltk.corpus import stopwords \n",
    "#sw=stopwords.words('english') \n",
    "ctx=context() \n",
    "ctx.logger.setLevel(logging.DEBUG)\n",
    "config = {}\n",
    "with open('config.json', 'r') as f: \n",
    "    config=json.loads(f.read())    \n",
    "ctx.config=config \n",
    "import warnings\n",
    "warnings.filterwarnings('ignore') "
   ]
  },
  {
   "cell_type": "code",
   "execution_count": null,
   "metadata": {},
   "outputs": [],
   "source": [
    "mp = { '20': lambda s: s[:12] }\n",
    "ip = issue_provider(ctx)    \n",
    "for i in range(9596,9605,1): # 9605\n",
    "    df=ip.parse_metrics(str(i), metric_parsers=mp, parse_to=f'ig\\{i}.csv', met_parse=\"(\\d{1,2}\\.\\d?\\.?)\\s{1,5}[A-Z]\", usecache=True) \n",
    "ip.driver.quit()\n",
    "df"
   ]
  },
  {
   "cell_type": "code",
   "execution_count": 11,
   "metadata": {},
   "outputs": [],
   "source": [
    "gen=script_generator(ctx)"
   ]
  },
  {
   "cell_type": "code",
   "execution_count": 15,
   "metadata": {},
   "outputs": [
    {
     "name": "stdout",
     "output_type": "stream",
     "text": [
      ", (53260,@FormName, @PK_QGroup+5,1,85,9,N'26.',NULL,N' To what extent have the roles and responsibilities of identity, credential, and access management (ICAM) stakeholders been defined, communicated, and implemented across the agency, and appropriately resourced (NIST SP 800-53 (Rev. 5): AC-1, IA-1, IA-2, PL-4, and PS-1; NIST SP 800-63-3; NIST SP 800-63A, B, and C; OMB M-19-17; Federal Identity, Credential, and Access Management (FICAM) playbooks and guidance; HSPD 12)?',N'')\n",
      ", (53261,@FormName, @PK_QGroup+5,2,85,9,N'27.',NULL,N' To what degree does the organization utilize a comprehensive ICAM policy, strategy, process, and technology solution roadmap to guide its ICAM processes and activities (NIST SP 800-53 (Rev. 5): AC-1 and IA-1; NIST SP 800-207; NIST CSF: PR.AC-4 and PR.AC-5; OMB M-19-17; OMB M-22-09; DHS ED 19-01; FICAM; CIS Top 18 Security Controls: Controls 5 and 6)?',N'')\n",
      ", (53262,@FormName, @PK_QGroup+5,3,85,9,N'28.',NULL,N' To what extent has the organization developed and implemented processes for assigning position risk designations and performing appropriate personnel screening prior to granting access to its systems (NIST SP 800-53 (Rev. 5): PS-2 and PS-3; NIST CSF: PR.IP11; OMB M-19-17; National Insider Threat Policy; FY 2023 CIO FISMA Metrics: 7.4.3)?',N'')\n",
      ", (53263,@FormName, @PK_QGroup+5,4,85,9,N'29.',NULL,N' To what extent does the organization ensure that access agreements, including nondisclosure agreements, acceptable use agreements, and rules of behavior, as appropriate, for individuals (both privileged and non-privileged users) that access its systems are completed and maintained (NIST SP 800-53 (Rev. 5): AC-8, AC21, CA-3, PL-4, and PS-6)?',N'')\n",
      ", (53264,@FormName, @PK_QGroup+5,5,85,9,N'30.',NULL,N' To what extent has the organization implemented phishing-resistant multifactor authentication mechanisms (e.g., PIV, FIDO2, or web authentication) for non-privileged users to access the organization''s facilities [organization-defined entry/exit points], networks, and systems, including for remote access (NIST SP 800-53 (Rev. 5): AC-17, IA-2, IA-5, IA-8, and PE-3; NIST SP 800-63; NIST SP 800-128; NIST SP 800-157; NIST SP 800-207: Tenet 6; NIST CSF: PR.AC-1 and PR.AC-6; NIST Security Measures for EOCritical Software Use: SM 1.1; FIPS 201-2; HSPD-12; OMB M-19-17; OMB M-22-09; OMB M-23-03; CIS Top 18 Security Controls: Control 6; CISA Capacity Enhancement Guide; FY 2023 CIO FISMA Metrics: 2.3, 2.3.1, 2.3.2, 2.4, 2.9, 2.10, and 2.10.2)?',N'')\n",
      ", (53265,@FormName, @PK_QGroup+5,6,85,9,N'31.',NULL,N' To what extent has the organization implemented phishing-resistant multifactor authentication mechanisms (e.g., PIV, FIDO2, or web authentication) for privileged users to access the organization''s facilities [organization-defined entry/exit points], networks, and systems, including for remote access (NIST SP 800-53 (Rev. 5): AC-17 and PE-3; NIST SP 800-63; NIST SP 800-128; NIST SP 800-157; NIST SP 800-207: Tenet 6; NIST CSF: PR.AC-1 and PR.AC-6; NIST Security Measures for EOCritical Software Use: SM 1.1; FIPS 201-2; HSPD-12; OMB M-19-17; OMB M-22-09; OMB M-23-03; DHS ED 19-01; CIS Top 18 Security Controls: Control 6; FY 2023 CIO FISMA Metrics: 2.3, 2.4, 2.9, and 2.10)?',N'')\n",
      ", (53266,@FormName, @PK_QGroup+5,7,85,9,N'32.',NULL,N' To what extent does the organization ensure that privileged accounts are provisioned, managed, and reviewed in accordance with the principles of least privilege and separation of duties? Specifically, this includes processes for periodic review and adjustment of privileged user accounts and permissions, inventorying and validating the scope and number of privileged accounts, and ensuring that privileged user account activities are logged and periodically reviewed (NIST SP 800-53 (Rev. 5): AC-1, AC-2, AC-5, AC-6, AC-17, AU-2, AU-3, AU-6, and IA-4; NIST CSF PR.AC-4; NIST Security Measures for EOCritical Software Use: SM 2.2; FY 2023 CIO FISMA Metrics: 3.1; OMB M-19-17; OMB M-21-31; DHS ED 19-01; CIS Top 18 Security Controls: Controls 5, 6, and 8)?',N'')\n",
      ", (53267,@FormName, @PK_QGroup+5,8,85,9,N'33.',NULL,N' To what extent does the organization ensure that appropriate configuration/connection requirements are maintained for remote access connections? This includes the use of appropriate cryptographic modules, system time-outs, and the monitoring and control of remote access sessions (NIST SP 800-46 (Rev. 2); NIST SP 800-53 (Rev. 5): AC-11, AC12, AC-17, AC-19, AU-2, IA-7, SC-10, SC-13, and SI-4; NIST CSF: PR.AC-3; OMB M-22-09).',N'')\n",
      ", (53268,@FormName, @PK_QGroup+5,9,85,9,N'34.1',NULL,N' Please provide the assessed maturity level for the agency''s Protect - Identity and Access Management program.',N'')\n",
      ", (53269,@FormName, @PK_QGroup+5,10,85,9,N'34.2',NULL,N' Provide any additional information on the effectiveness (positive or negative) of the organizations identity and access management program that was not noted in the questions above. Taking into consideration the maturity level generated from the questions above and based on all testing performed, is the identity and access management program effective?',N'')\n",
      "\n"
     ]
    }
   ],
   "source": [
    "dff=pd.DataFrame()\n",
    "for i in range(9599,9605,1): # 9605\n",
    "    df=ip.parse_metrics(str(i), metric_parsers=mp, parse_to=f'ig\\{i}.csv', met_parse=\"(\\d{1,2}\\.\\d?\\.?)\\s{1,5}[A-Z]\", usecache=True) \n",
    "    df['{QuestionText}']=df['{QuestionText}'].apply(lambda s: s.replace(\"'\",\"''\"))\n",
    "    dff=pd.concat([dff, df])\n",
    "code=gen.generate(df, code_template_path=f'{ctx.get_tempalte_dir()}ig.sql')\n",
    "print(code)"
   ]
  },
  {
   "cell_type": "code",
   "execution_count": 9,
   "metadata": {},
   "outputs": [
    {
     "name": "stdout",
     "output_type": "stream",
     "text": [
      ", (53260,@FormName, @PK_QGroup+2,1,85,9,N'1.',NULL,N' To what extent does the organization maintain a comprehensive and accurate inventory of its information systems (including cloud systems, public facing websites, and third party systems), and system interconnections (NIST SP 800-37 (Rev. 2); NIST SP 800-53 (Rev. 5): CA-3, PM-5, and CM-8; NIST Cybersecurity Framework (CSF): ID.AM-1  4; FY 2023 CIO FISMA Metrics: 1 and 5; OMB A-130; OMB M-23-03)?',N'')\n",
      ", (53261,@FormName, @PK_QGroup+2,2,85,9,N'2.',NULL,N' To what extent does the organization use standard data elements/taxonomy to develop and maintain an up-to-date inventory of hardware assets (including GFE and Bring Your Own Device (BYOD) mobile devices) connected to the organizations network with the detailed information necessary for tracking and reporting (NIST SP 800-37 (Rev. 2): Tasks P-10 and P-16; NIST SP 800-53 (Rev. 5): CA-7 and CM8; NIST SP 800-137; NIST SP 800-207; NIST 1800-5; NIST IR 8011; NIST CSF: ID.AM-1; Federal Enterprise Architecture (FEA) Framework; FY 2023 CIO FISMA Metrics: 1.2, 1.3, and 10.8; CIS Top 18 Security Controls: Control 1; OMB M-23-03; DHS Binding Operational Directive (BOD) 23-01; BOD 23-01 Implementation Guidance)?',N'')\n",
      ", (53262,@FormName, @PK_QGroup+2,3,85,9,N'3.',NULL,N' To what extent does the organization use standard data elements/taxonomy to develop and maintain an up-to-date inventory of the software and associated licenses used within the organization with the detailed information necessary for tracking and reporting (NIST SP 800-37 (Rev. 2): Task P-10; NIST SP 800-53 (Rev. 5): CA-7, CM-8, CM-10, and CM-11; NIST SP 800-137; NIST SP 800-207: Section 7.3; NIST 1800-5; NIST IR 8011; NIST Security Measures for EOCritical Software Use; NIST CSF: ID.AM-2; FEA Framework; FY 2023 CIO FISMA Metrics: 1.4 and 4.1; OMB M-21-30; OMB M-22-09; OMB M-22-18; OMB M-23-03; CIS Top 18 Security Controls: Control 2; CISA Cybersecurity Incident Response Playbooks)?',N'')\n",
      ", (53263,@FormName, @PK_QGroup+2,4,85,9,N'4.',NULL,N' To what extent has the organization categorized and communicated the importance/priority of information systems in enabling its missions and business functions, including for high value assets (NIST SP 800-37 (Rev. 2): Tasks C-2, C3, P-4, P-12, P-13, S-1  S-3; NIST SP 800-53 (Rev. 5): RA-2, PM-7, and PM-11; NIST SP 800-60; NIST IR 8170  NIST CSF: ID.BE-3, ID.AM-5, and ID.SC-2; FIPS 199; FY 2023 CIO FISMA Metrics: 1.1; OMB M-19-03)?',N'')\n",
      ", (53264,@FormName, @PK_QGroup+2,5,85,9,N'5.',NULL,N' To what extent does the organization ensure that information system security risks are adequately managed at the organizational, mission/business process, and information system levels (NIST SP 800-37 (Rev. 2): Tasks P-2, P3, P-14, R-2, and R-3; NIST SP 800-39; NIST SP 800-53 (Rev. 5): RA-3 and PM9; NIST IR 8286; NIST IR 8286A; NIST IR 8286B; NIST IR 8286C; NIST IR 8286D; NIST CSF: ID RM-1  ID.RM-3; OMB A-123; OMB M-16-17; OMB M-23-03)?',N'')\n",
      ", (53265,@FormName, @PK_QGroup+2,6,85,9,N'6.',NULL,N' To what extent does the organization utilize an information security architecture to provide a disciplined and structured methodology for managing risk, including risk from the organizations supply chain (NIST SP 800-37 (Rev. 2): Task P-16; NIST SP 800-39; NIST SP 800-53 (Rev. 5): PL-8, SA-3, SA-8. SA-9, SA-12, and PM-9; NIST SP 800-160; NIST SP 800-163, (Rev. 1); NIST SP 800-218; NIST CSF: ID.SC-1 and PR.IP-2; FEA Framework; OMB M-15-14; OMB M-19-03; OMB M-22-18; SECURE Technology Act: s. 1326; Federal Information Technology Acquisition Reform Act (FITARA))?',N'')\n",
      ", (53266,@FormName, @PK_QGroup+2,7,85,9,N'7.',NULL,N' To what degree have roles and responsibilities of internal and external stakeholders involved in cyber security risk management processes been defined and communicated across the organization (NIST SP 800-37 (Rev. 2): Section 2.8 and Task P-1; NIST SP 800-39: Sections 2.3.1, 2.3.2, and Appendix D; NIST SP 800-53 (Rev. 5): RA-1; NIST CSF: ID.AM-6, ID.RM-1, and ID.GV-2; NIST IR 8286: Section 3.1.1; OMB A-123; OMB M-19-03; OMB M-16-15)?',N'')\n",
      ", (53267,@FormName, @PK_QGroup+2,8,85,9,N'8.',NULL,N' To what extent has the organization ensured that plans of action and milestones (POA&Ms) are utilized for effectively mitigating security weaknesses (NIST SP 800-37 (Rev. 2): Tasks A-6, R-3; NIST SP 800-53 (Rev. 5): CA-5 and PM4; NIST CSF: ID.RA-6; OMB M-14-04; OMB M-19-03; OMB A-130)?',N'')\n",
      ", (53268,@FormName, @PK_QGroup+2,9,85,9,N'9.',NULL,N' To what extent does the organization ensure that information about cyber security risks is communicated in a timely manner to all necessary internal and external stakeholders (NIST SP 800-37 (Rev. 2): Task M-5; NIST CSF: Section 3.3; NIST IR 8170; NIST IR 8286; OMB A-123; OMB Circular A-11; OMB M-19-03; SECURE Technology Act: s. 1326)?',N'')\n",
      ", (53269,@FormName, @PK_QGroup+2,10,85,9,N'10.',NULL,N' To what extent does the organization utilize technology/ automation to provide a centralized, enterprise wide (portfolio) view of cybersecurity risk management activities across the organization, including risk control and remediation activities, dependencies, risk scores/levels, and management dashboards (NIST SP 800-39; NIST SP 800-207: Tenets 5 and 7; NIST IR 8286; OMB A-123; OMB M-22-09; CISA Zero Trust Maturity Model: Pillars 2-4; FY 2023 CIO FISMA Metrics: 7.4.2)?',N'')\n",
      ", (53270,@FormName, @PK_QGroup+2,11,85,9,N'11.1',NULL,N' Please provide the assessed maturity level for the agency's Identify - Risk Management program.',N'')\n",
      ", (53271,@FormName, @PK_QGroup+2,12,85,9,N'11.2',NULL,N' Provide any additional information on the effectiveness (positive or negative) of the organizations risk management program that was not noted in the questions above. Taking into consideration the overall maturity level generated from the questions above and based on all testing performed, is the risk management program effective?',N'')\n",
      "\n"
     ]
    }
   ],
   "source": []
  },
  {
   "cell_type": "code",
   "execution_count": null,
   "metadata": {},
   "outputs": [],
   "source": [
    "ip = issue_provider(ctx)    \n",
    "core=[]\n",
    "reqsup=[]\n",
    "for i in range(9596,9605,1): #9605\n",
    "    df=ip.parse_metrics(str(i), parse_to=f'ig\\{i}.csv', met_parse=\"(\\d{1,2}\\.\\d?\\.?)\\s{1,5}[A-Z]\") \n",
    "    dff=df\n",
    "    for i,r in dff.iterrows():\n",
    "        elm = str(r['element'])[:50]\n",
    "        if '<em>' in elm:\n",
    "            reqsup.append(str(r['{idt}']))\n",
    "        if '<b>' in elm:\n",
    "            core.append(str(r['{idt}'])) \n",
    "ip.driver.quit()"
   ]
  },
  {
   "cell_type": "code",
   "execution_count": null,
   "metadata": {},
   "outputs": [],
   "source": [
    "s=\"'\"+''.join(reqsup).replace('.','\\',\\'')[:-2]\n",
    "s\n",
    "c=\"'\"+''.join(core).replace('.','\\',\\'')[:-2] \n",
    "print(c) \n"
   ]
  },
  {
   "cell_type": "code",
   "execution_count": null,
   "metadata": {},
   "outputs": [],
   "source": [
    "df, code = generate_code_from_db(ctx, 4452)  \n",
    "with open(fr\"{ctx.get_dest()}\\script.aspx\", 'w', encoding='UTF-8') as fw:\n",
    "    fw.write(code)"
   ]
  },
  {
   "cell_type": "code",
   "execution_count": null,
   "metadata": {},
   "outputs": [],
   "source": [
    "def generate_pages(PK_FORM='2023-A-HVA', classname=None, where=None, commit=False, PageNameFilter='~', dest=None ):\n",
    "    sql= f\"\"\"\n",
    "        SELECT DISTINCT PK_FORM, PK_QuestionGroup, SectionNum, GroupName, ASPX\n",
    "        FROM vwQuestions  WHERE 1=1 AND PK_FORM='{PK_FORM}' \n",
    "        --AND {where}\n",
    "        ORDER BY PK_QuestionGroup ASC\n",
    "    \"\"\"\n",
    "    if classname == None:\n",
    "        classname=PK_FORM.replace('-','_')\n",
    "    if where != None:\n",
    "        sql=sql.replace('--AND', 'AND  ')\n",
    "    #print(sql)\n",
    "    df=sql_todf(sql, connstr)     \n",
    "    df['PNAME']=df['ASPX'].apply(lambda s: s.split('/')[len(s.split('/'))-1].replace('.aspx',''))\n",
    "    pages=df.to_dict(orient='records')    \n",
    "    src=ctx.get_tempalte_dir()\n",
    "    out=''\n",
    "    for p in pages:   \n",
    "        PageName = re.sub(PageNameFilter,'',f\"{classname}_{p['GroupName']}\")\n",
    "        for ext in ['.aspx','.aspx.designer.vb','.aspx.vb']:\n",
    "            with open(f'{src}{classname}{ext}', 'r', encoding='UTF-8', errors='ignore') as fr: \n",
    "                txt = fr.read().encode(  'utf-8', errors='ignore' ).decode('utf-8')\n",
    "                txt=txt.replace('{classname}',PageName) \n",
    "                txt=txt.replace('{PK_key}',f\"{p['PK_QuestionGroup']}\")\n",
    "                txt=txt.replace('{GroupName}',f\"{p['GroupName']}\")  \n",
    "                if ext=='.aspx': \n",
    "                    df, code = generate_code_from_db(ctx, qgroup=p['PK_QuestionGroup']) \n",
    "                    txt=txt.replace(f'<!--controls-->',code) \n",
    "                out=out+txt\n",
    "            path=f\"{dest}{p['PNAME']}{ext}\"\n",
    "            print(path)\n",
    "            if commit:  \n",
    "                with open(path, 'w', encoding='UTF-8') as fw:\n",
    "                    fw.write(txt)\n",
    "    with open(fr\"{ctx.get_dest()}\\script.aspx\", 'w', encoding='UTF-8') as fw: \n",
    "        fw.write(out)\n",
    " \n",
    "dest=rf\"C:\\\\dev\\\\CyberScope\\\\CyberScopeBranch\\\\CSwebdev\\\\code\\\\CyberScope\\\\FismaForms\\\\2023\\\\\"  \n",
    "generate_pages(PK_FORM='2023-A-IG', where=' PK_QuestionGroup < 4461 ', commit=True, PageNameFilter='Function',dest=dest)"
   ]
  },
  {
   "cell_type": "code",
   "execution_count": null,
   "metadata": {},
   "outputs": [],
   "source": []
  },
  {
   "cell_type": "code",
   "execution_count": null,
   "metadata": {},
   "outputs": [],
   "source": [
    "df, code = generate_code_from_db(ctx, 3271)\n",
    "df[15:25]\n",
    "#print(code)"
   ]
  },
  {
   "cell_type": "code",
   "execution_count": null,
   "metadata": {},
   "outputs": [],
   "source": [
    "with open(ctx.get_tempalte_dir()+'frmval.sql', 'r') as f:\n",
    "    s=f.read() \n",
    "df=sql_todf(\"\"\"\n",
    "SELECT DISTINCT IdText AS [{idt}], REPLACE(IdText, '.','_') [{var}], SortPos  FROM vwQuestions  \n",
    "WHERE PK_FORM = '2023-Q1-CIO'  AND IdText LIKE '2.%' AND Q_TypeID=2 \n",
    "ORDER BY SortPos;\n",
    " \n",
    "\"\"\", connstr) \n",
    "df['sql']=[s.replace('{idt}',x).replace('{var}',y) for x,y in zip(df['{idt}'], df['{var}'])]\n",
    " \n",
    "with open(ctx.get_dest()+'script.sql', 'w') as f:\n",
    "    f.write( '\\n'.join(list(df['sql'])) ) "
   ]
  },
  {
   "cell_type": "code",
   "execution_count": null,
   "metadata": {},
   "outputs": [],
   "source": [
    "\n",
    "def parse_grid(tnum, pk, QCol='Question', PivotCols=4): \n",
    "    ip = issue_provider(ctx)\n",
    "    driver=ip.driver\n",
    "    driver.get(f\"https://dayman.cyber-balance.com/jira/si/jira.issueviews:issue-html/CS-{tnum}/CS-{tnum}.html\")   \n",
    "    ldf = pd.read_html(driver.page_source, match=\"\\d\\.\\d\\.\\d\", header=1)\n",
    "    df=ldf[0].iloc[:,:].rename(columns={QCol: \"QuestionText\"})\n",
    " \n",
    "    df['identifier_text'] = df['QuestionText'].apply(lambda s: re.findall('^[\\d\\.\\w]{1,7}',s)[0])\n",
    "    stypes = {k: chr(v+97) for v, k in enumerate(list(df.columns[1:4]))} \n",
    "    print(stypes)\n",
    "    df=df.loc[:,['QuestionText','identifier_text']] \n",
    "    df['CTRLCODE']='LABEL'\n",
    "    lod=df.to_dict(orient='records')\n",
    "    l=[]\n",
    "    for i,r in enumerate(lod):\n",
    "        l.append(lod[i])\n",
    "        for k in stypes.keys():\n",
    "            id=lod[i]['identifier_text']+'.'+stypes[k]\n",
    "            l.append({\n",
    "                'identifier_text':id\n",
    "                , 'QuestionText': id+' '+k\n",
    "                , 'CTRLCODE':'CNT'\n",
    "                })\n",
    "    df=pd.DataFrame(l)\n",
    "    df['{PK_Question}'] = range(pk,len(df)+pk)\n",
    "    df['sortpos'] = range(1,len(df)+1) \n",
    "    df['FK_QuestionType'] = df['CTRLCODE'].apply(lambda s: 2 if s=='CNT' else 18)\n",
    "    df['QuestionText']=df['QuestionText'].apply(lambda s: re.sub('^[\\d\\.\\w]{1,7}','',s, count=1).strip())\n",
    "    df['{QuestionText}']=df['QuestionText']\n",
    "    df['{idt}'] = df['identifier_text'].str.replace('.','_')\n",
    "    with open (ctx.get_tempalte_dir()+'fsma_QuestionsInsert.sql', 'r') as f:\n",
    "        df['sql']=f.read() \n",
    "    for i,r in df.iterrows():\n",
    "        for c in df.columns: \n",
    "            df.loc[i,'sql']= re.sub(str(c),str(df.loc[i,c]),df.loc[i,'sql'])  \n",
    "    sql='\\n,'.join(df['sql'])\n",
    "    with open(f'{ctx.get_dest()}script.sql', 'w') as f:\n",
    "        f.write(sql)\n",
    "\n",
    "    gen=script_generator(ctx)\n",
    "    code=gen.generate(df)\n",
    "    with open(f'{ctx.get_dest()}script.aspx', 'w') as f:\n",
    "        f.write(code)\n",
    "    \n",
    "    return df,sql,code\n",
    "\n",
    "# df,sql,code=parse_grid('9295',37400, QCol='Type of Test')\n",
    "# print(sql)"
   ]
  },
  {
   "cell_type": "code",
   "execution_count": null,
   "metadata": {},
   "outputs": [],
   "source": [
    "ctrl=''\n",
    "with open(f'{ctx.get_tempalte_dir()}TXT_OPT.aspx', 'r') as f:\n",
    "    ctrl=f.read().replace('\\n','')\n",
    "\n",
    "def met_provider(s):  \n",
    "    if type(s) != str : return s\n",
    "    m=re.findall('\\d{1,2}\\.\\d{1,2}\\.?\\d{0,2}\\.?[\\.\\d\\w]?', s)  \n",
    "    return m[0] if len(m) > 0 else ''\n",
    "\n",
    "def cell_provider(s, i):  \n",
    "    if type(s) != str : return s\n",
    "    m=re.findall('\\d{1,2}\\.\\d{1,2}\\.?\\d{0,2}\\.?[\\.\\d\\w]?', s)\n",
    "    d={0:'a.i',1:'a.ii',2:'b.i',3:'b.ii',4:'c.i',5:'c.ii' } \n",
    "    idt=f'{m[0]}.{d[i]}'\n",
    "    c=ctrl.replace('{idt}',idt.replace('.','_'))\n",
    "    return f'{c}' if len(m) > 0 else ''\n",
    "\n",
    "def lbl_provider(s): \n",
    "    if type(s) != str : return s\n",
    "    lbl='<uc:CBlabel ID=\"CBlabel_{idt}_i\" PK_key=\"{idt}\" runat=\"server\" LabelType=\"Question\" />'   \n",
    "    m=re.findall('\\d{1,2}\\.\\d{1,2}\\.?\\d{0,2}\\.?[\\.\\d\\w]?', s) \n",
    "    idt=f'{m[0]}'\n",
    "    c=lbl.replace('{idt}',idt.replace('.','_'))\n",
    "    return c\n",
    "def get_ids():\n",
    "    dff=sql_todf(\"SELECT replace(idtext, '.','_') id, pk_question  FROM vwQuestions WHERE PK_QuestionGroup=4014\", ctx.config['connstr'])\n",
    "    print(dff.iloc[0])\n",
    "    ids = {k:v for k, v in zip(dff['id'], dff['pk_question'] )  }\n",
    "    return ids\n",
    "ids=get_ids()   \n",
    "list(ids.keys())[3:5] \n",
    " "
   ]
  },
  {
   "cell_type": "code",
   "execution_count": null,
   "metadata": {},
   "outputs": [],
   "source": [
    "df=pd.read_excel(r'C:\\Users\\Tim\\Documents\\CIO\\CIO_SECTION_2.xlsx',  sheet_name='All', header=0 ) # Enterprise Identities  # Public Identities \n",
    "\n",
    "#df.fillna('', inplace=True)\n",
    "#df.drop([0], axis=0, inplace=True)\n",
    "df.rename(columns={'Unnamed: 2':'.','Unnamed: 4':'..','Unnamed: 6':'...'}, inplace=True)\n",
    "for i,c in enumerate(df.columns[1:]): \n",
    "    df.loc[1:,c] = df.loc[1:, 'Question'].apply(lambda s:  cell_provider(s,i)  )\n",
    "\n",
    "#mets = [str(m)  for m in list(dff['m']) if '2' in str(m) ]  \n",
    "\n",
    "df['Question']=df['Question'].apply(lbl_provider )\n",
    "df.to_html(f'{ctx.get_dest()}parsed.html',index=False)\n",
    " \n",
    "s=''\n",
    "with open(f'{ctx.get_dest()}parsed.html', 'r') as f:\n",
    "    s=f.read()\n",
    "s=re.sub('<th>\\.{1,3}</th>','',s)\n",
    "s=re.sub('th>','td>',s) \n",
    "s=re.sub('<td>Number','<td colspan=\"2\">Number',s)\n",
    "\n",
    "s=re.sub('<thead>|</thead>|<tbody>|</tbody>','',s) \n",
    "for k in ids:\n",
    "    s=s.replace(f'PK_key=\"{k}\"',f'PK_key=\"{str(ids[k])}\"' )\n",
    "    s=s.replace(f'PK_Question=\"{k}\"',f'PK_Question=\"{str(ids[k])}\"' )\n",
    "with open(f'{ctx.get_dest()}script.html', 'w') as f: \n",
    "    s=html.unescape(s) \n",
    "    f.write(s)\n",
    "df[:5]"
   ]
  }
 ],
 "metadata": {
  "kernelspec": {
   "display_name": "base",
   "language": "python",
   "name": "python3"
  },
  "language_info": {
   "codemirror_mode": {
    "name": "ipython",
    "version": 3
   },
   "file_extension": ".py",
   "mimetype": "text/x-python",
   "name": "python",
   "nbconvert_exporter": "python",
   "pygments_lexer": "ipython3",
   "version": "3.8.5"
  },
  "orig_nbformat": 4,
  "vscode": {
   "interpreter": {
    "hash": "3a7c076192e1e16d3ee1a218e6831777c4d2e3a001a9a33f6decd6c7672cec63"
   }
  }
 },
 "nbformat": 4,
 "nbformat_minor": 2
}
