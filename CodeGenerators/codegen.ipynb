{
 "cells": [
  {
   "cell_type": "code",
   "execution_count": null,
   "metadata": {},
   "outputs": [],
   "source": [
    "import pandas as pd\n",
    "import numpy as np \n",
    "from sqlalchemy import func, create_engine\n",
    "#from faker import Faker\n",
    "import re, json, logging , html, os\n",
    "import openpyxl\n",
    "from datetime import date, timedelta\n",
    "from lib.config import connstr\n",
    "from lib.context import context\n",
    "from lib.utils import * \n",
    "from lib.picklist_recommender import picklist_recommender\n",
    "from lib.issue_parser import issue_parser\n",
    "from lib.issue_provider import issue_provider\n",
    "from lib.questionnaire_parser import questionnaire_parser\n",
    "from lib.dbupdate_parser import dbupdate_parser\n",
    "from lib.script_generator import script_generator \n",
    "from lib.db_parser import db_parser   \n",
    "from bs4 import BeautifulSoup    \n",
    "#from nltk.corpus import stopwords \n",
    "#sw=stopwords.words('english') \n",
    "ctx=context() \n",
    "ctx.logger.setLevel(logging.DEBUG)\n",
    "config = {}\n",
    "with open('config.json', 'r') as f: \n",
    "    config=json.loads(f.read())    \n",
    "ctx.config=config \n",
    "import warnings\n",
    "warnings.filterwarnings('ignore') \n"
   ]
  },
  {
   "attachments": {},
   "cell_type": "markdown",
   "metadata": {},
   "source": [
    "# PIPELINE\n",
    "\n",
    "### Requirements: Jira / PDF / DOC / etc.. \n",
    "### SpreadSheet \n",
    "### SQL \n",
    "### Code / Forms"
   ]
  },
  {
   "cell_type": "markdown",
   "metadata": {},
   "source": [
    "---"
   ]
  },
  {
   "attachments": {},
   "cell_type": "markdown",
   "metadata": {},
   "source": [
    "### Jira Parse All Tickets"
   ]
  },
  {
   "cell_type": "code",
   "execution_count": null,
   "metadata": {},
   "outputs": [],
   "source": [
    "\n",
    "ip = issue_parser(ctx)     \n",
    "df=ip.parse('8838:8843' )  \n",
    "df "
   ]
  },
  {
   "cell_type": "code",
   "execution_count": null,
   "metadata": {},
   "outputs": [],
   "source": [
    "ip = issue_parser(ctx)     \n",
    "df=ip.parse( '9600:9605' )  \n",
    "df"
   ]
  },
  {
   "attachments": {},
   "cell_type": "markdown",
   "metadata": {},
   "source": [
    "##### DataFrame to Code"
   ]
  },
  {
   "cell_type": "code",
   "execution_count": null,
   "metadata": {},
   "outputs": [],
   "source": [
    "gen=script_generator(ctx)"
   ]
  },
  {
   "cell_type": "code",
   "execution_count": null,
   "metadata": {},
   "outputs": [],
   "source": [
    "gen=script_generator(ctx)\n",
    "sql=gen.generate(df, code_template_path=f'{ctx.get_tempalte_dir()}aspx\\\\ig.sql')\n",
    "print(sql)"
   ]
  },
  {
   "cell_type": "code",
   "execution_count": null,
   "metadata": {},
   "outputs": [],
   "source": [
    "form_code=script_generator(ctx).generate(df) \n",
    "print(form_code)"
   ]
  },
  {
   "attachments": {},
   "cell_type": "markdown",
   "metadata": {},
   "source": [
    "### Forms from Database Records"
   ]
  },
  {
   "cell_type": "code",
   "execution_count": null,
   "metadata": {},
   "outputs": [],
   "source": [
    "parser = db_parser(ctx)\n",
    "df=parser.parse(question_group='3360')\n",
    "df"
   ]
  },
  {
   "cell_type": "code",
   "execution_count": 4,
   "metadata": {},
   "outputs": [
    {
     "name": "stdout",
     "output_type": "stream",
     "text": [
      "(47999,@FormName, @PK_QGroup,1,{FK_PickListType},18,N'S1A1',NULL,N'Bureau Name')(48000,@FormName, @PK_QGroup,1,{FK_PickListType},18,N'S1A1',NULL,N'HVA Information')(48001,@FormName, @PK_QGroup,2,{FK_PickListType},9,N'1',NULL,N'What is the purpose of the HVA?')(48002,@FormName, @PK_QGroup,3,{FK_PickListType},9,N'2',NULL,N'What services does the HVA system provide?')(48003,@FormName, @PK_QGroup,4,{FK_PickListType},9,N'3',NULL,N'To whom does the HVA provide services to?')(48025,@FormName, @PK_QGroup,5,{FK_PickListType},9,N'0_1',NULL,N'If \"Other: Elicits adversarial interest for reasons other than above\" is selected, please describe:')(48004,@FormName, @PK_QGroup,5,{FK_PickListType},17,N'4',NULL,N'ADVERSARIAL INTEREST: To inform the HVA adversarial interest criteria, please select the most relevant category.')(48005,@FormName, @PK_QGroup,6,{FK_PickListType},17,N'5',NULL,N'Critical Infrastructure Sector Alignment: CISA may have the opportunity to share critical infrastructure sector cyber threat intelligence with Agencies. This question helps identify which CI sectors HVAs are aligned to.  Please select the Critical Infrastructure Sector this HVA supports  or the most applicable.')(48006,@FormName, @PK_QGroup,7,{FK_PickListType},17,N'6',NULL,N'What is the approximate time in years since deployment of this HVA?')(48007,@FormName, @PK_QGroup,8,{FK_PickListType},17,N'7',NULL,N'\n",
      "<p>Is this system identified as a Legacy* system or have any legacy technology such as?</p>\n",
      "\t<ul>\n",
      "\t\t<li>Legacy codebase (COBOL, MUMPS)</li>\n",
      "\t\t<li>Lack of, or poor documentation</li>\n",
      "\t\t<li>Legacy infrastructure</li>\n",
      "\t\t<li>Ad-hoc infrastructure </li>\n",
      "\t\t<li>Hardware or software with no vendor/manufacturer support</li>\n",
      "\t\t<li>Outdated or inaccurate inventory</li> \n",
      "\t</ul>\n",
      "\t<p>*Legacy Identification: An Information Technology (IT) System can be identified as a Legacy System or Legacy Technology when it meets one or more of the following criteria: </p>\n",
      "\t<ul>\n",
      "\t\t<li>The system, technology, or application is no longer being supported by the manufacturer or vendor for updates or revision and is at risk of being disrupted or degraded by known and/or emerging risks.</li>\n",
      "\t\t<li>The system, technology, or application can still operate independently, but is less suited to perform the functions it was intended for due to limited functionality or performance.</li>\n",
      "\t\t<li>The system, technology, or application is unable to integrate with modern technologies without support from additional components due to the incompatibility with modern interfaces, required features, and/or limitations in existing applications.</li>    \n",
      "\t</ul> \n",
      "')(48008,@FormName, @PK_QGroup,9,{FK_PickListType},17,N'7_1',NULL,N'If Yes, is there an approved Modernization or Technology Refresh Plan for this system?')(48009,@FormName, @PK_QGroup,10,{FK_PickListType},1,N'8',NULL,N'Does this HVA have a decommissioning date within the next 36 months? ')(48010,@FormName, @PK_QGroup,11,{FK_PickListType},9,N'8_1',NULL,N'If Yes, what is the month and year of the planned decommissioning? ')(48011,@FormName, @PK_QGroup,12,{FK_PickListType},1,N'8_2',NULL,N'If Yes, is this system's functionality expected to be subsumed or replaced by another system?')(48012,@FormName, @PK_QGroup,13,{FK_PickListType},9,N'8_2_1',NULL,N'If No (decommissioned system's functionality not to be subsumed or replaced by other system) then please describe (OPTIONAL)')(48013,@FormName, @PK_QGroup,14,{FK_PickListType},43,N'9',NULL,N'Please indicate the HVA System technology Type:')(48014,@FormName, @PK_QGroup,15,{FK_PickListType},17,N'9_1',NULL,N'If System Technology Type is a Cloud, then the cloud construct is:')(48015,@FormName, @PK_QGroup,16,{FK_PickListType},9,N'9_1_1',NULL,N'If Other Cloud Type, please describe.')(48016,@FormName, @PK_QGroup,17,{FK_PickListType},9,N'9_2',NULL,N'If System Technology Type is Other, please describe.')(48018,@FormName, @PK_QGroup,18,{FK_PickListType},17,N'10',NULL,N'HVA System Management Type')(48019,@FormName, @PK_QGroup,19,{FK_PickListType},9,N'10_1',NULL,N'If Other, please describe:')(48020,@FormName, @PK_QGroup,20,{FK_PickListType},9,N'11',NULL,N'Primary physical location of the HVA system (city and state)')(48021,@FormName, @PK_QGroup,21,{FK_PickListType},9,N'12',NULL,N'Secondary (backup) physical location of the HVA system (city and state)')(48022,@FormName, @PK_QGroup,22,{FK_PickListType},1,N'13',NULL,N'Is the HVA system is hosted outside of your Agency?')(48023,@FormName, @PK_QGroup,23,{FK_PickListType},9,N'13_1',NULL,N'If Yes, which Agency or contractor hosts the system?')(48024,@FormName, @PK_QGroup,24,{FK_PickListType},17,N'14',NULL,N'Who is responsible for operating and maintaining the HVA system?')\n"
     ]
    }
   ],
   "source": [
    "gen=script_generator(ctx)\n",
    "sql=gen.generate(df, code_template_path=f'{ctx.get_tempalte_dir()}fsma_QuestionsInsert.sql')\n",
    "with open(fr\"{ctx.get_dest()}\\script.sql\", 'w', encoding='UTF-8') as fw:  \n",
    "    fw.write(sql)\n",
    " "
   ]
  },
  {
   "cell_type": "code",
   "execution_count": null,
   "metadata": {},
   "outputs": [],
   "source": [
    "form_code=script_generator(ctx).generate(df) \n",
    "print(form_code)\n",
    "with open(fr\"{ctx.get_dest()}\\script.aspx\", 'w', encoding='UTF-8') as fw: \n",
    "    form_code =   form_code.replace('\\ufeff', '')\n",
    "    fw.write(form_code)"
   ]
  },
  {
   "cell_type": "code",
   "execution_count": null,
   "metadata": {},
   "outputs": [],
   "source": [
    "gen=script_generator(ctx)\n",
    "code=gen.generate(df, code_template_path=f'{ctx.get_tempalte_dir()}aspx\\\\ig.sql')\n",
    "print(code)"
   ]
  },
  {
   "attachments": {},
   "cell_type": "markdown",
   "metadata": {},
   "source": [
    "### NLP"
   ]
  },
  {
   "cell_type": "code",
   "execution_count": null,
   "metadata": {},
   "outputs": [],
   "source": [
    "picklist_string = 'SaaS / IaaS, PaaS'  \n",
    "pl=picklist_recommender(ctx, use_cache=False).recommend(picklist_string.split(' / '), generate_sql=True)\n",
    "pl"
   ]
  },
  {
   "cell_type": "code",
   "execution_count": null,
   "metadata": {},
   "outputs": [],
   "source": [
    "{'PK_PicklistType': 6,\n",
    " 'UsageField': 'YN',\n",
    " 'DisplayValue': 'YESNO',\n",
    " 'PK_Picklist': 176,\n",
    " 'MAX_PK_Picklist': 14814,\n",
    " 'MAX_PK_PicklistType': 595,\n",
    " 'simscore': 1.0}"
   ]
  },
  {
   "cell_type": "code",
   "execution_count": null,
   "metadata": {},
   "outputs": [],
   "source": [
    "pl = gen.list_to_sql(picklist_string.split(' / '))[1]\n",
    "print(pl)"
   ]
  },
  {
   "cell_type": "markdown",
   "metadata": {},
   "source": [
    "##### PARSE DB UPDATE SCRIPT "
   ]
  },
  {
   "cell_type": "code",
   "execution_count": null,
   "metadata": {},
   "outputs": [],
   "source": [
    "parser = dbupdate_parser(ctx, path='C:\\dev\\CyberScope\\CyberScopeBranch\\CSwebdev\\database\\_0_DBUpdate7.59_CIO_Q1_2024.sql')\n",
    "df=parser.parse() \n",
    "df"
   ]
  },
  {
   "cell_type": "code",
   "execution_count": null,
   "metadata": {},
   "outputs": [],
   "source": [
    "df['PK_Question'] = df['PK_Question'].apply(lambda s: int(s) + 20000)\n",
    "df "
   ]
  },
  {
   "cell_type": "code",
   "execution_count": null,
   "metadata": {},
   "outputs": [],
   "source": [
    "print( parser.to_sql()  )"
   ]
  },
  {
   "cell_type": "code",
   "execution_count": null,
   "metadata": {},
   "outputs": [],
   "source": [
    "parser = db_parser(ctx)\n",
    "df=parser.parse(question_group='4530')\n",
    "s=df_to_sql(df,ctx)\n",
    "print(s)"
   ]
  },
  {
   "cell_type": "code",
   "execution_count": null,
   "metadata": {},
   "outputs": [],
   "source": [
    "class aspx_generator():\n",
    "    def __init__(self, ctx):  \n",
    "        self.ctx=ctx \n",
    "    def generate(self, PK_FORM='2023-A-HVA', classname=None, where=None, commit=False, PageNameFilter='~', dest=None ):\n",
    "        parser=db_parser(ctx)\n",
    "        generator=script_generator(ctx)\n",
    "        sql= f\"\"\"\n",
    "            SELECT DISTINCT PK_FORM, PK_QuestionGroup, SectionNum, GroupName, ASPX\n",
    "            FROM vwQuestions  WHERE 1=1 AND PK_FORM='{PK_FORM}' \n",
    "            --AND {where}\n",
    "            ORDER BY PK_QuestionGroup ASC\n",
    "        \"\"\"\n",
    "        if classname == None: classname=PK_FORM.replace('-','_')\n",
    "        if where != None: sql=sql.replace('--AND', 'AND  ')\n",
    "        #print(sql)\n",
    "        df=sql_todf(sql, self.ctx.connstr)     \n",
    "        df['PNAME']=df['ASPX'].apply(lambda s: s.split('/')[len(s.split('/'))-1].replace('.aspx',''))\n",
    "        pages=df.to_dict(orient='records')    \n",
    "        src=ctx.get_tempalte_dir()\n",
    "        out=''\n",
    "        for p in pages:   \n",
    "            PageName = re.sub(PageNameFilter,'',f\"{classname}_{p['GroupName']}\")\n",
    "            for ext in ['.aspx','.aspx.designer.vb','.aspx.vb']:\n",
    "                with open(f'{src}{classname}{ext}', 'r', encoding='UTF-8', errors='ignore') as fr: \n",
    "                    txt = fr.read().encode(  'utf-8', errors='ignore' ).decode('utf-8')\n",
    "                    txt=txt.replace('{classname}',PageName) \n",
    "                    txt=txt.replace('{PK_key}',f\"{p['PK_QuestionGroup']}\")\n",
    "                    txt=txt.replace('{GroupName}',f\"{p['GroupName']}\")  \n",
    "                    if ext=='.aspx': \n",
    "                        parsed=parser.parse(question_group=p['PK_QuestionGroup'])\n",
    "                        code = generator.generate(parsed)\n",
    "                        txt=txt.replace(f'<!--controls-->',code) \n",
    "                    out=out+txt\n",
    "                path=f\"{dest}{p['PNAME']}{ext}\"\n",
    "                print(path)\n",
    "                if commit:  \n",
    "                    with open(path, 'w', encoding='UTF-8') as fw:\n",
    "                        fw.write(txt)\n",
    "        with open(fr\"{ctx.get_dest()}\\script.aspx\", 'w', encoding='UTF-8') as fw: \n",
    "            fw.write(out)\n",
    "\n",
    "dest=rf\"C:\\\\dev\\\\CyberScope\\\\CyberScopeBranch\\\\CSwebdev\\\\code\\\\CyberScope\\\\FismaForms\\\\2023\\\\\"  \n",
    "gen = aspx_generator(ctx)\n",
    "gen.generate(PK_FORM='2023-A-IG', dest=dest)\n",
    "\n",
    " "
   ]
  },
  {
   "cell_type": "code",
   "execution_count": null,
   "metadata": {},
   "outputs": [],
   "source": [
    "def _saop_line_generator(issueHTML):   \n",
    "    issueHTML=re.sub('\\.\\s*</p>\\n*<p>','', issueHTML)  \n",
    "    ptags=BeautifulSoup(issueHTML, features=\"lxml\").select('td.confluenceTd, p')  \n",
    "    for ptag in ptags:\n",
    "        yield {'ptag':ptag , 'line_text': ptag.text.strip() }\n",
    "\n",
    "df=issue_parser(ctx).parse('9066:9080', parse_regex='\\s*(\\d[\\d]?[a-z]+)', line_generator=_saop_line_generator)\n",
    "df\n"
   ]
  },
  {
   "cell_type": "code",
   "execution_count": null,
   "metadata": {},
   "outputs": [],
   "source": []
  }
 ],
 "metadata": {
  "kernelspec": {
   "display_name": "base",
   "language": "python",
   "name": "python3"
  },
  "language_info": {
   "codemirror_mode": {
    "name": "ipython",
    "version": 3
   },
   "file_extension": ".py",
   "mimetype": "text/x-python",
   "name": "python",
   "nbconvert_exporter": "python",
   "pygments_lexer": "ipython3",
   "version": "3.8.8"
  },
  "orig_nbformat": 4,
  "vscode": {
   "interpreter": {
    "hash": "3a7c076192e1e16d3ee1a218e6831777c4d2e3a001a9a33f6decd6c7672cec63"
   }
  }
 },
 "nbformat": 4,
 "nbformat_minor": 2
}
