{
 "cells": [
  {
   "cell_type": "code",
   "execution_count": 6,
   "metadata": {},
   "outputs": [],
   "source": [
    "import pandas as pd\n",
    "import numpy as np \n",
    "import re, json, os , logging , random, html, datetime\n",
    "import openpyxl\n",
    "from openpyxl import Workbook \n",
    "from os import listdir\n",
    "from os.path import isfile, join\n",
    "from lib.config import connstr\n",
    "from lib.context import context\n",
    "from lib.utils import * \n",
    "from lib.picklist_recommender import picklist_recommender \n",
    "from lib.script_generator import script_generator   \n",
    "ctx=context() \n",
    "ctx.logger.setLevel(logging.DEBUG)\n",
    "config = {}\n",
    "with open('config.json', 'r') as f: \n",
    "    config=json.loads(f.read())    \n",
    "ctx.config=config \n",
    "import warnings\n",
    "warnings.filterwarnings('ignore')"
   ]
  },
  {
   "cell_type": "code",
   "execution_count": 7,
   "metadata": {},
   "outputs": [
    {
     "data": {
      "text/plain": [
       "'JUMPHOSTACCESSEGTHEUSERACCESSESTHEHVAFROMANINTERMEDIATEHOST'"
      ]
     },
     "execution_count": 7,
     "metadata": {},
     "output_type": "execute_result"
    }
   ],
   "source": [
    "def normalize(s): \n",
    "    s=re.sub('[^A-Za-z0-9\\s]','',str(s))\n",
    "    s=re.sub('\\s{1,}','',str(s))\n",
    "    return s.upper().strip()\n",
    "normalize('Jump host access (e.g., the user accesses the HVA from an intermediate host) ')"
   ]
  },
  {
   "cell_type": "code",
   "execution_count": 8,
   "metadata": {},
   "outputs": [
    {
     "data": {
      "text/plain": [
       "423"
      ]
     },
     "execution_count": 8,
     "metadata": {},
     "output_type": "execute_result"
    }
   ],
   "source": [
    "pl=sql_todf(\"\"\"\n",
    "SELECT UPPER(LTRIM(RTRIM(DisplayValue))) [Selections], PK_PickList [ML_Value], PK_PickListType [PLT]\n",
    "FROM vwPickLists  \n",
    "WHERE PK_PickListType > 410\n",
    "ORDER BY PK_PickListType DESC\n",
    "\"\"\", connstr)  \n",
    "s=list(pl.loc[pl['PLT']==491]['Selections'])\n",
    "pl['NSelections'] = pl['Selections'].apply(normalize) \n",
    "pr = picklist_recommender(ctx.config['connstr'], reset_cache=True, picklist_where=' PK_PickListType > 410 ') \n",
    "#pr.normalize(' '.join(s))\n",
    "pl.loc[pl['PLT']==491] "
   ]
  },
  {
   "cell_type": "code",
   "execution_count": null,
   "metadata": {},
   "outputs": [],
   "source": [
    "path=r'C:\\Users\\timko\\Downloads\\Questionnaire\\\\'\n",
    "files = [f for f in listdir(path) if re.search('^HVA.*1\\.xlsx', f)]\n",
    "print('\\n'.join(files))\n",
    "xlfile=files[7]\n",
    "metric='EP7a' \n",
    "xlfile  "
   ]
  },
  {
   "cell_type": "code",
   "execution_count": null,
   "metadata": {},
   "outputs": [],
   "source": [
    "converts={\n",
    "    'Selections':lambda x: re.sub('^(\\s?\\d{,2}\\.)','',str(x)).upper().strip()\n",
    "    , 'ML':lambda x: str(x).strip()\n",
    "    , 'SML':lambda x: re.sub('[^A-Z0-9]','',str(x)).strip()  }\n",
    "df=pd.read_excel(f'{path}{xlfile}', converters=converts,  sheet_name=4, header=2, usecols='B:I').reset_index()\n",
    "df = df.rename(columns={'ML Score': 'ML_Score','ML Scored': 'ML_Scored' })\n",
    "#df.drop(index=df.index[-15:], inplace=True)\n",
    "for c in ['ID','Question','SML']:\n",
    "    df[c] = df[c].replace(to_replace=[0, '0'], method='ffill')\n",
    "if not 'ML' in df.columns:\n",
    "    df['ML']=df[\"ML_Score\"].apply(lambda x: str(x).strip())\n",
    "    df['ML_Score']=df[\"ML_Scored\"]\n",
    " \n",
    "df[\"ID\"].fillna(method='ffill', inplace=True) \n",
    "df.drop(columns=['Check Answer', 'index'], inplace=True)\n",
    "\n",
    "df = df.loc[ df[\"ID\"].str.contains('^\\w\\w\\d(\\w){0,5}$', na=False, regex=True) ]  \n",
    "df = df.loc[ df[\"ML\"].str.contains('\\d', na=False,  regex=True, case=False) ]  \n",
    "df['ML_Score'] = df['ML_Score'].apply(lambda s: re.sub('[^0-9\\.]','',str(s)))\n",
    "df['NSelections'] = df['Selections'].apply(normalize)\n",
    "df.loc[df['ID']=='RA2b']['NSelections']\n",
    " "
   ]
  },
  {
   "cell_type": "code",
   "execution_count": null,
   "metadata": {},
   "outputs": [],
   "source": [
    "s= list(df.loc[df['ID']=='RA2b']['NSelections'])\n",
    "pr.recommend(s, normalizer=normalize)['PK_PicklistType'] \n"
   ]
  },
  {
   "cell_type": "code",
   "execution_count": null,
   "metadata": {},
   "outputs": [],
   "source": [
    "dfp=df.groupby(['ID'], as_index=False).agg({'NSelections':list})  \n",
    "dfp['PLT']=dfp['Selections'].apply(lambda s: pr.recommend(s, normalizer=normalize)['PK_PicklistType'])\n",
    "pr.to_cache() \n",
    "\n",
    "dff=pd.merge(df,dfp.loc[:,['ID','PLT']], how='left', left_on='ID', right_on='ID')\n",
    "dff=pd.merge(dff,pl, how='left', left_on=['NSelections','PLT'], right_on=['NSelections','PLT'])\n",
    "dff.ML_Value=dff.ML_Value.fillna(0).astype('int32').astype('str') \n",
    "dff"
   ]
  },
  {
   "cell_type": "code",
   "execution_count": null,
   "metadata": {},
   "outputs": [],
   "source": [
    "df1=dff\n",
    "df1.SML.fillna(method='ffill', inplace=True)\n",
    "df1=df1.loc[df1['ML_Score'] != '0']\n",
    "df1['sortorder'] = range(1, len(df1)+1)\n",
    "df1=df1.loc[:, ['ID', 'SML', 'ML','ML_Score', 'ML_Scored', 'ML_Value', 'sortorder']]\n",
    "sql=SQL_INSERT_FROM_DF(df1, TARGET='@SASCORING')\n",
    "with open(f'{ctx.get_dest()}script.sql', 'w') as f:\n",
    "    f.write('\\n'.join(sql))\n",
    "df1.loc[df1['ID']=='EP7a']"
   ]
  },
  {
   "cell_type": "code",
   "execution_count": null,
   "metadata": {},
   "outputs": [],
   "source": [
    "def writefile():\n",
    "    s=''\n",
    "    template=\"2023-A-HVAENDPRO'\\n\\tBEGIN\\n\\n\\tEND--'2023-A-HVAENDPRO'\"\n",
    "    with open(r'C:\\dev\\CyberScope\\CyberScopeBranch\\CSwebdev\\database\\Sprocs\\sp_HVASAScoreDash.sql', 'r', encoding='UTF-8') as f:\n",
    "        s=f.read()\n",
    "    m=re.search(\"(2023-A-HVAENDPRO.*--'2023-A-HVAENDPRO')\",s, re.DOTALL)\n",
    "    pholder=s[m.span(1)[0] :m.span(1)[1] ]\n",
    "    s=s.replace(pholder, '')\n",
    "    s\n",
    "def check_pick(id='EP7a'):\n",
    "    sel = list(df.loc[df['ID']==id]['Selections'])\n",
    "    print(' '.join(sel))\n",
    "    pr.recommend(sel, normalizer=normalize)"
   ]
  }
 ],
 "metadata": {
  "kernelspec": {
   "display_name": "base",
   "language": "python",
   "name": "python3"
  },
  "language_info": {
   "codemirror_mode": {
    "name": "ipython",
    "version": 3
   },
   "file_extension": ".py",
   "mimetype": "text/x-python",
   "name": "python",
   "nbconvert_exporter": "python",
   "pygments_lexer": "ipython3",
   "version": "3.8.5"
  },
  "orig_nbformat": 4,
  "vscode": {
   "interpreter": {
    "hash": "3a7c076192e1e16d3ee1a218e6831777c4d2e3a001a9a33f6decd6c7672cec63"
   }
  }
 },
 "nbformat": 4,
 "nbformat_minor": 2
}
