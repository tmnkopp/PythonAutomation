{
 "cells": [
  {
   "cell_type": "code",
   "execution_count": 1,
   "metadata": {},
   "outputs": [],
   "source": [
    "import pandas as pd\n",
    "import numpy as np \n",
    "import re, json, os , logging , random, html, datetime \n",
    "from os import listdir\n",
    "from os.path import isfile, join\n",
    "from lib.config import connstr\n",
    "from lib.context import context\n",
    "from lib.utils import * \n",
    "from lib.picklist_recommender import picklist_recommender \n",
    "from lib.script_generator import script_generator   \n",
    "ctx=context() \n",
    "ctx.logger.setLevel(logging.DEBUG)\n",
    "config = {}\n",
    "with open('config.json', 'r') as f: \n",
    "    config=json.loads(f.read())    \n",
    "ctx.config=config \n",
    "import warnings\n",
    "warnings.filterwarnings('ignore')"
   ]
  },
  {
   "cell_type": "code",
   "execution_count": null,
   "metadata": {},
   "outputs": [],
   "source": [
    "gen=script_generator(ctx)\n",
    "sql_items, sql = gen.list_to_sql( ['AAA', 'BBB'] )\n",
    "print(sql)"
   ]
  },
  {
   "cell_type": "code",
   "execution_count": 2,
   "metadata": {},
   "outputs": [],
   "source": [
    " \n",
    "files = { \n",
    "'2023-A-HVAARC':'HVA Network Architecture Questionnaire v0.1.xlsx' ,\n",
    "'2023-A-HVAASSET':'HVA Asset Management Questionnaire v0.1.xlsx' ,\n",
    "'2023-A-HVABC':'HVA Business Continuity Management Questionnaire v0.1.xlsx' ,\n",
    "'2023-A-HVADPRO':'HVA Data Protection Questionnaire v0.1.xlsx',\n",
    "'2023-A-HVAENDPRO':'HVA Endpoint Protection Questionnaire v0.1.xlsx',\n",
    "'2023-A-HVAIDENT':'HVA Identity and Access Management Questionnaire v0.1.xlsx',\n",
    "'2023-A-HVAMD':'HVA Monitoring and Detection Questionnaire v0.1.xlsx',\n",
    "'2023-A-HVAREM':'HVA Remote Access Questionnaire v0.1.xlsx',\n",
    "'2023-A-HVAVULN':'HVA Vulnerability Management Questionnaire v0.1.xlsx' \n",
    "}\n",
    "#files = [f for f in listdir(path) if re.search('^HVA.*1\\.xlsx', f)] "
   ]
  },
  {
   "cell_type": "code",
   "execution_count": 6,
   "metadata": {},
   "outputs": [],
   "source": [
    "def normalize(s): \n",
    "    s=s.upper().strip()\n",
    "    s=re.sub('[^A-Z0-9\\s]','',str(s))\n",
    "    s=re.sub('\\s{1,}','',str(s))\n",
    "    return s\n",
    "normalize('Jump host access (e.g., the user accesses the HVA from an intermediate host) ')\n",
    " \n",
    "def get_recommender(PK_FORM, normalizer=normalize):\n",
    "    pl=sql_todf(f\"\"\"\n",
    "    SELECT LTRIM(RTRIM(DisplayValue))  [Selections], PK_PickList [ML_Value], PK_PickListType [PK_PickListType]\n",
    "    FROM vwPickLists  \n",
    "    WHERE PK_PickListType IN ( SELECT DISTINCT FK_PickListType  FROM vwQuestions WHERE PK_FORM='{PK_FORM}') \n",
    "    ORDER BY PK_PickListType DESC\n",
    "    \"\"\", connstr)   \n",
    "    pl['SelectionsNorm'] = pl['Selections'].apply(normalize) \n",
    "    pr = picklist_recommender(ctx.config['connstr'], reset_cache=True, picklist_where=f\" PK_PickListType IN ( SELECT DISTINCT FK_PickListType  FROM vwQuestions WHERE PK_FORM='{PK_FORM}') \") \n",
    "    \n",
    "    return pr, pl\n",
    "\n",
    "def xl_to_df(PK_FORM): \n",
    "    path=r'C:\\Users\\timko\\Downloads\\Questionnaire\\\\' + files[PK_FORM]\n",
    "    print(PK_FORM)\n",
    "    converts={\n",
    "        'Selections':lambda x: re.sub(\"^(\\s?\\d{,2}\\.)\",'',str(x)).strip() \n",
    "        , 'SML':lambda x: re.sub('[^A-Z0-9]','',str(x)).strip() \n",
    "        , 'ML Scored':lambda x: str(x).strip() \n",
    "    }\n",
    "    df=pd.read_excel(f'{path}', converters=converts,  sheet_name=4, header=2, usecols='B:I, M:R').reset_index()  \n",
    "    \n",
    "    for c in ['ID','Question','SML']:  df[c] = df[c].replace(to_replace=[0, '0'], method='ffill')\n",
    "    for c in df.columns:  df = df.rename({c: re.sub('\\s','_',c) }, axis='columns')\n",
    " \n",
    "    if 'ML' in df.columns:\n",
    "        df[\"ML_Scored\"]= df[\"ML_Score\"].apply(lambda x: str(x).strip())\n",
    "        df['ML_Score']=df[\"ML\"].apply(lambda x: str(x).strip())\n",
    "        df=df.drop(columns='ML')\n",
    " \n",
    "    df['PK_FORM']=PK_FORM\n",
    "    df[\"ID\"].fillna(method='ffill', inplace=True) \n",
    "    df.drop(columns=['Check_Answer', 'index'], inplace=True)\n",
    "     \n",
    "    df = df.loc[ df[\"ID\"].str.contains('^\\w\\w\\d(\\w){0,5}$', na=False, regex=True) ]   \n",
    "    df = df.loc[ df[\"SML\"].str.contains('^SML(\\d)$', na=False, regex=True) ]   \n",
    "    \n",
    "    df['ML_Score'] = df['ML_Score'].apply(lambda s: re.sub('[^0-9\\.]','',str(s)))\n",
    "    df['Selections']=df['Selections'].apply(lambda s: str(s).replace(\"'\",'`'))\n",
    "    df['SelectionsNorm'] = df['Selections'].apply(normalize)\n",
    "    df['SML']=df['ML_Score'].apply(lambda s: f'SML{s}') \n",
    "    df.fillna('', inplace=True)\n",
    "    for c in df.columns:  \n",
    "        df[c]=df[c].astype('str')    \n",
    "    return df\n",
    "\n",
    "def apply_picklists(df): \n",
    "    PK_FORM=df.iloc[0]['PK_FORM']\n",
    "    pr, pl=get_recommender(PK_FORM=PK_FORM, normalizer=normalize)\n",
    "    dfp=df.groupby(['ID'], as_index=False).agg({'SelectionsNorm':list})  \n",
    "    dfp['PK_PickListType']=dfp['SelectionsNorm'].apply(lambda s: pr.recommend(s, normalizer=normalize)['PK_PicklistType'])\n",
    "    pr.to_cache() \n",
    "\n",
    "    dff=pd.merge(df,dfp.loc[:,['ID','PK_PickListType']], how='left', left_on='ID', right_on='ID')\n",
    "    dff=pd.merge(dff,pl, how='left', left_on=['SelectionsNorm','PK_PickListType'], right_on=['SelectionsNorm','PK_PickListType']) \n",
    "    dff.rename(columns={'Selections_x': 'Selections'}, inplace=True)\n",
    "    dff.ML_Value=dff.ML_Value.fillna(0).astype('int32').astype('str') \n",
    "    dff['PK_Picklist']=dff.ML_Value.astype('int32')\n",
    "    dff = dff.drop(columns=[c for c in dff.columns if re.search('_\\w$|Question', c) ])\n",
    "    dff['sortorder'] = range(1, len(dff)+1) \n",
    "    if 'ZT_Score' in dff.columns:\n",
    "        dff=dff.drop(columns='ZT_Score')\n",
    "    return dff\n",
    "\n",
    "#df = xl_to_df('2023-A-HVAAPPSEC')\n",
    "#df = apply_picklists(df)\n",
    "#df\n",
    "#df.loc[df['ID'] == 'NA4a']\n",
    " "
   ]
  },
  {
   "cell_type": "code",
   "execution_count": 7,
   "metadata": {},
   "outputs": [
    {
     "name": "stdout",
     "output_type": "stream",
     "text": [
      "2023-A-HVAARC\n",
      "2023-A-HVAASSET\n",
      "2023-A-HVABC\n",
      "2023-A-HVADPRO\n",
      "2023-A-HVAENDPRO\n",
      "2023-A-HVAIDENT\n",
      "2023-A-HVAMD\n",
      "2023-A-HVAREM\n",
      "2023-A-HVAVULN\n"
     ]
    }
   ],
   "source": [
    "create=''\n",
    "script=''\n",
    "for k in files.keys():\n",
    "    df = xl_to_df(k)\n",
    "    df = apply_picklists(df)\n",
    "    ins, create, temp=SQL_INSERT_FROM_DF(df, TABLE_NAME='HVASAScoring') \n",
    "    script=script + '\\n\\n--' + k + '\\n\\n' + '\\n'.join(ins)\n",
    "   \n",
    "with open(f'{ctx.get_dest()}script.sql', 'w') as f: \n",
    "    f.write(f\"{create} \\n\\n {script}\"  )\n",
    "with open(r'C:\\dev\\CyberScope\\CyberScopeBranch\\CSwebdev\\database\\_101_DB_Update_SAScoring_Excel_Import.sql', 'w') as f: \n",
    "    f.write( f\"{create} \\n\\n {script}\"  )"
   ]
  },
  {
   "cell_type": "code",
   "execution_count": null,
   "metadata": {},
   "outputs": [],
   "source": [
    "with open(f'{ctx.get_dest()}script.sql', 'r') as r: \n",
    "    txt = r.read( )\n",
    "    with open(r'C:\\dev\\CyberScope\\CyberScopeBranch\\CSwebdev\\database\\_101_DB_Update_SAScoring_Excel_Import.sql', 'w') as f: \n",
    "        f.write(txt )"
   ]
  },
  {
   "cell_type": "code",
   "execution_count": null,
   "metadata": {},
   "outputs": [],
   "source": [
    "\n",
    "dff=apply_picklists(df)\n",
    "\n",
    "ins, create, temp=SQL_INSERT_FROM_DF(dff, TABLE_NAME='HVASAScoring')\n",
    "with open(f'{ctx.get_dest()}script.sql', 'w') as f:\n",
    "    ins='\\n'.join(ins)\n",
    "    f.write(f\"{create} \\n\\n {ins}\"  )\n",
    "    \n",
    "with open (r'C:\\dev\\CyberScope\\CyberScopeBranch\\CSwebdev\\database\\_100_DB_Update-752.sql', 'r' ) as f:\n",
    "    temp=f.read()\n",
    "temp  \n",
    "\n",
    " "
   ]
  },
  {
   "cell_type": "code",
   "execution_count": null,
   "metadata": {},
   "outputs": [],
   "source": [
    "df1=dff\n",
    "df1.SML.fillna(method='ffill', inplace=True)\n",
    "df1=df1.loc[df1['ML_Score'] != '0']\n",
    "df1['FK_Picklist']=df1['ML_Value'].astype(int)\n",
    "\n",
    "df1=df1.loc[:, ['ID', 'SML', 'ML','ML_Score', 'ML_Scored', 'ML_Value', 'sortorder']]\n",
    "sql=SQL_INSERT_FROM_DF(df1, TARGET='@SASCORING')\n",
    "\n",
    "  \n",
    "with open(f'{ctx.get_dest()}script.sql', 'w') as f:\n",
    "    f.write('\\n'.join(sql))\n",
    "df1.loc[df1['ID']=='ID5b']\n",
    "df1"
   ]
  }
 ],
 "metadata": {
  "kernelspec": {
   "display_name": "base",
   "language": "python",
   "name": "python3"
  },
  "language_info": {
   "codemirror_mode": {
    "name": "ipython",
    "version": 3
   },
   "file_extension": ".py",
   "mimetype": "text/x-python",
   "name": "python",
   "nbconvert_exporter": "python",
   "pygments_lexer": "ipython3",
   "version": "3.8.5"
  },
  "orig_nbformat": 4,
  "vscode": {
   "interpreter": {
    "hash": "3a7c076192e1e16d3ee1a218e6831777c4d2e3a001a9a33f6decd6c7672cec63"
   }
  }
 },
 "nbformat": 4,
 "nbformat_minor": 2
}
