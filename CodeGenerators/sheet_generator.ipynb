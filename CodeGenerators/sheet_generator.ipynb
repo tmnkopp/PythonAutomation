{
 "cells": [
  {
   "cell_type": "code",
   "execution_count": 2,
   "metadata": {
    "metadata": {}
   },
   "outputs": [],
   "source": [
    "import pandas as pd\n",
    "import numpy as np  \n",
    "import re, json, logging , html, os , csv\n",
    "from lib.config import connstr\n",
    "from lib.context import context\n",
    "from lib.utils import *  \n",
    "from lib.script_generator import script_generator  \n",
    "from lib.dbupdate_parser import dbupdate_parser   \n",
    "ctx=context() \n",
    "ctx.logger.setLevel(logging.DEBUG) \n",
    "with open('config.json', 'r') as f: \n",
    "    ctx.config=json.loads(f.read())     \n",
    "import warnings\n",
    "warnings.filterwarnings('ignore')  \n",
    "import string, random \n",
    "alphabet = string.ascii_letters + string.punctuation + string.whitespace\n",
    "import datetime\n",
    "from faker import Faker\n",
    "def id_generator(size=6, chars=string.ascii_uppercase + string.digits):\n",
    "    return ''.join(random.choice(chars) for _ in range(size))\n",
    "fake = Faker()\n",
    "\n",
    "def cve():\n",
    "    return 'CVE-2024-' + str(fake.unique.random_int(min=10000, max=99999))\n",
    "from datetime import datetime\n",
    "today = datetime.today().strftime('%m-%d-%Y')\n",
    "pl=sql_todf(\" SELECT * FROM vwPickLists \", connstr)  \n",
    "\n",
    "def rand_pick(usage_field, field='DisplayValue'):\n",
    "    return random.choice(list(pl.loc[pl.UsageField==usage_field][field]))\n"
   ]
  },
  {
   "cell_type": "code",
   "execution_count": null,
   "metadata": {},
   "outputs": [],
   "source": [
    "CIO_ATO_UPLOAD = sql_todf(\"  SELECT TOP 1 * FROM CIO_ATO_UPLOAD\", connstr)\n",
    "for c in CIO_ATO_UPLOAD.columns:\n",
    "    s = '{ field: \"'+c+'\", title: \"'+c+'\"  },' \n",
    "    print(s)"
   ]
  },
  {
   "cell_type": "code",
   "execution_count": 10,
   "metadata": {
    "metadata": {}
   },
   "outputs": [
    {
     "name": "stdout",
     "output_type": "stream",
     "text": [
      "Department of Labor\n",
      "16\n"
     ]
    }
   ],
   "source": [
    "ag =  list(sql_todf(\"  SELECT Component FROM [Component List] WHERE IsActive=1 AND FK_PK_Component IS NULL AND PK_Component < 200\", connstr)['Component']) \n",
    "print(random.choice(ag))\n",
    "print ( len(ag) ) "
   ]
  },
  {
   "cell_type": "code",
   "execution_count": null,
   "metadata": {},
   "outputs": [],
   "source": [
    "dest=r'D:\\dev\\CyberScope\\CyberScopeBranch\\CSwebdev\\code\\CyberScope.Tests\\Data'"
   ]
  },
  {
   "cell_type": "code",
   "execution_count": null,
   "metadata": {},
   "outputs": [],
   "source": [
    "rand_pick('ServiceModelType', 'DisplayValue')\n",
    "fake.paragraph(nb_sentences=1)\n",
    "fake.slug()\n",
    "fake.ipv6()\n",
    "today\n",
    "cve()\n",
    "fake.paragraph(nb_sentences=1)\n"
   ]
  },
  {
   "cell_type": "code",
   "execution_count": 1,
   "metadata": {
    "metadata": {}
   },
   "outputs": [
    {
     "ename": "NameError",
     "evalue": "name 'pd' is not defined",
     "output_type": "error",
     "traceback": [
      "\u001b[1;31m---------------------------------------------------------------------------\u001b[0m",
      "\u001b[1;31mNameError\u001b[0m                                 Traceback (most recent call last)",
      "\u001b[1;32m<ipython-input-1-140f76935f73>\u001b[0m in \u001b[0;36m<module>\u001b[1;34m\u001b[0m\n\u001b[0;32m      3\u001b[0m \u001b[1;31m# df=pd.read_excel(rf'D:\\dev\\CyberScope\\CyberScopeBranch\\CSwebdev\\code\\CyberScope.Tests\\Data\\ato_valid.xlsx', sheet_name='ato_valid', header=0, usecols='A:Z' )\u001b[0m\u001b[1;33m\u001b[0m\u001b[1;33m\u001b[0m\u001b[1;33m\u001b[0m\u001b[0m\n\u001b[0;32m      4\u001b[0m \u001b[1;33m\u001b[0m\u001b[0m\n\u001b[1;32m----> 5\u001b[1;33m \u001b[0mdf\u001b[0m \u001b[1;33m=\u001b[0m \u001b[0mpd\u001b[0m\u001b[1;33m.\u001b[0m\u001b[0mread_csv\u001b[0m\u001b[1;33m(\u001b[0m\u001b[1;34mr'C:\\Users\\Tim\\Downloads\\ato.csv'\u001b[0m\u001b[1;33m)\u001b[0m\u001b[1;33m\u001b[0m\u001b[1;33m\u001b[0m\u001b[0m\n\u001b[0m\u001b[0;32m      6\u001b[0m \u001b[0mdf\u001b[0m \u001b[1;33m=\u001b[0m \u001b[0mdf\u001b[0m\u001b[1;33m.\u001b[0m\u001b[0mdropna\u001b[0m\u001b[1;33m(\u001b[0m\u001b[1;33m)\u001b[0m\u001b[1;33m\u001b[0m\u001b[1;33m\u001b[0m\u001b[0m\n\u001b[0;32m      7\u001b[0m \u001b[0mdf\u001b[0m\u001b[1;33m[\u001b[0m\u001b[1;34m'Parent Agency'\u001b[0m\u001b[1;33m]\u001b[0m \u001b[1;33m=\u001b[0m \u001b[0mdf\u001b[0m\u001b[1;33m[\u001b[0m\u001b[1;34m'Parent Agency'\u001b[0m\u001b[1;33m]\u001b[0m\u001b[1;33m.\u001b[0m\u001b[0mapply\u001b[0m\u001b[1;33m(\u001b[0m\u001b[1;32mlambda\u001b[0m \u001b[0ms\u001b[0m\u001b[1;33m:\u001b[0m \u001b[0mrandom\u001b[0m\u001b[1;33m.\u001b[0m\u001b[0mchoice\u001b[0m\u001b[1;33m(\u001b[0m\u001b[0mag\u001b[0m\u001b[1;33m)\u001b[0m\u001b[1;33m)\u001b[0m\u001b[1;33m\u001b[0m\u001b[1;33m\u001b[0m\u001b[0m\n",
      "\u001b[1;31mNameError\u001b[0m: name 'pd' is not defined"
     ]
    }
   ],
   "source": [
    "# D:\\dev\\CyberScope\\CyberScopeBranch\\CSwebdev\\code\\CyberScope.Tests\\Data\\ato_valid.xlsx\n",
    "# \"C:\\Users\\Tim\\Downloads\\ato.csv\" \n",
    "# df=pd.read_excel(rf'D:\\dev\\CyberScope\\CyberScopeBranch\\CSwebdev\\code\\CyberScope.Tests\\Data\\ato_valid.xlsx', sheet_name='ato_valid', header=0, usecols='A:Z' )    \n",
    "\n",
    "df = pd.read_csv(r'C:\\Users\\Tim\\Downloads\\ato.csv')\n",
    "df = df.dropna() \n",
    "df['Parent Agency'] = df['Parent Agency'].apply(lambda s: random.choice(ag))\n",
    "df['Service Description'] = df['Service Description'].apply(lambda s: re.sub('[\\r\\n]','',s)) \n",
    "df['Sub Agency'] = df['Sub Agency'].apply(lambda s: re.sub('[\\r\\n]','',s))\n",
    "df['Service Model'] = df['Service Model'].apply(lambda s: rand_pick('ServiceModelType', 'DisplayValue') + '~')\n",
    "df['Cloud Service Provider'] = df['Cloud Service Provider'].apply(lambda s: rand_pick('CSP', 'DisplayValue') + '~')\n",
    "\n",
    "df=pd.concat([df], ignore_index=True)\n",
    "df"
   ]
  },
  {
   "cell_type": "code",
   "execution_count": null,
   "metadata": {},
   "outputs": [],
   "source": [
    "df[:10].to_csv(r'D:\\dev\\CyberScope\\CyberScopeBranch\\CSwebdev\\code\\CyberScope.Tests\\Data\\ato_invalid_10.csv', index=False)"
   ]
  },
  {
   "cell_type": "code",
   "execution_count": null,
   "metadata": {},
   "outputs": [],
   "source": [
    "df['Parent Agency'] = df['Parent Agency'].fillna('NULL')\n",
    "df.iloc[16]['Parent Agency']"
   ]
  },
  {
   "cell_type": "code",
   "execution_count": null,
   "metadata": {},
   "outputs": [],
   "source": [
    "df.to_excel(rf'D:\\dev\\CyberScope\\CyberScopeBranch\\CSwebdev\\code\\CyberScope.Tests\\Data\\ato_valid.xlsx',  sheet_name='ato_valid', index=False) \n",
    "df"
   ]
  },
  {
   "cell_type": "code",
   "execution_count": null,
   "metadata": {},
   "outputs": [],
   "source": [
    "for c in df.columns:\n",
    "    s = f'<CB:DataField  DBColumnName=\"{c.replace(\" \",\"\")}\" Require=\"False\" ImportColumnName=\"{c}\" runat=\"server\"/>  '\n",
    "    if \"Date\" in c:\n",
    "        s = f'<CB:DataField  DBColumnName=\"{c.replace(\" \",\"\")}\" Require=\"False\" ImportColumnName=\"{c}\"  runat=\"server\"/>  '\n",
    "    print(s)\n",
    " "
   ]
  },
  {
   "cell_type": "code",
   "execution_count": null,
   "metadata": {},
   "outputs": [],
   "source": [
    "print(ctx.get_download_path())\n",
    "file=rf'{ctx.get_download_path()}\\ATO.csv'  \n",
    "df=pd.read_excel(file, sheet_name='Cost & Funding Template', header=5, usecols='B:Z' )    \n",
    "df.columns"
   ]
  },
  {
   "cell_type": "code",
   "execution_count": null,
   "metadata": {},
   "outputs": [],
   "source": [
    "df.columns = list(map(lambda c: '' + c.replace(' ', ''), df.columns))"
   ]
  },
  {
   "cell_type": "code",
   "execution_count": null,
   "metadata": {},
   "outputs": [],
   "source": [
    "s = SQL_INSERT_FROM_DF(df)[1]\n",
    "print(s)"
   ]
  },
  {
   "cell_type": "code",
   "execution_count": null,
   "metadata": {},
   "outputs": [],
   "source": [
    "records=20000\n",
    "dff=pd.concat([df]*records, ignore_index=True)\n",
    "dff['Inventory Entry Identifier'] = dff['Inventory Entry Identifier'].apply(lambda s: id_generator(10))\n",
    "dff['Applicable Cost Categories'] = dff['Applicable Cost Categories'].apply(lambda s: rand_pick('SUBSTAT', 'DisplayValue'))\n",
    "dff['Applicable Technology Categories'] = dff['Applicable Technology Categories'].apply(lambda s: rand_pick('IDPS', 'DisplayValue'))\n",
    "\n",
    "dff.to_excel(fr'C:\\Users\\Tim\\Downloads\\CF_{records}.xlsx',  sheet_name='Cost & Funding Template', index=False) \n",
    "\n"
   ]
  },
  {
   "cell_type": "code",
   "execution_count": null,
   "metadata": {},
   "outputs": [],
   "source": [
    "file=f'{ctx.get_down_dir()}MFA.xlsx'  \n",
    "df=pd.read_excel(file, sheet_name=int(1), header=0, usecols='A:Z' )   "
   ]
  },
  {
   "cell_type": "code",
   "execution_count": null,
   "metadata": {},
   "outputs": [],
   "source": [
    "dff=pd.concat([df]*50, ignore_index=True)\n",
    "dff['System ID (Optional)'] = dff['System ID (Optional)'].apply(lambda s: id_generator(10))\n",
    "dff['High Value Asset ID (Optional)'] = dff['High Value Asset ID (Optional)'].apply(lambda s: id_generator(10))\n",
    "dff['System Name'] = dff['System Name'].apply(lambda s: id_generator(10))\n",
    "dff['System Description'] = dff['System Description'].apply(lambda s: fake.paragraph(nb_sentences=1))\n",
    "dff.head()"
   ]
  },
  {
   "cell_type": "code",
   "execution_count": null,
   "metadata": {},
   "outputs": [],
   "source": [
    "dff.to_excel(f'{ctx.get_down_dir()}MFA_50.xlsx',  sheet_name='Sheet2', index=False) "
   ]
  },
  {
   "cell_type": "code",
   "execution_count": null,
   "metadata": {},
   "outputs": [],
   "source": [
    "sql=\"\"\" SELECT COLUMN_NAME, DATA_TYPE  FROM INFORMATION_SCHEMA.COLUMNS\n",
    " WHERE TABLE_NAME LIKE '%MFA%' AND (ORDINAL_POSITION > 0  ) ORDER BY ORDINAL_POSITION ASC \"\"\"\n",
    "df=sql_todf(sql, connstr)   \n",
    "df"
   ]
  },
  {
   "cell_type": "code",
   "execution_count": null,
   "metadata": {},
   "outputs": [],
   "source": []
  }
 ],
 "metadata": {
  "kernelspec": {
   "display_name": "base",
   "language": "python",
   "name": "python3"
  },
  "language_info": {
   "codemirror_mode": {
    "name": "ipython",
    "version": 3
   },
   "file_extension": ".py",
   "mimetype": "text/x-python",
   "name": "python",
   "nbconvert_exporter": "python",
   "pygments_lexer": "ipython3",
   "version": "3.8.8"
  },
  "orig_nbformat": 4
 },
 "nbformat": 4,
 "nbformat_minor": 2
}
