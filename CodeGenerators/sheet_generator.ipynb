{
 "cells": [
  {
   "cell_type": "code",
   "execution_count": null,
   "metadata": {},
   "outputs": [],
   "source": [
    "import pandas as pd\n",
    "import numpy as np \n",
    "#from faker import Faker\n",
    "import re, json, logging , html, os \n",
    "from lib.config import connstr\n",
    "from lib.context import context\n",
    "from lib.utils import *  \n",
    "from lib.script_generator import script_generator  \n",
    "from lib.dbupdate_parser import dbupdate_parser   \n",
    "ctx=context() \n",
    "ctx.logger.setLevel(logging.DEBUG) \n",
    "with open('config.json', 'r') as f: \n",
    "    ctx.config=json.loads(f.read())     \n",
    "import warnings\n",
    "warnings.filterwarnings('ignore') \n",
    "import shutil\n",
    "import string, random\n",
    "import requests\n",
    "alphabet = string.ascii_letters + string.punctuation + string.whitespace\n",
    "import datetime\n",
    "from faker import Faker\n",
    "def id_generator(size=6, chars=string.ascii_uppercase + string.digits):\n",
    "    return ''.join(random.choice(chars) for _ in range(size))\n",
    "fake = Faker()\n",
    "\n",
    "def cve():\n",
    "    return 'CVE-2024-' + str(fake.unique.random_int(min=10000, max=99999))\n"
   ]
  },
  {
   "cell_type": "code",
   "execution_count": null,
   "metadata": {},
   "outputs": [],
   "source": [
    "fake.paragraph(nb_sentences=2)\n",
    "fake.slug()\n",
    "fake.ipv6()"
   ]
  },
  {
   "cell_type": "code",
   "execution_count": null,
   "metadata": {},
   "outputs": [],
   "source": [
    "file=f'{ctx.get_down_dir()}MFA.xlsx'  \n",
    "df=pd.read_excel(file, sheet_name=int(1), header=0, usecols='A:Z' )   \n"
   ]
  },
  {
   "cell_type": "code",
   "execution_count": null,
   "metadata": {},
   "outputs": [],
   "source": [
    "dff=pd.concat([df]*50, ignore_index=True)\n",
    "dff['System ID (Optional)'] = dff['System ID (Optional)'].apply(lambda s: id_generator(10))\n",
    "dff['High Value Asset ID (Optional)'] = dff['High Value Asset ID (Optional)'].apply(lambda s: id_generator(10))\n",
    "dff['System Name'] = dff['System Name'].apply(lambda s: id_generator(10))\n",
    "dff['System Description'] = dff['System Description'].apply(lambda s: fake.paragraph(nb_sentences=2))\n",
    "dff.head()"
   ]
  },
  {
   "cell_type": "code",
   "execution_count": null,
   "metadata": {},
   "outputs": [],
   "source": [
    "df.columns[2]"
   ]
  },
  {
   "cell_type": "code",
   "execution_count": null,
   "metadata": {},
   "outputs": [],
   "source": [
    "dff.to_excel(f'{ctx.get_down_dir()}MFA_50.xlsx',  sheet_name='Sheet2', index=False) "
   ]
  },
  {
   "cell_type": "code",
   "execution_count": null,
   "metadata": {},
   "outputs": [],
   "source": [
    "sql=\"\"\"\n",
    "SELECT COLUMN_NAME\n",
    "  FROM INFORMATION_SCHEMA.COLUMNS\n",
    " WHERE TABLE_NAME LIKE '%BOD2302%' AND (ORDINAL_POSITION > 8  )\n",
    "ORDER BY ORDINAL_POSITION ASC\n",
    "\"\"\"\n",
    "df=sql_todf(sql, connstr)  \n",
    "df"
   ]
  },
  {
   "cell_type": "code",
   "execution_count": null,
   "metadata": {},
   "outputs": [],
   "source": []
  }
 ],
 "metadata": {
  "kernelspec": {
   "display_name": "base",
   "language": "python",
   "name": "python3"
  },
  "language_info": {
   "codemirror_mode": {
    "name": "ipython",
    "version": 3
   },
   "file_extension": ".py",
   "mimetype": "text/x-python",
   "name": "python",
   "nbconvert_exporter": "python",
   "pygments_lexer": "ipython3",
   "version": "3.8.5"
  },
  "orig_nbformat": 4
 },
 "nbformat": 4,
 "nbformat_minor": 2
}
