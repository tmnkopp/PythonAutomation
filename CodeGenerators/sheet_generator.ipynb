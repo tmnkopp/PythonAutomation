{
 "cells": [
  {
   "cell_type": "code",
   "execution_count": null,
   "metadata": {
    "metadata": {}
   },
   "outputs": [],
   "source": [
    "import pandas as pd\n",
    "import numpy as np  \n",
    "import re, json, logging , html, os , csv\n",
    "from lib.config import connstr\n",
    "from lib.context import context\n",
    "from lib.utils import *  \n",
    "from lib.script_generator import script_generator  \n",
    "from lib.dbupdate_parser import dbupdate_parser   \n",
    "ctx=context() \n",
    "ctx.logger.setLevel(logging.DEBUG) \n",
    "with open('config.json', 'r') as f: \n",
    "    ctx.config=json.loads(f.read())     \n",
    "import warnings\n",
    "warnings.filterwarnings('ignore')  \n",
    "import string, random \n",
    "alphabet = string.ascii_letters + string.punctuation + string.whitespace\n",
    "import datetime\n",
    "from faker import Faker\n",
    "def id_generator(size=6, chars=string.ascii_uppercase + string.digits):\n",
    "    return ''.join(random.choice(chars) for _ in range(size))\n",
    "fake = Faker() \n",
    "def cve():\n",
    "    return 'CVE-2024-' + str(fake.unique.random_int(min=10000, max=99999)) \n",
    "from datetime import datetime\n",
    "today = datetime.today().strftime('%m-%d-%Y') \n",
    "\n",
    "dest=rf\"C:\\dev\\CyberScope\\CyberScopeBranch\\CSwebdev\\code\\CyberScope.Tests\\Data\\\\\"\n"
   ]
  },
  {
   "cell_type": "code",
   "execution_count": null,
   "metadata": {},
   "outputs": [],
   "source": [
    " \n",
    "from faker.providers import BaseProvider\n",
    "\n",
    "class CSProvider(BaseProvider): \n",
    " \n",
    "    def picklist(self, PK_PICKLISTTYPE):\n",
    "        pk = self._all_picklists()\n",
    "        DisplayValues = list(pk.loc[ pk[\"PK_PickListType\"] ==int(PK_PICKLISTTYPE)  ]['DisplayValue'])  \n",
    "        return self.random_elements(DisplayValues , 1 )[0]\n",
    "    \n",
    "    def component(self, pk_component = 0) : \n",
    "        df = self._all_components() \n",
    "        if pk_component > 0:\n",
    "            df=df.loc[ df[\"AGENCY_PK\"] == pk_component]\n",
    "        lst = df.to_dict('records')  \n",
    "        return self.random_elements(lst, 1 )[0]\n",
    "    \n",
    "    def agency(self) : \n",
    "        lst = list(self._all_components()['AGENCY'] )\n",
    "        return self.random_elements(lst, 1 )[0]\n",
    "      \n",
    "    def _all_picklists(self): \n",
    "        return sql_todf(\"SELECT DisplayValue, PK_Picklist,PK_PickListType FROM vwPicklists  \", connstr)\n",
    "    \n",
    "    def _all_components(self):\n",
    "        components = sql_todf(\"\"\" \n",
    "        SELECT A.PK_Component AGENCY_PK, A.Component AS AGENCY, A.Acronym AS AGENCY_Acronym, CONVERT(INT, b.PK_Component) AS Bureau_PK , b.Component AS Bureau, B.Acronym AS Bureau_Acronym \n",
    "        FROM [Component List] A \n",
    "        INNER JOIN [Component List] B ON B.FK_PK_Component=A.PK_Component AND B.IsActive = 1 \n",
    "        WHERE A.IsActive = 1 AND A.FK_PK_Component IS NULL AND A.PK_Component < 200\n",
    "        ORDER BY AGENCY_PK ASC\n",
    "        \"\"\", connstr)\n",
    "        components['Bureau_PK']=components['Bureau_PK'].fillna(0).astype(int) \n",
    "        return components\n",
    " \n",
    "\n",
    "fake.add_provider(CSProvider)  \n",
    "fake.component(24)"
   ]
  },
  {
   "cell_type": "code",
   "execution_count": null,
   "metadata": {},
   "outputs": [],
   "source": [
    "df = df_fromDataFields(r'C:\\dev\\CyberScope\\CyberScopeBranch\\CSwebdev\\code\\CyberScope\\BODSCuBA\\2024\\2024_A_SCuBATenantInventory_1.aspx')\n",
    "df"
   ]
  },
  {
   "cell_type": "code",
   "execution_count": null,
   "metadata": {},
   "outputs": [],
   "source": [
    "\n",
    "lod=[]\n",
    "for _ in range(0,5):\n",
    "    d={}\n",
    "    for i,r in df.iterrows(): \n",
    "        d[ r['HEADER'] ] = fake.md5()[:12]\n",
    "        if int(r['PK_PICKLISTTYPE']) > 0: \n",
    "            d[ r['HEADER'] ] = get_randomDisplayValue( int(r['PK_PICKLISTTYPE']) ) \n",
    "        if 'notes' in r['HEADER']:\n",
    "            d[ r['HEADER'] ] = fake.paragraph(nb_sentences=3)\n",
    "        if 'Sub-agency' in r['HEADER']:\n",
    "            d[ r['HEADER'] ] = fake.component(109)['Bureau']\n",
    "    lod.append(d)\n",
    "dff=pd.DataFrame(lod)\n",
    "dff"
   ]
  },
  {
   "cell_type": "code",
   "execution_count": null,
   "metadata": {},
   "outputs": [],
   "source": [
    "dff.to_excel(dest+'SCuBA_VALID.xlsx',   sheet_name='BOD 25-01 Inventory', index=False)"
   ]
  },
  {
   "cell_type": "code",
   "execution_count": null,
   "metadata": {},
   "outputs": [],
   "source": [
    "lod = []\n",
    "ab = 'B'\n",
    "odds = 10\n",
    "for i in range(1,1001):\n",
    "    lod.append({\n",
    "        'user_id':'u'+str(random.randint(100000,900000)),\n",
    "        'timestamp': fake.date_time_this_year( ).strftime(\"%m-%d-%Y %H:%M:%S\"),\n",
    "        'page': ab,\n",
    "        'converted' : (1 if random.randint(0,odds) < 5 else 0 ) \n",
    "    })\n",
    "    if ab == 'B': \n",
    "        ab = 'A'\n",
    "        odds=10\n",
    "    else:   \n",
    "        ab = 'B'\n",
    "        odds=7\n",
    "\n",
    "df=pd.DataFrame(lod)     \n",
    "#  df.to_csv(fr'{ctx.get_download_path()}\\ab_test_1000.csv', index=False)\n",
    "#  df[:100].to_csv(fr'{ctx.get_download_path()}\\ab_test_100.csv', index=False)\n",
    "df.groupby('page').sum()"
   ]
  },
  {
   "cell_type": "code",
   "execution_count": null,
   "metadata": {},
   "outputs": [],
   "source": [
    " \n",
    "fake.ipv6()\n",
    "today\n",
    "cve()\n",
    "fake.paragraph(nb_sentences=3)\n",
    " \n",
    "\n",
    "\n"
   ]
  },
  {
   "cell_type": "code",
   "execution_count": null,
   "metadata": {},
   "outputs": [],
   "source": [
    "# df = pd.read_excel(r'C:\\Users\\Tim\\Downloads\\FedRAMP Cloud Services - 060524.xlsx', sheet_name='FedRAMP Authorized Agency CSPs', header=0, usecols='A:Z' )  \n",
    "df = pd.read_excel(r'C:\\Users\\Tim\\Downloads\\FedRAMP Authorized Agency CSPs - TEST.xlsx', sheet_name='FedRAMP Authorized Agency CSPs', header=0, usecols='A:Z' ) \n",
    "\n",
    "df = df.fillna('') \n",
    "df = df.rename(columns={'FedRAMP ID': 'FedRAMP Package ID'})\n",
    "df['Agency'] = 'Department of Justice'\n",
    "df['Bureau'] = '' \n",
    "df['FedRAMP ATO Issuance Date'] = '05/11/2023' \n",
    "df=pd.concat([df]*4, ignore_index=True)\n",
    "df[:5000].to_excel(r'C:\\Users\\Tim\\Downloads\\fedramp_prepopulate_doj_5000.xlsx',   sheet_name='FedRAMP Authorized Agency CSPs', index=False)\n"
   ]
  },
  {
   "cell_type": "code",
   "execution_count": null,
   "metadata": {},
   "outputs": [],
   "source": [
    "df[:1000].to_excel(r'D:\\dev\\CyberScope\\CyberScopeBranch\\CSwebdev\\code\\CyberScope.Tests\\Data\\fedramp_valid_10.xlsx',   sheet_name='CyberScope Sample Import', index=False)"
   ]
  },
  {
   "cell_type": "code",
   "execution_count": null,
   "metadata": {},
   "outputs": [],
   "source": [
    "\n",
    "for i, row in df.iterrows():\n",
    "    with open(ctx.get_tempalte_dir()+'GridTemplateColumn.aspx', 'r') as f: \n",
    "        s=f.read() \n",
    "    DATA_TYPE=row['DATA_TYPE']\n",
    "    COLUMN_NAME=row['COLUMN_NAME']\n",
    "    HEADER=row['HEADER']\n",
    "    PK_PICKLISTTYPE=row['PK_PICKLISTTYPE']\n",
    "    s=s.replace('{COLUMN_NAME}', COLUMN_NAME)\n",
    "    if 'INT' in DATA_TYPE:  \n",
    "        s=s.replace('{Bind_COLUMN_NAME}', COLUMN_NAME+'_Display')\n",
    "        s=s.replace('<%-- --%>', f'<telerik:RadDropDownList ID=\"{COLUMN_NAME}\" DataValueField=\"YN\" runat=\"server\" />')  \n",
    "    else:\n",
    "        s=s.replace('{Bind_COLUMN_NAME}', COLUMN_NAME )\n",
    "        if 'Date' in COLUMN_NAME:  \n",
    "            # print(\"const \"+COLUMN_NAME+\" = new CBDatePicker({ id: $(`[id$=_\"+COLUMN_NAME+\"]`).prop('id'), allowNa: true  }); \")  \n",
    "            s=s.replace('<%-- --%>', f'<asp:HiddenField ID=\"{COLUMN_NAME}\" runat=\"server\" />') \n",
    "        else: \n",
    "            s=s.replace('<%-- --%>', f'<telerik:RadTextBox ID=\"{COLUMN_NAME}\" runat=\"server\" />') \n",
    "    #print(f\"[{COLUMN_NAME}] [NVARCHAR](4000) NULL,\")  \n",
    "    print('{ field: \"'+COLUMN_NAME+'\", title: \"'+HEADER+'\" },')"
   ]
  },
  {
   "cell_type": "code",
   "execution_count": null,
   "metadata": {
    "metadata": {}
   },
   "outputs": [],
   "source": [
    "df[:4000].to_csv(r'D:\\dev\\CyberScope\\CyberScopeBranch\\CSwebdev\\code\\CyberScope.Tests\\Data\\ato_valid_4000.csv', index=False)"
   ]
  },
  {
   "cell_type": "code",
   "execution_count": null,
   "metadata": {},
   "outputs": [],
   "source": [
    "df['Parent Agency'] = df['Parent Agency'].fillna('NULL')\n",
    "df.iloc[16]['Parent Agency']"
   ]
  },
  {
   "cell_type": "code",
   "execution_count": null,
   "metadata": {},
   "outputs": [],
   "source": [
    "df.to_excel(rf'D:\\dev\\CyberScope\\CyberScopeBranch\\CSwebdev\\code\\CyberScope.Tests\\Data\\ato_valid.xlsx',  sheet_name='ato_valid', index=False) \n",
    "df"
   ]
  },
  {
   "cell_type": "code",
   "execution_count": null,
   "metadata": {},
   "outputs": [],
   "source": [
    "for c in df.columns:\n",
    "    s = f'<CB:DataField  DBColumnName=\"{c.replace(\" \",\"\")}\" Require=\"False\" ImportColumnName=\"{c}\" runat=\"server\"/>  '\n",
    "    if \"Date\" in c:\n",
    "        s = f'<CB:DataField  DBColumnName=\"{c.replace(\" \",\"\")}\" Require=\"False\" ImportColumnName=\"{c}\"  runat=\"server\"/>  '\n",
    "    print(s)\n",
    " "
   ]
  },
  {
   "cell_type": "code",
   "execution_count": null,
   "metadata": {},
   "outputs": [],
   "source": [
    "print(ctx.get_download_path())\n",
    "file=rf'{ctx.get_download_path()}\\ATO.csv'  \n",
    "df=pd.read_excel(file, sheet_name='Cost & Funding Template', header=5, usecols='B:Z' )    \n",
    "df.columns"
   ]
  },
  {
   "cell_type": "code",
   "execution_count": null,
   "metadata": {},
   "outputs": [],
   "source": [
    "df.columns = list(map(lambda c: '' + c.replace(' ', ''), df.columns))"
   ]
  },
  {
   "cell_type": "code",
   "execution_count": null,
   "metadata": {},
   "outputs": [],
   "source": [
    "s = SQL_INSERT_FROM_DF(df)[1]\n",
    "print(s)"
   ]
  },
  {
   "cell_type": "code",
   "execution_count": null,
   "metadata": {},
   "outputs": [],
   "source": [
    "records=20000\n",
    "dff=pd.concat([df]*records, ignore_index=True)\n",
    "dff['Inventory Entry Identifier'] = dff['Inventory Entry Identifier'].apply(lambda s: id_generator(10))\n",
    "dff['Applicable Cost Categories'] = dff['Applicable Cost Categories'].apply(lambda s: rand_pick('SUBSTAT', 'DisplayValue'))\n",
    "dff['Applicable Technology Categories'] = dff['Applicable Technology Categories'].apply(lambda s: rand_pick('IDPS', 'DisplayValue'))\n",
    "\n",
    "dff.to_excel(fr'C:\\Users\\Tim\\Downloads\\CF_{records}.xlsx',  sheet_name='Cost & Funding Template', index=False) \n",
    "\n"
   ]
  },
  {
   "cell_type": "code",
   "execution_count": null,
   "metadata": {},
   "outputs": [],
   "source": [
    "file=f'{ctx.get_down_dir()}MFA.xlsx'  \n",
    "df=pd.read_excel(file, sheet_name=int(1), header=0, usecols='A:Z' )   "
   ]
  },
  {
   "cell_type": "code",
   "execution_count": null,
   "metadata": {},
   "outputs": [],
   "source": [
    "dff=pd.concat([df]*50, ignore_index=True)\n",
    "dff['System ID (Optional)'] = dff['System ID (Optional)'].apply(lambda s: id_generator(10))\n",
    "dff['High Value Asset ID (Optional)'] = dff['High Value Asset ID (Optional)'].apply(lambda s: id_generator(10))\n",
    "dff['System Name'] = dff['System Name'].apply(lambda s: id_generator(10))\n",
    "dff['System Description'] = dff['System Description'].apply(lambda s: fake.paragraph(nb_sentences=1))\n",
    "dff.head()"
   ]
  },
  {
   "cell_type": "code",
   "execution_count": null,
   "metadata": {},
   "outputs": [],
   "source": [
    "dff.to_excel(f'{ctx.get_down_dir()}MFA_50.xlsx',  sheet_name='Sheet2', index=False) "
   ]
  },
  {
   "cell_type": "code",
   "execution_count": null,
   "metadata": {},
   "outputs": [],
   "source": [
    "sql=\"\"\" SELECT COLUMN_NAME, DATA_TYPE  FROM INFORMATION_SCHEMA.COLUMNS\n",
    " WHERE TABLE_NAME LIKE '%MFA%' AND (ORDINAL_POSITION > 0  ) ORDER BY ORDINAL_POSITION ASC \"\"\"\n",
    "df=sql_todf(sql, connstr)   \n",
    "df"
   ]
  },
  {
   "cell_type": "code",
   "execution_count": null,
   "metadata": {},
   "outputs": [],
   "source": []
  }
 ],
 "metadata": {
  "kernelspec": {
   "display_name": "base",
   "language": "python",
   "name": "python3"
  },
  "language_info": {
   "codemirror_mode": {
    "name": "ipython",
    "version": 3
   },
   "file_extension": ".py",
   "mimetype": "text/x-python",
   "name": "python",
   "nbconvert_exporter": "python",
   "pygments_lexer": "ipython3",
   "version": "3.8.5"
  },
  "orig_nbformat": 4
 },
 "nbformat": 4,
 "nbformat_minor": 2
}
