{
 "cells": [
  {
   "cell_type": "code",
   "execution_count": 16,
   "metadata": {},
   "outputs": [
    {
     "name": "stdout",
     "output_type": "stream",
     "text": [
      "27\n"
     ]
    }
   ],
   "source": [
    "class Node:\n",
    "    def __init__(self, data): \n",
    "        self.left = None\n",
    "        self.right = None\n",
    "        self.data = data\n",
    "    \n",
    "class BinTree: \n",
    "    def __init__(self): \n",
    "        self.root = None   \n",
    "    def add(self, data): \n",
    "        self.evil(data)\n",
    "        # evil()\n",
    "    def evil(self, data):\n",
    "        print(data)\n",
    "\n",
    "bt = BinTree()\n",
    "bt.add(27)  \n",
    "# print(root.inorder(root)) //[10, 14, 19, 27, 31, 35, 42]"
   ]
  },
  {
   "cell_type": "code",
   "execution_count": null,
   "metadata": {},
   "outputs": [],
   "source": []
  }
 ],
 "metadata": {
  "kernelspec": {
   "display_name": "Python 3",
   "language": "python",
   "name": "python3"
  },
  "language_info": {
   "codemirror_mode": {
    "name": "ipython",
    "version": 3
   },
   "file_extension": ".py",
   "mimetype": "text/x-python",
   "name": "python",
   "nbconvert_exporter": "python",
   "pygments_lexer": "ipython3",
   "version": "3.8.5"
  }
 },
 "nbformat": 4,
 "nbformat_minor": 4
}
