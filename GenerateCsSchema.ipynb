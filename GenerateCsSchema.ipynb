{
 "cells": [
  {
   "cell_type": "code",
   "execution_count": 1,
   "metadata": {},
   "outputs": [],
   "source": [
    "import pandas as pd\n",
    "import re, subprocess, pyodbc , os\n",
    "import numpy as np # linear algebra \n",
    "from sqlalchemy import func, create_engine\n",
    "from config import mongoConn, connstr  \n",
    "import nltk\n",
    "from nltk.corpus import stopwords\n",
    "from nltk.stem.porter import PorterStemmer\n",
    "sw=stopwords.words('english')\n",
    "ps=PorterStemmer()\n",
    "import json "
   ]
  },
  {
   "cell_type": "code",
   "execution_count": 2,
   "metadata": {},
   "outputs": [],
   "source": [
    "lst = ['fsma_Answers']\n",
    "engine = create_engine(connstr) \n",
    "for t in lst:    \n",
    "    query = f\"\"\" \\\n",
    "        SELECT * FROM INFORMATION_SCHEMA.COLUMNS WHERE TABLE_NAME = '{t}' \n",
    "    \"\"\" \n",
    "    conn = engine.connect()\n",
    "    df = pd.read_sql(query,con=conn)     \n",
    "    conn.close()\n",
    "    df['Class'] = df['TABLE_NAME'].apply(lambda s: s.replace('fsma_',''))\n",
    "    df['Class'] = df['Class'].apply(lambda s:  re.sub('s$','',s))\n",
    "    df['DataType'] = df['DATA_TYPE'].apply(lambda s: re.sub('(nvarchar|nchar|bit|varchar)','string',s)) \n",
    "    df['DataType'] = df['DataType'].apply(lambda s: re.sub('(smalldatetime)','DateTime',s)) \n",
    "  \n",
    "    df[['Class', 'DataType','COLUMN_NAME','TABLE_NAME']] \n",
    "    template = \"\"\"\n",
    "using System;\n",
    "using System.Collections.Generic; \n",
    "namespace CyberScope.Tests\n",
    "{\n",
    "    [EntityMeta(\"{TABLE_NAME}\")]\n",
    "    public class {0}\n",
    "    {\n",
    "        public {0}(){ \n",
    "        \n",
    "        } {1}\n",
    "    } \n",
    "}\n",
    "    \"\"\" \n",
    "    template = template.replace('{0}', df.iloc[0]['Class'])\n",
    "    template = template.replace('{TABLE_NAME}', df.iloc[0]['TABLE_NAME']) \n",
    "    c=''\n",
    "    for i,r in df.iterrows():\n",
    "        c = c + '\\n\\t\\tpublic {0} {1} { get; set; }'.replace('{0}',r.DataType).replace('{1}',r.COLUMN_NAME)\n",
    "    template = template.replace('{1}', c) \n",
    "    #tmps = tmps + template\n",
    "    fname = r'D:\\\\dev\\\\CyberScope\\\\CyberScopeBranch\\\\CSwebdev\\\\code\\\\CyberScope.Tests\\\\Models\\\\' +df.iloc[0]['Class']+'.cs' \n",
    "with open(fname, 'w') as f:\n",
    "    f.write(template);\n",
    "conn.close()    "
   ]
  },
  {
   "cell_type": "code",
   "execution_count": 95,
   "metadata": {},
   "outputs": [],
   "source": [
    "def getvar( s ):\n",
    "    l = s.split('-') \n",
    "    return f'{l[2]}_{l[1]}_{l[0]}'"
   ]
  },
  {
   "cell_type": "code",
   "execution_count": 98,
   "metadata": {},
   "outputs": [
    {
     "name": "stdout",
     "output_type": "stream",
     "text": [
      "public static string ED2101A_A_2021 = \"2021-A-ED2101A\";\n",
      "public static string ED2101N_A_2021 = \"2021-A-ED2101N\";\n",
      "public static string EINSTEIN_A_2021 = \"2021-A-EINSTEIN\";\n",
      "public static string HVA_A_2021 = \"2021-A-HVA\";\n",
      "public static string IG_A_2021 = \"2021-A-IG\";\n",
      "public static string SAOP_A_2021 = \"2021-A-SAOP\";\n",
      "public static string CIO_Q1_2021 = \"2021-Q1-CIO\";\n",
      "public static string RMA_Q1_2021 = \"2021-Q1-RMA\";\n",
      "public static string BODVDP_Q2_2021 = \"2021-Q2-BODVDP\";\n",
      "public static string CIO_Q2_2021 = \"2021-Q2-CIO\";\n",
      "public static string CYBEREO_Q2_2021 = \"2021-Q2-CYBEREO\";\n",
      "public static string RMA_Q2_2021 = \"2021-Q2-RMA\";\n",
      "public static string CIO_Q3_2021 = \"2021-Q3-CIO\";\n",
      "public static string RMA_Q3_2021 = \"2021-Q3-RMA\";\n",
      "public static string CIO_Q4_2021 = \"2021-Q4-CIO\";\n",
      "public static string RMA_Q4_2021 = \"2021-Q4-RMA\";\n",
      "public static string AAPS_A_2020 = \"2020-A-AAPS\";\n",
      "public static string HVA_A_2020 = \"2020-A-HVA\";\n",
      "public static string HVAPOAM_A_2020 = \"2020-A-HVAPOAM\";\n",
      "public static string IG_A_2020 = \"2020-A-IG\";\n",
      "public static string SAOP_A_2020 = \"2020-A-SAOP\";\n",
      "public static string CIO_Q1_2020 = \"2020-Q1-CIO\";\n",
      "public static string RMA_Q1_2020 = \"2020-Q1-RMA\";\n",
      "public static string CIO_Q2_2020 = \"2020-Q2-CIO\";\n",
      "public static string RMA_Q2_2020 = \"2020-Q2-RMA\";\n",
      "\n"
     ]
    }
   ],
   "source": [
    "engine = create_engine(connstr)     \n",
    "query = f\"\"\" \\\n",
    "    SELECT TOP 25  PK_FORM FROM fsma_FormMaster ORDER BY Report_Year DESC\n",
    "\"\"\" \n",
    "c=''\n",
    "conn = engine.connect()\n",
    "dff = pd.read_sql(query,con=conn)     \n",
    "conn.close()\n",
    "dff['VAR'] = dff['PK_FORM'].apply(getvar)\n",
    "for i,r in dff.iterrows(): \n",
    "    c = c + f'public static string {r.VAR} = \"{r.PK_FORM}\";' + '\\n'\n",
    "#fname='D:\\dev\\CyberScope\\CyberScopeBranch\\CSwebdev\\code\\CyberScope.Tests\\Models\\'    \n",
    "#fname=fname+'PKForm.cs' \n",
    "print (c)\n",
    "#with open(fname, 'w') as f:\n",
    "#    f.write(template);\n"
   ]
  },
  {
   "cell_type": "code",
   "execution_count": null,
   "metadata": {
    "scrolled": true
   },
   "outputs": [],
   "source": [
    "t = \"\"\"\n",
    "Has the as Languages technologies platforms is your web don't we have web driver \n",
    "\"\"\"\n",
    "def encode(t):\n",
    "    t = re.sub('[^A-Za-z0-9]', ' ', t ) \n",
    "    t = ' '.join([w[:15] for w in t.split(' ') if w not in sw])\n",
    "    #t = ' '.join([ps.stem(w) for w in t.split(' ')])\n",
    "    t = t.upper().strip()\n",
    "    #t = re.sub('\\s', '_', t) \n",
    "    t = re.sub('[AEIOU\\s]', '', t)  \n",
    "    return t\n",
    "encode(t)"
   ]
  },
  {
   "cell_type": "code",
   "execution_count": null,
   "metadata": {},
   "outputs": [],
   "source": [
    "engine = create_engine(connstr)\n",
    "conn = engine.connect()\n",
    "query = \"\"\" \\\n",
    "\tSELECT \n",
    "\t  vw_MetricsCompositeKeys.QGROUP\n",
    "\t, vw_MetricsCompositeKeys.QPK\n",
    "\t, vw_MetricsCompositeKeys.QTEXT\n",
    "\t, vw_MetricsCompositeKeys.IdText\n",
    "\t, vw_MetricsCompositeKeys.GroupName\n",
    "\t, vw_MetricsCompositeKeys.GroupDesc\n",
    "\t, fsma_ReportingCycles.PK_ReportingCycle\n",
    "\t, fsma_ReportingCycles.Description\n",
    "\t, fsma_FormMaster.Report_Year as Year\n",
    "\t, fsma_FormMaster.Form_Description \n",
    "\t, fsma_FormMaster.IntervalCode \n",
    "\t, fsma_FormMaster.Period \n",
    "    , fsma_FormMaster.PK_Form\n",
    "\tFROM vw_MetricsCompositeKeys \n",
    "\tINNER JOIN fsma_FormMaster ON vw_MetricsCompositeKeys.PK_Form=fsma_FormMaster.PK_Form\n",
    "\tINNER JOIN fsma_ReportingCycles ON fsma_FormMaster.FK_ReportingCycle=fsma_ReportingCycles.PK_ReportingCycle\n",
    " \n",
    "\tWHERE vw_MetricsCompositeKeys.PK_Form LIKE '%CIO'  \n",
    "\tAND Year > 2010\n",
    "\n",
    "\"\"\" \n",
    "df = pd.read_sql(query,con=conn)     \n",
    "conn.close()"
   ]
  }
 ],
 "metadata": {
  "kernelspec": {
   "display_name": "Python 3",
   "language": "python",
   "name": "python3"
  },
  "language_info": {
   "codemirror_mode": {
    "name": "ipython",
    "version": 3
   },
   "file_extension": ".py",
   "mimetype": "text/x-python",
   "name": "python",
   "nbconvert_exporter": "python",
   "pygments_lexer": "ipython3",
   "version": "3.8.8"
  }
 },
 "nbformat": 4,
 "nbformat_minor": 4
}
