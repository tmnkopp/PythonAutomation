{
 "cells": [
  {
   "cell_type": "code",
   "execution_count": 1,
   "metadata": {},
   "outputs": [],
   "source": [
    "import pandas as pd\n",
    "import re, subprocess, pyodbc \n",
    "import numpy as np # linear algebra \n",
    "from sqlalchemy import func, create_engine\n",
    "from config import mongoConn, connstr  "
   ]
  },
  {
   "cell_type": "code",
   "execution_count": 33,
   "metadata": {},
   "outputs": [],
   "source": [
    "df = pd.read_csv(r'c:\\Users\\Tim\\Documents\\CIO\\AppCsec6.csv')\n",
    "df['IDTEXT'] = df.TEXT.apply(lambda s : re.search('\\d{1,2}\\.\\d{1,2}(\\.\\d{1,2})?', s).group() );\n",
    "df['TEXT'] = df.TEXT.apply(lambda s : re.sub('^\\d{1,2}\\.\\d{1,2}(\\.\\d{1,2})?', '', s) );\n",
    "df[['IDTEXT', 'TEXT']].to_csv(r'c:\\Users\\Tim\\Documents\\CIO\\AppCsec6_text.csv', index=False)\n",
    "# print ( df[['IDTEXT', 'TEXT']]  ) "
   ]
  },
  {
   "cell_type": "markdown",
   "metadata": {
    "scrolled": true
   },
   "source": [
    "engine = create_engine(connstr)\n",
    "conn = engine.connect()\n",
    "query = \"\"\" \\\n",
    "SELECT CONVERT(NVARCHAR(5) , PK_QuestionTypeId) as QTID, code QCODE  FROM fsma_QuestionTypes\n",
    "\"\"\" \n",
    "qtypes = pd.read_sql(query,con=conn)  \n",
    "qtypes.head(2)"
   ]
  },
  {
   "cell_type": "code",
   "execution_count": null,
   "metadata": {
    "scrolled": true
   },
   "outputs": [],
   "source": [
    "query = \"\"\"\\\n",
    "SELECT PK_PickList, PK_PickListType, DisplayValue, CodeValue, SortPos, Description, UsageField FROM vwPickLists\n",
    "WHERE PK_PickListType IN (100,101,102,103,104,105,106,113,114,164,165,166)\n",
    "\"\"\" \n",
    " \n",
    "dfpicks = pd.read_sql(query,con=conn) \n",
    "UsageField=dfpicks.iloc[0]['UsageField']\n",
    "s=f\"\\n\"\n",
    "s = s + f\"Enum PICK_{UsageField} \\t'{dfpicks.iloc[0]['Description']}-{dfpicks.iloc[0]['PK_PickListType']}\\n\"\n",
    "for i,r in dfpicks.iterrows():\n",
    "    if UsageField != dfpicks.iloc[i]['UsageField']:\n",
    "        UsageField=dfpicks.iloc[i]['UsageField']\n",
    "        s = s + f\"End Enum\\n\"\n",
    "        s = s + f\"Enum PICK_{UsageField} \\t'{dfpicks.iloc[i]['Description']}-{dfpicks.iloc[i]['PK_PickListType']}\\n\"\n",
    "    s = s + f\"\\t{r.CodeValue} = {str(r.PK_PickList)} \\t'{str(r.DisplayValue)[:25]}\\n\" \n",
    "s=s+\"End Enum\\n\"\n",
    "print(s)"
   ]
  },
  {
   "cell_type": "code",
   "execution_count": null,
   "metadata": {},
   "outputs": [],
   "source": []
  }
 ],
 "metadata": {
  "kernelspec": {
   "display_name": "Python 3",
   "language": "python",
   "name": "python3"
  },
  "language_info": {
   "codemirror_mode": {
    "name": "ipython",
    "version": 3
   },
   "file_extension": ".py",
   "mimetype": "text/x-python",
   "name": "python",
   "nbconvert_exporter": "python",
   "pygments_lexer": "ipython3",
   "version": "3.8.8"
  }
 },
 "nbformat": 4,
 "nbformat_minor": 4
}
