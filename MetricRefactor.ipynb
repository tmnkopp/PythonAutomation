{
 "cells": [
  {
   "cell_type": "code",
   "execution_count": 59,
   "metadata": {},
   "outputs": [],
   "source": [
    "import pandas as pd\n",
    "import re, subprocess, pyodbc \n",
    "import numpy as np # linear algebra \n",
    "from sqlalchemy import func, create_engine\n",
    "from config import mongoConn, connstr  \n",
    "import nltk\n",
    "from nltk.corpus import stopwords\n",
    "from nltk.stem.porter import PorterStemmer\n",
    "sw=stopwords.words('english')\n",
    "ps=PorterStemmer()\n",
    "import json "
   ]
  },
  {
   "cell_type": "code",
   "execution_count": 80,
   "metadata": {},
   "outputs": [
    {
     "ename": "SyntaxError",
     "evalue": "unexpected EOF while parsing (<ipython-input-80-fbaa7e2c0dbb>, line 9)",
     "output_type": "error",
     "traceback": [
      "\u001b[1;36m  File \u001b[1;32m\"<ipython-input-80-fbaa7e2c0dbb>\"\u001b[1;36m, line \u001b[1;32m9\u001b[0m\n\u001b[1;33m    # print(c.text)\u001b[0m\n\u001b[1;37m                   ^\u001b[0m\n\u001b[1;31mSyntaxError\u001b[0m\u001b[1;31m:\u001b[0m unexpected EOF while parsing\n"
     ]
    }
   ],
   "source": [
    "\n",
    "from docx import Document\n",
    "f = open('c:\\\\temp\\\\ig.docx', 'rb')\n",
    "document = Document(f)\n",
    "f.close()\n",
    "ts = document.tables\n",
    "for t in ts:\n",
    "    for r in t.rows:\n",
    "        for c in r.cells:\n",
    "            # print(c.text)"
   ]
  },
  {
   "cell_type": "code",
   "execution_count": null,
   "metadata": {},
   "outputs": [],
   "source": []
  },
  {
   "cell_type": "code",
   "execution_count": null,
   "metadata": {
    "scrolled": false
   },
   "outputs": [],
   "source": [
    "engine = create_engine(connstr)\n",
    "conn = engine.connect()\n",
    "\n",
    "\n",
    "s=''\n",
    "with open(\"C:\\\\temp\\\\ig.txt\", \"r\") as f: \n",
    "    s=f.read()\n",
    "lst = s.split('\\n')   \n",
    "lst = [l for l in lst if len(l) > 10]\n",
    "for l in lst:\n",
    "    d={}\n",
    "    try:\n",
    "        idtext = re.search('(\\d{1,3})', l).group(0) \n",
    "        idtext = idtext.replace('.','').replace('\\t','') \n",
    "        text = l.replace('\\t','') \n",
    "        text = text.replace('\\'','`') \n",
    "        text = text.replace('â€“','-') \n",
    "        text = text.replace('â€™','`')  \n",
    "        text = re.sub('^\\d{1,2}\\.','', text) \n",
    "        query = f\"\"\" \\\n",
    "            SELECT QPK  FROM vw_MetricsCompositeKeys WHERE PK_Form = '2021-A-IG' AND IdText = '{idtext}'    \n",
    "        \"\"\" \n",
    "        df = pd.read_sql(query,con=conn) \n",
    "        qpk = df.iloc[0][0]\n",
    "        print(f\"\\nUPDATE fsma_Questions SET QuestionText = '{text}' \\nWHERE PK_Question = {qpk} -- {idtext}\") \n",
    "         \n",
    "    except Exception as e:\n",
    "        print(e)\n",
    "        pass  \n",
    "conn.close()"
   ]
  },
  {
   "cell_type": "code",
   "execution_count": null,
   "metadata": {
    "scrolled": true
   },
   "outputs": [],
   "source": [
    "engine = create_engine(connstr)\n",
    "conn = engine.connect()\n",
    "query = \"\"\" \\\n",
    "\tSELECT ID, QGROUP, QPK, MAX_Q_PK, QOFFSET, MAX_QG_PK, QGOFFSET, MAX_FK_Form,QTEXT, IdText\n",
    "\tFROM vw_MetricsCompositeKeys WHERE PK_Form = '2020-A-SAOP'   \n",
    "\"\"\" \n",
    "df = pd.read_sql(query,con=conn)   \n",
    "df.to_excel(r'C:\\_som\\_src\\_compile\\saop\\SAOP.xlsx','SAOP')  "
   ]
  },
  {
   "cell_type": "code",
   "execution_count": null,
   "metadata": {},
   "outputs": [],
   "source": [
    "query = \"\"\" \\\n",
    "    SELECT  *FROM vwPickLists\n",
    "    WHERE PK_PickListType IN (100,101,102,103,104,105,106,113,114,164,165,166)   \n",
    "\"\"\" \n",
    "df_pt = pd.read_sql(query,con=conn)   \n",
    "df_pt.to_csv(r'C:\\_som\\_src\\_compile\\saop\\picks.csv', index=False)  \n",
    "df_pt"
   ]
  },
  {
   "cell_type": "code",
   "execution_count": null,
   "metadata": {},
   "outputs": [],
   "source": [
    "QGR = 3000\n",
    "d = {} \n",
    "for qg in df.QGROUP.unique():\n",
    "    QGR+=1\n",
    "    d[str(qg)]= str(QGR)\n",
    "d    "
   ]
  },
  {
   "cell_type": "code",
   "execution_count": null,
   "metadata": {},
   "outputs": [],
   "source": [
    "QGOFFSET = -1\n",
    "QPK = 24500 \n",
    "for i,r in df.iterrows():      \n",
    "    if QGOFFSET != r.QGOFFSET:\n",
    "        QGOFFSET = r.QGOFFSET\n",
    "        QPK += 25\n",
    "    QPK+=1\n",
    "    d[str(r.QPK)]= str(QPK)  "
   ]
  },
  {
   "cell_type": "code",
   "execution_count": null,
   "metadata": {},
   "outputs": [],
   "source": [
    "with open(\"C:\\_som\\_src\\_compile\\saop\\gapkeyval.json\", \"w\") as f: \n",
    "    json.dump(d, f, indent=4)"
   ]
  },
  {
   "cell_type": "code",
   "execution_count": null,
   "metadata": {},
   "outputs": [],
   "source": [
    "dfid = df\n",
    "dfid.replace(\"\", np.NaN, inplace=True) \n",
    "dfid.dropna(subset = [\"IdText\"], inplace=True)\n",
    "dfid['QHASH'] = dfid.QTEXT.apply(encode)  "
   ]
  },
  {
   "cell_type": "code",
   "execution_count": null,
   "metadata": {},
   "outputs": [],
   "source": [
    "did = {}\n",
    "for i,r in df.iterrows(): \n",
    "    did[f'--\\s{r.IdText}\\s'] = '-- ' + r.IdText + ' IDT:{' + r.QHASH + '} '\n",
    "with open(\"C:\\_som\\_src\\_compile\\saop\\did.json\", \"w\") as f: \n",
    "    json.dump(did, f, indent=4)\n",
    "did    \n"
   ]
  },
  {
   "cell_type": "code",
   "execution_count": null,
   "metadata": {},
   "outputs": [],
   "source": [
    "conn.close()"
   ]
  },
  {
   "cell_type": "code",
   "execution_count": null,
   "metadata": {
    "scrolled": true
   },
   "outputs": [],
   "source": [
    "t = \"\"\"\n",
    "Has the as Languages technologies platforms is your web don't we have web driver \n",
    "\"\"\"\n",
    "def encode(t):\n",
    "    t = re.sub('[^A-Za-z0-9]', ' ', t ) \n",
    "    t = ' '.join([w for w in t.split(' ') if w not in sw])\n",
    "    #t = ' '.join([ps.stem(w) for w in t.split(' ')])\n",
    "    t = t.upper()\n",
    "    t = re.sub('[AEIOU\\s]', '', t)  \n",
    "    return t\n",
    "encode(t)"
   ]
  },
  {
   "cell_type": "code",
   "execution_count": null,
   "metadata": {},
   "outputs": [],
   "source": []
  }
 ],
 "metadata": {
  "kernelspec": {
   "display_name": "Python 3",
   "language": "python",
   "name": "python3"
  },
  "language_info": {
   "codemirror_mode": {
    "name": "ipython",
    "version": 3
   },
   "file_extension": ".py",
   "mimetype": "text/x-python",
   "name": "python",
   "nbconvert_exporter": "python",
   "pygments_lexer": "ipython3",
   "version": "3.8.8"
  }
 },
 "nbformat": 4,
 "nbformat_minor": 4
}
