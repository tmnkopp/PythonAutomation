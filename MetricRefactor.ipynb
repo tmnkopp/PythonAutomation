{
 "cells": [
  {
   "cell_type": "code",
   "execution_count": 107,
   "metadata": {},
   "outputs": [],
   "source": [
    "import pandas as pd\n",
    "import re, subprocess, pyodbc \n",
    "import numpy as np # linear algebra \n",
    "from sqlalchemy import func, create_engine\n",
    "from config import mongoConn, connstr  \n",
    "import nltk\n",
    "from nltk.corpus import stopwords\n",
    "from nltk.stem.porter import PorterStemmer\n",
    "sw=stopwords.words('english')\n",
    "ps=PorterStemmer()\n",
    "import json "
   ]
  },
  {
   "cell_type": "code",
   "execution_count": 186,
   "metadata": {
    "scrolled": true
   },
   "outputs": [],
   "source": [
    "engine = create_engine(connstr)\n",
    "conn = engine.connect()\n",
    "query = \"\"\" \\\n",
    "\tSELECT ID, QGROUP, QPK, MAX_Q_PK, QOFFSET, MAX_QG_PK, QGOFFSET, MAX_FK_Form,QTEXT, IdText\n",
    "\tFROM vw_MetricsCompositeKeys WHERE PK_Form = '2020-A-SAOP'   \n",
    "\"\"\" \n",
    "df = pd.read_sql(query,con=conn)   \n",
    "df.to_excel(r'C:\\_som\\_src\\_compile\\saop\\SAOP.xlsx','SAOP')  "
   ]
  },
  {
   "cell_type": "code",
   "execution_count": 187,
   "metadata": {},
   "outputs": [
    {
     "data": {
      "text/plain": [
       "{'2150': '3001',\n",
       " '2151': '3002',\n",
       " '2152': '3003',\n",
       " '2153': '3004',\n",
       " '2154': '3005',\n",
       " '2155': '3006',\n",
       " '2156': '3007',\n",
       " '2157': '3008',\n",
       " '2158': '3009',\n",
       " '2159': '3010',\n",
       " '2160': '3011',\n",
       " '2161': '3012',\n",
       " '2162': '3013',\n",
       " '2163': '3014',\n",
       " '2164': '3015',\n",
       " '2165': '3016',\n",
       " '2166': '3017'}"
      ]
     },
     "execution_count": 187,
     "metadata": {},
     "output_type": "execute_result"
    }
   ],
   "source": [
    "QGR = 3000\n",
    "d = {} \n",
    "for qg in df.QGROUP.unique():\n",
    "    QGR+=1\n",
    "    d[str(qg)]= str(QGR)\n",
    "d    "
   ]
  },
  {
   "cell_type": "code",
   "execution_count": 188,
   "metadata": {},
   "outputs": [],
   "source": [
    "QGOFFSET = -1\n",
    "QPK = 24500 \n",
    "for i,r in df.iterrows():      \n",
    "    if QGOFFSET != r.QGOFFSET:\n",
    "        QGOFFSET = r.QGOFFSET\n",
    "        QPK += 25\n",
    "    QPK+=1\n",
    "    d[str(r.QPK)]= str(QPK)  "
   ]
  },
  {
   "cell_type": "code",
   "execution_count": 189,
   "metadata": {},
   "outputs": [],
   "source": [
    "with open(\"C:\\_som\\_src\\_compile\\saop\\gapkeyval.json\", \"w\") as f: \n",
    "    json.dump(d, f, indent=4)"
   ]
  },
  {
   "cell_type": "code",
   "execution_count": 190,
   "metadata": {},
   "outputs": [],
   "source": [
    "dfid = df\n",
    "dfid.replace(\"\", np.NaN, inplace=True) \n",
    "dfid.dropna(subset = [\"IdText\"], inplace=True)\n",
    "dfid['QHASH'] = dfid.QTEXT.apply(encode)  "
   ]
  },
  {
   "cell_type": "code",
   "execution_count": 191,
   "metadata": {},
   "outputs": [
    {
     "data": {
      "text/plain": [
       "{'--\\\\s1a\\\\s\\\\s': '--\\\\s 1a IDT:{HSHDGNCYDSGNTDSNRGNCYFFCLPRVCYSPRQRDXCTVRDR13719MBGDNC} ',\n",
       " '--\\\\s1b\\\\s\\\\s': '--\\\\s 1b IDT:{HSGNCYRPRTDNMTTLCNTCTNFRMTNCRRNTSPMBMXWBSTFDRLPRVCYCNCLNDCTNGNCYDSGNTDSP} ',\n",
       " '--\\\\s1c\\\\s\\\\s': '--\\\\s 1c IDT:{DSSPNCSSRYPSTNXPRTSTHRTYSRVRLSPSLCTPPLYNDCTNGNCYDSGNTDSP} ',\n",
       " '--\\\\s1d\\\\s\\\\s': '--\\\\s 1d IDT:{DSSPNCSSRYRLRSPNSBLTSWTHNGNCYFLLWNGSLCTPPLYNDCTNGNCYDSGNTDSP} ',\n",
       " '--\\\\s1e\\\\s\\\\s': '--\\\\s 1e IDT:{HSGNCYDVLPDMNTNDPRVCYPRGRMPLN} ',\n",
       " '--\\\\s1f\\\\s\\\\s': '--\\\\s 1f IDT:{DSGNCYPRVCYPRGRMPLNNCLDDSCRPTNFLLWNGSLCTPPLYNDCTNGNCYDVLPDMNTNDPRVCYPRGRMPLN} ',\n",
       " '--\\\\s2a\\\\s\\\\s': '--\\\\s 2a IDT:{DSGNCYMNTNNVNTRYGNCYNFRMTNSYSTMSCRTCLLCTSPRCSSSTRMNTNDSSMNTDSCLSDSPSPRSNLLYDNTFBLNFRMTNP} ',\n",
       " '--\\\\s2b\\\\s\\\\s': '--\\\\s 2b IDT:{NMBRNFRMTNSYSTMSRPRTDRSPNSQSTN11FY2020CHFNFRMTNFFCRFSMMTRCSSDCRTCLLCTSPRCSSSTRMNTNDSSMNTDSCLSDSPSP} ',\n",
       " '--\\\\s2c\\\\s\\\\s': '--\\\\s 2c IDT:{NMBRNFRMTNSYSTMSRPRTDQSTN2BGNCYTHRZDRTHRZDPRTRPRTNGPRD} ',\n",
       " '--\\\\s2d\\\\s\\\\s': '--\\\\s 2d IDT:{NMBRNFRMTNSYSTMSRPRTDQSTN2CSPRVWDPPRVDCTGRZTNNFRMTNSYSTMCCRDNCMBGDNCWLLNSTFPSPBLCTN199NSTSPCLPBLCTN80060} ',\n",
       " '--\\\\s2e\\\\s\\\\s': '--\\\\s 2e IDT:{NMBRNFRMTNSYSTMSRPRTDQSTN2CSPRVWDPPRVDSYSTMPRVCYPLNNFRMTNSYSTMPRRNFRMTNSYSTMTHRZTNRTHRZTN} ',\n",
       " '--\\\\s2f\\\\s\\\\s': '--\\\\s 2f IDT:{NMBRNFRMTNSYSTMSRPRTDQSTN2CSPCNDCTDDCMNTDRSLTSPRVCYCNTRLSSSSMNTSVRFYCNTNDFFCTVNSSPRVCYCNTRLSSLCTDMPLMNTDNFRMTNSYSTMPRRNFRMTNSYSTMTHRZTNRTHRZTN} ',\n",
       " '--\\\\s2g\\\\s\\\\s': '--\\\\s 2g IDT:{NMBRNFRMTNSYSTMSRPRTDQSTN2CSPRVWDNFRMTNSYSTMTHRZTNPCKGNSRCMPLNCPPLCBLPRVCYRQRMNTSMNGPRVCYRSKSPRRTHRZNGFFCLMKNGRSKDTRMNTNCCPTNCDCSN} ',\n",
       " '--\\\\s3a\\\\s\\\\s': '--\\\\s 3a IDT:{DSGNCYMNTNNVNTRYGNCYNFRMTNTCHNLGYTSYSTMSCRTCLLCTSPRCSSSTRMNTNDSSMNTDSCLSDSPSP} ',\n",
       " '--\\\\s3b\\\\s\\\\s': '--\\\\s 3b IDT:{NMBRTSYSTMSMNTNDPRTDSDGNCYNTHRNTTYBHLFGNCYRPRTNGPRDGNCYRQRDCNDCTPRVCYMPCTSSSSMNTPGVRNMNTCT2002} ',\n",
       " '--\\\\s3c\\\\s\\\\s': '--\\\\s 3c IDT:{NMBRTSYSTMSRPRTDQSTN3BCVRDDTP} ',\n",
       " '--\\\\s3d\\\\s\\\\s': '--\\\\s 3d IDT:{DSGNCYWRTTNPLCYPSNCLDSFLLWNGSLCTPPLYNDCTNGNCYWRTTNPLCYPS} ',\n",
       " '--\\\\s3e\\\\s\\\\s': '--\\\\s 3e IDT:{DSGNCYPRCSSPRCDRFLLWNGSLCTPPLY} ',\n",
       " '--\\\\s4a\\\\s\\\\s': '--\\\\s 4a IDT:{NMBRPRVCYCTSYSTMSRCRDSMNTNDGNCYRPRTNGPRDNCLDNGPRTDSRVCPRVDRCNTRCTRBHLFGNCY} ',\n",
       " '--\\\\s4b\\\\s\\\\s': '--\\\\s 4b IDT:{NMBRPRVCYCTSYSTMSRCRDSRPRTDQSTN4DTSYSTMRCRDSNTCSRNPBLSHDFDRLRGSTR} ',\n",
       " '--\\\\s4c\\\\s\\\\s': '--\\\\s 4c IDT:{DSGNCYPRCSSDTRMNNGWHTHRNWRVSDSRNRQRDGNCYCLLCTSMNTNSNFRMTNNDVDLS} ',\n",
       " '--\\\\s4d\\\\s\\\\s': '--\\\\s 4d IDT:{DSGNCYPRCSSFLLWNGSLCTPPLY} ',\n",
       " '--\\\\s4e\\\\s\\\\s': '--\\\\s 4e IDT:{HSGNCYSLCTDMPLMNTDSSSSDMNTRDPRVCYCNTRLSNFRMTNSYSTMSCNTNNFRMTNMNTNDSYSTMRCRDSRDRNSRFLLWNGSLCTPPLYNDCTNGNCYMNTNPRVCYCTSYSTMSRCRDS} ',\n",
       " '--\\\\s5a\\\\s\\\\s': '--\\\\s 5a IDT:{TXTNTGNCYNSRPCRTDCLLCTDSDPRCSSDSTRDMNTNDDSSMNTDDSCLSDDSPSDCCRTRLVNTTMLYCMPLTSLCTNFLLWNG} ',\n",
       " '--\\\\s5b\\\\s\\\\s': '--\\\\s 5b IDT:{TXTNTGNCYLMTCRTNCLLCTNSPRCSSNGSTRGMNTNNCDSSMNTNDSCLSRPLGLLYTHRZDRLVNTRSNBLYDMDNCSSRYPRPRPRFRMNCGNCYFNCTNSSLCTNFLLWNG} ',\n",
       " '--\\\\s6a\\\\s\\\\s': '--\\\\s 6a IDT:{DSGNCYNVNTRYGNCYCLLCTNSSCLSCRTYNMBRSSSNSNDCTNGNCYCLLCTMNTNSSSNS} ',\n",
       " '--\\\\s6b\\\\s\\\\s': '--\\\\s 6b IDT:{DSGNCYMNTNNVNTRYSSNSPRTGNCYNVNTRYNFRMTNSYSTMSRFRRDQSTN2NDCTNGNCYCLLCTMNTNSSSNSNVNTRYCLLCTNMNTNNCSSSNSMNTNNVNTRYNFRMTNSYSTMS} ',\n",
       " '--\\\\s6c\\\\s\\\\s': '--\\\\s 6c IDT:{HSGNCYDVLPDMPLMNTDWRTTNPLCYHLPNSRNWCLLCTNSSSNSNCSSRY} ',\n",
       " '--\\\\s6d\\\\s\\\\s': '--\\\\s 6d IDT:{DSWRTTNPLCYRFRRDQSTN6CPRVDSPCFCCRTRSDTRMNNGWHTHRCLLCTNSSSNSNCSSRYNDCTNGNCYWRTTNPLCY} ',\n",
       " '--\\\\s6e\\\\s\\\\s': '--\\\\s 6e IDT:{DSWRTTNPLCYRFRRDQSTN6CSTBLSHPRCSSNSRCLLCTNSSSNSDTRMNDNCSSRYRMNSNCSSRYTMNDCTNGNCYWRTTNPLCY} ',\n",
       " '--\\\\s6f\\\\s\\\\s': '--\\\\s 6f IDT:{HSGNCYTKNSTPSRPRTNGPRDLMNTNNCSSRYCLLCTNMNTNNCSSSNSNDCTNGNCYLRDYLMNTDNNCSSRYCLLCTNMNTNNCSSSNSGNCY} ',\n",
       " '--\\\\s7a\\\\s\\\\s': '--\\\\s 7a IDT:{DSGNCYMNTNNVNTRYFLLWNGSLCTPPLYNDCTNGNCYMNTNDNVNTRYDGTLSRVCS} ',\n",
       " '--\\\\s7b\\\\s\\\\s': '--\\\\s 7b IDT:{NCCRDNCGVRNMNTCT2002MBGDNCGNCYMNTNPSTPRVCYPLCSFLLWNGSLCTPPLYNDCTNGNCYMNTNFLLWNG} ',\n",
       " '--\\\\s7c\\\\s\\\\s': '--\\\\s 7c IDT:{DSGNCYPRCSSRGLRLYRVWPDTPRVCYPLCSFLLWNGSLCTPPLYNDCTNGNCYMNTNDFLLWNG} ',\n",
       " '--\\\\s7d\\\\s\\\\s': '--\\\\s 7d IDT:{HSGNCYDVLPDMPLMNTDWRTTNPLCYGNCYSSCLMDNDCTNGNCYSSCLMD} ',\n",
       " '--\\\\s7e\\\\s\\\\s': '--\\\\s 7e IDT:{DRNGRPRTNGPRDGNCYSWBMNGMNTCSTMZTNTCHNLGSWBSTMBLPPLCTN} ',\n",
       " '--\\\\s7f\\\\s\\\\s': '--\\\\s 7f IDT:{DRNGRPRTNGPRDGNCYRVWSWBMNGMNTCSTMZTNTCHNLGSNSRCMPLNCLWSRGLTNSMBGDNCNDCTNGNCYSWBMNGMNTCSTMZTNTCHNLGS} ',\n",
       " '--\\\\s8a\\\\s\\\\s': '--\\\\s 8a IDT:{DSGNCYDNTFYPLNRSRCSNDDMPLMNTGNCYPRVCYPRGRM} ',\n",
       " '--\\\\s8b\\\\s\\\\s': '--\\\\s 8b IDT:{DSGNCYPLCYNCLDSXPLCTCRTRNLYZNGPRVCYRSKSCNSDRNGTNVSTMNTS} ',\n",
       " '--\\\\s8c\\\\s\\\\s': '--\\\\s 8c IDT:{DRNGRPRTNGPRDGNCYRVWTCPTLNVSTMNTPLNSBDGTRYRQSTSNSRPRVCYRQRMNTSSSCTDPRVCYCNTRLSWLLSSCTDCSTSXPLCTLYDNTFDNCLDDRSPCTTRSRCSSDCRTCLLCTSPRCSSSTRMNTNDSSMNTDSCLSDSPSP} ',\n",
       " '--\\\\s8d\\\\s\\\\s': '--\\\\s 8d IDT:{TXTNTGNCYPLNBDGTPGRDRPLCRTRNFRMTNSYSTMSMNTNPPRTCTNSCMMNSRTRSKCNNTFFCTVLYMPLMNTD} ',\n",
       " '--\\\\s8e\\\\s\\\\s': '--\\\\s 8e IDT:{DSGNCYNSRTMLYMNNRSPMDWRNFRMTNSYSTMSCMPNNTSCRTCLLCTSPRCSSSTRMNTNDSSMNTDSCLSDSPSPCNNTPPRPRTLYPRTCTDSCRD} ',\n",
       " '--\\\\s8f\\\\s\\\\s': '--\\\\s 8f IDT:{NMBRNFRMTNSYSTMSCMPNNTSSDRPRTNGPRDCRTCLLCTSPRCSSSTRMNTNDSSMNTDSCLSDSPSPRPRTDSPCNNTPPRPRTLYPRTCTDSCRDNDCTNSPMDWRNFRMTNSYSTMSCMPNNTSCNNTPPRPRTLYPRTCTDSCRD} ',\n",
       " '--\\\\s9a\\\\s\\\\s': '--\\\\s 9a IDT:{TXTNTGNCYNSRTRMSCNDTNSCNTRCTSGRMNTSNVLVNGCRTNCLLCTNSPRCSSNGSTRGMNTNNCDSSMNTNDSCLSRDSPSLFDRLNFRMTNNCRPRTPRVCYRQRMNTSSFFCNTNBLGNCSMTFDRLGNCYSPCFCRQRMNTSPRTNNGPRTCTNFDRLNFRMTN} ',\n",
       " '--\\\\s9b\\\\s\\\\s': '--\\\\s 9b IDT:{TXTNTGNCYCNSSTNTGNCYTHRTYNSRRQRMNTSPRVCYCTPPLYPRVCYCTSYSTMRCRDSCNTRCTRPRTSSYSTMRCRDSBHLFGNCYCCMPLSHGNCYFNCTN} ',\n",
       " '--\\\\s9c\\\\s\\\\s': '--\\\\s 9c IDT:{TXTNTGNCYNSRPPRPRTVTTNGCCSSCNTRLPRCSSSCNTRCTRSTHRSCCSSNFRMTNSYSTMSCNTNNGFDRLNFRMTN} ',\n",
       " '--\\\\s9d\\\\s\\\\s': '--\\\\s 9d IDT:{DSGNCYMNTNMNDTRYGNCYWDPRVCYWRNSSTRNNGPRGRMCNTRCTRS} ',\n",
       " '--\\\\s9e\\\\s\\\\s': '--\\\\s 9e IDT:{HSGNCYSTBLSHDRLSBHVRNCLDNGCNSQNCSVLTNGRLSBHVRCNTRCTRSCCSSFDRLNFRMTNNFRMTNSYSTMSNCLDNGCRTCLLCTSPRCSSSTRMNTNDSSMNTDSCLSDSPSP} ',\n",
       " '--\\\\s9f\\\\s\\\\s': '--\\\\s 9f IDT:{DSGNCYNSRCNTRCTRSRDGRDBDRLSBHVRFDRLNFRMTNNFRMTNSYSTMSRQRCCSSPRRGRNTDCCSSNDCTNGNCYSTBLSHDRLSBHVR} ',\n",
       " '--\\\\s10a\\\\s\\\\s': '--\\\\s 10a IDT:{DSGNCYNSRGNCYPRVCYWRKFRCPPRPRTKNWLDGSKLL} ',\n",
       " '--\\\\s10b\\\\s\\\\s': '--\\\\s 10b IDT:{HSGNCYSSSSDHRNGTRNNGPRFSSNLDVLPMNTNDSRSPCTPRVCYRPRTNGPRD} ',\n",
       " '--\\\\s10c\\\\s\\\\s': '--\\\\s 10c IDT:{HSGNCYDVLPDWRKFRCPLNNNGPRCSSNSRCCNTSPRVCYWRKFRCNDS} ',\n",
       " '--\\\\s10d\\\\s\\\\s': '--\\\\s 10d IDT:{HSGNCYDVLPDSTCMPTNCYRQRMNTSPRVCYSTFFNCLDNGPRGRMMNGRSPRVCYLDRSHPPSTNS} ',\n",
       " '--\\\\s11a\\\\s\\\\s': '--\\\\s 11a IDT:{DSGNCYMNTNMNDTRYGNCYWDPRVCYWRNSSTRNNGPRGRMFDRLMPLYS} ',\n",
       " '--\\\\s11b\\\\s\\\\s': '--\\\\s 11b IDT:{WHTPRCNTGFDRLMPLYSNCLDNGMNGRSSNRXCTVSMPLYDGNCYRCVDFNDTNLPRVCYTRNNGRPRTNGPRDNDCTNGNCYCLLCTNFRMTNRPRTNGPRD} ',\n",
       " '--\\\\s11c\\\\s\\\\s': '--\\\\s 11c IDT:{DSGNCYPRVDRLBSDPRVCYTRNNGFDRLMPLYSSSGNDPRVCYRLSRSPNSBLTSNCLDNGMNGRSTHRZNGCCSSFDRLNFRMTNNFRMTNSYSTMS} ',\n",
       " '--\\\\s11d\\\\s\\\\s': '--\\\\s 11d IDT:{WHTPRCNTGFDRLMPLYSSSGNDPRVCYRLSRCVDRLBSDTRNNGTHRZDCCSSFDRLNFRMTNNFRMTNSYSTMSNDCTNGNCYPRVDRLBSDPRVCYTRNNG} ',\n",
       " '--\\\\s11e\\\\s\\\\s': '--\\\\s 11e IDT:{HSGNCYNSRDMSRSPLCTSTKNWLDGLVLNFRMTNSYSTMSRSCNJNCTNPRVCYTRNNG} ',\n",
       " '--\\\\s11f\\\\s\\\\s': '--\\\\s 11f IDT:{TXTNTGNCYNSRPRSNNLHLDCCNTBLCMPLYNGGNCYWDPRVCYRQRMNTSPLCS} ',\n",
       " '--\\\\s11g\\\\s\\\\s': '--\\\\s 11g IDT:{HSGNCYSTBLSHDRLSBHVRNCLDNGCNSQNCSVLTNGRLSBHVRFDRLMPLYSCCSSFDRLNFRMTNNFRMTNSYSTMSNCLDNGCRTCLLCTSPRCSSSTRMNTNDSSMNTDSCLSDSPSP} ',\n",
       " '--\\\\s11h\\\\s\\\\s': '--\\\\s 11h IDT:{DSGNCYNSRFDRLMPLYSRDGRDBDRLSBHVRFDRLNFRMTNNFRMTNSYSTMSRQRCCSSPRRGRNTDCCSSNDCTNGNCYSTBLSHDRLSBHVR} ',\n",
       " '--\\\\s12a\\\\s\\\\s': '--\\\\s 12a IDT:{DSGNCYBRCHRSPNSPLNNCLDSGNCYPLCSPRCDRSFLLWNGSLCTPPLYNGNCYBRCHRSPNSPLN} ',\n",
       " '--\\\\s12b\\\\s\\\\s': '--\\\\s 12b IDT:{DDSPRVWGNCYBRCHRSPNSPLNRPRTNGPRDNSRPLNCRRNTCCRTRFLCTSCHNGSLWGDNCSTNDRDSGNCYPLCYPRCDRSSTFFNGTCHNLGYNDCTNGNCYBRCHRSPNSPLN} ',\n",
       " '--\\\\s12c\\\\s\\\\s': '--\\\\s 12c IDT:{DSGNCYBRCHRSPNSTMCMPSDGNCYFFCLSDSGNTDHDGNCYCNVNDLDGNCYRSPNSBRCH} ',\n",
       " '--\\\\s12d\\\\s\\\\s': '--\\\\s 12d IDT:{DDMMBRSGNCYBRCHRSPNSTMPRTCPTLSTNTBLTPXRCSRPRTNGPRDNDCTNGNCYBRCHRSPNSTM} ',\n",
       " '--\\\\s12e\\\\s\\\\s': '--\\\\s 12e IDT:{HWMNYBRCHSMBMMRNDMM1712DFNSTRMBRCHRPRTDWTHNGNCYRPRTNGPRD} ',\n",
       " '--\\\\s12f\\\\s\\\\s': '--\\\\s 12f IDT:{HWMNYBRCHSMBMMRNDMM1712DFNSTRMBRCHGNCYRPRTDHSCYBRSCRTYNFRSTRCTRSCRTYGNCYCSRPRTNGPRD} ',\n",
       " '--\\\\s12g\\\\s\\\\s': '--\\\\s 12g IDT:{HWMNYBRCHSMBMMRNDMM1712DFNSTRMBRCHGNCYRPRTCNGRSSRPRTNGPRD} ',\n",
       " '--\\\\s12h\\\\s\\\\s': '--\\\\s 12h IDT:{WHTTTLNMBRNDVDLSPTNTLLYFFCTDBRCHSRPRTDQSTN12GNDCTNGNCYRPRTBRCHCNGRSSRPRTNGPRD} ',\n",
       " '--\\\\s13a\\\\s\\\\s': '--\\\\s 13a IDT:{HSGNCYMPLMNTDRSKMNGMNTFRMWRKGDNFRMFLLWNGSLCTPPLYNGNCYMPLMNTDRSKMNGMNTFRMWRK} ',\n",
       " '--\\\\s13b\\\\s\\\\s': '--\\\\s 13b IDT:{HSGNCYDSGNTDPRVCYCNTRLSTRTDPRGRMMNGMNTCMMNNFRMTNSYSTMSPCFCHYBRDPRVCYCNTRLS} ',\n",
       " '--\\\\s13c\\\\s\\\\s': '--\\\\s 13c IDT:{HSGNCYDVLPDMNTNDWRTTNPRVCYCNTNSMNTRNGSTRTGY} ',\n",
       " '--\\\\s13d\\\\s\\\\s': '--\\\\s 13d IDT:{HSGNCYSTBLSHDMNTNDGNCYWDPRVCYCNTNSMNTRNGPRGRM} ',\n",
       " '--\\\\s14a\\\\s\\\\s': '--\\\\s 14a IDT:{DSGNCYPRVCYPRGRMPGLCTDRDRCTDWWWGNCYGVPRVCY} ',\n",
       " '--\\\\s14b\\\\s\\\\s': '--\\\\s 14b IDT:{DSGNCYPRVCYPRGRMPGNCLDLSTPRVDLNKSCMPLTDTVRSNSGNCYSRNSNDCTNGNCYMNTNPRVCYCTSYSTMSRCRDS} ',\n",
       " '--\\\\s14c\\\\s\\\\s': '--\\\\s 14c IDT:{DSGNCYPRVCYPRGRMPGNCLDLSTPRVDLNKSPSNDCTNGNCYMNTNPRTSTSYSTMSRQRP} ',\n",
       " '--\\\\s14d\\\\s\\\\s': '--\\\\s 14d IDT:{DSGNCYPRVCYPRGRMPGNCLDLSTPRVDLNKSDTMTCHNGNTCSGRMNTSCTVMTCHNGPRGRMSGNCYPRTCPTSNDCTNGNCYPRTCPTMTCHNGPRGRMS} ',\n",
       " '--\\\\s14e\\\\s\\\\s': '--\\\\s 14e IDT:{DSGNCYPRVCYPRGRMPGNCLDCTTNSPRVDLNKSFNLRLSPBLSHDFDRLRGSTRPRMLGTPRVCYCTXMPTNCLMDSYSTMSRCRDSNDCTNGNCYCLMDPRVCYCTXMPTNSSYSTMSRCRDS} ',\n",
       " '--\\\\s14f\\\\s\\\\s': '--\\\\s 14f IDT:{DSGNCYPRVCYPRGRMPGNCLDLSTPRVDLNKSPRVCYCTMPLMNTTNRLSPRMLGTDPRSNT5SC552FNDCTNGNCYMNTNPRVCYCTSYSTMSRCRDS} ',\n",
       " '--\\\\s14g\\\\s\\\\s': '--\\\\s 14g IDT:{DSGNCYPRVCYPRGRMPGNCLDLSTPRVDLNKSPBLCLYVLBLGNCYPLCSPRVCYNCLDNGDRCTVSNSTRCTNSHNDBKSMNLSGDNC} ',\n",
       " '--\\\\s14h\\\\s\\\\s': '--\\\\s 14h IDT:{DSGNCYPRVCYPRGRMPGNCLDLSTPRVDLNKSPBLCLYVLBLGNCYRPRTSPRVCY} ',\n",
       " '--\\\\s14i\\\\s\\\\s': '--\\\\s 14i IDT:{DSGNCYPRVCYPRGRMPGNCLDNSTRCTNSCLRPLNLNGGNDVDLSWSHRQSTCCSSMNDMNTRCRDSPRSNT5SC552NDCTNGNCYMNTNPRVCYCTSYSTMSRCRDS} ',\n",
       " '--\\\\s14j\\\\s\\\\s': '--\\\\s 14j IDT:{DSGNCYPRVCYPRGRMPGNCLDPPRPRTGNCYCNTCTNFRMTNNDVDLSWSHSBMTPRVCYRLTDQSTNCMPLNT} ',\n",
       " '--\\\\s14k\\\\s\\\\s': '--\\\\s 14k IDT:{DSGNCYPRVCYPRGRMPGDNTFYGNCYSPNCLDPPRPRTCNTCTNFRMTNFFCNDCTNGNCYDSGNTDSP} '}"
      ]
     },
     "execution_count": 191,
     "metadata": {},
     "output_type": "execute_result"
    }
   ],
   "source": [
    "did = {}\n",
    "for i,r in df.iterrows(): \n",
    "    did[f'--\\s{r.IdText}\\s\\s'] = '--\\s ' + r.IdText + ' IDT:{' + r.QHASH + '} '\n",
    "with open(\"C:\\_som\\_src\\_compile\\saop\\did.json\", \"w\") as f: \n",
    "    json.dump(did, f, indent=4)\n",
    "did    \n"
   ]
  },
  {
   "cell_type": "code",
   "execution_count": 177,
   "metadata": {},
   "outputs": [],
   "source": []
  },
  {
   "cell_type": "code",
   "execution_count": 60,
   "metadata": {},
   "outputs": [],
   "source": [
    "conn.close()"
   ]
  },
  {
   "cell_type": "code",
   "execution_count": 166,
   "metadata": {
    "scrolled": true
   },
   "outputs": [
    {
     "data": {
      "text/plain": [
       "'HSLNGGSTCHNLGSPLTFRMSWBWBDRVR'"
      ]
     },
     "execution_count": 166,
     "metadata": {},
     "output_type": "execute_result"
    }
   ],
   "source": [
    "t = \"\"\"\n",
    "Has the as Languages technologies platforms is your web don't we have web driver \n",
    "\"\"\"\n",
    "def encode(t):\n",
    "    t = re.sub('[^A-Za-z0-9]', ' ', t ) \n",
    "    t = ' '.join([w for w in t.split(' ') if w not in sw])\n",
    "    #t = ' '.join([ps.stem(w) for w in t.split(' ')])\n",
    "    t = t.upper()\n",
    "    t = re.sub('[AEIOU\\s]', '', t)  \n",
    "    return t\n",
    "encode(t)"
   ]
  },
  {
   "cell_type": "code",
   "execution_count": null,
   "metadata": {},
   "outputs": [],
   "source": []
  }
 ],
 "metadata": {
  "kernelspec": {
   "display_name": "Python 3",
   "language": "python",
   "name": "python3"
  },
  "language_info": {
   "codemirror_mode": {
    "name": "ipython",
    "version": 3
   },
   "file_extension": ".py",
   "mimetype": "text/x-python",
   "name": "python",
   "nbconvert_exporter": "python",
   "pygments_lexer": "ipython3",
   "version": "3.8.8"
  }
 },
 "nbformat": 4,
 "nbformat_minor": 4
}
