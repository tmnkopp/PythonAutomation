{
 "cells": [
  {
   "cell_type": "code",
   "execution_count": 79,
   "source": [
    "import pandas as pd\r\n",
    "import re, subprocess, pyodbc \r\n",
    "import numpy as np # linear algebra \r\n",
    "from sqlalchemy import func, create_engine\r\n",
    "from config import mongoConn, connstr  \r\n",
    "import nltk\r\n",
    "from nltk.corpus import stopwords\r\n",
    "from nltk.stem.porter import PorterStemmer\r\n",
    "sw=stopwords.words('english')\r\n",
    "ps=PorterStemmer()"
   ],
   "outputs": [],
   "metadata": {}
  },
  {
   "cell_type": "code",
   "execution_count": null,
   "source": [
    "engine = create_engine(connstr)\r\n",
    "conn = engine.connect()\r\n",
    "query = \"\"\" \\\r\n",
    "SELECT \r\n",
    "CONVERT(NVARCHAR(15) , IdText) as IDT , \r\n",
    "REPLACE(IdText, '.','_') as IDT_ , \r\n",
    "CASE \r\n",
    "WHEN CONVERT(NVARCHAR(9),Section_Count) = '0' THEN '1a'\r\n",
    "WHEN CONVERT(NVARCHAR(9),Section_Count) = '1' THEN '1b'\r\n",
    "ELSE  CONVERT(NVARCHAR(9),Section_Count) \r\n",
    "END AS SEC \r\n",
    ", CONVERT(NVARCHAR(9) , QPK) as QPK\r\n",
    ", QTEXT as QTXT \r\n",
    "FROM vw_MetricsCompositeKeys WHERE PK_FORM = '2021-A-HVA'\r\n",
    "ORDER BY Section_Count ASC, SortPos ASC\r\n",
    "\"\"\" \r\n",
    "df = pd.read_sql(query,con=conn)   \r\n",
    "df.to_excel(r'C:\\Users\\Tim\\Documents\\1802\\BOD1802_2021.xlsx','AllMetrics') \r\n",
    "df"
   ],
   "outputs": [],
   "metadata": {
    "scrolled": true
   }
  },
  {
   "cell_type": "code",
   "execution_count": null,
   "source": [
    "df=df.loc[ df.IDT_.isin(['4_1_1','6_2_1','6_2_2','6_2_3','6_2_4','6_2_4_1','6_3_1_1' ]) ]\r\n",
    "df"
   ],
   "outputs": [],
   "metadata": {}
  },
  {
   "cell_type": "code",
   "execution_count": null,
   "source": [
    "aspx = '' \r\n",
    "for i,r in df.iterrows():  \r\n",
    "    s = open(f'C:\\\\_som\\\\_src\\\\TXT.aspx', 'r').read()\r\n",
    "    s = s.replace('{0}',str(r.QPK)).replace('{1}',str(r.IDT_)).replace('{4}',str(r.IDT_)+ ' : ' +str(r.QPK)+ '\\n\\t' +str(r.QTXT)).replace('{5}','')\r\n",
    "    s = s.replace('{2}',str(160))\r\n",
    "    df.loc[i, 'ASPX'] = s\r\n",
    "    aspx = aspx + s + '\\n'\r\n",
    "    print(df.loc[i, 'ASPX'] + '\\n\\n') \r\n",
    "  \r\n"
   ],
   "outputs": [],
   "metadata": {
    "scrolled": true
   }
  },
  {
   "cell_type": "code",
   "execution_count": null,
   "source": [
    "with open(r'C:\\\\_som\\\\_cache.txt', 'w') as file:\r\n",
    "  file.write(aspx)"
   ],
   "outputs": [],
   "metadata": {}
  },
  {
   "cell_type": "code",
   "execution_count": 60,
   "source": [
    "conn.close()"
   ],
   "outputs": [],
   "metadata": {}
  },
  {
   "cell_type": "code",
   "execution_count": 93,
   "source": [
    "t = \"\"\"\r\n",
    "Languages technologies platforms is your web don't we have web driver \r\n",
    "\"\"\"\r\n",
    "def encode(t):\r\n",
    "    t = ' '.join([w for w in t.split(' ') if w not in sw])\r\n",
    "    t = ' '.join([ps.stem(w) for w in t.split(' ')])\r\n",
    "    t = t.upper()\r\n",
    "    t = re.sub('[^A-Z0-9]', '', t )   \r\n",
    "    t = re.sub('[AEIOUY]', '', t)  \r\n",
    "    return t\r\n",
    "encode(t)"
   ],
   "outputs": [
    {
     "output_type": "execute_result",
     "data": {
      "text/plain": [
       "'LNGGTCHNLGPLTFRMWBWBDRVR'"
      ]
     },
     "metadata": {},
     "execution_count": 93
    }
   ],
   "metadata": {}
  },
  {
   "cell_type": "code",
   "execution_count": null,
   "source": [],
   "outputs": [],
   "metadata": {}
  }
 ],
 "metadata": {
  "kernelspec": {
   "display_name": "Python 3",
   "language": "python",
   "name": "python3"
  },
  "language_info": {
   "codemirror_mode": {
    "name": "ipython",
    "version": 3
   },
   "file_extension": ".py",
   "mimetype": "text/x-python",
   "name": "python",
   "nbconvert_exporter": "python",
   "pygments_lexer": "ipython3",
   "version": "3.8.3"
  }
 },
 "nbformat": 4,
 "nbformat_minor": 4
}